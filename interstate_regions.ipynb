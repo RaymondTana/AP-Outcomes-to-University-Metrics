{
 "cells": [
  {
   "cell_type": "markdown",
   "metadata": {},
   "source": [
    "# Inter-State Regions\n",
    "This notebook includes all of the inter-state regions that are implied in the U.S. Census Bureau's data defining Metropolian and Micropolitan areas (I only include Metropolitan areas). The dataset is called: [U.S. Census Bureau - Metropolitan and Micropolitan Statistical Areas](https://www.census.gov/programs-surveys/metro-micro.html). "
   ]
  },
  {
   "cell_type": "markdown",
   "metadata": {},
   "source": [
    "## Final List\n",
    "\n",
    "This is the final result of my processing. It's in the form of a dictionary where the name of the metropolitan area is the key, and a list of the included states is the value. "
   ]
  },
  {
   "cell_type": "code",
   "execution_count": 1,
   "metadata": {},
   "outputs": [],
   "source": [
    "regions_USCB = {\n",
    "    'Allentown-Bethlehem-East Stroudsburg, PA-NJ': ['NJ', 'PA'],\n",
    "    'Atlanta--Athens-Clarke County--Sandy Springs, GA-AL': ['AL', 'GA'],\n",
    "    'Boise City-Mountain Home-Ontario, ID-OR': ['ID', 'OR'],\n",
    "    'Boston-Worcester-Providence, MA-RI-NH': ['MA', 'NH', 'RI'],\n",
    "    'Brookings-Crescent City, OR-CA': ['CA', 'OR'],\n",
    "    'Burlington-Fort Madison, IA-IL': ['IA', 'IL'],\n",
    "    'Cape Girardeau-Sikeston, MO-IL': ['IL', 'MO'],\n",
    "    'Charleston-Huntington-Ashland, WV-OH-KY': ['KY', 'OH', 'WV'],\n",
    "    'Charlotte-Concord, NC-SC': ['NC', 'SC'],\n",
    "    'Chattanooga-Cleveland-Dalton, TN-GA-AL': ['AL', 'GA', 'TN'],\n",
    "    'Chicago-Naperville, IL-IN-WI': ['IL', 'IN', 'WI'],\n",
    "    'Cincinnati-Wilmington, OH-KY-IN': ['IN', 'KY', 'OH'],\n",
    "    'Columbus-Auburn-Opelika, GA-AL': ['AL', 'GA'],\n",
    "    'Dallas-Fort Worth, TX-OK': ['OK', 'TX'],\n",
    "    'Davenport-Moline, IA-IL': ['IA', 'IL'],\n",
    "    'Duluth-Grand Rapids, MN-WI': ['MN', 'WI'],\n",
    "    'El Paso-Las Cruces, TX-NM': ['NM', 'TX'],\n",
    "    'Evansville-Henderson, IN-KY': ['IN', 'KY'],\n",
    "    'Fargo-Wahpeton, ND-MN': ['MN', 'ND'],\n",
    "    'Huntsville-Decatur-Albertville, AL-TN': ['AL', 'TN'],\n",
    "    'Jacksonville-Kingsland-Palatka, FL-GA': ['FL', 'GA'],\n",
    "    'Johnson City-Kingsport-Bristol, TN-VA': ['TN', 'VA'],\n",
    "    'Joplin-Miami, MO-OK-KS': ['KS', 'MO', 'OK'],\n",
    "    'Kansas City-Overland Park-Kansas City, MO-KS': ['KS', 'MO'],\n",
    "    'Keene-Brattleboro, NH-VT': ['NH', 'VT'],\n",
    "    'La Crosse-Onalaska-Sparta, WI-MN': ['MN', 'WI'],\n",
    "    'Louisville/Jefferson County--Elizabethtown, KY-IN': ['IN', 'KY'],\n",
    "    'Marinette-Iron Mountain, WI-MI': ['MI', 'WI'],\n",
    "    'Memphis-Clarksdale-Forrest City, TN-MS-AR': ['AR', 'MS', 'TN'],\n",
    "    'Minneapolis-St. Paul, MN-WI': ['MN', 'WI'],\n",
    "    'New Orleans-Metairie-Slidell, LA-MS': ['LA', 'MS'],\n",
    "    'New York-Newark, NY-NJ-CT-PA': ['CT', 'NJ', 'NY', 'PA'],\n",
    "    'Omaha-Fremont, NE-IA': ['IA', 'NE'],\n",
    "    'Paducah-Mayfield, KY-IL': ['IL', 'KY'],\n",
    "    'Parkersburg-Marietta-Vienna, WV-OH': ['OH', 'WV'],\n",
    "    'Philadelphia-Reading-Camden, PA-NJ-DE-MD': ['DE', 'MD', 'NJ', 'PA'],\n",
    "    'Pittsburgh-Weirton-Steubenville, PA-OH-WV': ['OH', 'PA', 'WV'],\n",
    "    'Portland-Vancouver-Salem, OR-WA': ['OR', 'WA'],\n",
    "    'Pullman-Moscow, WA-ID': ['ID', 'WA'],\n",
    "    'Quincy-Hannibal, IL-MO': ['IL', 'MO'],\n",
    "    'Reno-Carson City-Gardnerville Ranchos, NV-CA': ['CA', 'NV'],\n",
    "    'Salt Lake City-Provo-Orem, UT-ID': ['ID', 'UT'],\n",
    "    'Sioux City-Le Mars, IA-NE-SD': ['IA', 'NE', 'SD'],\n",
    "    'South Bend-Elkhart-Mishawaka, IN-MI': ['IN', 'MI'],\n",
    "    \"Spokane-Spokane Valley-Coeur d'Alene, WA-ID\": ['ID', 'WA'],\n",
    "    'St. Louis-St. Charles-Farmington, MO-IL': ['IL', 'MO'],\n",
    "    'Tallahassee-Bainbridge, FL-GA': ['FL', 'GA'],\n",
    "    'Virginia Beach-Chesapeake, VA-NC': ['NC', 'VA'],\n",
    "    'Washington-Baltimore-Arlington, DC-MD-VA-WV-PA': ['DC', 'MD', 'PA', 'VA', 'WV']\n",
    "}"
   ]
  },
  {
   "cell_type": "markdown",
   "metadata": {},
   "source": [
    "## The Work\n",
    "\n",
    "This is how I produced the above list"
   ]
  },
  {
   "cell_type": "code",
   "execution_count": 2,
   "metadata": {},
   "outputs": [],
   "source": [
    "import pandas as pd\n",
    "import numpy as np\n",
    "\n",
    "politans_df = pd.read_csv('../personal_data/metro_micro.csv')[['CBSA Title', 'Metropolitan/Micropolitan Statistical Area', 'CSA Title']]"
   ]
  },
  {
   "cell_type": "code",
   "execution_count": 3,
   "metadata": {},
   "outputs": [],
   "source": [
    "# Extract the state abbreviation and augment with a new 'State' column\n",
    "politans_df['State'] = politans_df['CSA Title'].str.split(', ').str[-1].str.split('-')\n",
    "\n",
    "# Group by CSA Title (name of metro area)\n",
    "grouped = politans_df.groupby('CSA Title')['State']\n",
    "\n",
    "# For aggregating the states within a group\n",
    "def aggregate_states(states_series):\n",
    "    all_states = set()\n",
    "    for state_list in states_series:\n",
    "        all_states.update(state_list)\n",
    "    return sorted(all_states)\n",
    "\n",
    "# Apply aggregation\n",
    "regions_series = grouped.apply(aggregate_states)\n",
    "\n",
    "# Keep only those having at least two states\n",
    "regions_series_multi_state = regions_series[regions_series.apply(lambda x: len(x) > 1)]\n",
    "\n",
    "# Transform to a dictionary\n",
    "regions_dict = regions_series_multi_state.to_dict()\n",
    "\n",
    "# May also report just the state tuples\n",
    "regions = sorted({str(states_list).replace(\"'\", \"\") for states_list in regions_dict.values()})"
   ]
  },
  {
   "cell_type": "code",
   "execution_count": 4,
   "metadata": {},
   "outputs": [
    {
     "data": {
      "text/plain": [
       "{'Allentown-Bethlehem-East Stroudsburg, PA-NJ': ['NJ', 'PA'],\n",
       " 'Atlanta--Athens-Clarke County--Sandy Springs, GA-AL': ['AL', 'GA'],\n",
       " 'Boise City-Mountain Home-Ontario, ID-OR': ['ID', 'OR'],\n",
       " 'Boston-Worcester-Providence, MA-RI-NH': ['MA', 'NH', 'RI'],\n",
       " 'Brookings-Crescent City, OR-CA': ['CA', 'OR'],\n",
       " 'Burlington-Fort Madison, IA-IL': ['IA', 'IL'],\n",
       " 'Cape Girardeau-Sikeston, MO-IL': ['IL', 'MO'],\n",
       " 'Charleston-Huntington-Ashland, WV-OH-KY': ['KY', 'OH', 'WV'],\n",
       " 'Charlotte-Concord, NC-SC': ['NC', 'SC'],\n",
       " 'Chattanooga-Cleveland-Dalton, TN-GA-AL': ['AL', 'GA', 'TN'],\n",
       " 'Chicago-Naperville, IL-IN-WI': ['IL', 'IN', 'WI'],\n",
       " 'Cincinnati-Wilmington, OH-KY-IN': ['IN', 'KY', 'OH'],\n",
       " 'Columbus-Auburn-Opelika, GA-AL': ['AL', 'GA'],\n",
       " 'Dallas-Fort Worth, TX-OK': ['OK', 'TX'],\n",
       " 'Davenport-Moline, IA-IL': ['IA', 'IL'],\n",
       " 'Duluth-Grand Rapids, MN-WI': ['MN', 'WI'],\n",
       " 'El Paso-Las Cruces, TX-NM': ['NM', 'TX'],\n",
       " 'Evansville-Henderson, IN-KY': ['IN', 'KY'],\n",
       " 'Fargo-Wahpeton, ND-MN': ['MN', 'ND'],\n",
       " 'Huntsville-Decatur-Albertville, AL-TN': ['AL', 'TN'],\n",
       " 'Jacksonville-Kingsland-Palatka, FL-GA': ['FL', 'GA'],\n",
       " 'Johnson City-Kingsport-Bristol, TN-VA': ['TN', 'VA'],\n",
       " 'Joplin-Miami, MO-OK-KS': ['KS', 'MO', 'OK'],\n",
       " 'Kansas City-Overland Park-Kansas City, MO-KS': ['KS', 'MO'],\n",
       " 'Keene-Brattleboro, NH-VT': ['NH', 'VT'],\n",
       " 'La Crosse-Onalaska-Sparta, WI-MN': ['MN', 'WI'],\n",
       " 'Louisville/Jefferson County--Elizabethtown, KY-IN': ['IN', 'KY'],\n",
       " 'Marinette-Iron Mountain, WI-MI': ['MI', 'WI'],\n",
       " 'Memphis-Clarksdale-Forrest City, TN-MS-AR': ['AR', 'MS', 'TN'],\n",
       " 'Minneapolis-St. Paul, MN-WI': ['MN', 'WI'],\n",
       " 'New Orleans-Metairie-Slidell, LA-MS': ['LA', 'MS'],\n",
       " 'New York-Newark, NY-NJ-CT-PA': ['CT', 'NJ', 'NY', 'PA'],\n",
       " 'Omaha-Fremont, NE-IA': ['IA', 'NE'],\n",
       " 'Paducah-Mayfield, KY-IL': ['IL', 'KY'],\n",
       " 'Parkersburg-Marietta-Vienna, WV-OH': ['OH', 'WV'],\n",
       " 'Philadelphia-Reading-Camden, PA-NJ-DE-MD': ['DE', 'MD', 'NJ', 'PA'],\n",
       " 'Pittsburgh-Weirton-Steubenville, PA-OH-WV': ['OH', 'PA', 'WV'],\n",
       " 'Portland-Vancouver-Salem, OR-WA': ['OR', 'WA'],\n",
       " 'Pullman-Moscow, WA-ID': ['ID', 'WA'],\n",
       " 'Quincy-Hannibal, IL-MO': ['IL', 'MO'],\n",
       " 'Reno-Carson City-Gardnerville Ranchos, NV-CA': ['CA', 'NV'],\n",
       " 'Salt Lake City-Provo-Orem, UT-ID': ['ID', 'UT'],\n",
       " 'Sioux City-Le Mars, IA-NE-SD': ['IA', 'NE', 'SD'],\n",
       " 'South Bend-Elkhart-Mishawaka, IN-MI': ['IN', 'MI'],\n",
       " \"Spokane-Spokane Valley-Coeur d'Alene, WA-ID\": ['ID', 'WA'],\n",
       " 'St. Louis-St. Charles-Farmington, MO-IL': ['IL', 'MO'],\n",
       " 'Tallahassee-Bainbridge, FL-GA': ['FL', 'GA'],\n",
       " 'Virginia Beach-Chesapeake, VA-NC': ['NC', 'VA'],\n",
       " 'Washington-Baltimore-Arlington, DC-MD-VA-WV-PA': ['DC',\n",
       "  'MD',\n",
       "  'PA',\n",
       "  'VA',\n",
       "  'WV']}"
      ]
     },
     "execution_count": 4,
     "metadata": {},
     "output_type": "execute_result"
    }
   ],
   "source": [
    "regions_dict"
   ]
  },
  {
   "cell_type": "code",
   "execution_count": 5,
   "metadata": {},
   "outputs": [
    {
     "data": {
      "text/plain": [
       "['[AL, GA, TN]',\n",
       " '[AL, GA]',\n",
       " '[AL, TN]',\n",
       " '[AR, MS, TN]',\n",
       " '[CA, NV]',\n",
       " '[CA, OR]',\n",
       " '[CT, NJ, NY, PA]',\n",
       " '[DC, MD, PA, VA, WV]',\n",
       " '[DE, MD, NJ, PA]',\n",
       " '[FL, GA]',\n",
       " '[IA, IL]',\n",
       " '[IA, NE, SD]',\n",
       " '[IA, NE]',\n",
       " '[ID, OR]',\n",
       " '[ID, UT]',\n",
       " '[ID, WA]',\n",
       " '[IL, IN, WI]',\n",
       " '[IL, KY]',\n",
       " '[IL, MO]',\n",
       " '[IN, KY, OH]',\n",
       " '[IN, KY]',\n",
       " '[IN, MI]',\n",
       " '[KS, MO, OK]',\n",
       " '[KS, MO]',\n",
       " '[KY, OH, WV]',\n",
       " '[LA, MS]',\n",
       " '[MA, NH, RI]',\n",
       " '[MI, WI]',\n",
       " '[MN, ND]',\n",
       " '[MN, WI]',\n",
       " '[NC, SC]',\n",
       " '[NC, VA]',\n",
       " '[NH, VT]',\n",
       " '[NJ, PA]',\n",
       " '[NM, TX]',\n",
       " '[OH, PA, WV]',\n",
       " '[OH, WV]',\n",
       " '[OK, TX]',\n",
       " '[OR, WA]',\n",
       " '[TN, VA]']"
      ]
     },
     "execution_count": 5,
     "metadata": {},
     "output_type": "execute_result"
    }
   ],
   "source": [
    "regions"
   ]
  },
  {
   "cell_type": "markdown",
   "metadata": {},
   "source": [
    "## Create `interstate_regions.csv`"
   ]
  },
  {
   "cell_type": "code",
   "execution_count": 9,
   "metadata": {},
   "outputs": [],
   "source": [
    "regions_series_multi_state.to_csv('interstate_regions.csv')"
   ]
  },
  {
   "cell_type": "markdown",
   "metadata": {},
   "source": [
    "## Read `interstate_regions.csv`"
   ]
  },
  {
   "cell_type": "code",
   "execution_count": 25,
   "metadata": {},
   "outputs": [
    {
     "data": {
      "text/plain": [
       "{'Allentown-Bethlehem-East Stroudsburg, PA-NJ': ['NJ', 'PA'],\n",
       " 'Atlanta--Athens-Clarke County--Sandy Springs, GA-AL': ['AL', 'GA'],\n",
       " 'Boise City-Mountain Home-Ontario, ID-OR': ['ID', 'OR'],\n",
       " 'Boston-Worcester-Providence, MA-RI-NH': ['MA', 'NH', 'RI'],\n",
       " 'Brookings-Crescent City, OR-CA': ['CA', 'OR'],\n",
       " 'Burlington-Fort Madison, IA-IL': ['IA', 'IL'],\n",
       " 'Cape Girardeau-Sikeston, MO-IL': ['IL', 'MO'],\n",
       " 'Charleston-Huntington-Ashland, WV-OH-KY': ['KY', 'OH', 'WV'],\n",
       " 'Charlotte-Concord, NC-SC': ['NC', 'SC'],\n",
       " 'Chattanooga-Cleveland-Dalton, TN-GA-AL': ['AL', 'GA', 'TN'],\n",
       " 'Chicago-Naperville, IL-IN-WI': ['IL', 'IN', 'WI'],\n",
       " 'Cincinnati-Wilmington, OH-KY-IN': ['IN', 'KY', 'OH'],\n",
       " 'Columbus-Auburn-Opelika, GA-AL': ['AL', 'GA'],\n",
       " 'Dallas-Fort Worth, TX-OK': ['OK', 'TX'],\n",
       " 'Davenport-Moline, IA-IL': ['IA', 'IL'],\n",
       " 'Duluth-Grand Rapids, MN-WI': ['MN', 'WI'],\n",
       " 'El Paso-Las Cruces, TX-NM': ['NM', 'TX'],\n",
       " 'Evansville-Henderson, IN-KY': ['IN', 'KY'],\n",
       " 'Fargo-Wahpeton, ND-MN': ['MN', 'ND'],\n",
       " 'Huntsville-Decatur-Albertville, AL-TN': ['AL', 'TN'],\n",
       " 'Jacksonville-Kingsland-Palatka, FL-GA': ['FL', 'GA'],\n",
       " 'Johnson City-Kingsport-Bristol, TN-VA': ['TN', 'VA'],\n",
       " 'Joplin-Miami, MO-OK-KS': ['KS', 'MO', 'OK'],\n",
       " 'Kansas City-Overland Park-Kansas City, MO-KS': ['KS', 'MO'],\n",
       " 'Keene-Brattleboro, NH-VT': ['NH', 'VT'],\n",
       " 'La Crosse-Onalaska-Sparta, WI-MN': ['MN', 'WI'],\n",
       " 'Louisville/Jefferson County--Elizabethtown, KY-IN': ['IN', 'KY'],\n",
       " 'Marinette-Iron Mountain, WI-MI': ['MI', 'WI'],\n",
       " 'Memphis-Clarksdale-Forrest City, TN-MS-AR': ['AR', 'MS', 'TN'],\n",
       " 'Minneapolis-St. Paul, MN-WI': ['MN', 'WI'],\n",
       " 'New Orleans-Metairie-Slidell, LA-MS': ['LA', 'MS'],\n",
       " 'New York-Newark, NY-NJ-CT-PA': ['CT', 'NJ', 'NY', 'PA'],\n",
       " 'Omaha-Fremont, NE-IA': ['IA', 'NE'],\n",
       " 'Paducah-Mayfield, KY-IL': ['IL', 'KY'],\n",
       " 'Parkersburg-Marietta-Vienna, WV-OH': ['OH', 'WV'],\n",
       " 'Philadelphia-Reading-Camden, PA-NJ-DE-MD': ['DE', 'MD', 'NJ', 'PA'],\n",
       " 'Pittsburgh-Weirton-Steubenville, PA-OH-WV': ['OH', 'PA', 'WV'],\n",
       " 'Portland-Vancouver-Salem, OR-WA': ['OR', 'WA'],\n",
       " 'Pullman-Moscow, WA-ID': ['ID', 'WA'],\n",
       " 'Quincy-Hannibal, IL-MO': ['IL', 'MO'],\n",
       " 'Reno-Carson City-Gardnerville Ranchos, NV-CA': ['CA', 'NV'],\n",
       " 'Salt Lake City-Provo-Orem, UT-ID': ['ID', 'UT'],\n",
       " 'Sioux City-Le Mars, IA-NE-SD': ['IA', 'NE', 'SD'],\n",
       " 'South Bend-Elkhart-Mishawaka, IN-MI': ['IN', 'MI'],\n",
       " \"Spokane-Spokane Valley-Coeur d'Alene, WA-ID\": ['ID', 'WA'],\n",
       " 'St. Louis-St. Charles-Farmington, MO-IL': ['IL', 'MO'],\n",
       " 'Tallahassee-Bainbridge, FL-GA': ['FL', 'GA'],\n",
       " 'Virginia Beach-Chesapeake, VA-NC': ['NC', 'VA'],\n",
       " 'Washington-Baltimore-Arlington, DC-MD-VA-WV-PA': ['DC',\n",
       "  'MD',\n",
       "  'PA',\n",
       "  'VA',\n",
       "  'WV']}"
      ]
     },
     "execution_count": 25,
     "metadata": {},
     "output_type": "execute_result"
    }
   ],
   "source": [
    "import ast\n",
    "df = pd.read_csv(\"interstate_regions.csv\", index_col=0)\n",
    "d = df.to_dict('split')\n",
    "d = dict(zip(d[\"index\"], d[\"data\"]))\n",
    "regions_dict = {key: ast.literal_eval(value[0]) for key, value in d.items()}\n",
    "\n",
    "regions_dict\n"
   ]
  }
 ],
 "metadata": {
  "kernelspec": {
   "display_name": "erdos_fall_2024",
   "language": "python",
   "name": "python3"
  },
  "language_info": {
   "codemirror_mode": {
    "name": "ipython",
    "version": 3
   },
   "file_extension": ".py",
   "mimetype": "text/x-python",
   "name": "python",
   "nbconvert_exporter": "python",
   "pygments_lexer": "ipython3",
   "version": "3.12.5"
  }
 },
 "nbformat": 4,
 "nbformat_minor": 2
}
