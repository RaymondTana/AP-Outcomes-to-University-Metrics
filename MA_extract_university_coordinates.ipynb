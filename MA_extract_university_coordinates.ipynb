{
 "cells": [
  {
   "cell_type": "code",
   "execution_count": 1,
   "id": "58fb8968-ca97-40d4-b6ab-3813c8234ff9",
   "metadata": {},
   "outputs": [],
   "source": [
    "import pandas as pd\n",
    "import numpy as np"
   ]
  },
  {
   "cell_type": "markdown",
   "id": "9f9cb738-9169-4aae-87ca-ef3b9e496487",
   "metadata": {},
   "source": [
    "#### get the unitid, insitute name, city, county name, and the coordiate"
   ]
  },
  {
   "cell_type": "code",
   "execution_count": null,
   "id": "f246fa76-72a4-4079-9b53-55b19a44b3a7",
   "metadata": {},
   "outputs": [],
   "source": [
    "CCIHE2021_data_MA = pd.read_excel('data/CCIHE2021-PublicData.xlsx', sheet_name = 'Data')\n",
    "CCIHE2021_data_MA = CCIHE2021_data_MA[CCIHE2021_data_MA['stabbr'] == 'MA'].sort_values(by='unitid')"
   ]
  },
  {
   "cell_type": "code",
   "execution_count": null,
   "id": "2581305b-a0b6-435c-b684-5fb78111925e",
   "metadata": {},
   "outputs": [],
   "source": [
    "CCIHE2021_data_MA = CCIHE2021_data_MA[['unitid', 'name', 'city', 'control']]\n",
    "CCIHE2021_data_MA = CCIHE2021_data_MA[CCIHE2021_data_MA['control'].isin([1, 2])]"
   ]
  },
  {
   "cell_type": "code",
   "execution_count": null,
   "id": "b1bbea9b-4a20-4478-9497-6a1e353a66f9",
   "metadata": {},
   "outputs": [],
   "source": [
    "CCIHE2021_data_MA"
   ]
  },
  {
   "cell_type": "markdown",
   "id": "112179c2-154f-41c8-827d-99a89175fff9",
   "metadata": {},
   "source": [
    "# In this notebook, I extract the university coordinates from hd2023.xlsx dataset. The states considered here are MA, NY, CT, NH, and RI.\n",
    "\n",
    "### Three types of university considered here are:\n",
    "- R1 and R2 universities\n",
    "- Public universities\n",
    "- Private not-for-profit"
   ]
  },
  {
   "cell_type": "code",
   "execution_count": 2,
   "id": "6a0277a2-b494-448e-beb2-2863540d3bfe",
   "metadata": {},
   "outputs": [],
   "source": [
    "state_name_abbrev_arr = ['MA', 'NY', 'CT', 'NH', 'RI']\n",
    "\n",
    "hd2023_data = pd.read_excel('data/hd2023.xlsx')\n",
    "CCIHE2021_data = pd.read_excel('data/CCIHE2021-PublicData.xlsx', sheet_name = 'Data')"
   ]
  },
  {
   "cell_type": "code",
   "execution_count": 3,
   "id": "9594703a-fa3c-40d4-a546-d8309269dd07",
   "metadata": {},
   "outputs": [],
   "source": [
    "'''\n",
    "(1) R1 and R2 universities\n",
    "'''\n",
    "\n",
    "for state_name_abbrev in state_name_abbrev_arr:\n",
    "\n",
    "    hd2023_data_state = hd2023_data[hd2023_data['STABBR'] == state_name_abbrev]\n",
    "    hd2023_data_state = hd2023_data_state[['UNITID', 'INSTNM', 'CITY', 'COUNTYNM', 'LONGITUD', 'LATITUDE']].sort_values(by='UNITID')\n",
    "\n",
    "    CCIHE2021_data_state = CCIHE2021_data[CCIHE2021_data['stabbr'] == state_name_abbrev].sort_values(by='unitid')\n",
    "    \n",
    "    CCIHE2021_data_state = CCIHE2021_data_state[['unitid', 'name', 'city', 'basic2021']]\n",
    "    CCIHE2021_data_state = CCIHE2021_data_state[CCIHE2021_data_state['basic2021'].isin([15, 16])]\n",
    "\n",
    "    hd2023_data_state['R1R2'] = hd2023_data_state['UNITID'].isin(CCIHE2021_data_state['unitid'])\n",
    "    hd2023_data_state = hd2023_data_state[hd2023_data_state['R1R2'] == True]\n",
    "    \n",
    "    hd2023_data_state.to_excel('data/MA_AP_performance/hd2023_coordinate/hd2023_R1R2_data_%s.xlsx'%state_name_abbrev, index=False)"
   ]
  },
  {
   "cell_type": "code",
   "execution_count": 4,
   "id": "5aff4d23-446e-436c-bfc2-501bb532c407",
   "metadata": {},
   "outputs": [],
   "source": [
    "'''\n",
    "(2) Public universities\n",
    "'''\n",
    "\n",
    "for state_name_abbrev in state_name_abbrev_arr:\n",
    "\n",
    "    hd2023_data_state = hd2023_data[hd2023_data['STABBR'] == state_name_abbrev]\n",
    "    hd2023_data_state = hd2023_data_state[['UNITID', 'INSTNM', 'CITY', 'COUNTYNM', 'LONGITUD', 'LATITUDE']].sort_values(by='UNITID')\n",
    "\n",
    "    CCIHE2021_data_state = CCIHE2021_data[CCIHE2021_data['stabbr'] == state_name_abbrev].sort_values(by='unitid')\n",
    "    \n",
    "    CCIHE2021_data_state = CCIHE2021_data_state[['unitid', 'name', 'city', 'control']]\n",
    "    CCIHE2021_data_state = CCIHE2021_data_state[CCIHE2021_data_state['control'].isin([1])]\n",
    "\n",
    "    hd2023_data_state['Public university'] = hd2023_data_state['UNITID'].isin(CCIHE2021_data_state['unitid'])\n",
    "    hd2023_data_state = hd2023_data_state[hd2023_data_state['Public university'] == True]\n",
    "    \n",
    "    hd2023_data_state.to_excel('data/MA_AP_performance/hd2023_coordinate/hd2023_public_university_data_%s.xlsx'%state_name_abbrev, index=False)"
   ]
  },
  {
   "cell_type": "code",
   "execution_count": 5,
   "id": "b8abd9a1-e742-4985-be0b-a1ec833fc036",
   "metadata": {},
   "outputs": [],
   "source": [
    "'''\n",
    "(3) Private not-for-profit\n",
    "'''\n",
    "\n",
    "for state_name_abbrev in state_name_abbrev_arr:\n",
    "\n",
    "    hd2023_data_state = hd2023_data[hd2023_data['STABBR'] == state_name_abbrev]\n",
    "    hd2023_data_state = hd2023_data_state[['UNITID', 'INSTNM', 'CITY', 'COUNTYNM', 'LONGITUD', 'LATITUDE']].sort_values(by='UNITID')\n",
    "\n",
    "    CCIHE2021_data_state = CCIHE2021_data[CCIHE2021_data['stabbr'] == state_name_abbrev].sort_values(by='unitid')\n",
    "    \n",
    "    CCIHE2021_data_state = CCIHE2021_data_state[['unitid', 'name', 'city', 'control']]\n",
    "    CCIHE2021_data_state = CCIHE2021_data_state[CCIHE2021_data_state['control'].isin([2])]\n",
    "\n",
    "    hd2023_data_state['Private not-for-profit'] = hd2023_data_state['UNITID'].isin(CCIHE2021_data_state['unitid'])\n",
    "    hd2023_data_state = hd2023_data_state[hd2023_data_state['Private not-for-profit'] == True]\n",
    "    \n",
    "    hd2023_data_state.to_excel('data/MA_AP_performance/hd2023_coordinate/hd2023_private_notforprofit_data_%s.xlsx'%state_name_abbrev, index=False)"
   ]
  },
  {
   "cell_type": "code",
   "execution_count": null,
   "id": "0eb6691b-8702-49fa-9bf2-eee3fa35c44c",
   "metadata": {},
   "outputs": [],
   "source": []
  }
 ],
 "metadata": {
  "kernelspec": {
   "display_name": "Python 3 (ipykernel)",
   "language": "python",
   "name": "python3"
  },
  "language_info": {
   "codemirror_mode": {
    "name": "ipython",
    "version": 3
   },
   "file_extension": ".py",
   "mimetype": "text/x-python",
   "name": "python",
   "nbconvert_exporter": "python",
   "pygments_lexer": "ipython3",
   "version": "3.12.5"
  }
 },
 "nbformat": 4,
 "nbformat_minor": 5
}
