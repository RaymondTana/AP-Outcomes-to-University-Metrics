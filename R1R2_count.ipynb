{
 "cells": [
  {
   "cell_type": "code",
   "execution_count": 2,
   "metadata": {},
   "outputs": [],
   "source": [
    "import pandas as pd"
   ]
  },
  {
   "cell_type": "code",
   "execution_count": 3,
   "metadata": {},
   "outputs": [],
   "source": [
    "df=pd.read_excel('data/CCIHE2021-PublicData.xlsx',sheet_name='Data') # Carnegie university clasification as dataframe"
   ]
  },
  {
   "cell_type": "code",
   "execution_count": 4,
   "metadata": {},
   "outputs": [
    {
     "data": {
      "text/html": [
       "<div>\n",
       "<style scoped>\n",
       "    .dataframe tbody tr th:only-of-type {\n",
       "        vertical-align: middle;\n",
       "    }\n",
       "\n",
       "    .dataframe tbody tr th {\n",
       "        vertical-align: top;\n",
       "    }\n",
       "\n",
       "    .dataframe thead th {\n",
       "        text-align: right;\n",
       "    }\n",
       "</style>\n",
       "<table border=\"1\" class=\"dataframe\">\n",
       "  <thead>\n",
       "    <tr style=\"text-align: right;\">\n",
       "      <th></th>\n",
       "      <th>unitid</th>\n",
       "      <th>name</th>\n",
       "      <th>city</th>\n",
       "      <th>stabbr</th>\n",
       "      <th>basic2000</th>\n",
       "      <th>basic2005</th>\n",
       "      <th>basic2010</th>\n",
       "      <th>basic2015</th>\n",
       "      <th>basic2018</th>\n",
       "      <th>basic2021</th>\n",
       "      <th>...</th>\n",
       "      <th>satv25</th>\n",
       "      <th>satm25</th>\n",
       "      <th>satcmb25</th>\n",
       "      <th>actcmp25</th>\n",
       "      <th>satacteq25</th>\n",
       "      <th>actfinal</th>\n",
       "      <th>appsf20</th>\n",
       "      <th>admitsf20</th>\n",
       "      <th>pctadmitf20</th>\n",
       "      <th>selindex</th>\n",
       "    </tr>\n",
       "  </thead>\n",
       "  <tbody>\n",
       "    <tr>\n",
       "      <th>0</th>\n",
       "      <td>100654</td>\n",
       "      <td>Alabama A &amp; M University</td>\n",
       "      <td>Normal</td>\n",
       "      <td>AL</td>\n",
       "      <td>16</td>\n",
       "      <td>18</td>\n",
       "      <td>18</td>\n",
       "      <td>18</td>\n",
       "      <td>18</td>\n",
       "      <td>18</td>\n",
       "      <td>...</td>\n",
       "      <td>430.0</td>\n",
       "      <td>410.0</td>\n",
       "      <td>840.0</td>\n",
       "      <td>15.0</td>\n",
       "      <td>15.0</td>\n",
       "      <td>15.000000</td>\n",
       "      <td>9855.0</td>\n",
       "      <td>8835.0</td>\n",
       "      <td>0.896499</td>\n",
       "      <td>1.0</td>\n",
       "    </tr>\n",
       "    <tr>\n",
       "      <th>1</th>\n",
       "      <td>100663</td>\n",
       "      <td>University of Alabama at Birmingham</td>\n",
       "      <td>Birmingham</td>\n",
       "      <td>AL</td>\n",
       "      <td>15</td>\n",
       "      <td>15</td>\n",
       "      <td>15</td>\n",
       "      <td>15</td>\n",
       "      <td>15</td>\n",
       "      <td>15</td>\n",
       "      <td>...</td>\n",
       "      <td>560.0</td>\n",
       "      <td>530.0</td>\n",
       "      <td>1090.0</td>\n",
       "      <td>22.0</td>\n",
       "      <td>21.0</td>\n",
       "      <td>21.875310</td>\n",
       "      <td>10391.0</td>\n",
       "      <td>8375.0</td>\n",
       "      <td>0.805986</td>\n",
       "      <td>2.0</td>\n",
       "    </tr>\n",
       "    <tr>\n",
       "      <th>2</th>\n",
       "      <td>100690</td>\n",
       "      <td>Amridge University</td>\n",
       "      <td>Montgomery</td>\n",
       "      <td>AL</td>\n",
       "      <td>51</td>\n",
       "      <td>24</td>\n",
       "      <td>24</td>\n",
       "      <td>20</td>\n",
       "      <td>20</td>\n",
       "      <td>20</td>\n",
       "      <td>...</td>\n",
       "      <td>0.0</td>\n",
       "      <td>0.0</td>\n",
       "      <td>0.0</td>\n",
       "      <td>0.0</td>\n",
       "      <td>0.0</td>\n",
       "      <td>0.000000</td>\n",
       "      <td>0.0</td>\n",
       "      <td>0.0</td>\n",
       "      <td>0.000000</td>\n",
       "      <td>1.0</td>\n",
       "    </tr>\n",
       "    <tr>\n",
       "      <th>3</th>\n",
       "      <td>100706</td>\n",
       "      <td>University of Alabama in Huntsville</td>\n",
       "      <td>Huntsville</td>\n",
       "      <td>AL</td>\n",
       "      <td>16</td>\n",
       "      <td>16</td>\n",
       "      <td>15</td>\n",
       "      <td>16</td>\n",
       "      <td>16</td>\n",
       "      <td>15</td>\n",
       "      <td>...</td>\n",
       "      <td>590.0</td>\n",
       "      <td>580.0</td>\n",
       "      <td>1170.0</td>\n",
       "      <td>24.0</td>\n",
       "      <td>24.0</td>\n",
       "      <td>24.000000</td>\n",
       "      <td>5793.0</td>\n",
       "      <td>4467.0</td>\n",
       "      <td>0.771103</td>\n",
       "      <td>3.0</td>\n",
       "    </tr>\n",
       "    <tr>\n",
       "      <th>4</th>\n",
       "      <td>100724</td>\n",
       "      <td>Alabama State University</td>\n",
       "      <td>Montgomery</td>\n",
       "      <td>AL</td>\n",
       "      <td>21</td>\n",
       "      <td>18</td>\n",
       "      <td>18</td>\n",
       "      <td>19</td>\n",
       "      <td>19</td>\n",
       "      <td>17</td>\n",
       "      <td>...</td>\n",
       "      <td>438.0</td>\n",
       "      <td>406.0</td>\n",
       "      <td>840.0</td>\n",
       "      <td>14.0</td>\n",
       "      <td>15.0</td>\n",
       "      <td>14.298675</td>\n",
       "      <td>7027.0</td>\n",
       "      <td>6948.0</td>\n",
       "      <td>0.988758</td>\n",
       "      <td>1.0</td>\n",
       "    </tr>\n",
       "  </tbody>\n",
       "</table>\n",
       "<p>5 rows × 103 columns</p>\n",
       "</div>"
      ],
      "text/plain": [
       "   unitid                                 name        city stabbr  basic2000  \\\n",
       "0  100654             Alabama A & M University      Normal     AL         16   \n",
       "1  100663  University of Alabama at Birmingham  Birmingham     AL         15   \n",
       "2  100690                   Amridge University  Montgomery     AL         51   \n",
       "3  100706  University of Alabama in Huntsville  Huntsville     AL         16   \n",
       "4  100724             Alabama State University  Montgomery     AL         21   \n",
       "\n",
       "   basic2005  basic2010  basic2015  basic2018  basic2021  ...  satv25  satm25  \\\n",
       "0         18         18         18         18         18  ...   430.0   410.0   \n",
       "1         15         15         15         15         15  ...   560.0   530.0   \n",
       "2         24         24         20         20         20  ...     0.0     0.0   \n",
       "3         16         15         16         16         15  ...   590.0   580.0   \n",
       "4         18         18         19         19         17  ...   438.0   406.0   \n",
       "\n",
       "   satcmb25  actcmp25  satacteq25   actfinal  appsf20  admitsf20  pctadmitf20  \\\n",
       "0     840.0      15.0        15.0  15.000000   9855.0     8835.0     0.896499   \n",
       "1    1090.0      22.0        21.0  21.875310  10391.0     8375.0     0.805986   \n",
       "2       0.0       0.0         0.0   0.000000      0.0        0.0     0.000000   \n",
       "3    1170.0      24.0        24.0  24.000000   5793.0     4467.0     0.771103   \n",
       "4     840.0      14.0        15.0  14.298675   7027.0     6948.0     0.988758   \n",
       "\n",
       "   selindex  \n",
       "0       1.0  \n",
       "1       2.0  \n",
       "2       1.0  \n",
       "3       3.0  \n",
       "4       1.0  \n",
       "\n",
       "[5 rows x 103 columns]"
      ]
     },
     "execution_count": 4,
     "metadata": {},
     "output_type": "execute_result"
    }
   ],
   "source": [
    "df.head()"
   ]
  },
  {
   "cell_type": "code",
   "execution_count": 5,
   "metadata": {},
   "outputs": [
    {
     "data": {
      "text/plain": [
       "Index(['unitid', 'name', 'city', 'stabbr', 'basic2000', 'basic2005',\n",
       "       'basic2010', 'basic2015', 'basic2018', 'basic2021',\n",
       "       ...\n",
       "       'satv25', 'satm25', 'satcmb25', 'actcmp25', 'satacteq25', 'actfinal',\n",
       "       'appsf20', 'admitsf20', 'pctadmitf20', 'selindex'],\n",
       "      dtype='object', length=103)"
      ]
     },
     "execution_count": 5,
     "metadata": {},
     "output_type": "execute_result"
    }
   ],
   "source": [
    "df.columns  #Returns the names of all the columns."
   ]
  },
  {
   "cell_type": "code",
   "execution_count": 6,
   "metadata": {},
   "outputs": [
    {
     "name": "stdout",
     "output_type": "stream",
     "text": [
      "<class 'pandas.core.frame.DataFrame'>\n",
      "RangeIndex: 3939 entries, 0 to 3938\n",
      "Columns: 103 entries, unitid to selindex\n",
      "dtypes: float64(32), int64(68), object(3)\n",
      "memory usage: 3.1+ MB\n"
     ]
    }
   ],
   "source": [
    "df.info()"
   ]
  },
  {
   "cell_type": "code",
   "execution_count": 7,
   "metadata": {},
   "outputs": [
    {
     "data": {
      "text/plain": [
       "array(['AL', 'AK', 'WA', 'AZ', 'NM', 'AR', 'CA', 'MN', 'CO', 'CT', 'DE',\n",
       "       'DC', 'FL', 'GA', 'HI', 'ID', 'IL', 'IN', 'IA', 'KS', 'MO', 'KY',\n",
       "       'LA', 'ME', 'MD', 'MA', 'MI', 'MS', 'MT', 'NE', 'NV', 'NH', 'NJ',\n",
       "       'NY', 'NC', 'ND', 'OH', 'OK', 'OR', 'PA', 'RI', 'SC', 'SD', 'TN',\n",
       "       'TX', 'UT', 'VT', 'VA', 'WV', 'WI', 'WY', 'AS', 'GU', 'MP', 'PR',\n",
       "       'FM', 'PW', 'VI', 'MH'], dtype=object)"
      ]
     },
     "execution_count": 7,
     "metadata": {},
     "output_type": "execute_result"
    }
   ],
   "source": [
    "df.stabbr.unique()  #list of all states and territories mentioned in the data."
   ]
  },
  {
   "cell_type": "markdown",
   "metadata": {},
   "source": [
    "Besides the 50 US states and DC, this array includes other US territories as well. College board either does not include these territories in their data or combine them together to \"US territories\" column. So, probably we would want to ignore them. It seems they all appear after 'WY' in the above list of states and territories."
   ]
  },
  {
   "cell_type": "code",
   "execution_count": 8,
   "metadata": {},
   "outputs": [],
   "source": [
    "territories = ['AS','GU','MP','FM','PW','VI','MH','PR']  #US territories that appear in the data (excluding DC)"
   ]
  },
  {
   "cell_type": "code",
   "execution_count": 9,
   "metadata": {},
   "outputs": [
    {
     "data": {
      "text/plain": [
       "array(['AL', 'AK', 'AZ', 'AR', 'CA', 'CO', 'CT', 'DE', 'DC', 'FL', 'GA',\n",
       "       'HI', 'ID', 'IL', 'IN', 'IA', 'KS', 'KY', 'LA', 'ME', 'MD', 'MA',\n",
       "       'MI', 'MN', 'MS', 'MO', 'MT', 'NE', 'NV', 'NH', 'NJ', 'NM', 'NY',\n",
       "       'NC', 'ND', 'OH', 'OK', 'OR', 'PA', 'RI', 'SC', 'SD', 'TN', 'TX',\n",
       "       'UT', 'VT', 'VA', 'WA', 'WV', 'WI', 'WY', 'PR'], dtype=object)"
      ]
     },
     "execution_count": 9,
     "metadata": {},
     "output_type": "execute_result"
    }
   ],
   "source": [
    "df[df['basic2021'].isin([15,16])].stabbr.unique()  #The states that contain R1/R2 universities in 2021."
   ]
  },
  {
   "cell_type": "code",
   "execution_count": 10,
   "metadata": {},
   "outputs": [],
   "source": [
    "df = df.drop(df[df['stabbr'].isin(territories)].index)  #Drop all the states from the list \"territories\""
   ]
  },
  {
   "cell_type": "code",
   "execution_count": 11,
   "metadata": {},
   "outputs": [
    {
     "data": {
      "text/plain": [
       "array(['AL', 'AK', 'WA', 'AZ', 'NM', 'AR', 'CA', 'MN', 'CO', 'CT', 'DE',\n",
       "       'DC', 'FL', 'GA', 'HI', 'ID', 'IL', 'IN', 'IA', 'KS', 'MO', 'KY',\n",
       "       'LA', 'ME', 'MD', 'MA', 'MI', 'MS', 'MT', 'NE', 'NV', 'NH', 'NJ',\n",
       "       'NY', 'NC', 'ND', 'OH', 'OK', 'OR', 'PA', 'RI', 'SC', 'SD', 'TN',\n",
       "       'TX', 'UT', 'VT', 'VA', 'WV', 'WI', 'WY'], dtype=object)"
      ]
     },
     "execution_count": 11,
     "metadata": {},
     "output_type": "execute_result"
    }
   ],
   "source": [
    "df.stabbr.unique()  #Now we can see there are exactly 51 unique entries in stabbr."
   ]
  },
  {
   "cell_type": "code",
   "execution_count": 12,
   "metadata": {},
   "outputs": [],
   "source": [
    "carnegie21=df[['name','city','stabbr','basic2021']]  #New dataframe with only basic classification in 2021"
   ]
  },
  {
   "cell_type": "code",
   "execution_count": 13,
   "metadata": {},
   "outputs": [
    {
     "data": {
      "text/html": [
       "<div>\n",
       "<style scoped>\n",
       "    .dataframe tbody tr th:only-of-type {\n",
       "        vertical-align: middle;\n",
       "    }\n",
       "\n",
       "    .dataframe tbody tr th {\n",
       "        vertical-align: top;\n",
       "    }\n",
       "\n",
       "    .dataframe thead th {\n",
       "        text-align: right;\n",
       "    }\n",
       "</style>\n",
       "<table border=\"1\" class=\"dataframe\">\n",
       "  <thead>\n",
       "    <tr style=\"text-align: right;\">\n",
       "      <th></th>\n",
       "      <th>name</th>\n",
       "      <th>city</th>\n",
       "      <th>stabbr</th>\n",
       "      <th>basic2021</th>\n",
       "    </tr>\n",
       "  </thead>\n",
       "  <tbody>\n",
       "    <tr>\n",
       "      <th>0</th>\n",
       "      <td>Alabama A &amp; M University</td>\n",
       "      <td>Normal</td>\n",
       "      <td>AL</td>\n",
       "      <td>18</td>\n",
       "    </tr>\n",
       "    <tr>\n",
       "      <th>1</th>\n",
       "      <td>University of Alabama at Birmingham</td>\n",
       "      <td>Birmingham</td>\n",
       "      <td>AL</td>\n",
       "      <td>15</td>\n",
       "    </tr>\n",
       "    <tr>\n",
       "      <th>2</th>\n",
       "      <td>Amridge University</td>\n",
       "      <td>Montgomery</td>\n",
       "      <td>AL</td>\n",
       "      <td>20</td>\n",
       "    </tr>\n",
       "    <tr>\n",
       "      <th>3</th>\n",
       "      <td>University of Alabama in Huntsville</td>\n",
       "      <td>Huntsville</td>\n",
       "      <td>AL</td>\n",
       "      <td>15</td>\n",
       "    </tr>\n",
       "    <tr>\n",
       "      <th>4</th>\n",
       "      <td>Alabama State University</td>\n",
       "      <td>Montgomery</td>\n",
       "      <td>AL</td>\n",
       "      <td>17</td>\n",
       "    </tr>\n",
       "  </tbody>\n",
       "</table>\n",
       "</div>"
      ],
      "text/plain": [
       "                                  name        city stabbr  basic2021\n",
       "0             Alabama A & M University      Normal     AL         18\n",
       "1  University of Alabama at Birmingham  Birmingham     AL         15\n",
       "2                   Amridge University  Montgomery     AL         20\n",
       "3  University of Alabama in Huntsville  Huntsville     AL         15\n",
       "4             Alabama State University  Montgomery     AL         17"
      ]
     },
     "execution_count": 13,
     "metadata": {},
     "output_type": "execute_result"
    }
   ],
   "source": [
    "carnegie21.head(n=5)"
   ]
  },
  {
   "cell_type": "code",
   "execution_count": 14,
   "metadata": {},
   "outputs": [],
   "source": [
    "carnegieR1R2=carnegie21.loc[carnegie21['basic2021'].isin([15,16])]  #New dataframe with only R1/R2 universities under basic2021 classification"
   ]
  },
  {
   "cell_type": "code",
   "execution_count": 15,
   "metadata": {},
   "outputs": [
    {
     "data": {
      "text/plain": [
       "278"
      ]
     },
     "execution_count": 15,
     "metadata": {},
     "output_type": "execute_result"
    }
   ],
   "source": [
    "len(carnegieR1R2.index)  #Altogether, there are 278 R1/R2 universities."
   ]
  },
  {
   "cell_type": "code",
   "execution_count": 16,
   "metadata": {},
   "outputs": [],
   "source": [
    "R1R2count = {'stabbr':[],'R1count':[],'R2count':[]}\n",
    "for i in carnegieR1R2.stabbr.unique():\n",
    "    R1R2count['stabbr'].append(i)\n",
    "    R1R2count['R1count'].append(len(carnegieR1R2.loc[carnegieR1R2.stabbr.eq(i) & carnegieR1R2.basic2021.eq(15)]))\n",
    "    R1R2count['R2count'].append(len(carnegieR1R2.loc[carnegieR1R2.stabbr.eq(i) & carnegieR1R2.basic2021.eq(16)]))\n",
    "\n",
    "R1R2count=pd.DataFrame(R1R2count)\n",
    "R1R2count['R1plusR2']=R1R2count.R1count+R1R2count.R2count\n",
    "\n",
    "#Here we created a new dataframe counting R1/R2 universities in each of the 51 states and territories"
   ]
  },
  {
   "cell_type": "code",
   "execution_count": 17,
   "metadata": {},
   "outputs": [
    {
     "name": "stdout",
     "output_type": "stream",
     "text": [
      "   stabbr  R1count  R2count  R1plusR2\n",
      "0      AL        4        1         5\n",
      "1      AK        0        1         1\n",
      "2      AZ        2        2         4\n",
      "3      AR        1        2         3\n",
      "4      CA       11       14        25\n",
      "5      CO        5        1         6\n",
      "6      CT        2        0         2\n",
      "7      DE        1        0         1\n",
      "8      DC        2        3         5\n",
      "9      FL        6        5        11\n",
      "10     GA        4        5         9\n",
      "11     HI        1        0         1\n",
      "12     ID        0        3         3\n",
      "13     IL        4        6        10\n",
      "14     IN        3        2         5\n",
      "15     IA        2        0         2\n",
      "16     KS        2        1         3\n",
      "17     KY        2        0         2\n",
      "18     LA        3        3         6\n",
      "19     ME        1        1         2\n",
      "20     MD        3        2         5\n",
      "21     MA        8        5        13\n",
      "22     MI        3        5         8\n",
      "23     MN        1        0         1\n",
      "24     MS        3        1         4\n",
      "25     MO        2        4         6\n",
      "26     MT        2        0         2\n",
      "27     NE        1        2         3\n",
      "28     NV        2        0         2\n",
      "29     NH        2        0         2\n",
      "30     NJ        3        6         9\n",
      "31     NM        1        1         2\n",
      "32     NY       11        8        19\n",
      "33     NC        3        6         9\n",
      "34     ND        1        1         2\n",
      "35     OH        5        8        13\n",
      "36     OK        2        1         3\n",
      "37     OR        2        1         3\n",
      "38     PA        6        6        12\n",
      "39     RI        1        1         2\n",
      "40     SC        2        0         2\n",
      "41     SD        0        2         2\n",
      "42     TN        3        4         7\n",
      "43     TX       11       11        22\n",
      "44     UT        2        1         3\n",
      "45     VT        0        1         1\n",
      "46     VA        5        2         7\n",
      "47     WA        2        0         2\n",
      "48     WV        1        1         2\n",
      "49     WI        2        1         3\n",
      "50     WY        0        1         1\n"
     ]
    }
   ],
   "source": [
    "print(R1R2count)"
   ]
  },
  {
   "cell_type": "code",
   "execution_count": 19,
   "metadata": {},
   "outputs": [],
   "source": [
    "ap_performance = pd.read_excel('data/ap-performance-2012-2022.xlsx')  #Reading the ap-performance excel file"
   ]
  },
  {
   "cell_type": "code",
   "execution_count": 21,
   "metadata": {},
   "outputs": [
    {
     "data": {
      "text/html": [
       "<div>\n",
       "<style scoped>\n",
       "    .dataframe tbody tr th:only-of-type {\n",
       "        vertical-align: middle;\n",
       "    }\n",
       "\n",
       "    .dataframe tbody tr th {\n",
       "        vertical-align: top;\n",
       "    }\n",
       "\n",
       "    .dataframe thead th {\n",
       "        text-align: right;\n",
       "    }\n",
       "</style>\n",
       "<table border=\"1\" class=\"dataframe\">\n",
       "  <thead>\n",
       "    <tr style=\"text-align: right;\">\n",
       "      <th></th>\n",
       "      <th>Unnamed: 0</th>\n",
       "      <th>Unnamed: 1</th>\n",
       "      <th>Unnamed: 2</th>\n",
       "      <th>Unnamed: 3</th>\n",
       "      <th>Unnamed: 4</th>\n",
       "      <th>Unnamed: 5</th>\n",
       "      <th>Unnamed: 6</th>\n",
       "    </tr>\n",
       "  </thead>\n",
       "  <tbody>\n",
       "    <tr>\n",
       "      <th>0</th>\n",
       "      <td>NaN</td>\n",
       "      <td>AP Performance</td>\n",
       "      <td>NaN</td>\n",
       "      <td>NaN</td>\n",
       "      <td>NaN</td>\n",
       "      <td>NaN</td>\n",
       "      <td>NaN</td>\n",
       "    </tr>\n",
       "    <tr>\n",
       "      <th>1</th>\n",
       "      <td>NaN</td>\n",
       "      <td>NaN</td>\n",
       "      <td>NaN</td>\n",
       "      <td>NaN</td>\n",
       "      <td>NaN</td>\n",
       "      <td>NaN</td>\n",
       "      <td>NaN</td>\n",
       "    </tr>\n",
       "    <tr>\n",
       "      <th>2</th>\n",
       "      <td>NaN</td>\n",
       "      <td>NaN</td>\n",
       "      <td>NaN</td>\n",
       "      <td>NaN</td>\n",
       "      <td>NaN</td>\n",
       "      <td>NaN</td>\n",
       "      <td>NaN</td>\n",
       "    </tr>\n",
       "    <tr>\n",
       "      <th>3</th>\n",
       "      <td>NaN</td>\n",
       "      <td>NaN</td>\n",
       "      <td>NaN</td>\n",
       "      <td>Total AP Exams</td>\n",
       "      <td>NaN</td>\n",
       "      <td>NaN</td>\n",
       "      <td>NaN</td>\n",
       "    </tr>\n",
       "    <tr>\n",
       "      <th>4</th>\n",
       "      <td>NaN</td>\n",
       "      <td>NaN</td>\n",
       "      <td>NaN</td>\n",
       "      <td>2022</td>\n",
       "      <td>2021</td>\n",
       "      <td>2017</td>\n",
       "      <td>2012</td>\n",
       "    </tr>\n",
       "  </tbody>\n",
       "</table>\n",
       "</div>"
      ],
      "text/plain": [
       "   Unnamed: 0      Unnamed: 1 Unnamed: 2      Unnamed: 3 Unnamed: 4  \\\n",
       "0         NaN  AP Performance        NaN             NaN        NaN   \n",
       "1         NaN             NaN        NaN             NaN        NaN   \n",
       "2         NaN             NaN        NaN             NaN        NaN   \n",
       "3         NaN             NaN        NaN  Total AP Exams        NaN   \n",
       "4         NaN             NaN        NaN            2022       2021   \n",
       "\n",
       "  Unnamed: 5 Unnamed: 6  \n",
       "0        NaN        NaN  \n",
       "1        NaN        NaN  \n",
       "2        NaN        NaN  \n",
       "3        NaN        NaN  \n",
       "4       2017       2012  "
      ]
     },
     "execution_count": 21,
     "metadata": {},
     "output_type": "execute_result"
    }
   ],
   "source": [
    "ap_performance.head()  #Unfortunately, the data is not organized an conveniently as the Carnegie classification data"
   ]
  },
  {
   "cell_type": "code",
   "execution_count": null,
   "metadata": {},
   "outputs": [],
   "source": []
  }
 ],
 "metadata": {
  "kernelspec": {
   "display_name": "erdos_fall_2024",
   "language": "python",
   "name": "python3"
  },
  "language_info": {
   "codemirror_mode": {
    "name": "ipython",
    "version": 3
   },
   "file_extension": ".py",
   "mimetype": "text/x-python",
   "name": "python",
   "nbconvert_exporter": "python",
   "pygments_lexer": "ipython3",
   "version": "3.12.5"
  }
 },
 "nbformat": 4,
 "nbformat_minor": 2
}
