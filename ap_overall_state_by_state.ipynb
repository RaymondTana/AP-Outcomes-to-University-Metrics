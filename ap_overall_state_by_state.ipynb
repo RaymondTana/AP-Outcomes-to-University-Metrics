{
 "cells": [
  {
   "cell_type": "markdown",
   "metadata": {},
   "source": [
    "### Trying to create a model for state by state data.\n",
    "- First, combined the data from 2012, 2017, 2021 and 2021 to one dataframe.\n",
    "- The states and year are combined to one States_year column. So, Alabama will have four rows: Alabama2012, Alabama2017, Alabama2021, Alabama2022\n",
    "- The territories and DC have been excluded.\n",
    "- The distribution by race has not been considered.\n",
    "### Also did naïve modelling with statsmodels\n",
    "- Used 10% of the 200 datasets as testing data and the rest as training data.\n",
    "- Mean AP score is used as the target variable.\n",
    "- Per capita income, population, density of R1/R2 universities (per million), density of public universities (per million) and density of private non-profit universities (per million) are used as features.\n",
    "- Full model includes all features.\n",
    "- Uni metric model includes density of R1/R2, public and private non-profit as features.\n",
    "- Non-uni model includes per capita and population as features.\n",
    "- Viewing non-uni model as null hypothesis, the p-value of full model is extremely low. So, null hypothesis should be excluded.\n",
    "- Also, viewing uni metric model as null hypothesis, the p-value of full model is calculated to be extremely low. So, again, null hypothesis should be excluded.\n",
    "- Prediction on testing data is computed. The root mean squared error is around 0.27. By comparison, majority of the mean AP scores are in 2.5-3 range."
   ]
  },
  {
   "cell_type": "code",
   "execution_count": 313,
   "metadata": {},
   "outputs": [],
   "source": [
    "import pandas as pd\n",
    "import numpy as np\n",
    "import matplotlib.pyplot as plt\n",
    "import plotly.express as px"
   ]
  },
  {
   "cell_type": "code",
   "execution_count": 314,
   "metadata": {},
   "outputs": [],
   "source": [
    "carnegie = pd.read_excel('data/CCIHE2021-PublicData_limited.xlsx',sheet_name='Data')\n",
    "ap_participation = pd.read_excel('data/AP_data_fixed-participation.xlsx',sheet_name='AP_data_for_reference')\n",
    "ap_outcome = pd.read_excel('data/AP_data_fixed-outcome.xlsx',sheet_name='Sheet1')\n",
    "us_income = pd.read_excel('data/per_capita_income_federal_reserve_stlouis.xlsx')\n",
    "us_population = pd.read_excel('data/population_census_bureau.xlsx')"
   ]
  },
  {
   "cell_type": "code",
   "execution_count": 315,
   "metadata": {},
   "outputs": [],
   "source": [
    "ap_passrate_22 = pd.read_excel('data/AP_data_fixed-outcome.xlsx',sheet_name='2022')\n",
    "ap_passrate_17 = pd.read_excel('data/AP_data_fixed-outcome.xlsx',sheet_name='2017')\n",
    "ap_passrate_21 = pd.read_excel('data/AP_data_fixed-outcome.xlsx',sheet_name='2021')\n",
    "ap_passrate_12 = pd.read_excel('data/AP_data_fixed-outcome.xlsx',sheet_name='2012')"
   ]
  },
  {
   "cell_type": "code",
   "execution_count": 316,
   "metadata": {},
   "outputs": [],
   "source": [
    "ap_passrate22=ap_passrate_22[ap_passrate_22['Race']=='Overall']  #Only pick 'Overall' scores for now, ignoring racial divisions.\n",
    "ap_passrate21=ap_passrate_21[ap_passrate_21['Race']=='Overall']  #Only pick 'Overall' scores for now, ignoring racial divisions.\n",
    "ap_passrate17=ap_passrate_17[ap_passrate_17['Race']=='Overall']  #Only pick 'Overall' scores for now, ignoring racial divisions.\n",
    "ap_passrate12=ap_passrate_12[ap_passrate_12['Race']=='Overall']  #Only pick 'Overall' scores for now, ignoring racial divisions."
   ]
  },
  {
   "cell_type": "code",
   "execution_count": 317,
   "metadata": {},
   "outputs": [
    {
     "name": "stderr",
     "output_type": "stream",
     "text": [
      "/tmp/ipykernel_845417/3380574313.py:1: SettingWithCopyWarning:\n",
      "\n",
      "\n",
      "A value is trying to be set on a copy of a slice from a DataFrame.\n",
      "Try using .loc[row_indexer,col_indexer] = value instead\n",
      "\n",
      "See the caveats in the documentation: https://pandas.pydata.org/pandas-docs/stable/user_guide/indexing.html#returning-a-view-versus-a-copy\n",
      "\n",
      "/tmp/ipykernel_845417/3380574313.py:2: SettingWithCopyWarning:\n",
      "\n",
      "\n",
      "A value is trying to be set on a copy of a slice from a DataFrame.\n",
      "Try using .loc[row_indexer,col_indexer] = value instead\n",
      "\n",
      "See the caveats in the documentation: https://pandas.pydata.org/pandas-docs/stable/user_guide/indexing.html#returning-a-view-versus-a-copy\n",
      "\n",
      "/tmp/ipykernel_845417/3380574313.py:3: SettingWithCopyWarning:\n",
      "\n",
      "\n",
      "A value is trying to be set on a copy of a slice from a DataFrame.\n",
      "Try using .loc[row_indexer,col_indexer] = value instead\n",
      "\n",
      "See the caveats in the documentation: https://pandas.pydata.org/pandas-docs/stable/user_guide/indexing.html#returning-a-view-versus-a-copy\n",
      "\n",
      "/tmp/ipykernel_845417/3380574313.py:4: SettingWithCopyWarning:\n",
      "\n",
      "\n",
      "A value is trying to be set on a copy of a slice from a DataFrame.\n",
      "Try using .loc[row_indexer,col_indexer] = value instead\n",
      "\n",
      "See the caveats in the documentation: https://pandas.pydata.org/pandas-docs/stable/user_guide/indexing.html#returning-a-view-versus-a-copy\n",
      "\n"
     ]
    }
   ],
   "source": [
    "ap_passrate22['Year'] = 2022*np.ones(len(ap_passrate22.index))\n",
    "ap_passrate21['Year'] = 2021*np.ones(len(ap_passrate21.index))\n",
    "ap_passrate17['Year'] = 2017*np.ones(len(ap_passrate17.index))\n",
    "ap_passrate12['Year'] = 2012*np.ones(len(ap_passrate12.index))\n"
   ]
  },
  {
   "cell_type": "code",
   "execution_count": 318,
   "metadata": {},
   "outputs": [
    {
     "data": {
      "text/html": [
       "<div>\n",
       "<style scoped>\n",
       "    .dataframe tbody tr th:only-of-type {\n",
       "        vertical-align: middle;\n",
       "    }\n",
       "\n",
       "    .dataframe tbody tr th {\n",
       "        vertical-align: top;\n",
       "    }\n",
       "\n",
       "    .dataframe thead th {\n",
       "        text-align: right;\n",
       "    }\n",
       "</style>\n",
       "<table border=\"1\" class=\"dataframe\">\n",
       "  <thead>\n",
       "    <tr style=\"text-align: right;\">\n",
       "      <th></th>\n",
       "      <th>State</th>\n",
       "      <th>Race</th>\n",
       "      <th>Score 5</th>\n",
       "      <th>Score 4</th>\n",
       "      <th>Score 3</th>\n",
       "      <th>Score 2</th>\n",
       "      <th>Score 1</th>\n",
       "      <th>Total</th>\n",
       "      <th>Mean</th>\n",
       "      <th>Year</th>\n",
       "    </tr>\n",
       "  </thead>\n",
       "  <tbody>\n",
       "    <tr>\n",
       "      <th>0</th>\n",
       "      <td>National</td>\n",
       "      <td>Overall</td>\n",
       "      <td>576744</td>\n",
       "      <td>812854</td>\n",
       "      <td>990625</td>\n",
       "      <td>860182</td>\n",
       "      <td>810450</td>\n",
       "      <td>4050855</td>\n",
       "      <td>2.9</td>\n",
       "      <td>2022.0</td>\n",
       "    </tr>\n",
       "    <tr>\n",
       "      <th>9</th>\n",
       "      <td>Alabama</td>\n",
       "      <td>Overall</td>\n",
       "      <td>3539</td>\n",
       "      <td>6516</td>\n",
       "      <td>9838</td>\n",
       "      <td>11317</td>\n",
       "      <td>13031</td>\n",
       "      <td>44241</td>\n",
       "      <td>2.5</td>\n",
       "      <td>2022.0</td>\n",
       "    </tr>\n",
       "    <tr>\n",
       "      <th>18</th>\n",
       "      <td>Alaska</td>\n",
       "      <td>Overall</td>\n",
       "      <td>565</td>\n",
       "      <td>927</td>\n",
       "      <td>1323</td>\n",
       "      <td>1133</td>\n",
       "      <td>793</td>\n",
       "      <td>4741</td>\n",
       "      <td>2.9</td>\n",
       "      <td>2022.0</td>\n",
       "    </tr>\n",
       "    <tr>\n",
       "      <th>27</th>\n",
       "      <td>Arizona</td>\n",
       "      <td>Overall</td>\n",
       "      <td>9386</td>\n",
       "      <td>12578</td>\n",
       "      <td>15707</td>\n",
       "      <td>13518</td>\n",
       "      <td>11041</td>\n",
       "      <td>62230</td>\n",
       "      <td>2.9</td>\n",
       "      <td>2022.0</td>\n",
       "    </tr>\n",
       "    <tr>\n",
       "      <th>36</th>\n",
       "      <td>Arkansas</td>\n",
       "      <td>Overall</td>\n",
       "      <td>2553</td>\n",
       "      <td>5533</td>\n",
       "      <td>9253</td>\n",
       "      <td>10841</td>\n",
       "      <td>12925</td>\n",
       "      <td>41105</td>\n",
       "      <td>2.4</td>\n",
       "      <td>2022.0</td>\n",
       "    </tr>\n",
       "    <tr>\n",
       "      <th>...</th>\n",
       "      <td>...</td>\n",
       "      <td>...</td>\n",
       "      <td>...</td>\n",
       "      <td>...</td>\n",
       "      <td>...</td>\n",
       "      <td>...</td>\n",
       "      <td>...</td>\n",
       "      <td>...</td>\n",
       "      <td>...</td>\n",
       "      <td>...</td>\n",
       "    </tr>\n",
       "    <tr>\n",
       "      <th>423</th>\n",
       "      <td>Virginia</td>\n",
       "      <td>Overall</td>\n",
       "      <td>19593</td>\n",
       "      <td>27347</td>\n",
       "      <td>33203</td>\n",
       "      <td>29350</td>\n",
       "      <td>23645</td>\n",
       "      <td>133138</td>\n",
       "      <td>2.9</td>\n",
       "      <td>2012.0</td>\n",
       "    </tr>\n",
       "    <tr>\n",
       "      <th>432</th>\n",
       "      <td>Washington</td>\n",
       "      <td>Overall</td>\n",
       "      <td>9740</td>\n",
       "      <td>13107</td>\n",
       "      <td>16258</td>\n",
       "      <td>14170</td>\n",
       "      <td>11549</td>\n",
       "      <td>64824</td>\n",
       "      <td>2.9</td>\n",
       "      <td>2012.0</td>\n",
       "    </tr>\n",
       "    <tr>\n",
       "      <th>441</th>\n",
       "      <td>West Virginia</td>\n",
       "      <td>Overall</td>\n",
       "      <td>745</td>\n",
       "      <td>1321</td>\n",
       "      <td>2210</td>\n",
       "      <td>2924</td>\n",
       "      <td>2882</td>\n",
       "      <td>10082</td>\n",
       "      <td>2.4</td>\n",
       "      <td>2012.0</td>\n",
       "    </tr>\n",
       "    <tr>\n",
       "      <th>450</th>\n",
       "      <td>Wisconsin</td>\n",
       "      <td>Overall</td>\n",
       "      <td>7988</td>\n",
       "      <td>11973</td>\n",
       "      <td>14239</td>\n",
       "      <td>10073</td>\n",
       "      <td>6014</td>\n",
       "      <td>50287</td>\n",
       "      <td>3.1</td>\n",
       "      <td>2012.0</td>\n",
       "    </tr>\n",
       "    <tr>\n",
       "      <th>459</th>\n",
       "      <td>Wyoming</td>\n",
       "      <td>Overall</td>\n",
       "      <td>217</td>\n",
       "      <td>368</td>\n",
       "      <td>597</td>\n",
       "      <td>509</td>\n",
       "      <td>405</td>\n",
       "      <td>2096</td>\n",
       "      <td>2.8</td>\n",
       "      <td>2012.0</td>\n",
       "    </tr>\n",
       "  </tbody>\n",
       "</table>\n",
       "<p>208 rows × 10 columns</p>\n",
       "</div>"
      ],
      "text/plain": [
       "             State     Race Score 5 Score 4 Score 3 Score 2 Score 1    Total  \\\n",
       "0         National  Overall  576744  812854  990625  860182  810450  4050855   \n",
       "9          Alabama  Overall    3539    6516    9838   11317   13031    44241   \n",
       "18          Alaska  Overall     565     927    1323    1133     793     4741   \n",
       "27         Arizona  Overall    9386   12578   15707   13518   11041    62230   \n",
       "36        Arkansas  Overall    2553    5533    9253   10841   12925    41105   \n",
       "..             ...      ...     ...     ...     ...     ...     ...      ...   \n",
       "423       Virginia  Overall   19593   27347   33203   29350   23645   133138   \n",
       "432     Washington  Overall    9740   13107   16258   14170   11549    64824   \n",
       "441  West Virginia  Overall     745    1321    2210    2924    2882    10082   \n",
       "450      Wisconsin  Overall    7988   11973   14239   10073    6014    50287   \n",
       "459        Wyoming  Overall     217     368     597     509     405     2096   \n",
       "\n",
       "    Mean    Year  \n",
       "0    2.9  2022.0  \n",
       "9    2.5  2022.0  \n",
       "18   2.9  2022.0  \n",
       "27   2.9  2022.0  \n",
       "36   2.4  2022.0  \n",
       "..   ...     ...  \n",
       "423  2.9  2012.0  \n",
       "432  2.9  2012.0  \n",
       "441  2.4  2012.0  \n",
       "450  3.1  2012.0  \n",
       "459  2.8  2012.0  \n",
       "\n",
       "[208 rows x 10 columns]"
      ]
     },
     "execution_count": 318,
     "metadata": {},
     "output_type": "execute_result"
    }
   ],
   "source": [
    "ap_scores = pd.concat([ap_passrate22,ap_passrate21,ap_passrate17,ap_passrate12])\n",
    "ap_scores"
   ]
  },
  {
   "cell_type": "code",
   "execution_count": 319,
   "metadata": {},
   "outputs": [
    {
     "data": {
      "text/html": [
       "<div>\n",
       "<style scoped>\n",
       "    .dataframe tbody tr th:only-of-type {\n",
       "        vertical-align: middle;\n",
       "    }\n",
       "\n",
       "    .dataframe tbody tr th {\n",
       "        vertical-align: top;\n",
       "    }\n",
       "\n",
       "    .dataframe thead th {\n",
       "        text-align: right;\n",
       "    }\n",
       "</style>\n",
       "<table border=\"1\" class=\"dataframe\">\n",
       "  <thead>\n",
       "    <tr style=\"text-align: right;\">\n",
       "      <th></th>\n",
       "      <th>State</th>\n",
       "      <th>Race</th>\n",
       "      <th>Score 5</th>\n",
       "      <th>Score 4</th>\n",
       "      <th>Score 3</th>\n",
       "      <th>Score 2</th>\n",
       "      <th>Score 1</th>\n",
       "      <th>Total</th>\n",
       "      <th>Mean</th>\n",
       "      <th>Year</th>\n",
       "    </tr>\n",
       "  </thead>\n",
       "  <tbody>\n",
       "    <tr>\n",
       "      <th>0</th>\n",
       "      <td>National</td>\n",
       "      <td>Overall</td>\n",
       "      <td>576744</td>\n",
       "      <td>812854</td>\n",
       "      <td>990625</td>\n",
       "      <td>860182</td>\n",
       "      <td>810450</td>\n",
       "      <td>4050855</td>\n",
       "      <td>2.9</td>\n",
       "      <td>2022</td>\n",
       "    </tr>\n",
       "    <tr>\n",
       "      <th>9</th>\n",
       "      <td>Alabama</td>\n",
       "      <td>Overall</td>\n",
       "      <td>3539</td>\n",
       "      <td>6516</td>\n",
       "      <td>9838</td>\n",
       "      <td>11317</td>\n",
       "      <td>13031</td>\n",
       "      <td>44241</td>\n",
       "      <td>2.5</td>\n",
       "      <td>2022</td>\n",
       "    </tr>\n",
       "    <tr>\n",
       "      <th>18</th>\n",
       "      <td>Alaska</td>\n",
       "      <td>Overall</td>\n",
       "      <td>565</td>\n",
       "      <td>927</td>\n",
       "      <td>1323</td>\n",
       "      <td>1133</td>\n",
       "      <td>793</td>\n",
       "      <td>4741</td>\n",
       "      <td>2.9</td>\n",
       "      <td>2022</td>\n",
       "    </tr>\n",
       "    <tr>\n",
       "      <th>27</th>\n",
       "      <td>Arizona</td>\n",
       "      <td>Overall</td>\n",
       "      <td>9386</td>\n",
       "      <td>12578</td>\n",
       "      <td>15707</td>\n",
       "      <td>13518</td>\n",
       "      <td>11041</td>\n",
       "      <td>62230</td>\n",
       "      <td>2.9</td>\n",
       "      <td>2022</td>\n",
       "    </tr>\n",
       "    <tr>\n",
       "      <th>36</th>\n",
       "      <td>Arkansas</td>\n",
       "      <td>Overall</td>\n",
       "      <td>2553</td>\n",
       "      <td>5533</td>\n",
       "      <td>9253</td>\n",
       "      <td>10841</td>\n",
       "      <td>12925</td>\n",
       "      <td>41105</td>\n",
       "      <td>2.4</td>\n",
       "      <td>2022</td>\n",
       "    </tr>\n",
       "    <tr>\n",
       "      <th>...</th>\n",
       "      <td>...</td>\n",
       "      <td>...</td>\n",
       "      <td>...</td>\n",
       "      <td>...</td>\n",
       "      <td>...</td>\n",
       "      <td>...</td>\n",
       "      <td>...</td>\n",
       "      <td>...</td>\n",
       "      <td>...</td>\n",
       "      <td>...</td>\n",
       "    </tr>\n",
       "    <tr>\n",
       "      <th>423</th>\n",
       "      <td>Virginia</td>\n",
       "      <td>Overall</td>\n",
       "      <td>19593</td>\n",
       "      <td>27347</td>\n",
       "      <td>33203</td>\n",
       "      <td>29350</td>\n",
       "      <td>23645</td>\n",
       "      <td>133138</td>\n",
       "      <td>2.9</td>\n",
       "      <td>2012</td>\n",
       "    </tr>\n",
       "    <tr>\n",
       "      <th>432</th>\n",
       "      <td>Washington</td>\n",
       "      <td>Overall</td>\n",
       "      <td>9740</td>\n",
       "      <td>13107</td>\n",
       "      <td>16258</td>\n",
       "      <td>14170</td>\n",
       "      <td>11549</td>\n",
       "      <td>64824</td>\n",
       "      <td>2.9</td>\n",
       "      <td>2012</td>\n",
       "    </tr>\n",
       "    <tr>\n",
       "      <th>441</th>\n",
       "      <td>West Virginia</td>\n",
       "      <td>Overall</td>\n",
       "      <td>745</td>\n",
       "      <td>1321</td>\n",
       "      <td>2210</td>\n",
       "      <td>2924</td>\n",
       "      <td>2882</td>\n",
       "      <td>10082</td>\n",
       "      <td>2.4</td>\n",
       "      <td>2012</td>\n",
       "    </tr>\n",
       "    <tr>\n",
       "      <th>450</th>\n",
       "      <td>Wisconsin</td>\n",
       "      <td>Overall</td>\n",
       "      <td>7988</td>\n",
       "      <td>11973</td>\n",
       "      <td>14239</td>\n",
       "      <td>10073</td>\n",
       "      <td>6014</td>\n",
       "      <td>50287</td>\n",
       "      <td>3.1</td>\n",
       "      <td>2012</td>\n",
       "    </tr>\n",
       "    <tr>\n",
       "      <th>459</th>\n",
       "      <td>Wyoming</td>\n",
       "      <td>Overall</td>\n",
       "      <td>217</td>\n",
       "      <td>368</td>\n",
       "      <td>597</td>\n",
       "      <td>509</td>\n",
       "      <td>405</td>\n",
       "      <td>2096</td>\n",
       "      <td>2.8</td>\n",
       "      <td>2012</td>\n",
       "    </tr>\n",
       "  </tbody>\n",
       "</table>\n",
       "<p>208 rows × 10 columns</p>\n",
       "</div>"
      ],
      "text/plain": [
       "             State     Race Score 5 Score 4 Score 3 Score 2 Score 1    Total  \\\n",
       "0         National  Overall  576744  812854  990625  860182  810450  4050855   \n",
       "9          Alabama  Overall    3539    6516    9838   11317   13031    44241   \n",
       "18          Alaska  Overall     565     927    1323    1133     793     4741   \n",
       "27         Arizona  Overall    9386   12578   15707   13518   11041    62230   \n",
       "36        Arkansas  Overall    2553    5533    9253   10841   12925    41105   \n",
       "..             ...      ...     ...     ...     ...     ...     ...      ...   \n",
       "423       Virginia  Overall   19593   27347   33203   29350   23645   133138   \n",
       "432     Washington  Overall    9740   13107   16258   14170   11549    64824   \n",
       "441  West Virginia  Overall     745    1321    2210    2924    2882    10082   \n",
       "450      Wisconsin  Overall    7988   11973   14239   10073    6014    50287   \n",
       "459        Wyoming  Overall     217     368     597     509     405     2096   \n",
       "\n",
       "    Mean  Year  \n",
       "0    2.9  2022  \n",
       "9    2.5  2022  \n",
       "18   2.9  2022  \n",
       "27   2.9  2022  \n",
       "36   2.4  2022  \n",
       "..   ...   ...  \n",
       "423  2.9  2012  \n",
       "432  2.9  2012  \n",
       "441  2.4  2012  \n",
       "450  3.1  2012  \n",
       "459  2.8  2012  \n",
       "\n",
       "[208 rows x 10 columns]"
      ]
     },
     "execution_count": 319,
     "metadata": {},
     "output_type": "execute_result"
    }
   ],
   "source": [
    "ap_scores.Year = ap_scores.Year.apply(np.int64)\n",
    "ap_scores"
   ]
  },
  {
   "cell_type": "code",
   "execution_count": 320,
   "metadata": {},
   "outputs": [
    {
     "data": {
      "text/html": [
       "<div>\n",
       "<style scoped>\n",
       "    .dataframe tbody tr th:only-of-type {\n",
       "        vertical-align: middle;\n",
       "    }\n",
       "\n",
       "    .dataframe tbody tr th {\n",
       "        vertical-align: top;\n",
       "    }\n",
       "\n",
       "    .dataframe thead th {\n",
       "        text-align: right;\n",
       "    }\n",
       "</style>\n",
       "<table border=\"1\" class=\"dataframe\">\n",
       "  <thead>\n",
       "    <tr style=\"text-align: right;\">\n",
       "      <th></th>\n",
       "      <th>State</th>\n",
       "      <th>Race</th>\n",
       "      <th>Score 5</th>\n",
       "      <th>Score 4</th>\n",
       "      <th>Score 3</th>\n",
       "      <th>Score 2</th>\n",
       "      <th>Score 1</th>\n",
       "      <th>Total</th>\n",
       "      <th>Mean</th>\n",
       "      <th>Year</th>\n",
       "    </tr>\n",
       "  </thead>\n",
       "  <tbody>\n",
       "    <tr>\n",
       "      <th>9</th>\n",
       "      <td>Alabama</td>\n",
       "      <td>Overall</td>\n",
       "      <td>3539</td>\n",
       "      <td>6516</td>\n",
       "      <td>9838</td>\n",
       "      <td>11317</td>\n",
       "      <td>13031</td>\n",
       "      <td>44241</td>\n",
       "      <td>2.5</td>\n",
       "      <td>2022</td>\n",
       "    </tr>\n",
       "    <tr>\n",
       "      <th>18</th>\n",
       "      <td>Alaska</td>\n",
       "      <td>Overall</td>\n",
       "      <td>565</td>\n",
       "      <td>927</td>\n",
       "      <td>1323</td>\n",
       "      <td>1133</td>\n",
       "      <td>793</td>\n",
       "      <td>4741</td>\n",
       "      <td>2.9</td>\n",
       "      <td>2022</td>\n",
       "    </tr>\n",
       "    <tr>\n",
       "      <th>27</th>\n",
       "      <td>Arizona</td>\n",
       "      <td>Overall</td>\n",
       "      <td>9386</td>\n",
       "      <td>12578</td>\n",
       "      <td>15707</td>\n",
       "      <td>13518</td>\n",
       "      <td>11041</td>\n",
       "      <td>62230</td>\n",
       "      <td>2.9</td>\n",
       "      <td>2022</td>\n",
       "    </tr>\n",
       "    <tr>\n",
       "      <th>36</th>\n",
       "      <td>Arkansas</td>\n",
       "      <td>Overall</td>\n",
       "      <td>2553</td>\n",
       "      <td>5533</td>\n",
       "      <td>9253</td>\n",
       "      <td>10841</td>\n",
       "      <td>12925</td>\n",
       "      <td>41105</td>\n",
       "      <td>2.4</td>\n",
       "      <td>2022</td>\n",
       "    </tr>\n",
       "    <tr>\n",
       "      <th>45</th>\n",
       "      <td>California</td>\n",
       "      <td>Overall</td>\n",
       "      <td>104767</td>\n",
       "      <td>127523</td>\n",
       "      <td>145798</td>\n",
       "      <td>124928</td>\n",
       "      <td>113544</td>\n",
       "      <td>616560</td>\n",
       "      <td>3</td>\n",
       "      <td>2022</td>\n",
       "    </tr>\n",
       "    <tr>\n",
       "      <th>...</th>\n",
       "      <td>...</td>\n",
       "      <td>...</td>\n",
       "      <td>...</td>\n",
       "      <td>...</td>\n",
       "      <td>...</td>\n",
       "      <td>...</td>\n",
       "      <td>...</td>\n",
       "      <td>...</td>\n",
       "      <td>...</td>\n",
       "      <td>...</td>\n",
       "    </tr>\n",
       "    <tr>\n",
       "      <th>423</th>\n",
       "      <td>Virginia</td>\n",
       "      <td>Overall</td>\n",
       "      <td>19593</td>\n",
       "      <td>27347</td>\n",
       "      <td>33203</td>\n",
       "      <td>29350</td>\n",
       "      <td>23645</td>\n",
       "      <td>133138</td>\n",
       "      <td>2.9</td>\n",
       "      <td>2012</td>\n",
       "    </tr>\n",
       "    <tr>\n",
       "      <th>432</th>\n",
       "      <td>Washington</td>\n",
       "      <td>Overall</td>\n",
       "      <td>9740</td>\n",
       "      <td>13107</td>\n",
       "      <td>16258</td>\n",
       "      <td>14170</td>\n",
       "      <td>11549</td>\n",
       "      <td>64824</td>\n",
       "      <td>2.9</td>\n",
       "      <td>2012</td>\n",
       "    </tr>\n",
       "    <tr>\n",
       "      <th>441</th>\n",
       "      <td>West Virginia</td>\n",
       "      <td>Overall</td>\n",
       "      <td>745</td>\n",
       "      <td>1321</td>\n",
       "      <td>2210</td>\n",
       "      <td>2924</td>\n",
       "      <td>2882</td>\n",
       "      <td>10082</td>\n",
       "      <td>2.4</td>\n",
       "      <td>2012</td>\n",
       "    </tr>\n",
       "    <tr>\n",
       "      <th>450</th>\n",
       "      <td>Wisconsin</td>\n",
       "      <td>Overall</td>\n",
       "      <td>7988</td>\n",
       "      <td>11973</td>\n",
       "      <td>14239</td>\n",
       "      <td>10073</td>\n",
       "      <td>6014</td>\n",
       "      <td>50287</td>\n",
       "      <td>3.1</td>\n",
       "      <td>2012</td>\n",
       "    </tr>\n",
       "    <tr>\n",
       "      <th>459</th>\n",
       "      <td>Wyoming</td>\n",
       "      <td>Overall</td>\n",
       "      <td>217</td>\n",
       "      <td>368</td>\n",
       "      <td>597</td>\n",
       "      <td>509</td>\n",
       "      <td>405</td>\n",
       "      <td>2096</td>\n",
       "      <td>2.8</td>\n",
       "      <td>2012</td>\n",
       "    </tr>\n",
       "  </tbody>\n",
       "</table>\n",
       "<p>200 rows × 10 columns</p>\n",
       "</div>"
      ],
      "text/plain": [
       "             State     Race Score 5 Score 4 Score 3 Score 2 Score 1   Total  \\\n",
       "9          Alabama  Overall    3539    6516    9838   11317   13031   44241   \n",
       "18          Alaska  Overall     565     927    1323    1133     793    4741   \n",
       "27         Arizona  Overall    9386   12578   15707   13518   11041   62230   \n",
       "36        Arkansas  Overall    2553    5533    9253   10841   12925   41105   \n",
       "45      California  Overall  104767  127523  145798  124928  113544  616560   \n",
       "..             ...      ...     ...     ...     ...     ...     ...     ...   \n",
       "423       Virginia  Overall   19593   27347   33203   29350   23645  133138   \n",
       "432     Washington  Overall    9740   13107   16258   14170   11549   64824   \n",
       "441  West Virginia  Overall     745    1321    2210    2924    2882   10082   \n",
       "450      Wisconsin  Overall    7988   11973   14239   10073    6014   50287   \n",
       "459        Wyoming  Overall     217     368     597     509     405    2096   \n",
       "\n",
       "    Mean  Year  \n",
       "9    2.5  2022  \n",
       "18   2.9  2022  \n",
       "27   2.9  2022  \n",
       "36   2.4  2022  \n",
       "45     3  2022  \n",
       "..   ...   ...  \n",
       "423  2.9  2012  \n",
       "432  2.9  2012  \n",
       "441  2.4  2012  \n",
       "450  3.1  2012  \n",
       "459  2.8  2012  \n",
       "\n",
       "[200 rows x 10 columns]"
      ]
     },
     "execution_count": 320,
     "metadata": {},
     "output_type": "execute_result"
    }
   ],
   "source": [
    "exclude = ['National','District of Columbia']\n",
    "ap_scores = ap_scores.drop(ap_scores[ap_scores['State'].isin(exclude)].index) \n",
    "ap_scores"
   ]
  },
  {
   "cell_type": "code",
   "execution_count": 321,
   "metadata": {},
   "outputs": [
    {
     "data": {
      "text/html": [
       "<div>\n",
       "<style scoped>\n",
       "    .dataframe tbody tr th:only-of-type {\n",
       "        vertical-align: middle;\n",
       "    }\n",
       "\n",
       "    .dataframe tbody tr th {\n",
       "        vertical-align: top;\n",
       "    }\n",
       "\n",
       "    .dataframe thead th {\n",
       "        text-align: right;\n",
       "    }\n",
       "</style>\n",
       "<table border=\"1\" class=\"dataframe\">\n",
       "  <thead>\n",
       "    <tr style=\"text-align: right;\">\n",
       "      <th></th>\n",
       "      <th>State</th>\n",
       "      <th>Race</th>\n",
       "      <th>Score 5</th>\n",
       "      <th>Score 4</th>\n",
       "      <th>Score 3</th>\n",
       "      <th>Score 2</th>\n",
       "      <th>Score 1</th>\n",
       "      <th>Total</th>\n",
       "      <th>Mean</th>\n",
       "      <th>Year</th>\n",
       "      <th>PERCENT_3_OR_ABOVE</th>\n",
       "    </tr>\n",
       "  </thead>\n",
       "  <tbody>\n",
       "    <tr>\n",
       "      <th>0</th>\n",
       "      <td>Alabama</td>\n",
       "      <td>Overall</td>\n",
       "      <td>3539</td>\n",
       "      <td>6516</td>\n",
       "      <td>9838</td>\n",
       "      <td>11317</td>\n",
       "      <td>13031</td>\n",
       "      <td>44241</td>\n",
       "      <td>2.5</td>\n",
       "      <td>2022</td>\n",
       "      <td>44.965078</td>\n",
       "    </tr>\n",
       "    <tr>\n",
       "      <th>1</th>\n",
       "      <td>Alaska</td>\n",
       "      <td>Overall</td>\n",
       "      <td>565</td>\n",
       "      <td>927</td>\n",
       "      <td>1323</td>\n",
       "      <td>1133</td>\n",
       "      <td>793</td>\n",
       "      <td>4741</td>\n",
       "      <td>2.9</td>\n",
       "      <td>2022</td>\n",
       "      <td>59.375659</td>\n",
       "    </tr>\n",
       "    <tr>\n",
       "      <th>2</th>\n",
       "      <td>Arizona</td>\n",
       "      <td>Overall</td>\n",
       "      <td>9386</td>\n",
       "      <td>12578</td>\n",
       "      <td>15707</td>\n",
       "      <td>13518</td>\n",
       "      <td>11041</td>\n",
       "      <td>62230</td>\n",
       "      <td>2.9</td>\n",
       "      <td>2022</td>\n",
       "      <td>60.535112</td>\n",
       "    </tr>\n",
       "    <tr>\n",
       "      <th>3</th>\n",
       "      <td>Arkansas</td>\n",
       "      <td>Overall</td>\n",
       "      <td>2553</td>\n",
       "      <td>5533</td>\n",
       "      <td>9253</td>\n",
       "      <td>10841</td>\n",
       "      <td>12925</td>\n",
       "      <td>41105</td>\n",
       "      <td>2.4</td>\n",
       "      <td>2022</td>\n",
       "      <td>42.182216</td>\n",
       "    </tr>\n",
       "    <tr>\n",
       "      <th>4</th>\n",
       "      <td>California</td>\n",
       "      <td>Overall</td>\n",
       "      <td>104767</td>\n",
       "      <td>127523</td>\n",
       "      <td>145798</td>\n",
       "      <td>124928</td>\n",
       "      <td>113544</td>\n",
       "      <td>616560</td>\n",
       "      <td>3</td>\n",
       "      <td>2022</td>\n",
       "      <td>61.322175</td>\n",
       "    </tr>\n",
       "    <tr>\n",
       "      <th>...</th>\n",
       "      <td>...</td>\n",
       "      <td>...</td>\n",
       "      <td>...</td>\n",
       "      <td>...</td>\n",
       "      <td>...</td>\n",
       "      <td>...</td>\n",
       "      <td>...</td>\n",
       "      <td>...</td>\n",
       "      <td>...</td>\n",
       "      <td>...</td>\n",
       "      <td>...</td>\n",
       "    </tr>\n",
       "    <tr>\n",
       "      <th>195</th>\n",
       "      <td>Virginia</td>\n",
       "      <td>Overall</td>\n",
       "      <td>19593</td>\n",
       "      <td>27347</td>\n",
       "      <td>33203</td>\n",
       "      <td>29350</td>\n",
       "      <td>23645</td>\n",
       "      <td>133138</td>\n",
       "      <td>2.9</td>\n",
       "      <td>2012</td>\n",
       "      <td>60.195436</td>\n",
       "    </tr>\n",
       "    <tr>\n",
       "      <th>196</th>\n",
       "      <td>Washington</td>\n",
       "      <td>Overall</td>\n",
       "      <td>9740</td>\n",
       "      <td>13107</td>\n",
       "      <td>16258</td>\n",
       "      <td>14170</td>\n",
       "      <td>11549</td>\n",
       "      <td>64824</td>\n",
       "      <td>2.9</td>\n",
       "      <td>2012</td>\n",
       "      <td>60.32488</td>\n",
       "    </tr>\n",
       "    <tr>\n",
       "      <th>197</th>\n",
       "      <td>West Virginia</td>\n",
       "      <td>Overall</td>\n",
       "      <td>745</td>\n",
       "      <td>1321</td>\n",
       "      <td>2210</td>\n",
       "      <td>2924</td>\n",
       "      <td>2882</td>\n",
       "      <td>10082</td>\n",
       "      <td>2.4</td>\n",
       "      <td>2012</td>\n",
       "      <td>42.41222</td>\n",
       "    </tr>\n",
       "    <tr>\n",
       "      <th>198</th>\n",
       "      <td>Wisconsin</td>\n",
       "      <td>Overall</td>\n",
       "      <td>7988</td>\n",
       "      <td>11973</td>\n",
       "      <td>14239</td>\n",
       "      <td>10073</td>\n",
       "      <td>6014</td>\n",
       "      <td>50287</td>\n",
       "      <td>3.1</td>\n",
       "      <td>2012</td>\n",
       "      <td>68.009625</td>\n",
       "    </tr>\n",
       "    <tr>\n",
       "      <th>199</th>\n",
       "      <td>Wyoming</td>\n",
       "      <td>Overall</td>\n",
       "      <td>217</td>\n",
       "      <td>368</td>\n",
       "      <td>597</td>\n",
       "      <td>509</td>\n",
       "      <td>405</td>\n",
       "      <td>2096</td>\n",
       "      <td>2.8</td>\n",
       "      <td>2012</td>\n",
       "      <td>56.39313</td>\n",
       "    </tr>\n",
       "  </tbody>\n",
       "</table>\n",
       "<p>200 rows × 11 columns</p>\n",
       "</div>"
      ],
      "text/plain": [
       "             State     Race Score 5 Score 4 Score 3 Score 2 Score 1   Total  \\\n",
       "0          Alabama  Overall    3539    6516    9838   11317   13031   44241   \n",
       "1           Alaska  Overall     565     927    1323    1133     793    4741   \n",
       "2          Arizona  Overall    9386   12578   15707   13518   11041   62230   \n",
       "3         Arkansas  Overall    2553    5533    9253   10841   12925   41105   \n",
       "4       California  Overall  104767  127523  145798  124928  113544  616560   \n",
       "..             ...      ...     ...     ...     ...     ...     ...     ...   \n",
       "195       Virginia  Overall   19593   27347   33203   29350   23645  133138   \n",
       "196     Washington  Overall    9740   13107   16258   14170   11549   64824   \n",
       "197  West Virginia  Overall     745    1321    2210    2924    2882   10082   \n",
       "198      Wisconsin  Overall    7988   11973   14239   10073    6014   50287   \n",
       "199        Wyoming  Overall     217     368     597     509     405    2096   \n",
       "\n",
       "    Mean  Year PERCENT_3_OR_ABOVE  \n",
       "0    2.5  2022          44.965078  \n",
       "1    2.9  2022          59.375659  \n",
       "2    2.9  2022          60.535112  \n",
       "3    2.4  2022          42.182216  \n",
       "4      3  2022          61.322175  \n",
       "..   ...   ...                ...  \n",
       "195  2.9  2012          60.195436  \n",
       "196  2.9  2012           60.32488  \n",
       "197  2.4  2012           42.41222  \n",
       "198  3.1  2012          68.009625  \n",
       "199  2.8  2012           56.39313  \n",
       "\n",
       "[200 rows x 11 columns]"
      ]
     },
     "execution_count": 321,
     "metadata": {},
     "output_type": "execute_result"
    }
   ],
   "source": [
    "ap_scores['PERCENT_3_OR_ABOVE']=(ap_scores['Score 5']+ap_scores['Score 4']+ap_scores['Score 3'])*100/(ap_scores['Score 5']+ap_scores['Score 4']+ap_scores['Score 3']+ap_scores['Score 2']+ap_scores['Score 1'])\n",
    "ap_scores.reset_index(drop=True,inplace=True)\n",
    "ap_scores"
   ]
  },
  {
   "cell_type": "code",
   "execution_count": 322,
   "metadata": {},
   "outputs": [
    {
     "data": {
      "text/html": [
       "<div>\n",
       "<style scoped>\n",
       "    .dataframe tbody tr th:only-of-type {\n",
       "        vertical-align: middle;\n",
       "    }\n",
       "\n",
       "    .dataframe tbody tr th {\n",
       "        vertical-align: top;\n",
       "    }\n",
       "\n",
       "    .dataframe thead th {\n",
       "        text-align: right;\n",
       "    }\n",
       "</style>\n",
       "<table border=\"1\" class=\"dataframe\">\n",
       "  <thead>\n",
       "    <tr style=\"text-align: right;\">\n",
       "      <th></th>\n",
       "      <th>Regions</th>\n",
       "      <th>2012</th>\n",
       "      <th>2017</th>\n",
       "      <th>2021</th>\n",
       "      <th>2022</th>\n",
       "    </tr>\n",
       "  </thead>\n",
       "  <tbody>\n",
       "    <tr>\n",
       "      <th>0</th>\n",
       "      <td>.Alabama</td>\n",
       "      <td>4815588</td>\n",
       "      <td>4874486</td>\n",
       "      <td>5050380</td>\n",
       "      <td>5073903</td>\n",
       "    </tr>\n",
       "    <tr>\n",
       "      <th>1</th>\n",
       "      <td>.Alaska</td>\n",
       "      <td>730443</td>\n",
       "      <td>739700</td>\n",
       "      <td>734923</td>\n",
       "      <td>733276</td>\n",
       "    </tr>\n",
       "    <tr>\n",
       "      <th>2</th>\n",
       "      <td>.Arizona</td>\n",
       "      <td>6554978</td>\n",
       "      <td>7044008</td>\n",
       "      <td>7272487</td>\n",
       "      <td>7365684</td>\n",
       "    </tr>\n",
       "    <tr>\n",
       "      <th>3</th>\n",
       "      <td>.Arkansas</td>\n",
       "      <td>2952164</td>\n",
       "      <td>3001345</td>\n",
       "      <td>3028443</td>\n",
       "      <td>3046404</td>\n",
       "    </tr>\n",
       "    <tr>\n",
       "      <th>4</th>\n",
       "      <td>.California</td>\n",
       "      <td>37948800</td>\n",
       "      <td>39358497</td>\n",
       "      <td>39145060</td>\n",
       "      <td>39040616</td>\n",
       "    </tr>\n",
       "  </tbody>\n",
       "</table>\n",
       "</div>"
      ],
      "text/plain": [
       "       Regions      2012      2017      2021      2022\n",
       "0     .Alabama   4815588   4874486   5050380   5073903\n",
       "1      .Alaska    730443    739700    734923    733276\n",
       "2     .Arizona   6554978   7044008   7272487   7365684\n",
       "3    .Arkansas   2952164   3001345   3028443   3046404\n",
       "4  .California  37948800  39358497  39145060  39040616"
      ]
     },
     "execution_count": 322,
     "metadata": {},
     "output_type": "execute_result"
    }
   ],
   "source": [
    "us_population.head()"
   ]
  },
  {
   "cell_type": "code",
   "execution_count": 323,
   "metadata": {},
   "outputs": [],
   "source": [
    "us_population['Regions']=us_population['Regions'].str.replace('.','')"
   ]
  },
  {
   "cell_type": "code",
   "execution_count": 324,
   "metadata": {},
   "outputs": [
    {
     "data": {
      "text/html": [
       "<div>\n",
       "<style scoped>\n",
       "    .dataframe tbody tr th:only-of-type {\n",
       "        vertical-align: middle;\n",
       "    }\n",
       "\n",
       "    .dataframe tbody tr th {\n",
       "        vertical-align: top;\n",
       "    }\n",
       "\n",
       "    .dataframe thead th {\n",
       "        text-align: right;\n",
       "    }\n",
       "</style>\n",
       "<table border=\"1\" class=\"dataframe\">\n",
       "  <thead>\n",
       "    <tr style=\"text-align: right;\">\n",
       "      <th></th>\n",
       "      <th>Regions</th>\n",
       "      <th>2012</th>\n",
       "      <th>2017</th>\n",
       "      <th>2021</th>\n",
       "      <th>2022</th>\n",
       "    </tr>\n",
       "  </thead>\n",
       "  <tbody>\n",
       "    <tr>\n",
       "      <th>0</th>\n",
       "      <td>Alabama</td>\n",
       "      <td>4815588</td>\n",
       "      <td>4874486</td>\n",
       "      <td>5050380</td>\n",
       "      <td>5073903</td>\n",
       "    </tr>\n",
       "    <tr>\n",
       "      <th>1</th>\n",
       "      <td>Alaska</td>\n",
       "      <td>730443</td>\n",
       "      <td>739700</td>\n",
       "      <td>734923</td>\n",
       "      <td>733276</td>\n",
       "    </tr>\n",
       "    <tr>\n",
       "      <th>2</th>\n",
       "      <td>Arizona</td>\n",
       "      <td>6554978</td>\n",
       "      <td>7044008</td>\n",
       "      <td>7272487</td>\n",
       "      <td>7365684</td>\n",
       "    </tr>\n",
       "    <tr>\n",
       "      <th>3</th>\n",
       "      <td>Arkansas</td>\n",
       "      <td>2952164</td>\n",
       "      <td>3001345</td>\n",
       "      <td>3028443</td>\n",
       "      <td>3046404</td>\n",
       "    </tr>\n",
       "    <tr>\n",
       "      <th>4</th>\n",
       "      <td>California</td>\n",
       "      <td>37948800</td>\n",
       "      <td>39358497</td>\n",
       "      <td>39145060</td>\n",
       "      <td>39040616</td>\n",
       "    </tr>\n",
       "    <tr>\n",
       "      <th>5</th>\n",
       "      <td>Colorado</td>\n",
       "      <td>5192647</td>\n",
       "      <td>5611885</td>\n",
       "      <td>5811596</td>\n",
       "      <td>5841039</td>\n",
       "    </tr>\n",
       "    <tr>\n",
       "      <th>6</th>\n",
       "      <td>Connecticut</td>\n",
       "      <td>3594547</td>\n",
       "      <td>3573297</td>\n",
       "      <td>3603691</td>\n",
       "      <td>3608706</td>\n",
       "    </tr>\n",
       "    <tr>\n",
       "      <th>7</th>\n",
       "      <td>Delaware</td>\n",
       "      <td>915179</td>\n",
       "      <td>956823</td>\n",
       "      <td>1004881</td>\n",
       "      <td>1019459</td>\n",
       "    </tr>\n",
       "    <tr>\n",
       "      <th>8</th>\n",
       "      <td>District of Columbia</td>\n",
       "      <td>634924</td>\n",
       "      <td>694906</td>\n",
       "      <td>669037</td>\n",
       "      <td>670949</td>\n",
       "    </tr>\n",
       "    <tr>\n",
       "      <th>9</th>\n",
       "      <td>Florida</td>\n",
       "      <td>19297822</td>\n",
       "      <td>20963613</td>\n",
       "      <td>21830708</td>\n",
       "      <td>22245521</td>\n",
       "    </tr>\n",
       "  </tbody>\n",
       "</table>\n",
       "</div>"
      ],
      "text/plain": [
       "                Regions      2012      2017      2021      2022\n",
       "0               Alabama   4815588   4874486   5050380   5073903\n",
       "1                Alaska    730443    739700    734923    733276\n",
       "2               Arizona   6554978   7044008   7272487   7365684\n",
       "3              Arkansas   2952164   3001345   3028443   3046404\n",
       "4            California  37948800  39358497  39145060  39040616\n",
       "5              Colorado   5192647   5611885   5811596   5841039\n",
       "6           Connecticut   3594547   3573297   3603691   3608706\n",
       "7              Delaware    915179    956823   1004881   1019459\n",
       "8  District of Columbia    634924    694906    669037    670949\n",
       "9               Florida  19297822  20963613  21830708  22245521"
      ]
     },
     "execution_count": 324,
     "metadata": {},
     "output_type": "execute_result"
    }
   ],
   "source": [
    "us_population.head(n=10)"
   ]
  },
  {
   "cell_type": "code",
   "execution_count": 325,
   "metadata": {},
   "outputs": [],
   "source": [
    "us_population=us_population.drop([8])\n",
    "us_population=us_population.reset_index()\n",
    "us_population=us_population[['Regions',2022,2021,2017,2012]]"
   ]
  },
  {
   "cell_type": "code",
   "execution_count": 326,
   "metadata": {},
   "outputs": [
    {
     "data": {
      "text/html": [
       "<div>\n",
       "<style scoped>\n",
       "    .dataframe tbody tr th:only-of-type {\n",
       "        vertical-align: middle;\n",
       "    }\n",
       "\n",
       "    .dataframe tbody tr th {\n",
       "        vertical-align: top;\n",
       "    }\n",
       "\n",
       "    .dataframe thead th {\n",
       "        text-align: right;\n",
       "    }\n",
       "</style>\n",
       "<table border=\"1\" class=\"dataframe\">\n",
       "  <thead>\n",
       "    <tr style=\"text-align: right;\">\n",
       "      <th></th>\n",
       "      <th>Regions</th>\n",
       "      <th>2022</th>\n",
       "      <th>2021</th>\n",
       "      <th>2017</th>\n",
       "      <th>2012</th>\n",
       "    </tr>\n",
       "  </thead>\n",
       "  <tbody>\n",
       "    <tr>\n",
       "      <th>0</th>\n",
       "      <td>Alabama</td>\n",
       "      <td>5073903</td>\n",
       "      <td>5050380</td>\n",
       "      <td>4874486</td>\n",
       "      <td>4815588</td>\n",
       "    </tr>\n",
       "    <tr>\n",
       "      <th>1</th>\n",
       "      <td>Alaska</td>\n",
       "      <td>733276</td>\n",
       "      <td>734923</td>\n",
       "      <td>739700</td>\n",
       "      <td>730443</td>\n",
       "    </tr>\n",
       "    <tr>\n",
       "      <th>2</th>\n",
       "      <td>Arizona</td>\n",
       "      <td>7365684</td>\n",
       "      <td>7272487</td>\n",
       "      <td>7044008</td>\n",
       "      <td>6554978</td>\n",
       "    </tr>\n",
       "    <tr>\n",
       "      <th>3</th>\n",
       "      <td>Arkansas</td>\n",
       "      <td>3046404</td>\n",
       "      <td>3028443</td>\n",
       "      <td>3001345</td>\n",
       "      <td>2952164</td>\n",
       "    </tr>\n",
       "    <tr>\n",
       "      <th>4</th>\n",
       "      <td>California</td>\n",
       "      <td>39040616</td>\n",
       "      <td>39145060</td>\n",
       "      <td>39358497</td>\n",
       "      <td>37948800</td>\n",
       "    </tr>\n",
       "    <tr>\n",
       "      <th>5</th>\n",
       "      <td>Colorado</td>\n",
       "      <td>5841039</td>\n",
       "      <td>5811596</td>\n",
       "      <td>5611885</td>\n",
       "      <td>5192647</td>\n",
       "    </tr>\n",
       "    <tr>\n",
       "      <th>6</th>\n",
       "      <td>Connecticut</td>\n",
       "      <td>3608706</td>\n",
       "      <td>3603691</td>\n",
       "      <td>3573297</td>\n",
       "      <td>3594547</td>\n",
       "    </tr>\n",
       "    <tr>\n",
       "      <th>7</th>\n",
       "      <td>Delaware</td>\n",
       "      <td>1019459</td>\n",
       "      <td>1004881</td>\n",
       "      <td>956823</td>\n",
       "      <td>915179</td>\n",
       "    </tr>\n",
       "    <tr>\n",
       "      <th>8</th>\n",
       "      <td>Florida</td>\n",
       "      <td>22245521</td>\n",
       "      <td>21830708</td>\n",
       "      <td>20963613</td>\n",
       "      <td>19297822</td>\n",
       "    </tr>\n",
       "    <tr>\n",
       "      <th>9</th>\n",
       "      <td>Georgia</td>\n",
       "      <td>10913150</td>\n",
       "      <td>10790385</td>\n",
       "      <td>10410330</td>\n",
       "      <td>9901430</td>\n",
       "    </tr>\n",
       "  </tbody>\n",
       "</table>\n",
       "</div>"
      ],
      "text/plain": [
       "       Regions      2022      2021      2017      2012\n",
       "0      Alabama   5073903   5050380   4874486   4815588\n",
       "1       Alaska    733276    734923    739700    730443\n",
       "2      Arizona   7365684   7272487   7044008   6554978\n",
       "3     Arkansas   3046404   3028443   3001345   2952164\n",
       "4   California  39040616  39145060  39358497  37948800\n",
       "5     Colorado   5841039   5811596   5611885   5192647\n",
       "6  Connecticut   3608706   3603691   3573297   3594547\n",
       "7     Delaware   1019459   1004881    956823    915179\n",
       "8      Florida  22245521  21830708  20963613  19297822\n",
       "9      Georgia  10913150  10790385  10410330   9901430"
      ]
     },
     "execution_count": 326,
     "metadata": {},
     "output_type": "execute_result"
    }
   ],
   "source": [
    "us_population.head(n=10)"
   ]
  },
  {
   "cell_type": "code",
   "execution_count": 327,
   "metadata": {},
   "outputs": [],
   "source": [
    "us_pop=pd.melt(us_population,id_vars='Regions',value_vars=[2022,2021,2017,2012],value_name='Population')\n",
    "us_pop=us_pop.rename(columns={'Regions':'State','variable':'Year'})"
   ]
  },
  {
   "cell_type": "code",
   "execution_count": 328,
   "metadata": {},
   "outputs": [
    {
     "data": {
      "text/html": [
       "<div>\n",
       "<style scoped>\n",
       "    .dataframe tbody tr th:only-of-type {\n",
       "        vertical-align: middle;\n",
       "    }\n",
       "\n",
       "    .dataframe tbody tr th {\n",
       "        vertical-align: top;\n",
       "    }\n",
       "\n",
       "    .dataframe thead th {\n",
       "        text-align: right;\n",
       "    }\n",
       "</style>\n",
       "<table border=\"1\" class=\"dataframe\">\n",
       "  <thead>\n",
       "    <tr style=\"text-align: right;\">\n",
       "      <th></th>\n",
       "      <th>State</th>\n",
       "      <th>Year</th>\n",
       "      <th>Population</th>\n",
       "    </tr>\n",
       "  </thead>\n",
       "  <tbody>\n",
       "    <tr>\n",
       "      <th>0</th>\n",
       "      <td>Alabama</td>\n",
       "      <td>2022</td>\n",
       "      <td>5073903</td>\n",
       "    </tr>\n",
       "    <tr>\n",
       "      <th>1</th>\n",
       "      <td>Alaska</td>\n",
       "      <td>2022</td>\n",
       "      <td>733276</td>\n",
       "    </tr>\n",
       "    <tr>\n",
       "      <th>2</th>\n",
       "      <td>Arizona</td>\n",
       "      <td>2022</td>\n",
       "      <td>7365684</td>\n",
       "    </tr>\n",
       "    <tr>\n",
       "      <th>3</th>\n",
       "      <td>Arkansas</td>\n",
       "      <td>2022</td>\n",
       "      <td>3046404</td>\n",
       "    </tr>\n",
       "    <tr>\n",
       "      <th>4</th>\n",
       "      <td>California</td>\n",
       "      <td>2022</td>\n",
       "      <td>39040616</td>\n",
       "    </tr>\n",
       "    <tr>\n",
       "      <th>...</th>\n",
       "      <td>...</td>\n",
       "      <td>...</td>\n",
       "      <td>...</td>\n",
       "    </tr>\n",
       "    <tr>\n",
       "      <th>195</th>\n",
       "      <td>Virginia</td>\n",
       "      <td>2012</td>\n",
       "      <td>8185080</td>\n",
       "    </tr>\n",
       "    <tr>\n",
       "      <th>196</th>\n",
       "      <td>Washington</td>\n",
       "      <td>2012</td>\n",
       "      <td>6897058</td>\n",
       "    </tr>\n",
       "    <tr>\n",
       "      <th>197</th>\n",
       "      <td>West Virginia</td>\n",
       "      <td>2012</td>\n",
       "      <td>1856872</td>\n",
       "    </tr>\n",
       "    <tr>\n",
       "      <th>198</th>\n",
       "      <td>Wisconsin</td>\n",
       "      <td>2012</td>\n",
       "      <td>5719960</td>\n",
       "    </tr>\n",
       "    <tr>\n",
       "      <th>199</th>\n",
       "      <td>Wyoming</td>\n",
       "      <td>2012</td>\n",
       "      <td>576305</td>\n",
       "    </tr>\n",
       "  </tbody>\n",
       "</table>\n",
       "<p>200 rows × 3 columns</p>\n",
       "</div>"
      ],
      "text/plain": [
       "             State  Year  Population\n",
       "0          Alabama  2022     5073903\n",
       "1           Alaska  2022      733276\n",
       "2          Arizona  2022     7365684\n",
       "3         Arkansas  2022     3046404\n",
       "4       California  2022    39040616\n",
       "..             ...   ...         ...\n",
       "195       Virginia  2012     8185080\n",
       "196     Washington  2012     6897058\n",
       "197  West Virginia  2012     1856872\n",
       "198      Wisconsin  2012     5719960\n",
       "199        Wyoming  2012      576305\n",
       "\n",
       "[200 rows x 3 columns]"
      ]
     },
     "execution_count": 328,
     "metadata": {},
     "output_type": "execute_result"
    }
   ],
   "source": [
    "us_pop"
   ]
  },
  {
   "cell_type": "code",
   "execution_count": 329,
   "metadata": {},
   "outputs": [],
   "source": [
    "us_income['State']=us_income['State'].str.strip()"
   ]
  },
  {
   "cell_type": "code",
   "execution_count": 330,
   "metadata": {},
   "outputs": [
    {
     "data": {
      "text/html": [
       "<div>\n",
       "<style scoped>\n",
       "    .dataframe tbody tr th:only-of-type {\n",
       "        vertical-align: middle;\n",
       "    }\n",
       "\n",
       "    .dataframe tbody tr th {\n",
       "        vertical-align: top;\n",
       "    }\n",
       "\n",
       "    .dataframe thead th {\n",
       "        text-align: right;\n",
       "    }\n",
       "</style>\n",
       "<table border=\"1\" class=\"dataframe\">\n",
       "  <thead>\n",
       "    <tr style=\"text-align: right;\">\n",
       "      <th></th>\n",
       "      <th>State</th>\n",
       "      <th>2022</th>\n",
       "      <th>2021</th>\n",
       "      <th>2017</th>\n",
       "      <th>2012</th>\n",
       "    </tr>\n",
       "  </thead>\n",
       "  <tbody>\n",
       "    <tr>\n",
       "      <th>0</th>\n",
       "      <td>Alabama</td>\n",
       "      <td>51683</td>\n",
       "      <td>50483</td>\n",
       "      <td>39975</td>\n",
       "      <td>35564</td>\n",
       "    </tr>\n",
       "    <tr>\n",
       "      <th>1</th>\n",
       "      <td>Alaska</td>\n",
       "      <td>69015</td>\n",
       "      <td>65563</td>\n",
       "      <td>56499</td>\n",
       "      <td>53340</td>\n",
       "    </tr>\n",
       "    <tr>\n",
       "      <th>2</th>\n",
       "      <td>Arizona</td>\n",
       "      <td>58968</td>\n",
       "      <td>56976</td>\n",
       "      <td>43208</td>\n",
       "      <td>36333</td>\n",
       "    </tr>\n",
       "    <tr>\n",
       "      <th>3</th>\n",
       "      <td>Arkansas</td>\n",
       "      <td>55323</td>\n",
       "      <td>52845</td>\n",
       "      <td>41402</td>\n",
       "      <td>36287</td>\n",
       "    </tr>\n",
       "    <tr>\n",
       "      <th>4</th>\n",
       "      <td>California</td>\n",
       "      <td>76941</td>\n",
       "      <td>76882</td>\n",
       "      <td>58214</td>\n",
       "      <td>47794</td>\n",
       "    </tr>\n",
       "    <tr>\n",
       "      <th>5</th>\n",
       "      <td>Colorado</td>\n",
       "      <td>76674</td>\n",
       "      <td>71706</td>\n",
       "      <td>54171</td>\n",
       "      <td>45490</td>\n",
       "    </tr>\n",
       "    <tr>\n",
       "      <th>6</th>\n",
       "      <td>Connecticut</td>\n",
       "      <td>84994</td>\n",
       "      <td>81758</td>\n",
       "      <td>69146</td>\n",
       "      <td>63555</td>\n",
       "    </tr>\n",
       "    <tr>\n",
       "      <th>7</th>\n",
       "      <td>Delaware</td>\n",
       "      <td>63964</td>\n",
       "      <td>59630</td>\n",
       "      <td>50002</td>\n",
       "      <td>43775</td>\n",
       "    </tr>\n",
       "    <tr>\n",
       "      <th>8</th>\n",
       "      <td>District of Columbia</td>\n",
       "      <td>101015</td>\n",
       "      <td>97796</td>\n",
       "      <td>79535</td>\n",
       "      <td>67470</td>\n",
       "    </tr>\n",
       "    <tr>\n",
       "      <th>9</th>\n",
       "      <td>Florida</td>\n",
       "      <td>64557</td>\n",
       "      <td>62242</td>\n",
       "      <td>48439</td>\n",
       "      <td>41204</td>\n",
       "    </tr>\n",
       "  </tbody>\n",
       "</table>\n",
       "</div>"
      ],
      "text/plain": [
       "                  State    2022   2021   2017   2012\n",
       "0               Alabama   51683  50483  39975  35564\n",
       "1                Alaska   69015  65563  56499  53340\n",
       "2               Arizona   58968  56976  43208  36333\n",
       "3              Arkansas   55323  52845  41402  36287\n",
       "4            California   76941  76882  58214  47794\n",
       "5              Colorado   76674  71706  54171  45490\n",
       "6           Connecticut   84994  81758  69146  63555\n",
       "7              Delaware   63964  59630  50002  43775\n",
       "8  District of Columbia  101015  97796  79535  67470\n",
       "9               Florida   64557  62242  48439  41204"
      ]
     },
     "execution_count": 330,
     "metadata": {},
     "output_type": "execute_result"
    }
   ],
   "source": [
    "us_income.head(n=10)"
   ]
  },
  {
   "cell_type": "code",
   "execution_count": 331,
   "metadata": {},
   "outputs": [
    {
     "data": {
      "text/html": [
       "<div>\n",
       "<style scoped>\n",
       "    .dataframe tbody tr th:only-of-type {\n",
       "        vertical-align: middle;\n",
       "    }\n",
       "\n",
       "    .dataframe tbody tr th {\n",
       "        vertical-align: top;\n",
       "    }\n",
       "\n",
       "    .dataframe thead th {\n",
       "        text-align: right;\n",
       "    }\n",
       "</style>\n",
       "<table border=\"1\" class=\"dataframe\">\n",
       "  <thead>\n",
       "    <tr style=\"text-align: right;\">\n",
       "      <th></th>\n",
       "      <th>State</th>\n",
       "      <th>2022</th>\n",
       "      <th>2021</th>\n",
       "      <th>2017</th>\n",
       "      <th>2012</th>\n",
       "    </tr>\n",
       "  </thead>\n",
       "  <tbody>\n",
       "    <tr>\n",
       "      <th>0</th>\n",
       "      <td>Alabama</td>\n",
       "      <td>51683</td>\n",
       "      <td>50483</td>\n",
       "      <td>39975</td>\n",
       "      <td>35564</td>\n",
       "    </tr>\n",
       "    <tr>\n",
       "      <th>1</th>\n",
       "      <td>Alaska</td>\n",
       "      <td>69015</td>\n",
       "      <td>65563</td>\n",
       "      <td>56499</td>\n",
       "      <td>53340</td>\n",
       "    </tr>\n",
       "    <tr>\n",
       "      <th>2</th>\n",
       "      <td>Arizona</td>\n",
       "      <td>58968</td>\n",
       "      <td>56976</td>\n",
       "      <td>43208</td>\n",
       "      <td>36333</td>\n",
       "    </tr>\n",
       "    <tr>\n",
       "      <th>3</th>\n",
       "      <td>Arkansas</td>\n",
       "      <td>55323</td>\n",
       "      <td>52845</td>\n",
       "      <td>41402</td>\n",
       "      <td>36287</td>\n",
       "    </tr>\n",
       "    <tr>\n",
       "      <th>4</th>\n",
       "      <td>California</td>\n",
       "      <td>76941</td>\n",
       "      <td>76882</td>\n",
       "      <td>58214</td>\n",
       "      <td>47794</td>\n",
       "    </tr>\n",
       "    <tr>\n",
       "      <th>5</th>\n",
       "      <td>Colorado</td>\n",
       "      <td>76674</td>\n",
       "      <td>71706</td>\n",
       "      <td>54171</td>\n",
       "      <td>45490</td>\n",
       "    </tr>\n",
       "    <tr>\n",
       "      <th>6</th>\n",
       "      <td>Connecticut</td>\n",
       "      <td>84994</td>\n",
       "      <td>81758</td>\n",
       "      <td>69146</td>\n",
       "      <td>63555</td>\n",
       "    </tr>\n",
       "    <tr>\n",
       "      <th>7</th>\n",
       "      <td>Delaware</td>\n",
       "      <td>63964</td>\n",
       "      <td>59630</td>\n",
       "      <td>50002</td>\n",
       "      <td>43775</td>\n",
       "    </tr>\n",
       "    <tr>\n",
       "      <th>8</th>\n",
       "      <td>Florida</td>\n",
       "      <td>64557</td>\n",
       "      <td>62242</td>\n",
       "      <td>48439</td>\n",
       "      <td>41204</td>\n",
       "    </tr>\n",
       "    <tr>\n",
       "      <th>9</th>\n",
       "      <td>Georgia</td>\n",
       "      <td>57290</td>\n",
       "      <td>56088</td>\n",
       "      <td>44838</td>\n",
       "      <td>37251</td>\n",
       "    </tr>\n",
       "  </tbody>\n",
       "</table>\n",
       "</div>"
      ],
      "text/plain": [
       "         State   2022   2021   2017   2012\n",
       "0      Alabama  51683  50483  39975  35564\n",
       "1       Alaska  69015  65563  56499  53340\n",
       "2      Arizona  58968  56976  43208  36333\n",
       "3     Arkansas  55323  52845  41402  36287\n",
       "4   California  76941  76882  58214  47794\n",
       "5     Colorado  76674  71706  54171  45490\n",
       "6  Connecticut  84994  81758  69146  63555\n",
       "7     Delaware  63964  59630  50002  43775\n",
       "8      Florida  64557  62242  48439  41204\n",
       "9      Georgia  57290  56088  44838  37251"
      ]
     },
     "execution_count": 331,
     "metadata": {},
     "output_type": "execute_result"
    }
   ],
   "source": [
    "us_income=us_income.drop([8])\n",
    "us_income=us_income.reset_index()\n",
    "us_income=us_income[['State',2022,2021,2017,2012]]\n",
    "us_income.head(n=10)"
   ]
  },
  {
   "cell_type": "code",
   "execution_count": 332,
   "metadata": {},
   "outputs": [
    {
     "data": {
      "text/html": [
       "<div>\n",
       "<style scoped>\n",
       "    .dataframe tbody tr th:only-of-type {\n",
       "        vertical-align: middle;\n",
       "    }\n",
       "\n",
       "    .dataframe tbody tr th {\n",
       "        vertical-align: top;\n",
       "    }\n",
       "\n",
       "    .dataframe thead th {\n",
       "        text-align: right;\n",
       "    }\n",
       "</style>\n",
       "<table border=\"1\" class=\"dataframe\">\n",
       "  <thead>\n",
       "    <tr style=\"text-align: right;\">\n",
       "      <th></th>\n",
       "      <th>State</th>\n",
       "      <th>Year</th>\n",
       "      <th>Per_capita_income</th>\n",
       "    </tr>\n",
       "  </thead>\n",
       "  <tbody>\n",
       "    <tr>\n",
       "      <th>0</th>\n",
       "      <td>Alabama</td>\n",
       "      <td>2022</td>\n",
       "      <td>51683</td>\n",
       "    </tr>\n",
       "    <tr>\n",
       "      <th>1</th>\n",
       "      <td>Alaska</td>\n",
       "      <td>2022</td>\n",
       "      <td>69015</td>\n",
       "    </tr>\n",
       "    <tr>\n",
       "      <th>2</th>\n",
       "      <td>Arizona</td>\n",
       "      <td>2022</td>\n",
       "      <td>58968</td>\n",
       "    </tr>\n",
       "    <tr>\n",
       "      <th>3</th>\n",
       "      <td>Arkansas</td>\n",
       "      <td>2022</td>\n",
       "      <td>55323</td>\n",
       "    </tr>\n",
       "    <tr>\n",
       "      <th>4</th>\n",
       "      <td>California</td>\n",
       "      <td>2022</td>\n",
       "      <td>76941</td>\n",
       "    </tr>\n",
       "    <tr>\n",
       "      <th>...</th>\n",
       "      <td>...</td>\n",
       "      <td>...</td>\n",
       "      <td>...</td>\n",
       "    </tr>\n",
       "    <tr>\n",
       "      <th>195</th>\n",
       "      <td>Virginia</td>\n",
       "      <td>2012</td>\n",
       "      <td>49052</td>\n",
       "    </tr>\n",
       "    <tr>\n",
       "      <th>196</th>\n",
       "      <td>Washington</td>\n",
       "      <td>2012</td>\n",
       "      <td>47057</td>\n",
       "    </tr>\n",
       "    <tr>\n",
       "      <th>197</th>\n",
       "      <td>West Virginia</td>\n",
       "      <td>2012</td>\n",
       "      <td>35233</td>\n",
       "    </tr>\n",
       "    <tr>\n",
       "      <th>198</th>\n",
       "      <td>Wisconsin</td>\n",
       "      <td>2012</td>\n",
       "      <td>42641</td>\n",
       "    </tr>\n",
       "    <tr>\n",
       "      <th>199</th>\n",
       "      <td>Wyoming</td>\n",
       "      <td>2012</td>\n",
       "      <td>53596</td>\n",
       "    </tr>\n",
       "  </tbody>\n",
       "</table>\n",
       "<p>200 rows × 3 columns</p>\n",
       "</div>"
      ],
      "text/plain": [
       "             State  Year  Per_capita_income\n",
       "0          Alabama  2022              51683\n",
       "1           Alaska  2022              69015\n",
       "2          Arizona  2022              58968\n",
       "3         Arkansas  2022              55323\n",
       "4       California  2022              76941\n",
       "..             ...   ...                ...\n",
       "195       Virginia  2012              49052\n",
       "196     Washington  2012              47057\n",
       "197  West Virginia  2012              35233\n",
       "198      Wisconsin  2012              42641\n",
       "199        Wyoming  2012              53596\n",
       "\n",
       "[200 rows x 3 columns]"
      ]
     },
     "execution_count": 332,
     "metadata": {},
     "output_type": "execute_result"
    }
   ],
   "source": [
    "us_pci = pd.melt(us_income,id_vars='State',value_vars=[2022,2021,2017,2012],value_name='Per_capita_income')\n",
    "us_pci=us_pci.rename(columns={'variable':'Year'})\n",
    "us_pci"
   ]
  },
  {
   "cell_type": "code",
   "execution_count": 333,
   "metadata": {},
   "outputs": [
    {
     "data": {
      "text/html": [
       "<div>\n",
       "<style scoped>\n",
       "    .dataframe tbody tr th:only-of-type {\n",
       "        vertical-align: middle;\n",
       "    }\n",
       "\n",
       "    .dataframe tbody tr th {\n",
       "        vertical-align: top;\n",
       "    }\n",
       "\n",
       "    .dataframe thead th {\n",
       "        text-align: right;\n",
       "    }\n",
       "</style>\n",
       "<table border=\"1\" class=\"dataframe\">\n",
       "  <thead>\n",
       "    <tr style=\"text-align: right;\">\n",
       "      <th></th>\n",
       "      <th>State</th>\n",
       "      <th>Year</th>\n",
       "      <th>Per_capita_income</th>\n",
       "      <th>Population</th>\n",
       "    </tr>\n",
       "  </thead>\n",
       "  <tbody>\n",
       "    <tr>\n",
       "      <th>0</th>\n",
       "      <td>Alabama</td>\n",
       "      <td>2022</td>\n",
       "      <td>51683</td>\n",
       "      <td>5073903</td>\n",
       "    </tr>\n",
       "    <tr>\n",
       "      <th>1</th>\n",
       "      <td>Alaska</td>\n",
       "      <td>2022</td>\n",
       "      <td>69015</td>\n",
       "      <td>733276</td>\n",
       "    </tr>\n",
       "    <tr>\n",
       "      <th>2</th>\n",
       "      <td>Arizona</td>\n",
       "      <td>2022</td>\n",
       "      <td>58968</td>\n",
       "      <td>7365684</td>\n",
       "    </tr>\n",
       "    <tr>\n",
       "      <th>3</th>\n",
       "      <td>Arkansas</td>\n",
       "      <td>2022</td>\n",
       "      <td>55323</td>\n",
       "      <td>3046404</td>\n",
       "    </tr>\n",
       "    <tr>\n",
       "      <th>4</th>\n",
       "      <td>California</td>\n",
       "      <td>2022</td>\n",
       "      <td>76941</td>\n",
       "      <td>39040616</td>\n",
       "    </tr>\n",
       "    <tr>\n",
       "      <th>...</th>\n",
       "      <td>...</td>\n",
       "      <td>...</td>\n",
       "      <td>...</td>\n",
       "      <td>...</td>\n",
       "    </tr>\n",
       "    <tr>\n",
       "      <th>195</th>\n",
       "      <td>Virginia</td>\n",
       "      <td>2012</td>\n",
       "      <td>49052</td>\n",
       "      <td>8185080</td>\n",
       "    </tr>\n",
       "    <tr>\n",
       "      <th>196</th>\n",
       "      <td>Washington</td>\n",
       "      <td>2012</td>\n",
       "      <td>47057</td>\n",
       "      <td>6897058</td>\n",
       "    </tr>\n",
       "    <tr>\n",
       "      <th>197</th>\n",
       "      <td>West Virginia</td>\n",
       "      <td>2012</td>\n",
       "      <td>35233</td>\n",
       "      <td>1856872</td>\n",
       "    </tr>\n",
       "    <tr>\n",
       "      <th>198</th>\n",
       "      <td>Wisconsin</td>\n",
       "      <td>2012</td>\n",
       "      <td>42641</td>\n",
       "      <td>5719960</td>\n",
       "    </tr>\n",
       "    <tr>\n",
       "      <th>199</th>\n",
       "      <td>Wyoming</td>\n",
       "      <td>2012</td>\n",
       "      <td>53596</td>\n",
       "      <td>576305</td>\n",
       "    </tr>\n",
       "  </tbody>\n",
       "</table>\n",
       "<p>200 rows × 4 columns</p>\n",
       "</div>"
      ],
      "text/plain": [
       "             State  Year  Per_capita_income  Population\n",
       "0          Alabama  2022              51683     5073903\n",
       "1           Alaska  2022              69015      733276\n",
       "2          Arizona  2022              58968     7365684\n",
       "3         Arkansas  2022              55323     3046404\n",
       "4       California  2022              76941    39040616\n",
       "..             ...   ...                ...         ...\n",
       "195       Virginia  2012              49052     8185080\n",
       "196     Washington  2012              47057     6897058\n",
       "197  West Virginia  2012              35233     1856872\n",
       "198      Wisconsin  2012              42641     5719960\n",
       "199        Wyoming  2012              53596      576305\n",
       "\n",
       "[200 rows x 4 columns]"
      ]
     },
     "execution_count": 333,
     "metadata": {},
     "output_type": "execute_result"
    }
   ],
   "source": [
    "us_data=us_pci.merge(us_pop)\n",
    "us_data"
   ]
  },
  {
   "cell_type": "code",
   "execution_count": 334,
   "metadata": {},
   "outputs": [
    {
     "data": {
      "text/html": [
       "<div>\n",
       "<style scoped>\n",
       "    .dataframe tbody tr th:only-of-type {\n",
       "        vertical-align: middle;\n",
       "    }\n",
       "\n",
       "    .dataframe tbody tr th {\n",
       "        vertical-align: top;\n",
       "    }\n",
       "\n",
       "    .dataframe thead th {\n",
       "        text-align: right;\n",
       "    }\n",
       "</style>\n",
       "<table border=\"1\" class=\"dataframe\">\n",
       "  <thead>\n",
       "    <tr style=\"text-align: right;\">\n",
       "      <th></th>\n",
       "      <th>State</th>\n",
       "      <th>Year</th>\n",
       "      <th>Per_capita_income</th>\n",
       "      <th>Population</th>\n",
       "      <th>PERCENT_3_OR_ABOVE</th>\n",
       "    </tr>\n",
       "  </thead>\n",
       "  <tbody>\n",
       "    <tr>\n",
       "      <th>0</th>\n",
       "      <td>Alabama</td>\n",
       "      <td>2022</td>\n",
       "      <td>51683</td>\n",
       "      <td>5073903</td>\n",
       "      <td>44.965078</td>\n",
       "    </tr>\n",
       "    <tr>\n",
       "      <th>1</th>\n",
       "      <td>Alaska</td>\n",
       "      <td>2022</td>\n",
       "      <td>69015</td>\n",
       "      <td>733276</td>\n",
       "      <td>59.375659</td>\n",
       "    </tr>\n",
       "    <tr>\n",
       "      <th>2</th>\n",
       "      <td>Arizona</td>\n",
       "      <td>2022</td>\n",
       "      <td>58968</td>\n",
       "      <td>7365684</td>\n",
       "      <td>60.535112</td>\n",
       "    </tr>\n",
       "    <tr>\n",
       "      <th>3</th>\n",
       "      <td>Arkansas</td>\n",
       "      <td>2022</td>\n",
       "      <td>55323</td>\n",
       "      <td>3046404</td>\n",
       "      <td>42.182216</td>\n",
       "    </tr>\n",
       "    <tr>\n",
       "      <th>4</th>\n",
       "      <td>California</td>\n",
       "      <td>2022</td>\n",
       "      <td>76941</td>\n",
       "      <td>39040616</td>\n",
       "      <td>61.322175</td>\n",
       "    </tr>\n",
       "    <tr>\n",
       "      <th>...</th>\n",
       "      <td>...</td>\n",
       "      <td>...</td>\n",
       "      <td>...</td>\n",
       "      <td>...</td>\n",
       "      <td>...</td>\n",
       "    </tr>\n",
       "    <tr>\n",
       "      <th>195</th>\n",
       "      <td>Virginia</td>\n",
       "      <td>2012</td>\n",
       "      <td>49052</td>\n",
       "      <td>8185080</td>\n",
       "      <td>60.195436</td>\n",
       "    </tr>\n",
       "    <tr>\n",
       "      <th>196</th>\n",
       "      <td>Washington</td>\n",
       "      <td>2012</td>\n",
       "      <td>47057</td>\n",
       "      <td>6897058</td>\n",
       "      <td>60.32488</td>\n",
       "    </tr>\n",
       "    <tr>\n",
       "      <th>197</th>\n",
       "      <td>West Virginia</td>\n",
       "      <td>2012</td>\n",
       "      <td>35233</td>\n",
       "      <td>1856872</td>\n",
       "      <td>42.41222</td>\n",
       "    </tr>\n",
       "    <tr>\n",
       "      <th>198</th>\n",
       "      <td>Wisconsin</td>\n",
       "      <td>2012</td>\n",
       "      <td>42641</td>\n",
       "      <td>5719960</td>\n",
       "      <td>68.009625</td>\n",
       "    </tr>\n",
       "    <tr>\n",
       "      <th>199</th>\n",
       "      <td>Wyoming</td>\n",
       "      <td>2012</td>\n",
       "      <td>53596</td>\n",
       "      <td>576305</td>\n",
       "      <td>56.39313</td>\n",
       "    </tr>\n",
       "  </tbody>\n",
       "</table>\n",
       "<p>200 rows × 5 columns</p>\n",
       "</div>"
      ],
      "text/plain": [
       "             State  Year  Per_capita_income  Population PERCENT_3_OR_ABOVE\n",
       "0          Alabama  2022              51683     5073903          44.965078\n",
       "1           Alaska  2022              69015      733276          59.375659\n",
       "2          Arizona  2022              58968     7365684          60.535112\n",
       "3         Arkansas  2022              55323     3046404          42.182216\n",
       "4       California  2022              76941    39040616          61.322175\n",
       "..             ...   ...                ...         ...                ...\n",
       "195       Virginia  2012              49052     8185080          60.195436\n",
       "196     Washington  2012              47057     6897058           60.32488\n",
       "197  West Virginia  2012              35233     1856872           42.41222\n",
       "198      Wisconsin  2012              42641     5719960          68.009625\n",
       "199        Wyoming  2012              53596      576305           56.39313\n",
       "\n",
       "[200 rows x 5 columns]"
      ]
     },
     "execution_count": 334,
     "metadata": {},
     "output_type": "execute_result"
    }
   ],
   "source": [
    "ap_passrates=us_data.merge(ap_scores[['State','PERCENT_3_OR_ABOVE','Year']])\n",
    "ap_passrates"
   ]
  },
  {
   "cell_type": "code",
   "execution_count": 335,
   "metadata": {},
   "outputs": [
    {
     "data": {
      "text/html": [
       "<div>\n",
       "<style scoped>\n",
       "    .dataframe tbody tr th:only-of-type {\n",
       "        vertical-align: middle;\n",
       "    }\n",
       "\n",
       "    .dataframe tbody tr th {\n",
       "        vertical-align: top;\n",
       "    }\n",
       "\n",
       "    .dataframe thead th {\n",
       "        text-align: right;\n",
       "    }\n",
       "</style>\n",
       "<table border=\"1\" class=\"dataframe\">\n",
       "  <thead>\n",
       "    <tr style=\"text-align: right;\">\n",
       "      <th></th>\n",
       "      <th>unitid</th>\n",
       "      <th>name</th>\n",
       "      <th>city</th>\n",
       "      <th>stabbr</th>\n",
       "      <th>basic2000</th>\n",
       "      <th>basic2005</th>\n",
       "      <th>basic2010</th>\n",
       "      <th>basic2015</th>\n",
       "      <th>basic2018</th>\n",
       "      <th>basic2021</th>\n",
       "      <th>...</th>\n",
       "      <th>control</th>\n",
       "      <th>landgrnt</th>\n",
       "      <th>medical</th>\n",
       "      <th>hbcu</th>\n",
       "      <th>tribal</th>\n",
       "      <th>hsi</th>\n",
       "      <th>msi</th>\n",
       "      <th>womens</th>\n",
       "      <th>rooms</th>\n",
       "      <th>selindex</th>\n",
       "    </tr>\n",
       "  </thead>\n",
       "  <tbody>\n",
       "    <tr>\n",
       "      <th>0</th>\n",
       "      <td>100654</td>\n",
       "      <td>Alabama A &amp; M University</td>\n",
       "      <td>Normal</td>\n",
       "      <td>AL</td>\n",
       "      <td>16</td>\n",
       "      <td>18</td>\n",
       "      <td>18</td>\n",
       "      <td>18</td>\n",
       "      <td>18</td>\n",
       "      <td>18</td>\n",
       "      <td>...</td>\n",
       "      <td>1</td>\n",
       "      <td>1</td>\n",
       "      <td>0</td>\n",
       "      <td>1</td>\n",
       "      <td>0</td>\n",
       "      <td>0</td>\n",
       "      <td>1</td>\n",
       "      <td>0</td>\n",
       "      <td>3220</td>\n",
       "      <td>1.0</td>\n",
       "    </tr>\n",
       "    <tr>\n",
       "      <th>1</th>\n",
       "      <td>100663</td>\n",
       "      <td>University of Alabama at Birmingham</td>\n",
       "      <td>Birmingham</td>\n",
       "      <td>AL</td>\n",
       "      <td>15</td>\n",
       "      <td>15</td>\n",
       "      <td>15</td>\n",
       "      <td>15</td>\n",
       "      <td>15</td>\n",
       "      <td>15</td>\n",
       "      <td>...</td>\n",
       "      <td>1</td>\n",
       "      <td>0</td>\n",
       "      <td>1</td>\n",
       "      <td>0</td>\n",
       "      <td>0</td>\n",
       "      <td>0</td>\n",
       "      <td>0</td>\n",
       "      <td>0</td>\n",
       "      <td>2882</td>\n",
       "      <td>2.0</td>\n",
       "    </tr>\n",
       "    <tr>\n",
       "      <th>2</th>\n",
       "      <td>100690</td>\n",
       "      <td>Amridge University</td>\n",
       "      <td>Montgomery</td>\n",
       "      <td>AL</td>\n",
       "      <td>51</td>\n",
       "      <td>24</td>\n",
       "      <td>24</td>\n",
       "      <td>20</td>\n",
       "      <td>20</td>\n",
       "      <td>20</td>\n",
       "      <td>...</td>\n",
       "      <td>2</td>\n",
       "      <td>0</td>\n",
       "      <td>0</td>\n",
       "      <td>0</td>\n",
       "      <td>0</td>\n",
       "      <td>0</td>\n",
       "      <td>0</td>\n",
       "      <td>0</td>\n",
       "      <td>0</td>\n",
       "      <td>1.0</td>\n",
       "    </tr>\n",
       "    <tr>\n",
       "      <th>3</th>\n",
       "      <td>100706</td>\n",
       "      <td>University of Alabama in Huntsville</td>\n",
       "      <td>Huntsville</td>\n",
       "      <td>AL</td>\n",
       "      <td>16</td>\n",
       "      <td>16</td>\n",
       "      <td>15</td>\n",
       "      <td>16</td>\n",
       "      <td>16</td>\n",
       "      <td>15</td>\n",
       "      <td>...</td>\n",
       "      <td>1</td>\n",
       "      <td>0</td>\n",
       "      <td>0</td>\n",
       "      <td>0</td>\n",
       "      <td>0</td>\n",
       "      <td>0</td>\n",
       "      <td>0</td>\n",
       "      <td>0</td>\n",
       "      <td>2200</td>\n",
       "      <td>3.0</td>\n",
       "    </tr>\n",
       "    <tr>\n",
       "      <th>4</th>\n",
       "      <td>100724</td>\n",
       "      <td>Alabama State University</td>\n",
       "      <td>Montgomery</td>\n",
       "      <td>AL</td>\n",
       "      <td>21</td>\n",
       "      <td>18</td>\n",
       "      <td>18</td>\n",
       "      <td>19</td>\n",
       "      <td>19</td>\n",
       "      <td>17</td>\n",
       "      <td>...</td>\n",
       "      <td>1</td>\n",
       "      <td>0</td>\n",
       "      <td>0</td>\n",
       "      <td>1</td>\n",
       "      <td>0</td>\n",
       "      <td>0</td>\n",
       "      <td>1</td>\n",
       "      <td>0</td>\n",
       "      <td>2079</td>\n",
       "      <td>1.0</td>\n",
       "    </tr>\n",
       "    <tr>\n",
       "      <th>5</th>\n",
       "      <td>100751</td>\n",
       "      <td>The University of Alabama</td>\n",
       "      <td>Tuscaloosa</td>\n",
       "      <td>AL</td>\n",
       "      <td>15</td>\n",
       "      <td>16</td>\n",
       "      <td>16</td>\n",
       "      <td>16</td>\n",
       "      <td>15</td>\n",
       "      <td>15</td>\n",
       "      <td>...</td>\n",
       "      <td>1</td>\n",
       "      <td>0</td>\n",
       "      <td>0</td>\n",
       "      <td>0</td>\n",
       "      <td>0</td>\n",
       "      <td>0</td>\n",
       "      <td>0</td>\n",
       "      <td>0</td>\n",
       "      <td>8443</td>\n",
       "      <td>2.0</td>\n",
       "    </tr>\n",
       "    <tr>\n",
       "      <th>6</th>\n",
       "      <td>100760</td>\n",
       "      <td>Central Alabama Community College</td>\n",
       "      <td>Alexander City</td>\n",
       "      <td>AL</td>\n",
       "      <td>40</td>\n",
       "      <td>2</td>\n",
       "      <td>2</td>\n",
       "      <td>1</td>\n",
       "      <td>2</td>\n",
       "      <td>5</td>\n",
       "      <td>...</td>\n",
       "      <td>1</td>\n",
       "      <td>0</td>\n",
       "      <td>0</td>\n",
       "      <td>0</td>\n",
       "      <td>0</td>\n",
       "      <td>0</td>\n",
       "      <td>0</td>\n",
       "      <td>0</td>\n",
       "      <td>0</td>\n",
       "      <td>NaN</td>\n",
       "    </tr>\n",
       "    <tr>\n",
       "      <th>7</th>\n",
       "      <td>100812</td>\n",
       "      <td>Athens State University</td>\n",
       "      <td>Athens</td>\n",
       "      <td>AL</td>\n",
       "      <td>32</td>\n",
       "      <td>22</td>\n",
       "      <td>22</td>\n",
       "      <td>22</td>\n",
       "      <td>22</td>\n",
       "      <td>22</td>\n",
       "      <td>...</td>\n",
       "      <td>1</td>\n",
       "      <td>0</td>\n",
       "      <td>0</td>\n",
       "      <td>0</td>\n",
       "      <td>0</td>\n",
       "      <td>0</td>\n",
       "      <td>0</td>\n",
       "      <td>0</td>\n",
       "      <td>0</td>\n",
       "      <td>0.0</td>\n",
       "    </tr>\n",
       "    <tr>\n",
       "      <th>8</th>\n",
       "      <td>100830</td>\n",
       "      <td>Auburn University at Montgomery</td>\n",
       "      <td>Montgomery</td>\n",
       "      <td>AL</td>\n",
       "      <td>21</td>\n",
       "      <td>18</td>\n",
       "      <td>18</td>\n",
       "      <td>18</td>\n",
       "      <td>18</td>\n",
       "      <td>18</td>\n",
       "      <td>...</td>\n",
       "      <td>1</td>\n",
       "      <td>0</td>\n",
       "      <td>0</td>\n",
       "      <td>0</td>\n",
       "      <td>0</td>\n",
       "      <td>0</td>\n",
       "      <td>0</td>\n",
       "      <td>0</td>\n",
       "      <td>1200</td>\n",
       "      <td>1.0</td>\n",
       "    </tr>\n",
       "    <tr>\n",
       "      <th>9</th>\n",
       "      <td>100858</td>\n",
       "      <td>Auburn University</td>\n",
       "      <td>Auburn</td>\n",
       "      <td>AL</td>\n",
       "      <td>15</td>\n",
       "      <td>16</td>\n",
       "      <td>16</td>\n",
       "      <td>16</td>\n",
       "      <td>15</td>\n",
       "      <td>15</td>\n",
       "      <td>...</td>\n",
       "      <td>1</td>\n",
       "      <td>1</td>\n",
       "      <td>1</td>\n",
       "      <td>0</td>\n",
       "      <td>0</td>\n",
       "      <td>0</td>\n",
       "      <td>0</td>\n",
       "      <td>0</td>\n",
       "      <td>4823</td>\n",
       "      <td>3.0</td>\n",
       "    </tr>\n",
       "  </tbody>\n",
       "</table>\n",
       "<p>10 rows × 24 columns</p>\n",
       "</div>"
      ],
      "text/plain": [
       "   unitid                                 name            city stabbr  \\\n",
       "0  100654             Alabama A & M University          Normal     AL   \n",
       "1  100663  University of Alabama at Birmingham      Birmingham     AL   \n",
       "2  100690                   Amridge University      Montgomery     AL   \n",
       "3  100706  University of Alabama in Huntsville      Huntsville     AL   \n",
       "4  100724             Alabama State University      Montgomery     AL   \n",
       "5  100751            The University of Alabama      Tuscaloosa     AL   \n",
       "6  100760    Central Alabama Community College  Alexander City     AL   \n",
       "7  100812              Athens State University          Athens     AL   \n",
       "8  100830      Auburn University at Montgomery      Montgomery     AL   \n",
       "9  100858                    Auburn University          Auburn     AL   \n",
       "\n",
       "   basic2000  basic2005  basic2010  basic2015  basic2018  basic2021  ...  \\\n",
       "0         16         18         18         18         18         18  ...   \n",
       "1         15         15         15         15         15         15  ...   \n",
       "2         51         24         24         20         20         20  ...   \n",
       "3         16         16         15         16         16         15  ...   \n",
       "4         21         18         18         19         19         17  ...   \n",
       "5         15         16         16         16         15         15  ...   \n",
       "6         40          2          2          1          2          5  ...   \n",
       "7         32         22         22         22         22         22  ...   \n",
       "8         21         18         18         18         18         18  ...   \n",
       "9         15         16         16         16         15         15  ...   \n",
       "\n",
       "   control  landgrnt  medical  hbcu  tribal  hsi  msi  womens  rooms  selindex  \n",
       "0        1         1        0     1       0    0    1       0   3220       1.0  \n",
       "1        1         0        1     0       0    0    0       0   2882       2.0  \n",
       "2        2         0        0     0       0    0    0       0      0       1.0  \n",
       "3        1         0        0     0       0    0    0       0   2200       3.0  \n",
       "4        1         0        0     1       0    0    1       0   2079       1.0  \n",
       "5        1         0        0     0       0    0    0       0   8443       2.0  \n",
       "6        1         0        0     0       0    0    0       0      0       NaN  \n",
       "7        1         0        0     0       0    0    0       0      0       0.0  \n",
       "8        1         0        0     0       0    0    0       0   1200       1.0  \n",
       "9        1         1        1     0       0    0    0       0   4823       3.0  \n",
       "\n",
       "[10 rows x 24 columns]"
      ]
     },
     "execution_count": 335,
     "metadata": {},
     "output_type": "execute_result"
    }
   ],
   "source": [
    "carnegie.head(n=10)"
   ]
  },
  {
   "cell_type": "code",
   "execution_count": 336,
   "metadata": {},
   "outputs": [
    {
     "name": "stdout",
     "output_type": "stream",
     "text": [
      "[1 2 3]\n",
      "[18 15 20 17  5 22 21  4  2  7 26 24  8  1 19  3 16 32 23 13 10  9  6 33\n",
      " 11 27 30 14 31 25 29 28 12]\n"
     ]
    }
   ],
   "source": [
    "print(carnegie.control.unique())\n",
    "print(carnegie.basic2021.unique())"
   ]
  },
  {
   "cell_type": "code",
   "execution_count": 337,
   "metadata": {},
   "outputs": [],
   "source": [
    "territories = ['AS','GU','MP','FM','PW','VI','MH','PR','DC']  #US territories that appear in the data (including DC)"
   ]
  },
  {
   "cell_type": "code",
   "execution_count": 338,
   "metadata": {},
   "outputs": [],
   "source": [
    "carnegie = carnegie.drop(carnegie[carnegie['stabbr'].isin(territories)].index)  #Drop all the states from the list \"territories\""
   ]
  },
  {
   "cell_type": "code",
   "execution_count": 339,
   "metadata": {},
   "outputs": [
    {
     "data": {
      "text/plain": [
       "50"
      ]
     },
     "execution_count": 339,
     "metadata": {},
     "output_type": "execute_result"
    }
   ],
   "source": [
    "len(carnegie.stabbr.unique())"
   ]
  },
  {
   "cell_type": "code",
   "execution_count": 340,
   "metadata": {},
   "outputs": [
    {
     "data": {
      "text/plain": [
       "Index(['unitid', 'name', 'city', 'stabbr', 'basic2000', 'basic2005',\n",
       "       'basic2010', 'basic2015', 'basic2018', 'basic2021', 'ipug2021',\n",
       "       'ipgrad2021', 'obereg', 'sector', 'control', 'landgrnt', 'medical',\n",
       "       'hbcu', 'tribal', 'hsi', 'msi', 'womens', 'rooms', 'selindex'],\n",
       "      dtype='object')"
      ]
     },
     "execution_count": 340,
     "metadata": {},
     "output_type": "execute_result"
    }
   ],
   "source": [
    "carnegie.columns"
   ]
  },
  {
   "cell_type": "code",
   "execution_count": 341,
   "metadata": {},
   "outputs": [],
   "source": [
    "relevant_columns = ['name','city','stabbr','basic2010','basic2015','basic2021','control']"
   ]
  },
  {
   "cell_type": "code",
   "execution_count": 342,
   "metadata": {},
   "outputs": [],
   "source": [
    "carnegie = carnegie[relevant_columns]"
   ]
  },
  {
   "cell_type": "code",
   "execution_count": 343,
   "metadata": {},
   "outputs": [
    {
     "data": {
      "text/plain": [
       "1    Alabama\n",
       "Name: State, dtype: object"
      ]
     },
     "execution_count": 343,
     "metadata": {},
     "output_type": "execute_result"
    }
   ],
   "source": [
    "state_abbreviation = pd.read_csv('data/State Abbreviation.csv')\n",
    "state_abbreviation[state_abbreviation['stabbr'] == 'AL'].State"
   ]
  },
  {
   "cell_type": "code",
   "execution_count": 344,
   "metadata": {},
   "outputs": [
    {
     "data": {
      "text/html": [
       "<div>\n",
       "<style scoped>\n",
       "    .dataframe tbody tr th:only-of-type {\n",
       "        vertical-align: middle;\n",
       "    }\n",
       "\n",
       "    .dataframe tbody tr th {\n",
       "        vertical-align: top;\n",
       "    }\n",
       "\n",
       "    .dataframe thead th {\n",
       "        text-align: right;\n",
       "    }\n",
       "</style>\n",
       "<table border=\"1\" class=\"dataframe\">\n",
       "  <thead>\n",
       "    <tr style=\"text-align: right;\">\n",
       "      <th></th>\n",
       "      <th>name</th>\n",
       "      <th>city</th>\n",
       "      <th>stabbr</th>\n",
       "      <th>basic2010</th>\n",
       "      <th>basic2015</th>\n",
       "      <th>basic2021</th>\n",
       "      <th>control</th>\n",
       "    </tr>\n",
       "  </thead>\n",
       "  <tbody>\n",
       "    <tr>\n",
       "      <th>0</th>\n",
       "      <td>Alabama A &amp; M University</td>\n",
       "      <td>Normal</td>\n",
       "      <td>AL</td>\n",
       "      <td>18</td>\n",
       "      <td>18</td>\n",
       "      <td>18</td>\n",
       "      <td>1</td>\n",
       "    </tr>\n",
       "    <tr>\n",
       "      <th>1</th>\n",
       "      <td>University of Alabama at Birmingham</td>\n",
       "      <td>Birmingham</td>\n",
       "      <td>AL</td>\n",
       "      <td>15</td>\n",
       "      <td>15</td>\n",
       "      <td>15</td>\n",
       "      <td>1</td>\n",
       "    </tr>\n",
       "    <tr>\n",
       "      <th>2</th>\n",
       "      <td>Amridge University</td>\n",
       "      <td>Montgomery</td>\n",
       "      <td>AL</td>\n",
       "      <td>24</td>\n",
       "      <td>20</td>\n",
       "      <td>20</td>\n",
       "      <td>2</td>\n",
       "    </tr>\n",
       "    <tr>\n",
       "      <th>3</th>\n",
       "      <td>University of Alabama in Huntsville</td>\n",
       "      <td>Huntsville</td>\n",
       "      <td>AL</td>\n",
       "      <td>15</td>\n",
       "      <td>16</td>\n",
       "      <td>15</td>\n",
       "      <td>1</td>\n",
       "    </tr>\n",
       "    <tr>\n",
       "      <th>4</th>\n",
       "      <td>Alabama State University</td>\n",
       "      <td>Montgomery</td>\n",
       "      <td>AL</td>\n",
       "      <td>18</td>\n",
       "      <td>19</td>\n",
       "      <td>17</td>\n",
       "      <td>1</td>\n",
       "    </tr>\n",
       "    <tr>\n",
       "      <th>...</th>\n",
       "      <td>...</td>\n",
       "      <td>...</td>\n",
       "      <td>...</td>\n",
       "      <td>...</td>\n",
       "      <td>...</td>\n",
       "      <td>...</td>\n",
       "      <td>...</td>\n",
       "    </tr>\n",
       "    <tr>\n",
       "      <th>3933</th>\n",
       "      <td>California University of Science and Medicine</td>\n",
       "      <td>Colton</td>\n",
       "      <td>CA</td>\n",
       "      <td>-2</td>\n",
       "      <td>-2</td>\n",
       "      <td>25</td>\n",
       "      <td>2</td>\n",
       "    </tr>\n",
       "    <tr>\n",
       "      <th>3934</th>\n",
       "      <td>California Institute of Arts &amp; Technology-Nati...</td>\n",
       "      <td>National City</td>\n",
       "      <td>CA</td>\n",
       "      <td>-2</td>\n",
       "      <td>-2</td>\n",
       "      <td>11</td>\n",
       "      <td>3</td>\n",
       "    </tr>\n",
       "    <tr>\n",
       "      <th>3936</th>\n",
       "      <td>The Judge Advocate General's School</td>\n",
       "      <td>Charlottesville</td>\n",
       "      <td>VA</td>\n",
       "      <td>-2</td>\n",
       "      <td>-2</td>\n",
       "      <td>32</td>\n",
       "      <td>1</td>\n",
       "    </tr>\n",
       "    <tr>\n",
       "      <th>3937</th>\n",
       "      <td>United States Army War College</td>\n",
       "      <td>Carlisle</td>\n",
       "      <td>PA</td>\n",
       "      <td>-2</td>\n",
       "      <td>-2</td>\n",
       "      <td>32</td>\n",
       "      <td>1</td>\n",
       "    </tr>\n",
       "    <tr>\n",
       "      <th>3938</th>\n",
       "      <td>Air University</td>\n",
       "      <td>Montgomery</td>\n",
       "      <td>AL</td>\n",
       "      <td>-2</td>\n",
       "      <td>-2</td>\n",
       "      <td>18</td>\n",
       "      <td>1</td>\n",
       "    </tr>\n",
       "  </tbody>\n",
       "</table>\n",
       "<p>3822 rows × 7 columns</p>\n",
       "</div>"
      ],
      "text/plain": [
       "                                                   name             city  \\\n",
       "0                              Alabama A & M University           Normal   \n",
       "1                   University of Alabama at Birmingham       Birmingham   \n",
       "2                                    Amridge University       Montgomery   \n",
       "3                   University of Alabama in Huntsville       Huntsville   \n",
       "4                              Alabama State University       Montgomery   \n",
       "...                                                 ...              ...   \n",
       "3933      California University of Science and Medicine           Colton   \n",
       "3934  California Institute of Arts & Technology-Nati...    National City   \n",
       "3936                The Judge Advocate General's School  Charlottesville   \n",
       "3937                     United States Army War College         Carlisle   \n",
       "3938                                     Air University       Montgomery   \n",
       "\n",
       "     stabbr  basic2010  basic2015  basic2021  control  \n",
       "0        AL         18         18         18        1  \n",
       "1        AL         15         15         15        1  \n",
       "2        AL         24         20         20        2  \n",
       "3        AL         15         16         15        1  \n",
       "4        AL         18         19         17        1  \n",
       "...     ...        ...        ...        ...      ...  \n",
       "3933     CA         -2         -2         25        2  \n",
       "3934     CA         -2         -2         11        3  \n",
       "3936     VA         -2         -2         32        1  \n",
       "3937     PA         -2         -2         32        1  \n",
       "3938     AL         -2         -2         18        1  \n",
       "\n",
       "[3822 rows x 7 columns]"
      ]
     },
     "execution_count": 344,
     "metadata": {},
     "output_type": "execute_result"
    }
   ],
   "source": [
    "carnegie"
   ]
  },
  {
   "cell_type": "code",
   "execution_count": 345,
   "metadata": {},
   "outputs": [],
   "source": [
    "def stabbr_to_state(state_abbrev):\n",
    "    state = state_abbreviation[state_abbreviation['stabbr'] == state_abbrev].State.values[0]\n",
    "    return state"
   ]
  },
  {
   "cell_type": "code",
   "execution_count": 346,
   "metadata": {},
   "outputs": [],
   "source": [
    "carnegie['States']=carnegie['stabbr'].apply(stabbr_to_state)"
   ]
  },
  {
   "cell_type": "code",
   "execution_count": 347,
   "metadata": {},
   "outputs": [
    {
     "data": {
      "text/html": [
       "<div>\n",
       "<style scoped>\n",
       "    .dataframe tbody tr th:only-of-type {\n",
       "        vertical-align: middle;\n",
       "    }\n",
       "\n",
       "    .dataframe tbody tr th {\n",
       "        vertical-align: top;\n",
       "    }\n",
       "\n",
       "    .dataframe thead th {\n",
       "        text-align: right;\n",
       "    }\n",
       "</style>\n",
       "<table border=\"1\" class=\"dataframe\">\n",
       "  <thead>\n",
       "    <tr style=\"text-align: right;\">\n",
       "      <th></th>\n",
       "      <th>name</th>\n",
       "      <th>city</th>\n",
       "      <th>stabbr</th>\n",
       "      <th>basic2010</th>\n",
       "      <th>basic2015</th>\n",
       "      <th>basic2021</th>\n",
       "      <th>control</th>\n",
       "      <th>States</th>\n",
       "    </tr>\n",
       "  </thead>\n",
       "  <tbody>\n",
       "    <tr>\n",
       "      <th>0</th>\n",
       "      <td>Alabama A &amp; M University</td>\n",
       "      <td>Normal</td>\n",
       "      <td>AL</td>\n",
       "      <td>18</td>\n",
       "      <td>18</td>\n",
       "      <td>18</td>\n",
       "      <td>1</td>\n",
       "      <td>Alabama</td>\n",
       "    </tr>\n",
       "    <tr>\n",
       "      <th>1</th>\n",
       "      <td>University of Alabama at Birmingham</td>\n",
       "      <td>Birmingham</td>\n",
       "      <td>AL</td>\n",
       "      <td>15</td>\n",
       "      <td>15</td>\n",
       "      <td>15</td>\n",
       "      <td>1</td>\n",
       "      <td>Alabama</td>\n",
       "    </tr>\n",
       "    <tr>\n",
       "      <th>2</th>\n",
       "      <td>Amridge University</td>\n",
       "      <td>Montgomery</td>\n",
       "      <td>AL</td>\n",
       "      <td>24</td>\n",
       "      <td>20</td>\n",
       "      <td>20</td>\n",
       "      <td>2</td>\n",
       "      <td>Alabama</td>\n",
       "    </tr>\n",
       "    <tr>\n",
       "      <th>3</th>\n",
       "      <td>University of Alabama in Huntsville</td>\n",
       "      <td>Huntsville</td>\n",
       "      <td>AL</td>\n",
       "      <td>15</td>\n",
       "      <td>16</td>\n",
       "      <td>15</td>\n",
       "      <td>1</td>\n",
       "      <td>Alabama</td>\n",
       "    </tr>\n",
       "    <tr>\n",
       "      <th>4</th>\n",
       "      <td>Alabama State University</td>\n",
       "      <td>Montgomery</td>\n",
       "      <td>AL</td>\n",
       "      <td>18</td>\n",
       "      <td>19</td>\n",
       "      <td>17</td>\n",
       "      <td>1</td>\n",
       "      <td>Alabama</td>\n",
       "    </tr>\n",
       "    <tr>\n",
       "      <th>...</th>\n",
       "      <td>...</td>\n",
       "      <td>...</td>\n",
       "      <td>...</td>\n",
       "      <td>...</td>\n",
       "      <td>...</td>\n",
       "      <td>...</td>\n",
       "      <td>...</td>\n",
       "      <td>...</td>\n",
       "    </tr>\n",
       "    <tr>\n",
       "      <th>3933</th>\n",
       "      <td>California University of Science and Medicine</td>\n",
       "      <td>Colton</td>\n",
       "      <td>CA</td>\n",
       "      <td>-2</td>\n",
       "      <td>-2</td>\n",
       "      <td>25</td>\n",
       "      <td>2</td>\n",
       "      <td>California</td>\n",
       "    </tr>\n",
       "    <tr>\n",
       "      <th>3934</th>\n",
       "      <td>California Institute of Arts &amp; Technology-Nati...</td>\n",
       "      <td>National City</td>\n",
       "      <td>CA</td>\n",
       "      <td>-2</td>\n",
       "      <td>-2</td>\n",
       "      <td>11</td>\n",
       "      <td>3</td>\n",
       "      <td>California</td>\n",
       "    </tr>\n",
       "    <tr>\n",
       "      <th>3936</th>\n",
       "      <td>The Judge Advocate General's School</td>\n",
       "      <td>Charlottesville</td>\n",
       "      <td>VA</td>\n",
       "      <td>-2</td>\n",
       "      <td>-2</td>\n",
       "      <td>32</td>\n",
       "      <td>1</td>\n",
       "      <td>Virginia</td>\n",
       "    </tr>\n",
       "    <tr>\n",
       "      <th>3937</th>\n",
       "      <td>United States Army War College</td>\n",
       "      <td>Carlisle</td>\n",
       "      <td>PA</td>\n",
       "      <td>-2</td>\n",
       "      <td>-2</td>\n",
       "      <td>32</td>\n",
       "      <td>1</td>\n",
       "      <td>Pennsylvania</td>\n",
       "    </tr>\n",
       "    <tr>\n",
       "      <th>3938</th>\n",
       "      <td>Air University</td>\n",
       "      <td>Montgomery</td>\n",
       "      <td>AL</td>\n",
       "      <td>-2</td>\n",
       "      <td>-2</td>\n",
       "      <td>18</td>\n",
       "      <td>1</td>\n",
       "      <td>Alabama</td>\n",
       "    </tr>\n",
       "  </tbody>\n",
       "</table>\n",
       "<p>3822 rows × 8 columns</p>\n",
       "</div>"
      ],
      "text/plain": [
       "                                                   name             city  \\\n",
       "0                              Alabama A & M University           Normal   \n",
       "1                   University of Alabama at Birmingham       Birmingham   \n",
       "2                                    Amridge University       Montgomery   \n",
       "3                   University of Alabama in Huntsville       Huntsville   \n",
       "4                              Alabama State University       Montgomery   \n",
       "...                                                 ...              ...   \n",
       "3933      California University of Science and Medicine           Colton   \n",
       "3934  California Institute of Arts & Technology-Nati...    National City   \n",
       "3936                The Judge Advocate General's School  Charlottesville   \n",
       "3937                     United States Army War College         Carlisle   \n",
       "3938                                     Air University       Montgomery   \n",
       "\n",
       "     stabbr  basic2010  basic2015  basic2021  control        States  \n",
       "0        AL         18         18         18        1       Alabama  \n",
       "1        AL         15         15         15        1       Alabama  \n",
       "2        AL         24         20         20        2       Alabama  \n",
       "3        AL         15         16         15        1       Alabama  \n",
       "4        AL         18         19         17        1       Alabama  \n",
       "...     ...        ...        ...        ...      ...           ...  \n",
       "3933     CA         -2         -2         25        2    California  \n",
       "3934     CA         -2         -2         11        3    California  \n",
       "3936     VA         -2         -2         32        1      Virginia  \n",
       "3937     PA         -2         -2         32        1  Pennsylvania  \n",
       "3938     AL         -2         -2         18        1       Alabama  \n",
       "\n",
       "[3822 rows x 8 columns]"
      ]
     },
     "execution_count": 347,
     "metadata": {},
     "output_type": "execute_result"
    }
   ],
   "source": [
    "carnegie"
   ]
  },
  {
   "cell_type": "code",
   "execution_count": 348,
   "metadata": {},
   "outputs": [
    {
     "data": {
      "text/html": [
       "<div>\n",
       "<style scoped>\n",
       "    .dataframe tbody tr th:only-of-type {\n",
       "        vertical-align: middle;\n",
       "    }\n",
       "\n",
       "    .dataframe tbody tr th {\n",
       "        vertical-align: top;\n",
       "    }\n",
       "\n",
       "    .dataframe thead th {\n",
       "        text-align: right;\n",
       "    }\n",
       "</style>\n",
       "<table border=\"1\" class=\"dataframe\">\n",
       "  <thead>\n",
       "    <tr style=\"text-align: right;\">\n",
       "      <th></th>\n",
       "      <th>States</th>\n",
       "      <th>R1count</th>\n",
       "      <th>R2count</th>\n",
       "      <th>R1plusR2</th>\n",
       "    </tr>\n",
       "  </thead>\n",
       "  <tbody>\n",
       "    <tr>\n",
       "      <th>0</th>\n",
       "      <td>Alabama</td>\n",
       "      <td>4</td>\n",
       "      <td>1</td>\n",
       "      <td>5</td>\n",
       "    </tr>\n",
       "    <tr>\n",
       "      <th>1</th>\n",
       "      <td>Alaska</td>\n",
       "      <td>0</td>\n",
       "      <td>1</td>\n",
       "      <td>1</td>\n",
       "    </tr>\n",
       "    <tr>\n",
       "      <th>2</th>\n",
       "      <td>Washington</td>\n",
       "      <td>2</td>\n",
       "      <td>0</td>\n",
       "      <td>2</td>\n",
       "    </tr>\n",
       "    <tr>\n",
       "      <th>3</th>\n",
       "      <td>Arizona</td>\n",
       "      <td>2</td>\n",
       "      <td>2</td>\n",
       "      <td>4</td>\n",
       "    </tr>\n",
       "    <tr>\n",
       "      <th>4</th>\n",
       "      <td>New Mexico</td>\n",
       "      <td>1</td>\n",
       "      <td>1</td>\n",
       "      <td>2</td>\n",
       "    </tr>\n",
       "    <tr>\n",
       "      <th>5</th>\n",
       "      <td>Arkansas</td>\n",
       "      <td>1</td>\n",
       "      <td>2</td>\n",
       "      <td>3</td>\n",
       "    </tr>\n",
       "    <tr>\n",
       "      <th>6</th>\n",
       "      <td>California</td>\n",
       "      <td>11</td>\n",
       "      <td>14</td>\n",
       "      <td>25</td>\n",
       "    </tr>\n",
       "    <tr>\n",
       "      <th>7</th>\n",
       "      <td>Minnesota</td>\n",
       "      <td>1</td>\n",
       "      <td>0</td>\n",
       "      <td>1</td>\n",
       "    </tr>\n",
       "    <tr>\n",
       "      <th>8</th>\n",
       "      <td>Colorado</td>\n",
       "      <td>5</td>\n",
       "      <td>1</td>\n",
       "      <td>6</td>\n",
       "    </tr>\n",
       "    <tr>\n",
       "      <th>9</th>\n",
       "      <td>Connecticut</td>\n",
       "      <td>2</td>\n",
       "      <td>0</td>\n",
       "      <td>2</td>\n",
       "    </tr>\n",
       "  </tbody>\n",
       "</table>\n",
       "</div>"
      ],
      "text/plain": [
       "        States  R1count  R2count  R1plusR2\n",
       "0      Alabama        4        1         5\n",
       "1       Alaska        0        1         1\n",
       "2   Washington        2        0         2\n",
       "3      Arizona        2        2         4\n",
       "4   New Mexico        1        1         2\n",
       "5     Arkansas        1        2         3\n",
       "6   California       11       14        25\n",
       "7    Minnesota        1        0         1\n",
       "8     Colorado        5        1         6\n",
       "9  Connecticut        2        0         2"
      ]
     },
     "execution_count": 348,
     "metadata": {},
     "output_type": "execute_result"
    }
   ],
   "source": [
    "R1R2_2021 = {'States':[],'R1count':[],'R2count':[]}\n",
    "for i in carnegie.States.unique():\n",
    "    R1R2_2021['States'].append(i)\n",
    "    R1R2_2021['R1count'].append(len(carnegie.loc[carnegie.States.eq(i) & carnegie.basic2021.eq(15)]))\n",
    "    R1R2_2021['R2count'].append(len(carnegie.loc[carnegie.States.eq(i) & carnegie.basic2021.eq(16)]))\n",
    "\n",
    "R1R2_2021=pd.DataFrame(R1R2_2021)\n",
    "R1R2_2021['R1plusR2']=R1R2_2021.R1count+R1R2_2021.R2count\n",
    "R1R2_2021.head(n=10)"
   ]
  },
  {
   "cell_type": "code",
   "execution_count": 349,
   "metadata": {},
   "outputs": [
    {
     "data": {
      "text/html": [
       "<div>\n",
       "<style scoped>\n",
       "    .dataframe tbody tr th:only-of-type {\n",
       "        vertical-align: middle;\n",
       "    }\n",
       "\n",
       "    .dataframe tbody tr th {\n",
       "        vertical-align: top;\n",
       "    }\n",
       "\n",
       "    .dataframe thead th {\n",
       "        text-align: right;\n",
       "    }\n",
       "</style>\n",
       "<table border=\"1\" class=\"dataframe\">\n",
       "  <thead>\n",
       "    <tr style=\"text-align: right;\">\n",
       "      <th></th>\n",
       "      <th>States</th>\n",
       "      <th>public</th>\n",
       "      <th>private_not_profit</th>\n",
       "      <th>private_for_profit</th>\n",
       "    </tr>\n",
       "  </thead>\n",
       "  <tbody>\n",
       "    <tr>\n",
       "      <th>0</th>\n",
       "      <td>Alabama</td>\n",
       "      <td>38</td>\n",
       "      <td>18</td>\n",
       "      <td>4</td>\n",
       "    </tr>\n",
       "    <tr>\n",
       "      <th>1</th>\n",
       "      <td>Alaska</td>\n",
       "      <td>4</td>\n",
       "      <td>3</td>\n",
       "      <td>1</td>\n",
       "    </tr>\n",
       "    <tr>\n",
       "      <th>2</th>\n",
       "      <td>Washington</td>\n",
       "      <td>42</td>\n",
       "      <td>23</td>\n",
       "      <td>7</td>\n",
       "    </tr>\n",
       "    <tr>\n",
       "      <th>3</th>\n",
       "      <td>Arizona</td>\n",
       "      <td>26</td>\n",
       "      <td>13</td>\n",
       "      <td>27</td>\n",
       "    </tr>\n",
       "    <tr>\n",
       "      <th>4</th>\n",
       "      <td>New Mexico</td>\n",
       "      <td>28</td>\n",
       "      <td>3</td>\n",
       "      <td>5</td>\n",
       "    </tr>\n",
       "    <tr>\n",
       "      <th>5</th>\n",
       "      <td>Arkansas</td>\n",
       "      <td>34</td>\n",
       "      <td>17</td>\n",
       "      <td>2</td>\n",
       "    </tr>\n",
       "    <tr>\n",
       "      <th>6</th>\n",
       "      <td>California</td>\n",
       "      <td>153</td>\n",
       "      <td>151</td>\n",
       "      <td>121</td>\n",
       "    </tr>\n",
       "    <tr>\n",
       "      <th>7</th>\n",
       "      <td>Minnesota</td>\n",
       "      <td>45</td>\n",
       "      <td>33</td>\n",
       "      <td>7</td>\n",
       "    </tr>\n",
       "    <tr>\n",
       "      <th>8</th>\n",
       "      <td>Colorado</td>\n",
       "      <td>29</td>\n",
       "      <td>9</td>\n",
       "      <td>24</td>\n",
       "    </tr>\n",
       "    <tr>\n",
       "      <th>9</th>\n",
       "      <td>Connecticut</td>\n",
       "      <td>19</td>\n",
       "      <td>17</td>\n",
       "      <td>2</td>\n",
       "    </tr>\n",
       "    <tr>\n",
       "      <th>10</th>\n",
       "      <td>Delaware</td>\n",
       "      <td>3</td>\n",
       "      <td>3</td>\n",
       "      <td>1</td>\n",
       "    </tr>\n",
       "    <tr>\n",
       "      <th>11</th>\n",
       "      <td>Florida</td>\n",
       "      <td>41</td>\n",
       "      <td>61</td>\n",
       "      <td>59</td>\n",
       "    </tr>\n",
       "    <tr>\n",
       "      <th>12</th>\n",
       "      <td>Georgia</td>\n",
       "      <td>50</td>\n",
       "      <td>36</td>\n",
       "      <td>21</td>\n",
       "    </tr>\n",
       "    <tr>\n",
       "      <th>13</th>\n",
       "      <td>Hawaii</td>\n",
       "      <td>10</td>\n",
       "      <td>4</td>\n",
       "      <td>3</td>\n",
       "    </tr>\n",
       "    <tr>\n",
       "      <th>14</th>\n",
       "      <td>Idaho</td>\n",
       "      <td>8</td>\n",
       "      <td>5</td>\n",
       "      <td>1</td>\n",
       "    </tr>\n",
       "    <tr>\n",
       "      <th>15</th>\n",
       "      <td>Illinois</td>\n",
       "      <td>60</td>\n",
       "      <td>78</td>\n",
       "      <td>14</td>\n",
       "    </tr>\n",
       "    <tr>\n",
       "      <th>16</th>\n",
       "      <td>Indiana</td>\n",
       "      <td>16</td>\n",
       "      <td>41</td>\n",
       "      <td>9</td>\n",
       "    </tr>\n",
       "    <tr>\n",
       "      <th>17</th>\n",
       "      <td>Iowa</td>\n",
       "      <td>19</td>\n",
       "      <td>34</td>\n",
       "      <td>3</td>\n",
       "    </tr>\n",
       "    <tr>\n",
       "      <th>18</th>\n",
       "      <td>Kansas</td>\n",
       "      <td>34</td>\n",
       "      <td>24</td>\n",
       "      <td>5</td>\n",
       "    </tr>\n",
       "    <tr>\n",
       "      <th>19</th>\n",
       "      <td>Missouri</td>\n",
       "      <td>27</td>\n",
       "      <td>53</td>\n",
       "      <td>13</td>\n",
       "    </tr>\n",
       "    <tr>\n",
       "      <th>20</th>\n",
       "      <td>Kentucky</td>\n",
       "      <td>24</td>\n",
       "      <td>26</td>\n",
       "      <td>9</td>\n",
       "    </tr>\n",
       "    <tr>\n",
       "      <th>21</th>\n",
       "      <td>Louisiana</td>\n",
       "      <td>31</td>\n",
       "      <td>14</td>\n",
       "      <td>7</td>\n",
       "    </tr>\n",
       "    <tr>\n",
       "      <th>22</th>\n",
       "      <td>Maine</td>\n",
       "      <td>15</td>\n",
       "      <td>14</td>\n",
       "      <td>1</td>\n",
       "    </tr>\n",
       "    <tr>\n",
       "      <th>23</th>\n",
       "      <td>Maryland</td>\n",
       "      <td>31</td>\n",
       "      <td>19</td>\n",
       "      <td>4</td>\n",
       "    </tr>\n",
       "    <tr>\n",
       "      <th>24</th>\n",
       "      <td>Massachusetts</td>\n",
       "      <td>30</td>\n",
       "      <td>74</td>\n",
       "      <td>2</td>\n",
       "    </tr>\n",
       "    <tr>\n",
       "      <th>25</th>\n",
       "      <td>Michigan</td>\n",
       "      <td>46</td>\n",
       "      <td>39</td>\n",
       "      <td>2</td>\n",
       "    </tr>\n",
       "    <tr>\n",
       "      <th>26</th>\n",
       "      <td>Mississippi</td>\n",
       "      <td>23</td>\n",
       "      <td>9</td>\n",
       "      <td>1</td>\n",
       "    </tr>\n",
       "    <tr>\n",
       "      <th>27</th>\n",
       "      <td>Montana</td>\n",
       "      <td>19</td>\n",
       "      <td>4</td>\n",
       "      <td>1</td>\n",
       "    </tr>\n",
       "    <tr>\n",
       "      <th>28</th>\n",
       "      <td>Nebraska</td>\n",
       "      <td>16</td>\n",
       "      <td>15</td>\n",
       "      <td>3</td>\n",
       "    </tr>\n",
       "    <tr>\n",
       "      <th>29</th>\n",
       "      <td>Nevada</td>\n",
       "      <td>7</td>\n",
       "      <td>4</td>\n",
       "      <td>11</td>\n",
       "    </tr>\n",
       "    <tr>\n",
       "      <th>30</th>\n",
       "      <td>New Hampshire</td>\n",
       "      <td>13</td>\n",
       "      <td>11</td>\n",
       "      <td>0</td>\n",
       "    </tr>\n",
       "    <tr>\n",
       "      <th>31</th>\n",
       "      <td>New Jersey</td>\n",
       "      <td>32</td>\n",
       "      <td>40</td>\n",
       "      <td>10</td>\n",
       "    </tr>\n",
       "    <tr>\n",
       "      <th>32</th>\n",
       "      <td>New York</td>\n",
       "      <td>81</td>\n",
       "      <td>185</td>\n",
       "      <td>29</td>\n",
       "    </tr>\n",
       "    <tr>\n",
       "      <th>33</th>\n",
       "      <td>North Carolina</td>\n",
       "      <td>75</td>\n",
       "      <td>49</td>\n",
       "      <td>10</td>\n",
       "    </tr>\n",
       "    <tr>\n",
       "      <th>34</th>\n",
       "      <td>North Dakota</td>\n",
       "      <td>16</td>\n",
       "      <td>3</td>\n",
       "      <td>1</td>\n",
       "    </tr>\n",
       "    <tr>\n",
       "      <th>35</th>\n",
       "      <td>Ohio</td>\n",
       "      <td>61</td>\n",
       "      <td>71</td>\n",
       "      <td>29</td>\n",
       "    </tr>\n",
       "    <tr>\n",
       "      <th>36</th>\n",
       "      <td>Oklahoma</td>\n",
       "      <td>30</td>\n",
       "      <td>14</td>\n",
       "      <td>2</td>\n",
       "    </tr>\n",
       "    <tr>\n",
       "      <th>37</th>\n",
       "      <td>Oregon</td>\n",
       "      <td>25</td>\n",
       "      <td>22</td>\n",
       "      <td>3</td>\n",
       "    </tr>\n",
       "    <tr>\n",
       "      <th>38</th>\n",
       "      <td>Pennsylvania</td>\n",
       "      <td>41</td>\n",
       "      <td>117</td>\n",
       "      <td>35</td>\n",
       "    </tr>\n",
       "    <tr>\n",
       "      <th>39</th>\n",
       "      <td>Rhode Island</td>\n",
       "      <td>4</td>\n",
       "      <td>11</td>\n",
       "      <td>0</td>\n",
       "    </tr>\n",
       "    <tr>\n",
       "      <th>40</th>\n",
       "      <td>South Carolina</td>\n",
       "      <td>33</td>\n",
       "      <td>25</td>\n",
       "      <td>8</td>\n",
       "    </tr>\n",
       "    <tr>\n",
       "      <th>41</th>\n",
       "      <td>South Dakota</td>\n",
       "      <td>13</td>\n",
       "      <td>6</td>\n",
       "      <td>2</td>\n",
       "    </tr>\n",
       "    <tr>\n",
       "      <th>42</th>\n",
       "      <td>Tennessee</td>\n",
       "      <td>24</td>\n",
       "      <td>42</td>\n",
       "      <td>17</td>\n",
       "    </tr>\n",
       "    <tr>\n",
       "      <th>43</th>\n",
       "      <td>Texas</td>\n",
       "      <td>103</td>\n",
       "      <td>69</td>\n",
       "      <td>54</td>\n",
       "    </tr>\n",
       "    <tr>\n",
       "      <th>44</th>\n",
       "      <td>Utah</td>\n",
       "      <td>8</td>\n",
       "      <td>5</td>\n",
       "      <td>10</td>\n",
       "    </tr>\n",
       "    <tr>\n",
       "      <th>45</th>\n",
       "      <td>Vermont</td>\n",
       "      <td>5</td>\n",
       "      <td>11</td>\n",
       "      <td>0</td>\n",
       "    </tr>\n",
       "    <tr>\n",
       "      <th>46</th>\n",
       "      <td>Virginia</td>\n",
       "      <td>42</td>\n",
       "      <td>40</td>\n",
       "      <td>26</td>\n",
       "    </tr>\n",
       "    <tr>\n",
       "      <th>47</th>\n",
       "      <td>West Virginia</td>\n",
       "      <td>22</td>\n",
       "      <td>9</td>\n",
       "      <td>10</td>\n",
       "    </tr>\n",
       "    <tr>\n",
       "      <th>48</th>\n",
       "      <td>Wisconsin</td>\n",
       "      <td>33</td>\n",
       "      <td>30</td>\n",
       "      <td>4</td>\n",
       "    </tr>\n",
       "    <tr>\n",
       "      <th>49</th>\n",
       "      <td>Wyoming</td>\n",
       "      <td>8</td>\n",
       "      <td>0</td>\n",
       "      <td>1</td>\n",
       "    </tr>\n",
       "  </tbody>\n",
       "</table>\n",
       "</div>"
      ],
      "text/plain": [
       "            States  public  private_not_profit  private_for_profit\n",
       "0          Alabama      38                  18                   4\n",
       "1           Alaska       4                   3                   1\n",
       "2       Washington      42                  23                   7\n",
       "3          Arizona      26                  13                  27\n",
       "4       New Mexico      28                   3                   5\n",
       "5         Arkansas      34                  17                   2\n",
       "6       California     153                 151                 121\n",
       "7        Minnesota      45                  33                   7\n",
       "8         Colorado      29                   9                  24\n",
       "9      Connecticut      19                  17                   2\n",
       "10        Delaware       3                   3                   1\n",
       "11         Florida      41                  61                  59\n",
       "12         Georgia      50                  36                  21\n",
       "13          Hawaii      10                   4                   3\n",
       "14           Idaho       8                   5                   1\n",
       "15        Illinois      60                  78                  14\n",
       "16         Indiana      16                  41                   9\n",
       "17            Iowa      19                  34                   3\n",
       "18          Kansas      34                  24                   5\n",
       "19        Missouri      27                  53                  13\n",
       "20        Kentucky      24                  26                   9\n",
       "21       Louisiana      31                  14                   7\n",
       "22           Maine      15                  14                   1\n",
       "23        Maryland      31                  19                   4\n",
       "24   Massachusetts      30                  74                   2\n",
       "25        Michigan      46                  39                   2\n",
       "26     Mississippi      23                   9                   1\n",
       "27         Montana      19                   4                   1\n",
       "28        Nebraska      16                  15                   3\n",
       "29          Nevada       7                   4                  11\n",
       "30   New Hampshire      13                  11                   0\n",
       "31      New Jersey      32                  40                  10\n",
       "32        New York      81                 185                  29\n",
       "33  North Carolina      75                  49                  10\n",
       "34    North Dakota      16                   3                   1\n",
       "35            Ohio      61                  71                  29\n",
       "36        Oklahoma      30                  14                   2\n",
       "37          Oregon      25                  22                   3\n",
       "38    Pennsylvania      41                 117                  35\n",
       "39    Rhode Island       4                  11                   0\n",
       "40  South Carolina      33                  25                   8\n",
       "41    South Dakota      13                   6                   2\n",
       "42       Tennessee      24                  42                  17\n",
       "43           Texas     103                  69                  54\n",
       "44            Utah       8                   5                  10\n",
       "45         Vermont       5                  11                   0\n",
       "46        Virginia      42                  40                  26\n",
       "47   West Virginia      22                   9                  10\n",
       "48       Wisconsin      33                  30                   4\n",
       "49         Wyoming       8                   0                   1"
      ]
     },
     "execution_count": 349,
     "metadata": {},
     "output_type": "execute_result"
    }
   ],
   "source": [
    "public_private = {'States':[],'public':[],'private_not_profit':[],'private_for_profit':[]}\n",
    "for i in carnegie.States.unique():\n",
    "    public_private['States'].append(i)\n",
    "    public_private['public'].append(len(carnegie.loc[carnegie.States.eq(i) & carnegie.control.eq(1)]))\n",
    "    public_private['private_not_profit'].append(len(carnegie.loc[carnegie.States.eq(i) & carnegie.control.eq(2)]))\n",
    "    public_private['private_for_profit'].append(len(carnegie.loc[carnegie.States.eq(i) & carnegie.control.eq(3)]))\n",
    "\n",
    "public_private = pd.DataFrame(public_private)\n",
    "public_private"
   ]
  },
  {
   "cell_type": "code",
   "execution_count": 350,
   "metadata": {},
   "outputs": [
    {
     "data": {
      "text/html": [
       "<div>\n",
       "<style scoped>\n",
       "    .dataframe tbody tr th:only-of-type {\n",
       "        vertical-align: middle;\n",
       "    }\n",
       "\n",
       "    .dataframe tbody tr th {\n",
       "        vertical-align: top;\n",
       "    }\n",
       "\n",
       "    .dataframe thead th {\n",
       "        text-align: right;\n",
       "    }\n",
       "</style>\n",
       "<table border=\"1\" class=\"dataframe\">\n",
       "  <thead>\n",
       "    <tr style=\"text-align: right;\">\n",
       "      <th></th>\n",
       "      <th>States</th>\n",
       "      <th>public</th>\n",
       "      <th>private_not_profit</th>\n",
       "      <th>private_for_profit</th>\n",
       "      <th>R1count</th>\n",
       "      <th>R2count</th>\n",
       "      <th>R1plusR2</th>\n",
       "      <th>Year</th>\n",
       "    </tr>\n",
       "  </thead>\n",
       "  <tbody>\n",
       "    <tr>\n",
       "      <th>0</th>\n",
       "      <td>Alabama</td>\n",
       "      <td>38</td>\n",
       "      <td>18</td>\n",
       "      <td>4</td>\n",
       "      <td>4</td>\n",
       "      <td>1</td>\n",
       "      <td>5</td>\n",
       "      <td>2022.0</td>\n",
       "    </tr>\n",
       "    <tr>\n",
       "      <th>1</th>\n",
       "      <td>Alaska</td>\n",
       "      <td>4</td>\n",
       "      <td>3</td>\n",
       "      <td>1</td>\n",
       "      <td>0</td>\n",
       "      <td>1</td>\n",
       "      <td>1</td>\n",
       "      <td>2022.0</td>\n",
       "    </tr>\n",
       "    <tr>\n",
       "      <th>2</th>\n",
       "      <td>Washington</td>\n",
       "      <td>42</td>\n",
       "      <td>23</td>\n",
       "      <td>7</td>\n",
       "      <td>2</td>\n",
       "      <td>0</td>\n",
       "      <td>2</td>\n",
       "      <td>2022.0</td>\n",
       "    </tr>\n",
       "    <tr>\n",
       "      <th>3</th>\n",
       "      <td>Arizona</td>\n",
       "      <td>26</td>\n",
       "      <td>13</td>\n",
       "      <td>27</td>\n",
       "      <td>2</td>\n",
       "      <td>2</td>\n",
       "      <td>4</td>\n",
       "      <td>2022.0</td>\n",
       "    </tr>\n",
       "    <tr>\n",
       "      <th>4</th>\n",
       "      <td>New Mexico</td>\n",
       "      <td>28</td>\n",
       "      <td>3</td>\n",
       "      <td>5</td>\n",
       "      <td>1</td>\n",
       "      <td>1</td>\n",
       "      <td>2</td>\n",
       "      <td>2022.0</td>\n",
       "    </tr>\n",
       "    <tr>\n",
       "      <th>...</th>\n",
       "      <td>...</td>\n",
       "      <td>...</td>\n",
       "      <td>...</td>\n",
       "      <td>...</td>\n",
       "      <td>...</td>\n",
       "      <td>...</td>\n",
       "      <td>...</td>\n",
       "      <td>...</td>\n",
       "    </tr>\n",
       "    <tr>\n",
       "      <th>195</th>\n",
       "      <td>Vermont</td>\n",
       "      <td>5</td>\n",
       "      <td>11</td>\n",
       "      <td>0</td>\n",
       "      <td>0</td>\n",
       "      <td>1</td>\n",
       "      <td>1</td>\n",
       "      <td>2012.0</td>\n",
       "    </tr>\n",
       "    <tr>\n",
       "      <th>196</th>\n",
       "      <td>Virginia</td>\n",
       "      <td>42</td>\n",
       "      <td>40</td>\n",
       "      <td>26</td>\n",
       "      <td>5</td>\n",
       "      <td>2</td>\n",
       "      <td>7</td>\n",
       "      <td>2012.0</td>\n",
       "    </tr>\n",
       "    <tr>\n",
       "      <th>197</th>\n",
       "      <td>West Virginia</td>\n",
       "      <td>22</td>\n",
       "      <td>9</td>\n",
       "      <td>10</td>\n",
       "      <td>1</td>\n",
       "      <td>1</td>\n",
       "      <td>2</td>\n",
       "      <td>2012.0</td>\n",
       "    </tr>\n",
       "    <tr>\n",
       "      <th>198</th>\n",
       "      <td>Wisconsin</td>\n",
       "      <td>33</td>\n",
       "      <td>30</td>\n",
       "      <td>4</td>\n",
       "      <td>2</td>\n",
       "      <td>1</td>\n",
       "      <td>3</td>\n",
       "      <td>2012.0</td>\n",
       "    </tr>\n",
       "    <tr>\n",
       "      <th>199</th>\n",
       "      <td>Wyoming</td>\n",
       "      <td>8</td>\n",
       "      <td>0</td>\n",
       "      <td>1</td>\n",
       "      <td>0</td>\n",
       "      <td>1</td>\n",
       "      <td>1</td>\n",
       "      <td>2012.0</td>\n",
       "    </tr>\n",
       "  </tbody>\n",
       "</table>\n",
       "<p>200 rows × 8 columns</p>\n",
       "</div>"
      ],
      "text/plain": [
       "            States  public  private_not_profit  private_for_profit  R1count  \\\n",
       "0          Alabama      38                  18                   4        4   \n",
       "1           Alaska       4                   3                   1        0   \n",
       "2       Washington      42                  23                   7        2   \n",
       "3          Arizona      26                  13                  27        2   \n",
       "4       New Mexico      28                   3                   5        1   \n",
       "..             ...     ...                 ...                 ...      ...   \n",
       "195        Vermont       5                  11                   0        0   \n",
       "196       Virginia      42                  40                  26        5   \n",
       "197  West Virginia      22                   9                  10        1   \n",
       "198      Wisconsin      33                  30                   4        2   \n",
       "199        Wyoming       8                   0                   1        0   \n",
       "\n",
       "     R2count  R1plusR2    Year  \n",
       "0          1         5  2022.0  \n",
       "1          1         1  2022.0  \n",
       "2          0         2  2022.0  \n",
       "3          2         4  2022.0  \n",
       "4          1         2  2022.0  \n",
       "..       ...       ...     ...  \n",
       "195        1         1  2012.0  \n",
       "196        2         7  2012.0  \n",
       "197        1         2  2012.0  \n",
       "198        1         3  2012.0  \n",
       "199        1         1  2012.0  \n",
       "\n",
       "[200 rows x 8 columns]"
      ]
     },
     "execution_count": 350,
     "metadata": {},
     "output_type": "execute_result"
    }
   ],
   "source": [
    "unicount22=public_private.merge(R1R2_2021)\n",
    "unicount22['Year'] = 2022*np.ones(len(unicount22.index))\n",
    "unicount21=public_private.merge(R1R2_2021)\n",
    "unicount21['Year'] = 2021*np.ones(len(unicount21.index))\n",
    "unicount17=public_private.merge(R1R2_2021)\n",
    "unicount17['Year'] = 2017*np.ones(len(unicount17.index))\n",
    "unicount12=public_private.merge(R1R2_2021)\n",
    "unicount12['Year'] = 2012*np.ones(len(unicount12.index))\n",
    "unicount=pd.concat([unicount22,unicount21,unicount17,unicount12])\n",
    "unicount.reset_index(drop=True,inplace=True)\n",
    "unicount"
   ]
  },
  {
   "cell_type": "code",
   "execution_count": 351,
   "metadata": {},
   "outputs": [],
   "source": [
    "unicount.Year = unicount.Year.apply(np.int64)\n",
    "unicount = unicount[['States','public','private_not_profit','R1plusR2','Year']]"
   ]
  },
  {
   "cell_type": "code",
   "execution_count": 352,
   "metadata": {},
   "outputs": [],
   "source": [
    "unicount=unicount.rename(columns={'States':'State'})"
   ]
  },
  {
   "cell_type": "code",
   "execution_count": 353,
   "metadata": {},
   "outputs": [
    {
     "data": {
      "text/html": [
       "<div>\n",
       "<style scoped>\n",
       "    .dataframe tbody tr th:only-of-type {\n",
       "        vertical-align: middle;\n",
       "    }\n",
       "\n",
       "    .dataframe tbody tr th {\n",
       "        vertical-align: top;\n",
       "    }\n",
       "\n",
       "    .dataframe thead th {\n",
       "        text-align: right;\n",
       "    }\n",
       "</style>\n",
       "<table border=\"1\" class=\"dataframe\">\n",
       "  <thead>\n",
       "    <tr style=\"text-align: right;\">\n",
       "      <th></th>\n",
       "      <th>State</th>\n",
       "      <th>Year</th>\n",
       "      <th>Per_capita_income</th>\n",
       "      <th>Population</th>\n",
       "      <th>PERCENT_3_OR_ABOVE</th>\n",
       "    </tr>\n",
       "  </thead>\n",
       "  <tbody>\n",
       "    <tr>\n",
       "      <th>0</th>\n",
       "      <td>Alabama</td>\n",
       "      <td>2022</td>\n",
       "      <td>51683</td>\n",
       "      <td>5073903</td>\n",
       "      <td>44.965078</td>\n",
       "    </tr>\n",
       "    <tr>\n",
       "      <th>1</th>\n",
       "      <td>Alaska</td>\n",
       "      <td>2022</td>\n",
       "      <td>69015</td>\n",
       "      <td>733276</td>\n",
       "      <td>59.375659</td>\n",
       "    </tr>\n",
       "    <tr>\n",
       "      <th>2</th>\n",
       "      <td>Arizona</td>\n",
       "      <td>2022</td>\n",
       "      <td>58968</td>\n",
       "      <td>7365684</td>\n",
       "      <td>60.535112</td>\n",
       "    </tr>\n",
       "    <tr>\n",
       "      <th>3</th>\n",
       "      <td>Arkansas</td>\n",
       "      <td>2022</td>\n",
       "      <td>55323</td>\n",
       "      <td>3046404</td>\n",
       "      <td>42.182216</td>\n",
       "    </tr>\n",
       "    <tr>\n",
       "      <th>4</th>\n",
       "      <td>California</td>\n",
       "      <td>2022</td>\n",
       "      <td>76941</td>\n",
       "      <td>39040616</td>\n",
       "      <td>61.322175</td>\n",
       "    </tr>\n",
       "    <tr>\n",
       "      <th>...</th>\n",
       "      <td>...</td>\n",
       "      <td>...</td>\n",
       "      <td>...</td>\n",
       "      <td>...</td>\n",
       "      <td>...</td>\n",
       "    </tr>\n",
       "    <tr>\n",
       "      <th>195</th>\n",
       "      <td>Virginia</td>\n",
       "      <td>2012</td>\n",
       "      <td>49052</td>\n",
       "      <td>8185080</td>\n",
       "      <td>60.195436</td>\n",
       "    </tr>\n",
       "    <tr>\n",
       "      <th>196</th>\n",
       "      <td>Washington</td>\n",
       "      <td>2012</td>\n",
       "      <td>47057</td>\n",
       "      <td>6897058</td>\n",
       "      <td>60.32488</td>\n",
       "    </tr>\n",
       "    <tr>\n",
       "      <th>197</th>\n",
       "      <td>West Virginia</td>\n",
       "      <td>2012</td>\n",
       "      <td>35233</td>\n",
       "      <td>1856872</td>\n",
       "      <td>42.41222</td>\n",
       "    </tr>\n",
       "    <tr>\n",
       "      <th>198</th>\n",
       "      <td>Wisconsin</td>\n",
       "      <td>2012</td>\n",
       "      <td>42641</td>\n",
       "      <td>5719960</td>\n",
       "      <td>68.009625</td>\n",
       "    </tr>\n",
       "    <tr>\n",
       "      <th>199</th>\n",
       "      <td>Wyoming</td>\n",
       "      <td>2012</td>\n",
       "      <td>53596</td>\n",
       "      <td>576305</td>\n",
       "      <td>56.39313</td>\n",
       "    </tr>\n",
       "  </tbody>\n",
       "</table>\n",
       "<p>200 rows × 5 columns</p>\n",
       "</div>"
      ],
      "text/plain": [
       "             State  Year  Per_capita_income  Population PERCENT_3_OR_ABOVE\n",
       "0          Alabama  2022              51683     5073903          44.965078\n",
       "1           Alaska  2022              69015      733276          59.375659\n",
       "2          Arizona  2022              58968     7365684          60.535112\n",
       "3         Arkansas  2022              55323     3046404          42.182216\n",
       "4       California  2022              76941    39040616          61.322175\n",
       "..             ...   ...                ...         ...                ...\n",
       "195       Virginia  2012              49052     8185080          60.195436\n",
       "196     Washington  2012              47057     6897058           60.32488\n",
       "197  West Virginia  2012              35233     1856872           42.41222\n",
       "198      Wisconsin  2012              42641     5719960          68.009625\n",
       "199        Wyoming  2012              53596      576305           56.39313\n",
       "\n",
       "[200 rows x 5 columns]"
      ]
     },
     "execution_count": 353,
     "metadata": {},
     "output_type": "execute_result"
    }
   ],
   "source": [
    "ap_passrates"
   ]
  },
  {
   "cell_type": "code",
   "execution_count": 354,
   "metadata": {},
   "outputs": [],
   "source": [
    "ap_overall_statelevel=unicount.merge(ap_passrates)"
   ]
  },
  {
   "cell_type": "code",
   "execution_count": 355,
   "metadata": {},
   "outputs": [
    {
     "data": {
      "text/html": [
       "<div>\n",
       "<style scoped>\n",
       "    .dataframe tbody tr th:only-of-type {\n",
       "        vertical-align: middle;\n",
       "    }\n",
       "\n",
       "    .dataframe tbody tr th {\n",
       "        vertical-align: top;\n",
       "    }\n",
       "\n",
       "    .dataframe thead th {\n",
       "        text-align: right;\n",
       "    }\n",
       "</style>\n",
       "<table border=\"1\" class=\"dataframe\">\n",
       "  <thead>\n",
       "    <tr style=\"text-align: right;\">\n",
       "      <th></th>\n",
       "      <th>State</th>\n",
       "      <th>public</th>\n",
       "      <th>private_not_profit</th>\n",
       "      <th>R1plusR2</th>\n",
       "      <th>Year</th>\n",
       "      <th>Per_capita_income</th>\n",
       "      <th>Population</th>\n",
       "      <th>PERCENT_3_OR_ABOVE</th>\n",
       "      <th>R1R2_per_million</th>\n",
       "      <th>public_per_million</th>\n",
       "      <th>private_notprofit_per_million</th>\n",
       "    </tr>\n",
       "  </thead>\n",
       "  <tbody>\n",
       "    <tr>\n",
       "      <th>0</th>\n",
       "      <td>Alabama</td>\n",
       "      <td>38</td>\n",
       "      <td>18</td>\n",
       "      <td>5</td>\n",
       "      <td>2022</td>\n",
       "      <td>51683</td>\n",
       "      <td>5073903</td>\n",
       "      <td>44.965078</td>\n",
       "      <td>0.985435</td>\n",
       "      <td>7.489304</td>\n",
       "      <td>3.547565</td>\n",
       "    </tr>\n",
       "    <tr>\n",
       "      <th>1</th>\n",
       "      <td>Alaska</td>\n",
       "      <td>4</td>\n",
       "      <td>3</td>\n",
       "      <td>1</td>\n",
       "      <td>2022</td>\n",
       "      <td>69015</td>\n",
       "      <td>733276</td>\n",
       "      <td>59.375659</td>\n",
       "      <td>1.363743</td>\n",
       "      <td>5.454972</td>\n",
       "      <td>4.091229</td>\n",
       "    </tr>\n",
       "    <tr>\n",
       "      <th>2</th>\n",
       "      <td>Washington</td>\n",
       "      <td>42</td>\n",
       "      <td>23</td>\n",
       "      <td>2</td>\n",
       "      <td>2022</td>\n",
       "      <td>75673</td>\n",
       "      <td>7784477</td>\n",
       "      <td>65.911295</td>\n",
       "      <td>0.256922</td>\n",
       "      <td>5.395353</td>\n",
       "      <td>2.954598</td>\n",
       "    </tr>\n",
       "    <tr>\n",
       "      <th>3</th>\n",
       "      <td>Arizona</td>\n",
       "      <td>26</td>\n",
       "      <td>13</td>\n",
       "      <td>4</td>\n",
       "      <td>2022</td>\n",
       "      <td>58968</td>\n",
       "      <td>7365684</td>\n",
       "      <td>60.535112</td>\n",
       "      <td>0.543059</td>\n",
       "      <td>3.529883</td>\n",
       "      <td>1.764941</td>\n",
       "    </tr>\n",
       "    <tr>\n",
       "      <th>4</th>\n",
       "      <td>New Mexico</td>\n",
       "      <td>28</td>\n",
       "      <td>3</td>\n",
       "      <td>2</td>\n",
       "      <td>2022</td>\n",
       "      <td>53079</td>\n",
       "      <td>2113476</td>\n",
       "      <td>40.522055</td>\n",
       "      <td>0.946308</td>\n",
       "      <td>13.248317</td>\n",
       "      <td>1.419463</td>\n",
       "    </tr>\n",
       "    <tr>\n",
       "      <th>...</th>\n",
       "      <td>...</td>\n",
       "      <td>...</td>\n",
       "      <td>...</td>\n",
       "      <td>...</td>\n",
       "      <td>...</td>\n",
       "      <td>...</td>\n",
       "      <td>...</td>\n",
       "      <td>...</td>\n",
       "      <td>...</td>\n",
       "      <td>...</td>\n",
       "      <td>...</td>\n",
       "    </tr>\n",
       "    <tr>\n",
       "      <th>195</th>\n",
       "      <td>Vermont</td>\n",
       "      <td>5</td>\n",
       "      <td>11</td>\n",
       "      <td>1</td>\n",
       "      <td>2012</td>\n",
       "      <td>44861</td>\n",
       "      <td>626090</td>\n",
       "      <td>65.373587</td>\n",
       "      <td>1.597214</td>\n",
       "      <td>7.986072</td>\n",
       "      <td>17.569359</td>\n",
       "    </tr>\n",
       "    <tr>\n",
       "      <th>196</th>\n",
       "      <td>Virginia</td>\n",
       "      <td>42</td>\n",
       "      <td>40</td>\n",
       "      <td>7</td>\n",
       "      <td>2012</td>\n",
       "      <td>49052</td>\n",
       "      <td>8185080</td>\n",
       "      <td>60.195436</td>\n",
       "      <td>0.855215</td>\n",
       "      <td>5.131288</td>\n",
       "      <td>4.886941</td>\n",
       "    </tr>\n",
       "    <tr>\n",
       "      <th>197</th>\n",
       "      <td>West Virginia</td>\n",
       "      <td>22</td>\n",
       "      <td>9</td>\n",
       "      <td>2</td>\n",
       "      <td>2012</td>\n",
       "      <td>35233</td>\n",
       "      <td>1856872</td>\n",
       "      <td>42.41222</td>\n",
       "      <td>1.077080</td>\n",
       "      <td>11.847882</td>\n",
       "      <td>4.846861</td>\n",
       "    </tr>\n",
       "    <tr>\n",
       "      <th>198</th>\n",
       "      <td>Wisconsin</td>\n",
       "      <td>33</td>\n",
       "      <td>30</td>\n",
       "      <td>3</td>\n",
       "      <td>2012</td>\n",
       "      <td>42641</td>\n",
       "      <td>5719960</td>\n",
       "      <td>68.009625</td>\n",
       "      <td>0.524479</td>\n",
       "      <td>5.769271</td>\n",
       "      <td>5.244792</td>\n",
       "    </tr>\n",
       "    <tr>\n",
       "      <th>199</th>\n",
       "      <td>Wyoming</td>\n",
       "      <td>8</td>\n",
       "      <td>0</td>\n",
       "      <td>1</td>\n",
       "      <td>2012</td>\n",
       "      <td>53596</td>\n",
       "      <td>576305</td>\n",
       "      <td>56.39313</td>\n",
       "      <td>1.735192</td>\n",
       "      <td>13.881538</td>\n",
       "      <td>0.000000</td>\n",
       "    </tr>\n",
       "  </tbody>\n",
       "</table>\n",
       "<p>200 rows × 11 columns</p>\n",
       "</div>"
      ],
      "text/plain": [
       "             State  public  private_not_profit  R1plusR2  Year  \\\n",
       "0          Alabama      38                  18         5  2022   \n",
       "1           Alaska       4                   3         1  2022   \n",
       "2       Washington      42                  23         2  2022   \n",
       "3          Arizona      26                  13         4  2022   \n",
       "4       New Mexico      28                   3         2  2022   \n",
       "..             ...     ...                 ...       ...   ...   \n",
       "195        Vermont       5                  11         1  2012   \n",
       "196       Virginia      42                  40         7  2012   \n",
       "197  West Virginia      22                   9         2  2012   \n",
       "198      Wisconsin      33                  30         3  2012   \n",
       "199        Wyoming       8                   0         1  2012   \n",
       "\n",
       "     Per_capita_income  Population PERCENT_3_OR_ABOVE  R1R2_per_million  \\\n",
       "0                51683     5073903          44.965078          0.985435   \n",
       "1                69015      733276          59.375659          1.363743   \n",
       "2                75673     7784477          65.911295          0.256922   \n",
       "3                58968     7365684          60.535112          0.543059   \n",
       "4                53079     2113476          40.522055          0.946308   \n",
       "..                 ...         ...                ...               ...   \n",
       "195              44861      626090          65.373587          1.597214   \n",
       "196              49052     8185080          60.195436          0.855215   \n",
       "197              35233     1856872           42.41222          1.077080   \n",
       "198              42641     5719960          68.009625          0.524479   \n",
       "199              53596      576305           56.39313          1.735192   \n",
       "\n",
       "     public_per_million  private_notprofit_per_million  \n",
       "0              7.489304                       3.547565  \n",
       "1              5.454972                       4.091229  \n",
       "2              5.395353                       2.954598  \n",
       "3              3.529883                       1.764941  \n",
       "4             13.248317                       1.419463  \n",
       "..                  ...                            ...  \n",
       "195            7.986072                      17.569359  \n",
       "196            5.131288                       4.886941  \n",
       "197           11.847882                       4.846861  \n",
       "198            5.769271                       5.244792  \n",
       "199           13.881538                       0.000000  \n",
       "\n",
       "[200 rows x 11 columns]"
      ]
     },
     "execution_count": 355,
     "metadata": {},
     "output_type": "execute_result"
    }
   ],
   "source": [
    "ap_overall_statelevel['R1R2_per_million'] = ap_overall_statelevel['R1plusR2']*1000000/ap_overall_statelevel['Population']\n",
    "ap_overall_statelevel['public_per_million'] = ap_overall_statelevel['public']*1000000/ap_overall_statelevel['Population']\n",
    "ap_overall_statelevel['private_notprofit_per_million'] = ap_overall_statelevel['private_not_profit']*1000000/ap_overall_statelevel['Population']\n",
    "\n",
    "ap_overall_statelevel"
   ]
  },
  {
   "cell_type": "code",
   "execution_count": 356,
   "metadata": {},
   "outputs": [
    {
     "data": {
      "text/html": [
       "<div>\n",
       "<style scoped>\n",
       "    .dataframe tbody tr th:only-of-type {\n",
       "        vertical-align: middle;\n",
       "    }\n",
       "\n",
       "    .dataframe tbody tr th {\n",
       "        vertical-align: top;\n",
       "    }\n",
       "\n",
       "    .dataframe thead th {\n",
       "        text-align: right;\n",
       "    }\n",
       "</style>\n",
       "<table border=\"1\" class=\"dataframe\">\n",
       "  <thead>\n",
       "    <tr style=\"text-align: right;\">\n",
       "      <th></th>\n",
       "      <th>Per_capita_income</th>\n",
       "      <th>R1R2_per_million</th>\n",
       "      <th>public_per_million</th>\n",
       "      <th>private_notprofit_per_million</th>\n",
       "      <th>Population</th>\n",
       "    </tr>\n",
       "  </thead>\n",
       "  <tbody>\n",
       "    <tr>\n",
       "      <th>0</th>\n",
       "      <td>51683</td>\n",
       "      <td>0.985435</td>\n",
       "      <td>7.489304</td>\n",
       "      <td>3.547565</td>\n",
       "      <td>5073903</td>\n",
       "    </tr>\n",
       "    <tr>\n",
       "      <th>1</th>\n",
       "      <td>69015</td>\n",
       "      <td>1.363743</td>\n",
       "      <td>5.454972</td>\n",
       "      <td>4.091229</td>\n",
       "      <td>733276</td>\n",
       "    </tr>\n",
       "    <tr>\n",
       "      <th>2</th>\n",
       "      <td>75673</td>\n",
       "      <td>0.256922</td>\n",
       "      <td>5.395353</td>\n",
       "      <td>2.954598</td>\n",
       "      <td>7784477</td>\n",
       "    </tr>\n",
       "    <tr>\n",
       "      <th>3</th>\n",
       "      <td>58968</td>\n",
       "      <td>0.543059</td>\n",
       "      <td>3.529883</td>\n",
       "      <td>1.764941</td>\n",
       "      <td>7365684</td>\n",
       "    </tr>\n",
       "    <tr>\n",
       "      <th>4</th>\n",
       "      <td>53079</td>\n",
       "      <td>0.946308</td>\n",
       "      <td>13.248317</td>\n",
       "      <td>1.419463</td>\n",
       "      <td>2113476</td>\n",
       "    </tr>\n",
       "    <tr>\n",
       "      <th>...</th>\n",
       "      <td>...</td>\n",
       "      <td>...</td>\n",
       "      <td>...</td>\n",
       "      <td>...</td>\n",
       "      <td>...</td>\n",
       "    </tr>\n",
       "    <tr>\n",
       "      <th>195</th>\n",
       "      <td>44861</td>\n",
       "      <td>1.597214</td>\n",
       "      <td>7.986072</td>\n",
       "      <td>17.569359</td>\n",
       "      <td>626090</td>\n",
       "    </tr>\n",
       "    <tr>\n",
       "      <th>196</th>\n",
       "      <td>49052</td>\n",
       "      <td>0.855215</td>\n",
       "      <td>5.131288</td>\n",
       "      <td>4.886941</td>\n",
       "      <td>8185080</td>\n",
       "    </tr>\n",
       "    <tr>\n",
       "      <th>197</th>\n",
       "      <td>35233</td>\n",
       "      <td>1.077080</td>\n",
       "      <td>11.847882</td>\n",
       "      <td>4.846861</td>\n",
       "      <td>1856872</td>\n",
       "    </tr>\n",
       "    <tr>\n",
       "      <th>198</th>\n",
       "      <td>42641</td>\n",
       "      <td>0.524479</td>\n",
       "      <td>5.769271</td>\n",
       "      <td>5.244792</td>\n",
       "      <td>5719960</td>\n",
       "    </tr>\n",
       "    <tr>\n",
       "      <th>199</th>\n",
       "      <td>53596</td>\n",
       "      <td>1.735192</td>\n",
       "      <td>13.881538</td>\n",
       "      <td>0.000000</td>\n",
       "      <td>576305</td>\n",
       "    </tr>\n",
       "  </tbody>\n",
       "</table>\n",
       "<p>200 rows × 5 columns</p>\n",
       "</div>"
      ],
      "text/plain": [
       "     Per_capita_income  R1R2_per_million  public_per_million  \\\n",
       "0                51683          0.985435            7.489304   \n",
       "1                69015          1.363743            5.454972   \n",
       "2                75673          0.256922            5.395353   \n",
       "3                58968          0.543059            3.529883   \n",
       "4                53079          0.946308           13.248317   \n",
       "..                 ...               ...                 ...   \n",
       "195              44861          1.597214            7.986072   \n",
       "196              49052          0.855215            5.131288   \n",
       "197              35233          1.077080           11.847882   \n",
       "198              42641          0.524479            5.769271   \n",
       "199              53596          1.735192           13.881538   \n",
       "\n",
       "     private_notprofit_per_million  Population  \n",
       "0                         3.547565     5073903  \n",
       "1                         4.091229      733276  \n",
       "2                         2.954598     7784477  \n",
       "3                         1.764941     7365684  \n",
       "4                         1.419463     2113476  \n",
       "..                             ...         ...  \n",
       "195                      17.569359      626090  \n",
       "196                       4.886941     8185080  \n",
       "197                       4.846861     1856872  \n",
       "198                       5.244792     5719960  \n",
       "199                       0.000000      576305  \n",
       "\n",
       "[200 rows x 5 columns]"
      ]
     },
     "execution_count": 356,
     "metadata": {},
     "output_type": "execute_result"
    }
   ],
   "source": [
    "features = ['Per_capita_income','R1R2_per_million','public_per_million','private_notprofit_per_million','Population']\n",
    "ap_overall_statelevel[features]"
   ]
  },
  {
   "cell_type": "code",
   "execution_count": 360,
   "metadata": {},
   "outputs": [],
   "source": [
    "ap_overall_statelevel = ap_overall_statelevel.apply(pd.to_numeric, errors='coerce')"
   ]
  },
  {
   "cell_type": "code",
   "execution_count": 384,
   "metadata": {},
   "outputs": [],
   "source": [
    "import plotly.express as px\n",
    "import plotly.graph_objects as go\n",
    "import pickle"
   ]
  },
  {
   "cell_type": "code",
   "execution_count": 385,
   "metadata": {},
   "outputs": [
    {
     "data": {
      "application/vnd.plotly.v1+json": {
       "config": {
        "plotlyServerURL": "https://plot.ly"
       },
       "data": [
        {
         "hovertemplate": "Per_capita_income=%{x}<br>PERCENT_3_OR_ABOVE=%{marker.color}<extra></extra>",
         "legendgroup": "",
         "marker": {
          "color": [
           44.96507764291042,
           59.37565914364058,
           65.91129456741558,
           60.53511168246826,
           40.52205471803462,
           42.182216275392285,
           61.322174646425324,
           66.94763729246488,
           62.48003448013589,
           66.62425618540557,
           52.23785166240409,
           53.85601299455282,
           62.386659856861435,
           54.27513732983043,
           62.515822784810126,
           61.02765482392573,
           54.65153927097105,
           62.16990912971885,
           66.04168222902817,
           61.55938095772121,
           52.53835245584633,
           40.40218177038838,
           62.92196007259528,
           64.76016150740243,
           65.13212465931983,
           64.27838694234846,
           37.68596159047877,
           66.60259490629505,
           63.30268140020091,
           50.37752238407056,
           71.04744229207749,
           66.26424453202392,
           58.60035329947835,
           57.43813515530803,
           62.31691078561917,
           64.69861858485262,
           50.72902594680207,
           61.94700595307575,
           67.05838034510006,
           56.50531045751634,
           63.401763305231995,
           71.86579007027885,
           56.874295950213295,
           48.89336163629231,
           67.84833169656758,
           66.5930092406589,
           62.71492796801642,
           48.53151468485315,
           66.19855083289758,
           55.483870967741936,
           41.48418491484185,
           55.584348276755634,
           61.67017261646971,
           55.924580522400966,
           35.31598513011152,
           35.863344844597925,
           53.96422208110617,
           60.04454739843193,
           58.09939778968963,
           61.888003111024695,
           46.91085148931691,
           48.57293984720018,
           58.204111590021085,
           43.1924882629108,
           57.55678022712091,
           55.35257523605015,
           48.7964378281385,
           57.99517185883435,
           62.34383383153215,
           57.701762179771954,
           48.53512664333159,
           37.8224386201181,
           55.59283044186715,
           60.1720230138897,
           60.902073271043804,
           59.483822878572596,
           37.37914502596884,
           61.55848663658452,
           57.58813738840974,
           45.56390446960878,
           64.3989588263133,
           62.393419223979265,
           55.237244907293906,
           49.141980558447855,
           57.08989805375347,
           60.327036821265295,
           48.053534171288995,
           57.42506142506142,
           63.2015982426905,
           49.76035786558739,
           57.78753910863394,
           67.94871794871794,
           51.7010856408633,
           44.7057709815422,
           65.02261094270239,
           61.42887977552342,
           58.1860019489506,
           41.19469972216285,
           61.58804747273932,
           51.412944393801276,
           39.02595579090946,
           59.80511571254568,
           60.37610172112331,
           55.87680895050468,
           35.33544081489287,
           34.15403636673701,
           55.782231347046576,
           65.87849183330789,
           59.11329441242178,
           68.60671191553544,
           54.41870217003879,
           49.448157801921774,
           57.33375132254399,
           42.189235585176206,
           58.33728840373359,
           63.43969125400881,
           51.03953304684258,
           62.109620624607004,
           62.2516133154431,
           61.37189198321742,
           49.78580886361866,
           35.054287613560824,
           57.51480134103716,
           63.07367585510175,
           65.862740897173,
           63.2866307415961,
           31.81002941387474,
           61.21109861267342,
           56.50716957605985,
           47.08310700706138,
           68.60130161101034,
           68.66833318876122,
           61.81382662790334,
           51.77623192628474,
           59.04537418974661,
           63.62350411633236,
           46.21925915847478,
           58.078457446808514,
           66.48210384072023,
           53.0079212160137,
           56.54727793696275,
           69.71814581877474,
           55.022429867901515,
           45.24088734295054,
           66.98307579102281,
           66.5181315304241,
           63.75709587548964,
           43.29754351716284,
           65.9305863402949,
           55.40268456375839,
           39.5476183068355,
           63.41786108048512,
           60.32487967419474,
           55.331572362018626,
           39.909523079282316,
           31.31302737188722,
           59.077145916960085,
           65.11169038050758,
           60.00805195259851,
           71.00545411429927,
           47.73855858274057,
           45.33848295981965,
           53.995344562500534,
           38.9713600239916,
           67.23594038942674,
           65.75702165008776,
           44.86866113540125,
           63.979915433403804,
           60.082509424567895,
           63.03428272166942,
           47.2589438218021,
           42.64217517642175,
           59.68998539198182,
           61.57985005145293,
           70.25225305480083,
           65.7676121768596,
           32.21690590111643,
           61.510791366906474,
           55.98516353827133,
           47.64189416110924,
           72.23395827832057,
           73.2895565560195,
           65.92966053990553,
           59.11679613641023,
           62.53474152306837,
           66.15597948276094,
           47.536441906060865,
           60.61819197467647,
           67.23798118903275,
           58.07836822329576,
           56.45350542681138,
           65.82216808769793,
           55.77547253866226,
           46.45157252742251,
           68.3252348558471,
           65.37358745150954,
           60.1954363142003,
           42.4122197976592,
           68.00962475391255,
           56.39312977099237
          ],
          "coloraxis": "coloraxis",
          "symbol": "circle"
         },
         "mode": "markers",
         "name": "",
         "orientation": "v",
         "showlegend": false,
         "type": "scatter",
         "x": [
          51683,
          69015,
          75673,
          58968,
          53079,
          55323,
          76941,
          69903,
          76674,
          84994,
          63964,
          64557,
          57290,
          62564,
          57140,
          68566,
          58973,
          61575,
          62326,
          59007,
          52705,
          55729,
          61690,
          71340,
          86200,
          58009,
          47134,
          61567,
          67065,
          62467,
          74827,
          77744,
          77502,
          58953,
          71238,
          58391,
          58043,
          64107,
          65401,
          64406,
          54429,
          69724,
          59210,
          62987,
          60782,
          63624,
          69707,
          50134,
          61992,
          76440,
          50483,
          65563,
          73651,
          56976,
          50691,
          52845,
          76882,
          67460,
          71706,
          81758,
          59630,
          62242,
          56088,
          61063,
          55417,
          66666,
          57272,
          58207,
          59021,
          56639,
          51769,
          54959,
          59175,
          69081,
          83805,
          56916,
          46869,
          58981,
          63526,
          60805,
          73682,
          76052,
          76016,
          57008,
          65974,
          57340,
          54500,
          62347,
          63788,
          62907,
          53224,
          67029,
          57508,
          60211,
          58191,
          60818,
          66983,
          48802,
          60465,
          70973,
          39975,
          56499,
          56805,
          43208,
          39197,
          41402,
          58214,
          53832,
          54171,
          69146,
          50002,
          48439,
          44838,
          50499,
          41218,
          53049,
          44570,
          46769,
          48272,
          44781,
          40404,
          43486,
          45909,
          58251,
          66076,
          45264,
          36580,
          45373,
          49538,
          46977,
          57882,
          61716,
          62196,
          44207,
          51839,
          46116,
          43871,
          47565,
          51888,
          50423,
          42368,
          49404,
          44411,
          48518,
          43044,
          50011,
          54380,
          38840,
          48313,
          56377,
          35564,
          53340,
          47057,
          36333,
          35695,
          36287,
          47794,
          47404,
          45490,
          63555,
          43775,
          41204,
          37251,
          43531,
          34825,
          45932,
          39150,
          42541,
          44914,
          39983,
          35631,
          40662,
          39993,
          52490,
          56269,
          39043,
          33441,
          40220,
          46391,
          39671,
          50719,
          54247,
          52628,
          38867,
          56077,
          40280,
          41903,
          39128,
          45638,
          45305,
          35794,
          44992,
          39082,
          43863,
          35633,
          44861,
          49052,
          35233,
          42641,
          53596
         ],
         "xaxis": "x",
         "y": [
          44.96507764291042,
          59.37565914364058,
          65.91129456741558,
          60.53511168246826,
          40.52205471803462,
          42.182216275392285,
          61.322174646425324,
          66.94763729246488,
          62.48003448013589,
          66.62425618540557,
          52.23785166240409,
          53.85601299455282,
          62.386659856861435,
          54.27513732983043,
          62.515822784810126,
          61.02765482392573,
          54.65153927097105,
          62.16990912971885,
          66.04168222902817,
          61.55938095772121,
          52.53835245584633,
          40.40218177038838,
          62.92196007259528,
          64.76016150740243,
          65.13212465931983,
          64.27838694234846,
          37.68596159047877,
          66.60259490629505,
          63.30268140020091,
          50.37752238407056,
          71.04744229207749,
          66.26424453202392,
          58.60035329947835,
          57.43813515530803,
          62.31691078561917,
          64.69861858485262,
          50.72902594680207,
          61.94700595307575,
          67.05838034510006,
          56.50531045751634,
          63.401763305231995,
          71.86579007027885,
          56.874295950213295,
          48.89336163629231,
          67.84833169656758,
          66.5930092406589,
          62.71492796801642,
          48.53151468485315,
          66.19855083289758,
          55.483870967741936,
          41.48418491484185,
          55.584348276755634,
          61.67017261646971,
          55.924580522400966,
          35.31598513011152,
          35.863344844597925,
          53.96422208110617,
          60.04454739843193,
          58.09939778968963,
          61.888003111024695,
          46.91085148931691,
          48.57293984720018,
          58.204111590021085,
          43.1924882629108,
          57.55678022712091,
          55.35257523605015,
          48.7964378281385,
          57.99517185883435,
          62.34383383153215,
          57.701762179771954,
          48.53512664333159,
          37.8224386201181,
          55.59283044186715,
          60.1720230138897,
          60.902073271043804,
          59.483822878572596,
          37.37914502596884,
          61.55848663658452,
          57.58813738840974,
          45.56390446960878,
          64.3989588263133,
          62.393419223979265,
          55.237244907293906,
          49.141980558447855,
          57.08989805375347,
          60.327036821265295,
          48.053534171288995,
          57.42506142506142,
          63.2015982426905,
          49.76035786558739,
          57.78753910863394,
          67.94871794871794,
          51.7010856408633,
          44.7057709815422,
          65.02261094270239,
          61.42887977552342,
          58.1860019489506,
          41.19469972216285,
          61.58804747273932,
          51.412944393801276,
          39.02595579090946,
          59.80511571254568,
          60.37610172112331,
          55.87680895050468,
          35.33544081489287,
          34.15403636673701,
          55.782231347046576,
          65.87849183330789,
          59.11329441242178,
          68.60671191553544,
          54.41870217003879,
          49.448157801921774,
          57.33375132254399,
          42.189235585176206,
          58.33728840373359,
          63.43969125400881,
          51.03953304684258,
          62.109620624607004,
          62.2516133154431,
          61.37189198321742,
          49.78580886361866,
          35.054287613560824,
          57.51480134103716,
          63.07367585510175,
          65.862740897173,
          63.2866307415961,
          31.81002941387474,
          61.21109861267342,
          56.50716957605985,
          47.08310700706138,
          68.60130161101034,
          68.66833318876122,
          61.81382662790334,
          51.77623192628474,
          59.04537418974661,
          63.62350411633236,
          46.21925915847478,
          58.078457446808514,
          66.48210384072023,
          53.0079212160137,
          56.54727793696275,
          69.71814581877474,
          55.022429867901515,
          45.24088734295054,
          66.98307579102281,
          66.5181315304241,
          63.75709587548964,
          43.29754351716284,
          65.9305863402949,
          55.40268456375839,
          39.5476183068355,
          63.41786108048512,
          60.32487967419474,
          55.331572362018626,
          39.909523079282316,
          31.31302737188722,
          59.077145916960085,
          65.11169038050758,
          60.00805195259851,
          71.00545411429927,
          47.73855858274057,
          45.33848295981965,
          53.995344562500534,
          38.9713600239916,
          67.23594038942674,
          65.75702165008776,
          44.86866113540125,
          63.979915433403804,
          60.082509424567895,
          63.03428272166942,
          47.2589438218021,
          42.64217517642175,
          59.68998539198182,
          61.57985005145293,
          70.25225305480083,
          65.7676121768596,
          32.21690590111643,
          61.510791366906474,
          55.98516353827133,
          47.64189416110924,
          72.23395827832057,
          73.2895565560195,
          65.92966053990553,
          59.11679613641023,
          62.53474152306837,
          66.15597948276094,
          47.536441906060865,
          60.61819197467647,
          67.23798118903275,
          58.07836822329576,
          56.45350542681138,
          65.82216808769793,
          55.77547253866226,
          46.45157252742251,
          68.3252348558471,
          65.37358745150954,
          60.1954363142003,
          42.4122197976592,
          68.00962475391255,
          56.39312977099237
         ],
         "yaxis": "y"
        },
        {
         "hovertemplate": "<b>OLS trendline</b><br>PERCENT_3_OR_ABOVE = 0.000292173 * Per_capita_income + 40.6891<br>R<sup>2</sup>=0.131218<br><br>Per_capita_income=%{x}<br>PERCENT_3_OR_ABOVE=%{y} <b>(trend)</b><extra></extra>",
         "legendgroup": "",
         "line": {
          "color": "darkblue"
         },
         "marker": {
          "symbol": "circle"
         },
         "mode": "lines",
         "name": "",
         "showlegend": false,
         "type": "scatter",
         "x": [
          33441,
          34825,
          35233,
          35564,
          35631,
          35633,
          35695,
          35794,
          36287,
          36333,
          36580,
          37251,
          38840,
          38867,
          39043,
          39082,
          39128,
          39150,
          39197,
          39671,
          39975,
          39983,
          39993,
          40220,
          40280,
          40404,
          40662,
          41204,
          41218,
          41402,
          41903,
          42368,
          42541,
          42641,
          43044,
          43208,
          43486,
          43531,
          43775,
          43863,
          43871,
          44207,
          44411,
          44570,
          44781,
          44838,
          44861,
          44914,
          44992,
          45264,
          45305,
          45373,
          45490,
          45638,
          45909,
          45932,
          46116,
          46391,
          46769,
          46869,
          46977,
          47057,
          47134,
          47404,
          47565,
          47794,
          48272,
          48313,
          48439,
          48518,
          48802,
          49052,
          49404,
          49538,
          50002,
          50011,
          50134,
          50423,
          50483,
          50499,
          50691,
          50719,
          51683,
          51769,
          51839,
          51888,
          52490,
          52628,
          52705,
          52845,
          53049,
          53079,
          53224,
          53340,
          53596,
          53832,
          54171,
          54247,
          54380,
          54429,
          54500,
          54959,
          55323,
          55417,
          55729,
          56077,
          56088,
          56269,
          56377,
          56499,
          56639,
          56805,
          56916,
          56976,
          57008,
          57140,
          57272,
          57290,
          57340,
          57508,
          57882,
          58009,
          58043,
          58191,
          58207,
          58214,
          58251,
          58391,
          58953,
          58968,
          58973,
          58981,
          59007,
          59021,
          59175,
          59210,
          59630,
          60211,
          60465,
          60782,
          60805,
          60818,
          61063,
          61567,
          61575,
          61690,
          61716,
          61992,
          62196,
          62242,
          62326,
          62347,
          62467,
          62564,
          62907,
          62987,
          63526,
          63555,
          63624,
          63788,
          63964,
          64107,
          64406,
          64557,
          65401,
          65563,
          65974,
          66076,
          66666,
          66983,
          67029,
          67065,
          67460,
          68566,
          69015,
          69081,
          69146,
          69707,
          69724,
          69903,
          70973,
          71238,
          71340,
          71706,
          73651,
          73682,
          74827,
          75673,
          76016,
          76052,
          76440,
          76674,
          76882,
          76941,
          77502,
          77744,
          81758,
          83805,
          84994,
          86200
         ],
         "xaxis": "x",
         "y": [
          50.45970580124434,
          50.86407318684202,
          50.98327975716273,
          51.07998900906506,
          51.099564597818706,
          51.10014894375165,
          51.118263667672935,
          51.14718879135369,
          51.29123006382454,
          51.304670020282266,
          51.37683674300093,
          51.572884803503854,
          52.03714764722835,
          52.04503631732311,
          52.096458759422234,
          52.107853505114655,
          52.12129346157238,
          52.12772126683477,
          52.14145339625897,
          52.279943382366845,
          52.36876396417443,
          52.371101347906205,
          52.374023077570925,
          52.44034634096015,
          52.457876718948484,
          52.49410616679105,
          52.56948679214091,
          52.7278445399689,
          52.73193496149951,
          52.785694787330414,
          52.93207344353304,
          53.06793387294267,
          53.11847979614238,
          53.14769709278961,
          53.26544279827795,
          53.31335916477941,
          53.39458324945871,
          53.40773103294997,
          53.47902123676921,
          53.504732457818776,
          53.50706984155055,
          53.60523995828525,
          53.6648432434456,
          53.7112987451147,
          53.772947241040356,
          53.78960110012928,
          53.79632107835815,
          53.811806245581174,
          53.834595736966016,
          53.914066783846486,
          53.92604587547185,
          53.945913637191964,
          53.98009787426923,
          54.02333947330713,
          54.10251834722113,
          54.10923832544999,
          54.162998151280895,
          54.24334571706078,
          54.353787098387315,
          54.38300439503455,
          54.41455907541356,
          54.43793291273134,
          54.46043023114971,
          54.539316932097236,
          54.58635677969927,
          54.65326438902143,
          54.7929230669952,
          54.804902158620564,
          54.84171595239607,
          54.86479761674739,
          54.94777473922552,
          55.0208179808436,
          55.12366286504186,
          55.162814042549144,
          55.298382298992294,
          55.30101185569055,
          55.336949130566644,
          55.421387117877146,
          55.43891749586548,
          55.44359226332904,
          55.49968947289172,
          55.50787031595294,
          55.789525055632254,
          55.81465193074887,
          55.83510403840194,
          55.84942051375908,
          56.025308639575414,
          56.06562850894859,
          56.08812582736696,
          56.12903004267308,
          56.18863332783343,
          56.197398516827604,
          56.239763596966085,
          56.27365566107687,
          56.34845194049379,
          56.41740476058125,
          56.516451396215366,
          56.538656541667265,
          56.577515546208076,
          56.591832021565224,
          56.612576302184756,
          56.746683693795546,
          56.853034653591465,
          56.88049891243986,
          56.97165687797923,
          57.07333307031159,
          57.07654697294279,
          57.12943027987428,
          57.16098496025329,
          57.19663006216291,
          57.23753427746903,
          57.286034989903435,
          57.31846618918186,
          57.3359965671702,
          57.34534610209732,
          57.38391293367166,
          57.42247976524601,
          57.42773887864251,
          57.442347526966124,
          57.49143258533347,
          57.600705274794116,
          57.6378112415361,
          57.64774512239616,
          57.69098672143406,
          57.69566148889761,
          57.69770669966292,
          57.708517099422394,
          57.74942131472852,
          57.91362252188596,
          57.91800511638304,
          57.91946598121541,
          57.92180336494719,
          57.92939986207547,
          57.933490283606076,
          57.97848492044281,
          57.988710974269345,
          58.11142362018772,
          58.28117611370813,
          58.35538804719209,
          58.44800687756382,
          58.454726855792686,
          58.45852510435682,
          58.53010748114254,
          58.67736265624458,
          58.67970003997637,
          58.71329993112068,
          58.72089642824896,
          58.80153616699532,
          58.86113945215567,
          58.8745794086134,
          58.89912193779707,
          58.905257570092985,
          58.940318326069665,
          58.96865910381748,
          59.06887443131748,
          59.09224826863527,
          59.24972949756385,
          59.25820251359154,
          59.27836244827813,
          59.326278814779585,
          59.377701256878716,
          59.419481991084254,
          59.50684170805948,
          59.5509598259968,
          59.79755380969943,
          59.84488583026794,
          59.96496891948806,
          59.99477056206824,
          60.1671526122869,
          60.259771442658625,
          60.27321139911635,
          60.28372962590936,
          60.39913794766592,
          60.722281248584295,
          60.853466910530365,
          60.87275032631754,
          60.89174156913823,
          61.0556506033292,
          61.060617543759236,
          61.11291650475778,
          61.42554157888315,
          61.50296741499831,
          61.53276905757849,
          61.63970436330736,
          62.207980783096005,
          62.21703814505664,
          62.551576191667436,
          62.79875452130302,
          62.89896984880302,
          62.90948807559602,
          63.022851186587275,
          63.0912196607418,
          63.15199163776804,
          63.1692298427899,
          63.333138876980875,
          63.40384473486718,
          64.57662702228703,
          65.17470508465586,
          65.52209874179144,
          65.87445933935705
         ],
         "yaxis": "y"
        }
       ],
       "layout": {
        "coloraxis": {
         "colorbar": {
          "title": {
           "text": "PERCENT_3_OR_ABOVE"
          }
         },
         "colorscale": [
          [
           0,
           "#0d0887"
          ],
          [
           0.1111111111111111,
           "#46039f"
          ],
          [
           0.2222222222222222,
           "#7201a8"
          ],
          [
           0.3333333333333333,
           "#9c179e"
          ],
          [
           0.4444444444444444,
           "#bd3786"
          ],
          [
           0.5555555555555556,
           "#d8576b"
          ],
          [
           0.6666666666666666,
           "#ed7953"
          ],
          [
           0.7777777777777778,
           "#fb9f3a"
          ],
          [
           0.8888888888888888,
           "#fdca26"
          ],
          [
           1,
           "#f0f921"
          ]
         ]
        },
        "height": 600,
        "legend": {
         "tracegroupgap": 0
        },
        "template": {
         "data": {
          "bar": [
           {
            "error_x": {
             "color": "#2a3f5f"
            },
            "error_y": {
             "color": "#2a3f5f"
            },
            "marker": {
             "line": {
              "color": "#E5ECF6",
              "width": 0.5
             },
             "pattern": {
              "fillmode": "overlay",
              "size": 10,
              "solidity": 0.2
             }
            },
            "type": "bar"
           }
          ],
          "barpolar": [
           {
            "marker": {
             "line": {
              "color": "#E5ECF6",
              "width": 0.5
             },
             "pattern": {
              "fillmode": "overlay",
              "size": 10,
              "solidity": 0.2
             }
            },
            "type": "barpolar"
           }
          ],
          "carpet": [
           {
            "aaxis": {
             "endlinecolor": "#2a3f5f",
             "gridcolor": "white",
             "linecolor": "white",
             "minorgridcolor": "white",
             "startlinecolor": "#2a3f5f"
            },
            "baxis": {
             "endlinecolor": "#2a3f5f",
             "gridcolor": "white",
             "linecolor": "white",
             "minorgridcolor": "white",
             "startlinecolor": "#2a3f5f"
            },
            "type": "carpet"
           }
          ],
          "choropleth": [
           {
            "colorbar": {
             "outlinewidth": 0,
             "ticks": ""
            },
            "type": "choropleth"
           }
          ],
          "contour": [
           {
            "colorbar": {
             "outlinewidth": 0,
             "ticks": ""
            },
            "colorscale": [
             [
              0,
              "#0d0887"
             ],
             [
              0.1111111111111111,
              "#46039f"
             ],
             [
              0.2222222222222222,
              "#7201a8"
             ],
             [
              0.3333333333333333,
              "#9c179e"
             ],
             [
              0.4444444444444444,
              "#bd3786"
             ],
             [
              0.5555555555555556,
              "#d8576b"
             ],
             [
              0.6666666666666666,
              "#ed7953"
             ],
             [
              0.7777777777777778,
              "#fb9f3a"
             ],
             [
              0.8888888888888888,
              "#fdca26"
             ],
             [
              1,
              "#f0f921"
             ]
            ],
            "type": "contour"
           }
          ],
          "contourcarpet": [
           {
            "colorbar": {
             "outlinewidth": 0,
             "ticks": ""
            },
            "type": "contourcarpet"
           }
          ],
          "heatmap": [
           {
            "colorbar": {
             "outlinewidth": 0,
             "ticks": ""
            },
            "colorscale": [
             [
              0,
              "#0d0887"
             ],
             [
              0.1111111111111111,
              "#46039f"
             ],
             [
              0.2222222222222222,
              "#7201a8"
             ],
             [
              0.3333333333333333,
              "#9c179e"
             ],
             [
              0.4444444444444444,
              "#bd3786"
             ],
             [
              0.5555555555555556,
              "#d8576b"
             ],
             [
              0.6666666666666666,
              "#ed7953"
             ],
             [
              0.7777777777777778,
              "#fb9f3a"
             ],
             [
              0.8888888888888888,
              "#fdca26"
             ],
             [
              1,
              "#f0f921"
             ]
            ],
            "type": "heatmap"
           }
          ],
          "heatmapgl": [
           {
            "colorbar": {
             "outlinewidth": 0,
             "ticks": ""
            },
            "colorscale": [
             [
              0,
              "#0d0887"
             ],
             [
              0.1111111111111111,
              "#46039f"
             ],
             [
              0.2222222222222222,
              "#7201a8"
             ],
             [
              0.3333333333333333,
              "#9c179e"
             ],
             [
              0.4444444444444444,
              "#bd3786"
             ],
             [
              0.5555555555555556,
              "#d8576b"
             ],
             [
              0.6666666666666666,
              "#ed7953"
             ],
             [
              0.7777777777777778,
              "#fb9f3a"
             ],
             [
              0.8888888888888888,
              "#fdca26"
             ],
             [
              1,
              "#f0f921"
             ]
            ],
            "type": "heatmapgl"
           }
          ],
          "histogram": [
           {
            "marker": {
             "pattern": {
              "fillmode": "overlay",
              "size": 10,
              "solidity": 0.2
             }
            },
            "type": "histogram"
           }
          ],
          "histogram2d": [
           {
            "colorbar": {
             "outlinewidth": 0,
             "ticks": ""
            },
            "colorscale": [
             [
              0,
              "#0d0887"
             ],
             [
              0.1111111111111111,
              "#46039f"
             ],
             [
              0.2222222222222222,
              "#7201a8"
             ],
             [
              0.3333333333333333,
              "#9c179e"
             ],
             [
              0.4444444444444444,
              "#bd3786"
             ],
             [
              0.5555555555555556,
              "#d8576b"
             ],
             [
              0.6666666666666666,
              "#ed7953"
             ],
             [
              0.7777777777777778,
              "#fb9f3a"
             ],
             [
              0.8888888888888888,
              "#fdca26"
             ],
             [
              1,
              "#f0f921"
             ]
            ],
            "type": "histogram2d"
           }
          ],
          "histogram2dcontour": [
           {
            "colorbar": {
             "outlinewidth": 0,
             "ticks": ""
            },
            "colorscale": [
             [
              0,
              "#0d0887"
             ],
             [
              0.1111111111111111,
              "#46039f"
             ],
             [
              0.2222222222222222,
              "#7201a8"
             ],
             [
              0.3333333333333333,
              "#9c179e"
             ],
             [
              0.4444444444444444,
              "#bd3786"
             ],
             [
              0.5555555555555556,
              "#d8576b"
             ],
             [
              0.6666666666666666,
              "#ed7953"
             ],
             [
              0.7777777777777778,
              "#fb9f3a"
             ],
             [
              0.8888888888888888,
              "#fdca26"
             ],
             [
              1,
              "#f0f921"
             ]
            ],
            "type": "histogram2dcontour"
           }
          ],
          "mesh3d": [
           {
            "colorbar": {
             "outlinewidth": 0,
             "ticks": ""
            },
            "type": "mesh3d"
           }
          ],
          "parcoords": [
           {
            "line": {
             "colorbar": {
              "outlinewidth": 0,
              "ticks": ""
             }
            },
            "type": "parcoords"
           }
          ],
          "pie": [
           {
            "automargin": true,
            "type": "pie"
           }
          ],
          "scatter": [
           {
            "fillpattern": {
             "fillmode": "overlay",
             "size": 10,
             "solidity": 0.2
            },
            "type": "scatter"
           }
          ],
          "scatter3d": [
           {
            "line": {
             "colorbar": {
              "outlinewidth": 0,
              "ticks": ""
             }
            },
            "marker": {
             "colorbar": {
              "outlinewidth": 0,
              "ticks": ""
             }
            },
            "type": "scatter3d"
           }
          ],
          "scattercarpet": [
           {
            "marker": {
             "colorbar": {
              "outlinewidth": 0,
              "ticks": ""
             }
            },
            "type": "scattercarpet"
           }
          ],
          "scattergeo": [
           {
            "marker": {
             "colorbar": {
              "outlinewidth": 0,
              "ticks": ""
             }
            },
            "type": "scattergeo"
           }
          ],
          "scattergl": [
           {
            "marker": {
             "colorbar": {
              "outlinewidth": 0,
              "ticks": ""
             }
            },
            "type": "scattergl"
           }
          ],
          "scattermapbox": [
           {
            "marker": {
             "colorbar": {
              "outlinewidth": 0,
              "ticks": ""
             }
            },
            "type": "scattermapbox"
           }
          ],
          "scatterpolar": [
           {
            "marker": {
             "colorbar": {
              "outlinewidth": 0,
              "ticks": ""
             }
            },
            "type": "scatterpolar"
           }
          ],
          "scatterpolargl": [
           {
            "marker": {
             "colorbar": {
              "outlinewidth": 0,
              "ticks": ""
             }
            },
            "type": "scatterpolargl"
           }
          ],
          "scatterternary": [
           {
            "marker": {
             "colorbar": {
              "outlinewidth": 0,
              "ticks": ""
             }
            },
            "type": "scatterternary"
           }
          ],
          "surface": [
           {
            "colorbar": {
             "outlinewidth": 0,
             "ticks": ""
            },
            "colorscale": [
             [
              0,
              "#0d0887"
             ],
             [
              0.1111111111111111,
              "#46039f"
             ],
             [
              0.2222222222222222,
              "#7201a8"
             ],
             [
              0.3333333333333333,
              "#9c179e"
             ],
             [
              0.4444444444444444,
              "#bd3786"
             ],
             [
              0.5555555555555556,
              "#d8576b"
             ],
             [
              0.6666666666666666,
              "#ed7953"
             ],
             [
              0.7777777777777778,
              "#fb9f3a"
             ],
             [
              0.8888888888888888,
              "#fdca26"
             ],
             [
              1,
              "#f0f921"
             ]
            ],
            "type": "surface"
           }
          ],
          "table": [
           {
            "cells": {
             "fill": {
              "color": "#EBF0F8"
             },
             "line": {
              "color": "white"
             }
            },
            "header": {
             "fill": {
              "color": "#C8D4E3"
             },
             "line": {
              "color": "white"
             }
            },
            "type": "table"
           }
          ]
         },
         "layout": {
          "annotationdefaults": {
           "arrowcolor": "#2a3f5f",
           "arrowhead": 0,
           "arrowwidth": 1
          },
          "autotypenumbers": "strict",
          "coloraxis": {
           "colorbar": {
            "outlinewidth": 0,
            "ticks": ""
           }
          },
          "colorscale": {
           "diverging": [
            [
             0,
             "#8e0152"
            ],
            [
             0.1,
             "#c51b7d"
            ],
            [
             0.2,
             "#de77ae"
            ],
            [
             0.3,
             "#f1b6da"
            ],
            [
             0.4,
             "#fde0ef"
            ],
            [
             0.5,
             "#f7f7f7"
            ],
            [
             0.6,
             "#e6f5d0"
            ],
            [
             0.7,
             "#b8e186"
            ],
            [
             0.8,
             "#7fbc41"
            ],
            [
             0.9,
             "#4d9221"
            ],
            [
             1,
             "#276419"
            ]
           ],
           "sequential": [
            [
             0,
             "#0d0887"
            ],
            [
             0.1111111111111111,
             "#46039f"
            ],
            [
             0.2222222222222222,
             "#7201a8"
            ],
            [
             0.3333333333333333,
             "#9c179e"
            ],
            [
             0.4444444444444444,
             "#bd3786"
            ],
            [
             0.5555555555555556,
             "#d8576b"
            ],
            [
             0.6666666666666666,
             "#ed7953"
            ],
            [
             0.7777777777777778,
             "#fb9f3a"
            ],
            [
             0.8888888888888888,
             "#fdca26"
            ],
            [
             1,
             "#f0f921"
            ]
           ],
           "sequentialminus": [
            [
             0,
             "#0d0887"
            ],
            [
             0.1111111111111111,
             "#46039f"
            ],
            [
             0.2222222222222222,
             "#7201a8"
            ],
            [
             0.3333333333333333,
             "#9c179e"
            ],
            [
             0.4444444444444444,
             "#bd3786"
            ],
            [
             0.5555555555555556,
             "#d8576b"
            ],
            [
             0.6666666666666666,
             "#ed7953"
            ],
            [
             0.7777777777777778,
             "#fb9f3a"
            ],
            [
             0.8888888888888888,
             "#fdca26"
            ],
            [
             1,
             "#f0f921"
            ]
           ]
          },
          "colorway": [
           "#636efa",
           "#EF553B",
           "#00cc96",
           "#ab63fa",
           "#FFA15A",
           "#19d3f3",
           "#FF6692",
           "#B6E880",
           "#FF97FF",
           "#FECB52"
          ],
          "font": {
           "color": "#2a3f5f"
          },
          "geo": {
           "bgcolor": "white",
           "lakecolor": "white",
           "landcolor": "#E5ECF6",
           "showlakes": true,
           "showland": true,
           "subunitcolor": "white"
          },
          "hoverlabel": {
           "align": "left"
          },
          "hovermode": "closest",
          "mapbox": {
           "style": "light"
          },
          "paper_bgcolor": "white",
          "plot_bgcolor": "#E5ECF6",
          "polar": {
           "angularaxis": {
            "gridcolor": "white",
            "linecolor": "white",
            "ticks": ""
           },
           "bgcolor": "#E5ECF6",
           "radialaxis": {
            "gridcolor": "white",
            "linecolor": "white",
            "ticks": ""
           }
          },
          "scene": {
           "xaxis": {
            "backgroundcolor": "#E5ECF6",
            "gridcolor": "white",
            "gridwidth": 2,
            "linecolor": "white",
            "showbackground": true,
            "ticks": "",
            "zerolinecolor": "white"
           },
           "yaxis": {
            "backgroundcolor": "#E5ECF6",
            "gridcolor": "white",
            "gridwidth": 2,
            "linecolor": "white",
            "showbackground": true,
            "ticks": "",
            "zerolinecolor": "white"
           },
           "zaxis": {
            "backgroundcolor": "#E5ECF6",
            "gridcolor": "white",
            "gridwidth": 2,
            "linecolor": "white",
            "showbackground": true,
            "ticks": "",
            "zerolinecolor": "white"
           }
          },
          "shapedefaults": {
           "line": {
            "color": "#2a3f5f"
           }
          },
          "ternary": {
           "aaxis": {
            "gridcolor": "white",
            "linecolor": "white",
            "ticks": ""
           },
           "baxis": {
            "gridcolor": "white",
            "linecolor": "white",
            "ticks": ""
           },
           "bgcolor": "#E5ECF6",
           "caxis": {
            "gridcolor": "white",
            "linecolor": "white",
            "ticks": ""
           }
          },
          "title": {
           "x": 0.05
          },
          "xaxis": {
           "automargin": true,
           "gridcolor": "white",
           "linecolor": "white",
           "ticks": "",
           "title": {
            "standoff": 15
           },
           "zerolinecolor": "white",
           "zerolinewidth": 2
          },
          "yaxis": {
           "automargin": true,
           "gridcolor": "white",
           "linecolor": "white",
           "ticks": "",
           "title": {
            "standoff": 15
           },
           "zerolinecolor": "white",
           "zerolinewidth": 2
          }
         }
        },
        "title": {
         "text": "Pass rate vs Per Capita Income"
        },
        "width": 800,
        "xaxis": {
         "anchor": "y",
         "domain": [
          0,
          1
         ],
         "title": {
          "text": "Per_capita_income"
         }
        },
        "yaxis": {
         "anchor": "x",
         "domain": [
          0,
          1
         ],
         "title": {
          "text": "PERCENT_3_OR_ABOVE"
         }
        }
       }
      }
     },
     "metadata": {},
     "output_type": "display_data"
    }
   ],
   "source": [
    "fig = px.scatter(data_frame=ap_overall_statelevel,x='Per_capita_income', y='PERCENT_3_OR_ABOVE',trendline='ols',trendline_color_override='darkblue',width=800, height=600,color='PERCENT_3_OR_ABOVE',\n",
    "                 title='Pass rate vs Per Capita Income')\n",
    "fig.show()\n",
    "with open('data/state_by_state_pickled/AP_pass_rate_by_states_vs_income.pkl', 'wb') as f:\n",
    "    pickle.dump(fig, f)"
   ]
  },
  {
   "cell_type": "code",
   "execution_count": 387,
   "metadata": {},
   "outputs": [
    {
     "data": {
      "application/vnd.plotly.v1+json": {
       "config": {
        "plotlyServerURL": "https://plot.ly"
       },
       "data": [
        {
         "hovertemplate": "R1R2_per_million=%{x}<br>PERCENT_3_OR_ABOVE=%{marker.color}<extra></extra>",
         "legendgroup": "",
         "marker": {
          "color": [
           44.96507764291042,
           59.37565914364058,
           65.91129456741558,
           60.53511168246826,
           40.52205471803462,
           42.182216275392285,
           61.322174646425324,
           66.94763729246488,
           62.48003448013589,
           66.62425618540557,
           52.23785166240409,
           53.85601299455282,
           62.386659856861435,
           54.27513732983043,
           62.515822784810126,
           61.02765482392573,
           54.65153927097105,
           62.16990912971885,
           66.04168222902817,
           61.55938095772121,
           52.53835245584633,
           40.40218177038838,
           62.92196007259528,
           64.76016150740243,
           65.13212465931983,
           64.27838694234846,
           37.68596159047877,
           66.60259490629505,
           63.30268140020091,
           50.37752238407056,
           71.04744229207749,
           66.26424453202392,
           58.60035329947835,
           57.43813515530803,
           62.31691078561917,
           64.69861858485262,
           50.72902594680207,
           61.94700595307575,
           67.05838034510006,
           56.50531045751634,
           63.401763305231995,
           71.86579007027885,
           56.874295950213295,
           48.89336163629231,
           67.84833169656758,
           66.5930092406589,
           62.71492796801642,
           48.53151468485315,
           66.19855083289758,
           55.483870967741936,
           41.48418491484185,
           55.584348276755634,
           61.67017261646971,
           55.924580522400966,
           35.31598513011152,
           35.863344844597925,
           53.96422208110617,
           60.04454739843193,
           58.09939778968963,
           61.888003111024695,
           46.91085148931691,
           48.57293984720018,
           58.204111590021085,
           43.1924882629108,
           57.55678022712091,
           55.35257523605015,
           48.7964378281385,
           57.99517185883435,
           62.34383383153215,
           57.701762179771954,
           48.53512664333159,
           37.8224386201181,
           55.59283044186715,
           60.1720230138897,
           60.902073271043804,
           59.483822878572596,
           37.37914502596884,
           61.55848663658452,
           57.58813738840974,
           45.56390446960878,
           64.3989588263133,
           62.393419223979265,
           55.237244907293906,
           49.141980558447855,
           57.08989805375347,
           60.327036821265295,
           48.053534171288995,
           57.42506142506142,
           63.2015982426905,
           49.76035786558739,
           57.78753910863394,
           67.94871794871794,
           51.7010856408633,
           44.7057709815422,
           65.02261094270239,
           61.42887977552342,
           58.1860019489506,
           41.19469972216285,
           61.58804747273932,
           51.412944393801276,
           39.02595579090946,
           59.80511571254568,
           60.37610172112331,
           55.87680895050468,
           35.33544081489287,
           34.15403636673701,
           55.782231347046576,
           65.87849183330789,
           59.11329441242178,
           68.60671191553544,
           54.41870217003879,
           49.448157801921774,
           57.33375132254399,
           42.189235585176206,
           58.33728840373359,
           63.43969125400881,
           51.03953304684258,
           62.109620624607004,
           62.2516133154431,
           61.37189198321742,
           49.78580886361866,
           35.054287613560824,
           57.51480134103716,
           63.07367585510175,
           65.862740897173,
           63.2866307415961,
           31.81002941387474,
           61.21109861267342,
           56.50716957605985,
           47.08310700706138,
           68.60130161101034,
           68.66833318876122,
           61.81382662790334,
           51.77623192628474,
           59.04537418974661,
           63.62350411633236,
           46.21925915847478,
           58.078457446808514,
           66.48210384072023,
           53.0079212160137,
           56.54727793696275,
           69.71814581877474,
           55.022429867901515,
           45.24088734295054,
           66.98307579102281,
           66.5181315304241,
           63.75709587548964,
           43.29754351716284,
           65.9305863402949,
           55.40268456375839,
           39.5476183068355,
           63.41786108048512,
           60.32487967419474,
           55.331572362018626,
           39.909523079282316,
           31.31302737188722,
           59.077145916960085,
           65.11169038050758,
           60.00805195259851,
           71.00545411429927,
           47.73855858274057,
           45.33848295981965,
           53.995344562500534,
           38.9713600239916,
           67.23594038942674,
           65.75702165008776,
           44.86866113540125,
           63.979915433403804,
           60.082509424567895,
           63.03428272166942,
           47.2589438218021,
           42.64217517642175,
           59.68998539198182,
           61.57985005145293,
           70.25225305480083,
           65.7676121768596,
           32.21690590111643,
           61.510791366906474,
           55.98516353827133,
           47.64189416110924,
           72.23395827832057,
           73.2895565560195,
           65.92966053990553,
           59.11679613641023,
           62.53474152306837,
           66.15597948276094,
           47.536441906060865,
           60.61819197467647,
           67.23798118903275,
           58.07836822329576,
           56.45350542681138,
           65.82216808769793,
           55.77547253866226,
           46.45157252742251,
           68.3252348558471,
           65.37358745150954,
           60.1954363142003,
           42.4122197976592,
           68.00962475391255,
           56.39312977099237
          ],
          "coloraxis": "coloraxis",
          "symbol": "circle"
         },
         "mode": "markers",
         "name": "",
         "orientation": "v",
         "showlegend": false,
         "type": "scatter",
         "x": [
          0.9854346841080722,
          1.3637429835423496,
          0.25692156325980536,
          0.5430588659518926,
          0.9463083564705727,
          0.9847676145383213,
          0.6403587484377808,
          0.17499956250109375,
          1.0272145075559331,
          0.5542152782742623,
          0.9809124251195978,
          0.4944815632773896,
          0.8246931454254729,
          0.6947343995653742,
          1.5471924645538206,
          0.7947536720599976,
          0.7318207671413647,
          0.6250599666905544,
          1.021549240716501,
          0.9713188956492684,
          0.44330534672795213,
          1.3077528164091592,
          1.4395345121201608,
          0.8111640837309525,
          1.8617333596840209,
          0.797346351607216,
          1.3610404882324438,
          1.7811373987200747,
          1.524343770007012,
          0.6294412984618658,
          1.4295895005228723,
          0.9718365021142303,
          0.9657808592399812,
          0.8414388042593632,
          2.567684154307547,
          1.1054706596607038,
          0.7464040120708457,
          0.7076508139517604,
          0.925062890786073,
          1.828417632528281,
          0.378576005284921,
          2.1981186302643567,
          0.9930520404665869,
          0.7326044407550781,
          0.8872495146745155,
          1.545332323716215,
          0.8065353327574671,
          1.127373473465856,
          0.5092909091742476,
          1.7193090440813645,
          0.990024513006942,
          1.3606867658244468,
          0.2583501013313685,
          0.5500181712253318,
          0.9447554264389806,
          0.9906080451241777,
          0.6386501898323824,
          0.17488730262219027,
          1.0324186333668066,
          0.5549865401889341,
          0.9951427084401039,
          0.5038773822635528,
          0.8340758925654645,
          0.6912068125343444,
          1.5751859900857794,
          0.7880008898106048,
          0.7338051406865892,
          0.6254018206697803,
          1.0211215590756264,
          0.9723853893909189,
          0.44369509273227437,
          1.296723374541041,
          1.4505503750760633,
          0.8097106984645456,
          1.8592807644103913,
          0.7969622191094207,
          1.356124359315998,
          1.8077200492422942,
          1.5272981637294178,
          0.635600222714318,
          1.4414476747286835,
          0.9709601987231873,
          0.9569606446409247,
          0.8517000880090091,
          2.5707535649925064,
          1.1049510561929659,
          0.7515719126553186,
          0.7048102122301018,
          0.9221112597930137,
          1.8230011703667515,
          0.38507095317383183,
          2.231398227600388,
          1.0052114469458733,
          0.7442166081678585,
          0.8983961831338694,
          1.545372921666592,
          0.8085616981089359,
          1.120291903258313,
          0.5102059905666314,
          1.7254826174881115,
          1.0257491764259863,
          1.35189941868325,
          0.26941970498003465,
          0.5678585259982669,
          0.9561216645695731,
          0.9995518675793685,
          0.6351868568558398,
          0.17965481124567256,
          1.0691594713719188,
          0.5597071835898332,
          1.0451253784660277,
          0.5247187114167773,
          0.8645259084005983,
          0.702053436095235,
          1.7465062597695193,
          0.7825443773090929,
          0.7509674713933961,
          0.6366284159093442,
          1.0313822103070838,
          0.982532214774992,
          0.4492092569449997,
          1.2846425268062074,
          1.4985628781998064,
          0.8300314681530206,
          1.895102021359549,
          0.8021566784456691,
          1.3384596337305212,
          1.9002700283710314,
          1.565805317161696,
          0.6734222138418569,
          1.482813817155711,
          1.0128833130287744,
          0.9699037835027738,
          0.8764896550360709,
          2.6492101379973563,
          1.1149562808489106,
          0.7631032458342194,
          0.7240037406859935,
          0.9384060750532487,
          1.894526051154098,
          0.3983057665912276,
          2.291297194993974,
          1.0434058316548163,
          0.7775150287470278,
          0.9674167586250041,
          1.6016811245082838,
          0.8270724930221666,
          1.1007130419085485,
          0.5181180708184504,
          1.7273215633642005,
          1.0382948042897358,
          1.369032217435173,
          0.2899787126627034,
          0.6102232532283098,
          0.9581715021589999,
          1.0162037068401348,
          0.6587823593894933,
          0.18598965934691963,
          1.1554800470742572,
          0.5563983444923658,
          1.0926824151340886,
          0.570012512292838,
          0.9089596149243089,
          0.7169466104198152,
          1.8804957488259437,
          0.7762462439384872,
          0.7647946075249977,
          0.6501548994047832,
          1.0397687277077916,
          0.9959552596978238,
          0.4559603825142841,
          1.3040722699464373,
          1.5063314878262055,
          0.8493301842434982,
          1.9510716260906302,
          0.8083139127495859,
          1.3405652359260758,
          1.9924625143083714,
          1.6187315295987759,
          0.7288640362449508,
          1.5103093717717138,
          1.0175306972052502,
          0.9707283507652302,
          0.9231265352107129,
          2.852350907618059,
          1.1256460883841723,
          0.7855842154134766,
          0.7694278611367373,
          0.9399145523680442,
          1.8964158688287072,
          0.4239664862971912,
          2.399330107034116,
          1.0846158399156602,
          0.8434133690449889,
          1.0513865159679328,
          1.5972144579852736,
          0.8552146099977032,
          1.0770801649225148,
          0.524479192162183,
          1.7351923026869454
         ],
         "xaxis": "x",
         "y": [
          44.96507764291042,
          59.37565914364058,
          65.91129456741558,
          60.53511168246826,
          40.52205471803462,
          42.182216275392285,
          61.322174646425324,
          66.94763729246488,
          62.48003448013589,
          66.62425618540557,
          52.23785166240409,
          53.85601299455282,
          62.386659856861435,
          54.27513732983043,
          62.515822784810126,
          61.02765482392573,
          54.65153927097105,
          62.16990912971885,
          66.04168222902817,
          61.55938095772121,
          52.53835245584633,
          40.40218177038838,
          62.92196007259528,
          64.76016150740243,
          65.13212465931983,
          64.27838694234846,
          37.68596159047877,
          66.60259490629505,
          63.30268140020091,
          50.37752238407056,
          71.04744229207749,
          66.26424453202392,
          58.60035329947835,
          57.43813515530803,
          62.31691078561917,
          64.69861858485262,
          50.72902594680207,
          61.94700595307575,
          67.05838034510006,
          56.50531045751634,
          63.401763305231995,
          71.86579007027885,
          56.874295950213295,
          48.89336163629231,
          67.84833169656758,
          66.5930092406589,
          62.71492796801642,
          48.53151468485315,
          66.19855083289758,
          55.483870967741936,
          41.48418491484185,
          55.584348276755634,
          61.67017261646971,
          55.924580522400966,
          35.31598513011152,
          35.863344844597925,
          53.96422208110617,
          60.04454739843193,
          58.09939778968963,
          61.888003111024695,
          46.91085148931691,
          48.57293984720018,
          58.204111590021085,
          43.1924882629108,
          57.55678022712091,
          55.35257523605015,
          48.7964378281385,
          57.99517185883435,
          62.34383383153215,
          57.701762179771954,
          48.53512664333159,
          37.8224386201181,
          55.59283044186715,
          60.1720230138897,
          60.902073271043804,
          59.483822878572596,
          37.37914502596884,
          61.55848663658452,
          57.58813738840974,
          45.56390446960878,
          64.3989588263133,
          62.393419223979265,
          55.237244907293906,
          49.141980558447855,
          57.08989805375347,
          60.327036821265295,
          48.053534171288995,
          57.42506142506142,
          63.2015982426905,
          49.76035786558739,
          57.78753910863394,
          67.94871794871794,
          51.7010856408633,
          44.7057709815422,
          65.02261094270239,
          61.42887977552342,
          58.1860019489506,
          41.19469972216285,
          61.58804747273932,
          51.412944393801276,
          39.02595579090946,
          59.80511571254568,
          60.37610172112331,
          55.87680895050468,
          35.33544081489287,
          34.15403636673701,
          55.782231347046576,
          65.87849183330789,
          59.11329441242178,
          68.60671191553544,
          54.41870217003879,
          49.448157801921774,
          57.33375132254399,
          42.189235585176206,
          58.33728840373359,
          63.43969125400881,
          51.03953304684258,
          62.109620624607004,
          62.2516133154431,
          61.37189198321742,
          49.78580886361866,
          35.054287613560824,
          57.51480134103716,
          63.07367585510175,
          65.862740897173,
          63.2866307415961,
          31.81002941387474,
          61.21109861267342,
          56.50716957605985,
          47.08310700706138,
          68.60130161101034,
          68.66833318876122,
          61.81382662790334,
          51.77623192628474,
          59.04537418974661,
          63.62350411633236,
          46.21925915847478,
          58.078457446808514,
          66.48210384072023,
          53.0079212160137,
          56.54727793696275,
          69.71814581877474,
          55.022429867901515,
          45.24088734295054,
          66.98307579102281,
          66.5181315304241,
          63.75709587548964,
          43.29754351716284,
          65.9305863402949,
          55.40268456375839,
          39.5476183068355,
          63.41786108048512,
          60.32487967419474,
          55.331572362018626,
          39.909523079282316,
          31.31302737188722,
          59.077145916960085,
          65.11169038050758,
          60.00805195259851,
          71.00545411429927,
          47.73855858274057,
          45.33848295981965,
          53.995344562500534,
          38.9713600239916,
          67.23594038942674,
          65.75702165008776,
          44.86866113540125,
          63.979915433403804,
          60.082509424567895,
          63.03428272166942,
          47.2589438218021,
          42.64217517642175,
          59.68998539198182,
          61.57985005145293,
          70.25225305480083,
          65.7676121768596,
          32.21690590111643,
          61.510791366906474,
          55.98516353827133,
          47.64189416110924,
          72.23395827832057,
          73.2895565560195,
          65.92966053990553,
          59.11679613641023,
          62.53474152306837,
          66.15597948276094,
          47.536441906060865,
          60.61819197467647,
          67.23798118903275,
          58.07836822329576,
          56.45350542681138,
          65.82216808769793,
          55.77547253866226,
          46.45157252742251,
          68.3252348558471,
          65.37358745150954,
          60.1954363142003,
          42.4122197976592,
          68.00962475391255,
          56.39312977099237
         ],
         "yaxis": "y"
        },
        {
         "hovertemplate": "<b>OLS trendline</b><br>PERCENT_3_OR_ABOVE = 2.12997 * R1R2_per_million + 54.4475<br>R<sup>2</sup>=0.013142<br><br>R1R2_per_million=%{x}<br>PERCENT_3_OR_ABOVE=%{y} <b>(trend)</b><extra></extra>",
         "legendgroup": "",
         "line": {
          "color": "darkblue"
         },
         "marker": {
          "symbol": "circle"
         },
         "mode": "lines",
         "name": "",
         "showlegend": false,
         "type": "scatter",
         "x": [
          0.17488730262219027,
          0.17499956250109375,
          0.17965481124567256,
          0.18598965934691963,
          0.25692156325980536,
          0.2583501013313685,
          0.26941970498003465,
          0.2899787126627034,
          0.378576005284921,
          0.38507095317383183,
          0.3983057665912276,
          0.4239664862971912,
          0.44330534672795213,
          0.44369509273227437,
          0.4492092569449997,
          0.4559603825142841,
          0.4944815632773896,
          0.5038773822635528,
          0.5092909091742476,
          0.5102059905666314,
          0.5181180708184504,
          0.524479192162183,
          0.5247187114167773,
          0.5430588659518926,
          0.5500181712253318,
          0.5542152782742623,
          0.5549865401889341,
          0.5563983444923658,
          0.5597071835898332,
          0.5678585259982669,
          0.570012512292838,
          0.6102232532283098,
          0.6250599666905544,
          0.6254018206697803,
          0.6294412984618658,
          0.6351868568558398,
          0.635600222714318,
          0.6366284159093442,
          0.6386501898323824,
          0.6403587484377808,
          0.6501548994047832,
          0.6587823593894933,
          0.6734222138418569,
          0.6912068125343444,
          0.6947343995653742,
          0.702053436095235,
          0.7048102122301018,
          0.7076508139517604,
          0.7169466104198152,
          0.7240037406859935,
          0.7288640362449508,
          0.7318207671413647,
          0.7326044407550781,
          0.7338051406865892,
          0.7442166081678585,
          0.7464040120708457,
          0.7509674713933961,
          0.7515719126553186,
          0.7631032458342194,
          0.7647946075249977,
          0.7694278611367373,
          0.7762462439384872,
          0.7775150287470278,
          0.7825443773090929,
          0.7855842154134766,
          0.7880008898106048,
          0.7947536720599976,
          0.7969622191094207,
          0.797346351607216,
          0.8021566784456691,
          0.8065353327574671,
          0.8083139127495859,
          0.8085616981089359,
          0.8097106984645456,
          0.8111640837309525,
          0.8246931454254729,
          0.8270724930221666,
          0.8300314681530206,
          0.8340758925654645,
          0.8414388042593632,
          0.8434133690449889,
          0.8493301842434982,
          0.8517000880090091,
          0.8552146099977032,
          0.8645259084005983,
          0.8764896550360709,
          0.8872495146745155,
          0.8983961831338694,
          0.9089596149243089,
          0.9221112597930137,
          0.9231265352107129,
          0.925062890786073,
          0.9384060750532487,
          0.9399145523680442,
          0.9447554264389806,
          0.9463083564705727,
          0.9561216645695731,
          0.9569606446409247,
          0.9581715021589999,
          0.9657808592399812,
          0.9674167586250041,
          0.9699037835027738,
          0.9707283507652302,
          0.9709601987231873,
          0.9713188956492684,
          0.9718365021142303,
          0.9723853893909189,
          0.9809124251195978,
          0.982532214774992,
          0.9847676145383213,
          0.9854346841080722,
          0.990024513006942,
          0.9906080451241777,
          0.9930520404665869,
          0.9951427084401039,
          0.9959552596978238,
          0.9995518675793685,
          1.0052114469458733,
          1.0128833130287744,
          1.0162037068401348,
          1.0175306972052502,
          1.0211215590756264,
          1.021549240716501,
          1.0257491764259863,
          1.0272145075559331,
          1.0313822103070838,
          1.0324186333668066,
          1.0382948042897358,
          1.0397687277077916,
          1.0434058316548163,
          1.0451253784660277,
          1.0513865159679328,
          1.0691594713719188,
          1.0770801649225148,
          1.0846158399156602,
          1.0926824151340886,
          1.1007130419085485,
          1.1049510561929659,
          1.1054706596607038,
          1.1149562808489106,
          1.120291903258313,
          1.1256460883841723,
          1.127373473465856,
          1.1554800470742572,
          1.2846425268062074,
          1.296723374541041,
          1.3040722699464373,
          1.3077528164091592,
          1.3384596337305212,
          1.3405652359260758,
          1.35189941868325,
          1.356124359315998,
          1.3606867658244468,
          1.3610404882324438,
          1.3637429835423496,
          1.369032217435173,
          1.4295895005228723,
          1.4395345121201608,
          1.4414476747286835,
          1.4505503750760633,
          1.482813817155711,
          1.4985628781998064,
          1.5063314878262055,
          1.5103093717717138,
          1.524343770007012,
          1.5272981637294178,
          1.545332323716215,
          1.545372921666592,
          1.5471924645538206,
          1.565805317161696,
          1.5751859900857794,
          1.5972144579852736,
          1.6016811245082838,
          1.6187315295987759,
          1.7193090440813645,
          1.7254826174881115,
          1.7273215633642005,
          1.7351923026869454,
          1.7465062597695193,
          1.7811373987200747,
          1.8077200492422942,
          1.8230011703667515,
          1.828417632528281,
          1.8592807644103913,
          1.8617333596840209,
          1.8804957488259437,
          1.894526051154098,
          1.895102021359549,
          1.8964158688287072,
          1.9002700283710314,
          1.9510716260906302,
          1.9924625143083714,
          2.1981186302643567,
          2.231398227600388,
          2.291297194993974,
          2.399330107034116,
          2.567684154307547,
          2.5707535649925064,
          2.6492101379973563,
          2.852350907618059
         ],
         "xaxis": "x",
         "y": [
          54.81999646818073,
          54.820235578267784,
          54.830151114819344,
          54.84364414630766,
          54.99472691857402,
          54.99776966070039,
          55.021347575783345,
          55.06513762940375,
          55.25384713593409,
          55.26768117504274,
          55.295870920294526,
          55.35052746350938,
          55.391718641035645,
          55.39254878802966,
          55.40429378809357,
          55.41867347777705,
          55.500722407237774,
          55.520735212503595,
          55.532265858211495,
          55.53421495341385,
          55.55106744084048,
          55.56461643352667,
          55.56512660216729,
          55.60419056687295,
          55.619013672919145,
          55.62795338175919,
          55.629596145900344,
          55.63260324561561,
          55.63965097105722,
          55.65701307951368,
          55.66160100402798,
          55.747248644656324,
          55.77885038770202,
          55.77957852615655,
          55.78818248953086,
          55.80042035207923,
          55.801300808635645,
          55.80349082849639,
          55.80779714472842,
          55.81143632197368,
          55.83230182203769,
          55.85067804627816,
          55.88186048569154,
          55.91974113355072,
          55.92725478535843,
          55.942844107909366,
          55.94871595623145,
          55.95476635047351,
          55.97456611085415,
          55.98959758112412,
          55.99994986107959,
          56.00624760688978,
          56.0079168075679,
          56.01047426146813,
          56.03265036676996,
          56.03730946976169,
          56.04702949766933,
          56.048316938954365,
          56.07287832372609,
          56.07648087207248,
          56.086349559668044,
          56.1008725051867,
          56.10357497777956,
          56.11428733542872,
          56.12076209703409,
          56.12590953912209,
          56.140292757483216,
          56.144996894726134,
          56.145815085124006,
          56.15606093324269,
          56.165387332165174,
          56.16917565280911,
          56.16970342799844,
          56.172150763393155,
          56.17524642927983,
          56.20406291430582,
          56.2091308514577,
          56.21543337741817,
          56.224047876941604,
          56.2397306522416,
          56.24393641446389,
          56.25653904873515,
          56.26158687081727,
          56.269072694486894,
          56.28890547351164,
          56.314387885637494,
          56.33730605551165,
          56.36104811626955,
          56.383547900872905,
          56.41156049967565,
          56.41372300506826,
          56.41784738284865,
          56.446267954675136,
          56.449480964929315,
          56.45979187771304,
          56.46309957088587,
          56.48400161511299,
          56.48578861684371,
          56.488367706090706,
          56.50457540248035,
          56.50805981782244,
          56.51335710426903,
          56.5151134071604,
          56.51560723617527,
          56.516371249588225,
          56.51747373542824,
          56.51864284843451,
          56.536805172100394,
          56.54025527421419,
          56.545016606911275,
          56.546437444564475,
          56.556213638858104,
          56.55745654430847,
          56.56266217916907,
          56.56711523760826,
          56.568845946779355,
          56.576506610874404,
          56.588561340740426,
          56.604902179380325,
          56.61197451600691,
          56.61480096464388,
          56.62244938991198,
          56.623360338644304,
          56.63230607244427,
          56.63542718265263,
          56.64430426124337,
          56.646511810462634,
          56.65902787367782,
          56.6621672851954,
          56.66991420466358,
          56.67357678644904,
          56.686912816629345,
          56.72476866464237,
          56.7416394981303,
          56.75769025394056,
          56.77487181089118,
          56.79197679876253,
          56.80100363875516,
          56.80211037814963,
          56.82231445934196,
          56.833679170859774,
          56.845083420392335,
          56.84876269745266,
          56.908628834203775,
          57.18374094080486,
          57.209472774668335,
          57.225125695705195,
          57.232965146394776,
          57.29836972222691,
          57.302854590099415,
          57.32699605054055,
          57.33599504405749,
          57.345712829503505,
          57.34646624734604,
          57.352222479181556,
          57.36348838458675,
          57.49247353379471,
          57.513656102419745,
          57.51773107989458,
          57.53711955148109,
          57.6058396901402,
          57.63938470545596,
          57.65593160486603,
          57.6644043752428,
          57.694297211547934,
          57.70058997924941,
          57.73900218498474,
          57.73908865736956,
          57.74296422771936,
          57.78260903092719,
          57.80258957554693,
          57.84950953420366,
          57.859023396427276,
          57.895340234510456,
          58.109567244888616,
          58.12271676624119,
          58.12663366436011,
          58.143398096880155,
          58.167496477256876,
          58.24125973738052,
          58.297879964859774,
          58.330428282548475,
          58.34196518025031,
          58.407702701285956,
          58.41292665373537,
          58.452889965158434,
          58.482774077307404,
          58.48400087611841,
          58.486799330791484,
          58.49500857199734,
          58.603214411621536,
          58.69137572963978,
          59.129416927156775,
          59.20030144523781,
          59.32788440227826,
          59.55799117999957,
          59.916580119266854,
          59.9231178695587,
          60.09022795540453,
          60.52291154264207
         ],
         "yaxis": "y"
        }
       ],
       "layout": {
        "coloraxis": {
         "colorbar": {
          "title": {
           "text": "PERCENT_3_OR_ABOVE"
          }
         },
         "colorscale": [
          [
           0,
           "#0d0887"
          ],
          [
           0.1111111111111111,
           "#46039f"
          ],
          [
           0.2222222222222222,
           "#7201a8"
          ],
          [
           0.3333333333333333,
           "#9c179e"
          ],
          [
           0.4444444444444444,
           "#bd3786"
          ],
          [
           0.5555555555555556,
           "#d8576b"
          ],
          [
           0.6666666666666666,
           "#ed7953"
          ],
          [
           0.7777777777777778,
           "#fb9f3a"
          ],
          [
           0.8888888888888888,
           "#fdca26"
          ],
          [
           1,
           "#f0f921"
          ]
         ]
        },
        "height": 600,
        "legend": {
         "tracegroupgap": 0
        },
        "template": {
         "data": {
          "bar": [
           {
            "error_x": {
             "color": "#2a3f5f"
            },
            "error_y": {
             "color": "#2a3f5f"
            },
            "marker": {
             "line": {
              "color": "#E5ECF6",
              "width": 0.5
             },
             "pattern": {
              "fillmode": "overlay",
              "size": 10,
              "solidity": 0.2
             }
            },
            "type": "bar"
           }
          ],
          "barpolar": [
           {
            "marker": {
             "line": {
              "color": "#E5ECF6",
              "width": 0.5
             },
             "pattern": {
              "fillmode": "overlay",
              "size": 10,
              "solidity": 0.2
             }
            },
            "type": "barpolar"
           }
          ],
          "carpet": [
           {
            "aaxis": {
             "endlinecolor": "#2a3f5f",
             "gridcolor": "white",
             "linecolor": "white",
             "minorgridcolor": "white",
             "startlinecolor": "#2a3f5f"
            },
            "baxis": {
             "endlinecolor": "#2a3f5f",
             "gridcolor": "white",
             "linecolor": "white",
             "minorgridcolor": "white",
             "startlinecolor": "#2a3f5f"
            },
            "type": "carpet"
           }
          ],
          "choropleth": [
           {
            "colorbar": {
             "outlinewidth": 0,
             "ticks": ""
            },
            "type": "choropleth"
           }
          ],
          "contour": [
           {
            "colorbar": {
             "outlinewidth": 0,
             "ticks": ""
            },
            "colorscale": [
             [
              0,
              "#0d0887"
             ],
             [
              0.1111111111111111,
              "#46039f"
             ],
             [
              0.2222222222222222,
              "#7201a8"
             ],
             [
              0.3333333333333333,
              "#9c179e"
             ],
             [
              0.4444444444444444,
              "#bd3786"
             ],
             [
              0.5555555555555556,
              "#d8576b"
             ],
             [
              0.6666666666666666,
              "#ed7953"
             ],
             [
              0.7777777777777778,
              "#fb9f3a"
             ],
             [
              0.8888888888888888,
              "#fdca26"
             ],
             [
              1,
              "#f0f921"
             ]
            ],
            "type": "contour"
           }
          ],
          "contourcarpet": [
           {
            "colorbar": {
             "outlinewidth": 0,
             "ticks": ""
            },
            "type": "contourcarpet"
           }
          ],
          "heatmap": [
           {
            "colorbar": {
             "outlinewidth": 0,
             "ticks": ""
            },
            "colorscale": [
             [
              0,
              "#0d0887"
             ],
             [
              0.1111111111111111,
              "#46039f"
             ],
             [
              0.2222222222222222,
              "#7201a8"
             ],
             [
              0.3333333333333333,
              "#9c179e"
             ],
             [
              0.4444444444444444,
              "#bd3786"
             ],
             [
              0.5555555555555556,
              "#d8576b"
             ],
             [
              0.6666666666666666,
              "#ed7953"
             ],
             [
              0.7777777777777778,
              "#fb9f3a"
             ],
             [
              0.8888888888888888,
              "#fdca26"
             ],
             [
              1,
              "#f0f921"
             ]
            ],
            "type": "heatmap"
           }
          ],
          "heatmapgl": [
           {
            "colorbar": {
             "outlinewidth": 0,
             "ticks": ""
            },
            "colorscale": [
             [
              0,
              "#0d0887"
             ],
             [
              0.1111111111111111,
              "#46039f"
             ],
             [
              0.2222222222222222,
              "#7201a8"
             ],
             [
              0.3333333333333333,
              "#9c179e"
             ],
             [
              0.4444444444444444,
              "#bd3786"
             ],
             [
              0.5555555555555556,
              "#d8576b"
             ],
             [
              0.6666666666666666,
              "#ed7953"
             ],
             [
              0.7777777777777778,
              "#fb9f3a"
             ],
             [
              0.8888888888888888,
              "#fdca26"
             ],
             [
              1,
              "#f0f921"
             ]
            ],
            "type": "heatmapgl"
           }
          ],
          "histogram": [
           {
            "marker": {
             "pattern": {
              "fillmode": "overlay",
              "size": 10,
              "solidity": 0.2
             }
            },
            "type": "histogram"
           }
          ],
          "histogram2d": [
           {
            "colorbar": {
             "outlinewidth": 0,
             "ticks": ""
            },
            "colorscale": [
             [
              0,
              "#0d0887"
             ],
             [
              0.1111111111111111,
              "#46039f"
             ],
             [
              0.2222222222222222,
              "#7201a8"
             ],
             [
              0.3333333333333333,
              "#9c179e"
             ],
             [
              0.4444444444444444,
              "#bd3786"
             ],
             [
              0.5555555555555556,
              "#d8576b"
             ],
             [
              0.6666666666666666,
              "#ed7953"
             ],
             [
              0.7777777777777778,
              "#fb9f3a"
             ],
             [
              0.8888888888888888,
              "#fdca26"
             ],
             [
              1,
              "#f0f921"
             ]
            ],
            "type": "histogram2d"
           }
          ],
          "histogram2dcontour": [
           {
            "colorbar": {
             "outlinewidth": 0,
             "ticks": ""
            },
            "colorscale": [
             [
              0,
              "#0d0887"
             ],
             [
              0.1111111111111111,
              "#46039f"
             ],
             [
              0.2222222222222222,
              "#7201a8"
             ],
             [
              0.3333333333333333,
              "#9c179e"
             ],
             [
              0.4444444444444444,
              "#bd3786"
             ],
             [
              0.5555555555555556,
              "#d8576b"
             ],
             [
              0.6666666666666666,
              "#ed7953"
             ],
             [
              0.7777777777777778,
              "#fb9f3a"
             ],
             [
              0.8888888888888888,
              "#fdca26"
             ],
             [
              1,
              "#f0f921"
             ]
            ],
            "type": "histogram2dcontour"
           }
          ],
          "mesh3d": [
           {
            "colorbar": {
             "outlinewidth": 0,
             "ticks": ""
            },
            "type": "mesh3d"
           }
          ],
          "parcoords": [
           {
            "line": {
             "colorbar": {
              "outlinewidth": 0,
              "ticks": ""
             }
            },
            "type": "parcoords"
           }
          ],
          "pie": [
           {
            "automargin": true,
            "type": "pie"
           }
          ],
          "scatter": [
           {
            "fillpattern": {
             "fillmode": "overlay",
             "size": 10,
             "solidity": 0.2
            },
            "type": "scatter"
           }
          ],
          "scatter3d": [
           {
            "line": {
             "colorbar": {
              "outlinewidth": 0,
              "ticks": ""
             }
            },
            "marker": {
             "colorbar": {
              "outlinewidth": 0,
              "ticks": ""
             }
            },
            "type": "scatter3d"
           }
          ],
          "scattercarpet": [
           {
            "marker": {
             "colorbar": {
              "outlinewidth": 0,
              "ticks": ""
             }
            },
            "type": "scattercarpet"
           }
          ],
          "scattergeo": [
           {
            "marker": {
             "colorbar": {
              "outlinewidth": 0,
              "ticks": ""
             }
            },
            "type": "scattergeo"
           }
          ],
          "scattergl": [
           {
            "marker": {
             "colorbar": {
              "outlinewidth": 0,
              "ticks": ""
             }
            },
            "type": "scattergl"
           }
          ],
          "scattermapbox": [
           {
            "marker": {
             "colorbar": {
              "outlinewidth": 0,
              "ticks": ""
             }
            },
            "type": "scattermapbox"
           }
          ],
          "scatterpolar": [
           {
            "marker": {
             "colorbar": {
              "outlinewidth": 0,
              "ticks": ""
             }
            },
            "type": "scatterpolar"
           }
          ],
          "scatterpolargl": [
           {
            "marker": {
             "colorbar": {
              "outlinewidth": 0,
              "ticks": ""
             }
            },
            "type": "scatterpolargl"
           }
          ],
          "scatterternary": [
           {
            "marker": {
             "colorbar": {
              "outlinewidth": 0,
              "ticks": ""
             }
            },
            "type": "scatterternary"
           }
          ],
          "surface": [
           {
            "colorbar": {
             "outlinewidth": 0,
             "ticks": ""
            },
            "colorscale": [
             [
              0,
              "#0d0887"
             ],
             [
              0.1111111111111111,
              "#46039f"
             ],
             [
              0.2222222222222222,
              "#7201a8"
             ],
             [
              0.3333333333333333,
              "#9c179e"
             ],
             [
              0.4444444444444444,
              "#bd3786"
             ],
             [
              0.5555555555555556,
              "#d8576b"
             ],
             [
              0.6666666666666666,
              "#ed7953"
             ],
             [
              0.7777777777777778,
              "#fb9f3a"
             ],
             [
              0.8888888888888888,
              "#fdca26"
             ],
             [
              1,
              "#f0f921"
             ]
            ],
            "type": "surface"
           }
          ],
          "table": [
           {
            "cells": {
             "fill": {
              "color": "#EBF0F8"
             },
             "line": {
              "color": "white"
             }
            },
            "header": {
             "fill": {
              "color": "#C8D4E3"
             },
             "line": {
              "color": "white"
             }
            },
            "type": "table"
           }
          ]
         },
         "layout": {
          "annotationdefaults": {
           "arrowcolor": "#2a3f5f",
           "arrowhead": 0,
           "arrowwidth": 1
          },
          "autotypenumbers": "strict",
          "coloraxis": {
           "colorbar": {
            "outlinewidth": 0,
            "ticks": ""
           }
          },
          "colorscale": {
           "diverging": [
            [
             0,
             "#8e0152"
            ],
            [
             0.1,
             "#c51b7d"
            ],
            [
             0.2,
             "#de77ae"
            ],
            [
             0.3,
             "#f1b6da"
            ],
            [
             0.4,
             "#fde0ef"
            ],
            [
             0.5,
             "#f7f7f7"
            ],
            [
             0.6,
             "#e6f5d0"
            ],
            [
             0.7,
             "#b8e186"
            ],
            [
             0.8,
             "#7fbc41"
            ],
            [
             0.9,
             "#4d9221"
            ],
            [
             1,
             "#276419"
            ]
           ],
           "sequential": [
            [
             0,
             "#0d0887"
            ],
            [
             0.1111111111111111,
             "#46039f"
            ],
            [
             0.2222222222222222,
             "#7201a8"
            ],
            [
             0.3333333333333333,
             "#9c179e"
            ],
            [
             0.4444444444444444,
             "#bd3786"
            ],
            [
             0.5555555555555556,
             "#d8576b"
            ],
            [
             0.6666666666666666,
             "#ed7953"
            ],
            [
             0.7777777777777778,
             "#fb9f3a"
            ],
            [
             0.8888888888888888,
             "#fdca26"
            ],
            [
             1,
             "#f0f921"
            ]
           ],
           "sequentialminus": [
            [
             0,
             "#0d0887"
            ],
            [
             0.1111111111111111,
             "#46039f"
            ],
            [
             0.2222222222222222,
             "#7201a8"
            ],
            [
             0.3333333333333333,
             "#9c179e"
            ],
            [
             0.4444444444444444,
             "#bd3786"
            ],
            [
             0.5555555555555556,
             "#d8576b"
            ],
            [
             0.6666666666666666,
             "#ed7953"
            ],
            [
             0.7777777777777778,
             "#fb9f3a"
            ],
            [
             0.8888888888888888,
             "#fdca26"
            ],
            [
             1,
             "#f0f921"
            ]
           ]
          },
          "colorway": [
           "#636efa",
           "#EF553B",
           "#00cc96",
           "#ab63fa",
           "#FFA15A",
           "#19d3f3",
           "#FF6692",
           "#B6E880",
           "#FF97FF",
           "#FECB52"
          ],
          "font": {
           "color": "#2a3f5f"
          },
          "geo": {
           "bgcolor": "white",
           "lakecolor": "white",
           "landcolor": "#E5ECF6",
           "showlakes": true,
           "showland": true,
           "subunitcolor": "white"
          },
          "hoverlabel": {
           "align": "left"
          },
          "hovermode": "closest",
          "mapbox": {
           "style": "light"
          },
          "paper_bgcolor": "white",
          "plot_bgcolor": "#E5ECF6",
          "polar": {
           "angularaxis": {
            "gridcolor": "white",
            "linecolor": "white",
            "ticks": ""
           },
           "bgcolor": "#E5ECF6",
           "radialaxis": {
            "gridcolor": "white",
            "linecolor": "white",
            "ticks": ""
           }
          },
          "scene": {
           "xaxis": {
            "backgroundcolor": "#E5ECF6",
            "gridcolor": "white",
            "gridwidth": 2,
            "linecolor": "white",
            "showbackground": true,
            "ticks": "",
            "zerolinecolor": "white"
           },
           "yaxis": {
            "backgroundcolor": "#E5ECF6",
            "gridcolor": "white",
            "gridwidth": 2,
            "linecolor": "white",
            "showbackground": true,
            "ticks": "",
            "zerolinecolor": "white"
           },
           "zaxis": {
            "backgroundcolor": "#E5ECF6",
            "gridcolor": "white",
            "gridwidth": 2,
            "linecolor": "white",
            "showbackground": true,
            "ticks": "",
            "zerolinecolor": "white"
           }
          },
          "shapedefaults": {
           "line": {
            "color": "#2a3f5f"
           }
          },
          "ternary": {
           "aaxis": {
            "gridcolor": "white",
            "linecolor": "white",
            "ticks": ""
           },
           "baxis": {
            "gridcolor": "white",
            "linecolor": "white",
            "ticks": ""
           },
           "bgcolor": "#E5ECF6",
           "caxis": {
            "gridcolor": "white",
            "linecolor": "white",
            "ticks": ""
           }
          },
          "title": {
           "x": 0.05
          },
          "xaxis": {
           "automargin": true,
           "gridcolor": "white",
           "linecolor": "white",
           "ticks": "",
           "title": {
            "standoff": 15
           },
           "zerolinecolor": "white",
           "zerolinewidth": 2
          },
          "yaxis": {
           "automargin": true,
           "gridcolor": "white",
           "linecolor": "white",
           "ticks": "",
           "title": {
            "standoff": 15
           },
           "zerolinecolor": "white",
           "zerolinewidth": 2
          }
         }
        },
        "title": {
         "text": "Pass rate vs R1R2 uni count per million"
        },
        "width": 800,
        "xaxis": {
         "anchor": "y",
         "domain": [
          0,
          1
         ],
         "title": {
          "text": "R1R2_per_million"
         }
        },
        "yaxis": {
         "anchor": "x",
         "domain": [
          0,
          1
         ],
         "title": {
          "text": "PERCENT_3_OR_ABOVE"
         }
        }
       }
      }
     },
     "metadata": {},
     "output_type": "display_data"
    }
   ],
   "source": [
    "fig = px.scatter(data_frame=ap_overall_statelevel,x='R1R2_per_million', y='PERCENT_3_OR_ABOVE',trendline='ols',trendline_color_override='darkblue',width=800, height=600,color='PERCENT_3_OR_ABOVE',\n",
    "                 title='Pass rate vs R1R2 uni count per million')\n",
    "fig.show()\n",
    "with open('data/state_by_state_pickled/AP_pass_rate_by_states_vs_r1r2count.pkl', 'wb') as f:\n",
    "    pickle.dump(fig, f)"
   ]
  },
  {
   "cell_type": "code",
   "execution_count": 388,
   "metadata": {},
   "outputs": [
    {
     "data": {
      "application/vnd.plotly.v1+json": {
       "config": {
        "plotlyServerURL": "https://plot.ly"
       },
       "data": [
        {
         "hovertemplate": "public_per_million=%{x}<br>PERCENT_3_OR_ABOVE=%{marker.color}<extra></extra>",
         "legendgroup": "",
         "marker": {
          "color": [
           44.96507764291042,
           59.37565914364058,
           65.91129456741558,
           60.53511168246826,
           40.52205471803462,
           42.182216275392285,
           61.322174646425324,
           66.94763729246488,
           62.48003448013589,
           66.62425618540557,
           52.23785166240409,
           53.85601299455282,
           62.386659856861435,
           54.27513732983043,
           62.515822784810126,
           61.02765482392573,
           54.65153927097105,
           62.16990912971885,
           66.04168222902817,
           61.55938095772121,
           52.53835245584633,
           40.40218177038838,
           62.92196007259528,
           64.76016150740243,
           65.13212465931983,
           64.27838694234846,
           37.68596159047877,
           66.60259490629505,
           63.30268140020091,
           50.37752238407056,
           71.04744229207749,
           66.26424453202392,
           58.60035329947835,
           57.43813515530803,
           62.31691078561917,
           64.69861858485262,
           50.72902594680207,
           61.94700595307575,
           67.05838034510006,
           56.50531045751634,
           63.401763305231995,
           71.86579007027885,
           56.874295950213295,
           48.89336163629231,
           67.84833169656758,
           66.5930092406589,
           62.71492796801642,
           48.53151468485315,
           66.19855083289758,
           55.483870967741936,
           41.48418491484185,
           55.584348276755634,
           61.67017261646971,
           55.924580522400966,
           35.31598513011152,
           35.863344844597925,
           53.96422208110617,
           60.04454739843193,
           58.09939778968963,
           61.888003111024695,
           46.91085148931691,
           48.57293984720018,
           58.204111590021085,
           43.1924882629108,
           57.55678022712091,
           55.35257523605015,
           48.7964378281385,
           57.99517185883435,
           62.34383383153215,
           57.701762179771954,
           48.53512664333159,
           37.8224386201181,
           55.59283044186715,
           60.1720230138897,
           60.902073271043804,
           59.483822878572596,
           37.37914502596884,
           61.55848663658452,
           57.58813738840974,
           45.56390446960878,
           64.3989588263133,
           62.393419223979265,
           55.237244907293906,
           49.141980558447855,
           57.08989805375347,
           60.327036821265295,
           48.053534171288995,
           57.42506142506142,
           63.2015982426905,
           49.76035786558739,
           57.78753910863394,
           67.94871794871794,
           51.7010856408633,
           44.7057709815422,
           65.02261094270239,
           61.42887977552342,
           58.1860019489506,
           41.19469972216285,
           61.58804747273932,
           51.412944393801276,
           39.02595579090946,
           59.80511571254568,
           60.37610172112331,
           55.87680895050468,
           35.33544081489287,
           34.15403636673701,
           55.782231347046576,
           65.87849183330789,
           59.11329441242178,
           68.60671191553544,
           54.41870217003879,
           49.448157801921774,
           57.33375132254399,
           42.189235585176206,
           58.33728840373359,
           63.43969125400881,
           51.03953304684258,
           62.109620624607004,
           62.2516133154431,
           61.37189198321742,
           49.78580886361866,
           35.054287613560824,
           57.51480134103716,
           63.07367585510175,
           65.862740897173,
           63.2866307415961,
           31.81002941387474,
           61.21109861267342,
           56.50716957605985,
           47.08310700706138,
           68.60130161101034,
           68.66833318876122,
           61.81382662790334,
           51.77623192628474,
           59.04537418974661,
           63.62350411633236,
           46.21925915847478,
           58.078457446808514,
           66.48210384072023,
           53.0079212160137,
           56.54727793696275,
           69.71814581877474,
           55.022429867901515,
           45.24088734295054,
           66.98307579102281,
           66.5181315304241,
           63.75709587548964,
           43.29754351716284,
           65.9305863402949,
           55.40268456375839,
           39.5476183068355,
           63.41786108048512,
           60.32487967419474,
           55.331572362018626,
           39.909523079282316,
           31.31302737188722,
           59.077145916960085,
           65.11169038050758,
           60.00805195259851,
           71.00545411429927,
           47.73855858274057,
           45.33848295981965,
           53.995344562500534,
           38.9713600239916,
           67.23594038942674,
           65.75702165008776,
           44.86866113540125,
           63.979915433403804,
           60.082509424567895,
           63.03428272166942,
           47.2589438218021,
           42.64217517642175,
           59.68998539198182,
           61.57985005145293,
           70.25225305480083,
           65.7676121768596,
           32.21690590111643,
           61.510791366906474,
           55.98516353827133,
           47.64189416110924,
           72.23395827832057,
           73.2895565560195,
           65.92966053990553,
           59.11679613641023,
           62.53474152306837,
           66.15597948276094,
           47.536441906060865,
           60.61819197467647,
           67.23798118903275,
           58.07836822329576,
           56.45350542681138,
           65.82216808769793,
           55.77547253866226,
           46.45157252742251,
           68.3252348558471,
           65.37358745150954,
           60.1954363142003,
           42.4122197976592,
           68.00962475391255,
           56.39312977099237
          ],
          "coloraxis": "coloraxis",
          "symbol": "circle"
         },
         "mode": "markers",
         "name": "",
         "orientation": "v",
         "showlegend": false,
         "type": "scatter",
         "x": [
          7.489303599221349,
          5.454971934169398,
          5.395352828455913,
          3.529882628687302,
          13.248316990588018,
          11.160699631434307,
          3.9189955404392185,
          7.874980312549218,
          4.964870119853677,
          5.265045143605492,
          2.9427372753587933,
          1.8430676449429977,
          4.5816285856970715,
          6.947343995653742,
          4.125846572143522,
          4.768522032359985,
          2.341826454852367,
          5.938069683560267,
          11.577558061453677,
          4.370935030421708,
          5.319664160735426,
          6.756722884780656,
          10.796508840901206,
          5.029217319131905,
          4.296307753116971,
          4.584741521741492,
          7.825982807336553,
          16.92080528784071,
          8.129833440037396,
          2.2030445446165303,
          9.29233175339867,
          3.45541867418393,
          4.1172762946546575,
          7.011990035494693,
          20.541473234460376,
          5.18720847994638,
          7.464040120708457,
          5.89709011626467,
          3.1606315435190826,
          3.656835265056562,
          6.246504087201197,
          14.287771096718318,
          3.404749853028298,
          3.4299207908078655,
          2.3659987057987077,
          7.726661618581076,
          4.839211996544803,
          12.401108208124416,
          5.602200000916723,
          13.754472352650916,
          7.52418629885276,
          5.442747063297787,
          5.425352127958738,
          3.575118112964657,
          13.226575970145728,
          11.226891178074014,
          3.9085391617741805,
          7.8699286179985615,
          4.990023394606232,
          5.2723721317948735,
          2.9854281253203117,
          1.878088424800515,
          4.6337549586970255,
          6.912068125343444,
          4.200495973562078,
          4.728005338863628,
          2.3481764501970854,
          5.9413172963629135,
          11.572711002857098,
          4.375734252259135,
          5.324341112787293,
          6.699737435128712,
          10.879127813070474,
          5.020206330480183,
          4.2906479178701336,
          4.582532759879169,
          7.7977150660669885,
          17.173340467801793,
          8.145590206556895,
          2.224600779500113,
          9.369409885736443,
          3.452302928793555,
          4.079674327153416,
          7.097500733408409,
          20.56602851994005,
          5.184770340597764,
          7.515719126553186,
          5.873418435250848,
          3.1505468042927967,
          3.646002340733503,
          6.3536707273682245,
          14.50408847940252,
          3.446439246671565,
          3.4842868473313375,
          2.395723155023652,
          7.72686460833296,
          4.851370188653616,
          12.323210935841443,
          5.6122658962329455,
          13.803860939904892,
          7.795693740837495,
          5.407597674733,
          5.657813804580727,
          3.6910804189887347,
          13.385703303974024,
          11.328254499232845,
          3.8873435639577396,
          8.084466506055266,
          5.167604111630941,
          5.317218244103415,
          3.135376135398083,
          1.9557697425534424,
          4.802921713336657,
          7.020534360952349,
          4.657350026052051,
          4.695266263854557,
          2.4030959084588677,
          6.047969951138769,
          11.688998383480282,
          4.421394966487464,
          5.390511083339996,
          6.637319721832071,
          11.239221586498548,
          5.146195102548728,
          4.373312356983575,
          4.612400901062597,
          7.696142893950497,
          18.0525652695248,
          8.350961691529045,
          2.356977748446499,
          9.638289811512122,
          3.6013628907689754,
          4.134852971774984,
          7.3040804586339245,
          21.19368110397885,
          5.231717933214119,
          7.631032458342194,
          6.033364505716613,
          3.206220756431933,
          3.789052102308196,
          6.5720451487552545,
          14.89343176746083,
          3.577391422816513,
          3.640183998224721,
          2.579778023000011,
          8.008405622541419,
          4.962434958133,
          12.107843460994031,
          5.699298779002954,
          13.818572506913604,
          7.891040512601991,
          5.476128869740692,
          6.089552965916772,
          3.966451145984014,
          13.414401030226,
          11.516975344188195,
          4.031748039463698,
          8.369534670611383,
          5.584820227525576,
          5.285784272677475,
          3.2780472454022656,
          2.124592091273305,
          5.0497756384683825,
          7.169466104198152,
          5.014655330202517,
          4.657477463630923,
          2.4473427440799926,
          6.17647154434544,
          11.784045580688305,
          4.481798668640208,
          5.471524590171409,
          6.737706728056593,
          11.297486158696541,
          5.265847142309689,
          4.5024729832860695,
          4.647804998310119,
          7.708250106574936,
          18.928393885929527,
          8.633234824526804,
          2.5510241268573277,
          9.81701091651614,
          3.617886923396445,
          4.1383682322096655,
          7.6927211267559406,
          22.81880726094447,
          5.281877799341116,
          7.855842154134765,
          6.411898842806145,
          3.211374720590818,
          3.7928317376574143,
          6.995447023903655,
          15.595645695721755,
          3.718682879710835,
          3.948708045983357,
          2.803697375914487,
          7.986072289926368,
          5.131287659986219,
          11.847881814147664,
          5.769271113784012,
          13.881538421495563
         ],
         "xaxis": "x",
         "y": [
          44.96507764291042,
          59.37565914364058,
          65.91129456741558,
          60.53511168246826,
          40.52205471803462,
          42.182216275392285,
          61.322174646425324,
          66.94763729246488,
          62.48003448013589,
          66.62425618540557,
          52.23785166240409,
          53.85601299455282,
          62.386659856861435,
          54.27513732983043,
          62.515822784810126,
          61.02765482392573,
          54.65153927097105,
          62.16990912971885,
          66.04168222902817,
          61.55938095772121,
          52.53835245584633,
          40.40218177038838,
          62.92196007259528,
          64.76016150740243,
          65.13212465931983,
          64.27838694234846,
          37.68596159047877,
          66.60259490629505,
          63.30268140020091,
          50.37752238407056,
          71.04744229207749,
          66.26424453202392,
          58.60035329947835,
          57.43813515530803,
          62.31691078561917,
          64.69861858485262,
          50.72902594680207,
          61.94700595307575,
          67.05838034510006,
          56.50531045751634,
          63.401763305231995,
          71.86579007027885,
          56.874295950213295,
          48.89336163629231,
          67.84833169656758,
          66.5930092406589,
          62.71492796801642,
          48.53151468485315,
          66.19855083289758,
          55.483870967741936,
          41.48418491484185,
          55.584348276755634,
          61.67017261646971,
          55.924580522400966,
          35.31598513011152,
          35.863344844597925,
          53.96422208110617,
          60.04454739843193,
          58.09939778968963,
          61.888003111024695,
          46.91085148931691,
          48.57293984720018,
          58.204111590021085,
          43.1924882629108,
          57.55678022712091,
          55.35257523605015,
          48.7964378281385,
          57.99517185883435,
          62.34383383153215,
          57.701762179771954,
          48.53512664333159,
          37.8224386201181,
          55.59283044186715,
          60.1720230138897,
          60.902073271043804,
          59.483822878572596,
          37.37914502596884,
          61.55848663658452,
          57.58813738840974,
          45.56390446960878,
          64.3989588263133,
          62.393419223979265,
          55.237244907293906,
          49.141980558447855,
          57.08989805375347,
          60.327036821265295,
          48.053534171288995,
          57.42506142506142,
          63.2015982426905,
          49.76035786558739,
          57.78753910863394,
          67.94871794871794,
          51.7010856408633,
          44.7057709815422,
          65.02261094270239,
          61.42887977552342,
          58.1860019489506,
          41.19469972216285,
          61.58804747273932,
          51.412944393801276,
          39.02595579090946,
          59.80511571254568,
          60.37610172112331,
          55.87680895050468,
          35.33544081489287,
          34.15403636673701,
          55.782231347046576,
          65.87849183330789,
          59.11329441242178,
          68.60671191553544,
          54.41870217003879,
          49.448157801921774,
          57.33375132254399,
          42.189235585176206,
          58.33728840373359,
          63.43969125400881,
          51.03953304684258,
          62.109620624607004,
          62.2516133154431,
          61.37189198321742,
          49.78580886361866,
          35.054287613560824,
          57.51480134103716,
          63.07367585510175,
          65.862740897173,
          63.2866307415961,
          31.81002941387474,
          61.21109861267342,
          56.50716957605985,
          47.08310700706138,
          68.60130161101034,
          68.66833318876122,
          61.81382662790334,
          51.77623192628474,
          59.04537418974661,
          63.62350411633236,
          46.21925915847478,
          58.078457446808514,
          66.48210384072023,
          53.0079212160137,
          56.54727793696275,
          69.71814581877474,
          55.022429867901515,
          45.24088734295054,
          66.98307579102281,
          66.5181315304241,
          63.75709587548964,
          43.29754351716284,
          65.9305863402949,
          55.40268456375839,
          39.5476183068355,
          63.41786108048512,
          60.32487967419474,
          55.331572362018626,
          39.909523079282316,
          31.31302737188722,
          59.077145916960085,
          65.11169038050758,
          60.00805195259851,
          71.00545411429927,
          47.73855858274057,
          45.33848295981965,
          53.995344562500534,
          38.9713600239916,
          67.23594038942674,
          65.75702165008776,
          44.86866113540125,
          63.979915433403804,
          60.082509424567895,
          63.03428272166942,
          47.2589438218021,
          42.64217517642175,
          59.68998539198182,
          61.57985005145293,
          70.25225305480083,
          65.7676121768596,
          32.21690590111643,
          61.510791366906474,
          55.98516353827133,
          47.64189416110924,
          72.23395827832057,
          73.2895565560195,
          65.92966053990553,
          59.11679613641023,
          62.53474152306837,
          66.15597948276094,
          47.536441906060865,
          60.61819197467647,
          67.23798118903275,
          58.07836822329576,
          56.45350542681138,
          65.82216808769793,
          55.77547253866226,
          46.45157252742251,
          68.3252348558471,
          65.37358745150954,
          60.1954363142003,
          42.4122197976592,
          68.00962475391255,
          56.39312977099237
         ],
         "yaxis": "y"
        },
        {
         "hovertemplate": "<b>OLS trendline</b><br>PERCENT_3_OR_ABOVE = -0.149188 * public_per_million + 57.6911<br>R<sup>2</sup>=0.004152<br><br>public_per_million=%{x}<br>PERCENT_3_OR_ABOVE=%{y} <b>(trend)</b><extra></extra>",
         "legendgroup": "",
         "line": {
          "color": "darkblue"
         },
         "marker": {
          "symbol": "circle"
         },
         "mode": "lines",
         "name": "",
         "showlegend": false,
         "type": "scatter",
         "x": [
          1.8430676449429977,
          1.878088424800515,
          1.9557697425534424,
          2.124592091273305,
          2.2030445446165303,
          2.224600779500113,
          2.341826454852367,
          2.3481764501970854,
          2.356977748446499,
          2.3659987057987077,
          2.395723155023652,
          2.4030959084588677,
          2.4473427440799926,
          2.5510241268573277,
          2.579778023000011,
          2.803697375914487,
          2.9427372753587933,
          2.9854281253203117,
          3.135376135398083,
          3.1505468042927967,
          3.1606315435190826,
          3.206220756431933,
          3.211374720590818,
          3.2780472454022656,
          3.404749853028298,
          3.4299207908078655,
          3.446439246671565,
          3.452302928793555,
          3.45541867418393,
          3.4842868473313375,
          3.529882628687302,
          3.575118112964657,
          3.577391422816513,
          3.6013628907689754,
          3.617886923396445,
          3.640183998224721,
          3.646002340733503,
          3.656835265056562,
          3.6910804189887347,
          3.718682879710835,
          3.789052102308196,
          3.7928317376574143,
          3.8873435639577396,
          3.9085391617741805,
          3.9189955404392185,
          3.948708045983357,
          3.966451145984014,
          4.031748039463698,
          4.079674327153416,
          4.1172762946546575,
          4.125846572143522,
          4.134852971774984,
          4.1383682322096655,
          4.200495973562078,
          4.2906479178701336,
          4.296307753116971,
          4.370935030421708,
          4.373312356983575,
          4.375734252259135,
          4.421394966487464,
          4.481798668640208,
          4.5024729832860695,
          4.5816285856970715,
          4.582532759879169,
          4.584741521741492,
          4.612400901062597,
          4.6337549586970255,
          4.647804998310119,
          4.657350026052051,
          4.657477463630923,
          4.695266263854557,
          4.728005338863628,
          4.768522032359985,
          4.802921713336657,
          4.839211996544803,
          4.851370188653616,
          4.962434958133,
          4.964870119853677,
          4.990023394606232,
          5.014655330202517,
          5.020206330480183,
          5.029217319131905,
          5.0497756384683825,
          5.131287659986219,
          5.146195102548728,
          5.167604111630941,
          5.184770340597764,
          5.18720847994638,
          5.231717933214119,
          5.265045143605492,
          5.265847142309689,
          5.2723721317948735,
          5.281877799341116,
          5.285784272677475,
          5.317218244103415,
          5.319664160735426,
          5.324341112787293,
          5.390511083339996,
          5.395352828455913,
          5.407597674733,
          5.425352127958738,
          5.442747063297787,
          5.454971934169398,
          5.471524590171409,
          5.476128869740692,
          5.584820227525576,
          5.602200000916723,
          5.6122658962329455,
          5.657813804580727,
          5.699298779002954,
          5.769271113784012,
          5.873418435250848,
          5.89709011626467,
          5.938069683560267,
          5.9413172963629135,
          6.033364505716613,
          6.047969951138769,
          6.089552965916772,
          6.17647154434544,
          6.246504087201197,
          6.3536707273682245,
          6.411898842806145,
          6.5720451487552545,
          6.637319721832071,
          6.699737435128712,
          6.737706728056593,
          6.756722884780656,
          6.912068125343444,
          6.947343995653742,
          6.995447023903655,
          7.011990035494693,
          7.020534360952349,
          7.097500733408409,
          7.169466104198152,
          7.3040804586339245,
          7.464040120708457,
          7.489303599221349,
          7.515719126553186,
          7.52418629885276,
          7.631032458342194,
          7.6927211267559406,
          7.696142893950497,
          7.708250106574936,
          7.726661618581076,
          7.72686460833296,
          7.795693740837495,
          7.7977150660669885,
          7.825982807336553,
          7.855842154134765,
          7.8699286179985615,
          7.874980312549218,
          7.891040512601991,
          7.986072289926368,
          8.008405622541419,
          8.084466506055266,
          8.129833440037396,
          8.145590206556895,
          8.350961691529045,
          8.369534670611383,
          8.633234824526804,
          9.29233175339867,
          9.369409885736443,
          9.638289811512122,
          9.81701091651614,
          10.796508840901206,
          10.879127813070474,
          11.160699631434307,
          11.226891178074014,
          11.239221586498548,
          11.297486158696541,
          11.328254499232845,
          11.516975344188195,
          11.572711002857098,
          11.577558061453677,
          11.688998383480282,
          11.784045580688305,
          11.847881814147664,
          12.107843460994031,
          12.323210935841443,
          12.401108208124416,
          13.226575970145728,
          13.248316990588018,
          13.385703303974024,
          13.414401030226,
          13.754472352650916,
          13.803860939904892,
          13.818572506913604,
          13.881538421495563,
          14.287771096718318,
          14.50408847940252,
          14.89343176746083,
          15.595645695721755,
          16.92080528784071,
          17.173340467801793,
          18.0525652695248,
          18.928393885929527,
          20.541473234460376,
          20.56602851994005,
          21.19368110397885,
          22.81880726094447
         ],
         "xaxis": "x",
         "y": [
          57.41609989163227,
          57.410875197383376,
          57.39928604557802,
          57.374099708836496,
          57.36239551254327,
          57.35917957226774,
          57.34169086087046,
          57.34074351520045,
          57.33943046356272,
          57.33808464133405,
          57.33365009819855,
          57.33255016888149,
          57.32594905409928,
          57.31048099409267,
          57.30619124622237,
          57.27278507536755,
          57.25204193469651,
          57.245672954931294,
          57.22330245064571,
          57.22103916276781,
          57.21953463661929,
          57.21273325471156,
          57.21196434302514,
          57.20201757546716,
          57.183115015670445,
          57.179359803639436,
          57.17689544157489,
          57.17602064819837,
          57.17555581511674,
          57.1712490184425,
          57.164446656599225,
          57.15769804690203,
          57.157358895433745,
          57.153782630391724,
          57.15131743633869,
          57.147990971334295,
          57.14712294210229,
          57.1455067954134,
          57.140397815558295,
          57.136279848500536,
          57.12578157650032,
          57.1252176987354,
          57.111117630223696,
          57.107955492816586,
          57.10639552237339,
          57.10196276109656,
          57.09931569632792,
          57.08957415701263,
          57.08242411064923,
          57.0768143331357,
          57.0755357471165,
          57.07419209673095,
          57.07366766063754,
          57.06439892206971,
          57.05094929739345,
          57.050104915606866,
          57.0389713912213,
          57.03861672166608,
          57.03825540297561,
          57.03144335390074,
          57.0224318219893,
          57.01934745398637,
          57.007538356006044,
          57.00740346370301,
          57.00707394204626,
          57.00294748339357,
          56.999761705619136,
          56.99766560263508,
          56.99624159518146,
          56.99622258297247,
          56.9905849321833,
          56.985700641838825,
          56.97965602100639,
          56.974523987508164,
          56.96910989808069,
          56.96729603680615,
          56.950726461122365,
          56.95036316323211,
          56.94661058631991,
          56.9429357871643,
          56.942107642293045,
          56.94076330727889,
          56.937696244431024,
          56.92553559604532,
          56.923311578483776,
          56.920117602590565,
          56.9175566002907,
          56.91719285817289,
          56.910552563883165,
          56.905580530559746,
          56.90546088165317,
          56.90448742888667,
          56.90306929351782,
          56.90248649299604,
          56.897796908972,
          56.897432006573695,
          56.896734259562145,
          56.88686246727188,
          56.88614013504613,
          56.88431334597454,
          56.881664587436376,
          56.87906946479788,
          56.87724565582514,
          56.87477619149655,
          56.87408928637668,
          56.85787379619531,
          56.85528093554362,
          56.85377922068796,
          56.84698400094236,
          56.84079492382411,
          56.83035586288373,
          56.81481829022773,
          56.811286749920576,
          56.80517307368485,
          56.80468856751446,
          56.79095619127116,
          56.78877722818095,
          56.7825735245785,
          56.769606280596896,
          56.75915823730994,
          56.74317021731631,
          56.73448325771432,
          56.71059128594559,
          56.70085307657558,
          56.69154107755622,
          56.68587649934859,
          56.68303950927936,
          56.65986380079245,
          56.654601050006065,
          56.64742463600059,
          56.64495661050628,
          56.64368189622918,
          56.63219940597152,
          56.621463007170156,
          56.60138010649516,
          56.57751597982816,
          56.57374696179286,
          56.569806071433085,
          56.5685428675125,
          56.55260265951963,
          56.543399425542695,
          56.542888937556555,
          56.54108268182991,
          56.53833589774106,
          56.53830561402397,
          56.52803710560651,
          56.52773554732183,
          56.523518328121085,
          56.519063659831936,
          56.51696212277206,
          56.51620846852525,
          56.5138124729137,
          56.49963483373863,
          56.4963029594929,
          56.48495555768524,
          56.4781873372164,
          56.47583661036935,
          56.445197566327856,
          56.44242669322363,
          56.40308568816318,
          56.30475606935533,
          56.29325690581929,
          56.25314313886265,
          56.22648002247089,
          56.08035029054706,
          56.068024497960515,
          56.02601724780668,
          56.01614223661443,
          56.014302682662624,
          56.00561028413478,
          56.00102000452073,
          55.97286504288661,
          55.964549928931675,
          55.96382680399623,
          55.94720120022736,
          55.93302126058447,
          55.92349763480619,
          55.884714371648194,
          55.85258404183221,
          55.84096267211522,
          55.71781245426083,
          55.714568946122746,
          55.694072501316384,
          55.689791133342425,
          55.63905643555107,
          55.631688231049715,
          55.6294934358494,
          55.62009965155529,
          55.55949444714276,
          55.5272224020928,
          55.469136898393515,
          55.36437472326755,
          55.16667627885869,
          55.12900095844164,
          54.99783081363788,
          54.86716734030097,
          54.62651460699308,
          54.62285124314602,
          54.52921275595426,
          54.28676277852436
         ],
         "yaxis": "y"
        }
       ],
       "layout": {
        "coloraxis": {
         "colorbar": {
          "title": {
           "text": "PERCENT_3_OR_ABOVE"
          }
         },
         "colorscale": [
          [
           0,
           "#0d0887"
          ],
          [
           0.1111111111111111,
           "#46039f"
          ],
          [
           0.2222222222222222,
           "#7201a8"
          ],
          [
           0.3333333333333333,
           "#9c179e"
          ],
          [
           0.4444444444444444,
           "#bd3786"
          ],
          [
           0.5555555555555556,
           "#d8576b"
          ],
          [
           0.6666666666666666,
           "#ed7953"
          ],
          [
           0.7777777777777778,
           "#fb9f3a"
          ],
          [
           0.8888888888888888,
           "#fdca26"
          ],
          [
           1,
           "#f0f921"
          ]
         ]
        },
        "height": 600,
        "legend": {
         "tracegroupgap": 0
        },
        "template": {
         "data": {
          "bar": [
           {
            "error_x": {
             "color": "#2a3f5f"
            },
            "error_y": {
             "color": "#2a3f5f"
            },
            "marker": {
             "line": {
              "color": "#E5ECF6",
              "width": 0.5
             },
             "pattern": {
              "fillmode": "overlay",
              "size": 10,
              "solidity": 0.2
             }
            },
            "type": "bar"
           }
          ],
          "barpolar": [
           {
            "marker": {
             "line": {
              "color": "#E5ECF6",
              "width": 0.5
             },
             "pattern": {
              "fillmode": "overlay",
              "size": 10,
              "solidity": 0.2
             }
            },
            "type": "barpolar"
           }
          ],
          "carpet": [
           {
            "aaxis": {
             "endlinecolor": "#2a3f5f",
             "gridcolor": "white",
             "linecolor": "white",
             "minorgridcolor": "white",
             "startlinecolor": "#2a3f5f"
            },
            "baxis": {
             "endlinecolor": "#2a3f5f",
             "gridcolor": "white",
             "linecolor": "white",
             "minorgridcolor": "white",
             "startlinecolor": "#2a3f5f"
            },
            "type": "carpet"
           }
          ],
          "choropleth": [
           {
            "colorbar": {
             "outlinewidth": 0,
             "ticks": ""
            },
            "type": "choropleth"
           }
          ],
          "contour": [
           {
            "colorbar": {
             "outlinewidth": 0,
             "ticks": ""
            },
            "colorscale": [
             [
              0,
              "#0d0887"
             ],
             [
              0.1111111111111111,
              "#46039f"
             ],
             [
              0.2222222222222222,
              "#7201a8"
             ],
             [
              0.3333333333333333,
              "#9c179e"
             ],
             [
              0.4444444444444444,
              "#bd3786"
             ],
             [
              0.5555555555555556,
              "#d8576b"
             ],
             [
              0.6666666666666666,
              "#ed7953"
             ],
             [
              0.7777777777777778,
              "#fb9f3a"
             ],
             [
              0.8888888888888888,
              "#fdca26"
             ],
             [
              1,
              "#f0f921"
             ]
            ],
            "type": "contour"
           }
          ],
          "contourcarpet": [
           {
            "colorbar": {
             "outlinewidth": 0,
             "ticks": ""
            },
            "type": "contourcarpet"
           }
          ],
          "heatmap": [
           {
            "colorbar": {
             "outlinewidth": 0,
             "ticks": ""
            },
            "colorscale": [
             [
              0,
              "#0d0887"
             ],
             [
              0.1111111111111111,
              "#46039f"
             ],
             [
              0.2222222222222222,
              "#7201a8"
             ],
             [
              0.3333333333333333,
              "#9c179e"
             ],
             [
              0.4444444444444444,
              "#bd3786"
             ],
             [
              0.5555555555555556,
              "#d8576b"
             ],
             [
              0.6666666666666666,
              "#ed7953"
             ],
             [
              0.7777777777777778,
              "#fb9f3a"
             ],
             [
              0.8888888888888888,
              "#fdca26"
             ],
             [
              1,
              "#f0f921"
             ]
            ],
            "type": "heatmap"
           }
          ],
          "heatmapgl": [
           {
            "colorbar": {
             "outlinewidth": 0,
             "ticks": ""
            },
            "colorscale": [
             [
              0,
              "#0d0887"
             ],
             [
              0.1111111111111111,
              "#46039f"
             ],
             [
              0.2222222222222222,
              "#7201a8"
             ],
             [
              0.3333333333333333,
              "#9c179e"
             ],
             [
              0.4444444444444444,
              "#bd3786"
             ],
             [
              0.5555555555555556,
              "#d8576b"
             ],
             [
              0.6666666666666666,
              "#ed7953"
             ],
             [
              0.7777777777777778,
              "#fb9f3a"
             ],
             [
              0.8888888888888888,
              "#fdca26"
             ],
             [
              1,
              "#f0f921"
             ]
            ],
            "type": "heatmapgl"
           }
          ],
          "histogram": [
           {
            "marker": {
             "pattern": {
              "fillmode": "overlay",
              "size": 10,
              "solidity": 0.2
             }
            },
            "type": "histogram"
           }
          ],
          "histogram2d": [
           {
            "colorbar": {
             "outlinewidth": 0,
             "ticks": ""
            },
            "colorscale": [
             [
              0,
              "#0d0887"
             ],
             [
              0.1111111111111111,
              "#46039f"
             ],
             [
              0.2222222222222222,
              "#7201a8"
             ],
             [
              0.3333333333333333,
              "#9c179e"
             ],
             [
              0.4444444444444444,
              "#bd3786"
             ],
             [
              0.5555555555555556,
              "#d8576b"
             ],
             [
              0.6666666666666666,
              "#ed7953"
             ],
             [
              0.7777777777777778,
              "#fb9f3a"
             ],
             [
              0.8888888888888888,
              "#fdca26"
             ],
             [
              1,
              "#f0f921"
             ]
            ],
            "type": "histogram2d"
           }
          ],
          "histogram2dcontour": [
           {
            "colorbar": {
             "outlinewidth": 0,
             "ticks": ""
            },
            "colorscale": [
             [
              0,
              "#0d0887"
             ],
             [
              0.1111111111111111,
              "#46039f"
             ],
             [
              0.2222222222222222,
              "#7201a8"
             ],
             [
              0.3333333333333333,
              "#9c179e"
             ],
             [
              0.4444444444444444,
              "#bd3786"
             ],
             [
              0.5555555555555556,
              "#d8576b"
             ],
             [
              0.6666666666666666,
              "#ed7953"
             ],
             [
              0.7777777777777778,
              "#fb9f3a"
             ],
             [
              0.8888888888888888,
              "#fdca26"
             ],
             [
              1,
              "#f0f921"
             ]
            ],
            "type": "histogram2dcontour"
           }
          ],
          "mesh3d": [
           {
            "colorbar": {
             "outlinewidth": 0,
             "ticks": ""
            },
            "type": "mesh3d"
           }
          ],
          "parcoords": [
           {
            "line": {
             "colorbar": {
              "outlinewidth": 0,
              "ticks": ""
             }
            },
            "type": "parcoords"
           }
          ],
          "pie": [
           {
            "automargin": true,
            "type": "pie"
           }
          ],
          "scatter": [
           {
            "fillpattern": {
             "fillmode": "overlay",
             "size": 10,
             "solidity": 0.2
            },
            "type": "scatter"
           }
          ],
          "scatter3d": [
           {
            "line": {
             "colorbar": {
              "outlinewidth": 0,
              "ticks": ""
             }
            },
            "marker": {
             "colorbar": {
              "outlinewidth": 0,
              "ticks": ""
             }
            },
            "type": "scatter3d"
           }
          ],
          "scattercarpet": [
           {
            "marker": {
             "colorbar": {
              "outlinewidth": 0,
              "ticks": ""
             }
            },
            "type": "scattercarpet"
           }
          ],
          "scattergeo": [
           {
            "marker": {
             "colorbar": {
              "outlinewidth": 0,
              "ticks": ""
             }
            },
            "type": "scattergeo"
           }
          ],
          "scattergl": [
           {
            "marker": {
             "colorbar": {
              "outlinewidth": 0,
              "ticks": ""
             }
            },
            "type": "scattergl"
           }
          ],
          "scattermapbox": [
           {
            "marker": {
             "colorbar": {
              "outlinewidth": 0,
              "ticks": ""
             }
            },
            "type": "scattermapbox"
           }
          ],
          "scatterpolar": [
           {
            "marker": {
             "colorbar": {
              "outlinewidth": 0,
              "ticks": ""
             }
            },
            "type": "scatterpolar"
           }
          ],
          "scatterpolargl": [
           {
            "marker": {
             "colorbar": {
              "outlinewidth": 0,
              "ticks": ""
             }
            },
            "type": "scatterpolargl"
           }
          ],
          "scatterternary": [
           {
            "marker": {
             "colorbar": {
              "outlinewidth": 0,
              "ticks": ""
             }
            },
            "type": "scatterternary"
           }
          ],
          "surface": [
           {
            "colorbar": {
             "outlinewidth": 0,
             "ticks": ""
            },
            "colorscale": [
             [
              0,
              "#0d0887"
             ],
             [
              0.1111111111111111,
              "#46039f"
             ],
             [
              0.2222222222222222,
              "#7201a8"
             ],
             [
              0.3333333333333333,
              "#9c179e"
             ],
             [
              0.4444444444444444,
              "#bd3786"
             ],
             [
              0.5555555555555556,
              "#d8576b"
             ],
             [
              0.6666666666666666,
              "#ed7953"
             ],
             [
              0.7777777777777778,
              "#fb9f3a"
             ],
             [
              0.8888888888888888,
              "#fdca26"
             ],
             [
              1,
              "#f0f921"
             ]
            ],
            "type": "surface"
           }
          ],
          "table": [
           {
            "cells": {
             "fill": {
              "color": "#EBF0F8"
             },
             "line": {
              "color": "white"
             }
            },
            "header": {
             "fill": {
              "color": "#C8D4E3"
             },
             "line": {
              "color": "white"
             }
            },
            "type": "table"
           }
          ]
         },
         "layout": {
          "annotationdefaults": {
           "arrowcolor": "#2a3f5f",
           "arrowhead": 0,
           "arrowwidth": 1
          },
          "autotypenumbers": "strict",
          "coloraxis": {
           "colorbar": {
            "outlinewidth": 0,
            "ticks": ""
           }
          },
          "colorscale": {
           "diverging": [
            [
             0,
             "#8e0152"
            ],
            [
             0.1,
             "#c51b7d"
            ],
            [
             0.2,
             "#de77ae"
            ],
            [
             0.3,
             "#f1b6da"
            ],
            [
             0.4,
             "#fde0ef"
            ],
            [
             0.5,
             "#f7f7f7"
            ],
            [
             0.6,
             "#e6f5d0"
            ],
            [
             0.7,
             "#b8e186"
            ],
            [
             0.8,
             "#7fbc41"
            ],
            [
             0.9,
             "#4d9221"
            ],
            [
             1,
             "#276419"
            ]
           ],
           "sequential": [
            [
             0,
             "#0d0887"
            ],
            [
             0.1111111111111111,
             "#46039f"
            ],
            [
             0.2222222222222222,
             "#7201a8"
            ],
            [
             0.3333333333333333,
             "#9c179e"
            ],
            [
             0.4444444444444444,
             "#bd3786"
            ],
            [
             0.5555555555555556,
             "#d8576b"
            ],
            [
             0.6666666666666666,
             "#ed7953"
            ],
            [
             0.7777777777777778,
             "#fb9f3a"
            ],
            [
             0.8888888888888888,
             "#fdca26"
            ],
            [
             1,
             "#f0f921"
            ]
           ],
           "sequentialminus": [
            [
             0,
             "#0d0887"
            ],
            [
             0.1111111111111111,
             "#46039f"
            ],
            [
             0.2222222222222222,
             "#7201a8"
            ],
            [
             0.3333333333333333,
             "#9c179e"
            ],
            [
             0.4444444444444444,
             "#bd3786"
            ],
            [
             0.5555555555555556,
             "#d8576b"
            ],
            [
             0.6666666666666666,
             "#ed7953"
            ],
            [
             0.7777777777777778,
             "#fb9f3a"
            ],
            [
             0.8888888888888888,
             "#fdca26"
            ],
            [
             1,
             "#f0f921"
            ]
           ]
          },
          "colorway": [
           "#636efa",
           "#EF553B",
           "#00cc96",
           "#ab63fa",
           "#FFA15A",
           "#19d3f3",
           "#FF6692",
           "#B6E880",
           "#FF97FF",
           "#FECB52"
          ],
          "font": {
           "color": "#2a3f5f"
          },
          "geo": {
           "bgcolor": "white",
           "lakecolor": "white",
           "landcolor": "#E5ECF6",
           "showlakes": true,
           "showland": true,
           "subunitcolor": "white"
          },
          "hoverlabel": {
           "align": "left"
          },
          "hovermode": "closest",
          "mapbox": {
           "style": "light"
          },
          "paper_bgcolor": "white",
          "plot_bgcolor": "#E5ECF6",
          "polar": {
           "angularaxis": {
            "gridcolor": "white",
            "linecolor": "white",
            "ticks": ""
           },
           "bgcolor": "#E5ECF6",
           "radialaxis": {
            "gridcolor": "white",
            "linecolor": "white",
            "ticks": ""
           }
          },
          "scene": {
           "xaxis": {
            "backgroundcolor": "#E5ECF6",
            "gridcolor": "white",
            "gridwidth": 2,
            "linecolor": "white",
            "showbackground": true,
            "ticks": "",
            "zerolinecolor": "white"
           },
           "yaxis": {
            "backgroundcolor": "#E5ECF6",
            "gridcolor": "white",
            "gridwidth": 2,
            "linecolor": "white",
            "showbackground": true,
            "ticks": "",
            "zerolinecolor": "white"
           },
           "zaxis": {
            "backgroundcolor": "#E5ECF6",
            "gridcolor": "white",
            "gridwidth": 2,
            "linecolor": "white",
            "showbackground": true,
            "ticks": "",
            "zerolinecolor": "white"
           }
          },
          "shapedefaults": {
           "line": {
            "color": "#2a3f5f"
           }
          },
          "ternary": {
           "aaxis": {
            "gridcolor": "white",
            "linecolor": "white",
            "ticks": ""
           },
           "baxis": {
            "gridcolor": "white",
            "linecolor": "white",
            "ticks": ""
           },
           "bgcolor": "#E5ECF6",
           "caxis": {
            "gridcolor": "white",
            "linecolor": "white",
            "ticks": ""
           }
          },
          "title": {
           "x": 0.05
          },
          "xaxis": {
           "automargin": true,
           "gridcolor": "white",
           "linecolor": "white",
           "ticks": "",
           "title": {
            "standoff": 15
           },
           "zerolinecolor": "white",
           "zerolinewidth": 2
          },
          "yaxis": {
           "automargin": true,
           "gridcolor": "white",
           "linecolor": "white",
           "ticks": "",
           "title": {
            "standoff": 15
           },
           "zerolinecolor": "white",
           "zerolinewidth": 2
          }
         }
        },
        "title": {
         "text": "Pass rate vs Public uni count per million"
        },
        "width": 800,
        "xaxis": {
         "anchor": "y",
         "domain": [
          0,
          1
         ],
         "title": {
          "text": "public_per_million"
         }
        },
        "yaxis": {
         "anchor": "x",
         "domain": [
          0,
          1
         ],
         "title": {
          "text": "PERCENT_3_OR_ABOVE"
         }
        }
       }
      }
     },
     "metadata": {},
     "output_type": "display_data"
    }
   ],
   "source": [
    "fig = px.scatter(data_frame=ap_overall_statelevel,x='public_per_million', y='PERCENT_3_OR_ABOVE',trendline='ols',trendline_color_override='darkblue',width=800, height=600,color='PERCENT_3_OR_ABOVE',\n",
    "                 title='Pass rate vs Public uni count per million')\n",
    "fig.show()\n",
    "with open('data/state_by_state_pickled/AP_pass_rate_by_states_vs_Public_uni_count.pkl', 'wb') as f:\n",
    "    pickle.dump(fig, f)"
   ]
  },
  {
   "cell_type": "code",
   "execution_count": 389,
   "metadata": {},
   "outputs": [
    {
     "data": {
      "application/vnd.plotly.v1+json": {
       "config": {
        "plotlyServerURL": "https://plot.ly"
       },
       "data": [
        {
         "hovertemplate": "Population=%{x}<br>PERCENT_3_OR_ABOVE=%{marker.color}<extra></extra>",
         "legendgroup": "",
         "marker": {
          "color": [
           44.96507764291042,
           59.37565914364058,
           65.91129456741558,
           60.53511168246826,
           40.52205471803462,
           42.182216275392285,
           61.322174646425324,
           66.94763729246488,
           62.48003448013589,
           66.62425618540557,
           52.23785166240409,
           53.85601299455282,
           62.386659856861435,
           54.27513732983043,
           62.515822784810126,
           61.02765482392573,
           54.65153927097105,
           62.16990912971885,
           66.04168222902817,
           61.55938095772121,
           52.53835245584633,
           40.40218177038838,
           62.92196007259528,
           64.76016150740243,
           65.13212465931983,
           64.27838694234846,
           37.68596159047877,
           66.60259490629505,
           63.30268140020091,
           50.37752238407056,
           71.04744229207749,
           66.26424453202392,
           58.60035329947835,
           57.43813515530803,
           62.31691078561917,
           64.69861858485262,
           50.72902594680207,
           61.94700595307575,
           67.05838034510006,
           56.50531045751634,
           63.401763305231995,
           71.86579007027885,
           56.874295950213295,
           48.89336163629231,
           67.84833169656758,
           66.5930092406589,
           62.71492796801642,
           48.53151468485315,
           66.19855083289758,
           55.483870967741936,
           41.48418491484185,
           55.584348276755634,
           61.67017261646971,
           55.924580522400966,
           35.31598513011152,
           35.863344844597925,
           53.96422208110617,
           60.04454739843193,
           58.09939778968963,
           61.888003111024695,
           46.91085148931691,
           48.57293984720018,
           58.204111590021085,
           43.1924882629108,
           57.55678022712091,
           55.35257523605015,
           48.7964378281385,
           57.99517185883435,
           62.34383383153215,
           57.701762179771954,
           48.53512664333159,
           37.8224386201181,
           55.59283044186715,
           60.1720230138897,
           60.902073271043804,
           59.483822878572596,
           37.37914502596884,
           61.55848663658452,
           57.58813738840974,
           45.56390446960878,
           64.3989588263133,
           62.393419223979265,
           55.237244907293906,
           49.141980558447855,
           57.08989805375347,
           60.327036821265295,
           48.053534171288995,
           57.42506142506142,
           63.2015982426905,
           49.76035786558739,
           57.78753910863394,
           67.94871794871794,
           51.7010856408633,
           44.7057709815422,
           65.02261094270239,
           61.42887977552342,
           58.1860019489506,
           41.19469972216285,
           61.58804747273932,
           51.412944393801276,
           39.02595579090946,
           59.80511571254568,
           60.37610172112331,
           55.87680895050468,
           35.33544081489287,
           34.15403636673701,
           55.782231347046576,
           65.87849183330789,
           59.11329441242178,
           68.60671191553544,
           54.41870217003879,
           49.448157801921774,
           57.33375132254399,
           42.189235585176206,
           58.33728840373359,
           63.43969125400881,
           51.03953304684258,
           62.109620624607004,
           62.2516133154431,
           61.37189198321742,
           49.78580886361866,
           35.054287613560824,
           57.51480134103716,
           63.07367585510175,
           65.862740897173,
           63.2866307415961,
           31.81002941387474,
           61.21109861267342,
           56.50716957605985,
           47.08310700706138,
           68.60130161101034,
           68.66833318876122,
           61.81382662790334,
           51.77623192628474,
           59.04537418974661,
           63.62350411633236,
           46.21925915847478,
           58.078457446808514,
           66.48210384072023,
           53.0079212160137,
           56.54727793696275,
           69.71814581877474,
           55.022429867901515,
           45.24088734295054,
           66.98307579102281,
           66.5181315304241,
           63.75709587548964,
           43.29754351716284,
           65.9305863402949,
           55.40268456375839,
           39.5476183068355,
           63.41786108048512,
           60.32487967419474,
           55.331572362018626,
           39.909523079282316,
           31.31302737188722,
           59.077145916960085,
           65.11169038050758,
           60.00805195259851,
           71.00545411429927,
           47.73855858274057,
           45.33848295981965,
           53.995344562500534,
           38.9713600239916,
           67.23594038942674,
           65.75702165008776,
           44.86866113540125,
           63.979915433403804,
           60.082509424567895,
           63.03428272166942,
           47.2589438218021,
           42.64217517642175,
           59.68998539198182,
           61.57985005145293,
           70.25225305480083,
           65.7676121768596,
           32.21690590111643,
           61.510791366906474,
           55.98516353827133,
           47.64189416110924,
           72.23395827832057,
           73.2895565560195,
           65.92966053990553,
           59.11679613641023,
           62.53474152306837,
           66.15597948276094,
           47.536441906060865,
           60.61819197467647,
           67.23798118903275,
           58.07836822329576,
           56.45350542681138,
           65.82216808769793,
           55.77547253866226,
           46.45157252742251,
           68.3252348558471,
           65.37358745150954,
           60.1954363142003,
           42.4122197976592,
           68.00962475391255,
           56.39312977099237
          ],
          "coloraxis": "coloraxis",
          "symbol": "circle"
         },
         "mode": "markers",
         "name": "",
         "orientation": "v",
         "showlegend": false,
         "type": "scatter",
         "x": [
          5073903,
          733276,
          7784477,
          7365684,
          2113476,
          3046404,
          39040616,
          5714300,
          5841039,
          3608706,
          1019459,
          22245521,
          10913150,
          1439399,
          1938996,
          12582515,
          6832274,
          3199693,
          2936716,
          6177168,
          4511563,
          4588023,
          1389338,
          6163981,
          6982740,
          10033281,
          2938928,
          1122878,
          1968060,
          3177421,
          1399003,
          9260817,
          19673200,
          10695965,
          778912,
          11759697,
          4019271,
          4239379,
          12972091,
          1093842,
          5282955,
          909869,
          7048976,
          30029848,
          3381236,
          647110,
          8679099,
          1774035,
          5890543,
          581629,
          5050380,
          734923,
          7741433,
          7272487,
          2116950,
          3028443,
          39145060,
          5717968,
          5811596,
          3603691,
          1004881,
          21830708,
          10790385,
          1446745,
          1904537,
          12690341,
          6813798,
          3197944,
          2937946,
          6170393,
          4507600,
          4627047,
          1378787,
          6175045,
          6991951,
          10038117,
          2949582,
          1106366,
          1964253,
          3146632,
          1387494,
          9269175,
          19854526,
          10567100,
          777982,
          11765227,
          3991634,
          4256465,
          13013614,
          1097092,
          5193848,
          896299,
          6963709,
          29561286,
          3339284,
          647093,
          8657348,
          1785249,
          5879978,
          579548,
          4874486,
          739700,
          7423362,
          7044008,
          2091784,
          3001345,
          39358497,
          5566230,
          5611885,
          3573297,
          956823,
          20963613,
          10410330,
          1424393,
          1717715,
          12778828,
          6658078,
          3141550,
          2908718,
          6106670,
          4452268,
          4670560,
          1334612,
          6023868,
          6859789,
          9973114,
          2988510,
          1052482,
          1915947,
          2969905,
          1348787,
          8885525,
          19589572,
          10268233,
          754942,
          11659650,
          3931316,
          4143625,
          12787641,
          1055673,
          5021268,
          872868,
          6708799,
          28295273,
          3101042,
          624344,
          8463587,
          1817004,
          5790186,
          578931,
          4815588,
          730443,
          6897058,
          6554978,
          2087309,
          2952164,
          37948800,
          5376643,
          5192647,
          3594547,
          915179,
          19297822,
          9901430,
          1394804,
          1595324,
          12882510,
          6537703,
          3076190,
          2885257,
          6024367,
          4386346,
          4600972,
          1327729,
          5886992,
          6663005,
          9897145,
          2983816,
          1003783,
          1853303,
          2743996,
          1324232,
          8844942,
          19572932,
          9749476,
          701176,
          11548923,
          3818814,
          3899001,
          12767118,
          1054621,
          4717354,
          833566,
          6453898,
          26084481,
          2853375,
          626090,
          8185080,
          1856872,
          5719960,
          576305
         ],
         "xaxis": "x",
         "y": [
          44.96507764291042,
          59.37565914364058,
          65.91129456741558,
          60.53511168246826,
          40.52205471803462,
          42.182216275392285,
          61.322174646425324,
          66.94763729246488,
          62.48003448013589,
          66.62425618540557,
          52.23785166240409,
          53.85601299455282,
          62.386659856861435,
          54.27513732983043,
          62.515822784810126,
          61.02765482392573,
          54.65153927097105,
          62.16990912971885,
          66.04168222902817,
          61.55938095772121,
          52.53835245584633,
          40.40218177038838,
          62.92196007259528,
          64.76016150740243,
          65.13212465931983,
          64.27838694234846,
          37.68596159047877,
          66.60259490629505,
          63.30268140020091,
          50.37752238407056,
          71.04744229207749,
          66.26424453202392,
          58.60035329947835,
          57.43813515530803,
          62.31691078561917,
          64.69861858485262,
          50.72902594680207,
          61.94700595307575,
          67.05838034510006,
          56.50531045751634,
          63.401763305231995,
          71.86579007027885,
          56.874295950213295,
          48.89336163629231,
          67.84833169656758,
          66.5930092406589,
          62.71492796801642,
          48.53151468485315,
          66.19855083289758,
          55.483870967741936,
          41.48418491484185,
          55.584348276755634,
          61.67017261646971,
          55.924580522400966,
          35.31598513011152,
          35.863344844597925,
          53.96422208110617,
          60.04454739843193,
          58.09939778968963,
          61.888003111024695,
          46.91085148931691,
          48.57293984720018,
          58.204111590021085,
          43.1924882629108,
          57.55678022712091,
          55.35257523605015,
          48.7964378281385,
          57.99517185883435,
          62.34383383153215,
          57.701762179771954,
          48.53512664333159,
          37.8224386201181,
          55.59283044186715,
          60.1720230138897,
          60.902073271043804,
          59.483822878572596,
          37.37914502596884,
          61.55848663658452,
          57.58813738840974,
          45.56390446960878,
          64.3989588263133,
          62.393419223979265,
          55.237244907293906,
          49.141980558447855,
          57.08989805375347,
          60.327036821265295,
          48.053534171288995,
          57.42506142506142,
          63.2015982426905,
          49.76035786558739,
          57.78753910863394,
          67.94871794871794,
          51.7010856408633,
          44.7057709815422,
          65.02261094270239,
          61.42887977552342,
          58.1860019489506,
          41.19469972216285,
          61.58804747273932,
          51.412944393801276,
          39.02595579090946,
          59.80511571254568,
          60.37610172112331,
          55.87680895050468,
          35.33544081489287,
          34.15403636673701,
          55.782231347046576,
          65.87849183330789,
          59.11329441242178,
          68.60671191553544,
          54.41870217003879,
          49.448157801921774,
          57.33375132254399,
          42.189235585176206,
          58.33728840373359,
          63.43969125400881,
          51.03953304684258,
          62.109620624607004,
          62.2516133154431,
          61.37189198321742,
          49.78580886361866,
          35.054287613560824,
          57.51480134103716,
          63.07367585510175,
          65.862740897173,
          63.2866307415961,
          31.81002941387474,
          61.21109861267342,
          56.50716957605985,
          47.08310700706138,
          68.60130161101034,
          68.66833318876122,
          61.81382662790334,
          51.77623192628474,
          59.04537418974661,
          63.62350411633236,
          46.21925915847478,
          58.078457446808514,
          66.48210384072023,
          53.0079212160137,
          56.54727793696275,
          69.71814581877474,
          55.022429867901515,
          45.24088734295054,
          66.98307579102281,
          66.5181315304241,
          63.75709587548964,
          43.29754351716284,
          65.9305863402949,
          55.40268456375839,
          39.5476183068355,
          63.41786108048512,
          60.32487967419474,
          55.331572362018626,
          39.909523079282316,
          31.31302737188722,
          59.077145916960085,
          65.11169038050758,
          60.00805195259851,
          71.00545411429927,
          47.73855858274057,
          45.33848295981965,
          53.995344562500534,
          38.9713600239916,
          67.23594038942674,
          65.75702165008776,
          44.86866113540125,
          63.979915433403804,
          60.082509424567895,
          63.03428272166942,
          47.2589438218021,
          42.64217517642175,
          59.68998539198182,
          61.57985005145293,
          70.25225305480083,
          65.7676121768596,
          32.21690590111643,
          61.510791366906474,
          55.98516353827133,
          47.64189416110924,
          72.23395827832057,
          73.2895565560195,
          65.92966053990553,
          59.11679613641023,
          62.53474152306837,
          66.15597948276094,
          47.536441906060865,
          60.61819197467647,
          67.23798118903275,
          58.07836822329576,
          56.45350542681138,
          65.82216808769793,
          55.77547253866226,
          46.45157252742251,
          68.3252348558471,
          65.37358745150954,
          60.1954363142003,
          42.4122197976592,
          68.00962475391255,
          56.39312977099237
         ],
         "yaxis": "y"
        },
        {
         "hovertemplate": "<b>OLS trendline</b><br>PERCENT_3_OR_ABOVE = 1.83387e-08 * Population + 56.5558<br>R<sup>2</sup>=0.000200<br><br>Population=%{x}<br>PERCENT_3_OR_ABOVE=%{y} <b>(trend)</b><extra></extra>",
         "legendgroup": "",
         "line": {
          "color": "darkblue"
         },
         "marker": {
          "symbol": "circle"
         },
         "mode": "lines",
         "name": "",
         "showlegend": false,
         "type": "scatter",
         "x": [
          576305,
          578931,
          579548,
          581629,
          624344,
          626090,
          647093,
          647110,
          701176,
          730443,
          733276,
          734923,
          739700,
          754942,
          777982,
          778912,
          833566,
          872868,
          896299,
          909869,
          915179,
          956823,
          1003783,
          1004881,
          1019459,
          1052482,
          1054621,
          1055673,
          1093842,
          1097092,
          1106366,
          1122878,
          1324232,
          1327729,
          1334612,
          1348787,
          1378787,
          1387494,
          1389338,
          1394804,
          1399003,
          1424393,
          1439399,
          1446745,
          1595324,
          1717715,
          1774035,
          1785249,
          1817004,
          1853303,
          1856872,
          1904537,
          1915947,
          1938996,
          1964253,
          1968060,
          2087309,
          2091784,
          2113476,
          2116950,
          2743996,
          2853375,
          2885257,
          2908718,
          2936716,
          2937946,
          2938928,
          2949582,
          2952164,
          2969905,
          2983816,
          2988510,
          3001345,
          3028443,
          3046404,
          3076190,
          3101042,
          3141550,
          3146632,
          3177421,
          3197944,
          3199693,
          3339284,
          3381236,
          3573297,
          3594547,
          3603691,
          3608706,
          3818814,
          3899001,
          3931316,
          3991634,
          4019271,
          4143625,
          4239379,
          4256465,
          4386346,
          4452268,
          4507600,
          4511563,
          4588023,
          4600972,
          4627047,
          4670560,
          4717354,
          4815588,
          4874486,
          5021268,
          5050380,
          5073903,
          5192647,
          5193848,
          5282955,
          5376643,
          5566230,
          5611885,
          5714300,
          5717968,
          5719960,
          5790186,
          5811596,
          5841039,
          5879978,
          5886992,
          5890543,
          6023868,
          6024367,
          6106670,
          6163981,
          6170393,
          6175045,
          6177168,
          6453898,
          6537703,
          6554978,
          6658078,
          6663005,
          6708799,
          6813798,
          6832274,
          6859789,
          6897058,
          6963709,
          6982740,
          6991951,
          7044008,
          7048976,
          7272487,
          7365684,
          7423362,
          7741433,
          7784477,
          8185080,
          8463587,
          8657348,
          8679099,
          8844942,
          8885525,
          9260817,
          9269175,
          9749476,
          9897145,
          9901430,
          9973114,
          10033281,
          10038117,
          10268233,
          10410330,
          10567100,
          10695965,
          10790385,
          10913150,
          11548923,
          11659650,
          11759697,
          11765227,
          12582515,
          12690341,
          12767118,
          12778828,
          12787641,
          12882510,
          12972091,
          13013614,
          19297822,
          19572932,
          19589572,
          19673200,
          19854526,
          20963613,
          21830708,
          22245521,
          26084481,
          28295273,
          29561286,
          30029848,
          37948800,
          39040616,
          39145060,
          39358497
         ],
         "xaxis": "x",
         "y": [
          56.566354651928904,
          56.5664028092347,
          56.56641412418431,
          56.5664522869236,
          56.56723562253565,
          56.567267641825794,
          56.56765280857892,
          56.56765312033604,
          56.568644618011355,
          56.569181335402384,
          56.56923328880959,
          56.56926349257298,
          56.56935109632386,
          56.56963061409042,
          56.570053136682056,
          56.570070191630414,
          56.571072472434366,
          56.5717932182198,
          56.572222911225204,
          56.57247176676203,
          56.57256914501557,
          56.57333283992902,
          56.574194023127944,
          56.5742141589702,
          56.57448149987041,
          56.575087097246424,
          56.57512632362766,
          56.57514561589182,
          56.5758455839821,
          56.57590518460809,
          56.57607525728668,
          56.57637806514402,
          56.58007062651188,
          56.58013475678545,
          56.580260981741965,
          56.58052093216455,
          56.58107109178908,
          56.581230766450766,
          56.58126458292902,
          56.58136482201261,
          56.58144182602139,
          56.58190744445027,
          56.58218263429446,
          56.58231735004785,
          56.58504208894291,
          56.58728657516307,
          56.588319408164836,
          56.588525057832484,
          56.58910740179504,
          56.58977307660206,
          56.58983852725872,
          56.59071263920882,
          56.590921883252676,
          56.5913445708922,
          56.591807750280076,
          56.59187756553643,
          56.59406443170525,
          56.59414649718257,
          56.594544299268414,
          56.59460800775293,
          56.60610718748352,
          56.608113051135874,
          56.60869772410751,
          56.609127967272535,
          56.609641412911444,
          56.60966396945605,
          56.60968197801443,
          56.60987735803575,
          56.609924708440765,
          56.61025005450406,
          56.61050516352194,
          56.61059124516453,
          56.61082662179055,
          56.61132356264073,
          56.61165294320793,
          56.61219917836046,
          56.612654930593415,
          56.61339779279575,
          56.61349098983615,
          56.614055618658796,
          56.61443198285793,
          56.61446405716404,
          56.61702396823559,
          56.61779331145452,
          56.621315451709364,
          56.62170514811007,
          56.62187283676362,
          56.62196480511419,
          56.62581790306049,
          56.62728842472087,
          56.62788103832975,
          56.62898718927081,
          56.62949401465558,
          56.63177449965383,
          56.63353049914338,
          56.6338438333882,
          56.63622567612795,
          56.63743459688687,
          56.63844931129834,
          56.63852198738474,
          56.6399241608811,
          56.6401616281137,
          56.64063980852068,
          56.64143777837874,
          56.64229591736107,
          56.64409739671291,
          56.64517750676508,
          56.64786929109863,
          56.64840316599827,
          56.648834546159854,
          56.65101215130832,
          56.651034176031956,
          56.65266827848737,
          56.65438639031744,
          56.65786316074191,
          56.65870041199716,
          56.66057856526201,
          56.660645831445436,
          56.660682362044504,
          56.66197021237089,
          56.662362842956256,
          56.662902787950415,
          56.66361687680439,
          56.663745504124606,
          56.663810624685496,
          56.66625562575014,
          56.66626477673856,
          56.667774102991125,
          56.668825109599155,
          56.66894269704957,
          56.66902800846868,
          56.66906694143144,
          56.67414179719457,
          56.67567866810567,
          56.67599546835612,
          56.677886183599064,
          56.677976538148066,
          56.67881633847624,
          56.68074187882341,
          56.6810807037975,
          56.681585291866455,
          56.682268755168,
          56.6834910448058,
          56.68384004773294,
          56.68400896507632,
          56.68496362039545,
          56.68505472682927,
          56.68915361775715,
          56.69086272530804,
          56.69192046220214,
          56.69775345626651,
          56.698542825295775,
          56.705889345164515,
          56.710996788716066,
          56.714550104682964,
          56.7149489887494,
          56.71799032616971,
          56.718734563771115,
          56.72561691396464,
          56.72577018843603,
          56.73457826236328,
          56.73728631308306,
          56.73736489421609,
          56.738679482300235,
          56.73978286410452,
          56.739871549835996,
          56.744091567574536,
          56.74669743531339,
          56.7495723861246,
          56.75193559679173,
          56.75366713251665,
          56.75591847739346,
          56.76757769855882,
          56.769608282716966,
          56.771443010048785,
          56.77154442280624,
          56.78653238477977,
          56.78850976850222,
          56.78991775535195,
          56.79013250099206,
          56.790294119551085,
          56.79203388933171,
          56.79367668430918,
          56.794438160245484,
          56.90968207736864,
          56.91472722451205,
          56.91503237971712,
          56.91656600468643,
          56.919891279488965,
          56.94023044240502,
          56.95613179772584,
          56.96373890987006,
          57.034140269608486,
          57.074683219495654,
          57.09790019405297,
          57.106492990519136,
          57.25171591248325,
          57.27173834850347,
          57.27365371089759,
          57.277567858223556
         ],
         "yaxis": "y"
        }
       ],
       "layout": {
        "coloraxis": {
         "colorbar": {
          "title": {
           "text": "PERCENT_3_OR_ABOVE"
          }
         },
         "colorscale": [
          [
           0,
           "#0d0887"
          ],
          [
           0.1111111111111111,
           "#46039f"
          ],
          [
           0.2222222222222222,
           "#7201a8"
          ],
          [
           0.3333333333333333,
           "#9c179e"
          ],
          [
           0.4444444444444444,
           "#bd3786"
          ],
          [
           0.5555555555555556,
           "#d8576b"
          ],
          [
           0.6666666666666666,
           "#ed7953"
          ],
          [
           0.7777777777777778,
           "#fb9f3a"
          ],
          [
           0.8888888888888888,
           "#fdca26"
          ],
          [
           1,
           "#f0f921"
          ]
         ]
        },
        "height": 600,
        "legend": {
         "tracegroupgap": 0
        },
        "template": {
         "data": {
          "bar": [
           {
            "error_x": {
             "color": "#2a3f5f"
            },
            "error_y": {
             "color": "#2a3f5f"
            },
            "marker": {
             "line": {
              "color": "#E5ECF6",
              "width": 0.5
             },
             "pattern": {
              "fillmode": "overlay",
              "size": 10,
              "solidity": 0.2
             }
            },
            "type": "bar"
           }
          ],
          "barpolar": [
           {
            "marker": {
             "line": {
              "color": "#E5ECF6",
              "width": 0.5
             },
             "pattern": {
              "fillmode": "overlay",
              "size": 10,
              "solidity": 0.2
             }
            },
            "type": "barpolar"
           }
          ],
          "carpet": [
           {
            "aaxis": {
             "endlinecolor": "#2a3f5f",
             "gridcolor": "white",
             "linecolor": "white",
             "minorgridcolor": "white",
             "startlinecolor": "#2a3f5f"
            },
            "baxis": {
             "endlinecolor": "#2a3f5f",
             "gridcolor": "white",
             "linecolor": "white",
             "minorgridcolor": "white",
             "startlinecolor": "#2a3f5f"
            },
            "type": "carpet"
           }
          ],
          "choropleth": [
           {
            "colorbar": {
             "outlinewidth": 0,
             "ticks": ""
            },
            "type": "choropleth"
           }
          ],
          "contour": [
           {
            "colorbar": {
             "outlinewidth": 0,
             "ticks": ""
            },
            "colorscale": [
             [
              0,
              "#0d0887"
             ],
             [
              0.1111111111111111,
              "#46039f"
             ],
             [
              0.2222222222222222,
              "#7201a8"
             ],
             [
              0.3333333333333333,
              "#9c179e"
             ],
             [
              0.4444444444444444,
              "#bd3786"
             ],
             [
              0.5555555555555556,
              "#d8576b"
             ],
             [
              0.6666666666666666,
              "#ed7953"
             ],
             [
              0.7777777777777778,
              "#fb9f3a"
             ],
             [
              0.8888888888888888,
              "#fdca26"
             ],
             [
              1,
              "#f0f921"
             ]
            ],
            "type": "contour"
           }
          ],
          "contourcarpet": [
           {
            "colorbar": {
             "outlinewidth": 0,
             "ticks": ""
            },
            "type": "contourcarpet"
           }
          ],
          "heatmap": [
           {
            "colorbar": {
             "outlinewidth": 0,
             "ticks": ""
            },
            "colorscale": [
             [
              0,
              "#0d0887"
             ],
             [
              0.1111111111111111,
              "#46039f"
             ],
             [
              0.2222222222222222,
              "#7201a8"
             ],
             [
              0.3333333333333333,
              "#9c179e"
             ],
             [
              0.4444444444444444,
              "#bd3786"
             ],
             [
              0.5555555555555556,
              "#d8576b"
             ],
             [
              0.6666666666666666,
              "#ed7953"
             ],
             [
              0.7777777777777778,
              "#fb9f3a"
             ],
             [
              0.8888888888888888,
              "#fdca26"
             ],
             [
              1,
              "#f0f921"
             ]
            ],
            "type": "heatmap"
           }
          ],
          "heatmapgl": [
           {
            "colorbar": {
             "outlinewidth": 0,
             "ticks": ""
            },
            "colorscale": [
             [
              0,
              "#0d0887"
             ],
             [
              0.1111111111111111,
              "#46039f"
             ],
             [
              0.2222222222222222,
              "#7201a8"
             ],
             [
              0.3333333333333333,
              "#9c179e"
             ],
             [
              0.4444444444444444,
              "#bd3786"
             ],
             [
              0.5555555555555556,
              "#d8576b"
             ],
             [
              0.6666666666666666,
              "#ed7953"
             ],
             [
              0.7777777777777778,
              "#fb9f3a"
             ],
             [
              0.8888888888888888,
              "#fdca26"
             ],
             [
              1,
              "#f0f921"
             ]
            ],
            "type": "heatmapgl"
           }
          ],
          "histogram": [
           {
            "marker": {
             "pattern": {
              "fillmode": "overlay",
              "size": 10,
              "solidity": 0.2
             }
            },
            "type": "histogram"
           }
          ],
          "histogram2d": [
           {
            "colorbar": {
             "outlinewidth": 0,
             "ticks": ""
            },
            "colorscale": [
             [
              0,
              "#0d0887"
             ],
             [
              0.1111111111111111,
              "#46039f"
             ],
             [
              0.2222222222222222,
              "#7201a8"
             ],
             [
              0.3333333333333333,
              "#9c179e"
             ],
             [
              0.4444444444444444,
              "#bd3786"
             ],
             [
              0.5555555555555556,
              "#d8576b"
             ],
             [
              0.6666666666666666,
              "#ed7953"
             ],
             [
              0.7777777777777778,
              "#fb9f3a"
             ],
             [
              0.8888888888888888,
              "#fdca26"
             ],
             [
              1,
              "#f0f921"
             ]
            ],
            "type": "histogram2d"
           }
          ],
          "histogram2dcontour": [
           {
            "colorbar": {
             "outlinewidth": 0,
             "ticks": ""
            },
            "colorscale": [
             [
              0,
              "#0d0887"
             ],
             [
              0.1111111111111111,
              "#46039f"
             ],
             [
              0.2222222222222222,
              "#7201a8"
             ],
             [
              0.3333333333333333,
              "#9c179e"
             ],
             [
              0.4444444444444444,
              "#bd3786"
             ],
             [
              0.5555555555555556,
              "#d8576b"
             ],
             [
              0.6666666666666666,
              "#ed7953"
             ],
             [
              0.7777777777777778,
              "#fb9f3a"
             ],
             [
              0.8888888888888888,
              "#fdca26"
             ],
             [
              1,
              "#f0f921"
             ]
            ],
            "type": "histogram2dcontour"
           }
          ],
          "mesh3d": [
           {
            "colorbar": {
             "outlinewidth": 0,
             "ticks": ""
            },
            "type": "mesh3d"
           }
          ],
          "parcoords": [
           {
            "line": {
             "colorbar": {
              "outlinewidth": 0,
              "ticks": ""
             }
            },
            "type": "parcoords"
           }
          ],
          "pie": [
           {
            "automargin": true,
            "type": "pie"
           }
          ],
          "scatter": [
           {
            "fillpattern": {
             "fillmode": "overlay",
             "size": 10,
             "solidity": 0.2
            },
            "type": "scatter"
           }
          ],
          "scatter3d": [
           {
            "line": {
             "colorbar": {
              "outlinewidth": 0,
              "ticks": ""
             }
            },
            "marker": {
             "colorbar": {
              "outlinewidth": 0,
              "ticks": ""
             }
            },
            "type": "scatter3d"
           }
          ],
          "scattercarpet": [
           {
            "marker": {
             "colorbar": {
              "outlinewidth": 0,
              "ticks": ""
             }
            },
            "type": "scattercarpet"
           }
          ],
          "scattergeo": [
           {
            "marker": {
             "colorbar": {
              "outlinewidth": 0,
              "ticks": ""
             }
            },
            "type": "scattergeo"
           }
          ],
          "scattergl": [
           {
            "marker": {
             "colorbar": {
              "outlinewidth": 0,
              "ticks": ""
             }
            },
            "type": "scattergl"
           }
          ],
          "scattermapbox": [
           {
            "marker": {
             "colorbar": {
              "outlinewidth": 0,
              "ticks": ""
             }
            },
            "type": "scattermapbox"
           }
          ],
          "scatterpolar": [
           {
            "marker": {
             "colorbar": {
              "outlinewidth": 0,
              "ticks": ""
             }
            },
            "type": "scatterpolar"
           }
          ],
          "scatterpolargl": [
           {
            "marker": {
             "colorbar": {
              "outlinewidth": 0,
              "ticks": ""
             }
            },
            "type": "scatterpolargl"
           }
          ],
          "scatterternary": [
           {
            "marker": {
             "colorbar": {
              "outlinewidth": 0,
              "ticks": ""
             }
            },
            "type": "scatterternary"
           }
          ],
          "surface": [
           {
            "colorbar": {
             "outlinewidth": 0,
             "ticks": ""
            },
            "colorscale": [
             [
              0,
              "#0d0887"
             ],
             [
              0.1111111111111111,
              "#46039f"
             ],
             [
              0.2222222222222222,
              "#7201a8"
             ],
             [
              0.3333333333333333,
              "#9c179e"
             ],
             [
              0.4444444444444444,
              "#bd3786"
             ],
             [
              0.5555555555555556,
              "#d8576b"
             ],
             [
              0.6666666666666666,
              "#ed7953"
             ],
             [
              0.7777777777777778,
              "#fb9f3a"
             ],
             [
              0.8888888888888888,
              "#fdca26"
             ],
             [
              1,
              "#f0f921"
             ]
            ],
            "type": "surface"
           }
          ],
          "table": [
           {
            "cells": {
             "fill": {
              "color": "#EBF0F8"
             },
             "line": {
              "color": "white"
             }
            },
            "header": {
             "fill": {
              "color": "#C8D4E3"
             },
             "line": {
              "color": "white"
             }
            },
            "type": "table"
           }
          ]
         },
         "layout": {
          "annotationdefaults": {
           "arrowcolor": "#2a3f5f",
           "arrowhead": 0,
           "arrowwidth": 1
          },
          "autotypenumbers": "strict",
          "coloraxis": {
           "colorbar": {
            "outlinewidth": 0,
            "ticks": ""
           }
          },
          "colorscale": {
           "diverging": [
            [
             0,
             "#8e0152"
            ],
            [
             0.1,
             "#c51b7d"
            ],
            [
             0.2,
             "#de77ae"
            ],
            [
             0.3,
             "#f1b6da"
            ],
            [
             0.4,
             "#fde0ef"
            ],
            [
             0.5,
             "#f7f7f7"
            ],
            [
             0.6,
             "#e6f5d0"
            ],
            [
             0.7,
             "#b8e186"
            ],
            [
             0.8,
             "#7fbc41"
            ],
            [
             0.9,
             "#4d9221"
            ],
            [
             1,
             "#276419"
            ]
           ],
           "sequential": [
            [
             0,
             "#0d0887"
            ],
            [
             0.1111111111111111,
             "#46039f"
            ],
            [
             0.2222222222222222,
             "#7201a8"
            ],
            [
             0.3333333333333333,
             "#9c179e"
            ],
            [
             0.4444444444444444,
             "#bd3786"
            ],
            [
             0.5555555555555556,
             "#d8576b"
            ],
            [
             0.6666666666666666,
             "#ed7953"
            ],
            [
             0.7777777777777778,
             "#fb9f3a"
            ],
            [
             0.8888888888888888,
             "#fdca26"
            ],
            [
             1,
             "#f0f921"
            ]
           ],
           "sequentialminus": [
            [
             0,
             "#0d0887"
            ],
            [
             0.1111111111111111,
             "#46039f"
            ],
            [
             0.2222222222222222,
             "#7201a8"
            ],
            [
             0.3333333333333333,
             "#9c179e"
            ],
            [
             0.4444444444444444,
             "#bd3786"
            ],
            [
             0.5555555555555556,
             "#d8576b"
            ],
            [
             0.6666666666666666,
             "#ed7953"
            ],
            [
             0.7777777777777778,
             "#fb9f3a"
            ],
            [
             0.8888888888888888,
             "#fdca26"
            ],
            [
             1,
             "#f0f921"
            ]
           ]
          },
          "colorway": [
           "#636efa",
           "#EF553B",
           "#00cc96",
           "#ab63fa",
           "#FFA15A",
           "#19d3f3",
           "#FF6692",
           "#B6E880",
           "#FF97FF",
           "#FECB52"
          ],
          "font": {
           "color": "#2a3f5f"
          },
          "geo": {
           "bgcolor": "white",
           "lakecolor": "white",
           "landcolor": "#E5ECF6",
           "showlakes": true,
           "showland": true,
           "subunitcolor": "white"
          },
          "hoverlabel": {
           "align": "left"
          },
          "hovermode": "closest",
          "mapbox": {
           "style": "light"
          },
          "paper_bgcolor": "white",
          "plot_bgcolor": "#E5ECF6",
          "polar": {
           "angularaxis": {
            "gridcolor": "white",
            "linecolor": "white",
            "ticks": ""
           },
           "bgcolor": "#E5ECF6",
           "radialaxis": {
            "gridcolor": "white",
            "linecolor": "white",
            "ticks": ""
           }
          },
          "scene": {
           "xaxis": {
            "backgroundcolor": "#E5ECF6",
            "gridcolor": "white",
            "gridwidth": 2,
            "linecolor": "white",
            "showbackground": true,
            "ticks": "",
            "zerolinecolor": "white"
           },
           "yaxis": {
            "backgroundcolor": "#E5ECF6",
            "gridcolor": "white",
            "gridwidth": 2,
            "linecolor": "white",
            "showbackground": true,
            "ticks": "",
            "zerolinecolor": "white"
           },
           "zaxis": {
            "backgroundcolor": "#E5ECF6",
            "gridcolor": "white",
            "gridwidth": 2,
            "linecolor": "white",
            "showbackground": true,
            "ticks": "",
            "zerolinecolor": "white"
           }
          },
          "shapedefaults": {
           "line": {
            "color": "#2a3f5f"
           }
          },
          "ternary": {
           "aaxis": {
            "gridcolor": "white",
            "linecolor": "white",
            "ticks": ""
           },
           "baxis": {
            "gridcolor": "white",
            "linecolor": "white",
            "ticks": ""
           },
           "bgcolor": "#E5ECF6",
           "caxis": {
            "gridcolor": "white",
            "linecolor": "white",
            "ticks": ""
           }
          },
          "title": {
           "x": 0.05
          },
          "xaxis": {
           "automargin": true,
           "gridcolor": "white",
           "linecolor": "white",
           "ticks": "",
           "title": {
            "standoff": 15
           },
           "zerolinecolor": "white",
           "zerolinewidth": 2
          },
          "yaxis": {
           "automargin": true,
           "gridcolor": "white",
           "linecolor": "white",
           "ticks": "",
           "title": {
            "standoff": 15
           },
           "zerolinecolor": "white",
           "zerolinewidth": 2
          }
         }
        },
        "title": {
         "text": "Pass rate vs Population"
        },
        "width": 800,
        "xaxis": {
         "anchor": "y",
         "domain": [
          0,
          1
         ],
         "title": {
          "text": "Population"
         }
        },
        "yaxis": {
         "anchor": "x",
         "domain": [
          0,
          1
         ],
         "title": {
          "text": "PERCENT_3_OR_ABOVE"
         }
        }
       }
      }
     },
     "metadata": {},
     "output_type": "display_data"
    }
   ],
   "source": [
    "fig = px.scatter(data_frame=ap_overall_statelevel,x='Population', y='PERCENT_3_OR_ABOVE',trendline='ols',trendline_color_override='darkblue',width=800, height=600,color='PERCENT_3_OR_ABOVE',\n",
    "                 title='Pass rate vs Population')\n",
    "fig.show()\n",
    "with open('data/state_by_state_pickled/AP_pass_rate_by_states_vs_population.pkl', 'wb') as f:\n",
    "    pickle.dump(fig, f)"
   ]
  },
  {
   "cell_type": "code",
   "execution_count": 390,
   "metadata": {},
   "outputs": [
    {
     "data": {
      "application/vnd.plotly.v1+json": {
       "config": {
        "plotlyServerURL": "https://plot.ly"
       },
       "data": [
        {
         "hovertemplate": "private_notprofit_per_million=%{x}<br>PERCENT_3_OR_ABOVE=%{marker.color}<extra></extra>",
         "legendgroup": "",
         "marker": {
          "color": [
           44.96507764291042,
           59.37565914364058,
           65.91129456741558,
           60.53511168246826,
           40.52205471803462,
           42.182216275392285,
           61.322174646425324,
           66.94763729246488,
           62.48003448013589,
           66.62425618540557,
           52.23785166240409,
           53.85601299455282,
           62.386659856861435,
           54.27513732983043,
           62.515822784810126,
           61.02765482392573,
           54.65153927097105,
           62.16990912971885,
           66.04168222902817,
           61.55938095772121,
           52.53835245584633,
           40.40218177038838,
           62.92196007259528,
           64.76016150740243,
           65.13212465931983,
           64.27838694234846,
           37.68596159047877,
           66.60259490629505,
           63.30268140020091,
           50.37752238407056,
           71.04744229207749,
           66.26424453202392,
           58.60035329947835,
           57.43813515530803,
           62.31691078561917,
           64.69861858485262,
           50.72902594680207,
           61.94700595307575,
           67.05838034510006,
           56.50531045751634,
           63.401763305231995,
           71.86579007027885,
           56.874295950213295,
           48.89336163629231,
           67.84833169656758,
           66.5930092406589,
           62.71492796801642,
           48.53151468485315,
           66.19855083289758,
           55.483870967741936,
           41.48418491484185,
           55.584348276755634,
           61.67017261646971,
           55.924580522400966,
           35.31598513011152,
           35.863344844597925,
           53.96422208110617,
           60.04454739843193,
           58.09939778968963,
           61.888003111024695,
           46.91085148931691,
           48.57293984720018,
           58.204111590021085,
           43.1924882629108,
           57.55678022712091,
           55.35257523605015,
           48.7964378281385,
           57.99517185883435,
           62.34383383153215,
           57.701762179771954,
           48.53512664333159,
           37.8224386201181,
           55.59283044186715,
           60.1720230138897,
           60.902073271043804,
           59.483822878572596,
           37.37914502596884,
           61.55848663658452,
           57.58813738840974,
           45.56390446960878,
           64.3989588263133,
           62.393419223979265,
           55.237244907293906,
           49.141980558447855,
           57.08989805375347,
           60.327036821265295,
           48.053534171288995,
           57.42506142506142,
           63.2015982426905,
           49.76035786558739,
           57.78753910863394,
           67.94871794871794,
           51.7010856408633,
           44.7057709815422,
           65.02261094270239,
           61.42887977552342,
           58.1860019489506,
           41.19469972216285,
           61.58804747273932,
           51.412944393801276,
           39.02595579090946,
           59.80511571254568,
           60.37610172112331,
           55.87680895050468,
           35.33544081489287,
           34.15403636673701,
           55.782231347046576,
           65.87849183330789,
           59.11329441242178,
           68.60671191553544,
           54.41870217003879,
           49.448157801921774,
           57.33375132254399,
           42.189235585176206,
           58.33728840373359,
           63.43969125400881,
           51.03953304684258,
           62.109620624607004,
           62.2516133154431,
           61.37189198321742,
           49.78580886361866,
           35.054287613560824,
           57.51480134103716,
           63.07367585510175,
           65.862740897173,
           63.2866307415961,
           31.81002941387474,
           61.21109861267342,
           56.50716957605985,
           47.08310700706138,
           68.60130161101034,
           68.66833318876122,
           61.81382662790334,
           51.77623192628474,
           59.04537418974661,
           63.62350411633236,
           46.21925915847478,
           58.078457446808514,
           66.48210384072023,
           53.0079212160137,
           56.54727793696275,
           69.71814581877474,
           55.022429867901515,
           45.24088734295054,
           66.98307579102281,
           66.5181315304241,
           63.75709587548964,
           43.29754351716284,
           65.9305863402949,
           55.40268456375839,
           39.5476183068355,
           63.41786108048512,
           60.32487967419474,
           55.331572362018626,
           39.909523079282316,
           31.31302737188722,
           59.077145916960085,
           65.11169038050758,
           60.00805195259851,
           71.00545411429927,
           47.73855858274057,
           45.33848295981965,
           53.995344562500534,
           38.9713600239916,
           67.23594038942674,
           65.75702165008776,
           44.86866113540125,
           63.979915433403804,
           60.082509424567895,
           63.03428272166942,
           47.2589438218021,
           42.64217517642175,
           59.68998539198182,
           61.57985005145293,
           70.25225305480083,
           65.7676121768596,
           32.21690590111643,
           61.510791366906474,
           55.98516353827133,
           47.64189416110924,
           72.23395827832057,
           73.2895565560195,
           65.92966053990553,
           59.11679613641023,
           62.53474152306837,
           66.15597948276094,
           47.536441906060865,
           60.61819197467647,
           67.23798118903275,
           58.07836822329576,
           56.45350542681138,
           65.82216808769793,
           55.77547253866226,
           46.45157252742251,
           68.3252348558471,
           65.37358745150954,
           60.1954363142003,
           42.4122197976592,
           68.00962475391255,
           56.39312977099237
          ],
          "coloraxis": "coloraxis",
          "symbol": "circle"
         },
         "mode": "markers",
         "name": "",
         "orientation": "v",
         "showlegend": false,
         "type": "scatter",
         "x": [
          3.54756486278906,
          4.091228950627049,
          2.954597977487762,
          1.764941314343651,
          1.419462534705859,
          5.580349815717153,
          3.867766840564196,
          5.774985562536093,
          1.5408217613338997,
          4.710829865331229,
          2.9427372753587933,
          2.74212503272007,
          3.2987725817018916,
          2.7789375982614968,
          2.578654107589701,
          6.199078642067981,
          6.00093029055919,
          10.626019433739424,
          8.172393925732008,
          8.579983578235204,
          5.762969507463378,
          3.0514232382880384,
          10.076741584841125,
          3.0824235181776194,
          10.597559124355195,
          3.887063464085178,
          3.062341098522999,
          3.5622747974401494,
          7.62171885003506,
          1.2588825969237316,
          7.862742252875798,
          4.319273342729913,
          9.403655734705081,
          4.581166823189866,
          3.8515262314613206,
          6.037570525839229,
          3.4832187229972797,
          5.18943930231291,
          9.019363185164211,
          10.056296978905547,
          4.732200066061513,
          6.594355890793071,
          5.958312242799521,
          2.2977139278227448,
          1.4787491911241926,
          16.998655560878365,
          4.608773330042669,
          5.073180630596353,
          5.092909091742476,
          0,
          3.5640882468249915,
          4.08206029747334,
          2.9710261653107377,
          1.7875590564823285,
          1.417133139658471,
          5.613445589037007,
          3.8574471465875897,
          5.771280986532279,
          1.54862795005021,
          4.7173855916059395,
          2.9854281253203117,
          2.7942291198251565,
          3.336303570261858,
          2.7648272501373774,
          2.625309983476299,
          6.146406940522717,
          6.0172021536300315,
          10.631830951386267,
          8.168972472605011,
          8.589404272953116,
          5.768036205519567,
          3.0256878739290958,
          10.153852625532442,
          3.0769006541652733,
          10.583598197412996,
          3.8851908181584256,
          3.0512798084609956,
          3.6154400984845885,
          7.636490818647089,
          1.271200445428636,
          7.92796221100776,
          4.315378660991944,
          9.31777469781953,
          4.637033812493494,
          3.8561303474887594,
          6.034732691515429,
          3.507335592391487,
          5.168608223020746,
          8.990584782981884,
          10.026506437017133,
          4.813386914672898,
          6.694194682801164,
          6.03126868167524,
          2.334133907435556,
          1.4973269718897824,
          16.99910213833251,
          4.620352560622491,
          5.041313564662408,
          5.102059905666314,
          0,
          3.6926970351335506,
          4.05569825604975,
          3.0983266072703985,
          1.8455402094943674,
          1.4341824968543597,
          5.664127249616422,
          3.8365286154092724,
          5.928608771107195,
          1.603739207057878,
          4.757511060513582,
          3.135376135398083,
          2.9098037633112193,
          3.458103633602393,
          2.80821374438094,
          2.9108437662825324,
          6.103846143010924,
          6.157933265425848,
          10.82268307045885,
          8.25105768245667,
          8.679034563845763,
          5.839720340284996,
          2.9974992292144838,
          10.489940147398645,
          3.1541195789814784,
          10.787503813892817,
          3.9105138074226367,
          3.0115341758936727,
          3.800540056742063,
          7.82902658580848,
          1.3468444276837137,
          8.155475994356411,
          4.50170361346122,
          9.44379999726385,
          4.7719992329741645,
          3.973815206996034,
          6.089376610790204,
          3.5611484805596905,
          5.309360765030619,
          9.149459231769175,
          10.41989328134754,
          4.978822082390344,
          6.873891584981922,
          6.260434989928898,
          2.4385698628884054,
          1.612361264375007,
          17.618492369591124,
          4.726128531555238,
          4.953208688588467,
          5.181180708184504,
          0,
          3.737861295443049,
          4.107096652305518,
          3.3347551956210895,
          1.983225572992007,
          1.4372572532385,
          5.758487672094097,
          3.979045450712539,
          6.137658758448348,
          1.7332200706113856,
          4.729385928185109,
          3.2780472454022656,
          3.1609784772602834,
          3.6358384596972355,
          2.867786441679261,
          3.134159581376573,
          6.0547207027202,
          6.271315781704981,
          11.052633289881314,
          8.318149821662333,
          8.797604793997444,
          5.9274849726856935,
          3.0428352965416874,
          10.544320414783439,
          3.227454700125293,
          11.106100025438973,
          3.940530324654231,
          3.0162717808336708,
          3.984925028616743,
          8.09365764799388,
          1.4577280724899015,
          8.306701544744426,
          4.522358654245556,
          9.451828678503558,
          5.025911136147214,
          4.2785263614270885,
          6.147759405790479,
          3.666059671929557,
          5.642470981669407,
          9.16416688558843,
          10.43028727855789,
          5.29958107871489,
          7.197990321102348,
          6.507695039493962,
          2.645251021095647,
          1.7523108599465544,
          17.569359037838012,
          4.886940628558303,
          4.846860742151317,
          5.24479192162183,
          0
         ],
         "xaxis": "x",
         "y": [
          44.96507764291042,
          59.37565914364058,
          65.91129456741558,
          60.53511168246826,
          40.52205471803462,
          42.182216275392285,
          61.322174646425324,
          66.94763729246488,
          62.48003448013589,
          66.62425618540557,
          52.23785166240409,
          53.85601299455282,
          62.386659856861435,
          54.27513732983043,
          62.515822784810126,
          61.02765482392573,
          54.65153927097105,
          62.16990912971885,
          66.04168222902817,
          61.55938095772121,
          52.53835245584633,
          40.40218177038838,
          62.92196007259528,
          64.76016150740243,
          65.13212465931983,
          64.27838694234846,
          37.68596159047877,
          66.60259490629505,
          63.30268140020091,
          50.37752238407056,
          71.04744229207749,
          66.26424453202392,
          58.60035329947835,
          57.43813515530803,
          62.31691078561917,
          64.69861858485262,
          50.72902594680207,
          61.94700595307575,
          67.05838034510006,
          56.50531045751634,
          63.401763305231995,
          71.86579007027885,
          56.874295950213295,
          48.89336163629231,
          67.84833169656758,
          66.5930092406589,
          62.71492796801642,
          48.53151468485315,
          66.19855083289758,
          55.483870967741936,
          41.48418491484185,
          55.584348276755634,
          61.67017261646971,
          55.924580522400966,
          35.31598513011152,
          35.863344844597925,
          53.96422208110617,
          60.04454739843193,
          58.09939778968963,
          61.888003111024695,
          46.91085148931691,
          48.57293984720018,
          58.204111590021085,
          43.1924882629108,
          57.55678022712091,
          55.35257523605015,
          48.7964378281385,
          57.99517185883435,
          62.34383383153215,
          57.701762179771954,
          48.53512664333159,
          37.8224386201181,
          55.59283044186715,
          60.1720230138897,
          60.902073271043804,
          59.483822878572596,
          37.37914502596884,
          61.55848663658452,
          57.58813738840974,
          45.56390446960878,
          64.3989588263133,
          62.393419223979265,
          55.237244907293906,
          49.141980558447855,
          57.08989805375347,
          60.327036821265295,
          48.053534171288995,
          57.42506142506142,
          63.2015982426905,
          49.76035786558739,
          57.78753910863394,
          67.94871794871794,
          51.7010856408633,
          44.7057709815422,
          65.02261094270239,
          61.42887977552342,
          58.1860019489506,
          41.19469972216285,
          61.58804747273932,
          51.412944393801276,
          39.02595579090946,
          59.80511571254568,
          60.37610172112331,
          55.87680895050468,
          35.33544081489287,
          34.15403636673701,
          55.782231347046576,
          65.87849183330789,
          59.11329441242178,
          68.60671191553544,
          54.41870217003879,
          49.448157801921774,
          57.33375132254399,
          42.189235585176206,
          58.33728840373359,
          63.43969125400881,
          51.03953304684258,
          62.109620624607004,
          62.2516133154431,
          61.37189198321742,
          49.78580886361866,
          35.054287613560824,
          57.51480134103716,
          63.07367585510175,
          65.862740897173,
          63.2866307415961,
          31.81002941387474,
          61.21109861267342,
          56.50716957605985,
          47.08310700706138,
          68.60130161101034,
          68.66833318876122,
          61.81382662790334,
          51.77623192628474,
          59.04537418974661,
          63.62350411633236,
          46.21925915847478,
          58.078457446808514,
          66.48210384072023,
          53.0079212160137,
          56.54727793696275,
          69.71814581877474,
          55.022429867901515,
          45.24088734295054,
          66.98307579102281,
          66.5181315304241,
          63.75709587548964,
          43.29754351716284,
          65.9305863402949,
          55.40268456375839,
          39.5476183068355,
          63.41786108048512,
          60.32487967419474,
          55.331572362018626,
          39.909523079282316,
          31.31302737188722,
          59.077145916960085,
          65.11169038050758,
          60.00805195259851,
          71.00545411429927,
          47.73855858274057,
          45.33848295981965,
          53.995344562500534,
          38.9713600239916,
          67.23594038942674,
          65.75702165008776,
          44.86866113540125,
          63.979915433403804,
          60.082509424567895,
          63.03428272166942,
          47.2589438218021,
          42.64217517642175,
          59.68998539198182,
          61.57985005145293,
          70.25225305480083,
          65.7676121768596,
          32.21690590111643,
          61.510791366906474,
          55.98516353827133,
          47.64189416110924,
          72.23395827832057,
          73.2895565560195,
          65.92966053990553,
          59.11679613641023,
          62.53474152306837,
          66.15597948276094,
          47.536441906060865,
          60.61819197467647,
          67.23798118903275,
          58.07836822329576,
          56.45350542681138,
          65.82216808769793,
          55.77547253866226,
          46.45157252742251,
          68.3252348558471,
          65.37358745150954,
          60.1954363142003,
          42.4122197976592,
          68.00962475391255,
          56.39312977099237
         ],
         "yaxis": "y"
        },
        {
         "hovertemplate": "<b>OLS trendline</b><br>PERCENT_3_OR_ABOVE = 1.04826 * private_notprofit_per_million + 51.1669<br>R<sup>2</sup>=0.123735<br><br>private_notprofit_per_million=%{x}<br>PERCENT_3_OR_ABOVE=%{y} <b>(trend)</b><extra></extra>",
         "legendgroup": "",
         "line": {
          "color": "darkblue"
         },
         "marker": {
          "symbol": "circle"
         },
         "mode": "lines",
         "name": "",
         "showlegend": false,
         "type": "scatter",
         "x": [
          0,
          0,
          0,
          0,
          1.2588825969237316,
          1.271200445428636,
          1.3468444276837137,
          1.417133139658471,
          1.419462534705859,
          1.4341824968543597,
          1.4372572532385,
          1.4577280724899015,
          1.4787491911241926,
          1.4973269718897824,
          1.5408217613338997,
          1.54862795005021,
          1.603739207057878,
          1.612361264375007,
          1.7332200706113856,
          1.7523108599465544,
          1.764941314343651,
          1.7875590564823285,
          1.8455402094943674,
          1.983225572992007,
          2.2977139278227448,
          2.334133907435556,
          2.4385698628884054,
          2.578654107589701,
          2.625309983476299,
          2.645251021095647,
          2.74212503272007,
          2.7648272501373774,
          2.7789375982614968,
          2.7942291198251565,
          2.80821374438094,
          2.867786441679261,
          2.9098037633112193,
          2.9108437662825324,
          2.9427372753587933,
          2.954597977487762,
          2.9710261653107377,
          2.9854281253203117,
          2.9974992292144838,
          3.0115341758936727,
          3.0162717808336708,
          3.0256878739290958,
          3.0428352965416874,
          3.0512798084609956,
          3.0514232382880384,
          3.062341098522999,
          3.0769006541652733,
          3.0824235181776194,
          3.0983266072703985,
          3.134159581376573,
          3.135376135398083,
          3.1541195789814784,
          3.1609784772602834,
          3.227454700125293,
          3.2780472454022656,
          3.2987725817018916,
          3.3347551956210895,
          3.336303570261858,
          3.458103633602393,
          3.4832187229972797,
          3.507335592391487,
          3.54756486278906,
          3.5611484805596905,
          3.5622747974401494,
          3.5640882468249915,
          3.6154400984845885,
          3.6358384596972355,
          3.666059671929557,
          3.6926970351335506,
          3.737861295443049,
          3.800540056742063,
          3.8365286154092724,
          3.8515262314613206,
          3.8561303474887594,
          3.8574471465875897,
          3.867766840564196,
          3.8851908181584256,
          3.887063464085178,
          3.9105138074226367,
          3.940530324654231,
          3.973815206996034,
          3.979045450712539,
          3.984925028616743,
          4.05569825604975,
          4.08206029747334,
          4.091228950627049,
          4.107096652305518,
          4.2785263614270885,
          4.315378660991944,
          4.319273342729913,
          4.50170361346122,
          4.522358654245556,
          4.581166823189866,
          4.608773330042669,
          4.620352560622491,
          4.637033812493494,
          4.710829865331229,
          4.7173855916059395,
          4.726128531555238,
          4.729385928185109,
          4.732200066061513,
          4.757511060513582,
          4.7719992329741645,
          4.813386914672898,
          4.846860742151317,
          4.886940628558303,
          4.953208688588467,
          4.978822082390344,
          5.025911136147214,
          5.041313564662408,
          5.073180630596353,
          5.092909091742476,
          5.102059905666314,
          5.168608223020746,
          5.181180708184504,
          5.18943930231291,
          5.24479192162183,
          5.29958107871489,
          5.309360765030619,
          5.580349815717153,
          5.613445589037007,
          5.642470981669407,
          5.664127249616422,
          5.758487672094097,
          5.762969507463378,
          5.768036205519567,
          5.771280986532279,
          5.774985562536093,
          5.839720340284996,
          5.9274849726856935,
          5.928608771107195,
          5.958312242799521,
          6.00093029055919,
          6.0172021536300315,
          6.03126868167524,
          6.034732691515429,
          6.037570525839229,
          6.0547207027202,
          6.089376610790204,
          6.103846143010924,
          6.137658758448348,
          6.146406940522717,
          6.147759405790479,
          6.157933265425848,
          6.199078642067981,
          6.260434989928898,
          6.271315781704981,
          6.507695039493962,
          6.594355890793071,
          6.694194682801164,
          6.873891584981922,
          7.197990321102348,
          7.62171885003506,
          7.636490818647089,
          7.82902658580848,
          7.862742252875798,
          7.92796221100776,
          8.09365764799388,
          8.155475994356411,
          8.168972472605011,
          8.172393925732008,
          8.25105768245667,
          8.306701544744426,
          8.318149821662333,
          8.579983578235204,
          8.589404272953116,
          8.679034563845763,
          8.797604793997444,
          8.990584782981884,
          9.019363185164211,
          9.149459231769175,
          9.16416688558843,
          9.31777469781953,
          9.403655734705081,
          9.44379999726385,
          9.451828678503558,
          10.026506437017133,
          10.056296978905547,
          10.076741584841125,
          10.153852625532442,
          10.41989328134754,
          10.43028727855789,
          10.489940147398645,
          10.544320414783439,
          10.583598197412996,
          10.597559124355195,
          10.626019433739424,
          10.631830951386267,
          10.787503813892817,
          10.82268307045885,
          11.052633289881314,
          11.106100025438973,
          16.998655560878365,
          16.99910213833251,
          17.569359037838012,
          17.618492369591124
         ],
         "xaxis": "x",
         "y": [
          51.16691821350905,
          51.16691821350905,
          51.16691821350905,
          51.16691821350905,
          52.48655201769174,
          52.49946430142781,
          52.57875871403684,
          52.652439421515844,
          52.65488122860361,
          52.6703115472806,
          52.673534685382634,
          52.69499338625711,
          52.71702894288433,
          52.73650325094521,
          52.78209701369682,
          52.790279913783806,
          52.848050732060294,
          52.85708887296802,
          52.98378008836208,
          53.00379216178082,
          53.01703213715687,
          53.04074136721011,
          53.101520577048376,
          53.2458503663843,
          53.57551531295723,
          53.613692849418655,
          53.72316867943209,
          53.870013115277786,
          53.91892051230922,
          53.939823865328215,
          54.04137282692223,
          54.06517060886551,
          54.07996189473988,
          54.095991355169396,
          54.11065085030239,
          54.173098409235465,
          54.2171434044735,
          54.218233595950245,
          54.25166622327696,
          54.2640992996488,
          54.28132027962393,
          54.296417250001916,
          54.30907088171585,
          54.32378312741931,
          54.32874935989005,
          54.338619855186764,
          54.35659477881306,
          54.365446806329984,
          54.36559715779942,
          54.37704189257501,
          54.39230406384211,
          54.39809345044925,
          54.414763991458436,
          54.45232619467775,
          54.453601457212415,
          54.47324942265406,
          54.480439317923306,
          54.550123553038965,
          54.603157595411375,
          54.62488309582807,
          54.66260216018456,
          54.664225256351344,
          54.79190315207294,
          54.81823024646725,
          54.843510948719725,
          54.88568160487461,
          54.89992074142081,
          54.90110141214682,
          54.903002375045396,
          54.95683236643853,
          54.978215112591286,
          55.00989474130536,
          55.0378175714598,
          55.08516137046931,
          55.15086488596519,
          55.188590181951575,
          55.20431155356542,
          55.20913785521025,
          55.21051820045324,
          55.22133590263899,
          55.239600727248416,
          55.24156374339801,
          55.266145754352344,
          55.297610809886066,
          55.33250195542563,
          55.33798460045487,
          55.34414791526728,
          55.41833651997111,
          55.44597074185554,
          55.455581856243825,
          55.47221530211143,
          55.65191787306669,
          55.69054859239388,
          55.694631223840624,
          55.885865221952535,
          55.90751703453013,
          55.96916317046897,
          55.998101913245605,
          56.0102399348029,
          56.02772619120111,
          56.10508349694027,
          56.11195558971859,
          56.121120446817436,
          56.12453503902557,
          56.127484981681384,
          56.154017435127045,
          56.16920477839999,
          56.21258974851544,
          56.24767895731366,
          56.28969302049931,
          56.359159047249626,
          56.38600849324514,
          56.43536997246202,
          56.45151569199522,
          56.48492060008539,
          56.50560111810712,
          56.51519353237927,
          56.58495334112314,
          56.59813254978423,
          56.606789687481985,
          56.66481351573142,
          56.7222466901826,
          56.732498324995944,
          57.0165647762466,
          57.051257686733386,
          57.08168378793694,
          57.1043851449381,
          57.20329921649869,
          57.20799733646042,
          57.213308543436256,
          57.21670991122227,
          57.22059326280465,
          57.28845201407539,
          57.3804519956548,
          57.38163002638596,
          57.41276692941613,
          57.45744164064763,
          57.47449875194442,
          57.48924410306874,
          57.49287527923585,
          57.495850061883175,
          57.513827872693454,
          57.55015620697623,
          57.56532401046787,
          57.600768356468116,
          57.60993870866672,
          57.61135644125805,
          57.62202127142303,
          57.665152243314665,
          57.7294695282913,
          57.74087540575682,
          57.98866186332499,
          58.07950479748979,
          58.18416161395909,
          58.37253033651044,
          58.71226944254187,
          59.15644627995516,
          59.171931114825696,
          59.37375828082298,
          59.40910099991476,
          59.4774683454231,
          59.651159919506355,
          59.71596149812697,
          59.73010928996855,
          59.73369585571888,
          59.81615577119594,
          59.874484897239654,
          59.88648564556792,
          60.160954986151424,
          60.170830305135915,
          60.26478597823021,
          60.38907817534234,
          60.59137100043738,
          60.62153819191573,
          60.75791241879754,
          60.773329835169434,
          60.934350459413544,
          61.02437594684929,
          61.06645749285365,
          61.074873622517224,
          61.677284203535365,
          61.70851237859866,
          61.729943601154055,
          61.81077586956465,
          62.0896551261041,
          62.100550717252055,
          62.163082316649096,
          62.22008686917593,
          62.261260120627625,
          62.27589477454664,
          62.30572852269179,
          62.311820492792194,
          62.475005822591434,
          62.51188276114313,
          62.75292992755137,
          62.80897686299523,
          68.98589558169985,
          68.98636371010683,
          69.58414009012415,
          69.63564450018747
         ],
         "yaxis": "y"
        }
       ],
       "layout": {
        "coloraxis": {
         "colorbar": {
          "title": {
           "text": "PERCENT_3_OR_ABOVE"
          }
         },
         "colorscale": [
          [
           0,
           "#0d0887"
          ],
          [
           0.1111111111111111,
           "#46039f"
          ],
          [
           0.2222222222222222,
           "#7201a8"
          ],
          [
           0.3333333333333333,
           "#9c179e"
          ],
          [
           0.4444444444444444,
           "#bd3786"
          ],
          [
           0.5555555555555556,
           "#d8576b"
          ],
          [
           0.6666666666666666,
           "#ed7953"
          ],
          [
           0.7777777777777778,
           "#fb9f3a"
          ],
          [
           0.8888888888888888,
           "#fdca26"
          ],
          [
           1,
           "#f0f921"
          ]
         ]
        },
        "height": 600,
        "legend": {
         "tracegroupgap": 0
        },
        "template": {
         "data": {
          "bar": [
           {
            "error_x": {
             "color": "#2a3f5f"
            },
            "error_y": {
             "color": "#2a3f5f"
            },
            "marker": {
             "line": {
              "color": "#E5ECF6",
              "width": 0.5
             },
             "pattern": {
              "fillmode": "overlay",
              "size": 10,
              "solidity": 0.2
             }
            },
            "type": "bar"
           }
          ],
          "barpolar": [
           {
            "marker": {
             "line": {
              "color": "#E5ECF6",
              "width": 0.5
             },
             "pattern": {
              "fillmode": "overlay",
              "size": 10,
              "solidity": 0.2
             }
            },
            "type": "barpolar"
           }
          ],
          "carpet": [
           {
            "aaxis": {
             "endlinecolor": "#2a3f5f",
             "gridcolor": "white",
             "linecolor": "white",
             "minorgridcolor": "white",
             "startlinecolor": "#2a3f5f"
            },
            "baxis": {
             "endlinecolor": "#2a3f5f",
             "gridcolor": "white",
             "linecolor": "white",
             "minorgridcolor": "white",
             "startlinecolor": "#2a3f5f"
            },
            "type": "carpet"
           }
          ],
          "choropleth": [
           {
            "colorbar": {
             "outlinewidth": 0,
             "ticks": ""
            },
            "type": "choropleth"
           }
          ],
          "contour": [
           {
            "colorbar": {
             "outlinewidth": 0,
             "ticks": ""
            },
            "colorscale": [
             [
              0,
              "#0d0887"
             ],
             [
              0.1111111111111111,
              "#46039f"
             ],
             [
              0.2222222222222222,
              "#7201a8"
             ],
             [
              0.3333333333333333,
              "#9c179e"
             ],
             [
              0.4444444444444444,
              "#bd3786"
             ],
             [
              0.5555555555555556,
              "#d8576b"
             ],
             [
              0.6666666666666666,
              "#ed7953"
             ],
             [
              0.7777777777777778,
              "#fb9f3a"
             ],
             [
              0.8888888888888888,
              "#fdca26"
             ],
             [
              1,
              "#f0f921"
             ]
            ],
            "type": "contour"
           }
          ],
          "contourcarpet": [
           {
            "colorbar": {
             "outlinewidth": 0,
             "ticks": ""
            },
            "type": "contourcarpet"
           }
          ],
          "heatmap": [
           {
            "colorbar": {
             "outlinewidth": 0,
             "ticks": ""
            },
            "colorscale": [
             [
              0,
              "#0d0887"
             ],
             [
              0.1111111111111111,
              "#46039f"
             ],
             [
              0.2222222222222222,
              "#7201a8"
             ],
             [
              0.3333333333333333,
              "#9c179e"
             ],
             [
              0.4444444444444444,
              "#bd3786"
             ],
             [
              0.5555555555555556,
              "#d8576b"
             ],
             [
              0.6666666666666666,
              "#ed7953"
             ],
             [
              0.7777777777777778,
              "#fb9f3a"
             ],
             [
              0.8888888888888888,
              "#fdca26"
             ],
             [
              1,
              "#f0f921"
             ]
            ],
            "type": "heatmap"
           }
          ],
          "heatmapgl": [
           {
            "colorbar": {
             "outlinewidth": 0,
             "ticks": ""
            },
            "colorscale": [
             [
              0,
              "#0d0887"
             ],
             [
              0.1111111111111111,
              "#46039f"
             ],
             [
              0.2222222222222222,
              "#7201a8"
             ],
             [
              0.3333333333333333,
              "#9c179e"
             ],
             [
              0.4444444444444444,
              "#bd3786"
             ],
             [
              0.5555555555555556,
              "#d8576b"
             ],
             [
              0.6666666666666666,
              "#ed7953"
             ],
             [
              0.7777777777777778,
              "#fb9f3a"
             ],
             [
              0.8888888888888888,
              "#fdca26"
             ],
             [
              1,
              "#f0f921"
             ]
            ],
            "type": "heatmapgl"
           }
          ],
          "histogram": [
           {
            "marker": {
             "pattern": {
              "fillmode": "overlay",
              "size": 10,
              "solidity": 0.2
             }
            },
            "type": "histogram"
           }
          ],
          "histogram2d": [
           {
            "colorbar": {
             "outlinewidth": 0,
             "ticks": ""
            },
            "colorscale": [
             [
              0,
              "#0d0887"
             ],
             [
              0.1111111111111111,
              "#46039f"
             ],
             [
              0.2222222222222222,
              "#7201a8"
             ],
             [
              0.3333333333333333,
              "#9c179e"
             ],
             [
              0.4444444444444444,
              "#bd3786"
             ],
             [
              0.5555555555555556,
              "#d8576b"
             ],
             [
              0.6666666666666666,
              "#ed7953"
             ],
             [
              0.7777777777777778,
              "#fb9f3a"
             ],
             [
              0.8888888888888888,
              "#fdca26"
             ],
             [
              1,
              "#f0f921"
             ]
            ],
            "type": "histogram2d"
           }
          ],
          "histogram2dcontour": [
           {
            "colorbar": {
             "outlinewidth": 0,
             "ticks": ""
            },
            "colorscale": [
             [
              0,
              "#0d0887"
             ],
             [
              0.1111111111111111,
              "#46039f"
             ],
             [
              0.2222222222222222,
              "#7201a8"
             ],
             [
              0.3333333333333333,
              "#9c179e"
             ],
             [
              0.4444444444444444,
              "#bd3786"
             ],
             [
              0.5555555555555556,
              "#d8576b"
             ],
             [
              0.6666666666666666,
              "#ed7953"
             ],
             [
              0.7777777777777778,
              "#fb9f3a"
             ],
             [
              0.8888888888888888,
              "#fdca26"
             ],
             [
              1,
              "#f0f921"
             ]
            ],
            "type": "histogram2dcontour"
           }
          ],
          "mesh3d": [
           {
            "colorbar": {
             "outlinewidth": 0,
             "ticks": ""
            },
            "type": "mesh3d"
           }
          ],
          "parcoords": [
           {
            "line": {
             "colorbar": {
              "outlinewidth": 0,
              "ticks": ""
             }
            },
            "type": "parcoords"
           }
          ],
          "pie": [
           {
            "automargin": true,
            "type": "pie"
           }
          ],
          "scatter": [
           {
            "fillpattern": {
             "fillmode": "overlay",
             "size": 10,
             "solidity": 0.2
            },
            "type": "scatter"
           }
          ],
          "scatter3d": [
           {
            "line": {
             "colorbar": {
              "outlinewidth": 0,
              "ticks": ""
             }
            },
            "marker": {
             "colorbar": {
              "outlinewidth": 0,
              "ticks": ""
             }
            },
            "type": "scatter3d"
           }
          ],
          "scattercarpet": [
           {
            "marker": {
             "colorbar": {
              "outlinewidth": 0,
              "ticks": ""
             }
            },
            "type": "scattercarpet"
           }
          ],
          "scattergeo": [
           {
            "marker": {
             "colorbar": {
              "outlinewidth": 0,
              "ticks": ""
             }
            },
            "type": "scattergeo"
           }
          ],
          "scattergl": [
           {
            "marker": {
             "colorbar": {
              "outlinewidth": 0,
              "ticks": ""
             }
            },
            "type": "scattergl"
           }
          ],
          "scattermapbox": [
           {
            "marker": {
             "colorbar": {
              "outlinewidth": 0,
              "ticks": ""
             }
            },
            "type": "scattermapbox"
           }
          ],
          "scatterpolar": [
           {
            "marker": {
             "colorbar": {
              "outlinewidth": 0,
              "ticks": ""
             }
            },
            "type": "scatterpolar"
           }
          ],
          "scatterpolargl": [
           {
            "marker": {
             "colorbar": {
              "outlinewidth": 0,
              "ticks": ""
             }
            },
            "type": "scatterpolargl"
           }
          ],
          "scatterternary": [
           {
            "marker": {
             "colorbar": {
              "outlinewidth": 0,
              "ticks": ""
             }
            },
            "type": "scatterternary"
           }
          ],
          "surface": [
           {
            "colorbar": {
             "outlinewidth": 0,
             "ticks": ""
            },
            "colorscale": [
             [
              0,
              "#0d0887"
             ],
             [
              0.1111111111111111,
              "#46039f"
             ],
             [
              0.2222222222222222,
              "#7201a8"
             ],
             [
              0.3333333333333333,
              "#9c179e"
             ],
             [
              0.4444444444444444,
              "#bd3786"
             ],
             [
              0.5555555555555556,
              "#d8576b"
             ],
             [
              0.6666666666666666,
              "#ed7953"
             ],
             [
              0.7777777777777778,
              "#fb9f3a"
             ],
             [
              0.8888888888888888,
              "#fdca26"
             ],
             [
              1,
              "#f0f921"
             ]
            ],
            "type": "surface"
           }
          ],
          "table": [
           {
            "cells": {
             "fill": {
              "color": "#EBF0F8"
             },
             "line": {
              "color": "white"
             }
            },
            "header": {
             "fill": {
              "color": "#C8D4E3"
             },
             "line": {
              "color": "white"
             }
            },
            "type": "table"
           }
          ]
         },
         "layout": {
          "annotationdefaults": {
           "arrowcolor": "#2a3f5f",
           "arrowhead": 0,
           "arrowwidth": 1
          },
          "autotypenumbers": "strict",
          "coloraxis": {
           "colorbar": {
            "outlinewidth": 0,
            "ticks": ""
           }
          },
          "colorscale": {
           "diverging": [
            [
             0,
             "#8e0152"
            ],
            [
             0.1,
             "#c51b7d"
            ],
            [
             0.2,
             "#de77ae"
            ],
            [
             0.3,
             "#f1b6da"
            ],
            [
             0.4,
             "#fde0ef"
            ],
            [
             0.5,
             "#f7f7f7"
            ],
            [
             0.6,
             "#e6f5d0"
            ],
            [
             0.7,
             "#b8e186"
            ],
            [
             0.8,
             "#7fbc41"
            ],
            [
             0.9,
             "#4d9221"
            ],
            [
             1,
             "#276419"
            ]
           ],
           "sequential": [
            [
             0,
             "#0d0887"
            ],
            [
             0.1111111111111111,
             "#46039f"
            ],
            [
             0.2222222222222222,
             "#7201a8"
            ],
            [
             0.3333333333333333,
             "#9c179e"
            ],
            [
             0.4444444444444444,
             "#bd3786"
            ],
            [
             0.5555555555555556,
             "#d8576b"
            ],
            [
             0.6666666666666666,
             "#ed7953"
            ],
            [
             0.7777777777777778,
             "#fb9f3a"
            ],
            [
             0.8888888888888888,
             "#fdca26"
            ],
            [
             1,
             "#f0f921"
            ]
           ],
           "sequentialminus": [
            [
             0,
             "#0d0887"
            ],
            [
             0.1111111111111111,
             "#46039f"
            ],
            [
             0.2222222222222222,
             "#7201a8"
            ],
            [
             0.3333333333333333,
             "#9c179e"
            ],
            [
             0.4444444444444444,
             "#bd3786"
            ],
            [
             0.5555555555555556,
             "#d8576b"
            ],
            [
             0.6666666666666666,
             "#ed7953"
            ],
            [
             0.7777777777777778,
             "#fb9f3a"
            ],
            [
             0.8888888888888888,
             "#fdca26"
            ],
            [
             1,
             "#f0f921"
            ]
           ]
          },
          "colorway": [
           "#636efa",
           "#EF553B",
           "#00cc96",
           "#ab63fa",
           "#FFA15A",
           "#19d3f3",
           "#FF6692",
           "#B6E880",
           "#FF97FF",
           "#FECB52"
          ],
          "font": {
           "color": "#2a3f5f"
          },
          "geo": {
           "bgcolor": "white",
           "lakecolor": "white",
           "landcolor": "#E5ECF6",
           "showlakes": true,
           "showland": true,
           "subunitcolor": "white"
          },
          "hoverlabel": {
           "align": "left"
          },
          "hovermode": "closest",
          "mapbox": {
           "style": "light"
          },
          "paper_bgcolor": "white",
          "plot_bgcolor": "#E5ECF6",
          "polar": {
           "angularaxis": {
            "gridcolor": "white",
            "linecolor": "white",
            "ticks": ""
           },
           "bgcolor": "#E5ECF6",
           "radialaxis": {
            "gridcolor": "white",
            "linecolor": "white",
            "ticks": ""
           }
          },
          "scene": {
           "xaxis": {
            "backgroundcolor": "#E5ECF6",
            "gridcolor": "white",
            "gridwidth": 2,
            "linecolor": "white",
            "showbackground": true,
            "ticks": "",
            "zerolinecolor": "white"
           },
           "yaxis": {
            "backgroundcolor": "#E5ECF6",
            "gridcolor": "white",
            "gridwidth": 2,
            "linecolor": "white",
            "showbackground": true,
            "ticks": "",
            "zerolinecolor": "white"
           },
           "zaxis": {
            "backgroundcolor": "#E5ECF6",
            "gridcolor": "white",
            "gridwidth": 2,
            "linecolor": "white",
            "showbackground": true,
            "ticks": "",
            "zerolinecolor": "white"
           }
          },
          "shapedefaults": {
           "line": {
            "color": "#2a3f5f"
           }
          },
          "ternary": {
           "aaxis": {
            "gridcolor": "white",
            "linecolor": "white",
            "ticks": ""
           },
           "baxis": {
            "gridcolor": "white",
            "linecolor": "white",
            "ticks": ""
           },
           "bgcolor": "#E5ECF6",
           "caxis": {
            "gridcolor": "white",
            "linecolor": "white",
            "ticks": ""
           }
          },
          "title": {
           "x": 0.05
          },
          "xaxis": {
           "automargin": true,
           "gridcolor": "white",
           "linecolor": "white",
           "ticks": "",
           "title": {
            "standoff": 15
           },
           "zerolinecolor": "white",
           "zerolinewidth": 2
          },
          "yaxis": {
           "automargin": true,
           "gridcolor": "white",
           "linecolor": "white",
           "ticks": "",
           "title": {
            "standoff": 15
           },
           "zerolinecolor": "white",
           "zerolinewidth": 2
          }
         }
        },
        "title": {
         "text": "Pass rate vs Private uni count per million"
        },
        "width": 800,
        "xaxis": {
         "anchor": "y",
         "domain": [
          0,
          1
         ],
         "title": {
          "text": "private_notprofit_per_million"
         }
        },
        "yaxis": {
         "anchor": "x",
         "domain": [
          0,
          1
         ],
         "title": {
          "text": "PERCENT_3_OR_ABOVE"
         }
        }
       }
      }
     },
     "metadata": {},
     "output_type": "display_data"
    }
   ],
   "source": [
    "fig = px.scatter(data_frame=ap_overall_statelevel,x='private_notprofit_per_million', y='PERCENT_3_OR_ABOVE',trendline='ols',trendline_color_override='darkblue',width=800, height=600,color='PERCENT_3_OR_ABOVE',\n",
    "                 title='Pass rate vs Private uni count per million')\n",
    "fig.show()\n",
    "with open('data/state_by_state_pickled/AP_pass_rate_by_states_vs_private_uni_count.pkl', 'wb') as f:\n",
    "    pickle.dump(fig, f)"
   ]
  },
  {
   "cell_type": "code",
   "execution_count": 361,
   "metadata": {},
   "outputs": [],
   "source": [
    "from sklearn.model_selection import train_test_split\n",
    "training, testing = train_test_split(ap_overall_statelevel, test_size = 0.1, random_state = 216)"
   ]
  },
  {
   "cell_type": "code",
   "execution_count": 362,
   "metadata": {},
   "outputs": [],
   "source": [
    "import statsmodels.api as sm\n",
    "import statsmodels.formula.api as smf"
   ]
  },
  {
   "cell_type": "code",
   "execution_count": 363,
   "metadata": {},
   "outputs": [],
   "source": [
    "full_model = smf.ols('PERCENT_3_OR_ABOVE ~ Per_capita_income + R1R2_per_million + public_per_million + private_notprofit_per_million + Population', data=training).fit()\n",
    "pci_model = smf.ols('PERCENT_3_OR_ABOVE ~ Per_capita_income', data =training).fit()\n",
    "r1r2_model = smf.ols('PERCENT_3_OR_ABOVE ~ R1R2_per_million', data = training).fit()\n",
    "unimetric_model = smf.ols('PERCENT_3_OR_ABOVE ~ R1R2_per_million + public_per_million + private_notprofit_per_million', data = training).fit()\n",
    "nonuni_model = smf.ols('PERCENT_3_OR_ABOVE ~ Per_capita_income + Population', data=training).fit()"
   ]
  },
  {
   "cell_type": "code",
   "execution_count": 364,
   "metadata": {},
   "outputs": [
    {
     "data": {
      "text/html": [
       "<table class=\"simpletable\">\n",
       "<caption>OLS Regression Results</caption>\n",
       "<tr>\n",
       "  <th>Dep. Variable:</th>    <td>PERCENT_3_OR_ABOVE</td> <th>  R-squared:         </th> <td>   0.237</td>\n",
       "</tr>\n",
       "<tr>\n",
       "  <th>Model:</th>                    <td>OLS</td>        <th>  Adj. R-squared:    </th> <td>   0.215</td>\n",
       "</tr>\n",
       "<tr>\n",
       "  <th>Method:</th>              <td>Least Squares</td>   <th>  F-statistic:       </th> <td>   10.83</td>\n",
       "</tr>\n",
       "<tr>\n",
       "  <th>Date:</th>              <td>Wed, 27 Nov 2024</td>  <th>  Prob (F-statistic):</th> <td>4.42e-09</td>\n",
       "</tr>\n",
       "<tr>\n",
       "  <th>Time:</th>                  <td>11:05:08</td>      <th>  Log-Likelihood:    </th> <td> -630.14</td>\n",
       "</tr>\n",
       "<tr>\n",
       "  <th>No. Observations:</th>       <td>   180</td>       <th>  AIC:               </th> <td>   1272.</td>\n",
       "</tr>\n",
       "<tr>\n",
       "  <th>Df Residuals:</th>           <td>   174</td>       <th>  BIC:               </th> <td>   1291.</td>\n",
       "</tr>\n",
       "<tr>\n",
       "  <th>Df Model:</th>               <td>     5</td>       <th>                     </th>     <td> </td>   \n",
       "</tr>\n",
       "<tr>\n",
       "  <th>Covariance Type:</th>       <td>nonrobust</td>     <th>                     </th>     <td> </td>   \n",
       "</tr>\n",
       "</table>\n",
       "<table class=\"simpletable\">\n",
       "<tr>\n",
       "                <td></td>                   <th>coef</th>     <th>std err</th>      <th>t</th>      <th>P>|t|</th>  <th>[0.025</th>    <th>0.975]</th>  \n",
       "</tr>\n",
       "<tr>\n",
       "  <th>Intercept</th>                     <td>   38.6720</td> <td>    3.368</td> <td>   11.480</td> <td> 0.000</td> <td>   32.024</td> <td>   45.320</td>\n",
       "</tr>\n",
       "<tr>\n",
       "  <th>Per_capita_income</th>             <td>    0.0003</td> <td> 5.37e-05</td> <td>    4.663</td> <td> 0.000</td> <td>    0.000</td> <td>    0.000</td>\n",
       "</tr>\n",
       "<tr>\n",
       "  <th>R1R2_per_million</th>              <td>    2.3227</td> <td>    1.554</td> <td>    1.495</td> <td> 0.137</td> <td>   -0.745</td> <td>    5.390</td>\n",
       "</tr>\n",
       "<tr>\n",
       "  <th>public_per_million</th>            <td>   -0.3588</td> <td>    0.195</td> <td>   -1.836</td> <td> 0.068</td> <td>   -0.745</td> <td>    0.027</td>\n",
       "</tr>\n",
       "<tr>\n",
       "  <th>private_notprofit_per_million</th> <td>    0.8365</td> <td>    0.208</td> <td>    4.027</td> <td> 0.000</td> <td>    0.427</td> <td>    1.246</td>\n",
       "</tr>\n",
       "<tr>\n",
       "  <th>Population</th>                    <td> 3.071e-08</td> <td> 1.01e-07</td> <td>    0.305</td> <td> 0.761</td> <td>-1.68e-07</td> <td> 2.29e-07</td>\n",
       "</tr>\n",
       "</table>\n",
       "<table class=\"simpletable\">\n",
       "<tr>\n",
       "  <th>Omnibus:</th>       <td> 5.563</td> <th>  Durbin-Watson:     </th> <td>   1.749</td>\n",
       "</tr>\n",
       "<tr>\n",
       "  <th>Prob(Omnibus):</th> <td> 0.062</td> <th>  Jarque-Bera (JB):  </th> <td>   4.900</td>\n",
       "</tr>\n",
       "<tr>\n",
       "  <th>Skew:</th>          <td>-0.326</td> <th>  Prob(JB):          </th> <td>  0.0863</td>\n",
       "</tr>\n",
       "<tr>\n",
       "  <th>Kurtosis:</th>      <td> 2.523</td> <th>  Cond. No.          </th> <td>5.16e+07</td>\n",
       "</tr>\n",
       "</table><br/><br/>Notes:<br/>[1] Standard Errors assume that the covariance matrix of the errors is correctly specified.<br/>[2] The condition number is large, 5.16e+07. This might indicate that there are<br/>strong multicollinearity or other numerical problems."
      ],
      "text/latex": [
       "\\begin{center}\n",
       "\\begin{tabular}{lclc}\n",
       "\\toprule\n",
       "\\textbf{Dep. Variable:}                   & PERCENT\\_3\\_OR\\_ABOVE & \\textbf{  R-squared:         } &     0.237   \\\\\n",
       "\\textbf{Model:}                           &          OLS          & \\textbf{  Adj. R-squared:    } &     0.215   \\\\\n",
       "\\textbf{Method:}                          &     Least Squares     & \\textbf{  F-statistic:       } &     10.83   \\\\\n",
       "\\textbf{Date:}                            &    Wed, 27 Nov 2024   & \\textbf{  Prob (F-statistic):} &  4.42e-09   \\\\\n",
       "\\textbf{Time:}                            &        11:05:08       & \\textbf{  Log-Likelihood:    } &   -630.14   \\\\\n",
       "\\textbf{No. Observations:}                &            180        & \\textbf{  AIC:               } &     1272.   \\\\\n",
       "\\textbf{Df Residuals:}                    &            174        & \\textbf{  BIC:               } &     1291.   \\\\\n",
       "\\textbf{Df Model:}                        &              5        & \\textbf{                     } &             \\\\\n",
       "\\textbf{Covariance Type:}                 &       nonrobust       & \\textbf{                     } &             \\\\\n",
       "\\bottomrule\n",
       "\\end{tabular}\n",
       "\\begin{tabular}{lcccccc}\n",
       "                                          & \\textbf{coef} & \\textbf{std err} & \\textbf{t} & \\textbf{P$> |$t$|$} & \\textbf{[0.025} & \\textbf{0.975]}  \\\\\n",
       "\\midrule\n",
       "\\textbf{Intercept}                        &      38.6720  &        3.368     &    11.480  &         0.000        &       32.024    &       45.320     \\\\\n",
       "\\textbf{Per\\_capita\\_income}              &       0.0003  &     5.37e-05     &     4.663  &         0.000        &        0.000    &        0.000     \\\\\n",
       "\\textbf{R1R2\\_per\\_million}               &       2.3227  &        1.554     &     1.495  &         0.137        &       -0.745    &        5.390     \\\\\n",
       "\\textbf{public\\_per\\_million}             &      -0.3588  &        0.195     &    -1.836  &         0.068        &       -0.745    &        0.027     \\\\\n",
       "\\textbf{private\\_notprofit\\_per\\_million} &       0.8365  &        0.208     &     4.027  &         0.000        &        0.427    &        1.246     \\\\\n",
       "\\textbf{Population}                       &    3.071e-08  &     1.01e-07     &     0.305  &         0.761        &    -1.68e-07    &     2.29e-07     \\\\\n",
       "\\bottomrule\n",
       "\\end{tabular}\n",
       "\\begin{tabular}{lclc}\n",
       "\\textbf{Omnibus:}       &  5.563 & \\textbf{  Durbin-Watson:     } &    1.749  \\\\\n",
       "\\textbf{Prob(Omnibus):} &  0.062 & \\textbf{  Jarque-Bera (JB):  } &    4.900  \\\\\n",
       "\\textbf{Skew:}          & -0.326 & \\textbf{  Prob(JB):          } &   0.0863  \\\\\n",
       "\\textbf{Kurtosis:}      &  2.523 & \\textbf{  Cond. No.          } & 5.16e+07  \\\\\n",
       "\\bottomrule\n",
       "\\end{tabular}\n",
       "%\\caption{OLS Regression Results}\n",
       "\\end{center}\n",
       "\n",
       "Notes: \\newline\n",
       " [1] Standard Errors assume that the covariance matrix of the errors is correctly specified. \\newline\n",
       " [2] The condition number is large, 5.16e+07. This might indicate that there are \\newline\n",
       " strong multicollinearity or other numerical problems."
      ],
      "text/plain": [
       "<class 'statsmodels.iolib.summary.Summary'>\n",
       "\"\"\"\n",
       "                            OLS Regression Results                            \n",
       "==============================================================================\n",
       "Dep. Variable:     PERCENT_3_OR_ABOVE   R-squared:                       0.237\n",
       "Model:                            OLS   Adj. R-squared:                  0.215\n",
       "Method:                 Least Squares   F-statistic:                     10.83\n",
       "Date:                Wed, 27 Nov 2024   Prob (F-statistic):           4.42e-09\n",
       "Time:                        11:05:08   Log-Likelihood:                -630.14\n",
       "No. Observations:                 180   AIC:                             1272.\n",
       "Df Residuals:                     174   BIC:                             1291.\n",
       "Df Model:                           5                                         \n",
       "Covariance Type:            nonrobust                                         \n",
       "=================================================================================================\n",
       "                                    coef    std err          t      P>|t|      [0.025      0.975]\n",
       "-------------------------------------------------------------------------------------------------\n",
       "Intercept                        38.6720      3.368     11.480      0.000      32.024      45.320\n",
       "Per_capita_income                 0.0003   5.37e-05      4.663      0.000       0.000       0.000\n",
       "R1R2_per_million                  2.3227      1.554      1.495      0.137      -0.745       5.390\n",
       "public_per_million               -0.3588      0.195     -1.836      0.068      -0.745       0.027\n",
       "private_notprofit_per_million     0.8365      0.208      4.027      0.000       0.427       1.246\n",
       "Population                     3.071e-08   1.01e-07      0.305      0.761   -1.68e-07    2.29e-07\n",
       "==============================================================================\n",
       "Omnibus:                        5.563   Durbin-Watson:                   1.749\n",
       "Prob(Omnibus):                  0.062   Jarque-Bera (JB):                4.900\n",
       "Skew:                          -0.326   Prob(JB):                       0.0863\n",
       "Kurtosis:                       2.523   Cond. No.                     5.16e+07\n",
       "==============================================================================\n",
       "\n",
       "Notes:\n",
       "[1] Standard Errors assume that the covariance matrix of the errors is correctly specified.\n",
       "[2] The condition number is large, 5.16e+07. This might indicate that there are\n",
       "strong multicollinearity or other numerical problems.\n",
       "\"\"\""
      ]
     },
     "execution_count": 364,
     "metadata": {},
     "output_type": "execute_result"
    }
   ],
   "source": [
    "full_model.summary()"
   ]
  },
  {
   "cell_type": "code",
   "execution_count": 365,
   "metadata": {},
   "outputs": [
    {
     "name": "stdout",
     "output_type": "stream",
     "text": [
      "p-value of full compared to non-university metric model: 3.2505521080123143e-05\n",
      "p-value of full compared to university metric model: 2.167572819031781e-05\n"
     ]
    }
   ],
   "source": [
    "f_test_nonuni = full_model.compare_f_test(nonuni_model)\n",
    "f_test_unimetric = full_model.compare_f_test(unimetric_model)\n",
    "print(\"p-value of full compared to non-university metric model:\", f_test_nonuni[1])\n",
    "print(\"p-value of full compared to university metric model:\", f_test_unimetric[1])\n"
   ]
  },
  {
   "cell_type": "markdown",
   "metadata": {},
   "source": [
    "### The p-values are extremely small. So, it seems both university and non-university metrics are essential for good modeling. So, we choose full model as our final model and use it on the testing data."
   ]
  },
  {
   "cell_type": "code",
   "execution_count": 366,
   "metadata": {},
   "outputs": [],
   "source": [
    "predictions = full_model.predict(testing)  # Compute the predictions on the testing data"
   ]
  },
  {
   "cell_type": "code",
   "execution_count": 381,
   "metadata": {},
   "outputs": [
    {
     "name": "stdout",
     "output_type": "stream",
     "text": [
      "root mean squared error is:  9.615816084229623\n"
     ]
    }
   ],
   "source": [
    "from statsmodels.tools.eval_measures import rmse\n",
    "\n",
    "rms_error = rmse(testing['PERCENT_3_OR_ABOVE'], predictions)\n",
    "print('root mean squared error is: ',rms_error)"
   ]
  },
  {
   "cell_type": "code",
   "execution_count": 378,
   "metadata": {},
   "outputs": [],
   "source": [
    "avgs= np.mean(testing['PERCENT_3_OR_ABOVE'])*np.ones(len(testing.index))"
   ]
  },
  {
   "cell_type": "code",
   "execution_count": 379,
   "metadata": {},
   "outputs": [
    {
     "data": {
      "text/plain": [
       "np.float64(58.04488102892551)"
      ]
     },
     "execution_count": 379,
     "metadata": {},
     "output_type": "execute_result"
    }
   ],
   "source": [
    "np.mean(predictions)"
   ]
  },
  {
   "cell_type": "code",
   "execution_count": 380,
   "metadata": {},
   "outputs": [
    {
     "data": {
      "text/plain": [
       "np.float64(10.881659865054784)"
      ]
     },
     "execution_count": 380,
     "metadata": {},
     "output_type": "execute_result"
    }
   ],
   "source": [
    "rmse(avgs,testing['PERCENT_3_OR_ABOVE'])"
   ]
  },
  {
   "cell_type": "code",
   "execution_count": null,
   "metadata": {},
   "outputs": [],
   "source": []
  }
 ],
 "metadata": {
  "kernelspec": {
   "display_name": "erdos_fall_2024",
   "language": "python",
   "name": "python3"
  },
  "language_info": {
   "codemirror_mode": {
    "name": "ipython",
    "version": 3
   },
   "file_extension": ".py",
   "mimetype": "text/x-python",
   "name": "python",
   "nbconvert_exporter": "python",
   "pygments_lexer": "ipython3",
   "version": "3.12.7"
  }
 },
 "nbformat": 4,
 "nbformat_minor": 2
}
