{
 "cells": [
  {
   "cell_type": "markdown",
   "metadata": {},
   "source": [
    "# HTML Choropleth Generator\n",
    "\n",
    "Displaying Choropleth maps in a Streamlit app can get complicated when considering whether geo data is able to be hashed, cached, and interacted with. Loading times can get exorbitant when displaying many points on a map, for instance. For that reason, we have chosen to pre-compute all of the maps for each feature choice, and save them as html assets that the Streamlit app can load and display based on user interactions. This notebook accomplishes this."
   ]
  },
  {
   "cell_type": "code",
   "execution_count": 1,
   "metadata": {},
   "outputs": [
    {
     "name": "stderr",
     "output_type": "stream",
     "text": [
      "2024-11-27 16:31:54.551 WARNING streamlit.runtime.scriptrunner_utils.script_run_context: Thread 'MainThread': missing ScriptRunContext! This warning can be ignored when running in bare mode.\n"
     ]
    }
   ],
   "source": [
    "import pandas as pd\n",
    "import numpy as np\n",
    "import plotly.express as px\n",
    "import plotly.graph_objects as go\n",
    "import math\n",
    "import streamlit as st\n",
    "from streamlit_folium import st_folium, folium_static\n",
    "from pathlib import Path\n",
    "import geopandas as gpd\n",
    "import folium\n",
    "from shapely import wkt\n",
    "import pickle\n",
    "here_prefix = ''\n",
    "data_prefix = here_prefix + '../data/'\n",
    "html_prefix = data_prefix + 'html/'\n",
    "\n",
    "states_of_interest = ['GA', 'WI', 'MA', 'NC']\n",
    "MA_neighbors = ['MA', 'NY', 'CT', 'NH', 'RI', 'ME', 'VT', 'NH']\n",
    "WI_neighbors = ['WI', 'MI', 'MN', 'IA', 'IL']\n",
    "GA_neighbors = ['GA', 'NC', 'SC', 'FL', 'AL', 'TN']\n",
    "\n",
    "features_dict = {\n",
    "    'AP Pass Rate (3 or higher)': 'PassRate',\n",
    "    'Per capita Personal Income': 'Income',\n",
    "    'Population': 'Population'\n",
    "}\n",
    "national_features_dict = {\n",
    "    'AP Pass Rate (3 or higher)': 'PassRate',\n",
    "    'AP Score Mean (out of 5)': 'Mean',\n",
    "    'Total No. AP Exams': 'Total',\n",
    "    'Offer 5+ Exams (%)': '5+Exams%',\n",
    "    'Asian Participation (%)': '%Asian',\n",
    "    'Hispanic or Latino Participation (%)': '%HispanicOrLatino',\n",
    "    'White Participation (%)': '%White',\n",
    "    'Black or African American Participation (%)': '%BlackOrAfricanAmerican',\n",
    "    'Native American or Alaska Native Participation (%)': '%NativeAmericanOrAlaskaNative',\n",
    "    'Native Hawaiian or other Pacific Islander Participation (%)': '%NativeHawaiianOrOtherPacificIslander',\n",
    "    'Two or More Races Participation (%)': '%TwoOrMoreRaces',\n",
    "}"
   ]
  },
  {
   "cell_type": "markdown",
   "metadata": {},
   "source": [
    "## Loaders and Folium Methods"
   ]
  },
  {
   "cell_type": "code",
   "execution_count": 2,
   "metadata": {},
   "outputs": [],
   "source": [
    "def load_national_choropleth_data():\n",
    "    return pd.read_csv(here_prefix + \"US_States_Map_Data.csv\")\n",
    "\n",
    "def reconstruct_geo(pre_geo_data):\n",
    "    pre_geo_data['geometry'] = pre_geo_data['geometry'].apply(wkt.loads)\n",
    "    geo_data = gpd.GeoDataFrame(pre_geo_data, geometry = 'geometry')\n",
    "    geo_data.set_crs(epsg = 4326, inplace = True)\n",
    "    return geo_data\n",
    "\n",
    "def load_county_choropleth_data():\n",
    "    counties_map_data = pd.read_csv(here_prefix + 'States_Counties_Map_Data.csv')\n",
    "    counties_map_data['Year'] = counties_map_data['Year'].astype(str)\n",
    "    return counties_map_data[counties_map_data['Year'] == '2022']\n",
    "  \n",
    "def load_universities_data():\n",
    "    universities_data = pd.read_csv(data_prefix + 'carnegie_with_location.csv')[['name', 'stabbr', 'latitude', 'longitude']]\n",
    "    MA_nearby_universities = universities_data[universities_data['stabbr'].isin(MA_neighbors)]\n",
    "    WI_nearby_universities = universities_data[universities_data['stabbr'].isin(WI_neighbors)]\n",
    "    GA_nearby_universities = universities_data[universities_data['stabbr'].isin(GA_neighbors)]\n",
    "    return universities_data, MA_nearby_universities, WI_nearby_universities, GA_nearby_universities\n",
    "\n",
    "def get_state_summaries():\n",
    "    MA_stats = pd.read_csv(here_prefix + 'MA_summary_stats.csv')\n",
    "    WI_stats = pd.read_csv(here_prefix + 'WI_summary_stats.csv')\n",
    "    GA_stats = pd.read_csv(here_prefix + 'GA_summary_stats.csv')\n",
    "    return MA_stats, WI_stats, GA_stats\n",
    "\n",
    "def get_state_AP_tables():\n",
    "    MA_AP_table = pd.read_csv(here_prefix + 'MA_AP_table.csv')\n",
    "    WI_AP_table = pd.read_csv(here_prefix + 'WI_AP_table.csv')\n",
    "    GA_AP_table = pd.read_csv(here_prefix + 'GA_AP_table.csv')\n",
    "    return MA_AP_table, WI_AP_table, GA_AP_table\n",
    "\n",
    "def choropleth(geo_data, \n",
    "               selected_feature, \n",
    "               university_data, \n",
    "               features_dict,\n",
    "               title,\n",
    "               fields,\n",
    "               aliases,\n",
    "               center,\n",
    "               zoom,\n",
    "               save_path = ''):\n",
    "    # Define the choropleth layer based on the selected feature and year\n",
    "    choropleth_layer = folium.Choropleth(\n",
    "        geo_data = geo_data,\n",
    "        name = f'{title} choropleth',\n",
    "        data = geo_data,\n",
    "        columns = ['GEOID', features_dict[selected_feature]],\n",
    "        key_on = 'feature.properties.GEOID',\n",
    "        fill_color = 'YlOrRd',\n",
    "        nan_fill_color = 'lightgrey',\n",
    "        fill_opacity = 0.7,\n",
    "        line_opacity = 0.2,\n",
    "        legend_name = f'{selected_feature} {title}'\n",
    "    )\n",
    "\n",
    "    # Define tooltips with certain areas\n",
    "    area_tooltips = folium.GeoJson(\n",
    "        geo_data,\n",
    "        name = f'{title} tooltips',\n",
    "        control = False,\n",
    "        style_function = lambda x: {'fillColor': 'transparent', 'color': 'transparent'},\n",
    "        tooltip = folium.features.GeoJsonTooltip(\n",
    "            fields = fields,\n",
    "            aliases = aliases,\n",
    "            localize = True\n",
    "        )\n",
    "    )\n",
    "\n",
    "    if university_data is not None:\n",
    "        # Add a new layer for university markers\n",
    "        university_layer = folium.FeatureGroup(name = f'{title} universities')\n",
    "        # Add markers for each university in the DataFrame\n",
    "        for _, row in university_data.iterrows():\n",
    "            folium.Circle(\n",
    "                radius = 300,\n",
    "                fill = False,\n",
    "                color = \"black\",\n",
    "                fill_color = \"orange\",\n",
    "                opacity = 1,\n",
    "                fill_opacity = 0.2,\n",
    "                weight = 2,\n",
    "                location = [row['latitude'], row['longitude']],\n",
    "                popup = folium.Popup(f\"{row['name']}\", max_width = 300),\n",
    "                tooltip = row['name']\n",
    "            ).add_to(university_layer)\n",
    "\n",
    "    # Map center coordinates\n",
    "    m = folium.Map(location = center, zoom_start = zoom)\n",
    "    # Add choropleth layer to the map\n",
    "    choropleth_layer.add_to(m)\n",
    "    # Add the area tooltips to the map\n",
    "    area_tooltips.add_to(m)\n",
    "    # Add the university layer to the map\n",
    "    university_layer.add_to(m)\n",
    "    # Add a layer control to toggle layers\n",
    "    folium.LayerControl().add_to(m)\n",
    "    # Save the map to HTML\n",
    "    m.save(f'{html_prefix}{save_path}')"
   ]
  },
  {
   "cell_type": "markdown",
   "metadata": {},
   "source": [
    "## Get all Relevant Data for Maps"
   ]
  },
  {
   "cell_type": "code",
   "execution_count": 3,
   "metadata": {},
   "outputs": [],
   "source": [
    "pre_national_geo_data = load_national_choropleth_data()\n",
    "pre_county_geo_data = load_county_choropleth_data()\n",
    "universities_data, MA_nearby_universities, WI_nearby_universities, GA_nearby_universities = load_universities_data()\n",
    "MA_stats, WI_stats, GA_stats = get_state_summaries()\n",
    "MA_AP_table, WI_AP_table, GA_AP_table = get_state_AP_tables()\n",
    "national_geo_data = reconstruct_geo(pre_national_geo_data)\n",
    "county_geo_data = reconstruct_geo(pre_county_geo_data)\n",
    "MA_geo_data = county_geo_data[county_geo_data['State_Abbreviation'] == 'MA']\n",
    "WI_geo_data = county_geo_data[county_geo_data['State_Abbreviation'] == 'WI']\n",
    "GA_geo_data = county_geo_data[county_geo_data['State_Abbreviation'] == 'GA']"
   ]
  },
  {
   "cell_type": "markdown",
   "metadata": {},
   "source": [
    "## National Choropleths"
   ]
  },
  {
   "cell_type": "code",
   "execution_count": 9,
   "metadata": {},
   "outputs": [],
   "source": [
    "for key, value in national_features_dict.items():\n",
    "    choropleth(\n",
    "        geo_data = national_geo_data, \n",
    "        selected_feature = key, \n",
    "        university_data = universities_data, \n",
    "        features_dict = national_features_dict,\n",
    "        title = 'All States AP Performance and Demographics 2022',\n",
    "        fields = ['State', 'PassRate', 'Mean', 'Total', '5+Exams%', '%Asian', '%HispanicOrLatino', '%White', '%BlackOrAfricanAmerican', '%NativeAmericanOrAlaskaNative', '%NativeHawaiianOrOtherPacificIslander', '%TwoOrMoreRaces'],\n",
    "        aliases = ['State Name:', 'Pass Rate (%)', 'Mean AP Score', 'Total No. AP Exams', 'Offer 5+ Exams (%)', '% Asian:', '% Hispanic or Latino:', '% White:', '% Black or African American:', '% Native American or Alaska Native:', '% Native Hawaiian or other Pacific Islander:', '% Two or More Races:'],\n",
    "        center = [40, -96],\n",
    "        zoom = 4,\n",
    "        save_path = f'National {key} Choropleth.html'\n",
    "    ) "
   ]
  },
  {
   "cell_type": "markdown",
   "metadata": {},
   "source": [
    "## County Choropleths"
   ]
  },
  {
   "cell_type": "code",
   "execution_count": 5,
   "metadata": {},
   "outputs": [],
   "source": [
    "for key, value in features_dict.items():\n",
    "    choropleth(\n",
    "        geo_data = county_geo_data, \n",
    "        selected_feature = key, \n",
    "        university_data = universities_data, \n",
    "        features_dict = features_dict,\n",
    "        title = 'States of Interest by County 2022',\n",
    "        fields = ['County_State', 'PassRate', 'Income', 'Population', 'Year'],\n",
    "        aliases = ['County:', 'AP Pass Rate (%):', 'Per-capita Income: $', 'Population:', 'Year:'],\n",
    "        center = [39.5, -82],\n",
    "        zoom = 5,\n",
    "        save_path = f'County {key} Choropleth.html'\n",
    "    ) "
   ]
  },
  {
   "cell_type": "markdown",
   "metadata": {},
   "source": [
    "## MA Choropleths"
   ]
  },
  {
   "cell_type": "code",
   "execution_count": 6,
   "metadata": {},
   "outputs": [],
   "source": [
    "for key, value in features_dict.items():\n",
    "    choropleth(\n",
    "        geo_data = MA_geo_data, \n",
    "        selected_feature = key, \n",
    "        university_data = MA_nearby_universities, \n",
    "        features_dict = features_dict,\n",
    "        title = 'Massachusetts by County 2022',\n",
    "        fields = ['County_State', 'PassRate', 'Income', 'Population', 'Year'],\n",
    "        aliases = ['County:', 'AP Pass Rate (%):', 'Per-capita Income: $', 'Population:', 'Year:'],\n",
    "        center = [42.4, -71.7],\n",
    "        zoom = 8,\n",
    "        save_path = f'Massachusetts {key} Choropleth.html'\n",
    "    ) "
   ]
  },
  {
   "cell_type": "markdown",
   "metadata": {},
   "source": [
    "## WI Choropleths"
   ]
  },
  {
   "cell_type": "code",
   "execution_count": 7,
   "metadata": {},
   "outputs": [],
   "source": [
    "for key, value in features_dict.items():\n",
    "    choropleth(\n",
    "        geo_data = WI_geo_data, \n",
    "        selected_feature = key, \n",
    "        university_data = WI_nearby_universities, \n",
    "        features_dict = features_dict,\n",
    "        title = 'Wisconsin by County 2022',\n",
    "        fields = ['County_State', 'PassRate', 'Income', 'Population', 'Year'],\n",
    "        aliases = ['County:', 'AP Pass Rate (%):', 'Per-capita Income: $', 'Population:', 'Year:'],\n",
    "        center = [44.5, -88.8],\n",
    "        zoom = 6,\n",
    "        save_path = f'Wisconsin {key} Choropleth.html'\n",
    "    ) "
   ]
  },
  {
   "cell_type": "markdown",
   "metadata": {},
   "source": [
    "## GA Choropleths"
   ]
  },
  {
   "cell_type": "code",
   "execution_count": 8,
   "metadata": {},
   "outputs": [],
   "source": [
    "for key, value in features_dict.items():\n",
    "    choropleth(\n",
    "        geo_data = GA_geo_data, \n",
    "        selected_feature = key, \n",
    "        university_data = GA_nearby_universities, \n",
    "        features_dict = features_dict,\n",
    "        title = 'Georgia by County 2022',\n",
    "        fields = ['County_State', 'PassRate', 'Income', 'Population', 'Year'],\n",
    "        aliases = ['County:', 'AP Pass Rate (%):', 'Per-capita Income: $', 'Population:', 'Year:'],\n",
    "        center = [32.2, -82.9],\n",
    "        zoom = 8,\n",
    "        save_path = f'Georgia {key} Choropleth.html'\n",
    "    ) "
   ]
  },
  {
   "cell_type": "code",
   "execution_count": null,
   "metadata": {},
   "outputs": [],
   "source": []
  }
 ],
 "metadata": {
  "kernelspec": {
   "display_name": "erdos_fall_2024",
   "language": "python",
   "name": "python3"
  },
  "language_info": {
   "codemirror_mode": {
    "name": "ipython",
    "version": 3
   },
   "file_extension": ".py",
   "mimetype": "text/x-python",
   "name": "python",
   "nbconvert_exporter": "python",
   "pygments_lexer": "ipython3",
   "version": "3.12.5"
  }
 },
 "nbformat": 4,
 "nbformat_minor": 2
}
