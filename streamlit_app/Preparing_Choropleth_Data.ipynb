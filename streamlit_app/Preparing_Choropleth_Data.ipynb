{
 "cells": [
  {
   "cell_type": "code",
   "execution_count": 1,
   "metadata": {},
   "outputs": [],
   "source": [
    "import os\n",
    "import pandas as pd\n",
    "import numpy as np\n",
    "import math\n",
    "from pathlib import Path\n",
    "import geopandas as gpd\n",
    "import sys\n",
    "sys.path.append(\"..\") # Adds higher directory to python modules path.\n",
    "from data_loaders import *\n",
    "import pickle\n",
    "import plotly.graph_objects as go\n",
    "from scipy.stats import gaussian_kde\n",
    "prefix = '../'\n",
    "\n",
    "def round_if_float(input, rounding = 1):\n",
    "    # try integer\n",
    "    try:\n",
    "        int_value = int(input)\n",
    "        if str(int_value) == str(input).strip():\n",
    "            return int_value\n",
    "    except (ValueError, TypeError):\n",
    "        pass\n",
    "    # alternatively try float\n",
    "    try:\n",
    "        return round(float(input), rounding)\n",
    "    except (ValueError, TypeError):\n",
    "        pass\n",
    "    return input"
   ]
  },
  {
   "cell_type": "markdown",
   "metadata": {},
   "source": [
    "# Preparing National Choropleth Map Data"
   ]
  },
  {
   "cell_type": "markdown",
   "metadata": {},
   "source": [
    "## Get GEOIDs"
   ]
  },
  {
   "cell_type": "code",
   "execution_count": 2,
   "metadata": {},
   "outputs": [
    {
     "name": "stderr",
     "output_type": "stream",
     "text": [
      "/opt/homebrew/Caskroom/miniforge/base/envs/erdos_fall_2024/lib/python3.12/site-packages/geopandas/geodataframe.py:1819: SettingWithCopyWarning: \n",
      "A value is trying to be set on a copy of a slice from a DataFrame.\n",
      "Try using .loc[row_indexer,col_indexer] = value instead\n",
      "\n",
      "See the caveats in the documentation: https://pandas.pydata.org/pandas-docs/stable/user_guide/indexing.html#returning-a-view-versus-a-copy\n",
      "  super().__setitem__(key, value)\n",
      "/opt/homebrew/Caskroom/miniforge/base/envs/erdos_fall_2024/lib/python3.12/site-packages/geopandas/geodataframe.py:1819: SettingWithCopyWarning: \n",
      "A value is trying to be set on a copy of a slice from a DataFrame.\n",
      "Try using .loc[row_indexer,col_indexer] = value instead\n",
      "\n",
      "See the caveats in the documentation: https://pandas.pydata.org/pandas-docs/stable/user_guide/indexing.html#returning-a-view-versus-a-copy\n",
      "  super().__setitem__(key, value)\n",
      "/var/folders/jk/npp70g_j2fbg8x9prxslv1zw6_ptrw/T/ipykernel_12011/739237553.py:16: SettingWithCopyWarning: \n",
      "A value is trying to be set on a copy of a slice from a DataFrame\n",
      "\n",
      "See the caveats in the documentation: https://pandas.pydata.org/pandas-docs/stable/user_guide/indexing.html#returning-a-view-versus-a-copy\n",
      "  gdf_states.rename(columns = {'NAME' : 'State'}, inplace = True)\n"
     ]
    },
    {
     "data": {
      "text/html": [
       "<div>\n",
       "<style scoped>\n",
       "    .dataframe tbody tr th:only-of-type {\n",
       "        vertical-align: middle;\n",
       "    }\n",
       "\n",
       "    .dataframe tbody tr th {\n",
       "        vertical-align: top;\n",
       "    }\n",
       "\n",
       "    .dataframe thead th {\n",
       "        text-align: right;\n",
       "    }\n",
       "</style>\n",
       "<table border=\"1\" class=\"dataframe\">\n",
       "  <thead>\n",
       "    <tr style=\"text-align: right;\">\n",
       "      <th></th>\n",
       "      <th>State</th>\n",
       "      <th>State_Abbreviation</th>\n",
       "      <th>GEOID</th>\n",
       "      <th>geometry</th>\n",
       "    </tr>\n",
       "  </thead>\n",
       "  <tbody>\n",
       "    <tr>\n",
       "      <th>0</th>\n",
       "      <td>Texas</td>\n",
       "      <td>TX</td>\n",
       "      <td>48</td>\n",
       "      <td>POLYGON ((-106.62344 31.91403, -106.63011 31.9...</td>\n",
       "    </tr>\n",
       "    <tr>\n",
       "      <th>1</th>\n",
       "      <td>California</td>\n",
       "      <td>CA</td>\n",
       "      <td>06</td>\n",
       "      <td>MULTIPOLYGON (((-118.59397 33.4672, -118.48478...</td>\n",
       "    </tr>\n",
       "    <tr>\n",
       "      <th>2</th>\n",
       "      <td>Kentucky</td>\n",
       "      <td>KY</td>\n",
       "      <td>21</td>\n",
       "      <td>POLYGON ((-89.54443 36.57451, -89.47935 36.566...</td>\n",
       "    </tr>\n",
       "    <tr>\n",
       "      <th>3</th>\n",
       "      <td>Georgia</td>\n",
       "      <td>GA</td>\n",
       "      <td>13</td>\n",
       "      <td>POLYGON ((-85.60516 34.98468, -85.47434 34.983...</td>\n",
       "    </tr>\n",
       "    <tr>\n",
       "      <th>4</th>\n",
       "      <td>Wisconsin</td>\n",
       "      <td>WI</td>\n",
       "      <td>55</td>\n",
       "      <td>MULTIPOLYGON (((-86.93428 45.42115, -86.83575 ...</td>\n",
       "    </tr>\n",
       "  </tbody>\n",
       "</table>\n",
       "</div>"
      ],
      "text/plain": [
       "        State State_Abbreviation GEOID  \\\n",
       "0       Texas                 TX    48   \n",
       "1  California                 CA    06   \n",
       "2    Kentucky                 KY    21   \n",
       "3     Georgia                 GA    13   \n",
       "4   Wisconsin                 WI    55   \n",
       "\n",
       "                                            geometry  \n",
       "0  POLYGON ((-106.62344 31.91403, -106.63011 31.9...  \n",
       "1  MULTIPOLYGON (((-118.59397 33.4672, -118.48478...  \n",
       "2  POLYGON ((-89.54443 36.57451, -89.47935 36.566...  \n",
       "3  POLYGON ((-85.60516 34.98468, -85.47434 34.983...  \n",
       "4  MULTIPOLYGON (((-86.93428 45.42115, -86.83575 ...  "
      ]
     },
     "execution_count": 2,
     "metadata": {},
     "output_type": "execute_result"
    }
   ],
   "source": [
    "# Load State Abbreviations to FIP Codes\n",
    "states_to_fip_df = pd.read_csv('../data/state_abbreviations_and_fip_codes.csv')\n",
    "states_to_fip_dict = dict(zip(states_to_fip_df['State_Abbreviation'], states_to_fip_df['FIP_Code']))\n",
    "state_fips_of_interest = list(states_to_fip_dict.values())\n",
    "fips_to_state_dict = { code: abbr for abbr, code in states_to_fip_dict.items() }\n",
    "# I manually removed Puerto Rico and Virgin Islands\n",
    "\n",
    "# Load and filter the shapefile\n",
    "# gdf = gpd.read_file('../data/state_shapes_5m/cb_2023_us_state_5m.shp')\n",
    "gdf = gpd.read_file('../data/state_shapes_20m/cb_2023_us_state_20m.shp')\n",
    "gdf['STATEFP'] = gdf['STATEFP'].astype(int)\n",
    "gdf_states = gdf[gdf['STATEFP'].isin(state_fips_of_interest)]\n",
    "gdf_states.reset_index(inplace = True)\n",
    "gdf_states['State_Abbreviation'] = gdf_states['STATEFP'].map(fips_to_state_dict)\n",
    "gdf_states['GEOID'] = gdf_states['GEOID'].astype(str)\n",
    "gdf_states.rename(columns = {'NAME' : 'State'}, inplace = True)\n",
    "gdf_states = gdf_states[['State', 'State_Abbreviation', 'GEOID', 'geometry']]\n",
    "\n",
    "gdf_states.head()"
   ]
  },
  {
   "cell_type": "markdown",
   "metadata": {},
   "source": [
    "## Get AP Performance, Availability, and Participation Data"
   ]
  },
  {
   "cell_type": "code",
   "execution_count": 3,
   "metadata": {},
   "outputs": [
    {
     "name": "stdout",
     "output_type": "stream",
     "text": [
      "AP Outcomes\n",
      "Index(['State', 'stabbr', 'PassRate', 'Total', 'Mean', 'Score 5', 'Score 4',\n",
      "       'Score 3', 'Score 2', 'Score 1'],\n",
      "      dtype='object')\n",
      " \n",
      "AP Participation\n",
      "Index(['State', '% Asian', '% Hispanic/Latino', '% White',\n",
      "       '% Black or African American', '% Native American or Alaska Native',\n",
      "       '% Native Hawaiian or other Pacific Islander', '% Two or More Races',\n",
      "       '% No Response', '# Asian', '# Hispanic/Latino', '# White',\n",
      "       '# Black or African American', '# Native American or Alaska Native',\n",
      "       '# Native Hawaiian or other Pacific Islander', '# Two or More Races',\n",
      "       '# No Response'],\n",
      "      dtype='object', name=0)\n",
      " \n",
      "AP Availability\n",
      "Index(['State', '5+ Exams #', '5+ Exams %', '5+ Exams Public Offering %',\n",
      "       '5+ Exams % Asian', '5+ Exams % Hispanic/Latino', '5+ Exams % White',\n",
      "       '5+ Exams % Black or African American',\n",
      "       '5+ Exams % Native American or Alaska Native',\n",
      "       '5+ Exams % Native Hawaiian or other Pacific Islander',\n",
      "       '5+ Exams % 2+ races', '10+ Exams #', '10+ Exams %',\n",
      "       '10+ Exams Public Offering %', '10+ Exams % Asian',\n",
      "       '10+ Exams % Hispanic/Latino', '10+ Exams % White',\n",
      "       '10+ Exams % Black or African American',\n",
      "       '10+ Exams % Native American or Alaska Native',\n",
      "       '10+ Exams % Native Hawaiian or other Pacific Islander',\n",
      "       '10+ Exams % 2+ races', '1+ STEM Exams #', '1+ STEM Exams %',\n",
      "       '1+ STEM Exams Public Offering %', '1+ STEM Exams % Asian',\n",
      "       '1+ STEM Exams % Hispanic/Latino', '1+ STEM Exams % White',\n",
      "       '1+ STEM Exams % Black or African American',\n",
      "       '1+ STEM Exams % Native American or Alaska Native',\n",
      "       '1+ STEM Exams % Native Hawaiian or other Pacific Islander',\n",
      "       '1+ STEM Exams % 2+ races'],\n",
      "      dtype='object', name=0)\n"
     ]
    },
    {
     "name": "stderr",
     "output_type": "stream",
     "text": [
      "/var/folders/jk/npp70g_j2fbg8x9prxslv1zw6_ptrw/T/ipykernel_12011/1671719238.py:18: FutureWarning: Downcasting behavior in `replace` is deprecated and will be removed in a future version. To retain the old behavior, explicitly call `result.infer_objects(copy=False)`. To opt-in to the future behavior, set `pd.set_option('future.no_silent_downcasting', True)`\n",
      "  participation.replace('>99%', '0.99', inplace = True)\n"
     ]
    }
   ],
   "source": [
    "states_abbrv = pd.read_csv(prefix + 'data/State Abbreviation.csv')\n",
    "\n",
    "# AP Outcomes\n",
    "AP_outcomes = gimmeOutcomes(year = 2022, prefix = prefix)\n",
    "AP_outcomes = AP_outcomes[AP_outcomes['Race'] == 'Overall']\n",
    "AP_outcomes.reset_index(inplace = True)\n",
    "AP_outcomes['PassRate'] = (AP_outcomes['Score 3'] + AP_outcomes['Score 4'] + AP_outcomes['Score 5']) / AP_outcomes['Total'] * 100\n",
    "AP_outcomes = AP_outcomes[['State', 'stabbr', 'PassRate', 'Total', 'Mean', 'Score 5', 'Score 4', 'Score 3', 'Score 2', 'Score 1']]\n",
    "\n",
    "# AP Participation\n",
    "participation = pd.read_excel(prefix + 'data/AP_data_fixed-participation.xlsx',sheet_name = '2022').transpose()\n",
    "participation.reset_index(inplace=True)\n",
    "participation.rename(columns={'index': 'State'}, inplace = True)\n",
    "participation['i'] = [i for i in range(0, len(participation))]\n",
    "participation.set_index('i', inplace = True)\n",
    "participation.columns = participation.iloc[0]\n",
    "participation = participation[1:]\n",
    "participation.replace('>99%', '0.99', inplace = True)\n",
    "participation.replace('**', None, inplace = True)\n",
    "participation['% Asian'] = participation['% Asian'].astype(float)\n",
    "participation['% Hispanic/Latino'] = participation['% Hispanic/Latino'].astype(float)\n",
    "participation['% White'] = participation['% White'].astype(float)\n",
    "participation['% Black or African American'] = participation['% Black or African American'].astype(float)\n",
    "participation['% Native American or Alaska Native'] = participation['% Native American or Alaska Native'].astype(float)\n",
    "participation['% Native Hawaiian or other Pacific Islander'] = participation['% Native Hawaiian or other Pacific Islander'].astype(float)\n",
    "participation['% Two or More Races'] = participation['% Two or More Races'].astype(float)\n",
    "participation['% Asian'] *= 100\n",
    "participation['% Hispanic/Latino'] *= 100\n",
    "participation['% White'] *= 100\n",
    "participation['% Black or African American'] *= 100\n",
    "participation['% Native American or Alaska Native'] *= 100\n",
    "participation['% Native Hawaiian or other Pacific Islander'] *= 100\n",
    "participation['% Two or More Races'] *= 100\n",
    "\n",
    "AP_participation = participation\n",
    "\n",
    "# AP Availability\n",
    "availability = pd.read_excel(prefix + 'data/AP_data_fixed-availability.xlsx', sheet_name = '2022').transpose()\n",
    "availability.reset_index(inplace=True)\n",
    "availability.rename(columns={'index': 'State'}, inplace = True)\n",
    "availability['i'] = [i for i in range(0, len(availability))]\n",
    "availability.set_index('i', inplace = True)\n",
    "availability.columns = availability.iloc[0]\n",
    "availability = availability[1:]\n",
    "AP_availability = availability\n",
    "\n",
    "print('AP Outcomes')\n",
    "print(AP_outcomes.columns)\n",
    "print(' ')\n",
    "print('AP Participation')\n",
    "print(AP_participation.columns)\n",
    "print(' ')\n",
    "print('AP Availability')\n",
    "print(AP_availability.columns)\n"
   ]
  },
  {
   "cell_type": "code",
   "execution_count": 4,
   "metadata": {},
   "outputs": [],
   "source": [
    "# Add in any columns of interest across these AP dataframes\n",
    "skeleton = gdf_states.copy()\n",
    "skeleton['PassRate'] = None\n",
    "skeleton['Mean'] = None\n",
    "skeleton['Total'] = None\n",
    "skeleton['5+Exams%'] = None\n",
    "skeleton['%Asian'] = None\n",
    "skeleton['%HispanicOrLatino'] = None\n",
    "skeleton['%White'] = None\n",
    "skeleton['%BlackOrAfricanAmerican'] = None\n",
    "skeleton['%NativeAmericanOrAlaskaNative'] = None\n",
    "skeleton['%NativeHawaiianOrOtherPacificIslander'] = None\n",
    "skeleton['%TwoOrMoreRaces'] = None"
   ]
  },
  {
   "cell_type": "markdown",
   "metadata": {},
   "source": [
    "### Merge AP Outcome Data"
   ]
  },
  {
   "cell_type": "code",
   "execution_count": 5,
   "metadata": {},
   "outputs": [
    {
     "name": "stderr",
     "output_type": "stream",
     "text": [
      "/var/folders/jk/npp70g_j2fbg8x9prxslv1zw6_ptrw/T/ipykernel_12011/2967106224.py:8: FutureWarning: Downcasting object dtype arrays on .fillna, .ffill, .bfill is deprecated and will change in a future version. Call result.infer_objects(copy=False) instead. To opt-in to the future behavior, set `pd.set_option('future.no_silent_downcasting', True)`\n",
      "  merged['PassRate'] = merged['PassRate'].fillna(merged['PassRate_'])\n",
      "/var/folders/jk/npp70g_j2fbg8x9prxslv1zw6_ptrw/T/ipykernel_12011/2967106224.py:9: FutureWarning: Downcasting object dtype arrays on .fillna, .ffill, .bfill is deprecated and will change in a future version. Call result.infer_objects(copy=False) instead. To opt-in to the future behavior, set `pd.set_option('future.no_silent_downcasting', True)`\n",
      "  merged['Mean'] = merged['Mean'].fillna(merged['Mean_'])\n",
      "/var/folders/jk/npp70g_j2fbg8x9prxslv1zw6_ptrw/T/ipykernel_12011/2967106224.py:10: FutureWarning: Downcasting object dtype arrays on .fillna, .ffill, .bfill is deprecated and will change in a future version. Call result.infer_objects(copy=False) instead. To opt-in to the future behavior, set `pd.set_option('future.no_silent_downcasting', True)`\n",
      "  merged['Total'] = merged['Total'].fillna(merged['Total_'])\n"
     ]
    }
   ],
   "source": [
    "merged = skeleton.merge(\n",
    "    AP_outcomes[['PassRate', 'Mean', 'Total', 'State']],\n",
    "    on = ['State'],\n",
    "    how = 'left',\n",
    "    suffixes = ('', '_')\n",
    ")\n",
    "\n",
    "merged['PassRate'] = merged['PassRate'].fillna(merged['PassRate_'])\n",
    "merged['Mean'] = merged['Mean'].fillna(merged['Mean_'])\n",
    "merged['Total'] = merged['Total'].fillna(merged['Total_'])\n",
    "\n",
    "merged = merged.drop(columns=['PassRate_', 'Mean_', 'Total_'])\n",
    "skeleton = merged"
   ]
  },
  {
   "cell_type": "markdown",
   "metadata": {},
   "source": [
    "### Merge AP Availability Data"
   ]
  },
  {
   "cell_type": "code",
   "execution_count": 6,
   "metadata": {},
   "outputs": [
    {
     "name": "stderr",
     "output_type": "stream",
     "text": [
      "/var/folders/jk/npp70g_j2fbg8x9prxslv1zw6_ptrw/T/ipykernel_12011/3656781475.py:7: FutureWarning: Downcasting object dtype arrays on .fillna, .ffill, .bfill is deprecated and will change in a future version. Call result.infer_objects(copy=False) instead. To opt-in to the future behavior, set `pd.set_option('future.no_silent_downcasting', True)`\n",
      "  merged['5+Exams%'] = merged['5+Exams%'].fillna(merged['5+ Exams %'])\n"
     ]
    }
   ],
   "source": [
    "merged = skeleton.merge(\n",
    "    AP_availability[['5+ Exams %', 'State']],\n",
    "    on = ['State'],\n",
    "    how = 'left',\n",
    "    suffixes = ('', '_')\n",
    ")\n",
    "merged['5+Exams%'] = merged['5+Exams%'].fillna(merged['5+ Exams %'])\n",
    "merged['5+Exams%'] *= 100\n",
    "\n",
    "merged = merged.drop(columns=['5+ Exams %'])\n",
    "skeleton = merged"
   ]
  },
  {
   "cell_type": "markdown",
   "metadata": {},
   "source": [
    "### Merge AP Participation Data"
   ]
  },
  {
   "cell_type": "code",
   "execution_count": 7,
   "metadata": {},
   "outputs": [
    {
     "name": "stderr",
     "output_type": "stream",
     "text": [
      "/var/folders/jk/npp70g_j2fbg8x9prxslv1zw6_ptrw/T/ipykernel_12011/685087468.py:8: FutureWarning: Downcasting object dtype arrays on .fillna, .ffill, .bfill is deprecated and will change in a future version. Call result.infer_objects(copy=False) instead. To opt-in to the future behavior, set `pd.set_option('future.no_silent_downcasting', True)`\n",
      "  merged['%Asian'] = merged['%Asian'].fillna(merged['% Asian'])\n",
      "/var/folders/jk/npp70g_j2fbg8x9prxslv1zw6_ptrw/T/ipykernel_12011/685087468.py:9: FutureWarning: Downcasting object dtype arrays on .fillna, .ffill, .bfill is deprecated and will change in a future version. Call result.infer_objects(copy=False) instead. To opt-in to the future behavior, set `pd.set_option('future.no_silent_downcasting', True)`\n",
      "  merged['%HispanicOrLatino'] = merged['%HispanicOrLatino'].fillna(merged['% Hispanic/Latino'])\n",
      "/var/folders/jk/npp70g_j2fbg8x9prxslv1zw6_ptrw/T/ipykernel_12011/685087468.py:10: FutureWarning: Downcasting object dtype arrays on .fillna, .ffill, .bfill is deprecated and will change in a future version. Call result.infer_objects(copy=False) instead. To opt-in to the future behavior, set `pd.set_option('future.no_silent_downcasting', True)`\n",
      "  merged['%White'] = merged['%White'].fillna(merged['% White'])\n",
      "/var/folders/jk/npp70g_j2fbg8x9prxslv1zw6_ptrw/T/ipykernel_12011/685087468.py:11: FutureWarning: Downcasting object dtype arrays on .fillna, .ffill, .bfill is deprecated and will change in a future version. Call result.infer_objects(copy=False) instead. To opt-in to the future behavior, set `pd.set_option('future.no_silent_downcasting', True)`\n",
      "  merged['%BlackOrAfricanAmerican'] = merged['%BlackOrAfricanAmerican'].fillna(merged['% Black or African American'])\n",
      "/var/folders/jk/npp70g_j2fbg8x9prxslv1zw6_ptrw/T/ipykernel_12011/685087468.py:12: FutureWarning: Downcasting object dtype arrays on .fillna, .ffill, .bfill is deprecated and will change in a future version. Call result.infer_objects(copy=False) instead. To opt-in to the future behavior, set `pd.set_option('future.no_silent_downcasting', True)`\n",
      "  merged['%NativeAmericanOrAlaskaNative'] = merged['%NativeAmericanOrAlaskaNative'].fillna(merged['% Native American or Alaska Native'])\n",
      "/var/folders/jk/npp70g_j2fbg8x9prxslv1zw6_ptrw/T/ipykernel_12011/685087468.py:13: FutureWarning: Downcasting object dtype arrays on .fillna, .ffill, .bfill is deprecated and will change in a future version. Call result.infer_objects(copy=False) instead. To opt-in to the future behavior, set `pd.set_option('future.no_silent_downcasting', True)`\n",
      "  merged['%NativeHawaiianOrOtherPacificIslander'] = merged['%NativeHawaiianOrOtherPacificIslander'].fillna(merged['% Native Hawaiian or other Pacific Islander'])\n",
      "/var/folders/jk/npp70g_j2fbg8x9prxslv1zw6_ptrw/T/ipykernel_12011/685087468.py:14: FutureWarning: Downcasting object dtype arrays on .fillna, .ffill, .bfill is deprecated and will change in a future version. Call result.infer_objects(copy=False) instead. To opt-in to the future behavior, set `pd.set_option('future.no_silent_downcasting', True)`\n",
      "  merged['%TwoOrMoreRaces'] = merged['%TwoOrMoreRaces'].fillna(merged['% Two or More Races'])\n"
     ]
    }
   ],
   "source": [
    "merged = skeleton.merge(\n",
    "    AP_participation[['% Asian', '% Hispanic/Latino', '% White', '% Black or African American', '% Native American or Alaska Native', '% Native Hawaiian or other Pacific Islander', '% Two or More Races', 'State']],\n",
    "    on = ['State'],\n",
    "    how = 'left',\n",
    "    suffixes = ('', '_')\n",
    ")\n",
    "\n",
    "merged['%Asian'] = merged['%Asian'].fillna(merged['% Asian'])\n",
    "merged['%HispanicOrLatino'] = merged['%HispanicOrLatino'].fillna(merged['% Hispanic/Latino'])\n",
    "merged['%White'] = merged['%White'].fillna(merged['% White'])\n",
    "merged['%BlackOrAfricanAmerican'] = merged['%BlackOrAfricanAmerican'].fillna(merged['% Black or African American'])\n",
    "merged['%NativeAmericanOrAlaskaNative'] = merged['%NativeAmericanOrAlaskaNative'].fillna(merged['% Native American or Alaska Native'])\n",
    "merged['%NativeHawaiianOrOtherPacificIslander'] = merged['%NativeHawaiianOrOtherPacificIslander'].fillna(merged['% Native Hawaiian or other Pacific Islander'])\n",
    "merged['%TwoOrMoreRaces'] = merged['%TwoOrMoreRaces'].fillna(merged['% Two or More Races'])\n",
    "\n",
    "merged = merged.drop(columns=['% Asian', '% Hispanic/Latino', '% White', '% Black or African American', '% Native American or Alaska Native', '% Native Hawaiian or other Pacific Islander', '% Two or More Races'])\n",
    "skeleton = merged"
   ]
  },
  {
   "cell_type": "markdown",
   "metadata": {},
   "source": [
    "## Clean up the skeleton"
   ]
  },
  {
   "cell_type": "code",
   "execution_count": 8,
   "metadata": {},
   "outputs": [],
   "source": [
    "skeleton.replace('**', None, inplace = True)"
   ]
  },
  {
   "cell_type": "code",
   "execution_count": 9,
   "metadata": {},
   "outputs": [],
   "source": [
    "# In the end, save as CSV for caching\n",
    "skeleton.to_csv('US_States_Map_Data.csv')"
   ]
  },
  {
   "cell_type": "code",
   "execution_count": 10,
   "metadata": {},
   "outputs": [
    {
     "name": "stderr",
     "output_type": "stream",
     "text": [
      "/var/folders/jk/npp70g_j2fbg8x9prxslv1zw6_ptrw/T/ipykernel_12011/3599817936.py:15: SettingWithCopyWarning: \n",
      "A value is trying to be set on a copy of a slice from a DataFrame\n",
      "\n",
      "See the caveats in the documentation: https://pandas.pydata.org/pandas-docs/stable/user_guide/indexing.html#returning-a-view-versus-a-copy\n",
      "  states_of_interest_df.rename(columns = rename_national_features, inplace = True, errors = 'raise')\n",
      "/var/folders/jk/npp70g_j2fbg8x9prxslv1zw6_ptrw/T/ipykernel_12011/3599817936.py:16: SettingWithCopyWarning: \n",
      "A value is trying to be set on a copy of a slice from a DataFrame\n",
      "\n",
      "See the caveats in the documentation: https://pandas.pydata.org/pandas-docs/stable/user_guide/indexing.html#returning-a-view-versus-a-copy\n",
      "  states_of_interest_df.drop(['geometry', 'State', 'GEOID'], inplace = True, axis = 1)\n",
      "/var/folders/jk/npp70g_j2fbg8x9prxslv1zw6_ptrw/T/ipykernel_12011/3599817936.py:19: SettingWithCopyWarning: \n",
      "A value is trying to be set on a copy of a slice from a DataFrame\n",
      "\n",
      "See the caveats in the documentation: https://pandas.pydata.org/pandas-docs/stable/user_guide/indexing.html#returning-a-view-versus-a-copy\n",
      "  MA_AP_table.drop(['State_Abbreviation'], inplace = True, axis = 1)\n",
      "/var/folders/jk/npp70g_j2fbg8x9prxslv1zw6_ptrw/T/ipykernel_12011/3599817936.py:26: SettingWithCopyWarning: \n",
      "A value is trying to be set on a copy of a slice from a DataFrame\n",
      "\n",
      "See the caveats in the documentation: https://pandas.pydata.org/pandas-docs/stable/user_guide/indexing.html#returning-a-view-versus-a-copy\n",
      "  WI_AP_table.drop(['State_Abbreviation'], inplace = True, axis = 1)\n",
      "/var/folders/jk/npp70g_j2fbg8x9prxslv1zw6_ptrw/T/ipykernel_12011/3599817936.py:33: SettingWithCopyWarning: \n",
      "A value is trying to be set on a copy of a slice from a DataFrame\n",
      "\n",
      "See the caveats in the documentation: https://pandas.pydata.org/pandas-docs/stable/user_guide/indexing.html#returning-a-view-versus-a-copy\n",
      "  GA_AP_table.drop(['State_Abbreviation'], inplace = True, axis = 1)\n",
      "/var/folders/jk/npp70g_j2fbg8x9prxslv1zw6_ptrw/T/ipykernel_12011/3599817936.py:40: SettingWithCopyWarning: \n",
      "A value is trying to be set on a copy of a slice from a DataFrame\n",
      "\n",
      "See the caveats in the documentation: https://pandas.pydata.org/pandas-docs/stable/user_guide/indexing.html#returning-a-view-versus-a-copy\n",
      "  NC_AP_table.drop(['State_Abbreviation'], inplace = True, axis = 1)\n"
     ]
    }
   ],
   "source": [
    "states_of_interest_df = skeleton[skeleton['State_Abbreviation'].isin(['MA', 'WI', 'GA', 'NC'])]\n",
    "rename_national_features = {\n",
    "    'PassRate': 'AP Pass Rate (3 or higher)', \n",
    "    'Mean': 'AP Score Mean (out of 5)', \n",
    "    'Total': 'Total No. AP Exams', \n",
    "    '5+Exams%': 'Offer 5+ Exams (%)', \n",
    "    '%Asian': 'Asian Participation (%)', \n",
    "    '%HispanicOrLatino': 'Hispanic or Latino Participation (%)', \n",
    "    '%White': 'White Participation (%)', \n",
    "    '%BlackOrAfricanAmerican': 'Black or African American Participation (%)', \n",
    "    '%NativeAmericanOrAlaskaNative': 'Native American or Alaska Native Participation (%)', \n",
    "    '%NativeHawaiianOrOtherPacificIslander': 'Native Hawaiian or other Pacific Islander Participation (%)', \n",
    "    '%TwoOrMoreRaces': 'Two or More Races Participation (%)'\n",
    "}\n",
    "states_of_interest_df.rename(columns = rename_national_features, inplace = True, errors = 'raise')\n",
    "states_of_interest_df.drop(['geometry', 'State', 'GEOID'], inplace = True, axis = 1)\n",
    "\n",
    "MA_AP_table = states_of_interest_df[states_of_interest_df['State_Abbreviation'] == 'MA']\n",
    "MA_AP_table.drop(['State_Abbreviation'], inplace = True, axis = 1)\n",
    "MA_AP_table = MA_AP_table.T\n",
    "MA_AP_table.rename(columns = {24: 'Value'}, inplace = True)\n",
    "MA_AP_table['Value'] = MA_AP_table.apply(lambda row : round_if_float(row['Value']), axis = 1)\n",
    "MA_AP_table.to_csv('MA_AP_table.csv', index = True, index_label = 'Category')\n",
    "\n",
    "WI_AP_table = states_of_interest_df[states_of_interest_df['State_Abbreviation'] == 'WI']\n",
    "WI_AP_table.drop(['State_Abbreviation'], inplace = True, axis = 1)\n",
    "WI_AP_table = WI_AP_table.T\n",
    "WI_AP_table.rename(columns = {4: 'Value'}, inplace = True)\n",
    "WI_AP_table['Value'] = WI_AP_table.apply(lambda row : round_if_float(row['Value']), axis = 1)\n",
    "WI_AP_table.to_csv('WI_AP_table.csv', index = True, index_label = 'Category')\n",
    "\n",
    "GA_AP_table = states_of_interest_df[states_of_interest_df['State_Abbreviation'] == 'GA']\n",
    "GA_AP_table.drop(['State_Abbreviation'], inplace = True, axis = 1)\n",
    "GA_AP_table = GA_AP_table.T\n",
    "GA_AP_table.rename(columns = {3: 'Value'}, inplace = True)\n",
    "GA_AP_table['Value'] = GA_AP_table.apply(lambda row : round_if_float(row['Value']), axis = 1)\n",
    "GA_AP_table.to_csv('GA_AP_table.csv', index = True, index_label = 'Category')\n",
    "\n",
    "NC_AP_table = states_of_interest_df[states_of_interest_df['State_Abbreviation'] == 'NC']\n",
    "NC_AP_table.drop(['State_Abbreviation'], inplace = True, axis = 1)\n",
    "NC_AP_table = NC_AP_table.T\n",
    "NC_AP_table.rename(columns = {30: 'Value'}, inplace = True)\n",
    "NC_AP_table['Value'] = NC_AP_table.apply(lambda row : round_if_float(row['Value']), axis = 1)\n",
    "NC_AP_table.to_csv('NC_AP_table.csv', index = True, index_label = 'Category')"
   ]
  },
  {
   "cell_type": "markdown",
   "metadata": {},
   "source": [
    "------------\n",
    "------------"
   ]
  },
  {
   "cell_type": "markdown",
   "metadata": {},
   "source": [
    "# Creating Small Scoring Distributions for States"
   ]
  },
  {
   "cell_type": "code",
   "execution_count": 20,
   "metadata": {},
   "outputs": [],
   "source": [
    "# AP Outcomes\n",
    "AP_outcomes = gimmeOutcomes(year = 2022, prefix = prefix)\n",
    "AP_outcomes = AP_outcomes[AP_outcomes['Race'] == 'Overall']\n",
    "AP_outcomes.reset_index(inplace = True)\n",
    "\n",
    "keep = ['stabbr', 'Total', 'Score 1', 'Score 2', 'Score 3', 'Score 4', 'Score 5']\n",
    "for i in range(1, 6):\n",
    "    AP_outcomes[f'Percent {i}'] = AP_outcomes[f'Score {i}'] / AP_outcomes['Total'] * 100\n",
    "    AP_outcomes[f'Percent {i}'] = AP_outcomes.apply(lambda row : round_if_float(row[f'Percent {i}']), axis = 1)\n",
    "    keep.append(f'Percent {i}')\n",
    "\n",
    "AP_outcomes = AP_outcomes[keep]\n",
    "\n",
    "states_abbrv = pd.read_csv(prefix + 'data/State Abbreviation.csv')\n",
    "states_dict = dict(zip(states_abbrv['stabbr'], states_abbrv['State']))"
   ]
  },
  {
   "cell_type": "code",
   "execution_count": 21,
   "metadata": {},
   "outputs": [
    {
     "data": {
      "text/html": [
       "<div>\n",
       "<style scoped>\n",
       "    .dataframe tbody tr th:only-of-type {\n",
       "        vertical-align: middle;\n",
       "    }\n",
       "\n",
       "    .dataframe tbody tr th {\n",
       "        vertical-align: top;\n",
       "    }\n",
       "\n",
       "    .dataframe thead th {\n",
       "        text-align: right;\n",
       "    }\n",
       "</style>\n",
       "<table border=\"1\" class=\"dataframe\">\n",
       "  <thead>\n",
       "    <tr style=\"text-align: right;\">\n",
       "      <th></th>\n",
       "      <th>stabbr</th>\n",
       "      <th>Total</th>\n",
       "      <th>Score 1</th>\n",
       "      <th>Score 2</th>\n",
       "      <th>Score 3</th>\n",
       "      <th>Score 4</th>\n",
       "      <th>Score 5</th>\n",
       "      <th>Percent 1</th>\n",
       "      <th>Percent 2</th>\n",
       "      <th>Percent 3</th>\n",
       "      <th>Percent 4</th>\n",
       "      <th>Percent 5</th>\n",
       "      <th>PassRate</th>\n",
       "    </tr>\n",
       "  </thead>\n",
       "  <tbody>\n",
       "    <tr>\n",
       "      <th>25</th>\n",
       "      <td>MS</td>\n",
       "      <td>14788</td>\n",
       "      <td>5850</td>\n",
       "      <td>3365</td>\n",
       "      <td>2880</td>\n",
       "      <td>1753</td>\n",
       "      <td>940</td>\n",
       "      <td>39.6</td>\n",
       "      <td>22.8</td>\n",
       "      <td>19.5</td>\n",
       "      <td>11.9</td>\n",
       "      <td>6.4</td>\n",
       "      <td>37.685962</td>\n",
       "    </tr>\n",
       "    <tr>\n",
       "      <th>19</th>\n",
       "      <td>LA</td>\n",
       "      <td>30434</td>\n",
       "      <td>10890</td>\n",
       "      <td>7248</td>\n",
       "      <td>6086</td>\n",
       "      <td>4039</td>\n",
       "      <td>2171</td>\n",
       "      <td>35.8</td>\n",
       "      <td>23.8</td>\n",
       "      <td>20.0</td>\n",
       "      <td>13.3</td>\n",
       "      <td>7.1</td>\n",
       "      <td>40.402182</td>\n",
       "    </tr>\n",
       "    <tr>\n",
       "      <th>32</th>\n",
       "      <td>NM</td>\n",
       "      <td>14328</td>\n",
       "      <td>4951</td>\n",
       "      <td>3571</td>\n",
       "      <td>2982</td>\n",
       "      <td>1761</td>\n",
       "      <td>1063</td>\n",
       "      <td>34.6</td>\n",
       "      <td>24.9</td>\n",
       "      <td>20.8</td>\n",
       "      <td>12.3</td>\n",
       "      <td>7.4</td>\n",
       "      <td>40.522055</td>\n",
       "    </tr>\n",
       "    <tr>\n",
       "      <th>4</th>\n",
       "      <td>AR</td>\n",
       "      <td>41105</td>\n",
       "      <td>12925</td>\n",
       "      <td>10841</td>\n",
       "      <td>9253</td>\n",
       "      <td>5533</td>\n",
       "      <td>2553</td>\n",
       "      <td>31.4</td>\n",
       "      <td>26.4</td>\n",
       "      <td>22.5</td>\n",
       "      <td>13.5</td>\n",
       "      <td>6.2</td>\n",
       "      <td>42.182216</td>\n",
       "    </tr>\n",
       "    <tr>\n",
       "      <th>9</th>\n",
       "      <td>DC</td>\n",
       "      <td>6840</td>\n",
       "      <td>2547</td>\n",
       "      <td>1403</td>\n",
       "      <td>1119</td>\n",
       "      <td>965</td>\n",
       "      <td>806</td>\n",
       "      <td>37.2</td>\n",
       "      <td>20.5</td>\n",
       "      <td>16.4</td>\n",
       "      <td>14.1</td>\n",
       "      <td>11.8</td>\n",
       "      <td>42.251462</td>\n",
       "    </tr>\n",
       "    <tr>\n",
       "      <th>1</th>\n",
       "      <td>AL</td>\n",
       "      <td>44241</td>\n",
       "      <td>13031</td>\n",
       "      <td>11317</td>\n",
       "      <td>9838</td>\n",
       "      <td>6516</td>\n",
       "      <td>3539</td>\n",
       "      <td>29.5</td>\n",
       "      <td>25.6</td>\n",
       "      <td>22.2</td>\n",
       "      <td>14.7</td>\n",
       "      <td>8.0</td>\n",
       "      <td>44.965078</td>\n",
       "    </tr>\n",
       "    <tr>\n",
       "      <th>49</th>\n",
       "      <td>WV</td>\n",
       "      <td>9091</td>\n",
       "      <td>2307</td>\n",
       "      <td>2372</td>\n",
       "      <td>2163</td>\n",
       "      <td>1480</td>\n",
       "      <td>769</td>\n",
       "      <td>25.4</td>\n",
       "      <td>26.1</td>\n",
       "      <td>23.8</td>\n",
       "      <td>16.3</td>\n",
       "      <td>8.5</td>\n",
       "      <td>48.531515</td>\n",
       "    </tr>\n",
       "    <tr>\n",
       "      <th>44</th>\n",
       "      <td>TX</td>\n",
       "      <td>545526</td>\n",
       "      <td>160842</td>\n",
       "      <td>117958</td>\n",
       "      <td>116559</td>\n",
       "      <td>90096</td>\n",
       "      <td>60071</td>\n",
       "      <td>29.5</td>\n",
       "      <td>21.6</td>\n",
       "      <td>21.4</td>\n",
       "      <td>16.5</td>\n",
       "      <td>11.0</td>\n",
       "      <td>48.893362</td>\n",
       "    </tr>\n",
       "    <tr>\n",
       "      <th>29</th>\n",
       "      <td>NV</td>\n",
       "      <td>29932</td>\n",
       "      <td>7811</td>\n",
       "      <td>7042</td>\n",
       "      <td>7180</td>\n",
       "      <td>4982</td>\n",
       "      <td>2917</td>\n",
       "      <td>26.1</td>\n",
       "      <td>23.5</td>\n",
       "      <td>24.0</td>\n",
       "      <td>16.6</td>\n",
       "      <td>9.7</td>\n",
       "      <td>50.377522</td>\n",
       "    </tr>\n",
       "    <tr>\n",
       "      <th>37</th>\n",
       "      <td>OK</td>\n",
       "      <td>21467</td>\n",
       "      <td>4870</td>\n",
       "      <td>5707</td>\n",
       "      <td>5364</td>\n",
       "      <td>3650</td>\n",
       "      <td>1876</td>\n",
       "      <td>22.7</td>\n",
       "      <td>26.6</td>\n",
       "      <td>25.0</td>\n",
       "      <td>17.0</td>\n",
       "      <td>8.7</td>\n",
       "      <td>50.729026</td>\n",
       "    </tr>\n",
       "    <tr>\n",
       "      <th>8</th>\n",
       "      <td>DE</td>\n",
       "      <td>9384</td>\n",
       "      <td>2254</td>\n",
       "      <td>2228</td>\n",
       "      <td>2299</td>\n",
       "      <td>1589</td>\n",
       "      <td>1014</td>\n",
       "      <td>24.0</td>\n",
       "      <td>23.7</td>\n",
       "      <td>24.5</td>\n",
       "      <td>16.9</td>\n",
       "      <td>10.8</td>\n",
       "      <td>52.237852</td>\n",
       "    </tr>\n",
       "    <tr>\n",
       "      <th>18</th>\n",
       "      <td>KY</td>\n",
       "      <td>38785</td>\n",
       "      <td>8341</td>\n",
       "      <td>10067</td>\n",
       "      <td>10059</td>\n",
       "      <td>6736</td>\n",
       "      <td>3582</td>\n",
       "      <td>21.5</td>\n",
       "      <td>26.0</td>\n",
       "      <td>25.9</td>\n",
       "      <td>17.4</td>\n",
       "      <td>9.2</td>\n",
       "      <td>52.538352</td>\n",
       "    </tr>\n",
       "    <tr>\n",
       "      <th>10</th>\n",
       "      <td>FL</td>\n",
       "      <td>315209</td>\n",
       "      <td>74586</td>\n",
       "      <td>70864</td>\n",
       "      <td>78230</td>\n",
       "      <td>57057</td>\n",
       "      <td>34472</td>\n",
       "      <td>23.7</td>\n",
       "      <td>22.5</td>\n",
       "      <td>24.8</td>\n",
       "      <td>18.1</td>\n",
       "      <td>10.9</td>\n",
       "      <td>53.856013</td>\n",
       "    </tr>\n",
       "    <tr>\n",
       "      <th>12</th>\n",
       "      <td>HI</td>\n",
       "      <td>8374</td>\n",
       "      <td>1768</td>\n",
       "      <td>2061</td>\n",
       "      <td>2236</td>\n",
       "      <td>1485</td>\n",
       "      <td>824</td>\n",
       "      <td>21.1</td>\n",
       "      <td>24.6</td>\n",
       "      <td>26.7</td>\n",
       "      <td>17.7</td>\n",
       "      <td>9.8</td>\n",
       "      <td>54.275137</td>\n",
       "    </tr>\n",
       "    <tr>\n",
       "      <th>15</th>\n",
       "      <td>IN</td>\n",
       "      <td>74126</td>\n",
       "      <td>15698</td>\n",
       "      <td>17917</td>\n",
       "      <td>19142</td>\n",
       "      <td>13566</td>\n",
       "      <td>7803</td>\n",
       "      <td>21.2</td>\n",
       "      <td>24.2</td>\n",
       "      <td>25.8</td>\n",
       "      <td>18.3</td>\n",
       "      <td>10.5</td>\n",
       "      <td>54.651539</td>\n",
       "    </tr>\n",
       "    <tr>\n",
       "      <th>51</th>\n",
       "      <td>WY</td>\n",
       "      <td>3565</td>\n",
       "      <td>649</td>\n",
       "      <td>938</td>\n",
       "      <td>956</td>\n",
       "      <td>656</td>\n",
       "      <td>366</td>\n",
       "      <td>18.2</td>\n",
       "      <td>26.3</td>\n",
       "      <td>26.8</td>\n",
       "      <td>18.4</td>\n",
       "      <td>10.3</td>\n",
       "      <td>55.483871</td>\n",
       "    </tr>\n",
       "    <tr>\n",
       "      <th>40</th>\n",
       "      <td>RI</td>\n",
       "      <td>9792</td>\n",
       "      <td>2088</td>\n",
       "      <td>2171</td>\n",
       "      <td>2517</td>\n",
       "      <td>1863</td>\n",
       "      <td>1153</td>\n",
       "      <td>21.3</td>\n",
       "      <td>22.2</td>\n",
       "      <td>25.7</td>\n",
       "      <td>19.0</td>\n",
       "      <td>11.8</td>\n",
       "      <td>56.50531</td>\n",
       "    </tr>\n",
       "    <tr>\n",
       "      <th>43</th>\n",
       "      <td>TN</td>\n",
       "      <td>54151</td>\n",
       "      <td>11400</td>\n",
       "      <td>11953</td>\n",
       "      <td>13176</td>\n",
       "      <td>10747</td>\n",
       "      <td>6875</td>\n",
       "      <td>21.1</td>\n",
       "      <td>22.1</td>\n",
       "      <td>24.3</td>\n",
       "      <td>19.8</td>\n",
       "      <td>12.7</td>\n",
       "      <td>56.874296</td>\n",
       "    </tr>\n",
       "    <tr>\n",
       "      <th>34</th>\n",
       "      <td>NC</td>\n",
       "      <td>121919</td>\n",
       "      <td>25185</td>\n",
       "      <td>26706</td>\n",
       "      <td>30082</td>\n",
       "      <td>24511</td>\n",
       "      <td>15435</td>\n",
       "      <td>20.7</td>\n",
       "      <td>21.9</td>\n",
       "      <td>24.7</td>\n",
       "      <td>20.1</td>\n",
       "      <td>12.7</td>\n",
       "      <td>57.438135</td>\n",
       "    </tr>\n",
       "    <tr>\n",
       "      <th>33</th>\n",
       "      <td>NY</td>\n",
       "      <td>289273</td>\n",
       "      <td>57289</td>\n",
       "      <td>62469</td>\n",
       "      <td>72277</td>\n",
       "      <td>57307</td>\n",
       "      <td>39931</td>\n",
       "      <td>19.8</td>\n",
       "      <td>21.6</td>\n",
       "      <td>25.0</td>\n",
       "      <td>19.8</td>\n",
       "      <td>13.8</td>\n",
       "      <td>58.600353</td>\n",
       "    </tr>\n",
       "    <tr>\n",
       "      <th>0</th>\n",
       "      <td>NAT</td>\n",
       "      <td>4050855</td>\n",
       "      <td>810450</td>\n",
       "      <td>860182</td>\n",
       "      <td>990625</td>\n",
       "      <td>812854</td>\n",
       "      <td>576744</td>\n",
       "      <td>20.0</td>\n",
       "      <td>21.2</td>\n",
       "      <td>24.5</td>\n",
       "      <td>20.1</td>\n",
       "      <td>14.2</td>\n",
       "      <td>58.758534</td>\n",
       "    </tr>\n",
       "    <tr>\n",
       "      <th>2</th>\n",
       "      <td>AK</td>\n",
       "      <td>4741</td>\n",
       "      <td>793</td>\n",
       "      <td>1133</td>\n",
       "      <td>1323</td>\n",
       "      <td>927</td>\n",
       "      <td>565</td>\n",
       "      <td>16.7</td>\n",
       "      <td>23.9</td>\n",
       "      <td>27.9</td>\n",
       "      <td>19.6</td>\n",
       "      <td>11.9</td>\n",
       "      <td>59.375659</td>\n",
       "    </tr>\n",
       "    <tr>\n",
       "      <th>3</th>\n",
       "      <td>AZ</td>\n",
       "      <td>62230</td>\n",
       "      <td>11041</td>\n",
       "      <td>13518</td>\n",
       "      <td>15707</td>\n",
       "      <td>12578</td>\n",
       "      <td>9386</td>\n",
       "      <td>17.7</td>\n",
       "      <td>21.7</td>\n",
       "      <td>25.2</td>\n",
       "      <td>20.2</td>\n",
       "      <td>15.1</td>\n",
       "      <td>60.535112</td>\n",
       "    </tr>\n",
       "    <tr>\n",
       "      <th>14</th>\n",
       "      <td>IL</td>\n",
       "      <td>204232</td>\n",
       "      <td>37920</td>\n",
       "      <td>41674</td>\n",
       "      <td>49959</td>\n",
       "      <td>43424</td>\n",
       "      <td>31255</td>\n",
       "      <td>18.6</td>\n",
       "      <td>20.4</td>\n",
       "      <td>24.5</td>\n",
       "      <td>21.3</td>\n",
       "      <td>15.3</td>\n",
       "      <td>61.027655</td>\n",
       "    </tr>\n",
       "    <tr>\n",
       "      <th>5</th>\n",
       "      <td>CA</td>\n",
       "      <td>616560</td>\n",
       "      <td>113544</td>\n",
       "      <td>124928</td>\n",
       "      <td>145798</td>\n",
       "      <td>127523</td>\n",
       "      <td>104767</td>\n",
       "      <td>18.4</td>\n",
       "      <td>20.3</td>\n",
       "      <td>23.6</td>\n",
       "      <td>20.7</td>\n",
       "      <td>17.0</td>\n",
       "      <td>61.322175</td>\n",
       "    </tr>\n",
       "    <tr>\n",
       "      <th>26</th>\n",
       "      <td>MO</td>\n",
       "      <td>35668</td>\n",
       "      <td>5855</td>\n",
       "      <td>7856</td>\n",
       "      <td>9242</td>\n",
       "      <td>7288</td>\n",
       "      <td>5427</td>\n",
       "      <td>16.4</td>\n",
       "      <td>22.0</td>\n",
       "      <td>25.9</td>\n",
       "      <td>20.4</td>\n",
       "      <td>15.2</td>\n",
       "      <td>61.559381</td>\n",
       "    </tr>\n",
       "    <tr>\n",
       "      <th>38</th>\n",
       "      <td>OR</td>\n",
       "      <td>25701</td>\n",
       "      <td>4183</td>\n",
       "      <td>5597</td>\n",
       "      <td>6946</td>\n",
       "      <td>5510</td>\n",
       "      <td>3465</td>\n",
       "      <td>16.3</td>\n",
       "      <td>21.8</td>\n",
       "      <td>27.0</td>\n",
       "      <td>21.4</td>\n",
       "      <td>13.5</td>\n",
       "      <td>61.947006</td>\n",
       "    </tr>\n",
       "    <tr>\n",
       "      <th>16</th>\n",
       "      <td>IA</td>\n",
       "      <td>16397</td>\n",
       "      <td>2424</td>\n",
       "      <td>3779</td>\n",
       "      <td>4344</td>\n",
       "      <td>3557</td>\n",
       "      <td>2293</td>\n",
       "      <td>14.8</td>\n",
       "      <td>23.0</td>\n",
       "      <td>26.5</td>\n",
       "      <td>21.7</td>\n",
       "      <td>14.0</td>\n",
       "      <td>62.169909</td>\n",
       "    </tr>\n",
       "    <tr>\n",
       "      <th>35</th>\n",
       "      <td>ND</td>\n",
       "      <td>4506</td>\n",
       "      <td>595</td>\n",
       "      <td>1103</td>\n",
       "      <td>1361</td>\n",
       "      <td>963</td>\n",
       "      <td>484</td>\n",
       "      <td>13.2</td>\n",
       "      <td>24.5</td>\n",
       "      <td>30.2</td>\n",
       "      <td>21.4</td>\n",
       "      <td>10.7</td>\n",
       "      <td>62.316911</td>\n",
       "    </tr>\n",
       "    <tr>\n",
       "      <th>11</th>\n",
       "      <td>GA</td>\n",
       "      <td>150763</td>\n",
       "      <td>25908</td>\n",
       "      <td>30799</td>\n",
       "      <td>38066</td>\n",
       "      <td>32925</td>\n",
       "      <td>23065</td>\n",
       "      <td>17.2</td>\n",
       "      <td>20.4</td>\n",
       "      <td>25.2</td>\n",
       "      <td>21.8</td>\n",
       "      <td>15.3</td>\n",
       "      <td>62.38666</td>\n",
       "    </tr>\n",
       "    <tr>\n",
       "      <th>6</th>\n",
       "      <td>CO</td>\n",
       "      <td>78886</td>\n",
       "      <td>12848</td>\n",
       "      <td>16750</td>\n",
       "      <td>20683</td>\n",
       "      <td>17115</td>\n",
       "      <td>11490</td>\n",
       "      <td>16.3</td>\n",
       "      <td>21.2</td>\n",
       "      <td>26.2</td>\n",
       "      <td>21.7</td>\n",
       "      <td>14.6</td>\n",
       "      <td>62.480034</td>\n",
       "    </tr>\n",
       "    <tr>\n",
       "      <th>13</th>\n",
       "      <td>ID</td>\n",
       "      <td>12640</td>\n",
       "      <td>1818</td>\n",
       "      <td>2920</td>\n",
       "      <td>3437</td>\n",
       "      <td>2814</td>\n",
       "      <td>1651</td>\n",
       "      <td>14.4</td>\n",
       "      <td>23.1</td>\n",
       "      <td>27.2</td>\n",
       "      <td>22.3</td>\n",
       "      <td>13.1</td>\n",
       "      <td>62.515823</td>\n",
       "    </tr>\n",
       "    <tr>\n",
       "      <th>47</th>\n",
       "      <td>VA</td>\n",
       "      <td>130567</td>\n",
       "      <td>20841</td>\n",
       "      <td>27841</td>\n",
       "      <td>33567</td>\n",
       "      <td>28196</td>\n",
       "      <td>20122</td>\n",
       "      <td>16.0</td>\n",
       "      <td>21.3</td>\n",
       "      <td>25.7</td>\n",
       "      <td>21.6</td>\n",
       "      <td>15.4</td>\n",
       "      <td>62.714928</td>\n",
       "    </tr>\n",
       "    <tr>\n",
       "      <th>20</th>\n",
       "      <td>ME</td>\n",
       "      <td>11020</td>\n",
       "      <td>1530</td>\n",
       "      <td>2556</td>\n",
       "      <td>3162</td>\n",
       "      <td>2406</td>\n",
       "      <td>1366</td>\n",
       "      <td>13.9</td>\n",
       "      <td>23.2</td>\n",
       "      <td>28.7</td>\n",
       "      <td>21.8</td>\n",
       "      <td>12.4</td>\n",
       "      <td>62.92196</td>\n",
       "    </tr>\n",
       "    <tr>\n",
       "      <th>28</th>\n",
       "      <td>NE</td>\n",
       "      <td>12941</td>\n",
       "      <td>1847</td>\n",
       "      <td>2902</td>\n",
       "      <td>3630</td>\n",
       "      <td>2900</td>\n",
       "      <td>1662</td>\n",
       "      <td>14.3</td>\n",
       "      <td>22.4</td>\n",
       "      <td>28.1</td>\n",
       "      <td>22.4</td>\n",
       "      <td>12.8</td>\n",
       "      <td>63.302681</td>\n",
       "    </tr>\n",
       "    <tr>\n",
       "      <th>41</th>\n",
       "      <td>SC</td>\n",
       "      <td>46617</td>\n",
       "      <td>7281</td>\n",
       "      <td>9780</td>\n",
       "      <td>12509</td>\n",
       "      <td>10333</td>\n",
       "      <td>6714</td>\n",
       "      <td>15.6</td>\n",
       "      <td>21.0</td>\n",
       "      <td>26.8</td>\n",
       "      <td>22.2</td>\n",
       "      <td>14.4</td>\n",
       "      <td>63.401763</td>\n",
       "    </tr>\n",
       "    <tr>\n",
       "      <th>23</th>\n",
       "      <td>MI</td>\n",
       "      <td>87734</td>\n",
       "      <td>12577</td>\n",
       "      <td>18763</td>\n",
       "      <td>23626</td>\n",
       "      <td>19275</td>\n",
       "      <td>13493</td>\n",
       "      <td>14.3</td>\n",
       "      <td>21.4</td>\n",
       "      <td>26.9</td>\n",
       "      <td>22.0</td>\n",
       "      <td>15.4</td>\n",
       "      <td>64.278387</td>\n",
       "    </tr>\n",
       "    <tr>\n",
       "      <th>36</th>\n",
       "      <td>OH</td>\n",
       "      <td>99608</td>\n",
       "      <td>14573</td>\n",
       "      <td>20590</td>\n",
       "      <td>26717</td>\n",
       "      <td>22166</td>\n",
       "      <td>15562</td>\n",
       "      <td>14.6</td>\n",
       "      <td>20.7</td>\n",
       "      <td>26.8</td>\n",
       "      <td>22.3</td>\n",
       "      <td>15.6</td>\n",
       "      <td>64.698619</td>\n",
       "    </tr>\n",
       "    <tr>\n",
       "      <th>21</th>\n",
       "      <td>MD</td>\n",
       "      <td>92875</td>\n",
       "      <td>14283</td>\n",
       "      <td>18446</td>\n",
       "      <td>23274</td>\n",
       "      <td>20400</td>\n",
       "      <td>16472</td>\n",
       "      <td>15.4</td>\n",
       "      <td>19.9</td>\n",
       "      <td>25.1</td>\n",
       "      <td>22.0</td>\n",
       "      <td>17.7</td>\n",
       "      <td>64.760162</td>\n",
       "    </tr>\n",
       "    <tr>\n",
       "      <th>22</th>\n",
       "      <td>MA</td>\n",
       "      <td>101268</td>\n",
       "      <td>16289</td>\n",
       "      <td>19021</td>\n",
       "      <td>24608</td>\n",
       "      <td>22880</td>\n",
       "      <td>18470</td>\n",
       "      <td>16.1</td>\n",
       "      <td>18.8</td>\n",
       "      <td>24.3</td>\n",
       "      <td>22.6</td>\n",
       "      <td>18.2</td>\n",
       "      <td>65.132125</td>\n",
       "    </tr>\n",
       "    <tr>\n",
       "      <th>48</th>\n",
       "      <td>WA</td>\n",
       "      <td>72194</td>\n",
       "      <td>10830</td>\n",
       "      <td>13780</td>\n",
       "      <td>18074</td>\n",
       "      <td>16130</td>\n",
       "      <td>13380</td>\n",
       "      <td>15.0</td>\n",
       "      <td>19.1</td>\n",
       "      <td>25.0</td>\n",
       "      <td>22.3</td>\n",
       "      <td>18.5</td>\n",
       "      <td>65.911295</td>\n",
       "    </tr>\n",
       "    <tr>\n",
       "      <th>17</th>\n",
       "      <td>KS</td>\n",
       "      <td>13387</td>\n",
       "      <td>1512</td>\n",
       "      <td>3034</td>\n",
       "      <td>3624</td>\n",
       "      <td>3171</td>\n",
       "      <td>2046</td>\n",
       "      <td>11.3</td>\n",
       "      <td>22.7</td>\n",
       "      <td>27.1</td>\n",
       "      <td>23.7</td>\n",
       "      <td>15.3</td>\n",
       "      <td>66.041682</td>\n",
       "    </tr>\n",
       "    <tr>\n",
       "      <th>50</th>\n",
       "      <td>WI</td>\n",
       "      <td>66935</td>\n",
       "      <td>8593</td>\n",
       "      <td>14032</td>\n",
       "      <td>18277</td>\n",
       "      <td>15842</td>\n",
       "      <td>10191</td>\n",
       "      <td>12.8</td>\n",
       "      <td>21.0</td>\n",
       "      <td>27.3</td>\n",
       "      <td>23.7</td>\n",
       "      <td>15.2</td>\n",
       "      <td>66.198551</td>\n",
       "    </tr>\n",
       "    <tr>\n",
       "      <th>31</th>\n",
       "      <td>NJ</td>\n",
       "      <td>140317</td>\n",
       "      <td>21839</td>\n",
       "      <td>25498</td>\n",
       "      <td>33545</td>\n",
       "      <td>32080</td>\n",
       "      <td>27355</td>\n",
       "      <td>15.6</td>\n",
       "      <td>18.2</td>\n",
       "      <td>23.9</td>\n",
       "      <td>22.9</td>\n",
       "      <td>19.5</td>\n",
       "      <td>66.264245</td>\n",
       "    </tr>\n",
       "    <tr>\n",
       "      <th>46</th>\n",
       "      <td>VT</td>\n",
       "      <td>4978</td>\n",
       "      <td>572</td>\n",
       "      <td>1091</td>\n",
       "      <td>1469</td>\n",
       "      <td>1101</td>\n",
       "      <td>745</td>\n",
       "      <td>11.5</td>\n",
       "      <td>21.9</td>\n",
       "      <td>29.5</td>\n",
       "      <td>22.1</td>\n",
       "      <td>15.0</td>\n",
       "      <td>66.593009</td>\n",
       "    </tr>\n",
       "    <tr>\n",
       "      <th>27</th>\n",
       "      <td>MT</td>\n",
       "      <td>6243</td>\n",
       "      <td>586</td>\n",
       "      <td>1499</td>\n",
       "      <td>1867</td>\n",
       "      <td>1440</td>\n",
       "      <td>851</td>\n",
       "      <td>9.4</td>\n",
       "      <td>24.0</td>\n",
       "      <td>29.9</td>\n",
       "      <td>23.1</td>\n",
       "      <td>13.6</td>\n",
       "      <td>66.602595</td>\n",
       "    </tr>\n",
       "    <tr>\n",
       "      <th>7</th>\n",
       "      <td>CT</td>\n",
       "      <td>51088</td>\n",
       "      <td>7545</td>\n",
       "      <td>9506</td>\n",
       "      <td>12610</td>\n",
       "      <td>12122</td>\n",
       "      <td>9305</td>\n",
       "      <td>14.8</td>\n",
       "      <td>18.6</td>\n",
       "      <td>24.7</td>\n",
       "      <td>23.7</td>\n",
       "      <td>18.2</td>\n",
       "      <td>66.624256</td>\n",
       "    </tr>\n",
       "    <tr>\n",
       "      <th>24</th>\n",
       "      <td>MN</td>\n",
       "      <td>54810</td>\n",
       "      <td>6991</td>\n",
       "      <td>11125</td>\n",
       "      <td>14938</td>\n",
       "      <td>12872</td>\n",
       "      <td>8884</td>\n",
       "      <td>12.8</td>\n",
       "      <td>20.3</td>\n",
       "      <td>27.3</td>\n",
       "      <td>23.5</td>\n",
       "      <td>16.2</td>\n",
       "      <td>66.947637</td>\n",
       "    </tr>\n",
       "    <tr>\n",
       "      <th>39</th>\n",
       "      <td>PA</td>\n",
       "      <td>108838</td>\n",
       "      <td>14824</td>\n",
       "      <td>21029</td>\n",
       "      <td>28026</td>\n",
       "      <td>25591</td>\n",
       "      <td>19368</td>\n",
       "      <td>13.6</td>\n",
       "      <td>19.3</td>\n",
       "      <td>25.8</td>\n",
       "      <td>23.5</td>\n",
       "      <td>17.8</td>\n",
       "      <td>67.05838</td>\n",
       "    </tr>\n",
       "    <tr>\n",
       "      <th>45</th>\n",
       "      <td>UT</td>\n",
       "      <td>41749</td>\n",
       "      <td>4573</td>\n",
       "      <td>8850</td>\n",
       "      <td>12125</td>\n",
       "      <td>9785</td>\n",
       "      <td>6416</td>\n",
       "      <td>11.0</td>\n",
       "      <td>21.2</td>\n",
       "      <td>29.0</td>\n",
       "      <td>23.4</td>\n",
       "      <td>15.4</td>\n",
       "      <td>67.848332</td>\n",
       "    </tr>\n",
       "    <tr>\n",
       "      <th>30</th>\n",
       "      <td>NH</td>\n",
       "      <td>8621</td>\n",
       "      <td>824</td>\n",
       "      <td>1672</td>\n",
       "      <td>2422</td>\n",
       "      <td>2153</td>\n",
       "      <td>1550</td>\n",
       "      <td>9.6</td>\n",
       "      <td>19.4</td>\n",
       "      <td>28.1</td>\n",
       "      <td>25.0</td>\n",
       "      <td>18.0</td>\n",
       "      <td>71.047442</td>\n",
       "    </tr>\n",
       "    <tr>\n",
       "      <th>42</th>\n",
       "      <td>SD</td>\n",
       "      <td>4411</td>\n",
       "      <td>329</td>\n",
       "      <td>912</td>\n",
       "      <td>1291</td>\n",
       "      <td>1095</td>\n",
       "      <td>784</td>\n",
       "      <td>7.5</td>\n",
       "      <td>20.7</td>\n",
       "      <td>29.3</td>\n",
       "      <td>24.8</td>\n",
       "      <td>17.8</td>\n",
       "      <td>71.86579</td>\n",
       "    </tr>\n",
       "  </tbody>\n",
       "</table>\n",
       "</div>"
      ],
      "text/plain": [
       "   stabbr    Total Score 1 Score 2 Score 3 Score 4 Score 5  Percent 1  \\\n",
       "25     MS    14788    5850    3365    2880    1753     940       39.6   \n",
       "19     LA    30434   10890    7248    6086    4039    2171       35.8   \n",
       "32     NM    14328    4951    3571    2982    1761    1063       34.6   \n",
       "4      AR    41105   12925   10841    9253    5533    2553       31.4   \n",
       "9      DC     6840    2547    1403    1119     965     806       37.2   \n",
       "1      AL    44241   13031   11317    9838    6516    3539       29.5   \n",
       "49     WV     9091    2307    2372    2163    1480     769       25.4   \n",
       "44     TX   545526  160842  117958  116559   90096   60071       29.5   \n",
       "29     NV    29932    7811    7042    7180    4982    2917       26.1   \n",
       "37     OK    21467    4870    5707    5364    3650    1876       22.7   \n",
       "8      DE     9384    2254    2228    2299    1589    1014       24.0   \n",
       "18     KY    38785    8341   10067   10059    6736    3582       21.5   \n",
       "10     FL   315209   74586   70864   78230   57057   34472       23.7   \n",
       "12     HI     8374    1768    2061    2236    1485     824       21.1   \n",
       "15     IN    74126   15698   17917   19142   13566    7803       21.2   \n",
       "51     WY     3565     649     938     956     656     366       18.2   \n",
       "40     RI     9792    2088    2171    2517    1863    1153       21.3   \n",
       "43     TN    54151   11400   11953   13176   10747    6875       21.1   \n",
       "34     NC   121919   25185   26706   30082   24511   15435       20.7   \n",
       "33     NY   289273   57289   62469   72277   57307   39931       19.8   \n",
       "0     NAT  4050855  810450  860182  990625  812854  576744       20.0   \n",
       "2      AK     4741     793    1133    1323     927     565       16.7   \n",
       "3      AZ    62230   11041   13518   15707   12578    9386       17.7   \n",
       "14     IL   204232   37920   41674   49959   43424   31255       18.6   \n",
       "5      CA   616560  113544  124928  145798  127523  104767       18.4   \n",
       "26     MO    35668    5855    7856    9242    7288    5427       16.4   \n",
       "38     OR    25701    4183    5597    6946    5510    3465       16.3   \n",
       "16     IA    16397    2424    3779    4344    3557    2293       14.8   \n",
       "35     ND     4506     595    1103    1361     963     484       13.2   \n",
       "11     GA   150763   25908   30799   38066   32925   23065       17.2   \n",
       "6      CO    78886   12848   16750   20683   17115   11490       16.3   \n",
       "13     ID    12640    1818    2920    3437    2814    1651       14.4   \n",
       "47     VA   130567   20841   27841   33567   28196   20122       16.0   \n",
       "20     ME    11020    1530    2556    3162    2406    1366       13.9   \n",
       "28     NE    12941    1847    2902    3630    2900    1662       14.3   \n",
       "41     SC    46617    7281    9780   12509   10333    6714       15.6   \n",
       "23     MI    87734   12577   18763   23626   19275   13493       14.3   \n",
       "36     OH    99608   14573   20590   26717   22166   15562       14.6   \n",
       "21     MD    92875   14283   18446   23274   20400   16472       15.4   \n",
       "22     MA   101268   16289   19021   24608   22880   18470       16.1   \n",
       "48     WA    72194   10830   13780   18074   16130   13380       15.0   \n",
       "17     KS    13387    1512    3034    3624    3171    2046       11.3   \n",
       "50     WI    66935    8593   14032   18277   15842   10191       12.8   \n",
       "31     NJ   140317   21839   25498   33545   32080   27355       15.6   \n",
       "46     VT     4978     572    1091    1469    1101     745       11.5   \n",
       "27     MT     6243     586    1499    1867    1440     851        9.4   \n",
       "7      CT    51088    7545    9506   12610   12122    9305       14.8   \n",
       "24     MN    54810    6991   11125   14938   12872    8884       12.8   \n",
       "39     PA   108838   14824   21029   28026   25591   19368       13.6   \n",
       "45     UT    41749    4573    8850   12125    9785    6416       11.0   \n",
       "30     NH     8621     824    1672    2422    2153    1550        9.6   \n",
       "42     SD     4411     329     912    1291    1095     784        7.5   \n",
       "\n",
       "    Percent 2  Percent 3  Percent 4  Percent 5   PassRate  \n",
       "25       22.8       19.5       11.9        6.4  37.685962  \n",
       "19       23.8       20.0       13.3        7.1  40.402182  \n",
       "32       24.9       20.8       12.3        7.4  40.522055  \n",
       "4        26.4       22.5       13.5        6.2  42.182216  \n",
       "9        20.5       16.4       14.1       11.8  42.251462  \n",
       "1        25.6       22.2       14.7        8.0  44.965078  \n",
       "49       26.1       23.8       16.3        8.5  48.531515  \n",
       "44       21.6       21.4       16.5       11.0  48.893362  \n",
       "29       23.5       24.0       16.6        9.7  50.377522  \n",
       "37       26.6       25.0       17.0        8.7  50.729026  \n",
       "8        23.7       24.5       16.9       10.8  52.237852  \n",
       "18       26.0       25.9       17.4        9.2  52.538352  \n",
       "10       22.5       24.8       18.1       10.9  53.856013  \n",
       "12       24.6       26.7       17.7        9.8  54.275137  \n",
       "15       24.2       25.8       18.3       10.5  54.651539  \n",
       "51       26.3       26.8       18.4       10.3  55.483871  \n",
       "40       22.2       25.7       19.0       11.8   56.50531  \n",
       "43       22.1       24.3       19.8       12.7  56.874296  \n",
       "34       21.9       24.7       20.1       12.7  57.438135  \n",
       "33       21.6       25.0       19.8       13.8  58.600353  \n",
       "0        21.2       24.5       20.1       14.2  58.758534  \n",
       "2        23.9       27.9       19.6       11.9  59.375659  \n",
       "3        21.7       25.2       20.2       15.1  60.535112  \n",
       "14       20.4       24.5       21.3       15.3  61.027655  \n",
       "5        20.3       23.6       20.7       17.0  61.322175  \n",
       "26       22.0       25.9       20.4       15.2  61.559381  \n",
       "38       21.8       27.0       21.4       13.5  61.947006  \n",
       "16       23.0       26.5       21.7       14.0  62.169909  \n",
       "35       24.5       30.2       21.4       10.7  62.316911  \n",
       "11       20.4       25.2       21.8       15.3   62.38666  \n",
       "6        21.2       26.2       21.7       14.6  62.480034  \n",
       "13       23.1       27.2       22.3       13.1  62.515823  \n",
       "47       21.3       25.7       21.6       15.4  62.714928  \n",
       "20       23.2       28.7       21.8       12.4   62.92196  \n",
       "28       22.4       28.1       22.4       12.8  63.302681  \n",
       "41       21.0       26.8       22.2       14.4  63.401763  \n",
       "23       21.4       26.9       22.0       15.4  64.278387  \n",
       "36       20.7       26.8       22.3       15.6  64.698619  \n",
       "21       19.9       25.1       22.0       17.7  64.760162  \n",
       "22       18.8       24.3       22.6       18.2  65.132125  \n",
       "48       19.1       25.0       22.3       18.5  65.911295  \n",
       "17       22.7       27.1       23.7       15.3  66.041682  \n",
       "50       21.0       27.3       23.7       15.2  66.198551  \n",
       "31       18.2       23.9       22.9       19.5  66.264245  \n",
       "46       21.9       29.5       22.1       15.0  66.593009  \n",
       "27       24.0       29.9       23.1       13.6  66.602595  \n",
       "7        18.6       24.7       23.7       18.2  66.624256  \n",
       "24       20.3       27.3       23.5       16.2  66.947637  \n",
       "39       19.3       25.8       23.5       17.8   67.05838  \n",
       "45       21.2       29.0       23.4       15.4  67.848332  \n",
       "30       19.4       28.1       25.0       18.0  71.047442  \n",
       "42       20.7       29.3       24.8       17.8   71.86579  "
      ]
     },
     "execution_count": 21,
     "metadata": {},
     "output_type": "execute_result"
    }
   ],
   "source": [
    "AP_outcomes['PassRate'] = (AP_outcomes['Score 3'] + AP_outcomes['Score 4'] + AP_outcomes['Score 5']) / AP_outcomes['Total'] * 100\n",
    "AP_outcome_reorded = AP_outcomes.sort_values('PassRate')\n",
    "AP_outcome_reorded"
   ]
  },
  {
   "cell_type": "code",
   "execution_count": 24,
   "metadata": {},
   "outputs": [],
   "source": [
    "def produce_distribution(stabbr):\n",
    "    df = AP_outcomes[AP_outcomes['stabbr'] == stabbr]\n",
    "    bins = [1, 2, 3, 4, 5]\n",
    "    weights = list(df.iloc[0,7:13])\n",
    "\n",
    "    # KDE curve calculation\n",
    "    # kde = gaussian_kde(bins, weights = weights)\n",
    "    # x_kde = np.linspace(min(bins) - 0.5, max(bins) + 0.5, 100)\n",
    "    # y_kde = kde(x_kde)\n",
    "\n",
    "    # Create bar plot\n",
    "    fig = go.Figure()\n",
    "\n",
    "    colors = ['#FFCC00', '#FF9900', '#FF6600', '#FF3300', '#CC0000']  # Burnt yellow to red\n",
    "    fig.add_trace(go.Bar(\n",
    "        x=bins,\n",
    "        y=weights,\n",
    "        width=0.5,  # Thinner bars\n",
    "        marker=dict(color=colors),\n",
    "        hovertemplate=\"<b>Score %{x}</b><br><b>Percentage:</b> %{y}%<extra></extra>\", \n",
    "        showlegend=False\n",
    "    ))\n",
    "\n",
    "    # # Add KDE curve trace\n",
    "    # fig.add_trace(go.Scatter(\n",
    "    #     x=x_kde,\n",
    "    #     y=y_kde * 100,  # Adjust scaling to match bar height\n",
    "    #     mode='lines',\n",
    "    #     line=dict(color='red', width=2),\n",
    "    #     showlegend=False\n",
    "    # ))\n",
    "\n",
    "    # Update layout for aesthetics\n",
    "    fig.update_layout(\n",
    "        title=f\"Score Distribution for {states_dict[stabbr]}\",\n",
    "        xaxis_title=\"AP Exam Score\",\n",
    "        yaxis_title=\"Percentage\",\n",
    "        barmode='overlay',\n",
    "        template='plotly_white'\n",
    "    )\n",
    "\n",
    "    fig.show()\n",
    "\n",
    "    # pickle everything\n",
    "    with open(f'../data/{stabbr}_pickled/{stabbr}_score_distribution.pkl', 'wb') as f:\n",
    "        pickle.dump(fig, f)"
   ]
  },
  {
   "cell_type": "code",
   "execution_count": 25,
   "metadata": {},
   "outputs": [
    {
     "data": {
      "application/vnd.plotly.v1+json": {
       "config": {
        "plotlyServerURL": "https://plot.ly"
       },
       "data": [
        {
         "hovertemplate": "<b>Score %{x}</b><br><b>Percentage:</b> %{y}%<extra></extra>",
         "marker": {
          "color": [
           "#FFCC00",
           "#FF9900",
           "#FF6600",
           "#FF3300",
           "#CC0000"
          ]
         },
         "showlegend": false,
         "type": "bar",
         "width": 0.5,
         "x": [
          1,
          2,
          3,
          4,
          5
         ],
         "y": [
          16.1,
          18.8,
          24.3,
          22.6,
          18.2,
          65.13212465931983
         ]
        }
       ],
       "layout": {
        "barmode": "overlay",
        "template": {
         "data": {
          "bar": [
           {
            "error_x": {
             "color": "#2a3f5f"
            },
            "error_y": {
             "color": "#2a3f5f"
            },
            "marker": {
             "line": {
              "color": "white",
              "width": 0.5
             },
             "pattern": {
              "fillmode": "overlay",
              "size": 10,
              "solidity": 0.2
             }
            },
            "type": "bar"
           }
          ],
          "barpolar": [
           {
            "marker": {
             "line": {
              "color": "white",
              "width": 0.5
             },
             "pattern": {
              "fillmode": "overlay",
              "size": 10,
              "solidity": 0.2
             }
            },
            "type": "barpolar"
           }
          ],
          "carpet": [
           {
            "aaxis": {
             "endlinecolor": "#2a3f5f",
             "gridcolor": "#C8D4E3",
             "linecolor": "#C8D4E3",
             "minorgridcolor": "#C8D4E3",
             "startlinecolor": "#2a3f5f"
            },
            "baxis": {
             "endlinecolor": "#2a3f5f",
             "gridcolor": "#C8D4E3",
             "linecolor": "#C8D4E3",
             "minorgridcolor": "#C8D4E3",
             "startlinecolor": "#2a3f5f"
            },
            "type": "carpet"
           }
          ],
          "choropleth": [
           {
            "colorbar": {
             "outlinewidth": 0,
             "ticks": ""
            },
            "type": "choropleth"
           }
          ],
          "contour": [
           {
            "colorbar": {
             "outlinewidth": 0,
             "ticks": ""
            },
            "colorscale": [
             [
              0,
              "#0d0887"
             ],
             [
              0.1111111111111111,
              "#46039f"
             ],
             [
              0.2222222222222222,
              "#7201a8"
             ],
             [
              0.3333333333333333,
              "#9c179e"
             ],
             [
              0.4444444444444444,
              "#bd3786"
             ],
             [
              0.5555555555555556,
              "#d8576b"
             ],
             [
              0.6666666666666666,
              "#ed7953"
             ],
             [
              0.7777777777777778,
              "#fb9f3a"
             ],
             [
              0.8888888888888888,
              "#fdca26"
             ],
             [
              1,
              "#f0f921"
             ]
            ],
            "type": "contour"
           }
          ],
          "contourcarpet": [
           {
            "colorbar": {
             "outlinewidth": 0,
             "ticks": ""
            },
            "type": "contourcarpet"
           }
          ],
          "heatmap": [
           {
            "colorbar": {
             "outlinewidth": 0,
             "ticks": ""
            },
            "colorscale": [
             [
              0,
              "#0d0887"
             ],
             [
              0.1111111111111111,
              "#46039f"
             ],
             [
              0.2222222222222222,
              "#7201a8"
             ],
             [
              0.3333333333333333,
              "#9c179e"
             ],
             [
              0.4444444444444444,
              "#bd3786"
             ],
             [
              0.5555555555555556,
              "#d8576b"
             ],
             [
              0.6666666666666666,
              "#ed7953"
             ],
             [
              0.7777777777777778,
              "#fb9f3a"
             ],
             [
              0.8888888888888888,
              "#fdca26"
             ],
             [
              1,
              "#f0f921"
             ]
            ],
            "type": "heatmap"
           }
          ],
          "heatmapgl": [
           {
            "colorbar": {
             "outlinewidth": 0,
             "ticks": ""
            },
            "colorscale": [
             [
              0,
              "#0d0887"
             ],
             [
              0.1111111111111111,
              "#46039f"
             ],
             [
              0.2222222222222222,
              "#7201a8"
             ],
             [
              0.3333333333333333,
              "#9c179e"
             ],
             [
              0.4444444444444444,
              "#bd3786"
             ],
             [
              0.5555555555555556,
              "#d8576b"
             ],
             [
              0.6666666666666666,
              "#ed7953"
             ],
             [
              0.7777777777777778,
              "#fb9f3a"
             ],
             [
              0.8888888888888888,
              "#fdca26"
             ],
             [
              1,
              "#f0f921"
             ]
            ],
            "type": "heatmapgl"
           }
          ],
          "histogram": [
           {
            "marker": {
             "pattern": {
              "fillmode": "overlay",
              "size": 10,
              "solidity": 0.2
             }
            },
            "type": "histogram"
           }
          ],
          "histogram2d": [
           {
            "colorbar": {
             "outlinewidth": 0,
             "ticks": ""
            },
            "colorscale": [
             [
              0,
              "#0d0887"
             ],
             [
              0.1111111111111111,
              "#46039f"
             ],
             [
              0.2222222222222222,
              "#7201a8"
             ],
             [
              0.3333333333333333,
              "#9c179e"
             ],
             [
              0.4444444444444444,
              "#bd3786"
             ],
             [
              0.5555555555555556,
              "#d8576b"
             ],
             [
              0.6666666666666666,
              "#ed7953"
             ],
             [
              0.7777777777777778,
              "#fb9f3a"
             ],
             [
              0.8888888888888888,
              "#fdca26"
             ],
             [
              1,
              "#f0f921"
             ]
            ],
            "type": "histogram2d"
           }
          ],
          "histogram2dcontour": [
           {
            "colorbar": {
             "outlinewidth": 0,
             "ticks": ""
            },
            "colorscale": [
             [
              0,
              "#0d0887"
             ],
             [
              0.1111111111111111,
              "#46039f"
             ],
             [
              0.2222222222222222,
              "#7201a8"
             ],
             [
              0.3333333333333333,
              "#9c179e"
             ],
             [
              0.4444444444444444,
              "#bd3786"
             ],
             [
              0.5555555555555556,
              "#d8576b"
             ],
             [
              0.6666666666666666,
              "#ed7953"
             ],
             [
              0.7777777777777778,
              "#fb9f3a"
             ],
             [
              0.8888888888888888,
              "#fdca26"
             ],
             [
              1,
              "#f0f921"
             ]
            ],
            "type": "histogram2dcontour"
           }
          ],
          "mesh3d": [
           {
            "colorbar": {
             "outlinewidth": 0,
             "ticks": ""
            },
            "type": "mesh3d"
           }
          ],
          "parcoords": [
           {
            "line": {
             "colorbar": {
              "outlinewidth": 0,
              "ticks": ""
             }
            },
            "type": "parcoords"
           }
          ],
          "pie": [
           {
            "automargin": true,
            "type": "pie"
           }
          ],
          "scatter": [
           {
            "fillpattern": {
             "fillmode": "overlay",
             "size": 10,
             "solidity": 0.2
            },
            "type": "scatter"
           }
          ],
          "scatter3d": [
           {
            "line": {
             "colorbar": {
              "outlinewidth": 0,
              "ticks": ""
             }
            },
            "marker": {
             "colorbar": {
              "outlinewidth": 0,
              "ticks": ""
             }
            },
            "type": "scatter3d"
           }
          ],
          "scattercarpet": [
           {
            "marker": {
             "colorbar": {
              "outlinewidth": 0,
              "ticks": ""
             }
            },
            "type": "scattercarpet"
           }
          ],
          "scattergeo": [
           {
            "marker": {
             "colorbar": {
              "outlinewidth": 0,
              "ticks": ""
             }
            },
            "type": "scattergeo"
           }
          ],
          "scattergl": [
           {
            "marker": {
             "colorbar": {
              "outlinewidth": 0,
              "ticks": ""
             }
            },
            "type": "scattergl"
           }
          ],
          "scattermapbox": [
           {
            "marker": {
             "colorbar": {
              "outlinewidth": 0,
              "ticks": ""
             }
            },
            "type": "scattermapbox"
           }
          ],
          "scatterpolar": [
           {
            "marker": {
             "colorbar": {
              "outlinewidth": 0,
              "ticks": ""
             }
            },
            "type": "scatterpolar"
           }
          ],
          "scatterpolargl": [
           {
            "marker": {
             "colorbar": {
              "outlinewidth": 0,
              "ticks": ""
             }
            },
            "type": "scatterpolargl"
           }
          ],
          "scatterternary": [
           {
            "marker": {
             "colorbar": {
              "outlinewidth": 0,
              "ticks": ""
             }
            },
            "type": "scatterternary"
           }
          ],
          "surface": [
           {
            "colorbar": {
             "outlinewidth": 0,
             "ticks": ""
            },
            "colorscale": [
             [
              0,
              "#0d0887"
             ],
             [
              0.1111111111111111,
              "#46039f"
             ],
             [
              0.2222222222222222,
              "#7201a8"
             ],
             [
              0.3333333333333333,
              "#9c179e"
             ],
             [
              0.4444444444444444,
              "#bd3786"
             ],
             [
              0.5555555555555556,
              "#d8576b"
             ],
             [
              0.6666666666666666,
              "#ed7953"
             ],
             [
              0.7777777777777778,
              "#fb9f3a"
             ],
             [
              0.8888888888888888,
              "#fdca26"
             ],
             [
              1,
              "#f0f921"
             ]
            ],
            "type": "surface"
           }
          ],
          "table": [
           {
            "cells": {
             "fill": {
              "color": "#EBF0F8"
             },
             "line": {
              "color": "white"
             }
            },
            "header": {
             "fill": {
              "color": "#C8D4E3"
             },
             "line": {
              "color": "white"
             }
            },
            "type": "table"
           }
          ]
         },
         "layout": {
          "annotationdefaults": {
           "arrowcolor": "#2a3f5f",
           "arrowhead": 0,
           "arrowwidth": 1
          },
          "autotypenumbers": "strict",
          "coloraxis": {
           "colorbar": {
            "outlinewidth": 0,
            "ticks": ""
           }
          },
          "colorscale": {
           "diverging": [
            [
             0,
             "#8e0152"
            ],
            [
             0.1,
             "#c51b7d"
            ],
            [
             0.2,
             "#de77ae"
            ],
            [
             0.3,
             "#f1b6da"
            ],
            [
             0.4,
             "#fde0ef"
            ],
            [
             0.5,
             "#f7f7f7"
            ],
            [
             0.6,
             "#e6f5d0"
            ],
            [
             0.7,
             "#b8e186"
            ],
            [
             0.8,
             "#7fbc41"
            ],
            [
             0.9,
             "#4d9221"
            ],
            [
             1,
             "#276419"
            ]
           ],
           "sequential": [
            [
             0,
             "#0d0887"
            ],
            [
             0.1111111111111111,
             "#46039f"
            ],
            [
             0.2222222222222222,
             "#7201a8"
            ],
            [
             0.3333333333333333,
             "#9c179e"
            ],
            [
             0.4444444444444444,
             "#bd3786"
            ],
            [
             0.5555555555555556,
             "#d8576b"
            ],
            [
             0.6666666666666666,
             "#ed7953"
            ],
            [
             0.7777777777777778,
             "#fb9f3a"
            ],
            [
             0.8888888888888888,
             "#fdca26"
            ],
            [
             1,
             "#f0f921"
            ]
           ],
           "sequentialminus": [
            [
             0,
             "#0d0887"
            ],
            [
             0.1111111111111111,
             "#46039f"
            ],
            [
             0.2222222222222222,
             "#7201a8"
            ],
            [
             0.3333333333333333,
             "#9c179e"
            ],
            [
             0.4444444444444444,
             "#bd3786"
            ],
            [
             0.5555555555555556,
             "#d8576b"
            ],
            [
             0.6666666666666666,
             "#ed7953"
            ],
            [
             0.7777777777777778,
             "#fb9f3a"
            ],
            [
             0.8888888888888888,
             "#fdca26"
            ],
            [
             1,
             "#f0f921"
            ]
           ]
          },
          "colorway": [
           "#636efa",
           "#EF553B",
           "#00cc96",
           "#ab63fa",
           "#FFA15A",
           "#19d3f3",
           "#FF6692",
           "#B6E880",
           "#FF97FF",
           "#FECB52"
          ],
          "font": {
           "color": "#2a3f5f"
          },
          "geo": {
           "bgcolor": "white",
           "lakecolor": "white",
           "landcolor": "white",
           "showlakes": true,
           "showland": true,
           "subunitcolor": "#C8D4E3"
          },
          "hoverlabel": {
           "align": "left"
          },
          "hovermode": "closest",
          "mapbox": {
           "style": "light"
          },
          "paper_bgcolor": "white",
          "plot_bgcolor": "white",
          "polar": {
           "angularaxis": {
            "gridcolor": "#EBF0F8",
            "linecolor": "#EBF0F8",
            "ticks": ""
           },
           "bgcolor": "white",
           "radialaxis": {
            "gridcolor": "#EBF0F8",
            "linecolor": "#EBF0F8",
            "ticks": ""
           }
          },
          "scene": {
           "xaxis": {
            "backgroundcolor": "white",
            "gridcolor": "#DFE8F3",
            "gridwidth": 2,
            "linecolor": "#EBF0F8",
            "showbackground": true,
            "ticks": "",
            "zerolinecolor": "#EBF0F8"
           },
           "yaxis": {
            "backgroundcolor": "white",
            "gridcolor": "#DFE8F3",
            "gridwidth": 2,
            "linecolor": "#EBF0F8",
            "showbackground": true,
            "ticks": "",
            "zerolinecolor": "#EBF0F8"
           },
           "zaxis": {
            "backgroundcolor": "white",
            "gridcolor": "#DFE8F3",
            "gridwidth": 2,
            "linecolor": "#EBF0F8",
            "showbackground": true,
            "ticks": "",
            "zerolinecolor": "#EBF0F8"
           }
          },
          "shapedefaults": {
           "line": {
            "color": "#2a3f5f"
           }
          },
          "ternary": {
           "aaxis": {
            "gridcolor": "#DFE8F3",
            "linecolor": "#A2B1C6",
            "ticks": ""
           },
           "baxis": {
            "gridcolor": "#DFE8F3",
            "linecolor": "#A2B1C6",
            "ticks": ""
           },
           "bgcolor": "white",
           "caxis": {
            "gridcolor": "#DFE8F3",
            "linecolor": "#A2B1C6",
            "ticks": ""
           }
          },
          "title": {
           "x": 0.05
          },
          "xaxis": {
           "automargin": true,
           "gridcolor": "#EBF0F8",
           "linecolor": "#EBF0F8",
           "ticks": "",
           "title": {
            "standoff": 15
           },
           "zerolinecolor": "#EBF0F8",
           "zerolinewidth": 2
          },
          "yaxis": {
           "automargin": true,
           "gridcolor": "#EBF0F8",
           "linecolor": "#EBF0F8",
           "ticks": "",
           "title": {
            "standoff": 15
           },
           "zerolinecolor": "#EBF0F8",
           "zerolinewidth": 2
          }
         }
        },
        "title": {
         "text": "Score Distribution for Massachusetts"
        },
        "xaxis": {
         "title": {
          "text": "AP Exam Score"
         }
        },
        "yaxis": {
         "title": {
          "text": "Percentage"
         }
        }
       }
      }
     },
     "metadata": {},
     "output_type": "display_data"
    },
    {
     "data": {
      "application/vnd.plotly.v1+json": {
       "config": {
        "plotlyServerURL": "https://plot.ly"
       },
       "data": [
        {
         "hovertemplate": "<b>Score %{x}</b><br><b>Percentage:</b> %{y}%<extra></extra>",
         "marker": {
          "color": [
           "#FFCC00",
           "#FF9900",
           "#FF6600",
           "#FF3300",
           "#CC0000"
          ]
         },
         "showlegend": false,
         "type": "bar",
         "width": 0.5,
         "x": [
          1,
          2,
          3,
          4,
          5
         ],
         "y": [
          12.8,
          21,
          27.3,
          23.7,
          15.2,
          66.19855083289758
         ]
        }
       ],
       "layout": {
        "barmode": "overlay",
        "template": {
         "data": {
          "bar": [
           {
            "error_x": {
             "color": "#2a3f5f"
            },
            "error_y": {
             "color": "#2a3f5f"
            },
            "marker": {
             "line": {
              "color": "white",
              "width": 0.5
             },
             "pattern": {
              "fillmode": "overlay",
              "size": 10,
              "solidity": 0.2
             }
            },
            "type": "bar"
           }
          ],
          "barpolar": [
           {
            "marker": {
             "line": {
              "color": "white",
              "width": 0.5
             },
             "pattern": {
              "fillmode": "overlay",
              "size": 10,
              "solidity": 0.2
             }
            },
            "type": "barpolar"
           }
          ],
          "carpet": [
           {
            "aaxis": {
             "endlinecolor": "#2a3f5f",
             "gridcolor": "#C8D4E3",
             "linecolor": "#C8D4E3",
             "minorgridcolor": "#C8D4E3",
             "startlinecolor": "#2a3f5f"
            },
            "baxis": {
             "endlinecolor": "#2a3f5f",
             "gridcolor": "#C8D4E3",
             "linecolor": "#C8D4E3",
             "minorgridcolor": "#C8D4E3",
             "startlinecolor": "#2a3f5f"
            },
            "type": "carpet"
           }
          ],
          "choropleth": [
           {
            "colorbar": {
             "outlinewidth": 0,
             "ticks": ""
            },
            "type": "choropleth"
           }
          ],
          "contour": [
           {
            "colorbar": {
             "outlinewidth": 0,
             "ticks": ""
            },
            "colorscale": [
             [
              0,
              "#0d0887"
             ],
             [
              0.1111111111111111,
              "#46039f"
             ],
             [
              0.2222222222222222,
              "#7201a8"
             ],
             [
              0.3333333333333333,
              "#9c179e"
             ],
             [
              0.4444444444444444,
              "#bd3786"
             ],
             [
              0.5555555555555556,
              "#d8576b"
             ],
             [
              0.6666666666666666,
              "#ed7953"
             ],
             [
              0.7777777777777778,
              "#fb9f3a"
             ],
             [
              0.8888888888888888,
              "#fdca26"
             ],
             [
              1,
              "#f0f921"
             ]
            ],
            "type": "contour"
           }
          ],
          "contourcarpet": [
           {
            "colorbar": {
             "outlinewidth": 0,
             "ticks": ""
            },
            "type": "contourcarpet"
           }
          ],
          "heatmap": [
           {
            "colorbar": {
             "outlinewidth": 0,
             "ticks": ""
            },
            "colorscale": [
             [
              0,
              "#0d0887"
             ],
             [
              0.1111111111111111,
              "#46039f"
             ],
             [
              0.2222222222222222,
              "#7201a8"
             ],
             [
              0.3333333333333333,
              "#9c179e"
             ],
             [
              0.4444444444444444,
              "#bd3786"
             ],
             [
              0.5555555555555556,
              "#d8576b"
             ],
             [
              0.6666666666666666,
              "#ed7953"
             ],
             [
              0.7777777777777778,
              "#fb9f3a"
             ],
             [
              0.8888888888888888,
              "#fdca26"
             ],
             [
              1,
              "#f0f921"
             ]
            ],
            "type": "heatmap"
           }
          ],
          "heatmapgl": [
           {
            "colorbar": {
             "outlinewidth": 0,
             "ticks": ""
            },
            "colorscale": [
             [
              0,
              "#0d0887"
             ],
             [
              0.1111111111111111,
              "#46039f"
             ],
             [
              0.2222222222222222,
              "#7201a8"
             ],
             [
              0.3333333333333333,
              "#9c179e"
             ],
             [
              0.4444444444444444,
              "#bd3786"
             ],
             [
              0.5555555555555556,
              "#d8576b"
             ],
             [
              0.6666666666666666,
              "#ed7953"
             ],
             [
              0.7777777777777778,
              "#fb9f3a"
             ],
             [
              0.8888888888888888,
              "#fdca26"
             ],
             [
              1,
              "#f0f921"
             ]
            ],
            "type": "heatmapgl"
           }
          ],
          "histogram": [
           {
            "marker": {
             "pattern": {
              "fillmode": "overlay",
              "size": 10,
              "solidity": 0.2
             }
            },
            "type": "histogram"
           }
          ],
          "histogram2d": [
           {
            "colorbar": {
             "outlinewidth": 0,
             "ticks": ""
            },
            "colorscale": [
             [
              0,
              "#0d0887"
             ],
             [
              0.1111111111111111,
              "#46039f"
             ],
             [
              0.2222222222222222,
              "#7201a8"
             ],
             [
              0.3333333333333333,
              "#9c179e"
             ],
             [
              0.4444444444444444,
              "#bd3786"
             ],
             [
              0.5555555555555556,
              "#d8576b"
             ],
             [
              0.6666666666666666,
              "#ed7953"
             ],
             [
              0.7777777777777778,
              "#fb9f3a"
             ],
             [
              0.8888888888888888,
              "#fdca26"
             ],
             [
              1,
              "#f0f921"
             ]
            ],
            "type": "histogram2d"
           }
          ],
          "histogram2dcontour": [
           {
            "colorbar": {
             "outlinewidth": 0,
             "ticks": ""
            },
            "colorscale": [
             [
              0,
              "#0d0887"
             ],
             [
              0.1111111111111111,
              "#46039f"
             ],
             [
              0.2222222222222222,
              "#7201a8"
             ],
             [
              0.3333333333333333,
              "#9c179e"
             ],
             [
              0.4444444444444444,
              "#bd3786"
             ],
             [
              0.5555555555555556,
              "#d8576b"
             ],
             [
              0.6666666666666666,
              "#ed7953"
             ],
             [
              0.7777777777777778,
              "#fb9f3a"
             ],
             [
              0.8888888888888888,
              "#fdca26"
             ],
             [
              1,
              "#f0f921"
             ]
            ],
            "type": "histogram2dcontour"
           }
          ],
          "mesh3d": [
           {
            "colorbar": {
             "outlinewidth": 0,
             "ticks": ""
            },
            "type": "mesh3d"
           }
          ],
          "parcoords": [
           {
            "line": {
             "colorbar": {
              "outlinewidth": 0,
              "ticks": ""
             }
            },
            "type": "parcoords"
           }
          ],
          "pie": [
           {
            "automargin": true,
            "type": "pie"
           }
          ],
          "scatter": [
           {
            "fillpattern": {
             "fillmode": "overlay",
             "size": 10,
             "solidity": 0.2
            },
            "type": "scatter"
           }
          ],
          "scatter3d": [
           {
            "line": {
             "colorbar": {
              "outlinewidth": 0,
              "ticks": ""
             }
            },
            "marker": {
             "colorbar": {
              "outlinewidth": 0,
              "ticks": ""
             }
            },
            "type": "scatter3d"
           }
          ],
          "scattercarpet": [
           {
            "marker": {
             "colorbar": {
              "outlinewidth": 0,
              "ticks": ""
             }
            },
            "type": "scattercarpet"
           }
          ],
          "scattergeo": [
           {
            "marker": {
             "colorbar": {
              "outlinewidth": 0,
              "ticks": ""
             }
            },
            "type": "scattergeo"
           }
          ],
          "scattergl": [
           {
            "marker": {
             "colorbar": {
              "outlinewidth": 0,
              "ticks": ""
             }
            },
            "type": "scattergl"
           }
          ],
          "scattermapbox": [
           {
            "marker": {
             "colorbar": {
              "outlinewidth": 0,
              "ticks": ""
             }
            },
            "type": "scattermapbox"
           }
          ],
          "scatterpolar": [
           {
            "marker": {
             "colorbar": {
              "outlinewidth": 0,
              "ticks": ""
             }
            },
            "type": "scatterpolar"
           }
          ],
          "scatterpolargl": [
           {
            "marker": {
             "colorbar": {
              "outlinewidth": 0,
              "ticks": ""
             }
            },
            "type": "scatterpolargl"
           }
          ],
          "scatterternary": [
           {
            "marker": {
             "colorbar": {
              "outlinewidth": 0,
              "ticks": ""
             }
            },
            "type": "scatterternary"
           }
          ],
          "surface": [
           {
            "colorbar": {
             "outlinewidth": 0,
             "ticks": ""
            },
            "colorscale": [
             [
              0,
              "#0d0887"
             ],
             [
              0.1111111111111111,
              "#46039f"
             ],
             [
              0.2222222222222222,
              "#7201a8"
             ],
             [
              0.3333333333333333,
              "#9c179e"
             ],
             [
              0.4444444444444444,
              "#bd3786"
             ],
             [
              0.5555555555555556,
              "#d8576b"
             ],
             [
              0.6666666666666666,
              "#ed7953"
             ],
             [
              0.7777777777777778,
              "#fb9f3a"
             ],
             [
              0.8888888888888888,
              "#fdca26"
             ],
             [
              1,
              "#f0f921"
             ]
            ],
            "type": "surface"
           }
          ],
          "table": [
           {
            "cells": {
             "fill": {
              "color": "#EBF0F8"
             },
             "line": {
              "color": "white"
             }
            },
            "header": {
             "fill": {
              "color": "#C8D4E3"
             },
             "line": {
              "color": "white"
             }
            },
            "type": "table"
           }
          ]
         },
         "layout": {
          "annotationdefaults": {
           "arrowcolor": "#2a3f5f",
           "arrowhead": 0,
           "arrowwidth": 1
          },
          "autotypenumbers": "strict",
          "coloraxis": {
           "colorbar": {
            "outlinewidth": 0,
            "ticks": ""
           }
          },
          "colorscale": {
           "diverging": [
            [
             0,
             "#8e0152"
            ],
            [
             0.1,
             "#c51b7d"
            ],
            [
             0.2,
             "#de77ae"
            ],
            [
             0.3,
             "#f1b6da"
            ],
            [
             0.4,
             "#fde0ef"
            ],
            [
             0.5,
             "#f7f7f7"
            ],
            [
             0.6,
             "#e6f5d0"
            ],
            [
             0.7,
             "#b8e186"
            ],
            [
             0.8,
             "#7fbc41"
            ],
            [
             0.9,
             "#4d9221"
            ],
            [
             1,
             "#276419"
            ]
           ],
           "sequential": [
            [
             0,
             "#0d0887"
            ],
            [
             0.1111111111111111,
             "#46039f"
            ],
            [
             0.2222222222222222,
             "#7201a8"
            ],
            [
             0.3333333333333333,
             "#9c179e"
            ],
            [
             0.4444444444444444,
             "#bd3786"
            ],
            [
             0.5555555555555556,
             "#d8576b"
            ],
            [
             0.6666666666666666,
             "#ed7953"
            ],
            [
             0.7777777777777778,
             "#fb9f3a"
            ],
            [
             0.8888888888888888,
             "#fdca26"
            ],
            [
             1,
             "#f0f921"
            ]
           ],
           "sequentialminus": [
            [
             0,
             "#0d0887"
            ],
            [
             0.1111111111111111,
             "#46039f"
            ],
            [
             0.2222222222222222,
             "#7201a8"
            ],
            [
             0.3333333333333333,
             "#9c179e"
            ],
            [
             0.4444444444444444,
             "#bd3786"
            ],
            [
             0.5555555555555556,
             "#d8576b"
            ],
            [
             0.6666666666666666,
             "#ed7953"
            ],
            [
             0.7777777777777778,
             "#fb9f3a"
            ],
            [
             0.8888888888888888,
             "#fdca26"
            ],
            [
             1,
             "#f0f921"
            ]
           ]
          },
          "colorway": [
           "#636efa",
           "#EF553B",
           "#00cc96",
           "#ab63fa",
           "#FFA15A",
           "#19d3f3",
           "#FF6692",
           "#B6E880",
           "#FF97FF",
           "#FECB52"
          ],
          "font": {
           "color": "#2a3f5f"
          },
          "geo": {
           "bgcolor": "white",
           "lakecolor": "white",
           "landcolor": "white",
           "showlakes": true,
           "showland": true,
           "subunitcolor": "#C8D4E3"
          },
          "hoverlabel": {
           "align": "left"
          },
          "hovermode": "closest",
          "mapbox": {
           "style": "light"
          },
          "paper_bgcolor": "white",
          "plot_bgcolor": "white",
          "polar": {
           "angularaxis": {
            "gridcolor": "#EBF0F8",
            "linecolor": "#EBF0F8",
            "ticks": ""
           },
           "bgcolor": "white",
           "radialaxis": {
            "gridcolor": "#EBF0F8",
            "linecolor": "#EBF0F8",
            "ticks": ""
           }
          },
          "scene": {
           "xaxis": {
            "backgroundcolor": "white",
            "gridcolor": "#DFE8F3",
            "gridwidth": 2,
            "linecolor": "#EBF0F8",
            "showbackground": true,
            "ticks": "",
            "zerolinecolor": "#EBF0F8"
           },
           "yaxis": {
            "backgroundcolor": "white",
            "gridcolor": "#DFE8F3",
            "gridwidth": 2,
            "linecolor": "#EBF0F8",
            "showbackground": true,
            "ticks": "",
            "zerolinecolor": "#EBF0F8"
           },
           "zaxis": {
            "backgroundcolor": "white",
            "gridcolor": "#DFE8F3",
            "gridwidth": 2,
            "linecolor": "#EBF0F8",
            "showbackground": true,
            "ticks": "",
            "zerolinecolor": "#EBF0F8"
           }
          },
          "shapedefaults": {
           "line": {
            "color": "#2a3f5f"
           }
          },
          "ternary": {
           "aaxis": {
            "gridcolor": "#DFE8F3",
            "linecolor": "#A2B1C6",
            "ticks": ""
           },
           "baxis": {
            "gridcolor": "#DFE8F3",
            "linecolor": "#A2B1C6",
            "ticks": ""
           },
           "bgcolor": "white",
           "caxis": {
            "gridcolor": "#DFE8F3",
            "linecolor": "#A2B1C6",
            "ticks": ""
           }
          },
          "title": {
           "x": 0.05
          },
          "xaxis": {
           "automargin": true,
           "gridcolor": "#EBF0F8",
           "linecolor": "#EBF0F8",
           "ticks": "",
           "title": {
            "standoff": 15
           },
           "zerolinecolor": "#EBF0F8",
           "zerolinewidth": 2
          },
          "yaxis": {
           "automargin": true,
           "gridcolor": "#EBF0F8",
           "linecolor": "#EBF0F8",
           "ticks": "",
           "title": {
            "standoff": 15
           },
           "zerolinecolor": "#EBF0F8",
           "zerolinewidth": 2
          }
         }
        },
        "title": {
         "text": "Score Distribution for Wisconsin"
        },
        "xaxis": {
         "title": {
          "text": "AP Exam Score"
         }
        },
        "yaxis": {
         "title": {
          "text": "Percentage"
         }
        }
       }
      }
     },
     "metadata": {},
     "output_type": "display_data"
    },
    {
     "data": {
      "application/vnd.plotly.v1+json": {
       "config": {
        "plotlyServerURL": "https://plot.ly"
       },
       "data": [
        {
         "hovertemplate": "<b>Score %{x}</b><br><b>Percentage:</b> %{y}%<extra></extra>",
         "marker": {
          "color": [
           "#FFCC00",
           "#FF9900",
           "#FF6600",
           "#FF3300",
           "#CC0000"
          ]
         },
         "showlegend": false,
         "type": "bar",
         "width": 0.5,
         "x": [
          1,
          2,
          3,
          4,
          5
         ],
         "y": [
          17.2,
          20.4,
          25.2,
          21.8,
          15.3,
          62.38665985686143
         ]
        }
       ],
       "layout": {
        "barmode": "overlay",
        "template": {
         "data": {
          "bar": [
           {
            "error_x": {
             "color": "#2a3f5f"
            },
            "error_y": {
             "color": "#2a3f5f"
            },
            "marker": {
             "line": {
              "color": "white",
              "width": 0.5
             },
             "pattern": {
              "fillmode": "overlay",
              "size": 10,
              "solidity": 0.2
             }
            },
            "type": "bar"
           }
          ],
          "barpolar": [
           {
            "marker": {
             "line": {
              "color": "white",
              "width": 0.5
             },
             "pattern": {
              "fillmode": "overlay",
              "size": 10,
              "solidity": 0.2
             }
            },
            "type": "barpolar"
           }
          ],
          "carpet": [
           {
            "aaxis": {
             "endlinecolor": "#2a3f5f",
             "gridcolor": "#C8D4E3",
             "linecolor": "#C8D4E3",
             "minorgridcolor": "#C8D4E3",
             "startlinecolor": "#2a3f5f"
            },
            "baxis": {
             "endlinecolor": "#2a3f5f",
             "gridcolor": "#C8D4E3",
             "linecolor": "#C8D4E3",
             "minorgridcolor": "#C8D4E3",
             "startlinecolor": "#2a3f5f"
            },
            "type": "carpet"
           }
          ],
          "choropleth": [
           {
            "colorbar": {
             "outlinewidth": 0,
             "ticks": ""
            },
            "type": "choropleth"
           }
          ],
          "contour": [
           {
            "colorbar": {
             "outlinewidth": 0,
             "ticks": ""
            },
            "colorscale": [
             [
              0,
              "#0d0887"
             ],
             [
              0.1111111111111111,
              "#46039f"
             ],
             [
              0.2222222222222222,
              "#7201a8"
             ],
             [
              0.3333333333333333,
              "#9c179e"
             ],
             [
              0.4444444444444444,
              "#bd3786"
             ],
             [
              0.5555555555555556,
              "#d8576b"
             ],
             [
              0.6666666666666666,
              "#ed7953"
             ],
             [
              0.7777777777777778,
              "#fb9f3a"
             ],
             [
              0.8888888888888888,
              "#fdca26"
             ],
             [
              1,
              "#f0f921"
             ]
            ],
            "type": "contour"
           }
          ],
          "contourcarpet": [
           {
            "colorbar": {
             "outlinewidth": 0,
             "ticks": ""
            },
            "type": "contourcarpet"
           }
          ],
          "heatmap": [
           {
            "colorbar": {
             "outlinewidth": 0,
             "ticks": ""
            },
            "colorscale": [
             [
              0,
              "#0d0887"
             ],
             [
              0.1111111111111111,
              "#46039f"
             ],
             [
              0.2222222222222222,
              "#7201a8"
             ],
             [
              0.3333333333333333,
              "#9c179e"
             ],
             [
              0.4444444444444444,
              "#bd3786"
             ],
             [
              0.5555555555555556,
              "#d8576b"
             ],
             [
              0.6666666666666666,
              "#ed7953"
             ],
             [
              0.7777777777777778,
              "#fb9f3a"
             ],
             [
              0.8888888888888888,
              "#fdca26"
             ],
             [
              1,
              "#f0f921"
             ]
            ],
            "type": "heatmap"
           }
          ],
          "heatmapgl": [
           {
            "colorbar": {
             "outlinewidth": 0,
             "ticks": ""
            },
            "colorscale": [
             [
              0,
              "#0d0887"
             ],
             [
              0.1111111111111111,
              "#46039f"
             ],
             [
              0.2222222222222222,
              "#7201a8"
             ],
             [
              0.3333333333333333,
              "#9c179e"
             ],
             [
              0.4444444444444444,
              "#bd3786"
             ],
             [
              0.5555555555555556,
              "#d8576b"
             ],
             [
              0.6666666666666666,
              "#ed7953"
             ],
             [
              0.7777777777777778,
              "#fb9f3a"
             ],
             [
              0.8888888888888888,
              "#fdca26"
             ],
             [
              1,
              "#f0f921"
             ]
            ],
            "type": "heatmapgl"
           }
          ],
          "histogram": [
           {
            "marker": {
             "pattern": {
              "fillmode": "overlay",
              "size": 10,
              "solidity": 0.2
             }
            },
            "type": "histogram"
           }
          ],
          "histogram2d": [
           {
            "colorbar": {
             "outlinewidth": 0,
             "ticks": ""
            },
            "colorscale": [
             [
              0,
              "#0d0887"
             ],
             [
              0.1111111111111111,
              "#46039f"
             ],
             [
              0.2222222222222222,
              "#7201a8"
             ],
             [
              0.3333333333333333,
              "#9c179e"
             ],
             [
              0.4444444444444444,
              "#bd3786"
             ],
             [
              0.5555555555555556,
              "#d8576b"
             ],
             [
              0.6666666666666666,
              "#ed7953"
             ],
             [
              0.7777777777777778,
              "#fb9f3a"
             ],
             [
              0.8888888888888888,
              "#fdca26"
             ],
             [
              1,
              "#f0f921"
             ]
            ],
            "type": "histogram2d"
           }
          ],
          "histogram2dcontour": [
           {
            "colorbar": {
             "outlinewidth": 0,
             "ticks": ""
            },
            "colorscale": [
             [
              0,
              "#0d0887"
             ],
             [
              0.1111111111111111,
              "#46039f"
             ],
             [
              0.2222222222222222,
              "#7201a8"
             ],
             [
              0.3333333333333333,
              "#9c179e"
             ],
             [
              0.4444444444444444,
              "#bd3786"
             ],
             [
              0.5555555555555556,
              "#d8576b"
             ],
             [
              0.6666666666666666,
              "#ed7953"
             ],
             [
              0.7777777777777778,
              "#fb9f3a"
             ],
             [
              0.8888888888888888,
              "#fdca26"
             ],
             [
              1,
              "#f0f921"
             ]
            ],
            "type": "histogram2dcontour"
           }
          ],
          "mesh3d": [
           {
            "colorbar": {
             "outlinewidth": 0,
             "ticks": ""
            },
            "type": "mesh3d"
           }
          ],
          "parcoords": [
           {
            "line": {
             "colorbar": {
              "outlinewidth": 0,
              "ticks": ""
             }
            },
            "type": "parcoords"
           }
          ],
          "pie": [
           {
            "automargin": true,
            "type": "pie"
           }
          ],
          "scatter": [
           {
            "fillpattern": {
             "fillmode": "overlay",
             "size": 10,
             "solidity": 0.2
            },
            "type": "scatter"
           }
          ],
          "scatter3d": [
           {
            "line": {
             "colorbar": {
              "outlinewidth": 0,
              "ticks": ""
             }
            },
            "marker": {
             "colorbar": {
              "outlinewidth": 0,
              "ticks": ""
             }
            },
            "type": "scatter3d"
           }
          ],
          "scattercarpet": [
           {
            "marker": {
             "colorbar": {
              "outlinewidth": 0,
              "ticks": ""
             }
            },
            "type": "scattercarpet"
           }
          ],
          "scattergeo": [
           {
            "marker": {
             "colorbar": {
              "outlinewidth": 0,
              "ticks": ""
             }
            },
            "type": "scattergeo"
           }
          ],
          "scattergl": [
           {
            "marker": {
             "colorbar": {
              "outlinewidth": 0,
              "ticks": ""
             }
            },
            "type": "scattergl"
           }
          ],
          "scattermapbox": [
           {
            "marker": {
             "colorbar": {
              "outlinewidth": 0,
              "ticks": ""
             }
            },
            "type": "scattermapbox"
           }
          ],
          "scatterpolar": [
           {
            "marker": {
             "colorbar": {
              "outlinewidth": 0,
              "ticks": ""
             }
            },
            "type": "scatterpolar"
           }
          ],
          "scatterpolargl": [
           {
            "marker": {
             "colorbar": {
              "outlinewidth": 0,
              "ticks": ""
             }
            },
            "type": "scatterpolargl"
           }
          ],
          "scatterternary": [
           {
            "marker": {
             "colorbar": {
              "outlinewidth": 0,
              "ticks": ""
             }
            },
            "type": "scatterternary"
           }
          ],
          "surface": [
           {
            "colorbar": {
             "outlinewidth": 0,
             "ticks": ""
            },
            "colorscale": [
             [
              0,
              "#0d0887"
             ],
             [
              0.1111111111111111,
              "#46039f"
             ],
             [
              0.2222222222222222,
              "#7201a8"
             ],
             [
              0.3333333333333333,
              "#9c179e"
             ],
             [
              0.4444444444444444,
              "#bd3786"
             ],
             [
              0.5555555555555556,
              "#d8576b"
             ],
             [
              0.6666666666666666,
              "#ed7953"
             ],
             [
              0.7777777777777778,
              "#fb9f3a"
             ],
             [
              0.8888888888888888,
              "#fdca26"
             ],
             [
              1,
              "#f0f921"
             ]
            ],
            "type": "surface"
           }
          ],
          "table": [
           {
            "cells": {
             "fill": {
              "color": "#EBF0F8"
             },
             "line": {
              "color": "white"
             }
            },
            "header": {
             "fill": {
              "color": "#C8D4E3"
             },
             "line": {
              "color": "white"
             }
            },
            "type": "table"
           }
          ]
         },
         "layout": {
          "annotationdefaults": {
           "arrowcolor": "#2a3f5f",
           "arrowhead": 0,
           "arrowwidth": 1
          },
          "autotypenumbers": "strict",
          "coloraxis": {
           "colorbar": {
            "outlinewidth": 0,
            "ticks": ""
           }
          },
          "colorscale": {
           "diverging": [
            [
             0,
             "#8e0152"
            ],
            [
             0.1,
             "#c51b7d"
            ],
            [
             0.2,
             "#de77ae"
            ],
            [
             0.3,
             "#f1b6da"
            ],
            [
             0.4,
             "#fde0ef"
            ],
            [
             0.5,
             "#f7f7f7"
            ],
            [
             0.6,
             "#e6f5d0"
            ],
            [
             0.7,
             "#b8e186"
            ],
            [
             0.8,
             "#7fbc41"
            ],
            [
             0.9,
             "#4d9221"
            ],
            [
             1,
             "#276419"
            ]
           ],
           "sequential": [
            [
             0,
             "#0d0887"
            ],
            [
             0.1111111111111111,
             "#46039f"
            ],
            [
             0.2222222222222222,
             "#7201a8"
            ],
            [
             0.3333333333333333,
             "#9c179e"
            ],
            [
             0.4444444444444444,
             "#bd3786"
            ],
            [
             0.5555555555555556,
             "#d8576b"
            ],
            [
             0.6666666666666666,
             "#ed7953"
            ],
            [
             0.7777777777777778,
             "#fb9f3a"
            ],
            [
             0.8888888888888888,
             "#fdca26"
            ],
            [
             1,
             "#f0f921"
            ]
           ],
           "sequentialminus": [
            [
             0,
             "#0d0887"
            ],
            [
             0.1111111111111111,
             "#46039f"
            ],
            [
             0.2222222222222222,
             "#7201a8"
            ],
            [
             0.3333333333333333,
             "#9c179e"
            ],
            [
             0.4444444444444444,
             "#bd3786"
            ],
            [
             0.5555555555555556,
             "#d8576b"
            ],
            [
             0.6666666666666666,
             "#ed7953"
            ],
            [
             0.7777777777777778,
             "#fb9f3a"
            ],
            [
             0.8888888888888888,
             "#fdca26"
            ],
            [
             1,
             "#f0f921"
            ]
           ]
          },
          "colorway": [
           "#636efa",
           "#EF553B",
           "#00cc96",
           "#ab63fa",
           "#FFA15A",
           "#19d3f3",
           "#FF6692",
           "#B6E880",
           "#FF97FF",
           "#FECB52"
          ],
          "font": {
           "color": "#2a3f5f"
          },
          "geo": {
           "bgcolor": "white",
           "lakecolor": "white",
           "landcolor": "white",
           "showlakes": true,
           "showland": true,
           "subunitcolor": "#C8D4E3"
          },
          "hoverlabel": {
           "align": "left"
          },
          "hovermode": "closest",
          "mapbox": {
           "style": "light"
          },
          "paper_bgcolor": "white",
          "plot_bgcolor": "white",
          "polar": {
           "angularaxis": {
            "gridcolor": "#EBF0F8",
            "linecolor": "#EBF0F8",
            "ticks": ""
           },
           "bgcolor": "white",
           "radialaxis": {
            "gridcolor": "#EBF0F8",
            "linecolor": "#EBF0F8",
            "ticks": ""
           }
          },
          "scene": {
           "xaxis": {
            "backgroundcolor": "white",
            "gridcolor": "#DFE8F3",
            "gridwidth": 2,
            "linecolor": "#EBF0F8",
            "showbackground": true,
            "ticks": "",
            "zerolinecolor": "#EBF0F8"
           },
           "yaxis": {
            "backgroundcolor": "white",
            "gridcolor": "#DFE8F3",
            "gridwidth": 2,
            "linecolor": "#EBF0F8",
            "showbackground": true,
            "ticks": "",
            "zerolinecolor": "#EBF0F8"
           },
           "zaxis": {
            "backgroundcolor": "white",
            "gridcolor": "#DFE8F3",
            "gridwidth": 2,
            "linecolor": "#EBF0F8",
            "showbackground": true,
            "ticks": "",
            "zerolinecolor": "#EBF0F8"
           }
          },
          "shapedefaults": {
           "line": {
            "color": "#2a3f5f"
           }
          },
          "ternary": {
           "aaxis": {
            "gridcolor": "#DFE8F3",
            "linecolor": "#A2B1C6",
            "ticks": ""
           },
           "baxis": {
            "gridcolor": "#DFE8F3",
            "linecolor": "#A2B1C6",
            "ticks": ""
           },
           "bgcolor": "white",
           "caxis": {
            "gridcolor": "#DFE8F3",
            "linecolor": "#A2B1C6",
            "ticks": ""
           }
          },
          "title": {
           "x": 0.05
          },
          "xaxis": {
           "automargin": true,
           "gridcolor": "#EBF0F8",
           "linecolor": "#EBF0F8",
           "ticks": "",
           "title": {
            "standoff": 15
           },
           "zerolinecolor": "#EBF0F8",
           "zerolinewidth": 2
          },
          "yaxis": {
           "automargin": true,
           "gridcolor": "#EBF0F8",
           "linecolor": "#EBF0F8",
           "ticks": "",
           "title": {
            "standoff": 15
           },
           "zerolinecolor": "#EBF0F8",
           "zerolinewidth": 2
          }
         }
        },
        "title": {
         "text": "Score Distribution for Georgia"
        },
        "xaxis": {
         "title": {
          "text": "AP Exam Score"
         }
        },
        "yaxis": {
         "title": {
          "text": "Percentage"
         }
        }
       }
      }
     },
     "metadata": {},
     "output_type": "display_data"
    },
    {
     "data": {
      "application/vnd.plotly.v1+json": {
       "config": {
        "plotlyServerURL": "https://plot.ly"
       },
       "data": [
        {
         "hovertemplate": "<b>Score %{x}</b><br><b>Percentage:</b> %{y}%<extra></extra>",
         "marker": {
          "color": [
           "#FFCC00",
           "#FF9900",
           "#FF6600",
           "#FF3300",
           "#CC0000"
          ]
         },
         "showlegend": false,
         "type": "bar",
         "width": 0.5,
         "x": [
          1,
          2,
          3,
          4,
          5
         ],
         "y": [
          20.7,
          21.9,
          24.7,
          20.1,
          12.7,
          57.43813515530803
         ]
        }
       ],
       "layout": {
        "barmode": "overlay",
        "template": {
         "data": {
          "bar": [
           {
            "error_x": {
             "color": "#2a3f5f"
            },
            "error_y": {
             "color": "#2a3f5f"
            },
            "marker": {
             "line": {
              "color": "white",
              "width": 0.5
             },
             "pattern": {
              "fillmode": "overlay",
              "size": 10,
              "solidity": 0.2
             }
            },
            "type": "bar"
           }
          ],
          "barpolar": [
           {
            "marker": {
             "line": {
              "color": "white",
              "width": 0.5
             },
             "pattern": {
              "fillmode": "overlay",
              "size": 10,
              "solidity": 0.2
             }
            },
            "type": "barpolar"
           }
          ],
          "carpet": [
           {
            "aaxis": {
             "endlinecolor": "#2a3f5f",
             "gridcolor": "#C8D4E3",
             "linecolor": "#C8D4E3",
             "minorgridcolor": "#C8D4E3",
             "startlinecolor": "#2a3f5f"
            },
            "baxis": {
             "endlinecolor": "#2a3f5f",
             "gridcolor": "#C8D4E3",
             "linecolor": "#C8D4E3",
             "minorgridcolor": "#C8D4E3",
             "startlinecolor": "#2a3f5f"
            },
            "type": "carpet"
           }
          ],
          "choropleth": [
           {
            "colorbar": {
             "outlinewidth": 0,
             "ticks": ""
            },
            "type": "choropleth"
           }
          ],
          "contour": [
           {
            "colorbar": {
             "outlinewidth": 0,
             "ticks": ""
            },
            "colorscale": [
             [
              0,
              "#0d0887"
             ],
             [
              0.1111111111111111,
              "#46039f"
             ],
             [
              0.2222222222222222,
              "#7201a8"
             ],
             [
              0.3333333333333333,
              "#9c179e"
             ],
             [
              0.4444444444444444,
              "#bd3786"
             ],
             [
              0.5555555555555556,
              "#d8576b"
             ],
             [
              0.6666666666666666,
              "#ed7953"
             ],
             [
              0.7777777777777778,
              "#fb9f3a"
             ],
             [
              0.8888888888888888,
              "#fdca26"
             ],
             [
              1,
              "#f0f921"
             ]
            ],
            "type": "contour"
           }
          ],
          "contourcarpet": [
           {
            "colorbar": {
             "outlinewidth": 0,
             "ticks": ""
            },
            "type": "contourcarpet"
           }
          ],
          "heatmap": [
           {
            "colorbar": {
             "outlinewidth": 0,
             "ticks": ""
            },
            "colorscale": [
             [
              0,
              "#0d0887"
             ],
             [
              0.1111111111111111,
              "#46039f"
             ],
             [
              0.2222222222222222,
              "#7201a8"
             ],
             [
              0.3333333333333333,
              "#9c179e"
             ],
             [
              0.4444444444444444,
              "#bd3786"
             ],
             [
              0.5555555555555556,
              "#d8576b"
             ],
             [
              0.6666666666666666,
              "#ed7953"
             ],
             [
              0.7777777777777778,
              "#fb9f3a"
             ],
             [
              0.8888888888888888,
              "#fdca26"
             ],
             [
              1,
              "#f0f921"
             ]
            ],
            "type": "heatmap"
           }
          ],
          "heatmapgl": [
           {
            "colorbar": {
             "outlinewidth": 0,
             "ticks": ""
            },
            "colorscale": [
             [
              0,
              "#0d0887"
             ],
             [
              0.1111111111111111,
              "#46039f"
             ],
             [
              0.2222222222222222,
              "#7201a8"
             ],
             [
              0.3333333333333333,
              "#9c179e"
             ],
             [
              0.4444444444444444,
              "#bd3786"
             ],
             [
              0.5555555555555556,
              "#d8576b"
             ],
             [
              0.6666666666666666,
              "#ed7953"
             ],
             [
              0.7777777777777778,
              "#fb9f3a"
             ],
             [
              0.8888888888888888,
              "#fdca26"
             ],
             [
              1,
              "#f0f921"
             ]
            ],
            "type": "heatmapgl"
           }
          ],
          "histogram": [
           {
            "marker": {
             "pattern": {
              "fillmode": "overlay",
              "size": 10,
              "solidity": 0.2
             }
            },
            "type": "histogram"
           }
          ],
          "histogram2d": [
           {
            "colorbar": {
             "outlinewidth": 0,
             "ticks": ""
            },
            "colorscale": [
             [
              0,
              "#0d0887"
             ],
             [
              0.1111111111111111,
              "#46039f"
             ],
             [
              0.2222222222222222,
              "#7201a8"
             ],
             [
              0.3333333333333333,
              "#9c179e"
             ],
             [
              0.4444444444444444,
              "#bd3786"
             ],
             [
              0.5555555555555556,
              "#d8576b"
             ],
             [
              0.6666666666666666,
              "#ed7953"
             ],
             [
              0.7777777777777778,
              "#fb9f3a"
             ],
             [
              0.8888888888888888,
              "#fdca26"
             ],
             [
              1,
              "#f0f921"
             ]
            ],
            "type": "histogram2d"
           }
          ],
          "histogram2dcontour": [
           {
            "colorbar": {
             "outlinewidth": 0,
             "ticks": ""
            },
            "colorscale": [
             [
              0,
              "#0d0887"
             ],
             [
              0.1111111111111111,
              "#46039f"
             ],
             [
              0.2222222222222222,
              "#7201a8"
             ],
             [
              0.3333333333333333,
              "#9c179e"
             ],
             [
              0.4444444444444444,
              "#bd3786"
             ],
             [
              0.5555555555555556,
              "#d8576b"
             ],
             [
              0.6666666666666666,
              "#ed7953"
             ],
             [
              0.7777777777777778,
              "#fb9f3a"
             ],
             [
              0.8888888888888888,
              "#fdca26"
             ],
             [
              1,
              "#f0f921"
             ]
            ],
            "type": "histogram2dcontour"
           }
          ],
          "mesh3d": [
           {
            "colorbar": {
             "outlinewidth": 0,
             "ticks": ""
            },
            "type": "mesh3d"
           }
          ],
          "parcoords": [
           {
            "line": {
             "colorbar": {
              "outlinewidth": 0,
              "ticks": ""
             }
            },
            "type": "parcoords"
           }
          ],
          "pie": [
           {
            "automargin": true,
            "type": "pie"
           }
          ],
          "scatter": [
           {
            "fillpattern": {
             "fillmode": "overlay",
             "size": 10,
             "solidity": 0.2
            },
            "type": "scatter"
           }
          ],
          "scatter3d": [
           {
            "line": {
             "colorbar": {
              "outlinewidth": 0,
              "ticks": ""
             }
            },
            "marker": {
             "colorbar": {
              "outlinewidth": 0,
              "ticks": ""
             }
            },
            "type": "scatter3d"
           }
          ],
          "scattercarpet": [
           {
            "marker": {
             "colorbar": {
              "outlinewidth": 0,
              "ticks": ""
             }
            },
            "type": "scattercarpet"
           }
          ],
          "scattergeo": [
           {
            "marker": {
             "colorbar": {
              "outlinewidth": 0,
              "ticks": ""
             }
            },
            "type": "scattergeo"
           }
          ],
          "scattergl": [
           {
            "marker": {
             "colorbar": {
              "outlinewidth": 0,
              "ticks": ""
             }
            },
            "type": "scattergl"
           }
          ],
          "scattermapbox": [
           {
            "marker": {
             "colorbar": {
              "outlinewidth": 0,
              "ticks": ""
             }
            },
            "type": "scattermapbox"
           }
          ],
          "scatterpolar": [
           {
            "marker": {
             "colorbar": {
              "outlinewidth": 0,
              "ticks": ""
             }
            },
            "type": "scatterpolar"
           }
          ],
          "scatterpolargl": [
           {
            "marker": {
             "colorbar": {
              "outlinewidth": 0,
              "ticks": ""
             }
            },
            "type": "scatterpolargl"
           }
          ],
          "scatterternary": [
           {
            "marker": {
             "colorbar": {
              "outlinewidth": 0,
              "ticks": ""
             }
            },
            "type": "scatterternary"
           }
          ],
          "surface": [
           {
            "colorbar": {
             "outlinewidth": 0,
             "ticks": ""
            },
            "colorscale": [
             [
              0,
              "#0d0887"
             ],
             [
              0.1111111111111111,
              "#46039f"
             ],
             [
              0.2222222222222222,
              "#7201a8"
             ],
             [
              0.3333333333333333,
              "#9c179e"
             ],
             [
              0.4444444444444444,
              "#bd3786"
             ],
             [
              0.5555555555555556,
              "#d8576b"
             ],
             [
              0.6666666666666666,
              "#ed7953"
             ],
             [
              0.7777777777777778,
              "#fb9f3a"
             ],
             [
              0.8888888888888888,
              "#fdca26"
             ],
             [
              1,
              "#f0f921"
             ]
            ],
            "type": "surface"
           }
          ],
          "table": [
           {
            "cells": {
             "fill": {
              "color": "#EBF0F8"
             },
             "line": {
              "color": "white"
             }
            },
            "header": {
             "fill": {
              "color": "#C8D4E3"
             },
             "line": {
              "color": "white"
             }
            },
            "type": "table"
           }
          ]
         },
         "layout": {
          "annotationdefaults": {
           "arrowcolor": "#2a3f5f",
           "arrowhead": 0,
           "arrowwidth": 1
          },
          "autotypenumbers": "strict",
          "coloraxis": {
           "colorbar": {
            "outlinewidth": 0,
            "ticks": ""
           }
          },
          "colorscale": {
           "diverging": [
            [
             0,
             "#8e0152"
            ],
            [
             0.1,
             "#c51b7d"
            ],
            [
             0.2,
             "#de77ae"
            ],
            [
             0.3,
             "#f1b6da"
            ],
            [
             0.4,
             "#fde0ef"
            ],
            [
             0.5,
             "#f7f7f7"
            ],
            [
             0.6,
             "#e6f5d0"
            ],
            [
             0.7,
             "#b8e186"
            ],
            [
             0.8,
             "#7fbc41"
            ],
            [
             0.9,
             "#4d9221"
            ],
            [
             1,
             "#276419"
            ]
           ],
           "sequential": [
            [
             0,
             "#0d0887"
            ],
            [
             0.1111111111111111,
             "#46039f"
            ],
            [
             0.2222222222222222,
             "#7201a8"
            ],
            [
             0.3333333333333333,
             "#9c179e"
            ],
            [
             0.4444444444444444,
             "#bd3786"
            ],
            [
             0.5555555555555556,
             "#d8576b"
            ],
            [
             0.6666666666666666,
             "#ed7953"
            ],
            [
             0.7777777777777778,
             "#fb9f3a"
            ],
            [
             0.8888888888888888,
             "#fdca26"
            ],
            [
             1,
             "#f0f921"
            ]
           ],
           "sequentialminus": [
            [
             0,
             "#0d0887"
            ],
            [
             0.1111111111111111,
             "#46039f"
            ],
            [
             0.2222222222222222,
             "#7201a8"
            ],
            [
             0.3333333333333333,
             "#9c179e"
            ],
            [
             0.4444444444444444,
             "#bd3786"
            ],
            [
             0.5555555555555556,
             "#d8576b"
            ],
            [
             0.6666666666666666,
             "#ed7953"
            ],
            [
             0.7777777777777778,
             "#fb9f3a"
            ],
            [
             0.8888888888888888,
             "#fdca26"
            ],
            [
             1,
             "#f0f921"
            ]
           ]
          },
          "colorway": [
           "#636efa",
           "#EF553B",
           "#00cc96",
           "#ab63fa",
           "#FFA15A",
           "#19d3f3",
           "#FF6692",
           "#B6E880",
           "#FF97FF",
           "#FECB52"
          ],
          "font": {
           "color": "#2a3f5f"
          },
          "geo": {
           "bgcolor": "white",
           "lakecolor": "white",
           "landcolor": "white",
           "showlakes": true,
           "showland": true,
           "subunitcolor": "#C8D4E3"
          },
          "hoverlabel": {
           "align": "left"
          },
          "hovermode": "closest",
          "mapbox": {
           "style": "light"
          },
          "paper_bgcolor": "white",
          "plot_bgcolor": "white",
          "polar": {
           "angularaxis": {
            "gridcolor": "#EBF0F8",
            "linecolor": "#EBF0F8",
            "ticks": ""
           },
           "bgcolor": "white",
           "radialaxis": {
            "gridcolor": "#EBF0F8",
            "linecolor": "#EBF0F8",
            "ticks": ""
           }
          },
          "scene": {
           "xaxis": {
            "backgroundcolor": "white",
            "gridcolor": "#DFE8F3",
            "gridwidth": 2,
            "linecolor": "#EBF0F8",
            "showbackground": true,
            "ticks": "",
            "zerolinecolor": "#EBF0F8"
           },
           "yaxis": {
            "backgroundcolor": "white",
            "gridcolor": "#DFE8F3",
            "gridwidth": 2,
            "linecolor": "#EBF0F8",
            "showbackground": true,
            "ticks": "",
            "zerolinecolor": "#EBF0F8"
           },
           "zaxis": {
            "backgroundcolor": "white",
            "gridcolor": "#DFE8F3",
            "gridwidth": 2,
            "linecolor": "#EBF0F8",
            "showbackground": true,
            "ticks": "",
            "zerolinecolor": "#EBF0F8"
           }
          },
          "shapedefaults": {
           "line": {
            "color": "#2a3f5f"
           }
          },
          "ternary": {
           "aaxis": {
            "gridcolor": "#DFE8F3",
            "linecolor": "#A2B1C6",
            "ticks": ""
           },
           "baxis": {
            "gridcolor": "#DFE8F3",
            "linecolor": "#A2B1C6",
            "ticks": ""
           },
           "bgcolor": "white",
           "caxis": {
            "gridcolor": "#DFE8F3",
            "linecolor": "#A2B1C6",
            "ticks": ""
           }
          },
          "title": {
           "x": 0.05
          },
          "xaxis": {
           "automargin": true,
           "gridcolor": "#EBF0F8",
           "linecolor": "#EBF0F8",
           "ticks": "",
           "title": {
            "standoff": 15
           },
           "zerolinecolor": "#EBF0F8",
           "zerolinewidth": 2
          },
          "yaxis": {
           "automargin": true,
           "gridcolor": "#EBF0F8",
           "linecolor": "#EBF0F8",
           "ticks": "",
           "title": {
            "standoff": 15
           },
           "zerolinecolor": "#EBF0F8",
           "zerolinewidth": 2
          }
         }
        },
        "title": {
         "text": "Score Distribution for North Carolina"
        },
        "xaxis": {
         "title": {
          "text": "AP Exam Score"
         }
        },
        "yaxis": {
         "title": {
          "text": "Percentage"
         }
        }
       }
      }
     },
     "metadata": {},
     "output_type": "display_data"
    }
   ],
   "source": [
    "states_of_interest = ['MA', 'WI', 'GA', 'NC']\n",
    "\n",
    "for stabbr in states_of_interest:\n",
    "    produce_distribution(stabbr)"
   ]
  },
  {
   "cell_type": "markdown",
   "metadata": {},
   "source": [
    "--------\n",
    "-------"
   ]
  },
  {
   "cell_type": "markdown",
   "metadata": {},
   "source": [
    "# Preparing County-Level Choropleth Map Data\n",
    "\n",
    "To streamline the Streamlit app's computations, we prepare the static data involved in the choropleth map. This involves collecting all that we know about the AP performances, Income, and Population for each county in Georgia, Massachusetts, and Wisconsin, as well as the shape data so we may draw those counties."
   ]
  },
  {
   "cell_type": "markdown",
   "metadata": {},
   "source": [
    "# The Order of Building the Choropleth Data\n",
    "0. Collect all counties and years under consideration\n",
    "1. Set up skeleton: all combinations of counties and years\n",
    "2. Gather all AP performance data per state\n",
    "3. Fill in the skeleton with the performance data for all three states individually\n",
    "4. Collect all income and population data for each county\n",
    "5. Fill in the skeleton with the income and population data\n",
    "6. Output the enriched skeleton"
   ]
  },
  {
   "cell_type": "markdown",
   "metadata": {},
   "source": [
    "## All GEOIDs"
   ]
  },
  {
   "cell_type": "code",
   "execution_count": 26,
   "metadata": {},
   "outputs": [
    {
     "name": "stderr",
     "output_type": "stream",
     "text": [
      "/opt/homebrew/Caskroom/miniforge/base/envs/erdos_fall_2024/lib/python3.12/site-packages/geopandas/geodataframe.py:1819: SettingWithCopyWarning:\n",
      "\n",
      "\n",
      "A value is trying to be set on a copy of a slice from a DataFrame.\n",
      "Try using .loc[row_indexer,col_indexer] = value instead\n",
      "\n",
      "See the caveats in the documentation: https://pandas.pydata.org/pandas-docs/stable/user_guide/indexing.html#returning-a-view-versus-a-copy\n",
      "\n",
      "/opt/homebrew/Caskroom/miniforge/base/envs/erdos_fall_2024/lib/python3.12/site-packages/geopandas/geodataframe.py:1819: SettingWithCopyWarning:\n",
      "\n",
      "\n",
      "A value is trying to be set on a copy of a slice from a DataFrame.\n",
      "Try using .loc[row_indexer,col_indexer] = value instead\n",
      "\n",
      "See the caveats in the documentation: https://pandas.pydata.org/pandas-docs/stable/user_guide/indexing.html#returning-a-view-versus-a-copy\n",
      "\n",
      "/var/folders/jk/npp70g_j2fbg8x9prxslv1zw6_ptrw/T/ipykernel_39073/1855564859.py:18: SettingWithCopyWarning:\n",
      "\n",
      "\n",
      "A value is trying to be set on a copy of a slice from a DataFrame\n",
      "\n",
      "See the caveats in the documentation: https://pandas.pydata.org/pandas-docs/stable/user_guide/indexing.html#returning-a-view-versus-a-copy\n",
      "\n"
     ]
    }
   ],
   "source": [
    "# Mapping of state abbreviations to FIPS codes\n",
    "state_fips_codes = {\n",
    "    'WI': '55',\n",
    "    'MA': '25',\n",
    "    'GA': '13',\n",
    "    'NC': '37'\n",
    "}\n",
    "states_of_interest = state_fips_codes.keys()\n",
    "state_fips_of_interest = [state_fips_codes[state] for state in states_of_interest]\n",
    "\n",
    "# Load and filter the shapefile\n",
    "gdf = gpd.read_file('../data/county_shapes/cb_2018_us_county_5m.shp')\n",
    "gdf_states = gdf[gdf['STATEFP'].isin(state_fips_of_interest)]\n",
    "gdf_states.reset_index(inplace = True)\n",
    "fips_to_state = { code: abbr for abbr, code in state_fips_codes.items() }\n",
    "gdf_states['State_Abbreviation'] = gdf_states['STATEFP'].map(fips_to_state)\n",
    "gdf_states['GEOID'] = gdf_states['GEOID'].astype(str)\n",
    "gdf_states.rename(columns = {'NAME' : 'County'}, inplace = True)\n",
    "gdf_states = gdf_states[['County', 'State_Abbreviation', 'GEOID', 'geometry']]"
   ]
  },
  {
   "cell_type": "markdown",
   "metadata": {},
   "source": [
    "## Cross with all Years"
   ]
  },
  {
   "cell_type": "code",
   "execution_count": 27,
   "metadata": {},
   "outputs": [
    {
     "data": {
      "text/html": [
       "<div>\n",
       "<style scoped>\n",
       "    .dataframe tbody tr th:only-of-type {\n",
       "        vertical-align: middle;\n",
       "    }\n",
       "\n",
       "    .dataframe tbody tr th {\n",
       "        vertical-align: top;\n",
       "    }\n",
       "\n",
       "    .dataframe thead th {\n",
       "        text-align: right;\n",
       "    }\n",
       "</style>\n",
       "<table border=\"1\" class=\"dataframe\">\n",
       "  <thead>\n",
       "    <tr style=\"text-align: right;\">\n",
       "      <th></th>\n",
       "      <th>County</th>\n",
       "      <th>State_Abbreviation</th>\n",
       "      <th>GEOID</th>\n",
       "      <th>geometry</th>\n",
       "      <th>Year</th>\n",
       "      <th>PassRate</th>\n",
       "      <th>Income</th>\n",
       "      <th>Population</th>\n",
       "    </tr>\n",
       "  </thead>\n",
       "  <tbody>\n",
       "    <tr>\n",
       "      <th>0</th>\n",
       "      <td>Haralson</td>\n",
       "      <td>GA</td>\n",
       "      <td>13143</td>\n",
       "      <td>POLYGON ((-85.38651 33.90172, -85.21279 33.899...</td>\n",
       "      <td>2019</td>\n",
       "      <td>None</td>\n",
       "      <td>None</td>\n",
       "      <td>None</td>\n",
       "    </tr>\n",
       "    <tr>\n",
       "      <th>1</th>\n",
       "      <td>Haralson</td>\n",
       "      <td>GA</td>\n",
       "      <td>13143</td>\n",
       "      <td>POLYGON ((-85.38651 33.90172, -85.21279 33.899...</td>\n",
       "      <td>2020</td>\n",
       "      <td>None</td>\n",
       "      <td>None</td>\n",
       "      <td>None</td>\n",
       "    </tr>\n",
       "    <tr>\n",
       "      <th>2</th>\n",
       "      <td>Haralson</td>\n",
       "      <td>GA</td>\n",
       "      <td>13143</td>\n",
       "      <td>POLYGON ((-85.38651 33.90172, -85.21279 33.899...</td>\n",
       "      <td>2021</td>\n",
       "      <td>None</td>\n",
       "      <td>None</td>\n",
       "      <td>None</td>\n",
       "    </tr>\n",
       "    <tr>\n",
       "      <th>3</th>\n",
       "      <td>Haralson</td>\n",
       "      <td>GA</td>\n",
       "      <td>13143</td>\n",
       "      <td>POLYGON ((-85.38651 33.90172, -85.21279 33.899...</td>\n",
       "      <td>2022</td>\n",
       "      <td>None</td>\n",
       "      <td>None</td>\n",
       "      <td>None</td>\n",
       "    </tr>\n",
       "    <tr>\n",
       "      <th>4</th>\n",
       "      <td>Kewaunee</td>\n",
       "      <td>WI</td>\n",
       "      <td>55061</td>\n",
       "      <td>POLYGON ((-87.76532 44.4145, -87.76238 44.6445...</td>\n",
       "      <td>2019</td>\n",
       "      <td>None</td>\n",
       "      <td>None</td>\n",
       "      <td>None</td>\n",
       "    </tr>\n",
       "  </tbody>\n",
       "</table>\n",
       "</div>"
      ],
      "text/plain": [
       "     County State_Abbreviation  GEOID  \\\n",
       "0  Haralson                 GA  13143   \n",
       "1  Haralson                 GA  13143   \n",
       "2  Haralson                 GA  13143   \n",
       "3  Haralson                 GA  13143   \n",
       "4  Kewaunee                 WI  55061   \n",
       "\n",
       "                                            geometry  Year PassRate Income  \\\n",
       "0  POLYGON ((-85.38651 33.90172, -85.21279 33.899...  2019     None   None   \n",
       "1  POLYGON ((-85.38651 33.90172, -85.21279 33.899...  2020     None   None   \n",
       "2  POLYGON ((-85.38651 33.90172, -85.21279 33.899...  2021     None   None   \n",
       "3  POLYGON ((-85.38651 33.90172, -85.21279 33.899...  2022     None   None   \n",
       "4  POLYGON ((-87.76532 44.4145, -87.76238 44.6445...  2019     None   None   \n",
       "\n",
       "  Population  \n",
       "0       None  \n",
       "1       None  \n",
       "2       None  \n",
       "3       None  \n",
       "4       None  "
      ]
     },
     "execution_count": 27,
     "metadata": {},
     "output_type": "execute_result"
    }
   ],
   "source": [
    "years = [2019, 2020, 2021, 2022]\n",
    "geoids = gdf_states['GEOID'].unique()\n",
    "# skeleton = pd.DataFrame([(year, geoid) for year in years for geoid in geoids], columns=['Year', 'GEOID'])\n",
    "skeleton = gdf_states.merge(pd.DataFrame({'Year': years}), how = 'cross')\n",
    "skeleton['PassRate'] = None\n",
    "skeleton['Income'] = None\n",
    "skeleton['Population'] = None\n",
    "skeleton.head()"
   ]
  },
  {
   "cell_type": "markdown",
   "metadata": {},
   "source": [
    "## Get AP Performance for each State"
   ]
  },
  {
   "cell_type": "markdown",
   "metadata": {},
   "source": [
    "### Georgia"
   ]
  },
  {
   "cell_type": "code",
   "execution_count": 28,
   "metadata": {},
   "outputs": [
    {
     "data": {
      "text/html": [
       "<div>\n",
       "<style scoped>\n",
       "    .dataframe tbody tr th:only-of-type {\n",
       "        vertical-align: middle;\n",
       "    }\n",
       "\n",
       "    .dataframe tbody tr th {\n",
       "        vertical-align: top;\n",
       "    }\n",
       "\n",
       "    .dataframe thead th {\n",
       "        text-align: right;\n",
       "    }\n",
       "</style>\n",
       "<table border=\"1\" class=\"dataframe\">\n",
       "  <thead>\n",
       "    <tr style=\"text-align: right;\">\n",
       "      <th></th>\n",
       "      <th>County</th>\n",
       "      <th>State_Abbreviation</th>\n",
       "      <th>Year</th>\n",
       "      <th>PassRate</th>\n",
       "    </tr>\n",
       "  </thead>\n",
       "  <tbody>\n",
       "    <tr>\n",
       "      <th>0</th>\n",
       "      <td>Appling</td>\n",
       "      <td>GA</td>\n",
       "      <td>2019</td>\n",
       "      <td>40.217391</td>\n",
       "    </tr>\n",
       "    <tr>\n",
       "      <th>1</th>\n",
       "      <td>Atkinson</td>\n",
       "      <td>GA</td>\n",
       "      <td>2019</td>\n",
       "      <td>21.621622</td>\n",
       "    </tr>\n",
       "    <tr>\n",
       "      <th>2</th>\n",
       "      <td>Baldwin</td>\n",
       "      <td>GA</td>\n",
       "      <td>2019</td>\n",
       "      <td>28.260870</td>\n",
       "    </tr>\n",
       "    <tr>\n",
       "      <th>3</th>\n",
       "      <td>Banks</td>\n",
       "      <td>GA</td>\n",
       "      <td>2019</td>\n",
       "      <td>43.243243</td>\n",
       "    </tr>\n",
       "    <tr>\n",
       "      <th>4</th>\n",
       "      <td>Barrow</td>\n",
       "      <td>GA</td>\n",
       "      <td>2019</td>\n",
       "      <td>46.895641</td>\n",
       "    </tr>\n",
       "  </tbody>\n",
       "</table>\n",
       "</div>"
      ],
      "text/plain": [
       "     County State_Abbreviation  Year   PassRate\n",
       "0   Appling                 GA  2019  40.217391\n",
       "1  Atkinson                 GA  2019  21.621622\n",
       "2   Baldwin                 GA  2019  28.260870\n",
       "3     Banks                 GA  2019  43.243243\n",
       "4    Barrow                 GA  2019  46.895641"
      ]
     },
     "execution_count": 28,
     "metadata": {},
     "output_type": "execute_result"
    }
   ],
   "source": [
    "GA_raw = gimmeGA(prefix = prefix)\n",
    "GA_raw = GA_raw[GA_raw['TEST_CMPNT_TYP_NM'] == 'ALL Subjects'][['County', 'Year', 'Pass Rate']]\n",
    "GA_raw.reset_index(inplace = True)\n",
    "GA_raw.rename(columns = {'Pass Rate' : 'PassRate'}, inplace = True)\n",
    "GA_raw['State_Abbreviation'] = 'GA'\n",
    "GA_raw['PassRate'] *= 100\n",
    "GA_map_data = GA_raw[['County', 'State_Abbreviation', 'Year', 'PassRate']]\n",
    "GA_map_data.head()"
   ]
  },
  {
   "cell_type": "markdown",
   "metadata": {},
   "source": [
    "### Massachusetts"
   ]
  },
  {
   "cell_type": "code",
   "execution_count": 31,
   "metadata": {},
   "outputs": [
    {
     "data": {
      "text/html": [
       "<div>\n",
       "<style scoped>\n",
       "    .dataframe tbody tr th:only-of-type {\n",
       "        vertical-align: middle;\n",
       "    }\n",
       "\n",
       "    .dataframe tbody tr th {\n",
       "        vertical-align: top;\n",
       "    }\n",
       "\n",
       "    .dataframe thead th {\n",
       "        text-align: right;\n",
       "    }\n",
       "</style>\n",
       "<table border=\"1\" class=\"dataframe\">\n",
       "  <thead>\n",
       "    <tr style=\"text-align: right;\">\n",
       "      <th></th>\n",
       "      <th>County</th>\n",
       "      <th>State_Abbreviation</th>\n",
       "      <th>Year</th>\n",
       "      <th>PassRate</th>\n",
       "    </tr>\n",
       "  </thead>\n",
       "  <tbody>\n",
       "    <tr>\n",
       "      <th>0</th>\n",
       "      <td>Barnstable</td>\n",
       "      <td>MA</td>\n",
       "      <td>2018</td>\n",
       "      <td>86.147860</td>\n",
       "    </tr>\n",
       "    <tr>\n",
       "      <th>1</th>\n",
       "      <td>Berkshire</td>\n",
       "      <td>MA</td>\n",
       "      <td>2018</td>\n",
       "      <td>78.299120</td>\n",
       "    </tr>\n",
       "    <tr>\n",
       "      <th>2</th>\n",
       "      <td>Bristol</td>\n",
       "      <td>MA</td>\n",
       "      <td>2018</td>\n",
       "      <td>88.265149</td>\n",
       "    </tr>\n",
       "    <tr>\n",
       "      <th>3</th>\n",
       "      <td>Essex</td>\n",
       "      <td>MA</td>\n",
       "      <td>2018</td>\n",
       "      <td>86.004178</td>\n",
       "    </tr>\n",
       "    <tr>\n",
       "      <th>4</th>\n",
       "      <td>Franklin</td>\n",
       "      <td>MA</td>\n",
       "      <td>2018</td>\n",
       "      <td>92.789374</td>\n",
       "    </tr>\n",
       "    <tr>\n",
       "      <th>...</th>\n",
       "      <td>...</td>\n",
       "      <td>...</td>\n",
       "      <td>...</td>\n",
       "      <td>...</td>\n",
       "    </tr>\n",
       "    <tr>\n",
       "      <th>60</th>\n",
       "      <td>Nantucket</td>\n",
       "      <td>MA</td>\n",
       "      <td>2022</td>\n",
       "      <td>87.804878</td>\n",
       "    </tr>\n",
       "    <tr>\n",
       "      <th>61</th>\n",
       "      <td>Norfolk</td>\n",
       "      <td>MA</td>\n",
       "      <td>2022</td>\n",
       "      <td>75.233793</td>\n",
       "    </tr>\n",
       "    <tr>\n",
       "      <th>62</th>\n",
       "      <td>Plymouth</td>\n",
       "      <td>MA</td>\n",
       "      <td>2022</td>\n",
       "      <td>87.764489</td>\n",
       "    </tr>\n",
       "    <tr>\n",
       "      <th>63</th>\n",
       "      <td>Suffolk</td>\n",
       "      <td>MA</td>\n",
       "      <td>2022</td>\n",
       "      <td>52.528883</td>\n",
       "    </tr>\n",
       "    <tr>\n",
       "      <th>64</th>\n",
       "      <td>Worcester</td>\n",
       "      <td>MA</td>\n",
       "      <td>2022</td>\n",
       "      <td>74.310413</td>\n",
       "    </tr>\n",
       "  </tbody>\n",
       "</table>\n",
       "<p>65 rows × 4 columns</p>\n",
       "</div>"
      ],
      "text/plain": [
       "        County State_Abbreviation  Year   PassRate\n",
       "0   Barnstable                 MA  2018  86.147860\n",
       "1    Berkshire                 MA  2018  78.299120\n",
       "2      Bristol                 MA  2018  88.265149\n",
       "3        Essex                 MA  2018  86.004178\n",
       "4     Franklin                 MA  2018  92.789374\n",
       "..         ...                ...   ...        ...\n",
       "60   Nantucket                 MA  2022  87.804878\n",
       "61     Norfolk                 MA  2022  75.233793\n",
       "62    Plymouth                 MA  2022  87.764489\n",
       "63     Suffolk                 MA  2022  52.528883\n",
       "64   Worcester                 MA  2022  74.310413\n",
       "\n",
       "[65 rows x 4 columns]"
      ]
     },
     "execution_count": 31,
     "metadata": {},
     "output_type": "execute_result"
    }
   ],
   "source": [
    "# MA_map_data\n",
    "MA_raw = pd.read_excel(prefix + 'data/Massachusetts/county_passrate_18_22.xlsx', sheet_name='2018-22')\n",
    "MA_raw.rename(columns = {'Pass Rate' : 'PassRate'}, inplace = True)\n",
    "MA_raw['State_Abbreviation'] = 'MA'\n",
    "MA_raw['PassRate'] *= 100\n",
    "MA_map_data = MA_raw[['County', 'State_Abbreviation', 'Year', 'PassRate']]\n",
    "MA_map_data"
   ]
  },
  {
   "cell_type": "markdown",
   "metadata": {},
   "source": [
    "### Wisconsin"
   ]
  },
  {
   "cell_type": "code",
   "execution_count": 30,
   "metadata": {},
   "outputs": [
    {
     "data": {
      "text/html": [
       "<div>\n",
       "<style scoped>\n",
       "    .dataframe tbody tr th:only-of-type {\n",
       "        vertical-align: middle;\n",
       "    }\n",
       "\n",
       "    .dataframe tbody tr th {\n",
       "        vertical-align: top;\n",
       "    }\n",
       "\n",
       "    .dataframe thead th {\n",
       "        text-align: right;\n",
       "    }\n",
       "</style>\n",
       "<table border=\"1\" class=\"dataframe\">\n",
       "  <thead>\n",
       "    <tr style=\"text-align: right;\">\n",
       "      <th></th>\n",
       "      <th>County</th>\n",
       "      <th>State_Abbreviation</th>\n",
       "      <th>Year</th>\n",
       "      <th>PassRate</th>\n",
       "    </tr>\n",
       "  </thead>\n",
       "  <tbody>\n",
       "    <tr>\n",
       "      <th>0</th>\n",
       "      <td>Adams</td>\n",
       "      <td>WI</td>\n",
       "      <td>2018</td>\n",
       "      <td>28.947368</td>\n",
       "    </tr>\n",
       "    <tr>\n",
       "      <th>1</th>\n",
       "      <td>Ashland</td>\n",
       "      <td>WI</td>\n",
       "      <td>2018</td>\n",
       "      <td>62.500000</td>\n",
       "    </tr>\n",
       "    <tr>\n",
       "      <th>2</th>\n",
       "      <td>Barron</td>\n",
       "      <td>WI</td>\n",
       "      <td>2018</td>\n",
       "      <td>51.530612</td>\n",
       "    </tr>\n",
       "    <tr>\n",
       "      <th>3</th>\n",
       "      <td>Bayfield</td>\n",
       "      <td>WI</td>\n",
       "      <td>2018</td>\n",
       "      <td>64.285714</td>\n",
       "    </tr>\n",
       "    <tr>\n",
       "      <th>4</th>\n",
       "      <td>Brown</td>\n",
       "      <td>WI</td>\n",
       "      <td>2018</td>\n",
       "      <td>69.745411</td>\n",
       "    </tr>\n",
       "  </tbody>\n",
       "</table>\n",
       "</div>"
      ],
      "text/plain": [
       "     County State_Abbreviation  Year   PassRate\n",
       "0     Adams                 WI  2018  28.947368\n",
       "1   Ashland                 WI  2018  62.500000\n",
       "2    Barron                 WI  2018  51.530612\n",
       "3  Bayfield                 WI  2018  64.285714\n",
       "4     Brown                 WI  2018  69.745411"
      ]
     },
     "execution_count": 30,
     "metadata": {},
     "output_type": "execute_result"
    }
   ],
   "source": [
    "WI_raw = pd.read_csv('../data/Wisconsin/Wisconsin_combined.csv')\n",
    "WI_raw.rename(columns = {\n",
    "    'COUNTY' : 'County',\n",
    "    'PERCENT_3_OR_ABOVE' : 'PassRate'\n",
    "    }, inplace = True)\n",
    "rename_years = {\n",
    "    '2018-19' : 2018, \n",
    "    '2019-20' : 2019, \n",
    "    '2020-21' : 2020, \n",
    "    '2021-22' : 2021, \n",
    "    '2022-23' : 2022\n",
    "}\n",
    "WI_raw['Year'] = WI_raw.apply(lambda row : rename_years[row['Year']], axis = 1)\n",
    "WI_raw['State_Abbreviation'] = 'WI'\n",
    "WI_raw['County'] = WI_raw['County'].replace('Saint Croix', 'St. Croix')\n",
    "WI_map_data = WI_raw[['County', 'State_Abbreviation', 'Year', 'PassRate']]\n",
    "WI_map_data.head()"
   ]
  },
  {
   "cell_type": "markdown",
   "metadata": {},
   "source": [
    "## Add AP Performance to Skeleton"
   ]
  },
  {
   "cell_type": "code",
   "execution_count": 112,
   "metadata": {},
   "outputs": [
    {
     "name": "stderr",
     "output_type": "stream",
     "text": [
      "/var/folders/jk/npp70g_j2fbg8x9prxslv1zw6_ptrw/T/ipykernel_3580/1059422135.py:8: FutureWarning: Downcasting object dtype arrays on .fillna, .ffill, .bfill is deprecated and will change in a future version. Call result.infer_objects(copy=False) instead. To opt-in to the future behavior, set `pd.set_option('future.no_silent_downcasting', True)`\n",
      "  merged['PassRate'] = merged['PassRate'].fillna(merged['PassRate_map_data'])\n"
     ]
    },
    {
     "data": {
      "text/html": [
       "<div>\n",
       "<style scoped>\n",
       "    .dataframe tbody tr th:only-of-type {\n",
       "        vertical-align: middle;\n",
       "    }\n",
       "\n",
       "    .dataframe tbody tr th {\n",
       "        vertical-align: top;\n",
       "    }\n",
       "\n",
       "    .dataframe thead th {\n",
       "        text-align: right;\n",
       "    }\n",
       "</style>\n",
       "<table border=\"1\" class=\"dataframe\">\n",
       "  <thead>\n",
       "    <tr style=\"text-align: right;\">\n",
       "      <th></th>\n",
       "      <th>County</th>\n",
       "      <th>State_Abbreviation</th>\n",
       "      <th>GEOID</th>\n",
       "      <th>geometry</th>\n",
       "      <th>Year</th>\n",
       "      <th>PassRate</th>\n",
       "      <th>Income</th>\n",
       "      <th>Population</th>\n",
       "    </tr>\n",
       "  </thead>\n",
       "  <tbody>\n",
       "    <tr>\n",
       "      <th>0</th>\n",
       "      <td>Haralson</td>\n",
       "      <td>GA</td>\n",
       "      <td>13143</td>\n",
       "      <td>POLYGON ((-85.38651 33.90172, -85.21279 33.899...</td>\n",
       "      <td>2019</td>\n",
       "      <td>NaN</td>\n",
       "      <td>None</td>\n",
       "      <td>None</td>\n",
       "    </tr>\n",
       "    <tr>\n",
       "      <th>1</th>\n",
       "      <td>Haralson</td>\n",
       "      <td>GA</td>\n",
       "      <td>13143</td>\n",
       "      <td>POLYGON ((-85.38651 33.90172, -85.21279 33.899...</td>\n",
       "      <td>2020</td>\n",
       "      <td>NaN</td>\n",
       "      <td>None</td>\n",
       "      <td>None</td>\n",
       "    </tr>\n",
       "    <tr>\n",
       "      <th>2</th>\n",
       "      <td>Haralson</td>\n",
       "      <td>GA</td>\n",
       "      <td>13143</td>\n",
       "      <td>POLYGON ((-85.38651 33.90172, -85.21279 33.899...</td>\n",
       "      <td>2021</td>\n",
       "      <td>33.333333</td>\n",
       "      <td>None</td>\n",
       "      <td>None</td>\n",
       "    </tr>\n",
       "    <tr>\n",
       "      <th>3</th>\n",
       "      <td>Haralson</td>\n",
       "      <td>GA</td>\n",
       "      <td>13143</td>\n",
       "      <td>POLYGON ((-85.38651 33.90172, -85.21279 33.899...</td>\n",
       "      <td>2022</td>\n",
       "      <td>72.727273</td>\n",
       "      <td>None</td>\n",
       "      <td>None</td>\n",
       "    </tr>\n",
       "    <tr>\n",
       "      <th>4</th>\n",
       "      <td>Kewaunee</td>\n",
       "      <td>WI</td>\n",
       "      <td>55061</td>\n",
       "      <td>POLYGON ((-87.76532 44.4145, -87.76238 44.6445...</td>\n",
       "      <td>2019</td>\n",
       "      <td>61.290323</td>\n",
       "      <td>None</td>\n",
       "      <td>None</td>\n",
       "    </tr>\n",
       "  </tbody>\n",
       "</table>\n",
       "</div>"
      ],
      "text/plain": [
       "     County State_Abbreviation  GEOID  \\\n",
       "0  Haralson                 GA  13143   \n",
       "1  Haralson                 GA  13143   \n",
       "2  Haralson                 GA  13143   \n",
       "3  Haralson                 GA  13143   \n",
       "4  Kewaunee                 WI  55061   \n",
       "\n",
       "                                            geometry  Year   PassRate Income  \\\n",
       "0  POLYGON ((-85.38651 33.90172, -85.21279 33.899...  2019        NaN   None   \n",
       "1  POLYGON ((-85.38651 33.90172, -85.21279 33.899...  2020        NaN   None   \n",
       "2  POLYGON ((-85.38651 33.90172, -85.21279 33.899...  2021  33.333333   None   \n",
       "3  POLYGON ((-85.38651 33.90172, -85.21279 33.899...  2022  72.727273   None   \n",
       "4  POLYGON ((-87.76532 44.4145, -87.76238 44.6445...  2019  61.290323   None   \n",
       "\n",
       "  Population  \n",
       "0       None  \n",
       "1       None  \n",
       "2       None  \n",
       "3       None  \n",
       "4       None  "
      ]
     },
     "execution_count": 112,
     "metadata": {},
     "output_type": "execute_result"
    }
   ],
   "source": [
    "map_data = pd.concat([GA_map_data, MA_map_data, WI_map_data], ignore_index = True) \n",
    "merged = skeleton.merge(\n",
    "    map_data,\n",
    "    on = ['County', 'State_Abbreviation', 'Year'],\n",
    "    how = 'left',\n",
    "    suffixes = ('', '_map_data')\n",
    ")\n",
    "merged['PassRate'] = merged['PassRate'].fillna(merged['PassRate_map_data'])\n",
    "merged = merged.drop(columns=['PassRate_map_data'])\n",
    "skeleton = merged\n",
    "skeleton.head()"
   ]
  },
  {
   "cell_type": "markdown",
   "metadata": {},
   "source": [
    "## Get Income and Population Data"
   ]
  },
  {
   "cell_type": "markdown",
   "metadata": {},
   "source": [
    "### Income"
   ]
  },
  {
   "cell_type": "code",
   "execution_count": 113,
   "metadata": {},
   "outputs": [
    {
     "data": {
      "text/html": [
       "<div>\n",
       "<style scoped>\n",
       "    .dataframe tbody tr th:only-of-type {\n",
       "        vertical-align: middle;\n",
       "    }\n",
       "\n",
       "    .dataframe tbody tr th {\n",
       "        vertical-align: top;\n",
       "    }\n",
       "\n",
       "    .dataframe thead th {\n",
       "        text-align: right;\n",
       "    }\n",
       "</style>\n",
       "<table border=\"1\" class=\"dataframe\">\n",
       "  <thead>\n",
       "    <tr style=\"text-align: right;\">\n",
       "      <th></th>\n",
       "      <th>County</th>\n",
       "      <th>State_Abbreviation</th>\n",
       "      <th>Year</th>\n",
       "      <th>Income</th>\n",
       "    </tr>\n",
       "  </thead>\n",
       "  <tbody>\n",
       "    <tr>\n",
       "      <th>0</th>\n",
       "      <td>Autauga</td>\n",
       "      <td>AL</td>\n",
       "      <td>2019</td>\n",
       "      <td>42550</td>\n",
       "    </tr>\n",
       "    <tr>\n",
       "      <th>1</th>\n",
       "      <td>Baldwin</td>\n",
       "      <td>AL</td>\n",
       "      <td>2019</td>\n",
       "      <td>47911</td>\n",
       "    </tr>\n",
       "    <tr>\n",
       "      <th>2</th>\n",
       "      <td>Barbour</td>\n",
       "      <td>AL</td>\n",
       "      <td>2019</td>\n",
       "      <td>34685</td>\n",
       "    </tr>\n",
       "    <tr>\n",
       "      <th>3</th>\n",
       "      <td>Bibb</td>\n",
       "      <td>AL</td>\n",
       "      <td>2019</td>\n",
       "      <td>32104</td>\n",
       "    </tr>\n",
       "    <tr>\n",
       "      <th>4</th>\n",
       "      <td>Blount</td>\n",
       "      <td>AL</td>\n",
       "      <td>2019</td>\n",
       "      <td>36561</td>\n",
       "    </tr>\n",
       "    <tr>\n",
       "      <th>5</th>\n",
       "      <td>Bullock</td>\n",
       "      <td>AL</td>\n",
       "      <td>2019</td>\n",
       "      <td>27124</td>\n",
       "    </tr>\n",
       "    <tr>\n",
       "      <th>6</th>\n",
       "      <td>Butler</td>\n",
       "      <td>AL</td>\n",
       "      <td>2019</td>\n",
       "      <td>37702</td>\n",
       "    </tr>\n",
       "    <tr>\n",
       "      <th>7</th>\n",
       "      <td>Calhoun</td>\n",
       "      <td>AL</td>\n",
       "      <td>2019</td>\n",
       "      <td>36747</td>\n",
       "    </tr>\n",
       "    <tr>\n",
       "      <th>8</th>\n",
       "      <td>Chambers</td>\n",
       "      <td>AL</td>\n",
       "      <td>2019</td>\n",
       "      <td>33542</td>\n",
       "    </tr>\n",
       "    <tr>\n",
       "      <th>9</th>\n",
       "      <td>Cherokee</td>\n",
       "      <td>AL</td>\n",
       "      <td>2019</td>\n",
       "      <td>37831</td>\n",
       "    </tr>\n",
       "  </tbody>\n",
       "</table>\n",
       "</div>"
      ],
      "text/plain": [
       "     County State_Abbreviation  Year Income\n",
       "0   Autauga                 AL  2019  42550\n",
       "1   Baldwin                 AL  2019  47911\n",
       "2   Barbour                 AL  2019  34685\n",
       "3      Bibb                 AL  2019  32104\n",
       "4    Blount                 AL  2019  36561\n",
       "5   Bullock                 AL  2019  27124\n",
       "6    Butler                 AL  2019  37702\n",
       "7   Calhoun                 AL  2019  36747\n",
       "8  Chambers                 AL  2019  33542\n",
       "9  Cherokee                 AL  2019  37831"
      ]
     },
     "execution_count": 113,
     "metadata": {},
     "output_type": "execute_result"
    }
   ],
   "source": [
    "CAINC_raw = pd.read_csv(prefix + 'data/CAINC_Incomes_Counties_2019_2022.csv')\n",
    "incomes = CAINC_raw[CAINC_raw['Description'] == 'Per capita personal income (dollars) 2/']\n",
    "incomes = incomes[incomes['GeoName'].str.contains(',')]\n",
    "def split_county_state(geoName, county = True):\n",
    "    S = geoName.split(', ')\n",
    "    return S[0] if county else S[len(S) - 1]\n",
    "incomes['County'] = incomes.apply(lambda row: split_county_state(row['GeoName'], county = True), axis = 1)\n",
    "incomes['State_Abbreviation'] = incomes.apply(lambda row: split_county_state(row['GeoName'], county = False), axis = 1)\n",
    "incomes[['County', 'State_Abbreviation', '2019', '2020', '2021', '2022']]\n",
    "melted = incomes.melt(\n",
    "    id_vars = ['County', 'State_Abbreviation'],\n",
    "    value_vars = ['2019', '2020', '2021', '2022'],\n",
    "    var_name = 'Year',\n",
    "    value_name = 'Income'\n",
    ")\n",
    "melted['Year'] = melted['Year'].astype(int)\n",
    "melted['County'] = melted['County'].replace('Saint Croix', 'St. Croix')\n",
    "incomes = melted\n",
    "incomes.head(10)"
   ]
  },
  {
   "cell_type": "markdown",
   "metadata": {},
   "source": [
    "### Population"
   ]
  },
  {
   "cell_type": "code",
   "execution_count": 114,
   "metadata": {},
   "outputs": [
    {
     "data": {
      "text/html": [
       "<div>\n",
       "<style scoped>\n",
       "    .dataframe tbody tr th:only-of-type {\n",
       "        vertical-align: middle;\n",
       "    }\n",
       "\n",
       "    .dataframe tbody tr th {\n",
       "        vertical-align: top;\n",
       "    }\n",
       "\n",
       "    .dataframe thead th {\n",
       "        text-align: right;\n",
       "    }\n",
       "</style>\n",
       "<table border=\"1\" class=\"dataframe\">\n",
       "  <thead>\n",
       "    <tr style=\"text-align: right;\">\n",
       "      <th></th>\n",
       "      <th>County</th>\n",
       "      <th>State_Abbreviation</th>\n",
       "      <th>Year</th>\n",
       "      <th>Population</th>\n",
       "    </tr>\n",
       "  </thead>\n",
       "  <tbody>\n",
       "    <tr>\n",
       "      <th>0</th>\n",
       "      <td>Autauga</td>\n",
       "      <td>AL</td>\n",
       "      <td>2019</td>\n",
       "      <td>58245</td>\n",
       "    </tr>\n",
       "    <tr>\n",
       "      <th>1</th>\n",
       "      <td>Baldwin</td>\n",
       "      <td>AL</td>\n",
       "      <td>2019</td>\n",
       "      <td>227079</td>\n",
       "    </tr>\n",
       "    <tr>\n",
       "      <th>2</th>\n",
       "      <td>Barbour</td>\n",
       "      <td>AL</td>\n",
       "      <td>2019</td>\n",
       "      <td>25205</td>\n",
       "    </tr>\n",
       "    <tr>\n",
       "      <th>3</th>\n",
       "      <td>Bibb</td>\n",
       "      <td>AL</td>\n",
       "      <td>2019</td>\n",
       "      <td>22405</td>\n",
       "    </tr>\n",
       "    <tr>\n",
       "      <th>4</th>\n",
       "      <td>Blount</td>\n",
       "      <td>AL</td>\n",
       "      <td>2019</td>\n",
       "      <td>58956</td>\n",
       "    </tr>\n",
       "    <tr>\n",
       "      <th>5</th>\n",
       "      <td>Bullock</td>\n",
       "      <td>AL</td>\n",
       "      <td>2019</td>\n",
       "      <td>10455</td>\n",
       "    </tr>\n",
       "    <tr>\n",
       "      <th>6</th>\n",
       "      <td>Butler</td>\n",
       "      <td>AL</td>\n",
       "      <td>2019</td>\n",
       "      <td>19097</td>\n",
       "    </tr>\n",
       "    <tr>\n",
       "      <th>7</th>\n",
       "      <td>Calhoun</td>\n",
       "      <td>AL</td>\n",
       "      <td>2019</td>\n",
       "      <td>116669</td>\n",
       "    </tr>\n",
       "    <tr>\n",
       "      <th>8</th>\n",
       "      <td>Chambers</td>\n",
       "      <td>AL</td>\n",
       "      <td>2019</td>\n",
       "      <td>34914</td>\n",
       "    </tr>\n",
       "    <tr>\n",
       "      <th>9</th>\n",
       "      <td>Cherokee</td>\n",
       "      <td>AL</td>\n",
       "      <td>2019</td>\n",
       "      <td>25061</td>\n",
       "    </tr>\n",
       "  </tbody>\n",
       "</table>\n",
       "</div>"
      ],
      "text/plain": [
       "     County State_Abbreviation  Year Population\n",
       "0   Autauga                 AL  2019      58245\n",
       "1   Baldwin                 AL  2019     227079\n",
       "2   Barbour                 AL  2019      25205\n",
       "3      Bibb                 AL  2019      22405\n",
       "4    Blount                 AL  2019      58956\n",
       "5   Bullock                 AL  2019      10455\n",
       "6    Butler                 AL  2019      19097\n",
       "7   Calhoun                 AL  2019     116669\n",
       "8  Chambers                 AL  2019      34914\n",
       "9  Cherokee                 AL  2019      25061"
      ]
     },
     "execution_count": 114,
     "metadata": {},
     "output_type": "execute_result"
    }
   ],
   "source": [
    "population = CAINC_raw[CAINC_raw['Description'] == 'Population (persons) 1/']\n",
    "population = population[population['GeoName'].str.contains(',')]\n",
    "def split_county_state(geoName, county = True):\n",
    "    S = geoName.split(', ')\n",
    "    return S[0] if county else S[len(S) - 1]\n",
    "population['County'] = population.apply(lambda row: split_county_state(row['GeoName'], county = True), axis = 1)\n",
    "population['State_Abbreviation'] = population.apply(lambda row: split_county_state(row['GeoName'], county = False), axis = 1)\n",
    "population[['County', 'State_Abbreviation', '2019', '2020', '2021', '2022']]\n",
    "melted = population.melt(\n",
    "    id_vars = ['County', 'State_Abbreviation'],\n",
    "    value_vars = ['2019', '2020', '2021', '2022'],\n",
    "    var_name = 'Year',\n",
    "    value_name = 'Population'\n",
    ")\n",
    "melted['Year'] = melted['Year'].astype(int)\n",
    "melted['County'] = melted['County'].replace('Saint Croix', 'St. Croix')\n",
    "population = melted\n",
    "population.head(10)"
   ]
  },
  {
   "cell_type": "markdown",
   "metadata": {},
   "source": [
    "# Add Income and Population data to Skeleton"
   ]
  },
  {
   "cell_type": "markdown",
   "metadata": {},
   "source": [
    "### Income"
   ]
  },
  {
   "cell_type": "code",
   "execution_count": 116,
   "metadata": {},
   "outputs": [
    {
     "data": {
      "text/html": [
       "<div>\n",
       "<style scoped>\n",
       "    .dataframe tbody tr th:only-of-type {\n",
       "        vertical-align: middle;\n",
       "    }\n",
       "\n",
       "    .dataframe tbody tr th {\n",
       "        vertical-align: top;\n",
       "    }\n",
       "\n",
       "    .dataframe thead th {\n",
       "        text-align: right;\n",
       "    }\n",
       "</style>\n",
       "<table border=\"1\" class=\"dataframe\">\n",
       "  <thead>\n",
       "    <tr style=\"text-align: right;\">\n",
       "      <th></th>\n",
       "      <th>County</th>\n",
       "      <th>State_Abbreviation</th>\n",
       "      <th>GEOID</th>\n",
       "      <th>geometry</th>\n",
       "      <th>Year</th>\n",
       "      <th>PassRate</th>\n",
       "      <th>Income</th>\n",
       "      <th>Population</th>\n",
       "    </tr>\n",
       "  </thead>\n",
       "  <tbody>\n",
       "    <tr>\n",
       "      <th>0</th>\n",
       "      <td>Haralson</td>\n",
       "      <td>GA</td>\n",
       "      <td>13143</td>\n",
       "      <td>POLYGON ((-85.38651 33.90172, -85.21279 33.899...</td>\n",
       "      <td>2019</td>\n",
       "      <td>NaN</td>\n",
       "      <td>38099</td>\n",
       "      <td>None</td>\n",
       "    </tr>\n",
       "    <tr>\n",
       "      <th>1</th>\n",
       "      <td>Haralson</td>\n",
       "      <td>GA</td>\n",
       "      <td>13143</td>\n",
       "      <td>POLYGON ((-85.38651 33.90172, -85.21279 33.899...</td>\n",
       "      <td>2020</td>\n",
       "      <td>NaN</td>\n",
       "      <td>40931</td>\n",
       "      <td>None</td>\n",
       "    </tr>\n",
       "    <tr>\n",
       "      <th>2</th>\n",
       "      <td>Haralson</td>\n",
       "      <td>GA</td>\n",
       "      <td>13143</td>\n",
       "      <td>POLYGON ((-85.38651 33.90172, -85.21279 33.899...</td>\n",
       "      <td>2021</td>\n",
       "      <td>33.333333</td>\n",
       "      <td>44439</td>\n",
       "      <td>None</td>\n",
       "    </tr>\n",
       "    <tr>\n",
       "      <th>3</th>\n",
       "      <td>Haralson</td>\n",
       "      <td>GA</td>\n",
       "      <td>13143</td>\n",
       "      <td>POLYGON ((-85.38651 33.90172, -85.21279 33.899...</td>\n",
       "      <td>2022</td>\n",
       "      <td>72.727273</td>\n",
       "      <td>45136</td>\n",
       "      <td>None</td>\n",
       "    </tr>\n",
       "    <tr>\n",
       "      <th>4</th>\n",
       "      <td>Kewaunee</td>\n",
       "      <td>WI</td>\n",
       "      <td>55061</td>\n",
       "      <td>POLYGON ((-87.76532 44.4145, -87.76238 44.6445...</td>\n",
       "      <td>2019</td>\n",
       "      <td>61.290323</td>\n",
       "      <td>48131</td>\n",
       "      <td>None</td>\n",
       "    </tr>\n",
       "    <tr>\n",
       "      <th>...</th>\n",
       "      <td>...</td>\n",
       "      <td>...</td>\n",
       "      <td>...</td>\n",
       "      <td>...</td>\n",
       "      <td>...</td>\n",
       "      <td>...</td>\n",
       "      <td>...</td>\n",
       "      <td>...</td>\n",
       "    </tr>\n",
       "    <tr>\n",
       "      <th>975</th>\n",
       "      <td>Ashland</td>\n",
       "      <td>WI</td>\n",
       "      <td>55003</td>\n",
       "      <td>MULTIPOLYGON (((-90.46546 47.00259, -90.45745 ...</td>\n",
       "      <td>2022</td>\n",
       "      <td>43.750000</td>\n",
       "      <td>46014</td>\n",
       "      <td>None</td>\n",
       "    </tr>\n",
       "    <tr>\n",
       "      <th>976</th>\n",
       "      <td>Webster</td>\n",
       "      <td>GA</td>\n",
       "      <td>13307</td>\n",
       "      <td>POLYGON ((-84.65501 31.96153, -84.64536 31.961...</td>\n",
       "      <td>2019</td>\n",
       "      <td>NaN</td>\n",
       "      <td>37833</td>\n",
       "      <td>None</td>\n",
       "    </tr>\n",
       "    <tr>\n",
       "      <th>977</th>\n",
       "      <td>Webster</td>\n",
       "      <td>GA</td>\n",
       "      <td>13307</td>\n",
       "      <td>POLYGON ((-84.65501 31.96153, -84.64536 31.961...</td>\n",
       "      <td>2020</td>\n",
       "      <td>NaN</td>\n",
       "      <td>39904</td>\n",
       "      <td>None</td>\n",
       "    </tr>\n",
       "    <tr>\n",
       "      <th>978</th>\n",
       "      <td>Webster</td>\n",
       "      <td>GA</td>\n",
       "      <td>13307</td>\n",
       "      <td>POLYGON ((-84.65501 31.96153, -84.64536 31.961...</td>\n",
       "      <td>2021</td>\n",
       "      <td>NaN</td>\n",
       "      <td>40385</td>\n",
       "      <td>None</td>\n",
       "    </tr>\n",
       "    <tr>\n",
       "      <th>979</th>\n",
       "      <td>Webster</td>\n",
       "      <td>GA</td>\n",
       "      <td>13307</td>\n",
       "      <td>POLYGON ((-84.65501 31.96153, -84.64536 31.961...</td>\n",
       "      <td>2022</td>\n",
       "      <td>NaN</td>\n",
       "      <td>39491</td>\n",
       "      <td>None</td>\n",
       "    </tr>\n",
       "  </tbody>\n",
       "</table>\n",
       "<p>980 rows × 8 columns</p>\n",
       "</div>"
      ],
      "text/plain": [
       "       County State_Abbreviation  GEOID  \\\n",
       "0    Haralson                 GA  13143   \n",
       "1    Haralson                 GA  13143   \n",
       "2    Haralson                 GA  13143   \n",
       "3    Haralson                 GA  13143   \n",
       "4    Kewaunee                 WI  55061   \n",
       "..        ...                ...    ...   \n",
       "975   Ashland                 WI  55003   \n",
       "976   Webster                 GA  13307   \n",
       "977   Webster                 GA  13307   \n",
       "978   Webster                 GA  13307   \n",
       "979   Webster                 GA  13307   \n",
       "\n",
       "                                              geometry  Year   PassRate  \\\n",
       "0    POLYGON ((-85.38651 33.90172, -85.21279 33.899...  2019        NaN   \n",
       "1    POLYGON ((-85.38651 33.90172, -85.21279 33.899...  2020        NaN   \n",
       "2    POLYGON ((-85.38651 33.90172, -85.21279 33.899...  2021  33.333333   \n",
       "3    POLYGON ((-85.38651 33.90172, -85.21279 33.899...  2022  72.727273   \n",
       "4    POLYGON ((-87.76532 44.4145, -87.76238 44.6445...  2019  61.290323   \n",
       "..                                                 ...   ...        ...   \n",
       "975  MULTIPOLYGON (((-90.46546 47.00259, -90.45745 ...  2022  43.750000   \n",
       "976  POLYGON ((-84.65501 31.96153, -84.64536 31.961...  2019        NaN   \n",
       "977  POLYGON ((-84.65501 31.96153, -84.64536 31.961...  2020        NaN   \n",
       "978  POLYGON ((-84.65501 31.96153, -84.64536 31.961...  2021        NaN   \n",
       "979  POLYGON ((-84.65501 31.96153, -84.64536 31.961...  2022        NaN   \n",
       "\n",
       "    Income Population  \n",
       "0    38099       None  \n",
       "1    40931       None  \n",
       "2    44439       None  \n",
       "3    45136       None  \n",
       "4    48131       None  \n",
       "..     ...        ...  \n",
       "975  46014       None  \n",
       "976  37833       None  \n",
       "977  39904       None  \n",
       "978  40385       None  \n",
       "979  39491       None  \n",
       "\n",
       "[980 rows x 8 columns]"
      ]
     },
     "execution_count": 116,
     "metadata": {},
     "output_type": "execute_result"
    }
   ],
   "source": [
    "merged = skeleton.merge(\n",
    "    incomes,\n",
    "    on = ['County', 'State_Abbreviation', 'Year'],\n",
    "    how = 'left',\n",
    "    suffixes = ('', '_incomes')\n",
    ")\n",
    "\n",
    "merged['Income'] = merged['Income'].fillna(merged['Income_incomes'])\n",
    "merged = merged.drop(columns=['Income_incomes'])\n",
    "skeleton = merged\n",
    "skeleton"
   ]
  },
  {
   "cell_type": "markdown",
   "metadata": {},
   "source": [
    "### Population"
   ]
  },
  {
   "cell_type": "code",
   "execution_count": 117,
   "metadata": {},
   "outputs": [
    {
     "data": {
      "text/html": [
       "<div>\n",
       "<style scoped>\n",
       "    .dataframe tbody tr th:only-of-type {\n",
       "        vertical-align: middle;\n",
       "    }\n",
       "\n",
       "    .dataframe tbody tr th {\n",
       "        vertical-align: top;\n",
       "    }\n",
       "\n",
       "    .dataframe thead th {\n",
       "        text-align: right;\n",
       "    }\n",
       "</style>\n",
       "<table border=\"1\" class=\"dataframe\">\n",
       "  <thead>\n",
       "    <tr style=\"text-align: right;\">\n",
       "      <th></th>\n",
       "      <th>County</th>\n",
       "      <th>State_Abbreviation</th>\n",
       "      <th>GEOID</th>\n",
       "      <th>geometry</th>\n",
       "      <th>Year</th>\n",
       "      <th>PassRate</th>\n",
       "      <th>Income</th>\n",
       "      <th>Population</th>\n",
       "    </tr>\n",
       "  </thead>\n",
       "  <tbody>\n",
       "    <tr>\n",
       "      <th>0</th>\n",
       "      <td>Haralson</td>\n",
       "      <td>GA</td>\n",
       "      <td>13143</td>\n",
       "      <td>POLYGON ((-85.38651 33.90172, -85.21279 33.899...</td>\n",
       "      <td>2019</td>\n",
       "      <td>NaN</td>\n",
       "      <td>38099</td>\n",
       "      <td>29534</td>\n",
       "    </tr>\n",
       "    <tr>\n",
       "      <th>1</th>\n",
       "      <td>Haralson</td>\n",
       "      <td>GA</td>\n",
       "      <td>13143</td>\n",
       "      <td>POLYGON ((-85.38651 33.90172, -85.21279 33.899...</td>\n",
       "      <td>2020</td>\n",
       "      <td>NaN</td>\n",
       "      <td>40931</td>\n",
       "      <td>30037</td>\n",
       "    </tr>\n",
       "    <tr>\n",
       "      <th>2</th>\n",
       "      <td>Haralson</td>\n",
       "      <td>GA</td>\n",
       "      <td>13143</td>\n",
       "      <td>POLYGON ((-85.38651 33.90172, -85.21279 33.899...</td>\n",
       "      <td>2021</td>\n",
       "      <td>33.333333</td>\n",
       "      <td>44439</td>\n",
       "      <td>30579</td>\n",
       "    </tr>\n",
       "    <tr>\n",
       "      <th>3</th>\n",
       "      <td>Haralson</td>\n",
       "      <td>GA</td>\n",
       "      <td>13143</td>\n",
       "      <td>POLYGON ((-85.38651 33.90172, -85.21279 33.899...</td>\n",
       "      <td>2022</td>\n",
       "      <td>72.727273</td>\n",
       "      <td>45136</td>\n",
       "      <td>31337</td>\n",
       "    </tr>\n",
       "    <tr>\n",
       "      <th>4</th>\n",
       "      <td>Kewaunee</td>\n",
       "      <td>WI</td>\n",
       "      <td>55061</td>\n",
       "      <td>POLYGON ((-87.76532 44.4145, -87.76238 44.6445...</td>\n",
       "      <td>2019</td>\n",
       "      <td>61.290323</td>\n",
       "      <td>48131</td>\n",
       "      <td>20596</td>\n",
       "    </tr>\n",
       "    <tr>\n",
       "      <th>...</th>\n",
       "      <td>...</td>\n",
       "      <td>...</td>\n",
       "      <td>...</td>\n",
       "      <td>...</td>\n",
       "      <td>...</td>\n",
       "      <td>...</td>\n",
       "      <td>...</td>\n",
       "      <td>...</td>\n",
       "    </tr>\n",
       "    <tr>\n",
       "      <th>975</th>\n",
       "      <td>Ashland</td>\n",
       "      <td>WI</td>\n",
       "      <td>55003</td>\n",
       "      <td>MULTIPOLYGON (((-90.46546 47.00259, -90.45745 ...</td>\n",
       "      <td>2022</td>\n",
       "      <td>43.750000</td>\n",
       "      <td>46014</td>\n",
       "      <td>16039</td>\n",
       "    </tr>\n",
       "    <tr>\n",
       "      <th>976</th>\n",
       "      <td>Webster</td>\n",
       "      <td>GA</td>\n",
       "      <td>13307</td>\n",
       "      <td>POLYGON ((-84.65501 31.96153, -84.64536 31.961...</td>\n",
       "      <td>2019</td>\n",
       "      <td>NaN</td>\n",
       "      <td>37833</td>\n",
       "      <td>2353</td>\n",
       "    </tr>\n",
       "    <tr>\n",
       "      <th>977</th>\n",
       "      <td>Webster</td>\n",
       "      <td>GA</td>\n",
       "      <td>13307</td>\n",
       "      <td>POLYGON ((-84.65501 31.96153, -84.64536 31.961...</td>\n",
       "      <td>2020</td>\n",
       "      <td>NaN</td>\n",
       "      <td>39904</td>\n",
       "      <td>2352</td>\n",
       "    </tr>\n",
       "    <tr>\n",
       "      <th>978</th>\n",
       "      <td>Webster</td>\n",
       "      <td>GA</td>\n",
       "      <td>13307</td>\n",
       "      <td>POLYGON ((-84.65501 31.96153, -84.64536 31.961...</td>\n",
       "      <td>2021</td>\n",
       "      <td>NaN</td>\n",
       "      <td>40385</td>\n",
       "      <td>2356</td>\n",
       "    </tr>\n",
       "    <tr>\n",
       "      <th>979</th>\n",
       "      <td>Webster</td>\n",
       "      <td>GA</td>\n",
       "      <td>13307</td>\n",
       "      <td>POLYGON ((-84.65501 31.96153, -84.64536 31.961...</td>\n",
       "      <td>2022</td>\n",
       "      <td>NaN</td>\n",
       "      <td>39491</td>\n",
       "      <td>2328</td>\n",
       "    </tr>\n",
       "  </tbody>\n",
       "</table>\n",
       "<p>980 rows × 8 columns</p>\n",
       "</div>"
      ],
      "text/plain": [
       "       County State_Abbreviation  GEOID  \\\n",
       "0    Haralson                 GA  13143   \n",
       "1    Haralson                 GA  13143   \n",
       "2    Haralson                 GA  13143   \n",
       "3    Haralson                 GA  13143   \n",
       "4    Kewaunee                 WI  55061   \n",
       "..        ...                ...    ...   \n",
       "975   Ashland                 WI  55003   \n",
       "976   Webster                 GA  13307   \n",
       "977   Webster                 GA  13307   \n",
       "978   Webster                 GA  13307   \n",
       "979   Webster                 GA  13307   \n",
       "\n",
       "                                              geometry  Year   PassRate  \\\n",
       "0    POLYGON ((-85.38651 33.90172, -85.21279 33.899...  2019        NaN   \n",
       "1    POLYGON ((-85.38651 33.90172, -85.21279 33.899...  2020        NaN   \n",
       "2    POLYGON ((-85.38651 33.90172, -85.21279 33.899...  2021  33.333333   \n",
       "3    POLYGON ((-85.38651 33.90172, -85.21279 33.899...  2022  72.727273   \n",
       "4    POLYGON ((-87.76532 44.4145, -87.76238 44.6445...  2019  61.290323   \n",
       "..                                                 ...   ...        ...   \n",
       "975  MULTIPOLYGON (((-90.46546 47.00259, -90.45745 ...  2022  43.750000   \n",
       "976  POLYGON ((-84.65501 31.96153, -84.64536 31.961...  2019        NaN   \n",
       "977  POLYGON ((-84.65501 31.96153, -84.64536 31.961...  2020        NaN   \n",
       "978  POLYGON ((-84.65501 31.96153, -84.64536 31.961...  2021        NaN   \n",
       "979  POLYGON ((-84.65501 31.96153, -84.64536 31.961...  2022        NaN   \n",
       "\n",
       "    Income Population  \n",
       "0    38099      29534  \n",
       "1    40931      30037  \n",
       "2    44439      30579  \n",
       "3    45136      31337  \n",
       "4    48131      20596  \n",
       "..     ...        ...  \n",
       "975  46014      16039  \n",
       "976  37833       2353  \n",
       "977  39904       2352  \n",
       "978  40385       2356  \n",
       "979  39491       2328  \n",
       "\n",
       "[980 rows x 8 columns]"
      ]
     },
     "execution_count": 117,
     "metadata": {},
     "output_type": "execute_result"
    }
   ],
   "source": [
    "merged = skeleton.merge(\n",
    "    population,\n",
    "    on = ['County', 'State_Abbreviation', 'Year'],\n",
    "    how = 'left',\n",
    "    suffixes = ('', '_populations')\n",
    ")\n",
    "\n",
    "merged['Population'] = merged['Population'].fillna(merged['Population_populations'])\n",
    "merged = merged.drop(columns=['Population_populations'])\n",
    "skeleton = merged\n",
    "skeleton"
   ]
  },
  {
   "cell_type": "markdown",
   "metadata": {},
   "source": [
    "## Add to/Clean the Skeleton"
   ]
  },
  {
   "cell_type": "code",
   "execution_count": 118,
   "metadata": {},
   "outputs": [
    {
     "data": {
      "text/html": [
       "<div>\n",
       "<style scoped>\n",
       "    .dataframe tbody tr th:only-of-type {\n",
       "        vertical-align: middle;\n",
       "    }\n",
       "\n",
       "    .dataframe tbody tr th {\n",
       "        vertical-align: top;\n",
       "    }\n",
       "\n",
       "    .dataframe thead th {\n",
       "        text-align: right;\n",
       "    }\n",
       "</style>\n",
       "<table border=\"1\" class=\"dataframe\">\n",
       "  <thead>\n",
       "    <tr style=\"text-align: right;\">\n",
       "      <th></th>\n",
       "      <th>County</th>\n",
       "      <th>State_Abbreviation</th>\n",
       "      <th>Year</th>\n",
       "      <th>PassRate</th>\n",
       "      <th>Income</th>\n",
       "      <th>Population</th>\n",
       "      <th>County_State</th>\n",
       "      <th>GEOID</th>\n",
       "      <th>geometry</th>\n",
       "    </tr>\n",
       "  </thead>\n",
       "  <tbody>\n",
       "    <tr>\n",
       "      <th>188</th>\n",
       "      <td>Newton</td>\n",
       "      <td>GA</td>\n",
       "      <td>2019</td>\n",
       "      <td>35.176282</td>\n",
       "      <td>34978</td>\n",
       "      <td>111445</td>\n",
       "      <td>Newton, GA</td>\n",
       "      <td>13217</td>\n",
       "      <td>POLYGON ((-84.04449 33.52578, -84.03212 33.539...</td>\n",
       "    </tr>\n",
       "    <tr>\n",
       "      <th>689</th>\n",
       "      <td>Terrell</td>\n",
       "      <td>GA</td>\n",
       "      <td>2020</td>\n",
       "      <td>NaN</td>\n",
       "      <td>42725</td>\n",
       "      <td>9138</td>\n",
       "      <td>Terrell, GA</td>\n",
       "      <td>13273</td>\n",
       "      <td>POLYGON ((-84.59978 31.92017, -84.45331 31.919...</td>\n",
       "    </tr>\n",
       "    <tr>\n",
       "      <th>839</th>\n",
       "      <td>Brooks</td>\n",
       "      <td>GA</td>\n",
       "      <td>2022</td>\n",
       "      <td>15.662651</td>\n",
       "      <td>39500</td>\n",
       "      <td>16253</td>\n",
       "      <td>Brooks, GA</td>\n",
       "      <td>13027</td>\n",
       "      <td>POLYGON ((-83.74226 30.74204, -83.74082 30.818...</td>\n",
       "    </tr>\n",
       "    <tr>\n",
       "      <th>605</th>\n",
       "      <td>Langlade</td>\n",
       "      <td>WI</td>\n",
       "      <td>2020</td>\n",
       "      <td>30.158730</td>\n",
       "      <td>47949</td>\n",
       "      <td>19462</td>\n",
       "      <td>Langlade, WI</td>\n",
       "      <td>55067</td>\n",
       "      <td>POLYGON ((-89.42482 45.46717, -89.36405 45.469...</td>\n",
       "    </tr>\n",
       "    <tr>\n",
       "      <th>967</th>\n",
       "      <td>Harris</td>\n",
       "      <td>GA</td>\n",
       "      <td>2022</td>\n",
       "      <td>69.781931</td>\n",
       "      <td>58675</td>\n",
       "      <td>36276</td>\n",
       "      <td>Harris, GA</td>\n",
       "      <td>13145</td>\n",
       "      <td>POLYGON ((-85.18579 32.87027, -85.10949 32.870...</td>\n",
       "    </tr>\n",
       "    <tr>\n",
       "      <th>787</th>\n",
       "      <td>Paulding</td>\n",
       "      <td>GA</td>\n",
       "      <td>2022</td>\n",
       "      <td>61.964736</td>\n",
       "      <td>48143</td>\n",
       "      <td>178421</td>\n",
       "      <td>Paulding, GA</td>\n",
       "      <td>13223</td>\n",
       "      <td>POLYGON ((-85.04983 33.95264, -84.97868 33.951...</td>\n",
       "    </tr>\n",
       "    <tr>\n",
       "      <th>113</th>\n",
       "      <td>Polk</td>\n",
       "      <td>GA</td>\n",
       "      <td>2020</td>\n",
       "      <td>33.125000</td>\n",
       "      <td>36460</td>\n",
       "      <td>42923</td>\n",
       "      <td>Polk, GA</td>\n",
       "      <td>13233</td>\n",
       "      <td>POLYGON ((-85.42188 34.08082, -85.28332 34.079...</td>\n",
       "    </tr>\n",
       "    <tr>\n",
       "      <th>449</th>\n",
       "      <td>Worth</td>\n",
       "      <td>GA</td>\n",
       "      <td>2020</td>\n",
       "      <td>15.625000</td>\n",
       "      <td>38257</td>\n",
       "      <td>20738</td>\n",
       "      <td>Worth, GA</td>\n",
       "      <td>13321</td>\n",
       "      <td>POLYGON ((-84.03234 31.71677, -84.00762 31.735...</td>\n",
       "    </tr>\n",
       "    <tr>\n",
       "      <th>236</th>\n",
       "      <td>McIntosh</td>\n",
       "      <td>GA</td>\n",
       "      <td>2019</td>\n",
       "      <td>NaN</td>\n",
       "      <td>39985</td>\n",
       "      <td>11204</td>\n",
       "      <td>McIntosh, GA</td>\n",
       "      <td>13191</td>\n",
       "      <td>POLYGON ((-81.66321 31.53867, -81.62222 31.551...</td>\n",
       "    </tr>\n",
       "    <tr>\n",
       "      <th>541</th>\n",
       "      <td>Sumter</td>\n",
       "      <td>GA</td>\n",
       "      <td>2020</td>\n",
       "      <td>29.032258</td>\n",
       "      <td>40077</td>\n",
       "      <td>29516</td>\n",
       "      <td>Sumter, GA</td>\n",
       "      <td>13261</td>\n",
       "      <td>POLYGON ((-84.4438 31.96898, -84.43301 32.0419...</td>\n",
       "    </tr>\n",
       "  </tbody>\n",
       "</table>\n",
       "</div>"
      ],
      "text/plain": [
       "       County State_Abbreviation  Year   PassRate Income Population  \\\n",
       "188    Newton                 GA  2019  35.176282  34978     111445   \n",
       "689   Terrell                 GA  2020        NaN  42725       9138   \n",
       "839    Brooks                 GA  2022  15.662651  39500      16253   \n",
       "605  Langlade                 WI  2020  30.158730  47949      19462   \n",
       "967    Harris                 GA  2022  69.781931  58675      36276   \n",
       "787  Paulding                 GA  2022  61.964736  48143     178421   \n",
       "113      Polk                 GA  2020  33.125000  36460      42923   \n",
       "449     Worth                 GA  2020  15.625000  38257      20738   \n",
       "236  McIntosh                 GA  2019        NaN  39985      11204   \n",
       "541    Sumter                 GA  2020  29.032258  40077      29516   \n",
       "\n",
       "     County_State  GEOID                                           geometry  \n",
       "188    Newton, GA  13217  POLYGON ((-84.04449 33.52578, -84.03212 33.539...  \n",
       "689   Terrell, GA  13273  POLYGON ((-84.59978 31.92017, -84.45331 31.919...  \n",
       "839    Brooks, GA  13027  POLYGON ((-83.74226 30.74204, -83.74082 30.818...  \n",
       "605  Langlade, WI  55067  POLYGON ((-89.42482 45.46717, -89.36405 45.469...  \n",
       "967    Harris, GA  13145  POLYGON ((-85.18579 32.87027, -85.10949 32.870...  \n",
       "787  Paulding, GA  13223  POLYGON ((-85.04983 33.95264, -84.97868 33.951...  \n",
       "113      Polk, GA  13233  POLYGON ((-85.42188 34.08082, -85.28332 34.079...  \n",
       "449     Worth, GA  13321  POLYGON ((-84.03234 31.71677, -84.00762 31.735...  \n",
       "236  McIntosh, GA  13191  POLYGON ((-81.66321 31.53867, -81.62222 31.551...  \n",
       "541    Sumter, GA  13261  POLYGON ((-84.4438 31.96898, -84.43301 32.0419...  "
      ]
     },
     "execution_count": 118,
     "metadata": {},
     "output_type": "execute_result"
    }
   ],
   "source": [
    "skeleton['County_State'] = skeleton['County'] + ', ' + skeleton['State_Abbreviation']\n",
    "skeleton = skeleton[['County', 'State_Abbreviation', 'Year', 'PassRate', 'Income', 'Population', 'County_State', 'GEOID', 'geometry']]\n",
    "skeleton.sample(10)"
   ]
  },
  {
   "cell_type": "code",
   "execution_count": 119,
   "metadata": {},
   "outputs": [],
   "source": [
    "skeleton.to_csv('States_Counties_Map_Data.csv', index = False)"
   ]
  },
  {
   "cell_type": "markdown",
   "metadata": {},
   "source": [
    "----------\n",
    "\n",
    "## Wisconsin 2017-2018 Predictions using Combined Model"
   ]
  },
  {
   "cell_type": "code",
   "execution_count": 2,
   "metadata": {},
   "outputs": [
    {
     "name": "stderr",
     "output_type": "stream",
     "text": [
      "/opt/homebrew/Caskroom/miniforge/base/envs/erdos_fall_2024/lib/python3.12/site-packages/geopandas/geodataframe.py:1819: SettingWithCopyWarning: \n",
      "A value is trying to be set on a copy of a slice from a DataFrame.\n",
      "Try using .loc[row_indexer,col_indexer] = value instead\n",
      "\n",
      "See the caveats in the documentation: https://pandas.pydata.org/pandas-docs/stable/user_guide/indexing.html#returning-a-view-versus-a-copy\n",
      "  super().__setitem__(key, value)\n",
      "/opt/homebrew/Caskroom/miniforge/base/envs/erdos_fall_2024/lib/python3.12/site-packages/geopandas/geodataframe.py:1819: SettingWithCopyWarning: \n",
      "A value is trying to be set on a copy of a slice from a DataFrame.\n",
      "Try using .loc[row_indexer,col_indexer] = value instead\n",
      "\n",
      "See the caveats in the documentation: https://pandas.pydata.org/pandas-docs/stable/user_guide/indexing.html#returning-a-view-versus-a-copy\n",
      "  super().__setitem__(key, value)\n",
      "/var/folders/jk/npp70g_j2fbg8x9prxslv1zw6_ptrw/T/ipykernel_92805/3274926098.py:15: SettingWithCopyWarning: \n",
      "A value is trying to be set on a copy of a slice from a DataFrame\n",
      "\n",
      "See the caveats in the documentation: https://pandas.pydata.org/pandas-docs/stable/user_guide/indexing.html#returning-a-view-versus-a-copy\n",
      "  gdf_states.rename(columns = {'NAME' : 'County'}, inplace = True)\n"
     ]
    }
   ],
   "source": [
    "# Get Wisconsin counties shape data\n",
    "state_fips_codes = {\n",
    "    'WI': '55'\n",
    "}\n",
    "states_of_interest = state_fips_codes.keys()\n",
    "state_fips_of_interest = [state_fips_codes[state] for state in states_of_interest]\n",
    "\n",
    "# Load and filter the shapefile\n",
    "gdf = gpd.read_file('../data/county_shapes/cb_2018_us_county_5m.shp')\n",
    "gdf_states = gdf[gdf['STATEFP'].isin(state_fips_of_interest)]\n",
    "gdf_states.reset_index(inplace = True)\n",
    "fips_to_state = { code: abbr for abbr, code in state_fips_codes.items() }\n",
    "gdf_states['State_Abbreviation'] = gdf_states['STATEFP'].map(fips_to_state)\n",
    "gdf_states['GEOID'] = gdf_states['GEOID'].astype(str)\n",
    "gdf_states.rename(columns = {'NAME' : 'County'}, inplace = True)\n",
    "gdf_states = gdf_states[['County', 'State_Abbreviation', 'GEOID', 'geometry']]\n",
    "\n",
    "WI_predictions_df = pd.read_csv('../data/WI_2017_predictions.csv').drop(['Unnamed: 0'], axis = 1)\n",
    "WI_predictions_df.rename(columns = {'COUNTY': 'County', 'PERCENT_3_OR_ABOVE': 'PassRate', 'MODEL_PREDICTIONS' : 'PassRate_Predicted'}, inplace = True)"
   ]
  },
  {
   "cell_type": "code",
   "execution_count": 3,
   "metadata": {},
   "outputs": [
    {
     "data": {
      "text/html": [
       "<div>\n",
       "<style scoped>\n",
       "    .dataframe tbody tr th:only-of-type {\n",
       "        vertical-align: middle;\n",
       "    }\n",
       "\n",
       "    .dataframe tbody tr th {\n",
       "        vertical-align: top;\n",
       "    }\n",
       "\n",
       "    .dataframe thead th {\n",
       "        text-align: right;\n",
       "    }\n",
       "</style>\n",
       "<table border=\"1\" class=\"dataframe\">\n",
       "  <thead>\n",
       "    <tr style=\"text-align: right;\">\n",
       "      <th></th>\n",
       "      <th>County</th>\n",
       "      <th>PassRate</th>\n",
       "      <th>PassRate_Predicted</th>\n",
       "    </tr>\n",
       "  </thead>\n",
       "  <tbody>\n",
       "    <tr>\n",
       "      <th>0</th>\n",
       "      <td>Adams</td>\n",
       "      <td>30.681818</td>\n",
       "      <td>28.125456</td>\n",
       "    </tr>\n",
       "    <tr>\n",
       "      <th>1</th>\n",
       "      <td>Ashland</td>\n",
       "      <td>51.612903</td>\n",
       "      <td>55.818817</td>\n",
       "    </tr>\n",
       "    <tr>\n",
       "      <th>2</th>\n",
       "      <td>Barron</td>\n",
       "      <td>49.769585</td>\n",
       "      <td>52.217087</td>\n",
       "    </tr>\n",
       "    <tr>\n",
       "      <th>3</th>\n",
       "      <td>Bayfield</td>\n",
       "      <td>76.470588</td>\n",
       "      <td>60.077816</td>\n",
       "    </tr>\n",
       "    <tr>\n",
       "      <th>4</th>\n",
       "      <td>Brown</td>\n",
       "      <td>70.513192</td>\n",
       "      <td>66.667720</td>\n",
       "    </tr>\n",
       "    <tr>\n",
       "      <th>...</th>\n",
       "      <td>...</td>\n",
       "      <td>...</td>\n",
       "      <td>...</td>\n",
       "    </tr>\n",
       "    <tr>\n",
       "      <th>65</th>\n",
       "      <td>Waukesha</td>\n",
       "      <td>72.446982</td>\n",
       "      <td>73.019180</td>\n",
       "    </tr>\n",
       "    <tr>\n",
       "      <th>66</th>\n",
       "      <td>Waupaca</td>\n",
       "      <td>47.780679</td>\n",
       "      <td>50.439266</td>\n",
       "    </tr>\n",
       "    <tr>\n",
       "      <th>67</th>\n",
       "      <td>Waushara</td>\n",
       "      <td>55.319149</td>\n",
       "      <td>43.146534</td>\n",
       "    </tr>\n",
       "    <tr>\n",
       "      <th>68</th>\n",
       "      <td>Winnebago</td>\n",
       "      <td>66.432337</td>\n",
       "      <td>66.845856</td>\n",
       "    </tr>\n",
       "    <tr>\n",
       "      <th>69</th>\n",
       "      <td>Wood</td>\n",
       "      <td>75.913978</td>\n",
       "      <td>70.631460</td>\n",
       "    </tr>\n",
       "  </tbody>\n",
       "</table>\n",
       "<p>70 rows × 3 columns</p>\n",
       "</div>"
      ],
      "text/plain": [
       "       County   PassRate  PassRate_Predicted\n",
       "0       Adams  30.681818           28.125456\n",
       "1     Ashland  51.612903           55.818817\n",
       "2      Barron  49.769585           52.217087\n",
       "3    Bayfield  76.470588           60.077816\n",
       "4       Brown  70.513192           66.667720\n",
       "..        ...        ...                 ...\n",
       "65   Waukesha  72.446982           73.019180\n",
       "66    Waupaca  47.780679           50.439266\n",
       "67   Waushara  55.319149           43.146534\n",
       "68  Winnebago  66.432337           66.845856\n",
       "69       Wood  75.913978           70.631460\n",
       "\n",
       "[70 rows x 3 columns]"
      ]
     },
     "execution_count": 3,
     "metadata": {},
     "output_type": "execute_result"
    }
   ],
   "source": [
    "WI_predictions_df"
   ]
  },
  {
   "cell_type": "code",
   "execution_count": 4,
   "metadata": {},
   "outputs": [
    {
     "data": {
      "text/html": [
       "<div>\n",
       "<style scoped>\n",
       "    .dataframe tbody tr th:only-of-type {\n",
       "        vertical-align: middle;\n",
       "    }\n",
       "\n",
       "    .dataframe tbody tr th {\n",
       "        vertical-align: top;\n",
       "    }\n",
       "\n",
       "    .dataframe thead th {\n",
       "        text-align: right;\n",
       "    }\n",
       "</style>\n",
       "<table border=\"1\" class=\"dataframe\">\n",
       "  <thead>\n",
       "    <tr style=\"text-align: right;\">\n",
       "      <th></th>\n",
       "      <th>County</th>\n",
       "      <th>PassRate</th>\n",
       "      <th>PassRate_Predicted</th>\n",
       "      <th>GEOID</th>\n",
       "      <th>geometry</th>\n",
       "    </tr>\n",
       "  </thead>\n",
       "  <tbody>\n",
       "    <tr>\n",
       "      <th>20</th>\n",
       "      <td>Sawyer</td>\n",
       "      <td>46.666667</td>\n",
       "      <td>45.87826</td>\n",
       "      <td>55113</td>\n",
       "      <td>POLYGON ((-91.55095 46.04111, -91.55128 46.157...</td>\n",
       "    </tr>\n",
       "    <tr>\n",
       "      <th>64</th>\n",
       "      <td>Dane</td>\n",
       "      <td>73.846488</td>\n",
       "      <td>65.77051</td>\n",
       "      <td>55025</td>\n",
       "      <td>POLYGON ((-89.83823 43.0747, -89.83796 43.1185...</td>\n",
       "    </tr>\n",
       "    <tr>\n",
       "      <th>58</th>\n",
       "      <td>Burnett</td>\n",
       "      <td>56.034483</td>\n",
       "      <td>43.26537</td>\n",
       "      <td>55013</td>\n",
       "      <td>POLYGON ((-92.88571 45.64602, -92.88399 45.654...</td>\n",
       "    </tr>\n",
       "    <tr>\n",
       "      <th>16</th>\n",
       "      <td>Dunn</td>\n",
       "      <td>69.058296</td>\n",
       "      <td>66.45289</td>\n",
       "      <td>55033</td>\n",
       "      <td>POLYGON ((-92.15646 45.20955, -92.04246 45.208...</td>\n",
       "    </tr>\n",
       "    <tr>\n",
       "      <th>4</th>\n",
       "      <td>Menominee</td>\n",
       "      <td>NaN</td>\n",
       "      <td>NaN</td>\n",
       "      <td>55078</td>\n",
       "      <td>POLYGON ((-88.98218 45.11773, -88.93055 45.117...</td>\n",
       "    </tr>\n",
       "  </tbody>\n",
       "</table>\n",
       "</div>"
      ],
      "text/plain": [
       "       County   PassRate  PassRate_Predicted  GEOID  \\\n",
       "20     Sawyer  46.666667            45.87826  55113   \n",
       "64       Dane  73.846488            65.77051  55025   \n",
       "58    Burnett  56.034483            43.26537  55013   \n",
       "16       Dunn  69.058296            66.45289  55033   \n",
       "4   Menominee        NaN                 NaN  55078   \n",
       "\n",
       "                                             geometry  \n",
       "20  POLYGON ((-91.55095 46.04111, -91.55128 46.157...  \n",
       "64  POLYGON ((-89.83823 43.0747, -89.83796 43.1185...  \n",
       "58  POLYGON ((-92.88571 45.64602, -92.88399 45.654...  \n",
       "16  POLYGON ((-92.15646 45.20955, -92.04246 45.208...  \n",
       "4   POLYGON ((-88.98218 45.11773, -88.93055 45.117...  "
      ]
     },
     "execution_count": 4,
     "metadata": {},
     "output_type": "execute_result"
    }
   ],
   "source": [
    "merged = gdf_states.merge(\n",
    "    WI_predictions_df,\n",
    "    on = ['County'],\n",
    "    how = 'left',\n",
    "    suffixes = ('', '_merged')\n",
    ")\n",
    "merged = merged[['County', 'PassRate', 'PassRate_Predicted', 'GEOID', 'geometry']]\n",
    "merged.sample(5)"
   ]
  },
  {
   "cell_type": "code",
   "execution_count": 5,
   "metadata": {},
   "outputs": [],
   "source": [
    "merged.to_csv('Wisconsin_2017_predictions_and_shapes.csv', index = False)"
   ]
  },
  {
   "cell_type": "code",
   "execution_count": 6,
   "metadata": {},
   "outputs": [
    {
     "data": {
      "text/html": [
       "<div>\n",
       "<style scoped>\n",
       "    .dataframe tbody tr th:only-of-type {\n",
       "        vertical-align: middle;\n",
       "    }\n",
       "\n",
       "    .dataframe tbody tr th {\n",
       "        vertical-align: top;\n",
       "    }\n",
       "\n",
       "    .dataframe thead th {\n",
       "        text-align: right;\n",
       "    }\n",
       "</style>\n",
       "<table border=\"1\" class=\"dataframe\">\n",
       "  <thead>\n",
       "    <tr style=\"text-align: right;\">\n",
       "      <th></th>\n",
       "      <th>County</th>\n",
       "      <th>PassRate</th>\n",
       "      <th>PassRate_Predicted</th>\n",
       "      <th>GEOID</th>\n",
       "      <th>geometry</th>\n",
       "    </tr>\n",
       "  </thead>\n",
       "  <tbody>\n",
       "    <tr>\n",
       "      <th>0</th>\n",
       "      <td>Kewaunee</td>\n",
       "      <td>63.559322</td>\n",
       "      <td>56.555380</td>\n",
       "      <td>55061</td>\n",
       "      <td>POLYGON ((-87.76532 44.4145, -87.76238 44.6445...</td>\n",
       "    </tr>\n",
       "    <tr>\n",
       "      <th>1</th>\n",
       "      <td>Marathon</td>\n",
       "      <td>65.634921</td>\n",
       "      <td>63.812794</td>\n",
       "      <td>55073</td>\n",
       "      <td>POLYGON ((-90.31657 44.95328, -90.31504 45.033...</td>\n",
       "    </tr>\n",
       "    <tr>\n",
       "      <th>2</th>\n",
       "      <td>Rusk</td>\n",
       "      <td>69.354839</td>\n",
       "      <td>36.437366</td>\n",
       "      <td>55107</td>\n",
       "      <td>POLYGON ((-91.54029 45.6376, -90.67875 45.6382...</td>\n",
       "    </tr>\n",
       "    <tr>\n",
       "      <th>3</th>\n",
       "      <td>Taylor</td>\n",
       "      <td>57.971014</td>\n",
       "      <td>53.694080</td>\n",
       "      <td>55119</td>\n",
       "      <td>POLYGON ((-90.92522 45.29206, -90.92534 45.379...</td>\n",
       "    </tr>\n",
       "    <tr>\n",
       "      <th>4</th>\n",
       "      <td>Menominee</td>\n",
       "      <td>NaN</td>\n",
       "      <td>NaN</td>\n",
       "      <td>55078</td>\n",
       "      <td>POLYGON ((-88.98218 45.11773, -88.93055 45.117...</td>\n",
       "    </tr>\n",
       "    <tr>\n",
       "      <th>...</th>\n",
       "      <td>...</td>\n",
       "      <td>...</td>\n",
       "      <td>...</td>\n",
       "      <td>...</td>\n",
       "      <td>...</td>\n",
       "    </tr>\n",
       "    <tr>\n",
       "      <th>67</th>\n",
       "      <td>Pepin</td>\n",
       "      <td>54.945055</td>\n",
       "      <td>59.214120</td>\n",
       "      <td>55091</td>\n",
       "      <td>POLYGON ((-92.31623 44.54097, -92.1353 44.5395...</td>\n",
       "    </tr>\n",
       "    <tr>\n",
       "      <th>68</th>\n",
       "      <td>Lincoln</td>\n",
       "      <td>68.776371</td>\n",
       "      <td>58.474900</td>\n",
       "      <td>55069</td>\n",
       "      <td>POLYGON ((-90.04614 45.34031, -90.04227 45.381...</td>\n",
       "    </tr>\n",
       "    <tr>\n",
       "      <th>69</th>\n",
       "      <td>Juneau</td>\n",
       "      <td>43.877551</td>\n",
       "      <td>40.334667</td>\n",
       "      <td>55057</td>\n",
       "      <td>POLYGON ((-90.31269 43.98138, -90.31252 44.155...</td>\n",
       "    </tr>\n",
       "    <tr>\n",
       "      <th>70</th>\n",
       "      <td>Brown</td>\n",
       "      <td>70.513192</td>\n",
       "      <td>66.667720</td>\n",
       "      <td>55009</td>\n",
       "      <td>POLYGON ((-88.25256 44.67981, -88.24269 44.679...</td>\n",
       "    </tr>\n",
       "    <tr>\n",
       "      <th>71</th>\n",
       "      <td>Ashland</td>\n",
       "      <td>51.612903</td>\n",
       "      <td>55.818817</td>\n",
       "      <td>55003</td>\n",
       "      <td>MULTIPOLYGON (((-90.46546 47.00259, -90.45745 ...</td>\n",
       "    </tr>\n",
       "  </tbody>\n",
       "</table>\n",
       "<p>72 rows × 5 columns</p>\n",
       "</div>"
      ],
      "text/plain": [
       "       County   PassRate  PassRate_Predicted  GEOID  \\\n",
       "0    Kewaunee  63.559322           56.555380  55061   \n",
       "1    Marathon  65.634921           63.812794  55073   \n",
       "2        Rusk  69.354839           36.437366  55107   \n",
       "3      Taylor  57.971014           53.694080  55119   \n",
       "4   Menominee        NaN                 NaN  55078   \n",
       "..        ...        ...                 ...    ...   \n",
       "67      Pepin  54.945055           59.214120  55091   \n",
       "68    Lincoln  68.776371           58.474900  55069   \n",
       "69     Juneau  43.877551           40.334667  55057   \n",
       "70      Brown  70.513192           66.667720  55009   \n",
       "71    Ashland  51.612903           55.818817  55003   \n",
       "\n",
       "                                             geometry  \n",
       "0   POLYGON ((-87.76532 44.4145, -87.76238 44.6445...  \n",
       "1   POLYGON ((-90.31657 44.95328, -90.31504 45.033...  \n",
       "2   POLYGON ((-91.54029 45.6376, -90.67875 45.6382...  \n",
       "3   POLYGON ((-90.92522 45.29206, -90.92534 45.379...  \n",
       "4   POLYGON ((-88.98218 45.11773, -88.93055 45.117...  \n",
       "..                                                ...  \n",
       "67  POLYGON ((-92.31623 44.54097, -92.1353 44.5395...  \n",
       "68  POLYGON ((-90.04614 45.34031, -90.04227 45.381...  \n",
       "69  POLYGON ((-90.31269 43.98138, -90.31252 44.155...  \n",
       "70  POLYGON ((-88.25256 44.67981, -88.24269 44.679...  \n",
       "71  MULTIPOLYGON (((-90.46546 47.00259, -90.45745 ...  \n",
       "\n",
       "[72 rows x 5 columns]"
      ]
     },
     "execution_count": 6,
     "metadata": {},
     "output_type": "execute_result"
    }
   ],
   "source": [
    "merged"
   ]
  },
  {
   "cell_type": "code",
   "execution_count": null,
   "metadata": {},
   "outputs": [],
   "source": []
  }
 ],
 "metadata": {
  "kernelspec": {
   "display_name": "erdos_fall_2024",
   "language": "python",
   "name": "python3"
  },
  "language_info": {
   "codemirror_mode": {
    "name": "ipython",
    "version": 3
   },
   "file_extension": ".py",
   "mimetype": "text/x-python",
   "name": "python",
   "nbconvert_exporter": "python",
   "pygments_lexer": "ipython3",
   "version": "3.12.5"
  }
 },
 "nbformat": 4,
 "nbformat_minor": 2
}
