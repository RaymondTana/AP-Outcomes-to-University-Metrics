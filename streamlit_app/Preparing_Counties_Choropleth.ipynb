{
 "cells": [
  {
   "cell_type": "markdown",
   "metadata": {},
   "source": [
    "# Preparing County-Level Choropleth Map Data\n",
    "\n",
    "To streamlit the Streamlit app's computations, we prepare the static data involved in the choropleth map."
   ]
  },
  {
   "cell_type": "code",
   "execution_count": 1,
   "metadata": {},
   "outputs": [],
   "source": [
    "import os\n",
    "import pandas as pd\n",
    "import numpy as np\n",
    "\n",
    "import sys\n",
    "sys.path.append(\"..\") # Adds higher directory to python modules path.\n",
    "from data_loaders import *\n",
    "\n",
    "prefix = '../'\n",
    "states_of_interest = ['GA', 'MA', 'WI']"
   ]
  },
  {
   "cell_type": "markdown",
   "metadata": {},
   "source": [
    "## AP Performance Data from States of Interest"
   ]
  },
  {
   "cell_type": "markdown",
   "metadata": {},
   "source": [
    "### Georgia"
   ]
  },
  {
   "cell_type": "code",
   "execution_count": 9,
   "metadata": {},
   "outputs": [
    {
     "data": {
      "text/html": [
       "<div>\n",
       "<style scoped>\n",
       "    .dataframe tbody tr th:only-of-type {\n",
       "        vertical-align: middle;\n",
       "    }\n",
       "\n",
       "    .dataframe tbody tr th {\n",
       "        vertical-align: top;\n",
       "    }\n",
       "\n",
       "    .dataframe thead th {\n",
       "        text-align: right;\n",
       "    }\n",
       "</style>\n",
       "<table border=\"1\" class=\"dataframe\">\n",
       "  <thead>\n",
       "    <tr style=\"text-align: right;\">\n",
       "      <th></th>\n",
       "      <th>SCHOOL_DSTRCT_NM</th>\n",
       "      <th>TEST_CMPNT_TYP_NM</th>\n",
       "      <th>NUMBER_TESTS_TAKEN</th>\n",
       "      <th>NOTESTS_3ORHIGHER</th>\n",
       "      <th>Year</th>\n",
       "      <th>Pass Rate</th>\n",
       "      <th>County</th>\n",
       "    </tr>\n",
       "  </thead>\n",
       "  <tbody>\n",
       "    <tr>\n",
       "      <th>0</th>\n",
       "      <td>Appling County</td>\n",
       "      <td>ALL Subjects</td>\n",
       "      <td>92.0</td>\n",
       "      <td>37.0</td>\n",
       "      <td>2019</td>\n",
       "      <td>0.402174</td>\n",
       "      <td>Appling</td>\n",
       "    </tr>\n",
       "    <tr>\n",
       "      <th>1</th>\n",
       "      <td>Appling County</td>\n",
       "      <td>Biology</td>\n",
       "      <td>12.0</td>\n",
       "      <td>7.0</td>\n",
       "      <td>2019</td>\n",
       "      <td>0.583333</td>\n",
       "      <td>Appling</td>\n",
       "    </tr>\n",
       "    <tr>\n",
       "      <th>2</th>\n",
       "      <td>Appling County</td>\n",
       "      <td>Eng. Literature &amp; Comp</td>\n",
       "      <td>10.0</td>\n",
       "      <td>3.0</td>\n",
       "      <td>2019</td>\n",
       "      <td>0.300000</td>\n",
       "      <td>Appling</td>\n",
       "    </tr>\n",
       "    <tr>\n",
       "      <th>3</th>\n",
       "      <td>Appling County</td>\n",
       "      <td>Geography: Human</td>\n",
       "      <td>30.0</td>\n",
       "      <td>7.0</td>\n",
       "      <td>2019</td>\n",
       "      <td>0.233333</td>\n",
       "      <td>Appling</td>\n",
       "    </tr>\n",
       "    <tr>\n",
       "      <th>4</th>\n",
       "      <td>Appling County</td>\n",
       "      <td>Psychology</td>\n",
       "      <td>23.0</td>\n",
       "      <td>13.0</td>\n",
       "      <td>2019</td>\n",
       "      <td>0.565217</td>\n",
       "      <td>Appling</td>\n",
       "    </tr>\n",
       "  </tbody>\n",
       "</table>\n",
       "</div>"
      ],
      "text/plain": [
       "  SCHOOL_DSTRCT_NM       TEST_CMPNT_TYP_NM  NUMBER_TESTS_TAKEN  \\\n",
       "0   Appling County            ALL Subjects                92.0   \n",
       "1   Appling County                 Biology                12.0   \n",
       "2   Appling County  Eng. Literature & Comp                10.0   \n",
       "3   Appling County        Geography: Human                30.0   \n",
       "4   Appling County              Psychology                23.0   \n",
       "\n",
       "   NOTESTS_3ORHIGHER  Year  Pass Rate   County  \n",
       "0               37.0  2019   0.402174  Appling  \n",
       "1                7.0  2019   0.583333  Appling  \n",
       "2                3.0  2019   0.300000  Appling  \n",
       "3                7.0  2019   0.233333  Appling  \n",
       "4               13.0  2019   0.565217  Appling  "
      ]
     },
     "execution_count": 9,
     "metadata": {},
     "output_type": "execute_result"
    }
   ],
   "source": [
    "GA_raw = gimmeGA(prefix = prefix)\n",
    "GA_raw.head()"
   ]
  },
  {
   "cell_type": "code",
   "execution_count": 10,
   "metadata": {},
   "outputs": [
    {
     "data": {
      "text/html": [
       "<div>\n",
       "<style scoped>\n",
       "    .dataframe tbody tr th:only-of-type {\n",
       "        vertical-align: middle;\n",
       "    }\n",
       "\n",
       "    .dataframe tbody tr th {\n",
       "        vertical-align: top;\n",
       "    }\n",
       "\n",
       "    .dataframe thead th {\n",
       "        text-align: right;\n",
       "    }\n",
       "</style>\n",
       "<table border=\"1\" class=\"dataframe\">\n",
       "  <thead>\n",
       "    <tr style=\"text-align: right;\">\n",
       "      <th></th>\n",
       "      <th>County</th>\n",
       "      <th>State_Abbreviation</th>\n",
       "      <th>Year</th>\n",
       "      <th>Pass Rate</th>\n",
       "    </tr>\n",
       "  </thead>\n",
       "  <tbody>\n",
       "    <tr>\n",
       "      <th>0</th>\n",
       "      <td>Appling</td>\n",
       "      <td>GA</td>\n",
       "      <td>2019</td>\n",
       "      <td>0.402174</td>\n",
       "    </tr>\n",
       "    <tr>\n",
       "      <th>5</th>\n",
       "      <td>Atkinson</td>\n",
       "      <td>GA</td>\n",
       "      <td>2019</td>\n",
       "      <td>0.216216</td>\n",
       "    </tr>\n",
       "    <tr>\n",
       "      <th>8</th>\n",
       "      <td>Baldwin</td>\n",
       "      <td>GA</td>\n",
       "      <td>2019</td>\n",
       "      <td>0.282609</td>\n",
       "    </tr>\n",
       "    <tr>\n",
       "      <th>11</th>\n",
       "      <td>Banks</td>\n",
       "      <td>GA</td>\n",
       "      <td>2019</td>\n",
       "      <td>0.432432</td>\n",
       "    </tr>\n",
       "    <tr>\n",
       "      <th>14</th>\n",
       "      <td>Barrow</td>\n",
       "      <td>GA</td>\n",
       "      <td>2019</td>\n",
       "      <td>0.468956</td>\n",
       "    </tr>\n",
       "    <tr>\n",
       "      <th>...</th>\n",
       "      <td>...</td>\n",
       "      <td>...</td>\n",
       "      <td>...</td>\n",
       "      <td>...</td>\n",
       "    </tr>\n",
       "    <tr>\n",
       "      <th>4574</th>\n",
       "      <td>Worth</td>\n",
       "      <td>GA</td>\n",
       "      <td>2022</td>\n",
       "      <td>0.351351</td>\n",
       "    </tr>\n",
       "    <tr>\n",
       "      <th>4576</th>\n",
       "      <td>Fulton</td>\n",
       "      <td>GA</td>\n",
       "      <td>2019</td>\n",
       "      <td>0.647980</td>\n",
       "    </tr>\n",
       "    <tr>\n",
       "      <th>4612</th>\n",
       "      <td>Fulton</td>\n",
       "      <td>GA</td>\n",
       "      <td>2020</td>\n",
       "      <td>0.508843</td>\n",
       "    </tr>\n",
       "    <tr>\n",
       "      <th>4644</th>\n",
       "      <td>Fulton</td>\n",
       "      <td>GA</td>\n",
       "      <td>2021</td>\n",
       "      <td>0.469993</td>\n",
       "    </tr>\n",
       "    <tr>\n",
       "      <th>4673</th>\n",
       "      <td>Fulton</td>\n",
       "      <td>GA</td>\n",
       "      <td>2022</td>\n",
       "      <td>0.465558</td>\n",
       "    </tr>\n",
       "  </tbody>\n",
       "</table>\n",
       "<p>450 rows × 4 columns</p>\n",
       "</div>"
      ],
      "text/plain": [
       "        County State_Abbreviation  Year  Pass Rate\n",
       "0      Appling                 GA  2019   0.402174\n",
       "5     Atkinson                 GA  2019   0.216216\n",
       "8      Baldwin                 GA  2019   0.282609\n",
       "11       Banks                 GA  2019   0.432432\n",
       "14      Barrow                 GA  2019   0.468956\n",
       "...        ...                ...   ...        ...\n",
       "4574     Worth                 GA  2022   0.351351\n",
       "4576    Fulton                 GA  2019   0.647980\n",
       "4612    Fulton                 GA  2020   0.508843\n",
       "4644    Fulton                 GA  2021   0.469993\n",
       "4673    Fulton                 GA  2022   0.465558\n",
       "\n",
       "[450 rows x 4 columns]"
      ]
     },
     "execution_count": 10,
     "metadata": {},
     "output_type": "execute_result"
    }
   ],
   "source": [
    "GA_map_data = GA_raw[GA_raw['TEST_CMPNT_TYP_NM'] == 'ALL Subjects'][['County', 'Year', 'Pass Rate']]\n",
    "GA_map_data['State_Abbreviation'] = 'GA'\n",
    "GA_map_data[['County', 'State_Abbreviation', 'Year', 'Pass Rate']]"
   ]
  },
  {
   "cell_type": "markdown",
   "metadata": {},
   "source": [
    "### Massachusetts"
   ]
  },
  {
   "cell_type": "code",
   "execution_count": 11,
   "metadata": {},
   "outputs": [
    {
     "ename": "NameError",
     "evalue": "name 'MA_map_data' is not defined",
     "output_type": "error",
     "traceback": [
      "\u001b[0;31m---------------------------------------------------------------------------\u001b[0m",
      "\u001b[0;31mNameError\u001b[0m                                 Traceback (most recent call last)",
      "Cell \u001b[0;32mIn[11], line 1\u001b[0m\n\u001b[0;32m----> 1\u001b[0m \u001b[43mMA_map_data\u001b[49m\n",
      "\u001b[0;31mNameError\u001b[0m: name 'MA_map_data' is not defined"
     ]
    }
   ],
   "source": [
    "MA_map_data"
   ]
  },
  {
   "cell_type": "markdown",
   "metadata": {},
   "source": [
    "### Wisconsin"
   ]
  },
  {
   "cell_type": "code",
   "execution_count": 12,
   "metadata": {},
   "outputs": [
    {
     "ename": "NameError",
     "evalue": "name 'WI_map_data' is not defined",
     "output_type": "error",
     "traceback": [
      "\u001b[0;31m---------------------------------------------------------------------------\u001b[0m",
      "\u001b[0;31mNameError\u001b[0m                                 Traceback (most recent call last)",
      "Cell \u001b[0;32mIn[12], line 1\u001b[0m\n\u001b[0;32m----> 1\u001b[0m \u001b[43mWI_map_data\u001b[49m\n",
      "\u001b[0;31mNameError\u001b[0m: name 'WI_map_data' is not defined"
     ]
    }
   ],
   "source": [
    "WI_map_data"
   ]
  },
  {
   "cell_type": "markdown",
   "metadata": {},
   "source": [
    "## County-level Income Data\n",
    "\n",
    "Reference: U.S. Bureau of Economic Analysis. Personal Income by County, Metro, and Other Areas. [CAINC1](https://apps.bea.gov/regional/zip/CAINC1.zip). "
   ]
  },
  {
   "cell_type": "code",
   "execution_count": 13,
   "metadata": {},
   "outputs": [
    {
     "data": {
      "text/html": [
       "<div>\n",
       "<style scoped>\n",
       "    .dataframe tbody tr th:only-of-type {\n",
       "        vertical-align: middle;\n",
       "    }\n",
       "\n",
       "    .dataframe tbody tr th {\n",
       "        vertical-align: top;\n",
       "    }\n",
       "\n",
       "    .dataframe thead th {\n",
       "        text-align: right;\n",
       "    }\n",
       "</style>\n",
       "<table border=\"1\" class=\"dataframe\">\n",
       "  <thead>\n",
       "    <tr style=\"text-align: right;\">\n",
       "      <th></th>\n",
       "      <th>County</th>\n",
       "      <th>State_Abbreviation</th>\n",
       "      <th>2018</th>\n",
       "      <th>2019</th>\n",
       "      <th>2020</th>\n",
       "      <th>2021</th>\n",
       "      <th>2022</th>\n",
       "    </tr>\n",
       "  </thead>\n",
       "  <tbody>\n",
       "    <tr>\n",
       "      <th>1277</th>\n",
       "      <td>Appling</td>\n",
       "      <td>GA</td>\n",
       "      <td>33662</td>\n",
       "      <td>35609</td>\n",
       "      <td>39134</td>\n",
       "      <td>42693</td>\n",
       "      <td>43602</td>\n",
       "    </tr>\n",
       "    <tr>\n",
       "      <th>1280</th>\n",
       "      <td>Atkinson</td>\n",
       "      <td>GA</td>\n",
       "      <td>29212</td>\n",
       "      <td>30449</td>\n",
       "      <td>32289</td>\n",
       "      <td>35210</td>\n",
       "      <td>36622</td>\n",
       "    </tr>\n",
       "    <tr>\n",
       "      <th>1283</th>\n",
       "      <td>Bacon</td>\n",
       "      <td>GA</td>\n",
       "      <td>31302</td>\n",
       "      <td>32293</td>\n",
       "      <td>37448</td>\n",
       "      <td>39057</td>\n",
       "      <td>39972</td>\n",
       "    </tr>\n",
       "    <tr>\n",
       "      <th>1286</th>\n",
       "      <td>Baker</td>\n",
       "      <td>GA</td>\n",
       "      <td>37763</td>\n",
       "      <td>40687</td>\n",
       "      <td>45061</td>\n",
       "      <td>50236</td>\n",
       "      <td>49696</td>\n",
       "    </tr>\n",
       "    <tr>\n",
       "      <th>1289</th>\n",
       "      <td>Baldwin</td>\n",
       "      <td>GA</td>\n",
       "      <td>33125</td>\n",
       "      <td>34522</td>\n",
       "      <td>37644</td>\n",
       "      <td>42144</td>\n",
       "      <td>42270</td>\n",
       "    </tr>\n",
       "  </tbody>\n",
       "</table>\n",
       "</div>"
      ],
      "text/plain": [
       "        County State_Abbreviation   2018   2019   2020   2021   2022\n",
       "1277   Appling                 GA  33662  35609  39134  42693  43602\n",
       "1280  Atkinson                 GA  29212  30449  32289  35210  36622\n",
       "1283     Bacon                 GA  31302  32293  37448  39057  39972\n",
       "1286     Baker                 GA  37763  40687  45061  50236  49696\n",
       "1289   Baldwin                 GA  33125  34522  37644  42144  42270"
      ]
     },
     "execution_count": 13,
     "metadata": {},
     "output_type": "execute_result"
    }
   ],
   "source": [
    "incomes = gimmeCountyIncomes(prefix = prefix)\n",
    "incomes = incomes[incomes['State_Abbreviation'].isin(states_of_interest)]\n",
    "incomes.head()"
   ]
  },
  {
   "cell_type": "markdown",
   "metadata": {},
   "source": [
    "## Combining"
   ]
  },
  {
   "cell_type": "code",
   "execution_count": null,
   "metadata": {},
   "outputs": [],
   "source": [
    "# Georgia Income\n",
    "def find_income_GA(county, state, year):\n",
    "    if(county == 'Savannah-Chatham'):\n",
    "        county = 'Chatham'\n",
    "    elif(county == 'Griffin-Spalding'):\n",
    "        county = 'Spalding'\n",
    "    elif(county == 'Thomaston-Upson'):\n",
    "        county = 'Upson'\n",
    "    return float(incomes.loc[(incomes['County'] == county) & (incomes['State_Abbreviation'] == state)][str(year)].iloc[0])\n",
    "GA_map_data['Income'] = GA_map_data.apply(lambda row: find_income_GA(row['County'], row['State_Abbreviation'], row['Year']), axis = 1)\n",
    "\n",
    "# Massachusetts Income\n",
    "def find_income_MA(county, state, year):\n",
    "    return float(incomes.loc[(incomes['County'] == county) & (incomes['State_Abbreviation'] == state)][str(year)].iloc[0])\n",
    "MA_map_data['Income'] = MA_map_data.apply(lambda row: find_income_MA(row['County'], row['State_Abbreviation'], row['Year']), axis = 1)\n",
    "\n",
    "# Wisconsin Income\n",
    "def find_income_WI(county, state, year):\n",
    "    return float(incomes.loc[(incomes['County'] == county) & (incomes['State_Abbreviation'] == state)][str(year)].iloc[0])\n",
    "WI_map_data['Income'] = WI_map_data.apply(lambda row: find_income_WI(row['County'], row['State_Abbreviation'], row['Year']), axis = 1)"
   ]
  },
  {
   "cell_type": "code",
   "execution_count": null,
   "metadata": {},
   "outputs": [],
   "source": [
    "# Concatenate all states of interest\n",
    "states_map_data = pd.concat([GA_map_data, MA_map_data, WI_map_data])\n",
    "states_map_data.to_csv('States_Counties_Map_Data.csv')"
   ]
  }
 ],
 "metadata": {
  "kernelspec": {
   "display_name": "erdos_fall_2024",
   "language": "python",
   "name": "python3"
  },
  "language_info": {
   "codemirror_mode": {
    "name": "ipython",
    "version": 3
   },
   "file_extension": ".py",
   "mimetype": "text/x-python",
   "name": "python",
   "nbconvert_exporter": "python",
   "pygments_lexer": "ipython3",
   "version": "3.12.5"
  }
 },
 "nbformat": 4,
 "nbformat_minor": 2
}
