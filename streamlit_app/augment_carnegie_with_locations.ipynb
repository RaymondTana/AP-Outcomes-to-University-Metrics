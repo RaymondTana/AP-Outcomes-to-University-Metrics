{
 "cells": [
  {
   "cell_type": "markdown",
   "metadata": {},
   "source": [
    "## Augment Carnegie Data with Locations\n",
    "\n",
    "There are a few methods to get location data for the universities listed in the Carnegie data. One is to use GeoPy to employ a Geocoder to prompt Google's API to convert the university name into coordinates/an address. When that fails (around 5% of the time), we might then consult the National Center for Education Statistics -- Integrated Postsecondary Education Data System [Institutional Characteristics: Directory information (HD2023)](https://nces.ed.gov/ipeds/datacenter/DataFiles.aspx?year=2023&sid=943e89a7-2401-4cb2-a0c5-8cce57f04a7e&rtid=7). University ids are shared across these two datasets, so any location information from this dataset may be utilized. The remaining few dozen can be imputed by hand.\n",
    "\n",
    "I split the data in half due to API limitations."
   ]
  },
  {
   "cell_type": "code",
   "execution_count": 1,
   "metadata": {},
   "outputs": [
    {
     "ename": "ConfigurationError",
     "evalue": "Since July 2018 Google requires each request to have an API key. Pass a valid `api_key` to GoogleV3 geocoder to fix this error. See https://developers.google.com/maps/documentation/geocoding/usage-and-billing",
     "output_type": "error",
     "traceback": [
      "\u001b[0;31m---------------------------------------------------------------------------\u001b[0m",
      "\u001b[0;31mConfigurationError\u001b[0m                        Traceback (most recent call last)",
      "Cell \u001b[0;32mIn[1], line 6\u001b[0m\n\u001b[1;32m      4\u001b[0m \u001b[38;5;28;01mimport\u001b[39;00m \u001b[38;5;21;01mnumpy\u001b[39;00m \u001b[38;5;28;01mas\u001b[39;00m \u001b[38;5;21;01mnp\u001b[39;00m\n\u001b[1;32m      5\u001b[0m \u001b[38;5;28;01mfrom\u001b[39;00m \u001b[38;5;21;01mgeopy\u001b[39;00m \u001b[38;5;28;01mimport\u001b[39;00m geocoders\n\u001b[0;32m----> 6\u001b[0m g \u001b[38;5;241m=\u001b[39m \u001b[43mgeocoders\u001b[49m\u001b[38;5;241;43m.\u001b[39;49m\u001b[43mGoogleV3\u001b[49m\u001b[43m(\u001b[49m\u001b[43mapi_key\u001b[49m\u001b[43m \u001b[49m\u001b[38;5;241;43m=\u001b[39;49m\u001b[43m \u001b[49m\u001b[43mos\u001b[49m\u001b[38;5;241;43m.\u001b[39;49m\u001b[43mgetenv\u001b[49m\u001b[43m(\u001b[49m\u001b[38;5;124;43m'\u001b[39;49m\u001b[38;5;124;43mGOOGLE_API_KEY\u001b[39;49m\u001b[38;5;124;43m'\u001b[39;49m\u001b[43m)\u001b[49m\u001b[43m)\u001b[49m\n",
      "File \u001b[0;32m/opt/homebrew/Caskroom/miniforge/base/envs/erdos_fall_2024/lib/python3.12/site-packages/geopy/geocoders/google.py:119\u001b[0m, in \u001b[0;36mGoogleV3.__init__\u001b[0;34m(self, api_key, domain, scheme, client_id, secret_key, timeout, proxies, user_agent, ssl_context, adapter_factory, channel)\u001b[0m\n\u001b[1;32m    116\u001b[0m \u001b[38;5;28mself\u001b[39m\u001b[38;5;241m.\u001b[39msecret_key \u001b[38;5;241m=\u001b[39m secret_key\n\u001b[1;32m    118\u001b[0m \u001b[38;5;28;01mif\u001b[39;00m \u001b[38;5;129;01mnot\u001b[39;00m \u001b[38;5;28mself\u001b[39m\u001b[38;5;241m.\u001b[39mpremier \u001b[38;5;129;01mand\u001b[39;00m \u001b[38;5;129;01mnot\u001b[39;00m api_key:\n\u001b[0;32m--> 119\u001b[0m     \u001b[38;5;28;01mraise\u001b[39;00m ConfigurationError(\n\u001b[1;32m    120\u001b[0m         \u001b[38;5;124m'\u001b[39m\u001b[38;5;124mSince July 2018 Google requires each request to have an API key. \u001b[39m\u001b[38;5;124m'\u001b[39m\n\u001b[1;32m    121\u001b[0m         \u001b[38;5;124m'\u001b[39m\u001b[38;5;124mPass a valid `api_key` to GoogleV3 geocoder to fix this error. \u001b[39m\u001b[38;5;124m'\u001b[39m\n\u001b[1;32m    122\u001b[0m         \u001b[38;5;124m'\u001b[39m\u001b[38;5;124mSee https://developers.google.com/maps/documentation/geocoding/usage-and-billing\u001b[39m\u001b[38;5;124m'\u001b[39m  \u001b[38;5;66;03m# noqa\u001b[39;00m\n\u001b[1;32m    123\u001b[0m     )\n\u001b[1;32m    125\u001b[0m \u001b[38;5;28mself\u001b[39m\u001b[38;5;241m.\u001b[39mapi_key \u001b[38;5;241m=\u001b[39m api_key\n\u001b[1;32m    126\u001b[0m \u001b[38;5;28mself\u001b[39m\u001b[38;5;241m.\u001b[39mdomain \u001b[38;5;241m=\u001b[39m domain\u001b[38;5;241m.\u001b[39mstrip(\u001b[38;5;124m'\u001b[39m\u001b[38;5;124m/\u001b[39m\u001b[38;5;124m'\u001b[39m)\n",
      "\u001b[0;31mConfigurationError\u001b[0m: Since July 2018 Google requires each request to have an API key. Pass a valid `api_key` to GoogleV3 geocoder to fix this error. See https://developers.google.com/maps/documentation/geocoding/usage-and-billing"
     ]
    }
   ],
   "source": [
    "import os\n",
    "import pandas as pd\n",
    "import geopandas as gpd\n",
    "import numpy as np\n",
    "from geopy import geocoders\n",
    "g = geocoders.GoogleV3(api_key = os.getenv('GOOGLE_API_KEY'))"
   ]
  },
  {
   "cell_type": "code",
   "execution_count": 52,
   "metadata": {},
   "outputs": [],
   "source": [
    "carnegie_first_2000 = pd.read_excel('../data/CCIHE2021-PublicData_limited.xlsx', sheet_name = 'Data')[:2000] \n",
    "carnegie_last = pd.read_excel('../data/CCIHE2021-PublicData_limited.xlsx', sheet_name = 'Data')[2000:] \n",
    "carnegie = pd.read_excel('../data/CCIHE2021-PublicData_limited.xlsx', sheet_name = 'Data')"
   ]
  },
  {
   "cell_type": "code",
   "execution_count": null,
   "metadata": {},
   "outputs": [],
   "source": [
    "# wrapper for the geocoder\n",
    "def get_location_attributes(name):\n",
    "    try:\n",
    "        location = g.geocode(name, timeout=10)\n",
    "        if location:\n",
    "            return pd.Series({\n",
    "                'address': location.address,\n",
    "                'latitude': location.latitude,\n",
    "                'longitude': location.longitude,\n",
    "                'point': location.point\n",
    "            })\n",
    "        else:\n",
    "            return pd.Series({\n",
    "                'address': None,\n",
    "                'latitude': None,\n",
    "                'longitude': None,\n",
    "                'point': None\n",
    "            })\n",
    "    except Exception:\n",
    "        # In case of an error (e.g., timeout), return None values\n",
    "        return pd.Series({\n",
    "            'address': None,\n",
    "            'latitude': None,\n",
    "            'longitude': None,\n",
    "            'point': None\n",
    "        })"
   ]
  },
  {
   "cell_type": "code",
   "execution_count": null,
   "metadata": {},
   "outputs": [],
   "source": [
    "# Request Google geocoder\n",
    "carnegie_last[['address', 'latitude', 'longitude', 'point']] = carnegie_last['name'].apply(get_location_attributes)"
   ]
  },
  {
   "cell_type": "code",
   "execution_count": null,
   "metadata": {},
   "outputs": [
    {
     "data": {
      "text/plain": [
       "117"
      ]
     },
     "execution_count": 59,
     "metadata": {},
     "output_type": "execute_result"
    }
   ],
   "source": [
    "# Number of rows that Google failed to resolve\n",
    "len(carnegie_last[carnegie_last['latitude'].isna()])"
   ]
  },
  {
   "cell_type": "code",
   "execution_count": null,
   "metadata": {},
   "outputs": [],
   "source": [
    "# Option 2: HD2023 data\n",
    "hd_df = pd.read_csv('data/hd2023.csv')\n",
    "\n",
    "# Build full address from components\n",
    "hd_df['FULL_ADDR'] = hd_df['ADDR'] + ', ' + hd_df['CITY'] + ', ' + hd_df['STABBR'] + ' ' + hd_df['ZIP']\n",
    "\n",
    "# Merge Carnegie and HD2023 data\n",
    "merged_df = carnegie_last.merge(hd_df[['UNITID', 'LATITUDE', 'LONGITUD', 'FULL_ADDR']], how='left', left_on='unitid', right_on='UNITID', suffixes=('', '_B'))\n",
    "\n",
    "# Look into the failures\n",
    "failures = carnegie_last[carnegie_last['latitude'].isna()]\n",
    "hd_ids = list(hd_df.UNITID)\n",
    "# Inspect how many of the previously unresolved rows could be resolved by this new dataset\n",
    "shared = list(set(failures.unitid) & set(hd_ids))\n",
    "print(len(shared))"
   ]
  },
  {
   "cell_type": "code",
   "execution_count": null,
   "metadata": {},
   "outputs": [],
   "source": [
    "# Combine accordingly\n",
    "merged_df['latitude'] = merged_df['latitude'].combine_first(merged_df['LATITUDE'])\n",
    "merged_df['longitude'] = merged_df['longitude'].combine_first(merged_df['LONGITUD'])\n",
    "merged_df['address'] = merged_df['address'].combine_first(merged_df['FULL_ADDR'])"
   ]
  },
  {
   "cell_type": "code",
   "execution_count": null,
   "metadata": {},
   "outputs": [
    {
     "data": {
      "text/html": [
       "<div>\n",
       "<style scoped>\n",
       "    .dataframe tbody tr th:only-of-type {\n",
       "        vertical-align: middle;\n",
       "    }\n",
       "\n",
       "    .dataframe tbody tr th {\n",
       "        vertical-align: top;\n",
       "    }\n",
       "\n",
       "    .dataframe thead th {\n",
       "        text-align: right;\n",
       "    }\n",
       "</style>\n",
       "<table border=\"1\" class=\"dataframe\">\n",
       "  <thead>\n",
       "    <tr style=\"text-align: right;\">\n",
       "      <th></th>\n",
       "      <th>unitid</th>\n",
       "      <th>name</th>\n",
       "      <th>city</th>\n",
       "      <th>stabbr</th>\n",
       "      <th>basic2000</th>\n",
       "      <th>basic2005</th>\n",
       "      <th>basic2010</th>\n",
       "      <th>basic2015</th>\n",
       "      <th>basic2018</th>\n",
       "      <th>basic2021</th>\n",
       "      <th>...</th>\n",
       "      <th>rooms</th>\n",
       "      <th>selindex</th>\n",
       "      <th>address</th>\n",
       "      <th>latitude</th>\n",
       "      <th>longitude</th>\n",
       "      <th>point</th>\n",
       "      <th>UNITID</th>\n",
       "      <th>LATITUDE</th>\n",
       "      <th>LONGITUD</th>\n",
       "      <th>FULL_ADDR</th>\n",
       "    </tr>\n",
       "  </thead>\n",
       "  <tbody>\n",
       "    <tr>\n",
       "      <th>1129</th>\n",
       "      <td>369668</td>\n",
       "      <td>Central Pennsylvania Institute of Science and ...</td>\n",
       "      <td>Pleasant Gap</td>\n",
       "      <td>PA</td>\n",
       "      <td>-2</td>\n",
       "      <td>-2</td>\n",
       "      <td>-2</td>\n",
       "      <td>-2</td>\n",
       "      <td>-2</td>\n",
       "      <td>11</td>\n",
       "      <td>...</td>\n",
       "      <td>0</td>\n",
       "      <td>NaN</td>\n",
       "      <td>540 N Harrison Rd, Pleasant Gap, PA 16823</td>\n",
       "      <td>40.882168</td>\n",
       "      <td>-77.740923</td>\n",
       "      <td>None</td>\n",
       "      <td>369668.0</td>\n",
       "      <td>40.882168</td>\n",
       "      <td>-77.740923</td>\n",
       "      <td>540 N Harrison Rd, Pleasant Gap, PA 16823</td>\n",
       "    </tr>\n",
       "  </tbody>\n",
       "</table>\n",
       "<p>1 rows × 32 columns</p>\n",
       "</div>"
      ],
      "text/plain": [
       "      unitid                                               name          city  \\\n",
       "1129  369668  Central Pennsylvania Institute of Science and ...  Pleasant Gap   \n",
       "\n",
       "     stabbr  basic2000  basic2005  basic2010  basic2015  basic2018  basic2021  \\\n",
       "1129     PA         -2         -2         -2         -2         -2         11   \n",
       "\n",
       "      ...  rooms  selindex                                    address  \\\n",
       "1129  ...      0       NaN  540 N Harrison Rd, Pleasant Gap, PA 16823   \n",
       "\n",
       "       latitude  longitude  point    UNITID   LATITUDE   LONGITUD  \\\n",
       "1129  40.882168 -77.740923   None  369668.0  40.882168 -77.740923   \n",
       "\n",
       "                                      FULL_ADDR  \n",
       "1129  540 N Harrison Rd, Pleasant Gap, PA 16823  \n",
       "\n",
       "[1 rows x 32 columns]"
      ]
     },
     "execution_count": 106,
     "metadata": {},
     "output_type": "execute_result"
    }
   ],
   "source": [
    "# Test output\n",
    "merged_df[merged_df.unitid == shared[0]]"
   ]
  },
  {
   "cell_type": "code",
   "execution_count": null,
   "metadata": {},
   "outputs": [],
   "source": [
    "# Get rid of columns from the merger\n",
    "merged_df.drop(columns = ['UNITID', 'LATITUDE', 'LONGITUD', 'FULL_ADDR'], inplace = True)"
   ]
  },
  {
   "cell_type": "code",
   "execution_count": null,
   "metadata": {},
   "outputs": [
    {
     "data": {
      "text/plain": [
       "10"
      ]
     },
     "execution_count": 114,
     "metadata": {},
     "output_type": "execute_result"
    }
   ],
   "source": [
    "# Number of still unresolved should be difference\n",
    "len(merged_df[merged_df['latitude'].isna()])"
   ]
  },
  {
   "cell_type": "markdown",
   "metadata": {},
   "source": []
  }
 ],
 "metadata": {
  "kernelspec": {
   "display_name": "erdos_fall_2024",
   "language": "python",
   "name": "python3"
  },
  "language_info": {
   "codemirror_mode": {
    "name": "ipython",
    "version": 3
   },
   "file_extension": ".py",
   "mimetype": "text/x-python",
   "name": "python",
   "nbconvert_exporter": "python",
   "pygments_lexer": "ipython3",
   "version": "3.12.5"
  }
 },
 "nbformat": 4,
 "nbformat_minor": 2
}
