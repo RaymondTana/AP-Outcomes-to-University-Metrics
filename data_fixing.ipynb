{
 "cells": [
  {
   "cell_type": "markdown",
   "metadata": {},
   "source": [
    "# Working scripts for data correction and saving after pandas loadable format"
   ]
  },
  {
   "cell_type": "code",
   "execution_count": null,
   "metadata": {},
   "outputs": [],
   "source": [
    "import pandas as pd\n",
    "import numpy as np\n"
   ]
  },
  {
   "cell_type": "markdown",
   "metadata": {},
   "source": [
    "## Carnegie Data"
   ]
  },
  {
   "cell_type": "code",
   "execution_count": null,
   "metadata": {},
   "outputs": [],
   "source": [
    "def gimmeCarnegieFull():\n",
    "    \"\"\" Returns the limited Carnegie Dataset\n",
    "        County information should be applied post-loading where appropriate\n",
    "    \"\"\"\n",
    "    carnegie=pd.read_excel('data/CCIHE2021-PublicData.xlsx',sheet_name='Data') # Carnegie university clasification as dataframe\n",
    "    return carnegie"
   ]
  },
  {
   "cell_type": "markdown",
   "metadata": {},
   "source": [
    "### Desired Carnegie Keys\n",
    "name, city, stabbr, basic2021, enrprofile2021, sector, control, hbcu, hsi, msi, womens, selindex, rooms, ugtenr20, tribal\n",
    "\n",
    "### Necessary reclassification/joining\n",
    "tribal: 2 (no) should be 0 (no)\n",
    "\n",
    "hbcu: 2 (no) should be 0 (no)\n",
    "\n",
    "basic2021:\n",
    "-2: Remove values, not classified\n",
    "1, 2, 3, 4, 5, 6, 7, 8, 9, 14: Associates (**0**)\n",
    "10, 11, 12, 13, 24, 25, 26, 27, 28, 29, 30, 31, 32: Professional (**1**)\n",
    "15, 16: R-schools (**2**)\n",
    "17: Doctoral (**3**)\n",
    "18, 19, 20: Masters (**4**)\n",
    "21, 22, 23: Bachelors (**5**)"
   ]
  },
  {
   "cell_type": "code",
   "execution_count": null,
   "metadata": {},
   "outputs": [],
   "source": [
    "carnegie_full=gimmeCarnegieFull()\n",
    "needed_information=['name', 'city', 'stabbr', 'basic2021', 'enrprofile2021', 'sector', 'control', 'hbcu', 'hsi', 'msi', 'womens', 'selindex', 'rooms', 'ugtenr20', 'tribal']\n",
    "carnegie_partial=carnegie_full[needed_information]"
   ]
  },
  {
   "cell_type": "code",
   "execution_count": null,
   "metadata": {},
   "outputs": [],
   "source": [
    "# 2, no, values for 0 replacement\n",
    "carnegie_partial.loc[carnegie_partial['hbcu']==2,'hbcu']=0\n",
    "carnegie_partial.loc[carnegie_partial['tribal']==2,'tribal']=0"
   ]
  },
  {
   "cell_type": "code",
   "execution_count": null,
   "metadata": {},
   "outputs": [],
   "source": [
    "# basic classification grouping algorithm\n",
    "carnegie_partial=carnegie_partial[carnegie_partial['basic2021']!=(-2)]\n",
    "\n",
    "associates=[1, 2, 3, 4, 5, 6, 7, 8, 9, 14]\n",
    "professional=[10, 11, 12, 13, 24, 25, 26, 27, 28, 29, 30, 31, 32]\n",
    "rschools=[15, 16]\n",
    "doctoral=[17]\n",
    "masters=[18,19,20]\n",
    "bachelors=[21, 22, 23]\n",
    "\n",
    "carnegie_partial.loc[carnegie_partial['basic2021'].isin(associates),'basic2021']=0\n",
    "carnegie_partial.loc[carnegie_partial['basic2021'].isin(professional),'basic2021']=1\n",
    "carnegie_partial.loc[carnegie_partial['basic2021'].isin(rschools),'basic2021']=2\n",
    "carnegie_partial.loc[carnegie_partial['basic2021'].isin(doctoral),'basic2021']=3\n",
    "carnegie_partial.loc[carnegie_partial['basic2021'].isin(masters),'basic2021']=4\n",
    "carnegie_partial.loc[carnegie_partial['basic2021'].isin(bachelors),'basic2021']=5"
   ]
  },
  {
   "cell_type": "code",
   "execution_count": null,
   "metadata": {},
   "outputs": [],
   "source": [
    "carnegie_partial.to_csv('data/CCIHE2021-PublicData_limited.csv',index=False)"
   ]
  },
  {
   "cell_type": "markdown",
   "metadata": {},
   "source": [
    "## Georgia Data"
   ]
  },
  {
   "cell_type": "code",
   "execution_count": null,
   "metadata": {},
   "outputs": [],
   "source": [
    "url_2019='https://download.gosa.ga.gov/2019/AP_2019_FEB_24_2020.csv'\n",
    "url_2020='https://download.gosa.ga.gov/2020/AP_2020_JUN_21_2021.csv'\n",
    "url_2021='https://download.gosa.ga.gov/2021/AP_2021_Dec062021.csv'\n",
    "url_2022='https://download.gosa.ga.gov/2022/AP_2022_Apr102023.csv'\n",
    "url_2023='https://download.gosa.ga.gov/2023/AP_2022-23_2024-04-02_14_14_37.csv'\n",
    "\n",
    "ga_2019=pd.read_csv(url_2019)\n",
    "ga_2020=pd.read_csv(url_2020)\n",
    "ga_2021=pd.read_csv(url_2021)\n",
    "ga_2022=pd.read_csv(url_2022)\n",
    "ga_2023=pd.read_csv(url_2023)"
   ]
  },
  {
   "cell_type": "code",
   "execution_count": null,
   "metadata": {},
   "outputs": [],
   "source": [
    "print(ga_2019.keys())\n",
    "print(ga_2020.keys())\n",
    "print(ga_2021.keys())\n",
    "print(ga_2022.keys())\n",
    "print(ga_2023.keys())"
   ]
  },
  {
   "cell_type": "code",
   "execution_count": null,
   "metadata": {},
   "outputs": [],
   "source": [
    "ga_2019['Year']=2019\n",
    "ga_2020['Year']=2020\n",
    "ga_2021['Year']=2021\n",
    "ga_2022['Year']=2022\n",
    "ga_2023['Year']=2023\n"
   ]
  },
  {
   "cell_type": "code",
   "execution_count": null,
   "metadata": {},
   "outputs": [],
   "source": [
    "ga_2023=ga_2023.rename(columns={'NUMBER_TESTS_3_OR_HIGHER':'NOTESTS_3ORHIGHER'})"
   ]
  },
  {
   "cell_type": "code",
   "execution_count": null,
   "metadata": {},
   "outputs": [],
   "source": [
    "years=[ga_2019,ga_2020,ga_2021,ga_2022,ga_2023]\n",
    "ga_total=pd.concat(years)"
   ]
  },
  {
   "cell_type": "code",
   "execution_count": null,
   "metadata": {},
   "outputs": [],
   "source": [
    "ga_total.keys()"
   ]
  },
  {
   "cell_type": "markdown",
   "metadata": {},
   "source": [
    "### kept and new information GA\n",
    "\n",
    "Kept: ['SCHOOL_DSTRCT_NM', 'INSTN_NUMBER', 'TEST_CMPNT_TYP_NM','NUMBER_TESTS_TAKEN', 'NOTESTS_3ORHIGHER']\n",
    "New: ['Year', 'County']\n",
    "\n",
    "All non-county data dropped except Atlanta Public Schools which has been as part of Fulton county\n",
    "\n",
    "Data that has 'TRS' was dropped\n",
    "\n",
    "School specific data is dropped"
   ]
  },
  {
   "cell_type": "code",
   "execution_count": null,
   "metadata": {},
   "outputs": [],
   "source": [
    "kept_keys=['SCHOOL_DSTRCT_NM', 'TEST_CMPNT_TYP_NM','NUMBER_TESTS_TAKEN', 'NOTESTS_3ORHIGHER','Year']\n",
    "ga_partial=ga_total.loc[ga_total['INSTN_NUMBER']=='SCHOOL_ALL'][kept_keys]\n"
   ]
  },
  {
   "cell_type": "code",
   "execution_count": null,
   "metadata": {},
   "outputs": [],
   "source": [
    "# Atlanta fixer\n",
    "temp1=ga_partial[ga_partial['SCHOOL_DSTRCT_NM'].str.contains('Atlanta')]\n",
    "temp2=ga_partial[ga_partial['SCHOOL_DSTRCT_NM'].str.contains('Fulton')]\n",
    "temp3=pd.concat([temp1,temp2]).groupby(['Year','TEST_CMPNT_TYP_NM']).sum().reset_index()\n",
    "temp3['SCHOOL_DSTRCT_NM']='Fulton County'\n",
    "ga_partial=ga_partial[ga_partial['SCHOOL_DSTRCT_NM']!='Fulton County']\n",
    "ga_partial=pd.concat([ga_partial,temp3])"
   ]
  },
  {
   "cell_type": "code",
   "execution_count": null,
   "metadata": {},
   "outputs": [],
   "source": [
    "# Missing data fixer\n",
    "ga_partial=ga_partial.dropna()\n",
    "ga_partial=ga_partial[ga_partial['NOTESTS_3ORHIGHER'].str.contains('TFS',na=False)==False]\n",
    "ga_partial=ga_partial[ga_partial['NUMBER_TESTS_TAKEN'].str.contains('TFS',na=False)==False]\n",
    "ga_partial=ga_partial.astype({'NUMBER_TESTS_TAKEN':'float','NOTESTS_3ORHIGHER':'float'})\n"
   ]
  },
  {
   "cell_type": "code",
   "execution_count": null,
   "metadata": {},
   "outputs": [],
   "source": [
    "# Pass rates \n",
    "ga_partial['Pass Rate']=ga_partial['NOTESTS_3ORHIGHER']/ga_partial['NUMBER_TESTS_TAKEN']"
   ]
  },
  {
   "cell_type": "code",
   "execution_count": null,
   "metadata": {},
   "outputs": [],
   "source": [
    "# Counties\n",
    "ga_partial=ga_partial[ga_partial['SCHOOL_DSTRCT_NM'].str.contains('County')]\n",
    "ga_partial['County']=ga_partial['SCHOOL_DSTRCT_NM'].str.split(' County',n=1,expand=True)[0]"
   ]
  },
  {
   "cell_type": "code",
   "execution_count": null,
   "metadata": {},
   "outputs": [],
   "source": [
    "ga_partial.to_csv('data/GA_2019-23_counties.csv',index=False)"
   ]
  }
 ],
 "metadata": {
  "kernelspec": {
   "display_name": "erdos_fall_2024",
   "language": "python",
   "name": "python3"
  },
  "language_info": {
   "codemirror_mode": {
    "name": "ipython",
    "version": 3
   },
   "file_extension": ".py",
   "mimetype": "text/x-python",
   "name": "python",
   "nbconvert_exporter": "python",
   "pygments_lexer": "ipython3",
   "version": "3.12.5"
  }
 },
 "nbformat": 4,
 "nbformat_minor": 2
}
