{
 "cells": [
  {
   "cell_type": "markdown",
   "metadata": {},
   "source": [
    "# This is an example of a script to fix poorly formatted data based on repairing the ap-performance-2012-2022.xlsx dataset.\n",
    "\n",
    "Please note this assumes you know some excel and how to write excel formulae. This is also intended for data that excel autofill will not work.\n",
    "\n",
    "## Steps\n",
    "\n",
    "1. Pull data onto a fresh excel file\n",
    "2. Determine desired format, for example split by year\n",
    "3. Write a single line of the formula for the data you will need.\n",
    "4. Write a python script that autopopulates the formula for the entire spreadsheet.\n",
    "5. Copy-paste\n",
    "6. Use excel data formatting to add your deliminator.\n",
    "\n",
    "Done! Be sure to check for errors."
   ]
  },
  {
   "cell_type": "code",
   "execution_count": null,
   "metadata": {},
   "outputs": [],
   "source": [
    "for i in range(52): #state\n",
    "        # 1st row with desired data+i*(state spacing)\n",
    "        print(f'=Sheet1!$F{4+i*(64-4)} =Sheet1!$F{5+i*(64-4)} =Sheet1!$F{6+i*(64-4)} =Sheet1!$F{7+i*(64-4)} =Sheet1!$F{8+i*(64-4)} =Sheet1!$F{9+i*(64-4)} =Sheet1!$F{10+i*(64-4)}')"
   ]
  }
 ],
 "metadata": {
  "kernelspec": {
   "display_name": "erdos_fall_2024",
   "language": "python",
   "name": "python3"
  },
  "language_info": {
   "codemirror_mode": {
    "name": "ipython",
    "version": 3
   },
   "file_extension": ".py",
   "mimetype": "text/x-python",
   "name": "python",
   "nbconvert_exporter": "python",
   "pygments_lexer": "ipython3",
   "version": "3.12.5"
  }
 },
 "nbformat": 4,
 "nbformat_minor": 2
}
