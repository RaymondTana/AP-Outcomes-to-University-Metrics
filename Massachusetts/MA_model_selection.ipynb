{
 "cells": [
  {
   "cell_type": "markdown",
   "id": "53990867-a778-4cfe-9743-0bb8553a627d",
   "metadata": {},
   "source": [
    "# Model selection\n",
    "\n",
    "- In this notebook, I will use RandomForest, AdaBoost, and XGBoost for model training.\n",
    "- I will compare their RMSE values and decide the best model to work with.\n",
    "- The conclusion is that XGBoost performs the best in term of getting the smallest RMSE value."
   ]
  },
  {
   "cell_type": "code",
   "execution_count": 1,
   "id": "78e1e02e-0ba5-400d-8001-954acf33d8b2",
   "metadata": {},
   "outputs": [],
   "source": [
    "import numpy as np\n",
    "import pandas as pd\n",
    "\n",
    "from sklearn.ensemble import RandomForestRegressor, AdaBoostRegressor\n",
    "from xgboost import XGBRegressor\n",
    "\n",
    "from sklearn.model_selection import train_test_split, train_test_split, GridSearchCV\n",
    "from sklearn.metrics import root_mean_squared_error, mean_squared_error, make_scorer\n",
    "from sklearn.tree import DecisionTreeRegressor\n",
    "\n",
    "# load the MA data\n",
    "MA_AP_all_data = pd.read_csv('../data/Massachusetts/AP_data_combined_18_22.csv')\n",
    "\n",
    "# Drop unnecessary columns\n",
    "data_MA_inference = MA_AP_all_data.drop(columns=['COUNTY', 'District Code', 'Year', 'Tests Taken'])\n",
    "\n",
    "# Define outcome and features\n",
    "outcome = data_MA_inference.columns[0]       # Use the first column as the outcome\n",
    "features = data_MA_inference.columns[1:]     # All other columns are features\n",
    "\n",
    "X = data_MA_inference[features]\n",
    "y = data_MA_inference[outcome]\n",
    "\n",
    "# Split the data into train and test sets\n",
    "X_train, X_test, y_train, y_test = train_test_split(X, y, test_size=0.2, random_state=216)"
   ]
  },
  {
   "cell_type": "markdown",
   "id": "6b592422-f12f-4147-935b-337ca5e5c16e",
   "metadata": {},
   "source": [
    "# First, get the best RMSE from RandomForestRegressor"
   ]
  },
  {
   "cell_type": "code",
   "execution_count": 2,
   "id": "2aa2c551-c7aa-43ed-9ad1-c6d0ad7dd899",
   "metadata": {},
   "outputs": [
    {
     "name": "stdout",
     "output_type": "stream",
     "text": [
      "RandomForestRegressor\n",
      "Fitting 5 folds for each of 36 candidates, totalling 180 fits\n",
      "Best RMSE from Grid Search: 8.9723\n",
      "Best Parameters: {'max_depth': 10, 'max_features': 'sqrt', 'n_estimators': 500, 'random_state': 216}\n",
      "Test RMSE with Best Model: 7.9274\n"
     ]
    }
   ],
   "source": [
    "print('RandomForestRegressor')\n",
    "\n",
    "# Define the parameter grid to search\n",
    "param_grid = {\n",
    "    'n_estimators': [100, 500, 1000],\n",
    "    'max_depth': [4, 6, 8, 10],\n",
    "    'max_features': ['sqrt', 'log2', None],\n",
    "    'random_state': [216]\n",
    "}\n",
    "\n",
    "# Define a custom RMSE scoring function\n",
    "def rmse(y_true, y_pred):\n",
    "    return np.sqrt(mean_squared_error(y_true, y_pred))\n",
    "\n",
    "# Define the scoring function using the custom rmse function\n",
    "neg_rmse_scorer = make_scorer(\n",
    "    rmse, greater_is_better=False\n",
    ")\n",
    "\n",
    "# Initialize the RandomForestRegressor\n",
    "rf_model = RandomForestRegressor()\n",
    "\n",
    "# Initialize GridSearchCV\n",
    "grid_search = GridSearchCV(\n",
    "    estimator=rf_model,\n",
    "    param_grid=param_grid,\n",
    "    scoring=neg_rmse_scorer,\n",
    "    cv=5,\n",
    "    n_jobs=-1,\n",
    "    verbose=1\n",
    ")\n",
    "\n",
    "# Fit the GridSearchCV to find the best parameters\n",
    "grid_search.fit(X_train, y_train)\n",
    "\n",
    "# Get the best RMSE (note that it's negative due to the scoring function)\n",
    "best_neg_rmse = grid_search.best_score_\n",
    "best_rmse = -best_neg_rmse  # Convert to positive RMSE\n",
    "\n",
    "# Get the best parameters\n",
    "best_params = grid_search.best_params_\n",
    "\n",
    "print(f'Best RMSE from Grid Search: {best_rmse:.4f}')\n",
    "print(f'Best Parameters: {best_params}')\n",
    "\n",
    "# Train the model with the best parameters on the full training data\n",
    "best_rf_model = grid_search.best_estimator_\n",
    "\n",
    "# Predict on the test set\n",
    "y_pred = best_rf_model.predict(X_test)\n",
    "\n",
    "# Compute RMSE on the test set\n",
    "test_rmse = rmse(y_test, y_pred)\n",
    "print(f'Test RMSE with Best Model: {test_rmse:.4f}')"
   ]
  },
  {
   "cell_type": "markdown",
   "id": "0c523143-0e08-4418-9f14-6f9a89d34ab4",
   "metadata": {},
   "source": [
    "# Second, get the best RMSE from AdaBoostRegressor"
   ]
  },
  {
   "cell_type": "code",
   "execution_count": 3,
   "id": "13aecd89-1de6-4377-899f-85ee33805e5d",
   "metadata": {
    "scrolled": true
   },
   "outputs": [
    {
     "name": "stdout",
     "output_type": "stream",
     "text": [
      "AdaBoostRegressor\n",
      "Fitting 5 folds for each of 300 candidates, totalling 1500 fits\n"
     ]
    },
    {
     "name": "stderr",
     "output_type": "stream",
     "text": [
      "/Users/li.12638/miniconda3/envs/erdos_fall_2024/lib/python3.12/site-packages/numpy/ma/core.py:2846: RuntimeWarning: invalid value encountered in cast\n",
      "  _data = np.array(data, dtype=dtype, copy=copy,\n"
     ]
    },
    {
     "name": "stdout",
     "output_type": "stream",
     "text": [
      "Best RMSE from Grid Search: 9.7597\n",
      "Best Parameters: {'estimator__max_depth': 5, 'learning_rate': 0.05, 'loss': 'exponential', 'n_estimators': 500}\n",
      "Test RMSE with Best Model: 9.3285\n"
     ]
    }
   ],
   "source": [
    "print('AdaBoostRegressor')\n",
    "\n",
    "# Initialize the AdaBoostRegressor with a base estimator\n",
    "ada_model = AdaBoostRegressor(\n",
    "    estimator=DecisionTreeRegressor(),\n",
    "    random_state=216\n",
    ")\n",
    "\n",
    "# Define the parameter grid to search\n",
    "param_grid = {\n",
    "    'n_estimators': [50, 100, 200, 500],\n",
    "    'learning_rate': [0.01, 0.05, 0.1, 0.2, 1.0],\n",
    "    'loss': ['linear', 'square', 'exponential'],\n",
    "    'estimator__max_depth': [1, 2, 3, 4, 5]  # Use estimator__ to set parameters of the base estimator\n",
    "}\n",
    "\n",
    "# Initialize GridSearchCV with the built-in RMSE scorer\n",
    "grid_search = GridSearchCV(\n",
    "    estimator=ada_model,\n",
    "    param_grid=param_grid,\n",
    "    scoring='neg_root_mean_squared_error',\n",
    "    cv=5,\n",
    "    n_jobs=-1,\n",
    "    verbose=1\n",
    ")\n",
    "\n",
    "# Fit the GridSearchCV to find the best parameters\n",
    "grid_search.fit(X_train, y_train)\n",
    "\n",
    "# Get the best RMSE (note that it's negative due to the scoring function)\n",
    "best_neg_rmse = grid_search.best_score_\n",
    "best_rmse = -best_neg_rmse  # Convert to positive RMSE\n",
    "\n",
    "# Get the best parameters\n",
    "best_params = grid_search.best_params_\n",
    "\n",
    "print(f'Best RMSE from Grid Search: {best_rmse:.4f}')\n",
    "print(f'Best Parameters: {best_params}')\n",
    "\n",
    "# Train the model with the best parameters on the full training data\n",
    "best_ada_model = grid_search.best_estimator_\n",
    "\n",
    "# Predict on the test set\n",
    "y_pred = best_ada_model.predict(X_test)\n",
    "\n",
    "# Compute RMSE on the test set using root_mean_squared_error\n",
    "test_rmse = root_mean_squared_error(y_test, y_pred)\n",
    "print(f'Test RMSE with Best Model: {test_rmse:.4f}')"
   ]
  },
  {
   "cell_type": "markdown",
   "id": "91578f2f-4570-4982-879e-f1b75ded6330",
   "metadata": {},
   "source": [
    "# Third, get the best RMSE with XGBRegressor"
   ]
  },
  {
   "cell_type": "code",
   "execution_count": 4,
   "id": "ce0bff53-569e-4eff-9c58-0d428eb67582",
   "metadata": {},
   "outputs": [
    {
     "name": "stdout",
     "output_type": "stream",
     "text": [
      "Fitting 5 folds for each of 243 candidates, totalling 1215 fits\n"
     ]
    },
    {
     "name": "stderr",
     "output_type": "stream",
     "text": [
      "/Users/li.12638/miniconda3/envs/erdos_fall_2024/lib/python3.12/site-packages/numpy/ma/core.py:2846: RuntimeWarning: invalid value encountered in cast\n",
      "  _data = np.array(data, dtype=dtype, copy=copy,\n"
     ]
    },
    {
     "name": "stdout",
     "output_type": "stream",
     "text": [
      "Best RMSE from Grid Search: 8.9151\n",
      "Best Parameters: {'colsample_bytree': 0.6, 'learning_rate': 0.01, 'max_depth': 7, 'n_estimators': 500, 'random_state': 216, 'subsample': 0.6, 'tree_method': 'hist'}\n",
      "Test RMSE with Best Model: 7.8134\n"
     ]
    }
   ],
   "source": [
    "param_grid = {\n",
    "    'n_estimators': [100, 500, 1000],\n",
    "    'max_depth': [3, 5, 7],\n",
    "    'learning_rate': [0.01, 0.1, 0.2],\n",
    "    'subsample': [0.6, 0.8, 1.0],\n",
    "    'colsample_bytree': [0.6, 0.8, 1.0],\n",
    "    'random_state': [216],\n",
    "    'tree_method': ['hist']\n",
    "}\n",
    "\n",
    "# Initialize the XGBRegressor\n",
    "xgb_model = XGBRegressor()\n",
    "\n",
    "# Initialize GridSearchCV with the built-in RMSE scorer\n",
    "grid_search = GridSearchCV(\n",
    "    estimator=xgb_model,\n",
    "    param_grid=param_grid,\n",
    "    scoring='neg_root_mean_squared_error',\n",
    "    cv=5,\n",
    "    n_jobs=-1,\n",
    "    verbose=1\n",
    ")\n",
    "\n",
    "# Fit the GridSearchCV to find the best parameters\n",
    "grid_search.fit(X_train, y_train)\n",
    "\n",
    "# Get the best RMSE (note that it's negative due to the scoring function)\n",
    "best_neg_rmse = grid_search.best_score_\n",
    "best_rmse = -best_neg_rmse  # Convert to positive RMSE\n",
    "\n",
    "# Get the best parameters\n",
    "best_params = grid_search.best_params_\n",
    "\n",
    "print(f'Best RMSE from Grid Search: {best_rmse:.4f}')\n",
    "print(f'Best Parameters: {best_params}')\n",
    "\n",
    "# Train the model with the best parameters on the full training data\n",
    "best_xgb_model = grid_search.best_estimator_\n",
    "\n",
    "# Predict on the test set\n",
    "y_pred = best_xgb_model.predict(X_test)\n",
    "\n",
    "# Compute RMSE on the test set using root_mean_squared_error\n",
    "test_rmse = root_mean_squared_error(y_test, y_pred)\n",
    "print(f'Test RMSE with Best Model: {test_rmse:.4f}')"
   ]
  },
  {
   "cell_type": "code",
   "execution_count": null,
   "id": "879d9740-39e6-4d3b-b3ec-3e69c82b0169",
   "metadata": {},
   "outputs": [],
   "source": []
  },
  {
   "cell_type": "markdown",
   "id": "a413751e-4e34-4653-bdee-421cecba5298",
   "metadata": {},
   "source": [
    "- The RMSE values for the three models are:\n",
    "\n",
    "| Model               | RMSE          |\n",
    "| ------------------- | ------------- |\n",
    "| Adaboost model      | 9.329         |\n",
    "| Random Forest model | 7.927         |\n",
    "| XGBoost model       | 7.813         |\n",
    "\n",
    "\n",
    "As a result, we will be using XGBoost for the MA data analysis."
   ]
  },
  {
   "cell_type": "code",
   "execution_count": null,
   "id": "21acdb2f-3433-4e91-bd2f-92d8ca8ee110",
   "metadata": {},
   "outputs": [],
   "source": []
  },
  {
   "cell_type": "code",
   "execution_count": null,
   "id": "aa6a4833-26ae-4341-9479-d95b20e255af",
   "metadata": {},
   "outputs": [],
   "source": []
  }
 ],
 "metadata": {
  "kernelspec": {
   "display_name": "Python 3 (ipykernel)",
   "language": "python",
   "name": "python3"
  },
  "language_info": {
   "codemirror_mode": {
    "name": "ipython",
    "version": 3
   },
   "file_extension": ".py",
   "mimetype": "text/x-python",
   "name": "python",
   "nbconvert_exporter": "python",
   "pygments_lexer": "ipython3",
   "version": "3.12.5"
  }
 },
 "nbformat": 4,
 "nbformat_minor": 5
}
