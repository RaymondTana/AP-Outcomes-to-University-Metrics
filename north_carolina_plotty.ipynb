{
 "cells": [
  {
   "cell_type": "code",
   "execution_count": 2,
   "id": "97ad95fb-db95-4b7d-beea-6f0476642f9f",
   "metadata": {},
   "outputs": [],
   "source": [
    "import pandas as pd\n",
    "import numpy as np\n",
    "import plotly.express as px\n",
    "import plotly.graph_objects as go\n",
    "import pickle"
   ]
  },
  {
   "cell_type": "code",
   "execution_count": null,
   "id": "d2bf7075",
   "metadata": {},
   "outputs": [],
   "source": []
  },
  {
   "cell_type": "code",
   "execution_count": 3,
   "id": "952c574b-41f5-4233-852c-38edcdb4e446",
   "metadata": {},
   "outputs": [],
   "source": [
    "northcarolina_districts = pd.read_csv('data/North_Carolina/northcarolina_district.csv')"
   ]
  },
  {
   "cell_type": "code",
   "execution_count": 4,
   "id": "786ab970-c671-48d1-8dee-c667f59b84f4",
   "metadata": {},
   "outputs": [
    {
     "data": {
      "text/html": [
       "<div>\n",
       "<style scoped>\n",
       "    .dataframe tbody tr th:only-of-type {\n",
       "        vertical-align: middle;\n",
       "    }\n",
       "\n",
       "    .dataframe tbody tr th {\n",
       "        vertical-align: top;\n",
       "    }\n",
       "\n",
       "    .dataframe thead th {\n",
       "        text-align: right;\n",
       "    }\n",
       "</style>\n",
       "<table border=\"1\" class=\"dataframe\">\n",
       "  <thead>\n",
       "    <tr style=\"text-align: right;\">\n",
       "      <th></th>\n",
       "      <th>Unnamed: 0</th>\n",
       "      <th>County</th>\n",
       "      <th>EXAM_COUNT</th>\n",
       "      <th>EXAMS_3_OR_ABOVE</th>\n",
       "      <th>PERCENT_3_OR_ABOVE</th>\n",
       "      <th>Year</th>\n",
       "      <th>lat</th>\n",
       "      <th>lng</th>\n",
       "    </tr>\n",
       "  </thead>\n",
       "  <tbody>\n",
       "    <tr>\n",
       "      <th>0</th>\n",
       "      <td>0</td>\n",
       "      <td>Alamance-Burlington</td>\n",
       "      <td>993.0</td>\n",
       "      <td>440</td>\n",
       "      <td>44.3101712</td>\n",
       "      <td>2018</td>\n",
       "      <td>NaN</td>\n",
       "      <td>NaN</td>\n",
       "    </tr>\n",
       "    <tr>\n",
       "      <th>1</th>\n",
       "      <td>1</td>\n",
       "      <td>Alexander</td>\n",
       "      <td>171.0</td>\n",
       "      <td>87</td>\n",
       "      <td>50.877193</td>\n",
       "      <td>2018</td>\n",
       "      <td>35.9210</td>\n",
       "      <td>-81.1770</td>\n",
       "    </tr>\n",
       "    <tr>\n",
       "      <th>2</th>\n",
       "      <td>2</td>\n",
       "      <td>Alleghany</td>\n",
       "      <td>2.0</td>\n",
       "      <td>*</td>\n",
       "      <td>*</td>\n",
       "      <td>2018</td>\n",
       "      <td>36.4916</td>\n",
       "      <td>-81.1270</td>\n",
       "    </tr>\n",
       "    <tr>\n",
       "      <th>3</th>\n",
       "      <td>3</td>\n",
       "      <td>Anson</td>\n",
       "      <td>19.0</td>\n",
       "      <td>6</td>\n",
       "      <td>31.5789474</td>\n",
       "      <td>2018</td>\n",
       "      <td>34.9738</td>\n",
       "      <td>-80.1027</td>\n",
       "    </tr>\n",
       "    <tr>\n",
       "      <th>4</th>\n",
       "      <td>4</td>\n",
       "      <td>Ashe</td>\n",
       "      <td>97.0</td>\n",
       "      <td>53</td>\n",
       "      <td>54.6391753</td>\n",
       "      <td>2018</td>\n",
       "      <td>36.4341</td>\n",
       "      <td>-81.5004</td>\n",
       "    </tr>\n",
       "    <tr>\n",
       "      <th>...</th>\n",
       "      <td>...</td>\n",
       "      <td>...</td>\n",
       "      <td>...</td>\n",
       "      <td>...</td>\n",
       "      <td>...</td>\n",
       "      <td>...</td>\n",
       "      <td>...</td>\n",
       "      <td>...</td>\n",
       "    </tr>\n",
       "    <tr>\n",
       "      <th>283</th>\n",
       "      <td>283</td>\n",
       "      <td>Wayne</td>\n",
       "      <td>239.0</td>\n",
       "      <td>79</td>\n",
       "      <td>33.054393305</td>\n",
       "      <td>2020</td>\n",
       "      <td>35.3640</td>\n",
       "      <td>-78.0040</td>\n",
       "    </tr>\n",
       "    <tr>\n",
       "      <th>284</th>\n",
       "      <td>284</td>\n",
       "      <td>Wilkes</td>\n",
       "      <td>195.0</td>\n",
       "      <td>97</td>\n",
       "      <td>49.743589744</td>\n",
       "      <td>2020</td>\n",
       "      <td>36.2062</td>\n",
       "      <td>-81.1630</td>\n",
       "    </tr>\n",
       "    <tr>\n",
       "      <th>285</th>\n",
       "      <td>285</td>\n",
       "      <td>Wilson</td>\n",
       "      <td>255.0</td>\n",
       "      <td>136</td>\n",
       "      <td>53.333333333</td>\n",
       "      <td>2020</td>\n",
       "      <td>35.7051</td>\n",
       "      <td>-77.9187</td>\n",
       "    </tr>\n",
       "    <tr>\n",
       "      <th>286</th>\n",
       "      <td>286</td>\n",
       "      <td>Yadkin</td>\n",
       "      <td>99.0</td>\n",
       "      <td>42</td>\n",
       "      <td>42.424242424</td>\n",
       "      <td>2020</td>\n",
       "      <td>36.1605</td>\n",
       "      <td>-80.6652</td>\n",
       "    </tr>\n",
       "    <tr>\n",
       "      <th>287</th>\n",
       "      <td>287</td>\n",
       "      <td>Yancey</td>\n",
       "      <td>32.0</td>\n",
       "      <td>23</td>\n",
       "      <td>71.875</td>\n",
       "      <td>2020</td>\n",
       "      <td>35.8989</td>\n",
       "      <td>-82.3076</td>\n",
       "    </tr>\n",
       "  </tbody>\n",
       "</table>\n",
       "<p>288 rows × 8 columns</p>\n",
       "</div>"
      ],
      "text/plain": [
       "     Unnamed: 0               County  EXAM_COUNT EXAMS_3_OR_ABOVE  \\\n",
       "0             0  Alamance-Burlington       993.0              440   \n",
       "1             1            Alexander       171.0               87   \n",
       "2             2            Alleghany         2.0                *   \n",
       "3             3                Anson        19.0                6   \n",
       "4             4                 Ashe        97.0               53   \n",
       "..          ...                  ...         ...              ...   \n",
       "283         283                Wayne       239.0               79   \n",
       "284         284               Wilkes       195.0               97   \n",
       "285         285               Wilson       255.0              136   \n",
       "286         286               Yadkin        99.0               42   \n",
       "287         287               Yancey        32.0               23   \n",
       "\n",
       "    PERCENT_3_OR_ABOVE  Year      lat      lng  \n",
       "0           44.3101712  2018      NaN      NaN  \n",
       "1            50.877193  2018  35.9210 -81.1770  \n",
       "2                    *  2018  36.4916 -81.1270  \n",
       "3           31.5789474  2018  34.9738 -80.1027  \n",
       "4           54.6391753  2018  36.4341 -81.5004  \n",
       "..                 ...   ...      ...      ...  \n",
       "283       33.054393305  2020  35.3640 -78.0040  \n",
       "284       49.743589744  2020  36.2062 -81.1630  \n",
       "285       53.333333333  2020  35.7051 -77.9187  \n",
       "286       42.424242424  2020  36.1605 -80.6652  \n",
       "287             71.875  2020  35.8989 -82.3076  \n",
       "\n",
       "[288 rows x 8 columns]"
      ]
     },
     "execution_count": 4,
     "metadata": {},
     "output_type": "execute_result"
    }
   ],
   "source": [
    "northcarolina_districts"
   ]
  },
  {
   "cell_type": "code",
   "execution_count": 5,
   "id": "03fc49de-64e0-4b5a-a0e9-e2ee11d48b36",
   "metadata": {},
   "outputs": [],
   "source": [
    "northcarolina_districts18 = northcarolina_districts[northcarolina_districts['Year'] == 2018]"
   ]
  },
  {
   "cell_type": "code",
   "execution_count": 6,
   "id": "8ddc7a92-9356-43b8-8bf8-8284918b2c30",
   "metadata": {},
   "outputs": [
    {
     "data": {
      "text/html": [
       "<div>\n",
       "<style scoped>\n",
       "    .dataframe tbody tr th:only-of-type {\n",
       "        vertical-align: middle;\n",
       "    }\n",
       "\n",
       "    .dataframe tbody tr th {\n",
       "        vertical-align: top;\n",
       "    }\n",
       "\n",
       "    .dataframe thead th {\n",
       "        text-align: right;\n",
       "    }\n",
       "</style>\n",
       "<table border=\"1\" class=\"dataframe\">\n",
       "  <thead>\n",
       "    <tr style=\"text-align: right;\">\n",
       "      <th></th>\n",
       "      <th>Unnamed: 0</th>\n",
       "      <th>County</th>\n",
       "      <th>EXAM_COUNT</th>\n",
       "      <th>EXAMS_3_OR_ABOVE</th>\n",
       "      <th>PERCENT_3_OR_ABOVE</th>\n",
       "      <th>Year</th>\n",
       "      <th>lat</th>\n",
       "      <th>lng</th>\n",
       "    </tr>\n",
       "  </thead>\n",
       "  <tbody>\n",
       "    <tr>\n",
       "      <th>0</th>\n",
       "      <td>0</td>\n",
       "      <td>Alamance-Burlington</td>\n",
       "      <td>993.0</td>\n",
       "      <td>440</td>\n",
       "      <td>44.3101712</td>\n",
       "      <td>2018</td>\n",
       "      <td>NaN</td>\n",
       "      <td>NaN</td>\n",
       "    </tr>\n",
       "    <tr>\n",
       "      <th>1</th>\n",
       "      <td>1</td>\n",
       "      <td>Alexander</td>\n",
       "      <td>171.0</td>\n",
       "      <td>87</td>\n",
       "      <td>50.877193</td>\n",
       "      <td>2018</td>\n",
       "      <td>35.9210</td>\n",
       "      <td>-81.1770</td>\n",
       "    </tr>\n",
       "    <tr>\n",
       "      <th>2</th>\n",
       "      <td>2</td>\n",
       "      <td>Alleghany</td>\n",
       "      <td>2.0</td>\n",
       "      <td>*</td>\n",
       "      <td>*</td>\n",
       "      <td>2018</td>\n",
       "      <td>36.4916</td>\n",
       "      <td>-81.1270</td>\n",
       "    </tr>\n",
       "    <tr>\n",
       "      <th>3</th>\n",
       "      <td>3</td>\n",
       "      <td>Anson</td>\n",
       "      <td>19.0</td>\n",
       "      <td>6</td>\n",
       "      <td>31.5789474</td>\n",
       "      <td>2018</td>\n",
       "      <td>34.9738</td>\n",
       "      <td>-80.1027</td>\n",
       "    </tr>\n",
       "    <tr>\n",
       "      <th>4</th>\n",
       "      <td>4</td>\n",
       "      <td>Ashe</td>\n",
       "      <td>97.0</td>\n",
       "      <td>53</td>\n",
       "      <td>54.6391753</td>\n",
       "      <td>2018</td>\n",
       "      <td>36.4341</td>\n",
       "      <td>-81.5004</td>\n",
       "    </tr>\n",
       "    <tr>\n",
       "      <th>...</th>\n",
       "      <td>...</td>\n",
       "      <td>...</td>\n",
       "      <td>...</td>\n",
       "      <td>...</td>\n",
       "      <td>...</td>\n",
       "      <td>...</td>\n",
       "      <td>...</td>\n",
       "      <td>...</td>\n",
       "    </tr>\n",
       "    <tr>\n",
       "      <th>91</th>\n",
       "      <td>91</td>\n",
       "      <td>Wayne</td>\n",
       "      <td>296.0</td>\n",
       "      <td>123</td>\n",
       "      <td>41.5540541</td>\n",
       "      <td>2018</td>\n",
       "      <td>35.3640</td>\n",
       "      <td>-78.0040</td>\n",
       "    </tr>\n",
       "    <tr>\n",
       "      <th>92</th>\n",
       "      <td>92</td>\n",
       "      <td>Wilkes</td>\n",
       "      <td>268.0</td>\n",
       "      <td>133</td>\n",
       "      <td>49.6268657</td>\n",
       "      <td>2018</td>\n",
       "      <td>36.2062</td>\n",
       "      <td>-81.1630</td>\n",
       "    </tr>\n",
       "    <tr>\n",
       "      <th>93</th>\n",
       "      <td>93</td>\n",
       "      <td>Wilson</td>\n",
       "      <td>331.0</td>\n",
       "      <td>169</td>\n",
       "      <td>51.0574018</td>\n",
       "      <td>2018</td>\n",
       "      <td>35.7051</td>\n",
       "      <td>-77.9187</td>\n",
       "    </tr>\n",
       "    <tr>\n",
       "      <th>94</th>\n",
       "      <td>94</td>\n",
       "      <td>Yadkin</td>\n",
       "      <td>85.0</td>\n",
       "      <td>33</td>\n",
       "      <td>38.8235294</td>\n",
       "      <td>2018</td>\n",
       "      <td>36.1605</td>\n",
       "      <td>-80.6652</td>\n",
       "    </tr>\n",
       "    <tr>\n",
       "      <th>95</th>\n",
       "      <td>95</td>\n",
       "      <td>Yancey</td>\n",
       "      <td>56.0</td>\n",
       "      <td>42</td>\n",
       "      <td>75</td>\n",
       "      <td>2018</td>\n",
       "      <td>35.8989</td>\n",
       "      <td>-82.3076</td>\n",
       "    </tr>\n",
       "  </tbody>\n",
       "</table>\n",
       "<p>96 rows × 8 columns</p>\n",
       "</div>"
      ],
      "text/plain": [
       "    Unnamed: 0               County  EXAM_COUNT EXAMS_3_OR_ABOVE  \\\n",
       "0            0  Alamance-Burlington       993.0              440   \n",
       "1            1            Alexander       171.0               87   \n",
       "2            2            Alleghany         2.0                *   \n",
       "3            3                Anson        19.0                6   \n",
       "4            4                 Ashe        97.0               53   \n",
       "..         ...                  ...         ...              ...   \n",
       "91          91                Wayne       296.0              123   \n",
       "92          92               Wilkes       268.0              133   \n",
       "93          93               Wilson       331.0              169   \n",
       "94          94               Yadkin        85.0               33   \n",
       "95          95               Yancey        56.0               42   \n",
       "\n",
       "   PERCENT_3_OR_ABOVE  Year      lat      lng  \n",
       "0          44.3101712  2018      NaN      NaN  \n",
       "1           50.877193  2018  35.9210 -81.1770  \n",
       "2                   *  2018  36.4916 -81.1270  \n",
       "3          31.5789474  2018  34.9738 -80.1027  \n",
       "4          54.6391753  2018  36.4341 -81.5004  \n",
       "..                ...   ...      ...      ...  \n",
       "91         41.5540541  2018  35.3640 -78.0040  \n",
       "92         49.6268657  2018  36.2062 -81.1630  \n",
       "93         51.0574018  2018  35.7051 -77.9187  \n",
       "94         38.8235294  2018  36.1605 -80.6652  \n",
       "95                 75  2018  35.8989 -82.3076  \n",
       "\n",
       "[96 rows x 8 columns]"
      ]
     },
     "execution_count": 6,
     "metadata": {},
     "output_type": "execute_result"
    }
   ],
   "source": [
    "northcarolina_districts18"
   ]
  },
  {
   "cell_type": "code",
   "execution_count": 23,
   "id": "3f36f625-020a-4d91-934e-3ad685c03a83",
   "metadata": {},
   "outputs": [
    {
     "data": {
      "application/vnd.plotly.v1+json": {
       "config": {
        "plotlyServerURL": "https://plot.ly"
       },
       "data": [
        {
         "coloraxis": "coloraxis",
         "hovertemplate": "PERCENT_3_OR_ABOVE=%{z}<br>lat=%{lat}<br>lng=%{lon}<extra></extra>",
         "lat": [
          null,
          35.921,
          36.4916,
          34.9738,
          36.4341,
          36.0765,
          35.494,
          36.0663,
          34.6146,
          34.0715,
          35.6112,
          35.7496,
          35.3868,
          35.953,
          36.3891,
          34.8357,
          36.3932,
          35.662,
          35.7026,
          35.1339,
          35.0572,
          35.3341,
          34.2657,
          35.1249,
          35.0487,
          36.405,
          35.7824,
          35.7933,
          35.9291,
          34.9365,
          36.036,
          35.9129,
          36.1306,
          36.0828,
          35.2944,
          36.4449,
          35.3502,
          36.304,
          35.485,
          36.0795,
          36.2574,
          36.2574,
          35.3689,
          35.556,
          35.3363,
          36.3591,
          35.0175,
          35.5306,
          35.2876,
          35.5178,
          35.0217,
          35.4752,
          35.2388,
          35.4856,
          35.1505,
          35.858,
          35.8432,
          null,
          35.2467,
          36.0133,
          35.3325,
          35.3106,
          34.2329,
          36.4178,
          34.7322,
          36.0611,
          35.1434,
          36.2955,
          34.5249,
          36.2059,
          36.39,
          35.5933,
          35.2793,
          35.7103,
          35.0059,
          34.6402,
          36.396,
          35.4026,
          34.9916,
          34.8409,
          35.3119,
          36.4019,
          36.4146,
          35.4868,
          35.2021,
          34.9884,
          36.3649,
          35.7903,
          36.3965,
          35.8225,
          36.2311,
          35.364,
          36.2062,
          35.7051,
          36.1605,
          35.8989
         ],
         "lon": [
          null,
          -81.177,
          -81.127,
          -80.1027,
          -81.5004,
          -81.9226,
          -76.8598,
          -76.9788,
          -78.5637,
          -78.2383,
          -82.5301,
          -81.7048,
          -80.5519,
          -81.5464,
          -76.208,
          -76.6589,
          -79.3335,
          -81.2151,
          -79.2554,
          -84.0635,
          -83.7502,
          -81.5555,
          -78.655,
          -77.0939,
          -78.8277,
          -76.0079,
          -75.7988,
          -80.2128,
          -80.5445,
          -77.933,
          -78.8766,
          -77.5971,
          -80.2563,
          -78.2857,
          -81.1803,
          -76.7005,
          -83.8335,
          -78.6527,
          -77.6758,
          -79.7889,
          -77.6517,
          -77.6517,
          -78.8693,
          -82.9822,
          -82.48,
          -76.982,
          -79.2373,
          -76.2517,
          -83.1408,
          -78.3657,
          -77.3552,
          -79.1715,
          -77.6413,
          -81.2235,
          -83.4222,
          -82.7058,
          -77.1092,
          null,
          -80.8328,
          -82.1636,
          -79.9055,
          -79.4814,
          -77.8848,
          -77.3969,
          -77.4322,
          -79.1207,
          -76.7407,
          -76.2843,
          -77.9052,
          -76.4411,
          -78.9718,
          -77.3745,
          -82.1697,
          -79.806,
          -79.7479,
          -79.1039,
          -79.775,
          -81.9198,
          -78.3714,
          -79.4804,
          -80.251,
          -80.2397,
          -80.688,
          -83.4928,
          -82.7982,
          -80.5307,
          -78.4079,
          -78.6503,
          -78.1067,
          -76.5775,
          -81.6964,
          -78.004,
          -81.163,
          -77.9187,
          -80.6652,
          -82.3076
         ],
         "name": "",
         "radius": 10,
         "subplot": "mapbox",
         "type": "densitymapbox",
         "z": [
          "44.3101712",
          "50.877193",
          "*",
          "31.5789474",
          "54.6391753",
          "47.0588235",
          "30.4635762",
          "*",
          "21.1267606",
          "58.3979328",
          "55",
          "50.0948767",
          "60.1180891",
          "42.4437299",
          "62.5",
          "80.6779661",
          "28.4090909",
          "42.8571429",
          "51.9191919",
          "23.255814",
          "25",
          "45.7746479",
          "30.7692308",
          "30",
          "35.7063404",
          "42.3423423",
          "51.4634146",
          "61.3333333",
          "52.9569892",
          "35.7142857",
          "52.8607595",
          "17.0454545",
          "64.7241166",
          "38.4615385",
          "39.3122677",
          "14.2857143",
          "25.9259259",
          "17.6724138",
          "34.4827586",
          "56.2478662",
          null,
          "13.3333333",
          "45.4545455",
          "48.6238532",
          "60",
          "*",
          "13.8790036",
          "*",
          "76.119403",
          "57.832618",
          "*",
          "35.15625",
          "22.4",
          "46.9512195",
          "64.1666667",
          "14.2857143",
          "*",
          "29.2993631",
          "60.4153217",
          "69.5652174",
          "43.5897436",
          "60.5405405",
          "56.0142349",
          "*",
          "33.3333333",
          "68.9277899",
          "38.4615385",
          "30.7692308",
          "51.4905149",
          "53.125",
          "40.1162791",
          "46.0451977",
          "66.6666667",
          "36.93086",
          "32.5301205",
          "17.603912",
          "33.1877729",
          "33.7037037",
          "43.373494",
          "25",
          "52",
          "40.1515152",
          "49.5145631",
          "55.7377049",
          "65.4411765",
          "67.7770224",
          "6.1728395",
          "66.0552503",
          "*",
          null,
          "70.1492537",
          "41.5540541",
          "49.6268657",
          "51.0574018",
          "38.8235294",
          "75"
         ]
        }
       ],
       "layout": {
        "coloraxis": {
         "colorbar": {
          "title": {
           "text": "PERCENT_3_OR_ABOVE"
          }
         },
         "colorscale": [
          [
           0,
           "#0d0887"
          ],
          [
           0.1111111111111111,
           "#46039f"
          ],
          [
           0.2222222222222222,
           "#7201a8"
          ],
          [
           0.3333333333333333,
           "#9c179e"
          ],
          [
           0.4444444444444444,
           "#bd3786"
          ],
          [
           0.5555555555555556,
           "#d8576b"
          ],
          [
           0.6666666666666666,
           "#ed7953"
          ],
          [
           0.7777777777777778,
           "#fb9f3a"
          ],
          [
           0.8888888888888888,
           "#fdca26"
          ],
          [
           1,
           "#f0f921"
          ]
         ]
        },
        "legend": {
         "tracegroupgap": 0
        },
        "mapbox": {
         "center": {
          "lat": 35.8,
          "lon": -80
         },
         "domain": {
          "x": [
           0,
           1
          ],
          "y": [
           0,
           1
          ]
         },
         "style": "open-street-map",
         "zoom": 4.8
        },
        "margin": {
         "t": 60
        },
        "template": {
         "data": {
          "bar": [
           {
            "error_x": {
             "color": "#2a3f5f"
            },
            "error_y": {
             "color": "#2a3f5f"
            },
            "marker": {
             "line": {
              "color": "#E5ECF6",
              "width": 0.5
             },
             "pattern": {
              "fillmode": "overlay",
              "size": 10,
              "solidity": 0.2
             }
            },
            "type": "bar"
           }
          ],
          "barpolar": [
           {
            "marker": {
             "line": {
              "color": "#E5ECF6",
              "width": 0.5
             },
             "pattern": {
              "fillmode": "overlay",
              "size": 10,
              "solidity": 0.2
             }
            },
            "type": "barpolar"
           }
          ],
          "carpet": [
           {
            "aaxis": {
             "endlinecolor": "#2a3f5f",
             "gridcolor": "white",
             "linecolor": "white",
             "minorgridcolor": "white",
             "startlinecolor": "#2a3f5f"
            },
            "baxis": {
             "endlinecolor": "#2a3f5f",
             "gridcolor": "white",
             "linecolor": "white",
             "minorgridcolor": "white",
             "startlinecolor": "#2a3f5f"
            },
            "type": "carpet"
           }
          ],
          "choropleth": [
           {
            "colorbar": {
             "outlinewidth": 0,
             "ticks": ""
            },
            "type": "choropleth"
           }
          ],
          "contour": [
           {
            "colorbar": {
             "outlinewidth": 0,
             "ticks": ""
            },
            "colorscale": [
             [
              0,
              "#0d0887"
             ],
             [
              0.1111111111111111,
              "#46039f"
             ],
             [
              0.2222222222222222,
              "#7201a8"
             ],
             [
              0.3333333333333333,
              "#9c179e"
             ],
             [
              0.4444444444444444,
              "#bd3786"
             ],
             [
              0.5555555555555556,
              "#d8576b"
             ],
             [
              0.6666666666666666,
              "#ed7953"
             ],
             [
              0.7777777777777778,
              "#fb9f3a"
             ],
             [
              0.8888888888888888,
              "#fdca26"
             ],
             [
              1,
              "#f0f921"
             ]
            ],
            "type": "contour"
           }
          ],
          "contourcarpet": [
           {
            "colorbar": {
             "outlinewidth": 0,
             "ticks": ""
            },
            "type": "contourcarpet"
           }
          ],
          "heatmap": [
           {
            "colorbar": {
             "outlinewidth": 0,
             "ticks": ""
            },
            "colorscale": [
             [
              0,
              "#0d0887"
             ],
             [
              0.1111111111111111,
              "#46039f"
             ],
             [
              0.2222222222222222,
              "#7201a8"
             ],
             [
              0.3333333333333333,
              "#9c179e"
             ],
             [
              0.4444444444444444,
              "#bd3786"
             ],
             [
              0.5555555555555556,
              "#d8576b"
             ],
             [
              0.6666666666666666,
              "#ed7953"
             ],
             [
              0.7777777777777778,
              "#fb9f3a"
             ],
             [
              0.8888888888888888,
              "#fdca26"
             ],
             [
              1,
              "#f0f921"
             ]
            ],
            "type": "heatmap"
           }
          ],
          "heatmapgl": [
           {
            "colorbar": {
             "outlinewidth": 0,
             "ticks": ""
            },
            "colorscale": [
             [
              0,
              "#0d0887"
             ],
             [
              0.1111111111111111,
              "#46039f"
             ],
             [
              0.2222222222222222,
              "#7201a8"
             ],
             [
              0.3333333333333333,
              "#9c179e"
             ],
             [
              0.4444444444444444,
              "#bd3786"
             ],
             [
              0.5555555555555556,
              "#d8576b"
             ],
             [
              0.6666666666666666,
              "#ed7953"
             ],
             [
              0.7777777777777778,
              "#fb9f3a"
             ],
             [
              0.8888888888888888,
              "#fdca26"
             ],
             [
              1,
              "#f0f921"
             ]
            ],
            "type": "heatmapgl"
           }
          ],
          "histogram": [
           {
            "marker": {
             "pattern": {
              "fillmode": "overlay",
              "size": 10,
              "solidity": 0.2
             }
            },
            "type": "histogram"
           }
          ],
          "histogram2d": [
           {
            "colorbar": {
             "outlinewidth": 0,
             "ticks": ""
            },
            "colorscale": [
             [
              0,
              "#0d0887"
             ],
             [
              0.1111111111111111,
              "#46039f"
             ],
             [
              0.2222222222222222,
              "#7201a8"
             ],
             [
              0.3333333333333333,
              "#9c179e"
             ],
             [
              0.4444444444444444,
              "#bd3786"
             ],
             [
              0.5555555555555556,
              "#d8576b"
             ],
             [
              0.6666666666666666,
              "#ed7953"
             ],
             [
              0.7777777777777778,
              "#fb9f3a"
             ],
             [
              0.8888888888888888,
              "#fdca26"
             ],
             [
              1,
              "#f0f921"
             ]
            ],
            "type": "histogram2d"
           }
          ],
          "histogram2dcontour": [
           {
            "colorbar": {
             "outlinewidth": 0,
             "ticks": ""
            },
            "colorscale": [
             [
              0,
              "#0d0887"
             ],
             [
              0.1111111111111111,
              "#46039f"
             ],
             [
              0.2222222222222222,
              "#7201a8"
             ],
             [
              0.3333333333333333,
              "#9c179e"
             ],
             [
              0.4444444444444444,
              "#bd3786"
             ],
             [
              0.5555555555555556,
              "#d8576b"
             ],
             [
              0.6666666666666666,
              "#ed7953"
             ],
             [
              0.7777777777777778,
              "#fb9f3a"
             ],
             [
              0.8888888888888888,
              "#fdca26"
             ],
             [
              1,
              "#f0f921"
             ]
            ],
            "type": "histogram2dcontour"
           }
          ],
          "mesh3d": [
           {
            "colorbar": {
             "outlinewidth": 0,
             "ticks": ""
            },
            "type": "mesh3d"
           }
          ],
          "parcoords": [
           {
            "line": {
             "colorbar": {
              "outlinewidth": 0,
              "ticks": ""
             }
            },
            "type": "parcoords"
           }
          ],
          "pie": [
           {
            "automargin": true,
            "type": "pie"
           }
          ],
          "scatter": [
           {
            "fillpattern": {
             "fillmode": "overlay",
             "size": 10,
             "solidity": 0.2
            },
            "type": "scatter"
           }
          ],
          "scatter3d": [
           {
            "line": {
             "colorbar": {
              "outlinewidth": 0,
              "ticks": ""
             }
            },
            "marker": {
             "colorbar": {
              "outlinewidth": 0,
              "ticks": ""
             }
            },
            "type": "scatter3d"
           }
          ],
          "scattercarpet": [
           {
            "marker": {
             "colorbar": {
              "outlinewidth": 0,
              "ticks": ""
             }
            },
            "type": "scattercarpet"
           }
          ],
          "scattergeo": [
           {
            "marker": {
             "colorbar": {
              "outlinewidth": 0,
              "ticks": ""
             }
            },
            "type": "scattergeo"
           }
          ],
          "scattergl": [
           {
            "marker": {
             "colorbar": {
              "outlinewidth": 0,
              "ticks": ""
             }
            },
            "type": "scattergl"
           }
          ],
          "scattermapbox": [
           {
            "marker": {
             "colorbar": {
              "outlinewidth": 0,
              "ticks": ""
             }
            },
            "type": "scattermapbox"
           }
          ],
          "scatterpolar": [
           {
            "marker": {
             "colorbar": {
              "outlinewidth": 0,
              "ticks": ""
             }
            },
            "type": "scatterpolar"
           }
          ],
          "scatterpolargl": [
           {
            "marker": {
             "colorbar": {
              "outlinewidth": 0,
              "ticks": ""
             }
            },
            "type": "scatterpolargl"
           }
          ],
          "scatterternary": [
           {
            "marker": {
             "colorbar": {
              "outlinewidth": 0,
              "ticks": ""
             }
            },
            "type": "scatterternary"
           }
          ],
          "surface": [
           {
            "colorbar": {
             "outlinewidth": 0,
             "ticks": ""
            },
            "colorscale": [
             [
              0,
              "#0d0887"
             ],
             [
              0.1111111111111111,
              "#46039f"
             ],
             [
              0.2222222222222222,
              "#7201a8"
             ],
             [
              0.3333333333333333,
              "#9c179e"
             ],
             [
              0.4444444444444444,
              "#bd3786"
             ],
             [
              0.5555555555555556,
              "#d8576b"
             ],
             [
              0.6666666666666666,
              "#ed7953"
             ],
             [
              0.7777777777777778,
              "#fb9f3a"
             ],
             [
              0.8888888888888888,
              "#fdca26"
             ],
             [
              1,
              "#f0f921"
             ]
            ],
            "type": "surface"
           }
          ],
          "table": [
           {
            "cells": {
             "fill": {
              "color": "#EBF0F8"
             },
             "line": {
              "color": "white"
             }
            },
            "header": {
             "fill": {
              "color": "#C8D4E3"
             },
             "line": {
              "color": "white"
             }
            },
            "type": "table"
           }
          ]
         },
         "layout": {
          "annotationdefaults": {
           "arrowcolor": "#2a3f5f",
           "arrowhead": 0,
           "arrowwidth": 1
          },
          "autotypenumbers": "strict",
          "coloraxis": {
           "colorbar": {
            "outlinewidth": 0,
            "ticks": ""
           }
          },
          "colorscale": {
           "diverging": [
            [
             0,
             "#8e0152"
            ],
            [
             0.1,
             "#c51b7d"
            ],
            [
             0.2,
             "#de77ae"
            ],
            [
             0.3,
             "#f1b6da"
            ],
            [
             0.4,
             "#fde0ef"
            ],
            [
             0.5,
             "#f7f7f7"
            ],
            [
             0.6,
             "#e6f5d0"
            ],
            [
             0.7,
             "#b8e186"
            ],
            [
             0.8,
             "#7fbc41"
            ],
            [
             0.9,
             "#4d9221"
            ],
            [
             1,
             "#276419"
            ]
           ],
           "sequential": [
            [
             0,
             "#0d0887"
            ],
            [
             0.1111111111111111,
             "#46039f"
            ],
            [
             0.2222222222222222,
             "#7201a8"
            ],
            [
             0.3333333333333333,
             "#9c179e"
            ],
            [
             0.4444444444444444,
             "#bd3786"
            ],
            [
             0.5555555555555556,
             "#d8576b"
            ],
            [
             0.6666666666666666,
             "#ed7953"
            ],
            [
             0.7777777777777778,
             "#fb9f3a"
            ],
            [
             0.8888888888888888,
             "#fdca26"
            ],
            [
             1,
             "#f0f921"
            ]
           ],
           "sequentialminus": [
            [
             0,
             "#0d0887"
            ],
            [
             0.1111111111111111,
             "#46039f"
            ],
            [
             0.2222222222222222,
             "#7201a8"
            ],
            [
             0.3333333333333333,
             "#9c179e"
            ],
            [
             0.4444444444444444,
             "#bd3786"
            ],
            [
             0.5555555555555556,
             "#d8576b"
            ],
            [
             0.6666666666666666,
             "#ed7953"
            ],
            [
             0.7777777777777778,
             "#fb9f3a"
            ],
            [
             0.8888888888888888,
             "#fdca26"
            ],
            [
             1,
             "#f0f921"
            ]
           ]
          },
          "colorway": [
           "#636efa",
           "#EF553B",
           "#00cc96",
           "#ab63fa",
           "#FFA15A",
           "#19d3f3",
           "#FF6692",
           "#B6E880",
           "#FF97FF",
           "#FECB52"
          ],
          "font": {
           "color": "#2a3f5f"
          },
          "geo": {
           "bgcolor": "white",
           "lakecolor": "white",
           "landcolor": "#E5ECF6",
           "showlakes": true,
           "showland": true,
           "subunitcolor": "white"
          },
          "hoverlabel": {
           "align": "left"
          },
          "hovermode": "closest",
          "mapbox": {
           "style": "light"
          },
          "paper_bgcolor": "white",
          "plot_bgcolor": "#E5ECF6",
          "polar": {
           "angularaxis": {
            "gridcolor": "white",
            "linecolor": "white",
            "ticks": ""
           },
           "bgcolor": "#E5ECF6",
           "radialaxis": {
            "gridcolor": "white",
            "linecolor": "white",
            "ticks": ""
           }
          },
          "scene": {
           "xaxis": {
            "backgroundcolor": "#E5ECF6",
            "gridcolor": "white",
            "gridwidth": 2,
            "linecolor": "white",
            "showbackground": true,
            "ticks": "",
            "zerolinecolor": "white"
           },
           "yaxis": {
            "backgroundcolor": "#E5ECF6",
            "gridcolor": "white",
            "gridwidth": 2,
            "linecolor": "white",
            "showbackground": true,
            "ticks": "",
            "zerolinecolor": "white"
           },
           "zaxis": {
            "backgroundcolor": "#E5ECF6",
            "gridcolor": "white",
            "gridwidth": 2,
            "linecolor": "white",
            "showbackground": true,
            "ticks": "",
            "zerolinecolor": "white"
           }
          },
          "shapedefaults": {
           "line": {
            "color": "#2a3f5f"
           }
          },
          "ternary": {
           "aaxis": {
            "gridcolor": "white",
            "linecolor": "white",
            "ticks": ""
           },
           "baxis": {
            "gridcolor": "white",
            "linecolor": "white",
            "ticks": ""
           },
           "bgcolor": "#E5ECF6",
           "caxis": {
            "gridcolor": "white",
            "linecolor": "white",
            "ticks": ""
           }
          },
          "title": {
           "x": 0.05
          },
          "xaxis": {
           "automargin": true,
           "gridcolor": "white",
           "linecolor": "white",
           "ticks": "",
           "title": {
            "standoff": 15
           },
           "zerolinecolor": "white",
           "zerolinewidth": 2
          },
          "yaxis": {
           "automargin": true,
           "gridcolor": "white",
           "linecolor": "white",
           "ticks": "",
           "title": {
            "standoff": 15
           },
           "zerolinecolor": "white",
           "zerolinewidth": 2
          }
         }
        },
        "title": {
         "text": "2022-23: AP Scores 3-5 by school districts of North Carolina"
        }
       }
      },
      "text/html": [
       "<div>                            <div id=\"26f13a64-5252-469d-9ed8-935f38b3c454\" class=\"plotly-graph-div\" style=\"height:525px; width:100%;\"></div>            <script type=\"text/javascript\">                require([\"plotly\"], function(Plotly) {                    window.PLOTLYENV=window.PLOTLYENV || {};                                    if (document.getElementById(\"26f13a64-5252-469d-9ed8-935f38b3c454\")) {                    Plotly.newPlot(                        \"26f13a64-5252-469d-9ed8-935f38b3c454\",                        [{\"coloraxis\":\"coloraxis\",\"hovertemplate\":\"PERCENT_3_OR_ABOVE=%{z}\\u003cbr\\u003elat=%{lat}\\u003cbr\\u003elng=%{lon}\\u003cextra\\u003e\\u003c\\u002fextra\\u003e\",\"lat\":[null,35.921,36.4916,34.9738,36.4341,36.0765,35.494,36.0663,34.6146,34.0715,35.6112,35.7496,35.3868,35.953,36.3891,34.8357,36.3932,35.662,35.7026,35.1339,35.0572,35.3341,34.2657,35.1249,35.0487,36.405,35.7824,35.7933,35.9291,34.9365,36.036,35.9129,36.1306,36.0828,35.2944,36.4449,35.3502,36.304,35.485,36.0795,36.2574,36.2574,35.3689,35.556,35.3363,36.3591,35.0175,35.5306,35.2876,35.5178,35.0217,35.4752,35.2388,35.4856,35.1505,35.858,35.8432,null,35.2467,36.0133,35.3325,35.3106,34.2329,36.4178,34.7322,36.0611,35.1434,36.2955,34.5249,36.2059,36.39,35.5933,35.2793,35.7103,35.0059,34.6402,36.396,35.4026,34.9916,34.8409,35.3119,36.4019,36.4146,35.4868,35.2021,34.9884,36.3649,35.7903,36.3965,35.8225,36.2311,35.364,36.2062,35.7051,36.1605,35.8989],\"lon\":[null,-81.177,-81.127,-80.1027,-81.5004,-81.9226,-76.8598,-76.9788,-78.5637,-78.2383,-82.5301,-81.7048,-80.5519,-81.5464,-76.208,-76.6589,-79.3335,-81.2151,-79.2554,-84.0635,-83.7502,-81.5555,-78.655,-77.0939,-78.8277,-76.0079,-75.7988,-80.2128,-80.5445,-77.933,-78.8766,-77.5971,-80.2563,-78.2857,-81.1803,-76.7005,-83.8335,-78.6527,-77.6758,-79.7889,-77.6517,-77.6517,-78.8693,-82.9822,-82.48,-76.982,-79.2373,-76.2517,-83.1408,-78.3657,-77.3552,-79.1715,-77.6413,-81.2235,-83.4222,-82.7058,-77.1092,null,-80.8328,-82.1636,-79.9055,-79.4814,-77.8848,-77.3969,-77.4322,-79.1207,-76.7407,-76.2843,-77.9052,-76.4411,-78.9718,-77.3745,-82.1697,-79.806,-79.7479,-79.1039,-79.775,-81.9198,-78.3714,-79.4804,-80.251,-80.2397,-80.688,-83.4928,-82.7982,-80.5307,-78.4079,-78.6503,-78.1067,-76.5775,-81.6964,-78.004,-81.163,-77.9187,-80.6652,-82.3076],\"name\":\"\",\"radius\":10,\"subplot\":\"mapbox\",\"z\":[\"44.3101712\",\"50.877193\",\"*\",\"31.5789474\",\"54.6391753\",\"47.0588235\",\"30.4635762\",\"*\",\"21.1267606\",\"58.3979328\",\"55\",\"50.0948767\",\"60.1180891\",\"42.4437299\",\"62.5\",\"80.6779661\",\"28.4090909\",\"42.8571429\",\"51.9191919\",\"23.255814\",\"25\",\"45.7746479\",\"30.7692308\",\"30\",\"35.7063404\",\"42.3423423\",\"51.4634146\",\"61.3333333\",\"52.9569892\",\"35.7142857\",\"52.8607595\",\"17.0454545\",\"64.7241166\",\"38.4615385\",\"39.3122677\",\"14.2857143\",\"25.9259259\",\"17.6724138\",\"34.4827586\",\"56.2478662\",null,\"13.3333333\",\"45.4545455\",\"48.6238532\",\"60\",\"*\",\"13.8790036\",\"*\",\"76.119403\",\"57.832618\",\"*\",\"35.15625\",\"22.4\",\"46.9512195\",\"64.1666667\",\"14.2857143\",\"*\",\"29.2993631\",\"60.4153217\",\"69.5652174\",\"43.5897436\",\"60.5405405\",\"56.0142349\",\"*\",\"33.3333333\",\"68.9277899\",\"38.4615385\",\"30.7692308\",\"51.4905149\",\"53.125\",\"40.1162791\",\"46.0451977\",\"66.6666667\",\"36.93086\",\"32.5301205\",\"17.603912\",\"33.1877729\",\"33.7037037\",\"43.373494\",\"25\",\"52\",\"40.1515152\",\"49.5145631\",\"55.7377049\",\"65.4411765\",\"67.7770224\",\"6.1728395\",\"66.0552503\",\"*\",null,\"70.1492537\",\"41.5540541\",\"49.6268657\",\"51.0574018\",\"38.8235294\",\"75\"],\"type\":\"densitymapbox\"}],                        {\"template\":{\"data\":{\"histogram2dcontour\":[{\"type\":\"histogram2dcontour\",\"colorbar\":{\"outlinewidth\":0,\"ticks\":\"\"},\"colorscale\":[[0.0,\"#0d0887\"],[0.1111111111111111,\"#46039f\"],[0.2222222222222222,\"#7201a8\"],[0.3333333333333333,\"#9c179e\"],[0.4444444444444444,\"#bd3786\"],[0.5555555555555556,\"#d8576b\"],[0.6666666666666666,\"#ed7953\"],[0.7777777777777778,\"#fb9f3a\"],[0.8888888888888888,\"#fdca26\"],[1.0,\"#f0f921\"]]}],\"choropleth\":[{\"type\":\"choropleth\",\"colorbar\":{\"outlinewidth\":0,\"ticks\":\"\"}}],\"histogram2d\":[{\"type\":\"histogram2d\",\"colorbar\":{\"outlinewidth\":0,\"ticks\":\"\"},\"colorscale\":[[0.0,\"#0d0887\"],[0.1111111111111111,\"#46039f\"],[0.2222222222222222,\"#7201a8\"],[0.3333333333333333,\"#9c179e\"],[0.4444444444444444,\"#bd3786\"],[0.5555555555555556,\"#d8576b\"],[0.6666666666666666,\"#ed7953\"],[0.7777777777777778,\"#fb9f3a\"],[0.8888888888888888,\"#fdca26\"],[1.0,\"#f0f921\"]]}],\"heatmap\":[{\"type\":\"heatmap\",\"colorbar\":{\"outlinewidth\":0,\"ticks\":\"\"},\"colorscale\":[[0.0,\"#0d0887\"],[0.1111111111111111,\"#46039f\"],[0.2222222222222222,\"#7201a8\"],[0.3333333333333333,\"#9c179e\"],[0.4444444444444444,\"#bd3786\"],[0.5555555555555556,\"#d8576b\"],[0.6666666666666666,\"#ed7953\"],[0.7777777777777778,\"#fb9f3a\"],[0.8888888888888888,\"#fdca26\"],[1.0,\"#f0f921\"]]}],\"heatmapgl\":[{\"type\":\"heatmapgl\",\"colorbar\":{\"outlinewidth\":0,\"ticks\":\"\"},\"colorscale\":[[0.0,\"#0d0887\"],[0.1111111111111111,\"#46039f\"],[0.2222222222222222,\"#7201a8\"],[0.3333333333333333,\"#9c179e\"],[0.4444444444444444,\"#bd3786\"],[0.5555555555555556,\"#d8576b\"],[0.6666666666666666,\"#ed7953\"],[0.7777777777777778,\"#fb9f3a\"],[0.8888888888888888,\"#fdca26\"],[1.0,\"#f0f921\"]]}],\"contourcarpet\":[{\"type\":\"contourcarpet\",\"colorbar\":{\"outlinewidth\":0,\"ticks\":\"\"}}],\"contour\":[{\"type\":\"contour\",\"colorbar\":{\"outlinewidth\":0,\"ticks\":\"\"},\"colorscale\":[[0.0,\"#0d0887\"],[0.1111111111111111,\"#46039f\"],[0.2222222222222222,\"#7201a8\"],[0.3333333333333333,\"#9c179e\"],[0.4444444444444444,\"#bd3786\"],[0.5555555555555556,\"#d8576b\"],[0.6666666666666666,\"#ed7953\"],[0.7777777777777778,\"#fb9f3a\"],[0.8888888888888888,\"#fdca26\"],[1.0,\"#f0f921\"]]}],\"surface\":[{\"type\":\"surface\",\"colorbar\":{\"outlinewidth\":0,\"ticks\":\"\"},\"colorscale\":[[0.0,\"#0d0887\"],[0.1111111111111111,\"#46039f\"],[0.2222222222222222,\"#7201a8\"],[0.3333333333333333,\"#9c179e\"],[0.4444444444444444,\"#bd3786\"],[0.5555555555555556,\"#d8576b\"],[0.6666666666666666,\"#ed7953\"],[0.7777777777777778,\"#fb9f3a\"],[0.8888888888888888,\"#fdca26\"],[1.0,\"#f0f921\"]]}],\"mesh3d\":[{\"type\":\"mesh3d\",\"colorbar\":{\"outlinewidth\":0,\"ticks\":\"\"}}],\"scatter\":[{\"fillpattern\":{\"fillmode\":\"overlay\",\"size\":10,\"solidity\":0.2},\"type\":\"scatter\"}],\"parcoords\":[{\"type\":\"parcoords\",\"line\":{\"colorbar\":{\"outlinewidth\":0,\"ticks\":\"\"}}}],\"scatterpolargl\":[{\"type\":\"scatterpolargl\",\"marker\":{\"colorbar\":{\"outlinewidth\":0,\"ticks\":\"\"}}}],\"bar\":[{\"error_x\":{\"color\":\"#2a3f5f\"},\"error_y\":{\"color\":\"#2a3f5f\"},\"marker\":{\"line\":{\"color\":\"#E5ECF6\",\"width\":0.5},\"pattern\":{\"fillmode\":\"overlay\",\"size\":10,\"solidity\":0.2}},\"type\":\"bar\"}],\"scattergeo\":[{\"type\":\"scattergeo\",\"marker\":{\"colorbar\":{\"outlinewidth\":0,\"ticks\":\"\"}}}],\"scatterpolar\":[{\"type\":\"scatterpolar\",\"marker\":{\"colorbar\":{\"outlinewidth\":0,\"ticks\":\"\"}}}],\"histogram\":[{\"marker\":{\"pattern\":{\"fillmode\":\"overlay\",\"size\":10,\"solidity\":0.2}},\"type\":\"histogram\"}],\"scattergl\":[{\"type\":\"scattergl\",\"marker\":{\"colorbar\":{\"outlinewidth\":0,\"ticks\":\"\"}}}],\"scatter3d\":[{\"type\":\"scatter3d\",\"line\":{\"colorbar\":{\"outlinewidth\":0,\"ticks\":\"\"}},\"marker\":{\"colorbar\":{\"outlinewidth\":0,\"ticks\":\"\"}}}],\"scattermapbox\":[{\"type\":\"scattermapbox\",\"marker\":{\"colorbar\":{\"outlinewidth\":0,\"ticks\":\"\"}}}],\"scatterternary\":[{\"type\":\"scatterternary\",\"marker\":{\"colorbar\":{\"outlinewidth\":0,\"ticks\":\"\"}}}],\"scattercarpet\":[{\"type\":\"scattercarpet\",\"marker\":{\"colorbar\":{\"outlinewidth\":0,\"ticks\":\"\"}}}],\"carpet\":[{\"aaxis\":{\"endlinecolor\":\"#2a3f5f\",\"gridcolor\":\"white\",\"linecolor\":\"white\",\"minorgridcolor\":\"white\",\"startlinecolor\":\"#2a3f5f\"},\"baxis\":{\"endlinecolor\":\"#2a3f5f\",\"gridcolor\":\"white\",\"linecolor\":\"white\",\"minorgridcolor\":\"white\",\"startlinecolor\":\"#2a3f5f\"},\"type\":\"carpet\"}],\"table\":[{\"cells\":{\"fill\":{\"color\":\"#EBF0F8\"},\"line\":{\"color\":\"white\"}},\"header\":{\"fill\":{\"color\":\"#C8D4E3\"},\"line\":{\"color\":\"white\"}},\"type\":\"table\"}],\"barpolar\":[{\"marker\":{\"line\":{\"color\":\"#E5ECF6\",\"width\":0.5},\"pattern\":{\"fillmode\":\"overlay\",\"size\":10,\"solidity\":0.2}},\"type\":\"barpolar\"}],\"pie\":[{\"automargin\":true,\"type\":\"pie\"}]},\"layout\":{\"autotypenumbers\":\"strict\",\"colorway\":[\"#636efa\",\"#EF553B\",\"#00cc96\",\"#ab63fa\",\"#FFA15A\",\"#19d3f3\",\"#FF6692\",\"#B6E880\",\"#FF97FF\",\"#FECB52\"],\"font\":{\"color\":\"#2a3f5f\"},\"hovermode\":\"closest\",\"hoverlabel\":{\"align\":\"left\"},\"paper_bgcolor\":\"white\",\"plot_bgcolor\":\"#E5ECF6\",\"polar\":{\"bgcolor\":\"#E5ECF6\",\"angularaxis\":{\"gridcolor\":\"white\",\"linecolor\":\"white\",\"ticks\":\"\"},\"radialaxis\":{\"gridcolor\":\"white\",\"linecolor\":\"white\",\"ticks\":\"\"}},\"ternary\":{\"bgcolor\":\"#E5ECF6\",\"aaxis\":{\"gridcolor\":\"white\",\"linecolor\":\"white\",\"ticks\":\"\"},\"baxis\":{\"gridcolor\":\"white\",\"linecolor\":\"white\",\"ticks\":\"\"},\"caxis\":{\"gridcolor\":\"white\",\"linecolor\":\"white\",\"ticks\":\"\"}},\"coloraxis\":{\"colorbar\":{\"outlinewidth\":0,\"ticks\":\"\"}},\"colorscale\":{\"sequential\":[[0.0,\"#0d0887\"],[0.1111111111111111,\"#46039f\"],[0.2222222222222222,\"#7201a8\"],[0.3333333333333333,\"#9c179e\"],[0.4444444444444444,\"#bd3786\"],[0.5555555555555556,\"#d8576b\"],[0.6666666666666666,\"#ed7953\"],[0.7777777777777778,\"#fb9f3a\"],[0.8888888888888888,\"#fdca26\"],[1.0,\"#f0f921\"]],\"sequentialminus\":[[0.0,\"#0d0887\"],[0.1111111111111111,\"#46039f\"],[0.2222222222222222,\"#7201a8\"],[0.3333333333333333,\"#9c179e\"],[0.4444444444444444,\"#bd3786\"],[0.5555555555555556,\"#d8576b\"],[0.6666666666666666,\"#ed7953\"],[0.7777777777777778,\"#fb9f3a\"],[0.8888888888888888,\"#fdca26\"],[1.0,\"#f0f921\"]],\"diverging\":[[0,\"#8e0152\"],[0.1,\"#c51b7d\"],[0.2,\"#de77ae\"],[0.3,\"#f1b6da\"],[0.4,\"#fde0ef\"],[0.5,\"#f7f7f7\"],[0.6,\"#e6f5d0\"],[0.7,\"#b8e186\"],[0.8,\"#7fbc41\"],[0.9,\"#4d9221\"],[1,\"#276419\"]]},\"xaxis\":{\"gridcolor\":\"white\",\"linecolor\":\"white\",\"ticks\":\"\",\"title\":{\"standoff\":15},\"zerolinecolor\":\"white\",\"automargin\":true,\"zerolinewidth\":2},\"yaxis\":{\"gridcolor\":\"white\",\"linecolor\":\"white\",\"ticks\":\"\",\"title\":{\"standoff\":15},\"zerolinecolor\":\"white\",\"automargin\":true,\"zerolinewidth\":2},\"scene\":{\"xaxis\":{\"backgroundcolor\":\"#E5ECF6\",\"gridcolor\":\"white\",\"linecolor\":\"white\",\"showbackground\":true,\"ticks\":\"\",\"zerolinecolor\":\"white\",\"gridwidth\":2},\"yaxis\":{\"backgroundcolor\":\"#E5ECF6\",\"gridcolor\":\"white\",\"linecolor\":\"white\",\"showbackground\":true,\"ticks\":\"\",\"zerolinecolor\":\"white\",\"gridwidth\":2},\"zaxis\":{\"backgroundcolor\":\"#E5ECF6\",\"gridcolor\":\"white\",\"linecolor\":\"white\",\"showbackground\":true,\"ticks\":\"\",\"zerolinecolor\":\"white\",\"gridwidth\":2}},\"shapedefaults\":{\"line\":{\"color\":\"#2a3f5f\"}},\"annotationdefaults\":{\"arrowcolor\":\"#2a3f5f\",\"arrowhead\":0,\"arrowwidth\":1},\"geo\":{\"bgcolor\":\"white\",\"landcolor\":\"#E5ECF6\",\"subunitcolor\":\"white\",\"showland\":true,\"showlakes\":true,\"lakecolor\":\"white\"},\"title\":{\"x\":0.05},\"mapbox\":{\"style\":\"light\"}}},\"mapbox\":{\"domain\":{\"x\":[0.0,1.0],\"y\":[0.0,1.0]},\"center\":{\"lat\":35.8,\"lon\":-80},\"zoom\":4.8,\"style\":\"open-street-map\"},\"coloraxis\":{\"colorbar\":{\"title\":{\"text\":\"PERCENT_3_OR_ABOVE\"}},\"colorscale\":[[0.0,\"#0d0887\"],[0.1111111111111111,\"#46039f\"],[0.2222222222222222,\"#7201a8\"],[0.3333333333333333,\"#9c179e\"],[0.4444444444444444,\"#bd3786\"],[0.5555555555555556,\"#d8576b\"],[0.6666666666666666,\"#ed7953\"],[0.7777777777777778,\"#fb9f3a\"],[0.8888888888888888,\"#fdca26\"],[1.0,\"#f0f921\"]]},\"legend\":{\"tracegroupgap\":0},\"margin\":{\"t\":60},\"title\":{\"text\":\"2022-23: AP Scores 3-5 by school districts of North Carolina\"}},                        {\"responsive\": true}                    ).then(function(){\n",
       "                            \n",
       "var gd = document.getElementById('26f13a64-5252-469d-9ed8-935f38b3c454');\n",
       "var x = new MutationObserver(function (mutations, observer) {{\n",
       "        var display = window.getComputedStyle(gd).display;\n",
       "        if (!display || display === 'none') {{\n",
       "            console.log([gd, 'removed!']);\n",
       "            Plotly.purge(gd);\n",
       "            observer.disconnect();\n",
       "        }}\n",
       "}});\n",
       "\n",
       "// Listen for the removal of the full notebook cells\n",
       "var notebookContainer = gd.closest('#notebook-container');\n",
       "if (notebookContainer) {{\n",
       "    x.observe(notebookContainer, {childList: true});\n",
       "}}\n",
       "\n",
       "// Listen for the clearing of the current output cell\n",
       "var outputEl = gd.closest('.output');\n",
       "if (outputEl) {{\n",
       "    x.observe(outputEl, {childList: true});\n",
       "}}\n",
       "\n",
       "                        })                };                });            </script>        </div>"
      ]
     },
     "metadata": {},
     "output_type": "display_data"
    }
   ],
   "source": [
    "fig = px.density_mapbox(northcarolina_districts18, lat='lat', lon='lng', z='PERCENT_3_OR_ABOVE', radius=10,\n",
    "                        center=dict(lat=35.8, lon=-80), zoom=4.8,\n",
    "                        mapbox_style=\"open-street-map\")\n",
    "fig.update_layout(\n",
    "    title='2022-23: AP Scores 3-5 by school districts of North Carolina'\n",
    ")\n",
    "\n",
    "fig.show()\n",
    "with open('data/NC_pickled/NC_AP_pass_rate_by_school_districts.pkl', 'wb') as f:\n",
    "    pickle.dump(fig, f)"
   ]
  },
  {
   "cell_type": "code",
   "execution_count": 24,
   "id": "f834cfd7-1d63-4666-9d38-dde961c63442",
   "metadata": {},
   "outputs": [],
   "source": [
    "northcarolina = pd.read_csv('data/North_Carolina/train_test_split/northcarolina_closest_five_method.csv')"
   ]
  },
  {
   "cell_type": "code",
   "execution_count": 25,
   "id": "d8a6d896-fc94-4604-ae36-d9b2bb99935a",
   "metadata": {},
   "outputs": [
    {
     "data": {
      "text/html": [
       "<div>\n",
       "<style scoped>\n",
       "    .dataframe tbody tr th:only-of-type {\n",
       "        vertical-align: middle;\n",
       "    }\n",
       "\n",
       "    .dataframe tbody tr th {\n",
       "        vertical-align: top;\n",
       "    }\n",
       "\n",
       "    .dataframe thead th {\n",
       "        text-align: right;\n",
       "    }\n",
       "</style>\n",
       "<table border=\"1\" class=\"dataframe\">\n",
       "  <thead>\n",
       "    <tr style=\"text-align: right;\">\n",
       "      <th></th>\n",
       "      <th>Unnamed: 0</th>\n",
       "      <th>County</th>\n",
       "      <th>EXAM_COUNT</th>\n",
       "      <th>EXAMS_3_OR_ABOVE</th>\n",
       "      <th>PERCENT_3_OR_ABOVE</th>\n",
       "      <th>Year</th>\n",
       "      <th>lat</th>\n",
       "      <th>lng</th>\n",
       "      <th>population</th>\n",
       "      <th>per_capita_income</th>\n",
       "      <th>...</th>\n",
       "      <th>closest_five_avg_enrollment_r1r2</th>\n",
       "      <th>closest_five_avg_enrollment_public</th>\n",
       "      <th>closest_five_avg_enrollment_private_nfp</th>\n",
       "      <th>closest_five_avg_enrollment_landgrnt</th>\n",
       "      <th>closest_five_avg_enrollment_stem</th>\n",
       "      <th>closest_five_avg_dormrooms_r1r2</th>\n",
       "      <th>closest_five_avg_dormrooms_public</th>\n",
       "      <th>closest_five_avg_dormrooms_private_nfp</th>\n",
       "      <th>closest_five_avg_dormrooms_landgrant</th>\n",
       "      <th>closest_five_avg_dormrooms_stem</th>\n",
       "    </tr>\n",
       "  </thead>\n",
       "  <tbody>\n",
       "    <tr>\n",
       "      <th>0</th>\n",
       "      <td>0</td>\n",
       "      <td>Alamance-Burlington</td>\n",
       "      <td>993.0</td>\n",
       "      <td>440</td>\n",
       "      <td>44.3101712</td>\n",
       "      <td>2018</td>\n",
       "      <td>NaN</td>\n",
       "      <td>NaN</td>\n",
       "      <td>NaN</td>\n",
       "      <td>NaN</td>\n",
       "      <td>...</td>\n",
       "      <td>NaN</td>\n",
       "      <td>NaN</td>\n",
       "      <td>NaN</td>\n",
       "      <td>NaN</td>\n",
       "      <td>NaN</td>\n",
       "      <td>NaN</td>\n",
       "      <td>NaN</td>\n",
       "      <td>NaN</td>\n",
       "      <td>NaN</td>\n",
       "      <td>NaN</td>\n",
       "    </tr>\n",
       "    <tr>\n",
       "      <th>1</th>\n",
       "      <td>1</td>\n",
       "      <td>Alexander</td>\n",
       "      <td>171.0</td>\n",
       "      <td>87</td>\n",
       "      <td>50.877193</td>\n",
       "      <td>2018</td>\n",
       "      <td>35.9210</td>\n",
       "      <td>-81.1770</td>\n",
       "      <td>36459.0</td>\n",
       "      <td>37082.0</td>\n",
       "      <td>...</td>\n",
       "      <td>19252.2</td>\n",
       "      <td>4251.0</td>\n",
       "      <td>1534.0</td>\n",
       "      <td>30746.0</td>\n",
       "      <td>19252.2</td>\n",
       "      <td>4804.0</td>\n",
       "      <td>0.0</td>\n",
       "      <td>858.4</td>\n",
       "      <td>8161.0</td>\n",
       "      <td>4804.0</td>\n",
       "    </tr>\n",
       "    <tr>\n",
       "      <th>2</th>\n",
       "      <td>2</td>\n",
       "      <td>Alleghany</td>\n",
       "      <td>2.0</td>\n",
       "      <td>*</td>\n",
       "      <td>*</td>\n",
       "      <td>2018</td>\n",
       "      <td>36.4916</td>\n",
       "      <td>-81.1270</td>\n",
       "      <td>10928.0</td>\n",
       "      <td>37287.0</td>\n",
       "      <td>...</td>\n",
       "      <td>19979.2</td>\n",
       "      <td>7393.0</td>\n",
       "      <td>1322.6</td>\n",
       "      <td>25496.4</td>\n",
       "      <td>19979.2</td>\n",
       "      <td>5490.4</td>\n",
       "      <td>1234.2</td>\n",
       "      <td>581.6</td>\n",
       "      <td>6692.0</td>\n",
       "      <td>5490.4</td>\n",
       "    </tr>\n",
       "    <tr>\n",
       "      <th>3</th>\n",
       "      <td>3</td>\n",
       "      <td>Anson</td>\n",
       "      <td>19.0</td>\n",
       "      <td>6</td>\n",
       "      <td>31.5789474</td>\n",
       "      <td>2018</td>\n",
       "      <td>34.9738</td>\n",
       "      <td>-80.1027</td>\n",
       "      <td>22782.0</td>\n",
       "      <td>37416.0</td>\n",
       "      <td>...</td>\n",
       "      <td>23769.6</td>\n",
       "      <td>2861.2</td>\n",
       "      <td>1611.8</td>\n",
       "      <td>24885.2</td>\n",
       "      <td>23769.6</td>\n",
       "      <td>6024.2</td>\n",
       "      <td>0.0</td>\n",
       "      <td>814.8</td>\n",
       "      <td>6909.0</td>\n",
       "      <td>6024.2</td>\n",
       "    </tr>\n",
       "    <tr>\n",
       "      <th>4</th>\n",
       "      <td>4</td>\n",
       "      <td>Ashe</td>\n",
       "      <td>97.0</td>\n",
       "      <td>53</td>\n",
       "      <td>54.6391753</td>\n",
       "      <td>2018</td>\n",
       "      <td>36.4341</td>\n",
       "      <td>-81.5004</td>\n",
       "      <td>26641.0</td>\n",
       "      <td>35348.0</td>\n",
       "      <td>...</td>\n",
       "      <td>24151.4</td>\n",
       "      <td>6974.0</td>\n",
       "      <td>1299.6</td>\n",
       "      <td>23800.2</td>\n",
       "      <td>24151.4</td>\n",
       "      <td>5580.8</td>\n",
       "      <td>1234.2</td>\n",
       "      <td>504.8</td>\n",
       "      <td>6148.2</td>\n",
       "      <td>5580.8</td>\n",
       "    </tr>\n",
       "    <tr>\n",
       "      <th>...</th>\n",
       "      <td>...</td>\n",
       "      <td>...</td>\n",
       "      <td>...</td>\n",
       "      <td>...</td>\n",
       "      <td>...</td>\n",
       "      <td>...</td>\n",
       "      <td>...</td>\n",
       "      <td>...</td>\n",
       "      <td>...</td>\n",
       "      <td>...</td>\n",
       "      <td>...</td>\n",
       "      <td>...</td>\n",
       "      <td>...</td>\n",
       "      <td>...</td>\n",
       "      <td>...</td>\n",
       "      <td>...</td>\n",
       "      <td>...</td>\n",
       "      <td>...</td>\n",
       "      <td>...</td>\n",
       "      <td>...</td>\n",
       "      <td>...</td>\n",
       "    </tr>\n",
       "    <tr>\n",
       "      <th>283</th>\n",
       "      <td>283</td>\n",
       "      <td>Wayne</td>\n",
       "      <td>239.0</td>\n",
       "      <td>79</td>\n",
       "      <td>33.054393305</td>\n",
       "      <td>2020</td>\n",
       "      <td>35.3640</td>\n",
       "      <td>-78.0040</td>\n",
       "      <td>117266.0</td>\n",
       "      <td>44189.0</td>\n",
       "      <td>...</td>\n",
       "      <td>28576.2</td>\n",
       "      <td>3539.8</td>\n",
       "      <td>2403.6</td>\n",
       "      <td>20040.2</td>\n",
       "      <td>28576.2</td>\n",
       "      <td>7345.4</td>\n",
       "      <td>0.0</td>\n",
       "      <td>648.0</td>\n",
       "      <td>6174.4</td>\n",
       "      <td>7345.4</td>\n",
       "    </tr>\n",
       "    <tr>\n",
       "      <th>284</th>\n",
       "      <td>284</td>\n",
       "      <td>Wilkes</td>\n",
       "      <td>195.0</td>\n",
       "      <td>97</td>\n",
       "      <td>49.743589744</td>\n",
       "      <td>2020</td>\n",
       "      <td>36.2062</td>\n",
       "      <td>-81.1630</td>\n",
       "      <td>65904.0</td>\n",
       "      <td>41195.0</td>\n",
       "      <td>...</td>\n",
       "      <td>19252.2</td>\n",
       "      <td>7597.4</td>\n",
       "      <td>2683.4</td>\n",
       "      <td>25496.4</td>\n",
       "      <td>19252.2</td>\n",
       "      <td>4804.0</td>\n",
       "      <td>1234.2</td>\n",
       "      <td>1105.8</td>\n",
       "      <td>6692.0</td>\n",
       "      <td>4804.0</td>\n",
       "    </tr>\n",
       "    <tr>\n",
       "      <th>285</th>\n",
       "      <td>285</td>\n",
       "      <td>Wilson</td>\n",
       "      <td>255.0</td>\n",
       "      <td>136</td>\n",
       "      <td>53.333333333</td>\n",
       "      <td>2020</td>\n",
       "      <td>35.7051</td>\n",
       "      <td>-77.9187</td>\n",
       "      <td>78807.0</td>\n",
       "      <td>44619.0</td>\n",
       "      <td>...</td>\n",
       "      <td>28576.2</td>\n",
       "      <td>4253.6</td>\n",
       "      <td>1548.4</td>\n",
       "      <td>20131.4</td>\n",
       "      <td>28576.2</td>\n",
       "      <td>7345.4</td>\n",
       "      <td>0.0</td>\n",
       "      <td>596.0</td>\n",
       "      <td>6243.2</td>\n",
       "      <td>7345.4</td>\n",
       "    </tr>\n",
       "    <tr>\n",
       "      <th>286</th>\n",
       "      <td>286</td>\n",
       "      <td>Yadkin</td>\n",
       "      <td>99.0</td>\n",
       "      <td>42</td>\n",
       "      <td>42.424242424</td>\n",
       "      <td>2020</td>\n",
       "      <td>36.1605</td>\n",
       "      <td>-80.6652</td>\n",
       "      <td>37246.0</td>\n",
       "      <td>41757.0</td>\n",
       "      <td>...</td>\n",
       "      <td>23734.4</td>\n",
       "      <td>5115.8</td>\n",
       "      <td>2556.8</td>\n",
       "      <td>25496.4</td>\n",
       "      <td>23734.4</td>\n",
       "      <td>6118.2</td>\n",
       "      <td>598.0</td>\n",
       "      <td>1073.0</td>\n",
       "      <td>6692.0</td>\n",
       "      <td>6118.2</td>\n",
       "    </tr>\n",
       "    <tr>\n",
       "      <th>287</th>\n",
       "      <td>287</td>\n",
       "      <td>Yancey</td>\n",
       "      <td>32.0</td>\n",
       "      <td>23</td>\n",
       "      <td>71.875</td>\n",
       "      <td>2020</td>\n",
       "      <td>35.8989</td>\n",
       "      <td>-82.3076</td>\n",
       "      <td>18490.0</td>\n",
       "      <td>39418.0</td>\n",
       "      <td>...</td>\n",
       "      <td>24181.8</td>\n",
       "      <td>6496.6</td>\n",
       "      <td>1080.4</td>\n",
       "      <td>31226.8</td>\n",
       "      <td>24181.8</td>\n",
       "      <td>5617.4</td>\n",
       "      <td>912.2</td>\n",
       "      <td>708.2</td>\n",
       "      <td>8084.4</td>\n",
       "      <td>5617.4</td>\n",
       "    </tr>\n",
       "  </tbody>\n",
       "</table>\n",
       "<p>288 rows × 25 columns</p>\n",
       "</div>"
      ],
      "text/plain": [
       "     Unnamed: 0               County  EXAM_COUNT EXAMS_3_OR_ABOVE  \\\n",
       "0             0  Alamance-Burlington       993.0              440   \n",
       "1             1            Alexander       171.0               87   \n",
       "2             2            Alleghany         2.0                *   \n",
       "3             3                Anson        19.0                6   \n",
       "4             4                 Ashe        97.0               53   \n",
       "..          ...                  ...         ...              ...   \n",
       "283         283                Wayne       239.0               79   \n",
       "284         284               Wilkes       195.0               97   \n",
       "285         285               Wilson       255.0              136   \n",
       "286         286               Yadkin        99.0               42   \n",
       "287         287               Yancey        32.0               23   \n",
       "\n",
       "    PERCENT_3_OR_ABOVE  Year      lat      lng  population  per_capita_income  \\\n",
       "0           44.3101712  2018      NaN      NaN         NaN                NaN   \n",
       "1            50.877193  2018  35.9210 -81.1770     36459.0            37082.0   \n",
       "2                    *  2018  36.4916 -81.1270     10928.0            37287.0   \n",
       "3           31.5789474  2018  34.9738 -80.1027     22782.0            37416.0   \n",
       "4           54.6391753  2018  36.4341 -81.5004     26641.0            35348.0   \n",
       "..                 ...   ...      ...      ...         ...                ...   \n",
       "283       33.054393305  2020  35.3640 -78.0040    117266.0            44189.0   \n",
       "284       49.743589744  2020  36.2062 -81.1630     65904.0            41195.0   \n",
       "285       53.333333333  2020  35.7051 -77.9187     78807.0            44619.0   \n",
       "286       42.424242424  2020  36.1605 -80.6652     37246.0            41757.0   \n",
       "287             71.875  2020  35.8989 -82.3076     18490.0            39418.0   \n",
       "\n",
       "     ...  closest_five_avg_enrollment_r1r2  \\\n",
       "0    ...                               NaN   \n",
       "1    ...                           19252.2   \n",
       "2    ...                           19979.2   \n",
       "3    ...                           23769.6   \n",
       "4    ...                           24151.4   \n",
       "..   ...                               ...   \n",
       "283  ...                           28576.2   \n",
       "284  ...                           19252.2   \n",
       "285  ...                           28576.2   \n",
       "286  ...                           23734.4   \n",
       "287  ...                           24181.8   \n",
       "\n",
       "     closest_five_avg_enrollment_public  \\\n",
       "0                                   NaN   \n",
       "1                                4251.0   \n",
       "2                                7393.0   \n",
       "3                                2861.2   \n",
       "4                                6974.0   \n",
       "..                                  ...   \n",
       "283                              3539.8   \n",
       "284                              7597.4   \n",
       "285                              4253.6   \n",
       "286                              5115.8   \n",
       "287                              6496.6   \n",
       "\n",
       "     closest_five_avg_enrollment_private_nfp  \\\n",
       "0                                        NaN   \n",
       "1                                     1534.0   \n",
       "2                                     1322.6   \n",
       "3                                     1611.8   \n",
       "4                                     1299.6   \n",
       "..                                       ...   \n",
       "283                                   2403.6   \n",
       "284                                   2683.4   \n",
       "285                                   1548.4   \n",
       "286                                   2556.8   \n",
       "287                                   1080.4   \n",
       "\n",
       "     closest_five_avg_enrollment_landgrnt  closest_five_avg_enrollment_stem  \\\n",
       "0                                     NaN                               NaN   \n",
       "1                                 30746.0                           19252.2   \n",
       "2                                 25496.4                           19979.2   \n",
       "3                                 24885.2                           23769.6   \n",
       "4                                 23800.2                           24151.4   \n",
       "..                                    ...                               ...   \n",
       "283                               20040.2                           28576.2   \n",
       "284                               25496.4                           19252.2   \n",
       "285                               20131.4                           28576.2   \n",
       "286                               25496.4                           23734.4   \n",
       "287                               31226.8                           24181.8   \n",
       "\n",
       "     closest_five_avg_dormrooms_r1r2  closest_five_avg_dormrooms_public  \\\n",
       "0                                NaN                                NaN   \n",
       "1                             4804.0                                0.0   \n",
       "2                             5490.4                             1234.2   \n",
       "3                             6024.2                                0.0   \n",
       "4                             5580.8                             1234.2   \n",
       "..                               ...                                ...   \n",
       "283                           7345.4                                0.0   \n",
       "284                           4804.0                             1234.2   \n",
       "285                           7345.4                                0.0   \n",
       "286                           6118.2                              598.0   \n",
       "287                           5617.4                              912.2   \n",
       "\n",
       "     closest_five_avg_dormrooms_private_nfp  \\\n",
       "0                                       NaN   \n",
       "1                                     858.4   \n",
       "2                                     581.6   \n",
       "3                                     814.8   \n",
       "4                                     504.8   \n",
       "..                                      ...   \n",
       "283                                   648.0   \n",
       "284                                  1105.8   \n",
       "285                                   596.0   \n",
       "286                                  1073.0   \n",
       "287                                   708.2   \n",
       "\n",
       "     closest_five_avg_dormrooms_landgrant  closest_five_avg_dormrooms_stem  \n",
       "0                                     NaN                              NaN  \n",
       "1                                  8161.0                           4804.0  \n",
       "2                                  6692.0                           5490.4  \n",
       "3                                  6909.0                           6024.2  \n",
       "4                                  6148.2                           5580.8  \n",
       "..                                    ...                              ...  \n",
       "283                                6174.4                           7345.4  \n",
       "284                                6692.0                           4804.0  \n",
       "285                                6243.2                           7345.4  \n",
       "286                                6692.0                           6118.2  \n",
       "287                                8084.4                           5617.4  \n",
       "\n",
       "[288 rows x 25 columns]"
      ]
     },
     "execution_count": 25,
     "metadata": {},
     "output_type": "execute_result"
    }
   ],
   "source": [
    "northcarolina"
   ]
  },
  {
   "cell_type": "code",
   "execution_count": 26,
   "id": "0c3a3415-f848-4020-bc42-adcf362c370b",
   "metadata": {},
   "outputs": [
    {
     "data": {
      "text/plain": [
       "Index(['Unnamed: 0', 'County', 'EXAM_COUNT', 'EXAMS_3_OR_ABOVE',\n",
       "       'PERCENT_3_OR_ABOVE', 'Year', 'lat', 'lng', 'population',\n",
       "       'per_capita_income', 'closest_five_r1r2_avg', 'closest_five_public_avg',\n",
       "       'closest_five_private_notprofit_avg', 'closest_five_landgrnt_avg',\n",
       "       'closest_five_stem_avg', 'closest_five_avg_enrollment_r1r2',\n",
       "       'closest_five_avg_enrollment_public',\n",
       "       'closest_five_avg_enrollment_private_nfp',\n",
       "       'closest_five_avg_enrollment_landgrnt',\n",
       "       'closest_five_avg_enrollment_stem', 'closest_five_avg_dormrooms_r1r2',\n",
       "       'closest_five_avg_dormrooms_public',\n",
       "       'closest_five_avg_dormrooms_private_nfp',\n",
       "       'closest_five_avg_dormrooms_landgrant',\n",
       "       'closest_five_avg_dormrooms_stem'],\n",
       "      dtype='object')"
      ]
     },
     "execution_count": 26,
     "metadata": {},
     "output_type": "execute_result"
    }
   ],
   "source": [
    "northcarolina.columns[:]"
   ]
  },
  {
   "cell_type": "code",
   "execution_count": 27,
   "id": "a412a201-1c2a-4b7f-8a54-2fa2132a3ad5",
   "metadata": {},
   "outputs": [],
   "source": [
    "northcarolina20=northcarolina[northcarolina['Year']==2020]"
   ]
  },
  {
   "cell_type": "code",
   "execution_count": null,
   "id": "d3319ca1-a8e7-4073-a746-37d46eb940fa",
   "metadata": {},
   "outputs": [],
   "source": []
  },
  {
   "cell_type": "code",
   "execution_count": 33,
   "id": "35037ec0-fcc5-419e-8961-3c78534b17b3",
   "metadata": {},
   "outputs": [
    {
     "data": {
      "text/html": [
       "<div>\n",
       "<style scoped>\n",
       "    .dataframe tbody tr th:only-of-type {\n",
       "        vertical-align: middle;\n",
       "    }\n",
       "\n",
       "    .dataframe tbody tr th {\n",
       "        vertical-align: top;\n",
       "    }\n",
       "\n",
       "    .dataframe thead th {\n",
       "        text-align: right;\n",
       "    }\n",
       "</style>\n",
       "<table border=\"1\" class=\"dataframe\">\n",
       "  <thead>\n",
       "    <tr style=\"text-align: right;\">\n",
       "      <th></th>\n",
       "      <th>Unnamed: 0</th>\n",
       "      <th>County</th>\n",
       "      <th>EXAM_COUNT</th>\n",
       "      <th>EXAMS_3_OR_ABOVE</th>\n",
       "      <th>PERCENT_3_OR_ABOVE</th>\n",
       "      <th>Year</th>\n",
       "      <th>lat</th>\n",
       "      <th>lng</th>\n",
       "      <th>population</th>\n",
       "      <th>per_capita_income</th>\n",
       "      <th>...</th>\n",
       "      <th>closest_five_avg_enrollment_r1r2</th>\n",
       "      <th>closest_five_avg_enrollment_public</th>\n",
       "      <th>closest_five_avg_enrollment_private_nfp</th>\n",
       "      <th>closest_five_avg_enrollment_landgrnt</th>\n",
       "      <th>closest_five_avg_enrollment_stem</th>\n",
       "      <th>closest_five_avg_dormrooms_r1r2</th>\n",
       "      <th>closest_five_avg_dormrooms_public</th>\n",
       "      <th>closest_five_avg_dormrooms_private_nfp</th>\n",
       "      <th>closest_five_avg_dormrooms_landgrant</th>\n",
       "      <th>closest_five_avg_dormrooms_stem</th>\n",
       "    </tr>\n",
       "  </thead>\n",
       "  <tbody>\n",
       "    <tr>\n",
       "      <th>193</th>\n",
       "      <td>193</td>\n",
       "      <td>Alexander</td>\n",
       "      <td>141.0</td>\n",
       "      <td>75</td>\n",
       "      <td>53.191489</td>\n",
       "      <td>2020</td>\n",
       "      <td>35.9210</td>\n",
       "      <td>-81.1770</td>\n",
       "      <td>36482.0</td>\n",
       "      <td>42020.0</td>\n",
       "      <td>...</td>\n",
       "      <td>19252.2</td>\n",
       "      <td>4251.0</td>\n",
       "      <td>1534.0</td>\n",
       "      <td>30746.0</td>\n",
       "      <td>19252.2</td>\n",
       "      <td>4804.0</td>\n",
       "      <td>0.0</td>\n",
       "      <td>858.4</td>\n",
       "      <td>8161.0</td>\n",
       "      <td>4804.0</td>\n",
       "    </tr>\n",
       "    <tr>\n",
       "      <th>195</th>\n",
       "      <td>195</td>\n",
       "      <td>Anson</td>\n",
       "      <td>22.0</td>\n",
       "      <td>10</td>\n",
       "      <td>45.454545</td>\n",
       "      <td>2020</td>\n",
       "      <td>34.9738</td>\n",
       "      <td>-80.1027</td>\n",
       "      <td>22033.0</td>\n",
       "      <td>42032.0</td>\n",
       "      <td>...</td>\n",
       "      <td>23769.6</td>\n",
       "      <td>2861.2</td>\n",
       "      <td>1611.8</td>\n",
       "      <td>24885.2</td>\n",
       "      <td>23769.6</td>\n",
       "      <td>6024.2</td>\n",
       "      <td>0.0</td>\n",
       "      <td>814.8</td>\n",
       "      <td>6909.0</td>\n",
       "      <td>6024.2</td>\n",
       "    </tr>\n",
       "    <tr>\n",
       "      <th>196</th>\n",
       "      <td>196</td>\n",
       "      <td>Ashe</td>\n",
       "      <td>92.0</td>\n",
       "      <td>54</td>\n",
       "      <td>58.695652</td>\n",
       "      <td>2020</td>\n",
       "      <td>36.4341</td>\n",
       "      <td>-81.5004</td>\n",
       "      <td>26580.0</td>\n",
       "      <td>40730.0</td>\n",
       "      <td>...</td>\n",
       "      <td>24151.4</td>\n",
       "      <td>6974.0</td>\n",
       "      <td>1299.6</td>\n",
       "      <td>23800.2</td>\n",
       "      <td>24151.4</td>\n",
       "      <td>5580.8</td>\n",
       "      <td>1234.2</td>\n",
       "      <td>504.8</td>\n",
       "      <td>6148.2</td>\n",
       "      <td>5580.8</td>\n",
       "    </tr>\n",
       "    <tr>\n",
       "      <th>197</th>\n",
       "      <td>197</td>\n",
       "      <td>Avery</td>\n",
       "      <td>46.0</td>\n",
       "      <td>17</td>\n",
       "      <td>36.956522</td>\n",
       "      <td>2020</td>\n",
       "      <td>36.0765</td>\n",
       "      <td>-81.9226</td>\n",
       "      <td>17848.0</td>\n",
       "      <td>40161.0</td>\n",
       "      <td>...</td>\n",
       "      <td>24181.8</td>\n",
       "      <td>6126.0</td>\n",
       "      <td>1233.6</td>\n",
       "      <td>23800.2</td>\n",
       "      <td>24181.8</td>\n",
       "      <td>5617.4</td>\n",
       "      <td>1234.2</td>\n",
       "      <td>453.4</td>\n",
       "      <td>6148.2</td>\n",
       "      <td>5617.4</td>\n",
       "    </tr>\n",
       "    <tr>\n",
       "      <th>198</th>\n",
       "      <td>198</td>\n",
       "      <td>Beaufort</td>\n",
       "      <td>104.0</td>\n",
       "      <td>45</td>\n",
       "      <td>43.269231</td>\n",
       "      <td>2020</td>\n",
       "      <td>35.4940</td>\n",
       "      <td>-76.8598</td>\n",
       "      <td>44690.0</td>\n",
       "      <td>49644.0</td>\n",
       "      <td>...</td>\n",
       "      <td>27752.6</td>\n",
       "      <td>8035.4</td>\n",
       "      <td>1727.0</td>\n",
       "      <td>20131.4</td>\n",
       "      <td>24468.8</td>\n",
       "      <td>6323.8</td>\n",
       "      <td>1128.0</td>\n",
       "      <td>784.0</td>\n",
       "      <td>6243.2</td>\n",
       "      <td>5190.4</td>\n",
       "    </tr>\n",
       "    <tr>\n",
       "      <th>...</th>\n",
       "      <td>...</td>\n",
       "      <td>...</td>\n",
       "      <td>...</td>\n",
       "      <td>...</td>\n",
       "      <td>...</td>\n",
       "      <td>...</td>\n",
       "      <td>...</td>\n",
       "      <td>...</td>\n",
       "      <td>...</td>\n",
       "      <td>...</td>\n",
       "      <td>...</td>\n",
       "      <td>...</td>\n",
       "      <td>...</td>\n",
       "      <td>...</td>\n",
       "      <td>...</td>\n",
       "      <td>...</td>\n",
       "      <td>...</td>\n",
       "      <td>...</td>\n",
       "      <td>...</td>\n",
       "      <td>...</td>\n",
       "      <td>...</td>\n",
       "    </tr>\n",
       "    <tr>\n",
       "      <th>283</th>\n",
       "      <td>283</td>\n",
       "      <td>Wayne</td>\n",
       "      <td>239.0</td>\n",
       "      <td>79</td>\n",
       "      <td>33.054393</td>\n",
       "      <td>2020</td>\n",
       "      <td>35.3640</td>\n",
       "      <td>-78.0040</td>\n",
       "      <td>117266.0</td>\n",
       "      <td>44189.0</td>\n",
       "      <td>...</td>\n",
       "      <td>28576.2</td>\n",
       "      <td>3539.8</td>\n",
       "      <td>2403.6</td>\n",
       "      <td>20040.2</td>\n",
       "      <td>28576.2</td>\n",
       "      <td>7345.4</td>\n",
       "      <td>0.0</td>\n",
       "      <td>648.0</td>\n",
       "      <td>6174.4</td>\n",
       "      <td>7345.4</td>\n",
       "    </tr>\n",
       "    <tr>\n",
       "      <th>284</th>\n",
       "      <td>284</td>\n",
       "      <td>Wilkes</td>\n",
       "      <td>195.0</td>\n",
       "      <td>97</td>\n",
       "      <td>49.743590</td>\n",
       "      <td>2020</td>\n",
       "      <td>36.2062</td>\n",
       "      <td>-81.1630</td>\n",
       "      <td>65904.0</td>\n",
       "      <td>41195.0</td>\n",
       "      <td>...</td>\n",
       "      <td>19252.2</td>\n",
       "      <td>7597.4</td>\n",
       "      <td>2683.4</td>\n",
       "      <td>25496.4</td>\n",
       "      <td>19252.2</td>\n",
       "      <td>4804.0</td>\n",
       "      <td>1234.2</td>\n",
       "      <td>1105.8</td>\n",
       "      <td>6692.0</td>\n",
       "      <td>4804.0</td>\n",
       "    </tr>\n",
       "    <tr>\n",
       "      <th>285</th>\n",
       "      <td>285</td>\n",
       "      <td>Wilson</td>\n",
       "      <td>255.0</td>\n",
       "      <td>136</td>\n",
       "      <td>53.333333</td>\n",
       "      <td>2020</td>\n",
       "      <td>35.7051</td>\n",
       "      <td>-77.9187</td>\n",
       "      <td>78807.0</td>\n",
       "      <td>44619.0</td>\n",
       "      <td>...</td>\n",
       "      <td>28576.2</td>\n",
       "      <td>4253.6</td>\n",
       "      <td>1548.4</td>\n",
       "      <td>20131.4</td>\n",
       "      <td>28576.2</td>\n",
       "      <td>7345.4</td>\n",
       "      <td>0.0</td>\n",
       "      <td>596.0</td>\n",
       "      <td>6243.2</td>\n",
       "      <td>7345.4</td>\n",
       "    </tr>\n",
       "    <tr>\n",
       "      <th>286</th>\n",
       "      <td>286</td>\n",
       "      <td>Yadkin</td>\n",
       "      <td>99.0</td>\n",
       "      <td>42</td>\n",
       "      <td>42.424242</td>\n",
       "      <td>2020</td>\n",
       "      <td>36.1605</td>\n",
       "      <td>-80.6652</td>\n",
       "      <td>37246.0</td>\n",
       "      <td>41757.0</td>\n",
       "      <td>...</td>\n",
       "      <td>23734.4</td>\n",
       "      <td>5115.8</td>\n",
       "      <td>2556.8</td>\n",
       "      <td>25496.4</td>\n",
       "      <td>23734.4</td>\n",
       "      <td>6118.2</td>\n",
       "      <td>598.0</td>\n",
       "      <td>1073.0</td>\n",
       "      <td>6692.0</td>\n",
       "      <td>6118.2</td>\n",
       "    </tr>\n",
       "    <tr>\n",
       "      <th>287</th>\n",
       "      <td>287</td>\n",
       "      <td>Yancey</td>\n",
       "      <td>32.0</td>\n",
       "      <td>23</td>\n",
       "      <td>71.875000</td>\n",
       "      <td>2020</td>\n",
       "      <td>35.8989</td>\n",
       "      <td>-82.3076</td>\n",
       "      <td>18490.0</td>\n",
       "      <td>39418.0</td>\n",
       "      <td>...</td>\n",
       "      <td>24181.8</td>\n",
       "      <td>6496.6</td>\n",
       "      <td>1080.4</td>\n",
       "      <td>31226.8</td>\n",
       "      <td>24181.8</td>\n",
       "      <td>5617.4</td>\n",
       "      <td>912.2</td>\n",
       "      <td>708.2</td>\n",
       "      <td>8084.4</td>\n",
       "      <td>5617.4</td>\n",
       "    </tr>\n",
       "  </tbody>\n",
       "</table>\n",
       "<p>79 rows × 25 columns</p>\n",
       "</div>"
      ],
      "text/plain": [
       "     Unnamed: 0     County  EXAM_COUNT EXAMS_3_OR_ABOVE  PERCENT_3_OR_ABOVE  \\\n",
       "193         193  Alexander       141.0               75           53.191489   \n",
       "195         195      Anson        22.0               10           45.454545   \n",
       "196         196       Ashe        92.0               54           58.695652   \n",
       "197         197      Avery        46.0               17           36.956522   \n",
       "198         198   Beaufort       104.0               45           43.269231   \n",
       "..          ...        ...         ...              ...                 ...   \n",
       "283         283      Wayne       239.0               79           33.054393   \n",
       "284         284     Wilkes       195.0               97           49.743590   \n",
       "285         285     Wilson       255.0              136           53.333333   \n",
       "286         286     Yadkin        99.0               42           42.424242   \n",
       "287         287     Yancey        32.0               23           71.875000   \n",
       "\n",
       "     Year      lat      lng  population  per_capita_income  ...  \\\n",
       "193  2020  35.9210 -81.1770     36482.0            42020.0  ...   \n",
       "195  2020  34.9738 -80.1027     22033.0            42032.0  ...   \n",
       "196  2020  36.4341 -81.5004     26580.0            40730.0  ...   \n",
       "197  2020  36.0765 -81.9226     17848.0            40161.0  ...   \n",
       "198  2020  35.4940 -76.8598     44690.0            49644.0  ...   \n",
       "..    ...      ...      ...         ...                ...  ...   \n",
       "283  2020  35.3640 -78.0040    117266.0            44189.0  ...   \n",
       "284  2020  36.2062 -81.1630     65904.0            41195.0  ...   \n",
       "285  2020  35.7051 -77.9187     78807.0            44619.0  ...   \n",
       "286  2020  36.1605 -80.6652     37246.0            41757.0  ...   \n",
       "287  2020  35.8989 -82.3076     18490.0            39418.0  ...   \n",
       "\n",
       "     closest_five_avg_enrollment_r1r2  closest_five_avg_enrollment_public  \\\n",
       "193                           19252.2                              4251.0   \n",
       "195                           23769.6                              2861.2   \n",
       "196                           24151.4                              6974.0   \n",
       "197                           24181.8                              6126.0   \n",
       "198                           27752.6                              8035.4   \n",
       "..                                ...                                 ...   \n",
       "283                           28576.2                              3539.8   \n",
       "284                           19252.2                              7597.4   \n",
       "285                           28576.2                              4253.6   \n",
       "286                           23734.4                              5115.8   \n",
       "287                           24181.8                              6496.6   \n",
       "\n",
       "     closest_five_avg_enrollment_private_nfp  \\\n",
       "193                                   1534.0   \n",
       "195                                   1611.8   \n",
       "196                                   1299.6   \n",
       "197                                   1233.6   \n",
       "198                                   1727.0   \n",
       "..                                       ...   \n",
       "283                                   2403.6   \n",
       "284                                   2683.4   \n",
       "285                                   1548.4   \n",
       "286                                   2556.8   \n",
       "287                                   1080.4   \n",
       "\n",
       "     closest_five_avg_enrollment_landgrnt  closest_five_avg_enrollment_stem  \\\n",
       "193                               30746.0                           19252.2   \n",
       "195                               24885.2                           23769.6   \n",
       "196                               23800.2                           24151.4   \n",
       "197                               23800.2                           24181.8   \n",
       "198                               20131.4                           24468.8   \n",
       "..                                    ...                               ...   \n",
       "283                               20040.2                           28576.2   \n",
       "284                               25496.4                           19252.2   \n",
       "285                               20131.4                           28576.2   \n",
       "286                               25496.4                           23734.4   \n",
       "287                               31226.8                           24181.8   \n",
       "\n",
       "     closest_five_avg_dormrooms_r1r2  closest_five_avg_dormrooms_public  \\\n",
       "193                           4804.0                                0.0   \n",
       "195                           6024.2                                0.0   \n",
       "196                           5580.8                             1234.2   \n",
       "197                           5617.4                             1234.2   \n",
       "198                           6323.8                             1128.0   \n",
       "..                               ...                                ...   \n",
       "283                           7345.4                                0.0   \n",
       "284                           4804.0                             1234.2   \n",
       "285                           7345.4                                0.0   \n",
       "286                           6118.2                              598.0   \n",
       "287                           5617.4                              912.2   \n",
       "\n",
       "     closest_five_avg_dormrooms_private_nfp  \\\n",
       "193                                   858.4   \n",
       "195                                   814.8   \n",
       "196                                   504.8   \n",
       "197                                   453.4   \n",
       "198                                   784.0   \n",
       "..                                      ...   \n",
       "283                                   648.0   \n",
       "284                                  1105.8   \n",
       "285                                   596.0   \n",
       "286                                  1073.0   \n",
       "287                                   708.2   \n",
       "\n",
       "     closest_five_avg_dormrooms_landgrant  closest_five_avg_dormrooms_stem  \n",
       "193                                8161.0                           4804.0  \n",
       "195                                6909.0                           6024.2  \n",
       "196                                6148.2                           5580.8  \n",
       "197                                6148.2                           5617.4  \n",
       "198                                6243.2                           5190.4  \n",
       "..                                    ...                              ...  \n",
       "283                                6174.4                           7345.4  \n",
       "284                                6692.0                           4804.0  \n",
       "285                                6243.2                           7345.4  \n",
       "286                                6692.0                           6118.2  \n",
       "287                                8084.4                           5617.4  \n",
       "\n",
       "[79 rows x 25 columns]"
      ]
     },
     "execution_count": 33,
     "metadata": {},
     "output_type": "execute_result"
    }
   ],
   "source": [
    "northcarolina20"
   ]
  },
  {
   "cell_type": "code",
   "execution_count": 34,
   "id": "f1610ca9-46a2-405f-8c30-6301f1e2c233",
   "metadata": {},
   "outputs": [
    {
     "data": {
      "application/vnd.plotly.v1+json": {
       "config": {
        "plotlyServerURL": "https://plot.ly"
       },
       "data": [
        {
         "marker": {
          "color": [
           53.191489362,
           45.454545455,
           58.695652174,
           36.956521739,
           43.269230769,
           45,
           57.357357357,
           59.070191431,
           50.739957717,
           65.241295052,
           57.837837838,
           51.612903226,
           75,
           33.333333333,
           53.249475891,
           62.561576355,
           37.931034483,
           56.060606061,
           38.372093023,
           43.75,
           50.238095238,
           60.416666667,
           50.842696629,
           60.994764398,
           60.200668896,
           33.766233766,
           57.073954984,
           31.182795699,
           70.880587058,
           47.535211268,
           44.751381215,
           47.368421053,
           24.503311258,
           29.268292683,
           58.148274684,
           43.561643836,
           44.171779141,
           66.371681416,
           37.435897436,
           65.517241379,
           55.628415301,
           53.459119497,
           28.421052632,
           50.54200542,
           52.380952381,
           27.272727273,
           63.566535188,
           47.826086957,
           69.714285714,
           65.967365967,
           40.822467402,
           70.983213429,
           19.047619048,
           33.333333333,
           64.401294498,
           66.666666667,
           43.689320388,
           52.443384982,
           70,
           45.862884161,
           26.490066225,
           23.722627737,
           39.051094891,
           49.101796407,
           39.240506329,
           47.959183673,
           52.941176471,
           54.918032787,
           52.727272727,
           55,
           69.512195122,
           70.89678511,
           67.993273543,
           74.733096085,
           33.054393305,
           49.743589744,
           53.333333333,
           42.424242424,
           71.875
          ],
          "colorbar": {
           "title": {
            "text": "% Score 3-5"
           }
          },
          "colorscale": [
           [
            0,
            "rgb(0,0,255)"
           ],
           [
            1,
            "rgb(255,0,0)"
           ]
          ],
          "showscale": true,
          "size": 7,
          "symbol": "circle"
         },
         "mode": "markers",
         "name": "",
         "showlegend": false,
         "text": [
          "Alexander",
          "Anson",
          "Ashe",
          "Avery",
          "Beaufort",
          "Bladen",
          "Brunswick",
          "Buncombe",
          "Burke",
          "Cabarrus",
          "Caldwell",
          "Camden",
          "Carteret",
          "Caswell",
          "Catawba",
          "Chatham",
          "Cherokee",
          "Cleveland",
          "Columbus",
          "Craven",
          "Cumberland",
          "Currituck",
          "Dare",
          "Davidson",
          "Davie",
          "Duplin",
          "Durham",
          "Edgecombe",
          "Forsyth",
          "Franklin",
          "Gaston",
          "Graham",
          "Granville",
          "Greene",
          "Guilford",
          "Harnett",
          "Haywood",
          "Henderson",
          "Hoke",
          "Jackson",
          "Johnston",
          "Lee",
          "Lenoir",
          "Lincoln",
          "Macon",
          "Madison",
          "Mecklenburg",
          "Mitchell",
          "Moore",
          "New Hanover",
          "Onslow",
          "Orange",
          "Pamlico",
          "Pasquotank",
          "Pender",
          "Perquimans",
          "Person",
          "Pitt",
          "Polk",
          "Randolph",
          "Richmond",
          "Robeson",
          "Rockingham",
          "Rutherford",
          "Sampson",
          "Scotland",
          "Stanly",
          "Stokes",
          "Surry",
          "Swain",
          "Transylvania",
          "Union",
          "Wake",
          "Watauga",
          "Wayne",
          "Wilkes",
          "Wilson",
          "Yadkin",
          "Yancey"
         ],
         "type": "scatter",
         "x": [
          42020,
          42030,
          40730,
          40160,
          49640,
          43040,
          53840,
          52850,
          41100,
          49310,
          40100,
          52320,
          57420,
          38130,
          48940,
          70280,
          36540,
          40780,
          39750,
          49480,
          42550,
          52880,
          64540,
          43980,
          53010,
          44160,
          53970,
          40430,
          51670,
          41800,
          44810,
          39290,
          42700,
          35080,
          49900,
          39660,
          44880,
          48380,
          37580,
          40200,
          44940,
          44830,
          44710,
          51870,
          43930,
          39900,
          68550,
          40270,
          57370,
          54130,
          46780,
          72270,
          48840,
          42960,
          45160,
          46810,
          42300,
          48920,
          54920,
          41640,
          40260,
          37170,
          41380,
          38320,
          40820,
          37900,
          43160,
          41960,
          43040,
          44380,
          48330,
          58390,
          65720,
          43120,
          44190,
          41200,
          44620,
          41760,
          39420
         ],
         "y": [
          53.2,
          45.5,
          58.7,
          37,
          43.3,
          45,
          57.4,
          59.1,
          50.7,
          65.2,
          57.8,
          51.6,
          75,
          33.3,
          53.2,
          62.6,
          37.9,
          56.1,
          38.4,
          43.8,
          50.2,
          60.4,
          50.8,
          61,
          60.2,
          33.8,
          57.1,
          31.2,
          70.9,
          47.5,
          44.8,
          47.4,
          24.5,
          29.3,
          58.1,
          43.6,
          44.2,
          66.4,
          37.4,
          65.5,
          55.6,
          53.5,
          28.4,
          50.5,
          52.4,
          27.3,
          63.6,
          47.8,
          69.7,
          66,
          40.8,
          71,
          19,
          33.3,
          64.4,
          66.7,
          43.7,
          52.4,
          70,
          45.9,
          26.5,
          23.7,
          39.1,
          49.1,
          39.2,
          48,
          52.9,
          54.9,
          52.7,
          55,
          69.5,
          70.9,
          68,
          74.7,
          33.1,
          49.7,
          53.3,
          42.4,
          71.9
         ]
        }
       ],
       "layout": {
        "template": {
         "data": {
          "bar": [
           {
            "error_x": {
             "color": "#2a3f5f"
            },
            "error_y": {
             "color": "#2a3f5f"
            },
            "marker": {
             "line": {
              "color": "#E5ECF6",
              "width": 0.5
             },
             "pattern": {
              "fillmode": "overlay",
              "size": 10,
              "solidity": 0.2
             }
            },
            "type": "bar"
           }
          ],
          "barpolar": [
           {
            "marker": {
             "line": {
              "color": "#E5ECF6",
              "width": 0.5
             },
             "pattern": {
              "fillmode": "overlay",
              "size": 10,
              "solidity": 0.2
             }
            },
            "type": "barpolar"
           }
          ],
          "carpet": [
           {
            "aaxis": {
             "endlinecolor": "#2a3f5f",
             "gridcolor": "white",
             "linecolor": "white",
             "minorgridcolor": "white",
             "startlinecolor": "#2a3f5f"
            },
            "baxis": {
             "endlinecolor": "#2a3f5f",
             "gridcolor": "white",
             "linecolor": "white",
             "minorgridcolor": "white",
             "startlinecolor": "#2a3f5f"
            },
            "type": "carpet"
           }
          ],
          "choropleth": [
           {
            "colorbar": {
             "outlinewidth": 0,
             "ticks": ""
            },
            "type": "choropleth"
           }
          ],
          "contour": [
           {
            "colorbar": {
             "outlinewidth": 0,
             "ticks": ""
            },
            "colorscale": [
             [
              0,
              "#0d0887"
             ],
             [
              0.1111111111111111,
              "#46039f"
             ],
             [
              0.2222222222222222,
              "#7201a8"
             ],
             [
              0.3333333333333333,
              "#9c179e"
             ],
             [
              0.4444444444444444,
              "#bd3786"
             ],
             [
              0.5555555555555556,
              "#d8576b"
             ],
             [
              0.6666666666666666,
              "#ed7953"
             ],
             [
              0.7777777777777778,
              "#fb9f3a"
             ],
             [
              0.8888888888888888,
              "#fdca26"
             ],
             [
              1,
              "#f0f921"
             ]
            ],
            "type": "contour"
           }
          ],
          "contourcarpet": [
           {
            "colorbar": {
             "outlinewidth": 0,
             "ticks": ""
            },
            "type": "contourcarpet"
           }
          ],
          "heatmap": [
           {
            "colorbar": {
             "outlinewidth": 0,
             "ticks": ""
            },
            "colorscale": [
             [
              0,
              "#0d0887"
             ],
             [
              0.1111111111111111,
              "#46039f"
             ],
             [
              0.2222222222222222,
              "#7201a8"
             ],
             [
              0.3333333333333333,
              "#9c179e"
             ],
             [
              0.4444444444444444,
              "#bd3786"
             ],
             [
              0.5555555555555556,
              "#d8576b"
             ],
             [
              0.6666666666666666,
              "#ed7953"
             ],
             [
              0.7777777777777778,
              "#fb9f3a"
             ],
             [
              0.8888888888888888,
              "#fdca26"
             ],
             [
              1,
              "#f0f921"
             ]
            ],
            "type": "heatmap"
           }
          ],
          "heatmapgl": [
           {
            "colorbar": {
             "outlinewidth": 0,
             "ticks": ""
            },
            "colorscale": [
             [
              0,
              "#0d0887"
             ],
             [
              0.1111111111111111,
              "#46039f"
             ],
             [
              0.2222222222222222,
              "#7201a8"
             ],
             [
              0.3333333333333333,
              "#9c179e"
             ],
             [
              0.4444444444444444,
              "#bd3786"
             ],
             [
              0.5555555555555556,
              "#d8576b"
             ],
             [
              0.6666666666666666,
              "#ed7953"
             ],
             [
              0.7777777777777778,
              "#fb9f3a"
             ],
             [
              0.8888888888888888,
              "#fdca26"
             ],
             [
              1,
              "#f0f921"
             ]
            ],
            "type": "heatmapgl"
           }
          ],
          "histogram": [
           {
            "marker": {
             "pattern": {
              "fillmode": "overlay",
              "size": 10,
              "solidity": 0.2
             }
            },
            "type": "histogram"
           }
          ],
          "histogram2d": [
           {
            "colorbar": {
             "outlinewidth": 0,
             "ticks": ""
            },
            "colorscale": [
             [
              0,
              "#0d0887"
             ],
             [
              0.1111111111111111,
              "#46039f"
             ],
             [
              0.2222222222222222,
              "#7201a8"
             ],
             [
              0.3333333333333333,
              "#9c179e"
             ],
             [
              0.4444444444444444,
              "#bd3786"
             ],
             [
              0.5555555555555556,
              "#d8576b"
             ],
             [
              0.6666666666666666,
              "#ed7953"
             ],
             [
              0.7777777777777778,
              "#fb9f3a"
             ],
             [
              0.8888888888888888,
              "#fdca26"
             ],
             [
              1,
              "#f0f921"
             ]
            ],
            "type": "histogram2d"
           }
          ],
          "histogram2dcontour": [
           {
            "colorbar": {
             "outlinewidth": 0,
             "ticks": ""
            },
            "colorscale": [
             [
              0,
              "#0d0887"
             ],
             [
              0.1111111111111111,
              "#46039f"
             ],
             [
              0.2222222222222222,
              "#7201a8"
             ],
             [
              0.3333333333333333,
              "#9c179e"
             ],
             [
              0.4444444444444444,
              "#bd3786"
             ],
             [
              0.5555555555555556,
              "#d8576b"
             ],
             [
              0.6666666666666666,
              "#ed7953"
             ],
             [
              0.7777777777777778,
              "#fb9f3a"
             ],
             [
              0.8888888888888888,
              "#fdca26"
             ],
             [
              1,
              "#f0f921"
             ]
            ],
            "type": "histogram2dcontour"
           }
          ],
          "mesh3d": [
           {
            "colorbar": {
             "outlinewidth": 0,
             "ticks": ""
            },
            "type": "mesh3d"
           }
          ],
          "parcoords": [
           {
            "line": {
             "colorbar": {
              "outlinewidth": 0,
              "ticks": ""
             }
            },
            "type": "parcoords"
           }
          ],
          "pie": [
           {
            "automargin": true,
            "type": "pie"
           }
          ],
          "scatter": [
           {
            "fillpattern": {
             "fillmode": "overlay",
             "size": 10,
             "solidity": 0.2
            },
            "type": "scatter"
           }
          ],
          "scatter3d": [
           {
            "line": {
             "colorbar": {
              "outlinewidth": 0,
              "ticks": ""
             }
            },
            "marker": {
             "colorbar": {
              "outlinewidth": 0,
              "ticks": ""
             }
            },
            "type": "scatter3d"
           }
          ],
          "scattercarpet": [
           {
            "marker": {
             "colorbar": {
              "outlinewidth": 0,
              "ticks": ""
             }
            },
            "type": "scattercarpet"
           }
          ],
          "scattergeo": [
           {
            "marker": {
             "colorbar": {
              "outlinewidth": 0,
              "ticks": ""
             }
            },
            "type": "scattergeo"
           }
          ],
          "scattergl": [
           {
            "marker": {
             "colorbar": {
              "outlinewidth": 0,
              "ticks": ""
             }
            },
            "type": "scattergl"
           }
          ],
          "scattermapbox": [
           {
            "marker": {
             "colorbar": {
              "outlinewidth": 0,
              "ticks": ""
             }
            },
            "type": "scattermapbox"
           }
          ],
          "scatterpolar": [
           {
            "marker": {
             "colorbar": {
              "outlinewidth": 0,
              "ticks": ""
             }
            },
            "type": "scatterpolar"
           }
          ],
          "scatterpolargl": [
           {
            "marker": {
             "colorbar": {
              "outlinewidth": 0,
              "ticks": ""
             }
            },
            "type": "scatterpolargl"
           }
          ],
          "scatterternary": [
           {
            "marker": {
             "colorbar": {
              "outlinewidth": 0,
              "ticks": ""
             }
            },
            "type": "scatterternary"
           }
          ],
          "surface": [
           {
            "colorbar": {
             "outlinewidth": 0,
             "ticks": ""
            },
            "colorscale": [
             [
              0,
              "#0d0887"
             ],
             [
              0.1111111111111111,
              "#46039f"
             ],
             [
              0.2222222222222222,
              "#7201a8"
             ],
             [
              0.3333333333333333,
              "#9c179e"
             ],
             [
              0.4444444444444444,
              "#bd3786"
             ],
             [
              0.5555555555555556,
              "#d8576b"
             ],
             [
              0.6666666666666666,
              "#ed7953"
             ],
             [
              0.7777777777777778,
              "#fb9f3a"
             ],
             [
              0.8888888888888888,
              "#fdca26"
             ],
             [
              1,
              "#f0f921"
             ]
            ],
            "type": "surface"
           }
          ],
          "table": [
           {
            "cells": {
             "fill": {
              "color": "#EBF0F8"
             },
             "line": {
              "color": "white"
             }
            },
            "header": {
             "fill": {
              "color": "#C8D4E3"
             },
             "line": {
              "color": "white"
             }
            },
            "type": "table"
           }
          ]
         },
         "layout": {
          "annotationdefaults": {
           "arrowcolor": "#2a3f5f",
           "arrowhead": 0,
           "arrowwidth": 1
          },
          "autotypenumbers": "strict",
          "coloraxis": {
           "colorbar": {
            "outlinewidth": 0,
            "ticks": ""
           }
          },
          "colorscale": {
           "diverging": [
            [
             0,
             "#8e0152"
            ],
            [
             0.1,
             "#c51b7d"
            ],
            [
             0.2,
             "#de77ae"
            ],
            [
             0.3,
             "#f1b6da"
            ],
            [
             0.4,
             "#fde0ef"
            ],
            [
             0.5,
             "#f7f7f7"
            ],
            [
             0.6,
             "#e6f5d0"
            ],
            [
             0.7,
             "#b8e186"
            ],
            [
             0.8,
             "#7fbc41"
            ],
            [
             0.9,
             "#4d9221"
            ],
            [
             1,
             "#276419"
            ]
           ],
           "sequential": [
            [
             0,
             "#0d0887"
            ],
            [
             0.1111111111111111,
             "#46039f"
            ],
            [
             0.2222222222222222,
             "#7201a8"
            ],
            [
             0.3333333333333333,
             "#9c179e"
            ],
            [
             0.4444444444444444,
             "#bd3786"
            ],
            [
             0.5555555555555556,
             "#d8576b"
            ],
            [
             0.6666666666666666,
             "#ed7953"
            ],
            [
             0.7777777777777778,
             "#fb9f3a"
            ],
            [
             0.8888888888888888,
             "#fdca26"
            ],
            [
             1,
             "#f0f921"
            ]
           ],
           "sequentialminus": [
            [
             0,
             "#0d0887"
            ],
            [
             0.1111111111111111,
             "#46039f"
            ],
            [
             0.2222222222222222,
             "#7201a8"
            ],
            [
             0.3333333333333333,
             "#9c179e"
            ],
            [
             0.4444444444444444,
             "#bd3786"
            ],
            [
             0.5555555555555556,
             "#d8576b"
            ],
            [
             0.6666666666666666,
             "#ed7953"
            ],
            [
             0.7777777777777778,
             "#fb9f3a"
            ],
            [
             0.8888888888888888,
             "#fdca26"
            ],
            [
             1,
             "#f0f921"
            ]
           ]
          },
          "colorway": [
           "#636efa",
           "#EF553B",
           "#00cc96",
           "#ab63fa",
           "#FFA15A",
           "#19d3f3",
           "#FF6692",
           "#B6E880",
           "#FF97FF",
           "#FECB52"
          ],
          "font": {
           "color": "#2a3f5f"
          },
          "geo": {
           "bgcolor": "white",
           "lakecolor": "white",
           "landcolor": "#E5ECF6",
           "showlakes": true,
           "showland": true,
           "subunitcolor": "white"
          },
          "hoverlabel": {
           "align": "left"
          },
          "hovermode": "closest",
          "mapbox": {
           "style": "light"
          },
          "paper_bgcolor": "white",
          "plot_bgcolor": "#E5ECF6",
          "polar": {
           "angularaxis": {
            "gridcolor": "white",
            "linecolor": "white",
            "ticks": ""
           },
           "bgcolor": "#E5ECF6",
           "radialaxis": {
            "gridcolor": "white",
            "linecolor": "white",
            "ticks": ""
           }
          },
          "scene": {
           "xaxis": {
            "backgroundcolor": "#E5ECF6",
            "gridcolor": "white",
            "gridwidth": 2,
            "linecolor": "white",
            "showbackground": true,
            "ticks": "",
            "zerolinecolor": "white"
           },
           "yaxis": {
            "backgroundcolor": "#E5ECF6",
            "gridcolor": "white",
            "gridwidth": 2,
            "linecolor": "white",
            "showbackground": true,
            "ticks": "",
            "zerolinecolor": "white"
           },
           "zaxis": {
            "backgroundcolor": "#E5ECF6",
            "gridcolor": "white",
            "gridwidth": 2,
            "linecolor": "white",
            "showbackground": true,
            "ticks": "",
            "zerolinecolor": "white"
           }
          },
          "shapedefaults": {
           "line": {
            "color": "#2a3f5f"
           }
          },
          "ternary": {
           "aaxis": {
            "gridcolor": "white",
            "linecolor": "white",
            "ticks": ""
           },
           "baxis": {
            "gridcolor": "white",
            "linecolor": "white",
            "ticks": ""
           },
           "bgcolor": "#E5ECF6",
           "caxis": {
            "gridcolor": "white",
            "linecolor": "white",
            "ticks": ""
           }
          },
          "title": {
           "x": 0.05
          },
          "xaxis": {
           "automargin": true,
           "gridcolor": "white",
           "linecolor": "white",
           "ticks": "",
           "title": {
            "standoff": 15
           },
           "zerolinecolor": "white",
           "zerolinewidth": 2
          },
          "yaxis": {
           "automargin": true,
           "gridcolor": "white",
           "linecolor": "white",
           "ticks": "",
           "title": {
            "standoff": 15
           },
           "zerolinecolor": "white",
           "zerolinewidth": 2
          }
         }
        }
       }
      },
      "text/html": [
       "<div>                            <div id=\"c2c32afa-ef43-43c4-9b4b-d9f8439c1575\" class=\"plotly-graph-div\" style=\"height:525px; width:100%;\"></div>            <script type=\"text/javascript\">                require([\"plotly\"], function(Plotly) {                    window.PLOTLYENV=window.PLOTLYENV || {};                                    if (document.getElementById(\"c2c32afa-ef43-43c4-9b4b-d9f8439c1575\")) {                    Plotly.newPlot(                        \"c2c32afa-ef43-43c4-9b4b-d9f8439c1575\",                        [{\"marker\":{\"color\":[53.191489362,45.454545455,58.695652174,36.956521739,43.269230769,45.0,57.357357357,59.070191431,50.739957717,65.241295052,57.837837838,51.612903226,75.0,33.333333333,53.249475891,62.561576355,37.931034483,56.060606061,38.372093023,43.75,50.238095238,60.416666667,50.842696629,60.994764398,60.200668896,33.766233766,57.073954984,31.182795699,70.880587058,47.535211268,44.751381215,47.368421053,24.503311258,29.268292683,58.148274684,43.561643836,44.171779141,66.371681416,37.435897436,65.517241379,55.628415301,53.459119497,28.421052632,50.54200542,52.380952381,27.272727273,63.566535188,47.826086957,69.714285714,65.967365967,40.822467402,70.983213429,19.047619048,33.333333333,64.401294498,66.666666667,43.689320388,52.443384982,70.0,45.862884161,26.490066225,23.722627737,39.051094891,49.101796407,39.240506329,47.959183673,52.941176471,54.918032787,52.727272727,55.0,69.512195122,70.89678511,67.993273543,74.733096085,33.054393305,49.743589744,53.333333333,42.424242424,71.875],\"colorbar\":{\"title\":{\"text\":\"% Score 3-5\"}},\"colorscale\":[[0.0,\"rgb(0,0,255)\"],[1.0,\"rgb(255,0,0)\"]],\"showscale\":true,\"size\":7,\"symbol\":\"circle\"},\"mode\":\"markers\",\"name\":\"\",\"showlegend\":false,\"text\":[\"Alexander\",\"Anson\",\"Ashe\",\"Avery\",\"Beaufort\",\"Bladen\",\"Brunswick\",\"Buncombe\",\"Burke\",\"Cabarrus\",\"Caldwell\",\"Camden\",\"Carteret\",\"Caswell\",\"Catawba\",\"Chatham\",\"Cherokee\",\"Cleveland\",\"Columbus\",\"Craven\",\"Cumberland\",\"Currituck\",\"Dare\",\"Davidson\",\"Davie\",\"Duplin\",\"Durham\",\"Edgecombe\",\"Forsyth\",\"Franklin\",\"Gaston\",\"Graham\",\"Granville\",\"Greene\",\"Guilford\",\"Harnett\",\"Haywood\",\"Henderson\",\"Hoke\",\"Jackson\",\"Johnston\",\"Lee\",\"Lenoir\",\"Lincoln\",\"Macon\",\"Madison\",\"Mecklenburg\",\"Mitchell\",\"Moore\",\"New Hanover\",\"Onslow\",\"Orange\",\"Pamlico\",\"Pasquotank\",\"Pender\",\"Perquimans\",\"Person\",\"Pitt\",\"Polk\",\"Randolph\",\"Richmond\",\"Robeson\",\"Rockingham\",\"Rutherford\",\"Sampson\",\"Scotland\",\"Stanly\",\"Stokes\",\"Surry\",\"Swain\",\"Transylvania\",\"Union\",\"Wake\",\"Watauga\",\"Wayne\",\"Wilkes\",\"Wilson\",\"Yadkin\",\"Yancey\"],\"x\":[42020.0,42030.0,40730.0,40160.0,49640.0,43040.0,53840.0,52850.0,41100.0,49310.0,40100.0,52320.0,57420.0,38130.0,48940.0,70280.0,36540.0,40780.0,39750.0,49480.0,42550.0,52880.0,64540.0,43980.0,53010.0,44160.0,53970.0,40430.0,51670.0,41800.0,44810.0,39290.0,42700.0,35080.0,49900.0,39660.0,44880.0,48380.0,37580.0,40200.0,44940.0,44830.0,44710.0,51870.0,43930.0,39900.0,68550.0,40270.0,57370.0,54130.0,46780.0,72270.0,48840.0,42960.0,45160.0,46810.0,42300.0,48920.0,54920.0,41640.0,40260.0,37170.0,41380.0,38320.0,40820.0,37900.0,43160.0,41960.0,43040.0,44380.0,48330.0,58390.0,65720.0,43120.0,44190.0,41200.0,44620.0,41760.0,39420.0],\"y\":[53.2,45.5,58.7,37.0,43.3,45.0,57.4,59.1,50.7,65.2,57.8,51.6,75.0,33.3,53.2,62.6,37.9,56.1,38.4,43.8,50.2,60.4,50.8,61.0,60.2,33.8,57.1,31.2,70.9,47.5,44.8,47.4,24.5,29.3,58.1,43.6,44.2,66.4,37.4,65.5,55.6,53.5,28.4,50.5,52.4,27.3,63.6,47.8,69.7,66.0,40.8,71.0,19.0,33.3,64.4,66.7,43.7,52.4,70.0,45.9,26.5,23.7,39.1,49.1,39.2,48.0,52.9,54.9,52.7,55.0,69.5,70.9,68.0,74.7,33.1,49.7,53.3,42.4,71.9],\"type\":\"scatter\"}],                        {\"template\":{\"data\":{\"histogram2dcontour\":[{\"type\":\"histogram2dcontour\",\"colorbar\":{\"outlinewidth\":0,\"ticks\":\"\"},\"colorscale\":[[0.0,\"#0d0887\"],[0.1111111111111111,\"#46039f\"],[0.2222222222222222,\"#7201a8\"],[0.3333333333333333,\"#9c179e\"],[0.4444444444444444,\"#bd3786\"],[0.5555555555555556,\"#d8576b\"],[0.6666666666666666,\"#ed7953\"],[0.7777777777777778,\"#fb9f3a\"],[0.8888888888888888,\"#fdca26\"],[1.0,\"#f0f921\"]]}],\"choropleth\":[{\"type\":\"choropleth\",\"colorbar\":{\"outlinewidth\":0,\"ticks\":\"\"}}],\"histogram2d\":[{\"type\":\"histogram2d\",\"colorbar\":{\"outlinewidth\":0,\"ticks\":\"\"},\"colorscale\":[[0.0,\"#0d0887\"],[0.1111111111111111,\"#46039f\"],[0.2222222222222222,\"#7201a8\"],[0.3333333333333333,\"#9c179e\"],[0.4444444444444444,\"#bd3786\"],[0.5555555555555556,\"#d8576b\"],[0.6666666666666666,\"#ed7953\"],[0.7777777777777778,\"#fb9f3a\"],[0.8888888888888888,\"#fdca26\"],[1.0,\"#f0f921\"]]}],\"heatmap\":[{\"type\":\"heatmap\",\"colorbar\":{\"outlinewidth\":0,\"ticks\":\"\"},\"colorscale\":[[0.0,\"#0d0887\"],[0.1111111111111111,\"#46039f\"],[0.2222222222222222,\"#7201a8\"],[0.3333333333333333,\"#9c179e\"],[0.4444444444444444,\"#bd3786\"],[0.5555555555555556,\"#d8576b\"],[0.6666666666666666,\"#ed7953\"],[0.7777777777777778,\"#fb9f3a\"],[0.8888888888888888,\"#fdca26\"],[1.0,\"#f0f921\"]]}],\"heatmapgl\":[{\"type\":\"heatmapgl\",\"colorbar\":{\"outlinewidth\":0,\"ticks\":\"\"},\"colorscale\":[[0.0,\"#0d0887\"],[0.1111111111111111,\"#46039f\"],[0.2222222222222222,\"#7201a8\"],[0.3333333333333333,\"#9c179e\"],[0.4444444444444444,\"#bd3786\"],[0.5555555555555556,\"#d8576b\"],[0.6666666666666666,\"#ed7953\"],[0.7777777777777778,\"#fb9f3a\"],[0.8888888888888888,\"#fdca26\"],[1.0,\"#f0f921\"]]}],\"contourcarpet\":[{\"type\":\"contourcarpet\",\"colorbar\":{\"outlinewidth\":0,\"ticks\":\"\"}}],\"contour\":[{\"type\":\"contour\",\"colorbar\":{\"outlinewidth\":0,\"ticks\":\"\"},\"colorscale\":[[0.0,\"#0d0887\"],[0.1111111111111111,\"#46039f\"],[0.2222222222222222,\"#7201a8\"],[0.3333333333333333,\"#9c179e\"],[0.4444444444444444,\"#bd3786\"],[0.5555555555555556,\"#d8576b\"],[0.6666666666666666,\"#ed7953\"],[0.7777777777777778,\"#fb9f3a\"],[0.8888888888888888,\"#fdca26\"],[1.0,\"#f0f921\"]]}],\"surface\":[{\"type\":\"surface\",\"colorbar\":{\"outlinewidth\":0,\"ticks\":\"\"},\"colorscale\":[[0.0,\"#0d0887\"],[0.1111111111111111,\"#46039f\"],[0.2222222222222222,\"#7201a8\"],[0.3333333333333333,\"#9c179e\"],[0.4444444444444444,\"#bd3786\"],[0.5555555555555556,\"#d8576b\"],[0.6666666666666666,\"#ed7953\"],[0.7777777777777778,\"#fb9f3a\"],[0.8888888888888888,\"#fdca26\"],[1.0,\"#f0f921\"]]}],\"mesh3d\":[{\"type\":\"mesh3d\",\"colorbar\":{\"outlinewidth\":0,\"ticks\":\"\"}}],\"scatter\":[{\"fillpattern\":{\"fillmode\":\"overlay\",\"size\":10,\"solidity\":0.2},\"type\":\"scatter\"}],\"parcoords\":[{\"type\":\"parcoords\",\"line\":{\"colorbar\":{\"outlinewidth\":0,\"ticks\":\"\"}}}],\"scatterpolargl\":[{\"type\":\"scatterpolargl\",\"marker\":{\"colorbar\":{\"outlinewidth\":0,\"ticks\":\"\"}}}],\"bar\":[{\"error_x\":{\"color\":\"#2a3f5f\"},\"error_y\":{\"color\":\"#2a3f5f\"},\"marker\":{\"line\":{\"color\":\"#E5ECF6\",\"width\":0.5},\"pattern\":{\"fillmode\":\"overlay\",\"size\":10,\"solidity\":0.2}},\"type\":\"bar\"}],\"scattergeo\":[{\"type\":\"scattergeo\",\"marker\":{\"colorbar\":{\"outlinewidth\":0,\"ticks\":\"\"}}}],\"scatterpolar\":[{\"type\":\"scatterpolar\",\"marker\":{\"colorbar\":{\"outlinewidth\":0,\"ticks\":\"\"}}}],\"histogram\":[{\"marker\":{\"pattern\":{\"fillmode\":\"overlay\",\"size\":10,\"solidity\":0.2}},\"type\":\"histogram\"}],\"scattergl\":[{\"type\":\"scattergl\",\"marker\":{\"colorbar\":{\"outlinewidth\":0,\"ticks\":\"\"}}}],\"scatter3d\":[{\"type\":\"scatter3d\",\"line\":{\"colorbar\":{\"outlinewidth\":0,\"ticks\":\"\"}},\"marker\":{\"colorbar\":{\"outlinewidth\":0,\"ticks\":\"\"}}}],\"scattermapbox\":[{\"type\":\"scattermapbox\",\"marker\":{\"colorbar\":{\"outlinewidth\":0,\"ticks\":\"\"}}}],\"scatterternary\":[{\"type\":\"scatterternary\",\"marker\":{\"colorbar\":{\"outlinewidth\":0,\"ticks\":\"\"}}}],\"scattercarpet\":[{\"type\":\"scattercarpet\",\"marker\":{\"colorbar\":{\"outlinewidth\":0,\"ticks\":\"\"}}}],\"carpet\":[{\"aaxis\":{\"endlinecolor\":\"#2a3f5f\",\"gridcolor\":\"white\",\"linecolor\":\"white\",\"minorgridcolor\":\"white\",\"startlinecolor\":\"#2a3f5f\"},\"baxis\":{\"endlinecolor\":\"#2a3f5f\",\"gridcolor\":\"white\",\"linecolor\":\"white\",\"minorgridcolor\":\"white\",\"startlinecolor\":\"#2a3f5f\"},\"type\":\"carpet\"}],\"table\":[{\"cells\":{\"fill\":{\"color\":\"#EBF0F8\"},\"line\":{\"color\":\"white\"}},\"header\":{\"fill\":{\"color\":\"#C8D4E3\"},\"line\":{\"color\":\"white\"}},\"type\":\"table\"}],\"barpolar\":[{\"marker\":{\"line\":{\"color\":\"#E5ECF6\",\"width\":0.5},\"pattern\":{\"fillmode\":\"overlay\",\"size\":10,\"solidity\":0.2}},\"type\":\"barpolar\"}],\"pie\":[{\"automargin\":true,\"type\":\"pie\"}]},\"layout\":{\"autotypenumbers\":\"strict\",\"colorway\":[\"#636efa\",\"#EF553B\",\"#00cc96\",\"#ab63fa\",\"#FFA15A\",\"#19d3f3\",\"#FF6692\",\"#B6E880\",\"#FF97FF\",\"#FECB52\"],\"font\":{\"color\":\"#2a3f5f\"},\"hovermode\":\"closest\",\"hoverlabel\":{\"align\":\"left\"},\"paper_bgcolor\":\"white\",\"plot_bgcolor\":\"#E5ECF6\",\"polar\":{\"bgcolor\":\"#E5ECF6\",\"angularaxis\":{\"gridcolor\":\"white\",\"linecolor\":\"white\",\"ticks\":\"\"},\"radialaxis\":{\"gridcolor\":\"white\",\"linecolor\":\"white\",\"ticks\":\"\"}},\"ternary\":{\"bgcolor\":\"#E5ECF6\",\"aaxis\":{\"gridcolor\":\"white\",\"linecolor\":\"white\",\"ticks\":\"\"},\"baxis\":{\"gridcolor\":\"white\",\"linecolor\":\"white\",\"ticks\":\"\"},\"caxis\":{\"gridcolor\":\"white\",\"linecolor\":\"white\",\"ticks\":\"\"}},\"coloraxis\":{\"colorbar\":{\"outlinewidth\":0,\"ticks\":\"\"}},\"colorscale\":{\"sequential\":[[0.0,\"#0d0887\"],[0.1111111111111111,\"#46039f\"],[0.2222222222222222,\"#7201a8\"],[0.3333333333333333,\"#9c179e\"],[0.4444444444444444,\"#bd3786\"],[0.5555555555555556,\"#d8576b\"],[0.6666666666666666,\"#ed7953\"],[0.7777777777777778,\"#fb9f3a\"],[0.8888888888888888,\"#fdca26\"],[1.0,\"#f0f921\"]],\"sequentialminus\":[[0.0,\"#0d0887\"],[0.1111111111111111,\"#46039f\"],[0.2222222222222222,\"#7201a8\"],[0.3333333333333333,\"#9c179e\"],[0.4444444444444444,\"#bd3786\"],[0.5555555555555556,\"#d8576b\"],[0.6666666666666666,\"#ed7953\"],[0.7777777777777778,\"#fb9f3a\"],[0.8888888888888888,\"#fdca26\"],[1.0,\"#f0f921\"]],\"diverging\":[[0,\"#8e0152\"],[0.1,\"#c51b7d\"],[0.2,\"#de77ae\"],[0.3,\"#f1b6da\"],[0.4,\"#fde0ef\"],[0.5,\"#f7f7f7\"],[0.6,\"#e6f5d0\"],[0.7,\"#b8e186\"],[0.8,\"#7fbc41\"],[0.9,\"#4d9221\"],[1,\"#276419\"]]},\"xaxis\":{\"gridcolor\":\"white\",\"linecolor\":\"white\",\"ticks\":\"\",\"title\":{\"standoff\":15},\"zerolinecolor\":\"white\",\"automargin\":true,\"zerolinewidth\":2},\"yaxis\":{\"gridcolor\":\"white\",\"linecolor\":\"white\",\"ticks\":\"\",\"title\":{\"standoff\":15},\"zerolinecolor\":\"white\",\"automargin\":true,\"zerolinewidth\":2},\"scene\":{\"xaxis\":{\"backgroundcolor\":\"#E5ECF6\",\"gridcolor\":\"white\",\"linecolor\":\"white\",\"showbackground\":true,\"ticks\":\"\",\"zerolinecolor\":\"white\",\"gridwidth\":2},\"yaxis\":{\"backgroundcolor\":\"#E5ECF6\",\"gridcolor\":\"white\",\"linecolor\":\"white\",\"showbackground\":true,\"ticks\":\"\",\"zerolinecolor\":\"white\",\"gridwidth\":2},\"zaxis\":{\"backgroundcolor\":\"#E5ECF6\",\"gridcolor\":\"white\",\"linecolor\":\"white\",\"showbackground\":true,\"ticks\":\"\",\"zerolinecolor\":\"white\",\"gridwidth\":2}},\"shapedefaults\":{\"line\":{\"color\":\"#2a3f5f\"}},\"annotationdefaults\":{\"arrowcolor\":\"#2a3f5f\",\"arrowhead\":0,\"arrowwidth\":1},\"geo\":{\"bgcolor\":\"white\",\"landcolor\":\"#E5ECF6\",\"subunitcolor\":\"white\",\"showland\":true,\"showlakes\":true,\"lakecolor\":\"white\"},\"title\":{\"x\":0.05},\"mapbox\":{\"style\":\"light\"}}}},                        {\"responsive\": true}                    ).then(function(){\n",
       "                            \n",
       "var gd = document.getElementById('c2c32afa-ef43-43c4-9b4b-d9f8439c1575');\n",
       "var x = new MutationObserver(function (mutations, observer) {{\n",
       "        var display = window.getComputedStyle(gd).display;\n",
       "        if (!display || display === 'none') {{\n",
       "            console.log([gd, 'removed!']);\n",
       "            Plotly.purge(gd);\n",
       "            observer.disconnect();\n",
       "        }}\n",
       "}});\n",
       "\n",
       "// Listen for the removal of the full notebook cells\n",
       "var notebookContainer = gd.closest('#notebook-container');\n",
       "if (notebookContainer) {{\n",
       "    x.observe(notebookContainer, {childList: true});\n",
       "}}\n",
       "\n",
       "// Listen for the clearing of the current output cell\n",
       "var outputEl = gd.closest('.output');\n",
       "if (outputEl) {{\n",
       "    x.observe(outputEl, {childList: true});\n",
       "}}\n",
       "\n",
       "                        })                };                });            </script>        </div>"
      ]
     },
     "metadata": {},
     "output_type": "display_data"
    }
   ],
   "source": [
    "# Ensure no missing values and correct numeric types\n",
    "northcarolina20 = northcarolina20.dropna(subset=['PERCENT_3_OR_ABOVE'])\n",
    "northcarolina20 = northcarolina20.dropna(subset=['per_capita_income'])\n",
    "northcarolina20['PERCENT_3_OR_ABOVE'] = pd.to_numeric(northcarolina20['PERCENT_3_OR_ABOVE'], errors='coerce')\n",
    "\n",
    "# Create the scatter plot\n",
    "fig = go.Figure(data=go.Scatter(\n",
    "    x=np.round(northcarolina20['per_capita_income'], decimals=-1),\n",
    "    y=np.round(northcarolina20['PERCENT_3_OR_ABOVE'], decimals=1),\n",
    "    mode='markers',\n",
    "    marker=dict(\n",
    "        size=7,\n",
    "        color=northcarolina20['PERCENT_3_OR_ABOVE'],  # Use numeric values for color\n",
    "        colorscale='Bluered',  # Define the color scale\n",
    "        symbol='circle',\n",
    "        showscale=True,\n",
    "        colorbar=dict(title='% Score 3-5'),\n",
    "    ),\n",
    "    showlegend=False,\n",
    "    text=northcarolina20['County'],\n",
    "    name=''\n",
    "))\n",
    "\n",
    "# Display the plot\n",
    "fig.show()"
   ]
  },
  {
   "cell_type": "code",
   "execution_count": 35,
   "id": "dd964b8a-9b66-4753-a0a9-621e4f2a6c82",
   "metadata": {},
   "outputs": [
    {
     "data": {
      "application/vnd.plotly.v1+json": {
       "config": {
        "plotlyServerURL": "https://plot.ly"
       },
       "data": [
        {
         "marker": {
          "color": [
           53.191489362,
           45.454545455,
           58.695652174,
           36.956521739,
           43.269230769,
           45,
           57.357357357,
           59.070191431,
           50.739957717,
           65.241295052,
           57.837837838,
           51.612903226,
           75,
           33.333333333,
           53.249475891,
           62.561576355,
           37.931034483,
           56.060606061,
           38.372093023,
           43.75,
           50.238095238,
           60.416666667,
           50.842696629,
           60.994764398,
           60.200668896,
           33.766233766,
           57.073954984,
           31.182795699,
           70.880587058,
           47.535211268,
           44.751381215,
           47.368421053,
           24.503311258,
           29.268292683,
           58.148274684,
           43.561643836,
           44.171779141,
           66.371681416,
           37.435897436,
           65.517241379,
           55.628415301,
           53.459119497,
           28.421052632,
           50.54200542,
           52.380952381,
           27.272727273,
           63.566535188,
           47.826086957,
           69.714285714,
           65.967365967,
           40.822467402,
           70.983213429,
           19.047619048,
           33.333333333,
           64.401294498,
           66.666666667,
           43.689320388,
           52.443384982,
           70,
           45.862884161,
           26.490066225,
           23.722627737,
           39.051094891,
           49.101796407,
           39.240506329,
           47.959183673,
           52.941176471,
           54.918032787,
           52.727272727,
           55,
           69.512195122,
           70.89678511,
           67.993273543,
           74.733096085,
           33.054393305,
           49.743589744,
           53.333333333,
           42.424242424,
           71.875
          ],
          "colorbar": {
           "title": {
            "text": "% Score 3-5"
           }
          },
          "colorscale": [
           [
            0,
            "rgb(0,0,255)"
           ],
           [
            1,
            "rgb(255,0,0)"
           ]
          ],
          "showscale": true,
          "size": 7,
          "symbol": "circle"
         },
         "mode": "markers",
         "name": "",
         "showlegend": false,
         "text": [
          "Alexander",
          "Anson",
          "Ashe",
          "Avery",
          "Beaufort",
          "Bladen",
          "Brunswick",
          "Buncombe",
          "Burke",
          "Cabarrus",
          "Caldwell",
          "Camden",
          "Carteret",
          "Caswell",
          "Catawba",
          "Chatham",
          "Cherokee",
          "Cleveland",
          "Columbus",
          "Craven",
          "Cumberland",
          "Currituck",
          "Dare",
          "Davidson",
          "Davie",
          "Duplin",
          "Durham",
          "Edgecombe",
          "Forsyth",
          "Franklin",
          "Gaston",
          "Graham",
          "Granville",
          "Greene",
          "Guilford",
          "Harnett",
          "Haywood",
          "Henderson",
          "Hoke",
          "Jackson",
          "Johnston",
          "Lee",
          "Lenoir",
          "Lincoln",
          "Macon",
          "Madison",
          "Mecklenburg",
          "Mitchell",
          "Moore",
          "New Hanover",
          "Onslow",
          "Orange",
          "Pamlico",
          "Pasquotank",
          "Pender",
          "Perquimans",
          "Person",
          "Pitt",
          "Polk",
          "Randolph",
          "Richmond",
          "Robeson",
          "Rockingham",
          "Rutherford",
          "Sampson",
          "Scotland",
          "Stanly",
          "Stokes",
          "Surry",
          "Swain",
          "Transylvania",
          "Union",
          "Wake",
          "Watauga",
          "Wayne",
          "Wilkes",
          "Wilson",
          "Yadkin",
          "Yancey"
         ],
         "type": "scatter",
         "x": [
          42020,
          42030,
          40730,
          40160,
          49640,
          43040,
          53840,
          52850,
          41100,
          49310,
          40100,
          52320,
          57420,
          38130,
          48940,
          70280,
          36540,
          40780,
          39750,
          49480,
          42550,
          52880,
          64540,
          43980,
          53010,
          44160,
          53970,
          40430,
          51670,
          41800,
          44810,
          39290,
          42700,
          35080,
          49900,
          39660,
          44880,
          48380,
          37580,
          40200,
          44940,
          44830,
          44710,
          51870,
          43930,
          39900,
          68550,
          40270,
          57370,
          54130,
          46780,
          72270,
          48840,
          42960,
          45160,
          46810,
          42300,
          48920,
          54920,
          41640,
          40260,
          37170,
          41380,
          38320,
          40820,
          37900,
          43160,
          41960,
          43040,
          44380,
          48330,
          58390,
          65720,
          43120,
          44190,
          41200,
          44620,
          41760,
          39420
         ],
         "y": [
          53.2,
          45.5,
          58.7,
          37,
          43.3,
          45,
          57.4,
          59.1,
          50.7,
          65.2,
          57.8,
          51.6,
          75,
          33.3,
          53.2,
          62.6,
          37.9,
          56.1,
          38.4,
          43.8,
          50.2,
          60.4,
          50.8,
          61,
          60.2,
          33.8,
          57.1,
          31.2,
          70.9,
          47.5,
          44.8,
          47.4,
          24.5,
          29.3,
          58.1,
          43.6,
          44.2,
          66.4,
          37.4,
          65.5,
          55.6,
          53.5,
          28.4,
          50.5,
          52.4,
          27.3,
          63.6,
          47.8,
          69.7,
          66,
          40.8,
          71,
          19,
          33.3,
          64.4,
          66.7,
          43.7,
          52.4,
          70,
          45.9,
          26.5,
          23.7,
          39.1,
          49.1,
          39.2,
          48,
          52.9,
          54.9,
          52.7,
          55,
          69.5,
          70.9,
          68,
          74.7,
          33.1,
          49.7,
          53.3,
          42.4,
          71.9
         ]
        }
       ],
       "layout": {
        "template": {
         "data": {
          "bar": [
           {
            "error_x": {
             "color": "#2a3f5f"
            },
            "error_y": {
             "color": "#2a3f5f"
            },
            "marker": {
             "line": {
              "color": "#E5ECF6",
              "width": 0.5
             },
             "pattern": {
              "fillmode": "overlay",
              "size": 10,
              "solidity": 0.2
             }
            },
            "type": "bar"
           }
          ],
          "barpolar": [
           {
            "marker": {
             "line": {
              "color": "#E5ECF6",
              "width": 0.5
             },
             "pattern": {
              "fillmode": "overlay",
              "size": 10,
              "solidity": 0.2
             }
            },
            "type": "barpolar"
           }
          ],
          "carpet": [
           {
            "aaxis": {
             "endlinecolor": "#2a3f5f",
             "gridcolor": "white",
             "linecolor": "white",
             "minorgridcolor": "white",
             "startlinecolor": "#2a3f5f"
            },
            "baxis": {
             "endlinecolor": "#2a3f5f",
             "gridcolor": "white",
             "linecolor": "white",
             "minorgridcolor": "white",
             "startlinecolor": "#2a3f5f"
            },
            "type": "carpet"
           }
          ],
          "choropleth": [
           {
            "colorbar": {
             "outlinewidth": 0,
             "ticks": ""
            },
            "type": "choropleth"
           }
          ],
          "contour": [
           {
            "colorbar": {
             "outlinewidth": 0,
             "ticks": ""
            },
            "colorscale": [
             [
              0,
              "#0d0887"
             ],
             [
              0.1111111111111111,
              "#46039f"
             ],
             [
              0.2222222222222222,
              "#7201a8"
             ],
             [
              0.3333333333333333,
              "#9c179e"
             ],
             [
              0.4444444444444444,
              "#bd3786"
             ],
             [
              0.5555555555555556,
              "#d8576b"
             ],
             [
              0.6666666666666666,
              "#ed7953"
             ],
             [
              0.7777777777777778,
              "#fb9f3a"
             ],
             [
              0.8888888888888888,
              "#fdca26"
             ],
             [
              1,
              "#f0f921"
             ]
            ],
            "type": "contour"
           }
          ],
          "contourcarpet": [
           {
            "colorbar": {
             "outlinewidth": 0,
             "ticks": ""
            },
            "type": "contourcarpet"
           }
          ],
          "heatmap": [
           {
            "colorbar": {
             "outlinewidth": 0,
             "ticks": ""
            },
            "colorscale": [
             [
              0,
              "#0d0887"
             ],
             [
              0.1111111111111111,
              "#46039f"
             ],
             [
              0.2222222222222222,
              "#7201a8"
             ],
             [
              0.3333333333333333,
              "#9c179e"
             ],
             [
              0.4444444444444444,
              "#bd3786"
             ],
             [
              0.5555555555555556,
              "#d8576b"
             ],
             [
              0.6666666666666666,
              "#ed7953"
             ],
             [
              0.7777777777777778,
              "#fb9f3a"
             ],
             [
              0.8888888888888888,
              "#fdca26"
             ],
             [
              1,
              "#f0f921"
             ]
            ],
            "type": "heatmap"
           }
          ],
          "heatmapgl": [
           {
            "colorbar": {
             "outlinewidth": 0,
             "ticks": ""
            },
            "colorscale": [
             [
              0,
              "#0d0887"
             ],
             [
              0.1111111111111111,
              "#46039f"
             ],
             [
              0.2222222222222222,
              "#7201a8"
             ],
             [
              0.3333333333333333,
              "#9c179e"
             ],
             [
              0.4444444444444444,
              "#bd3786"
             ],
             [
              0.5555555555555556,
              "#d8576b"
             ],
             [
              0.6666666666666666,
              "#ed7953"
             ],
             [
              0.7777777777777778,
              "#fb9f3a"
             ],
             [
              0.8888888888888888,
              "#fdca26"
             ],
             [
              1,
              "#f0f921"
             ]
            ],
            "type": "heatmapgl"
           }
          ],
          "histogram": [
           {
            "marker": {
             "pattern": {
              "fillmode": "overlay",
              "size": 10,
              "solidity": 0.2
             }
            },
            "type": "histogram"
           }
          ],
          "histogram2d": [
           {
            "colorbar": {
             "outlinewidth": 0,
             "ticks": ""
            },
            "colorscale": [
             [
              0,
              "#0d0887"
             ],
             [
              0.1111111111111111,
              "#46039f"
             ],
             [
              0.2222222222222222,
              "#7201a8"
             ],
             [
              0.3333333333333333,
              "#9c179e"
             ],
             [
              0.4444444444444444,
              "#bd3786"
             ],
             [
              0.5555555555555556,
              "#d8576b"
             ],
             [
              0.6666666666666666,
              "#ed7953"
             ],
             [
              0.7777777777777778,
              "#fb9f3a"
             ],
             [
              0.8888888888888888,
              "#fdca26"
             ],
             [
              1,
              "#f0f921"
             ]
            ],
            "type": "histogram2d"
           }
          ],
          "histogram2dcontour": [
           {
            "colorbar": {
             "outlinewidth": 0,
             "ticks": ""
            },
            "colorscale": [
             [
              0,
              "#0d0887"
             ],
             [
              0.1111111111111111,
              "#46039f"
             ],
             [
              0.2222222222222222,
              "#7201a8"
             ],
             [
              0.3333333333333333,
              "#9c179e"
             ],
             [
              0.4444444444444444,
              "#bd3786"
             ],
             [
              0.5555555555555556,
              "#d8576b"
             ],
             [
              0.6666666666666666,
              "#ed7953"
             ],
             [
              0.7777777777777778,
              "#fb9f3a"
             ],
             [
              0.8888888888888888,
              "#fdca26"
             ],
             [
              1,
              "#f0f921"
             ]
            ],
            "type": "histogram2dcontour"
           }
          ],
          "mesh3d": [
           {
            "colorbar": {
             "outlinewidth": 0,
             "ticks": ""
            },
            "type": "mesh3d"
           }
          ],
          "parcoords": [
           {
            "line": {
             "colorbar": {
              "outlinewidth": 0,
              "ticks": ""
             }
            },
            "type": "parcoords"
           }
          ],
          "pie": [
           {
            "automargin": true,
            "type": "pie"
           }
          ],
          "scatter": [
           {
            "fillpattern": {
             "fillmode": "overlay",
             "size": 10,
             "solidity": 0.2
            },
            "type": "scatter"
           }
          ],
          "scatter3d": [
           {
            "line": {
             "colorbar": {
              "outlinewidth": 0,
              "ticks": ""
             }
            },
            "marker": {
             "colorbar": {
              "outlinewidth": 0,
              "ticks": ""
             }
            },
            "type": "scatter3d"
           }
          ],
          "scattercarpet": [
           {
            "marker": {
             "colorbar": {
              "outlinewidth": 0,
              "ticks": ""
             }
            },
            "type": "scattercarpet"
           }
          ],
          "scattergeo": [
           {
            "marker": {
             "colorbar": {
              "outlinewidth": 0,
              "ticks": ""
             }
            },
            "type": "scattergeo"
           }
          ],
          "scattergl": [
           {
            "marker": {
             "colorbar": {
              "outlinewidth": 0,
              "ticks": ""
             }
            },
            "type": "scattergl"
           }
          ],
          "scattermapbox": [
           {
            "marker": {
             "colorbar": {
              "outlinewidth": 0,
              "ticks": ""
             }
            },
            "type": "scattermapbox"
           }
          ],
          "scatterpolar": [
           {
            "marker": {
             "colorbar": {
              "outlinewidth": 0,
              "ticks": ""
             }
            },
            "type": "scatterpolar"
           }
          ],
          "scatterpolargl": [
           {
            "marker": {
             "colorbar": {
              "outlinewidth": 0,
              "ticks": ""
             }
            },
            "type": "scatterpolargl"
           }
          ],
          "scatterternary": [
           {
            "marker": {
             "colorbar": {
              "outlinewidth": 0,
              "ticks": ""
             }
            },
            "type": "scatterternary"
           }
          ],
          "surface": [
           {
            "colorbar": {
             "outlinewidth": 0,
             "ticks": ""
            },
            "colorscale": [
             [
              0,
              "#0d0887"
             ],
             [
              0.1111111111111111,
              "#46039f"
             ],
             [
              0.2222222222222222,
              "#7201a8"
             ],
             [
              0.3333333333333333,
              "#9c179e"
             ],
             [
              0.4444444444444444,
              "#bd3786"
             ],
             [
              0.5555555555555556,
              "#d8576b"
             ],
             [
              0.6666666666666666,
              "#ed7953"
             ],
             [
              0.7777777777777778,
              "#fb9f3a"
             ],
             [
              0.8888888888888888,
              "#fdca26"
             ],
             [
              1,
              "#f0f921"
             ]
            ],
            "type": "surface"
           }
          ],
          "table": [
           {
            "cells": {
             "fill": {
              "color": "#EBF0F8"
             },
             "line": {
              "color": "white"
             }
            },
            "header": {
             "fill": {
              "color": "#C8D4E3"
             },
             "line": {
              "color": "white"
             }
            },
            "type": "table"
           }
          ]
         },
         "layout": {
          "annotationdefaults": {
           "arrowcolor": "#2a3f5f",
           "arrowhead": 0,
           "arrowwidth": 1
          },
          "autotypenumbers": "strict",
          "coloraxis": {
           "colorbar": {
            "outlinewidth": 0,
            "ticks": ""
           }
          },
          "colorscale": {
           "diverging": [
            [
             0,
             "#8e0152"
            ],
            [
             0.1,
             "#c51b7d"
            ],
            [
             0.2,
             "#de77ae"
            ],
            [
             0.3,
             "#f1b6da"
            ],
            [
             0.4,
             "#fde0ef"
            ],
            [
             0.5,
             "#f7f7f7"
            ],
            [
             0.6,
             "#e6f5d0"
            ],
            [
             0.7,
             "#b8e186"
            ],
            [
             0.8,
             "#7fbc41"
            ],
            [
             0.9,
             "#4d9221"
            ],
            [
             1,
             "#276419"
            ]
           ],
           "sequential": [
            [
             0,
             "#0d0887"
            ],
            [
             0.1111111111111111,
             "#46039f"
            ],
            [
             0.2222222222222222,
             "#7201a8"
            ],
            [
             0.3333333333333333,
             "#9c179e"
            ],
            [
             0.4444444444444444,
             "#bd3786"
            ],
            [
             0.5555555555555556,
             "#d8576b"
            ],
            [
             0.6666666666666666,
             "#ed7953"
            ],
            [
             0.7777777777777778,
             "#fb9f3a"
            ],
            [
             0.8888888888888888,
             "#fdca26"
            ],
            [
             1,
             "#f0f921"
            ]
           ],
           "sequentialminus": [
            [
             0,
             "#0d0887"
            ],
            [
             0.1111111111111111,
             "#46039f"
            ],
            [
             0.2222222222222222,
             "#7201a8"
            ],
            [
             0.3333333333333333,
             "#9c179e"
            ],
            [
             0.4444444444444444,
             "#bd3786"
            ],
            [
             0.5555555555555556,
             "#d8576b"
            ],
            [
             0.6666666666666666,
             "#ed7953"
            ],
            [
             0.7777777777777778,
             "#fb9f3a"
            ],
            [
             0.8888888888888888,
             "#fdca26"
            ],
            [
             1,
             "#f0f921"
            ]
           ]
          },
          "colorway": [
           "#636efa",
           "#EF553B",
           "#00cc96",
           "#ab63fa",
           "#FFA15A",
           "#19d3f3",
           "#FF6692",
           "#B6E880",
           "#FF97FF",
           "#FECB52"
          ],
          "font": {
           "color": "#2a3f5f"
          },
          "geo": {
           "bgcolor": "white",
           "lakecolor": "white",
           "landcolor": "#E5ECF6",
           "showlakes": true,
           "showland": true,
           "subunitcolor": "white"
          },
          "hoverlabel": {
           "align": "left"
          },
          "hovermode": "closest",
          "mapbox": {
           "style": "light"
          },
          "paper_bgcolor": "white",
          "plot_bgcolor": "#E5ECF6",
          "polar": {
           "angularaxis": {
            "gridcolor": "white",
            "linecolor": "white",
            "ticks": ""
           },
           "bgcolor": "#E5ECF6",
           "radialaxis": {
            "gridcolor": "white",
            "linecolor": "white",
            "ticks": ""
           }
          },
          "scene": {
           "xaxis": {
            "backgroundcolor": "#E5ECF6",
            "gridcolor": "white",
            "gridwidth": 2,
            "linecolor": "white",
            "showbackground": true,
            "ticks": "",
            "zerolinecolor": "white"
           },
           "yaxis": {
            "backgroundcolor": "#E5ECF6",
            "gridcolor": "white",
            "gridwidth": 2,
            "linecolor": "white",
            "showbackground": true,
            "ticks": "",
            "zerolinecolor": "white"
           },
           "zaxis": {
            "backgroundcolor": "#E5ECF6",
            "gridcolor": "white",
            "gridwidth": 2,
            "linecolor": "white",
            "showbackground": true,
            "ticks": "",
            "zerolinecolor": "white"
           }
          },
          "shapedefaults": {
           "line": {
            "color": "#2a3f5f"
           }
          },
          "ternary": {
           "aaxis": {
            "gridcolor": "white",
            "linecolor": "white",
            "ticks": ""
           },
           "baxis": {
            "gridcolor": "white",
            "linecolor": "white",
            "ticks": ""
           },
           "bgcolor": "#E5ECF6",
           "caxis": {
            "gridcolor": "white",
            "linecolor": "white",
            "ticks": ""
           }
          },
          "title": {
           "x": 0.05
          },
          "xaxis": {
           "automargin": true,
           "gridcolor": "white",
           "linecolor": "white",
           "ticks": "",
           "title": {
            "standoff": 15
           },
           "zerolinecolor": "white",
           "zerolinewidth": 2
          },
          "yaxis": {
           "automargin": true,
           "gridcolor": "white",
           "linecolor": "white",
           "ticks": "",
           "title": {
            "standoff": 15
           },
           "zerolinecolor": "white",
           "zerolinewidth": 2
          }
         }
        }
       }
      },
      "text/html": [
       "<div>                            <div id=\"2cd182f4-8d33-4101-83f0-ecd6708fcbc2\" class=\"plotly-graph-div\" style=\"height:525px; width:100%;\"></div>            <script type=\"text/javascript\">                require([\"plotly\"], function(Plotly) {                    window.PLOTLYENV=window.PLOTLYENV || {};                                    if (document.getElementById(\"2cd182f4-8d33-4101-83f0-ecd6708fcbc2\")) {                    Plotly.newPlot(                        \"2cd182f4-8d33-4101-83f0-ecd6708fcbc2\",                        [{\"marker\":{\"color\":[53.191489362,45.454545455,58.695652174,36.956521739,43.269230769,45.0,57.357357357,59.070191431,50.739957717,65.241295052,57.837837838,51.612903226,75.0,33.333333333,53.249475891,62.561576355,37.931034483,56.060606061,38.372093023,43.75,50.238095238,60.416666667,50.842696629,60.994764398,60.200668896,33.766233766,57.073954984,31.182795699,70.880587058,47.535211268,44.751381215,47.368421053,24.503311258,29.268292683,58.148274684,43.561643836,44.171779141,66.371681416,37.435897436,65.517241379,55.628415301,53.459119497,28.421052632,50.54200542,52.380952381,27.272727273,63.566535188,47.826086957,69.714285714,65.967365967,40.822467402,70.983213429,19.047619048,33.333333333,64.401294498,66.666666667,43.689320388,52.443384982,70.0,45.862884161,26.490066225,23.722627737,39.051094891,49.101796407,39.240506329,47.959183673,52.941176471,54.918032787,52.727272727,55.0,69.512195122,70.89678511,67.993273543,74.733096085,33.054393305,49.743589744,53.333333333,42.424242424,71.875],\"colorbar\":{\"title\":{\"text\":\"% Score 3-5\"}},\"colorscale\":[[0.0,\"rgb(0,0,255)\"],[1.0,\"rgb(255,0,0)\"]],\"showscale\":true,\"size\":7,\"symbol\":\"circle\"},\"mode\":\"markers\",\"name\":\"\",\"showlegend\":false,\"text\":[\"Alexander\",\"Anson\",\"Ashe\",\"Avery\",\"Beaufort\",\"Bladen\",\"Brunswick\",\"Buncombe\",\"Burke\",\"Cabarrus\",\"Caldwell\",\"Camden\",\"Carteret\",\"Caswell\",\"Catawba\",\"Chatham\",\"Cherokee\",\"Cleveland\",\"Columbus\",\"Craven\",\"Cumberland\",\"Currituck\",\"Dare\",\"Davidson\",\"Davie\",\"Duplin\",\"Durham\",\"Edgecombe\",\"Forsyth\",\"Franklin\",\"Gaston\",\"Graham\",\"Granville\",\"Greene\",\"Guilford\",\"Harnett\",\"Haywood\",\"Henderson\",\"Hoke\",\"Jackson\",\"Johnston\",\"Lee\",\"Lenoir\",\"Lincoln\",\"Macon\",\"Madison\",\"Mecklenburg\",\"Mitchell\",\"Moore\",\"New Hanover\",\"Onslow\",\"Orange\",\"Pamlico\",\"Pasquotank\",\"Pender\",\"Perquimans\",\"Person\",\"Pitt\",\"Polk\",\"Randolph\",\"Richmond\",\"Robeson\",\"Rockingham\",\"Rutherford\",\"Sampson\",\"Scotland\",\"Stanly\",\"Stokes\",\"Surry\",\"Swain\",\"Transylvania\",\"Union\",\"Wake\",\"Watauga\",\"Wayne\",\"Wilkes\",\"Wilson\",\"Yadkin\",\"Yancey\"],\"x\":[42020.0,42030.0,40730.0,40160.0,49640.0,43040.0,53840.0,52850.0,41100.0,49310.0,40100.0,52320.0,57420.0,38130.0,48940.0,70280.0,36540.0,40780.0,39750.0,49480.0,42550.0,52880.0,64540.0,43980.0,53010.0,44160.0,53970.0,40430.0,51670.0,41800.0,44810.0,39290.0,42700.0,35080.0,49900.0,39660.0,44880.0,48380.0,37580.0,40200.0,44940.0,44830.0,44710.0,51870.0,43930.0,39900.0,68550.0,40270.0,57370.0,54130.0,46780.0,72270.0,48840.0,42960.0,45160.0,46810.0,42300.0,48920.0,54920.0,41640.0,40260.0,37170.0,41380.0,38320.0,40820.0,37900.0,43160.0,41960.0,43040.0,44380.0,48330.0,58390.0,65720.0,43120.0,44190.0,41200.0,44620.0,41760.0,39420.0],\"y\":[53.2,45.5,58.7,37.0,43.3,45.0,57.4,59.1,50.7,65.2,57.8,51.6,75.0,33.3,53.2,62.6,37.9,56.1,38.4,43.8,50.2,60.4,50.8,61.0,60.2,33.8,57.1,31.2,70.9,47.5,44.8,47.4,24.5,29.3,58.1,43.6,44.2,66.4,37.4,65.5,55.6,53.5,28.4,50.5,52.4,27.3,63.6,47.8,69.7,66.0,40.8,71.0,19.0,33.3,64.4,66.7,43.7,52.4,70.0,45.9,26.5,23.7,39.1,49.1,39.2,48.0,52.9,54.9,52.7,55.0,69.5,70.9,68.0,74.7,33.1,49.7,53.3,42.4,71.9],\"type\":\"scatter\"}],                        {\"template\":{\"data\":{\"histogram2dcontour\":[{\"type\":\"histogram2dcontour\",\"colorbar\":{\"outlinewidth\":0,\"ticks\":\"\"},\"colorscale\":[[0.0,\"#0d0887\"],[0.1111111111111111,\"#46039f\"],[0.2222222222222222,\"#7201a8\"],[0.3333333333333333,\"#9c179e\"],[0.4444444444444444,\"#bd3786\"],[0.5555555555555556,\"#d8576b\"],[0.6666666666666666,\"#ed7953\"],[0.7777777777777778,\"#fb9f3a\"],[0.8888888888888888,\"#fdca26\"],[1.0,\"#f0f921\"]]}],\"choropleth\":[{\"type\":\"choropleth\",\"colorbar\":{\"outlinewidth\":0,\"ticks\":\"\"}}],\"histogram2d\":[{\"type\":\"histogram2d\",\"colorbar\":{\"outlinewidth\":0,\"ticks\":\"\"},\"colorscale\":[[0.0,\"#0d0887\"],[0.1111111111111111,\"#46039f\"],[0.2222222222222222,\"#7201a8\"],[0.3333333333333333,\"#9c179e\"],[0.4444444444444444,\"#bd3786\"],[0.5555555555555556,\"#d8576b\"],[0.6666666666666666,\"#ed7953\"],[0.7777777777777778,\"#fb9f3a\"],[0.8888888888888888,\"#fdca26\"],[1.0,\"#f0f921\"]]}],\"heatmap\":[{\"type\":\"heatmap\",\"colorbar\":{\"outlinewidth\":0,\"ticks\":\"\"},\"colorscale\":[[0.0,\"#0d0887\"],[0.1111111111111111,\"#46039f\"],[0.2222222222222222,\"#7201a8\"],[0.3333333333333333,\"#9c179e\"],[0.4444444444444444,\"#bd3786\"],[0.5555555555555556,\"#d8576b\"],[0.6666666666666666,\"#ed7953\"],[0.7777777777777778,\"#fb9f3a\"],[0.8888888888888888,\"#fdca26\"],[1.0,\"#f0f921\"]]}],\"heatmapgl\":[{\"type\":\"heatmapgl\",\"colorbar\":{\"outlinewidth\":0,\"ticks\":\"\"},\"colorscale\":[[0.0,\"#0d0887\"],[0.1111111111111111,\"#46039f\"],[0.2222222222222222,\"#7201a8\"],[0.3333333333333333,\"#9c179e\"],[0.4444444444444444,\"#bd3786\"],[0.5555555555555556,\"#d8576b\"],[0.6666666666666666,\"#ed7953\"],[0.7777777777777778,\"#fb9f3a\"],[0.8888888888888888,\"#fdca26\"],[1.0,\"#f0f921\"]]}],\"contourcarpet\":[{\"type\":\"contourcarpet\",\"colorbar\":{\"outlinewidth\":0,\"ticks\":\"\"}}],\"contour\":[{\"type\":\"contour\",\"colorbar\":{\"outlinewidth\":0,\"ticks\":\"\"},\"colorscale\":[[0.0,\"#0d0887\"],[0.1111111111111111,\"#46039f\"],[0.2222222222222222,\"#7201a8\"],[0.3333333333333333,\"#9c179e\"],[0.4444444444444444,\"#bd3786\"],[0.5555555555555556,\"#d8576b\"],[0.6666666666666666,\"#ed7953\"],[0.7777777777777778,\"#fb9f3a\"],[0.8888888888888888,\"#fdca26\"],[1.0,\"#f0f921\"]]}],\"surface\":[{\"type\":\"surface\",\"colorbar\":{\"outlinewidth\":0,\"ticks\":\"\"},\"colorscale\":[[0.0,\"#0d0887\"],[0.1111111111111111,\"#46039f\"],[0.2222222222222222,\"#7201a8\"],[0.3333333333333333,\"#9c179e\"],[0.4444444444444444,\"#bd3786\"],[0.5555555555555556,\"#d8576b\"],[0.6666666666666666,\"#ed7953\"],[0.7777777777777778,\"#fb9f3a\"],[0.8888888888888888,\"#fdca26\"],[1.0,\"#f0f921\"]]}],\"mesh3d\":[{\"type\":\"mesh3d\",\"colorbar\":{\"outlinewidth\":0,\"ticks\":\"\"}}],\"scatter\":[{\"fillpattern\":{\"fillmode\":\"overlay\",\"size\":10,\"solidity\":0.2},\"type\":\"scatter\"}],\"parcoords\":[{\"type\":\"parcoords\",\"line\":{\"colorbar\":{\"outlinewidth\":0,\"ticks\":\"\"}}}],\"scatterpolargl\":[{\"type\":\"scatterpolargl\",\"marker\":{\"colorbar\":{\"outlinewidth\":0,\"ticks\":\"\"}}}],\"bar\":[{\"error_x\":{\"color\":\"#2a3f5f\"},\"error_y\":{\"color\":\"#2a3f5f\"},\"marker\":{\"line\":{\"color\":\"#E5ECF6\",\"width\":0.5},\"pattern\":{\"fillmode\":\"overlay\",\"size\":10,\"solidity\":0.2}},\"type\":\"bar\"}],\"scattergeo\":[{\"type\":\"scattergeo\",\"marker\":{\"colorbar\":{\"outlinewidth\":0,\"ticks\":\"\"}}}],\"scatterpolar\":[{\"type\":\"scatterpolar\",\"marker\":{\"colorbar\":{\"outlinewidth\":0,\"ticks\":\"\"}}}],\"histogram\":[{\"marker\":{\"pattern\":{\"fillmode\":\"overlay\",\"size\":10,\"solidity\":0.2}},\"type\":\"histogram\"}],\"scattergl\":[{\"type\":\"scattergl\",\"marker\":{\"colorbar\":{\"outlinewidth\":0,\"ticks\":\"\"}}}],\"scatter3d\":[{\"type\":\"scatter3d\",\"line\":{\"colorbar\":{\"outlinewidth\":0,\"ticks\":\"\"}},\"marker\":{\"colorbar\":{\"outlinewidth\":0,\"ticks\":\"\"}}}],\"scattermapbox\":[{\"type\":\"scattermapbox\",\"marker\":{\"colorbar\":{\"outlinewidth\":0,\"ticks\":\"\"}}}],\"scatterternary\":[{\"type\":\"scatterternary\",\"marker\":{\"colorbar\":{\"outlinewidth\":0,\"ticks\":\"\"}}}],\"scattercarpet\":[{\"type\":\"scattercarpet\",\"marker\":{\"colorbar\":{\"outlinewidth\":0,\"ticks\":\"\"}}}],\"carpet\":[{\"aaxis\":{\"endlinecolor\":\"#2a3f5f\",\"gridcolor\":\"white\",\"linecolor\":\"white\",\"minorgridcolor\":\"white\",\"startlinecolor\":\"#2a3f5f\"},\"baxis\":{\"endlinecolor\":\"#2a3f5f\",\"gridcolor\":\"white\",\"linecolor\":\"white\",\"minorgridcolor\":\"white\",\"startlinecolor\":\"#2a3f5f\"},\"type\":\"carpet\"}],\"table\":[{\"cells\":{\"fill\":{\"color\":\"#EBF0F8\"},\"line\":{\"color\":\"white\"}},\"header\":{\"fill\":{\"color\":\"#C8D4E3\"},\"line\":{\"color\":\"white\"}},\"type\":\"table\"}],\"barpolar\":[{\"marker\":{\"line\":{\"color\":\"#E5ECF6\",\"width\":0.5},\"pattern\":{\"fillmode\":\"overlay\",\"size\":10,\"solidity\":0.2}},\"type\":\"barpolar\"}],\"pie\":[{\"automargin\":true,\"type\":\"pie\"}]},\"layout\":{\"autotypenumbers\":\"strict\",\"colorway\":[\"#636efa\",\"#EF553B\",\"#00cc96\",\"#ab63fa\",\"#FFA15A\",\"#19d3f3\",\"#FF6692\",\"#B6E880\",\"#FF97FF\",\"#FECB52\"],\"font\":{\"color\":\"#2a3f5f\"},\"hovermode\":\"closest\",\"hoverlabel\":{\"align\":\"left\"},\"paper_bgcolor\":\"white\",\"plot_bgcolor\":\"#E5ECF6\",\"polar\":{\"bgcolor\":\"#E5ECF6\",\"angularaxis\":{\"gridcolor\":\"white\",\"linecolor\":\"white\",\"ticks\":\"\"},\"radialaxis\":{\"gridcolor\":\"white\",\"linecolor\":\"white\",\"ticks\":\"\"}},\"ternary\":{\"bgcolor\":\"#E5ECF6\",\"aaxis\":{\"gridcolor\":\"white\",\"linecolor\":\"white\",\"ticks\":\"\"},\"baxis\":{\"gridcolor\":\"white\",\"linecolor\":\"white\",\"ticks\":\"\"},\"caxis\":{\"gridcolor\":\"white\",\"linecolor\":\"white\",\"ticks\":\"\"}},\"coloraxis\":{\"colorbar\":{\"outlinewidth\":0,\"ticks\":\"\"}},\"colorscale\":{\"sequential\":[[0.0,\"#0d0887\"],[0.1111111111111111,\"#46039f\"],[0.2222222222222222,\"#7201a8\"],[0.3333333333333333,\"#9c179e\"],[0.4444444444444444,\"#bd3786\"],[0.5555555555555556,\"#d8576b\"],[0.6666666666666666,\"#ed7953\"],[0.7777777777777778,\"#fb9f3a\"],[0.8888888888888888,\"#fdca26\"],[1.0,\"#f0f921\"]],\"sequentialminus\":[[0.0,\"#0d0887\"],[0.1111111111111111,\"#46039f\"],[0.2222222222222222,\"#7201a8\"],[0.3333333333333333,\"#9c179e\"],[0.4444444444444444,\"#bd3786\"],[0.5555555555555556,\"#d8576b\"],[0.6666666666666666,\"#ed7953\"],[0.7777777777777778,\"#fb9f3a\"],[0.8888888888888888,\"#fdca26\"],[1.0,\"#f0f921\"]],\"diverging\":[[0,\"#8e0152\"],[0.1,\"#c51b7d\"],[0.2,\"#de77ae\"],[0.3,\"#f1b6da\"],[0.4,\"#fde0ef\"],[0.5,\"#f7f7f7\"],[0.6,\"#e6f5d0\"],[0.7,\"#b8e186\"],[0.8,\"#7fbc41\"],[0.9,\"#4d9221\"],[1,\"#276419\"]]},\"xaxis\":{\"gridcolor\":\"white\",\"linecolor\":\"white\",\"ticks\":\"\",\"title\":{\"standoff\":15},\"zerolinecolor\":\"white\",\"automargin\":true,\"zerolinewidth\":2},\"yaxis\":{\"gridcolor\":\"white\",\"linecolor\":\"white\",\"ticks\":\"\",\"title\":{\"standoff\":15},\"zerolinecolor\":\"white\",\"automargin\":true,\"zerolinewidth\":2},\"scene\":{\"xaxis\":{\"backgroundcolor\":\"#E5ECF6\",\"gridcolor\":\"white\",\"linecolor\":\"white\",\"showbackground\":true,\"ticks\":\"\",\"zerolinecolor\":\"white\",\"gridwidth\":2},\"yaxis\":{\"backgroundcolor\":\"#E5ECF6\",\"gridcolor\":\"white\",\"linecolor\":\"white\",\"showbackground\":true,\"ticks\":\"\",\"zerolinecolor\":\"white\",\"gridwidth\":2},\"zaxis\":{\"backgroundcolor\":\"#E5ECF6\",\"gridcolor\":\"white\",\"linecolor\":\"white\",\"showbackground\":true,\"ticks\":\"\",\"zerolinecolor\":\"white\",\"gridwidth\":2}},\"shapedefaults\":{\"line\":{\"color\":\"#2a3f5f\"}},\"annotationdefaults\":{\"arrowcolor\":\"#2a3f5f\",\"arrowhead\":0,\"arrowwidth\":1},\"geo\":{\"bgcolor\":\"white\",\"landcolor\":\"#E5ECF6\",\"subunitcolor\":\"white\",\"showland\":true,\"showlakes\":true,\"lakecolor\":\"white\"},\"title\":{\"x\":0.05},\"mapbox\":{\"style\":\"light\"}}}},                        {\"responsive\": true}                    ).then(function(){\n",
       "                            \n",
       "var gd = document.getElementById('2cd182f4-8d33-4101-83f0-ecd6708fcbc2');\n",
       "var x = new MutationObserver(function (mutations, observer) {{\n",
       "        var display = window.getComputedStyle(gd).display;\n",
       "        if (!display || display === 'none') {{\n",
       "            console.log([gd, 'removed!']);\n",
       "            Plotly.purge(gd);\n",
       "            observer.disconnect();\n",
       "        }}\n",
       "}});\n",
       "\n",
       "// Listen for the removal of the full notebook cells\n",
       "var notebookContainer = gd.closest('#notebook-container');\n",
       "if (notebookContainer) {{\n",
       "    x.observe(notebookContainer, {childList: true});\n",
       "}}\n",
       "\n",
       "// Listen for the clearing of the current output cell\n",
       "var outputEl = gd.closest('.output');\n",
       "if (outputEl) {{\n",
       "    x.observe(outputEl, {childList: true});\n",
       "}}\n",
       "\n",
       "                        })                };                });            </script>        </div>"
      ]
     },
     "metadata": {},
     "output_type": "display_data"
    }
   ],
   "source": [
    "fig = go.Figure(data=go.Scatter(\n",
    "    x=np.round(northcarolina20['per_capita_income'], decimals=-1),\n",
    "    y=np.round(northcarolina20['PERCENT_3_OR_ABOVE'], decimals=1),\n",
    "    mode='markers',\n",
    "    marker=dict(\n",
    "        size=7,\n",
    "        color=northcarolina20['PERCENT_3_OR_ABOVE'],\n",
    "        colorscale='Bluered',\n",
    "        symbol='circle',\n",
    "        showscale=True,\n",
    "        colorbar=dict(title='% Score 3-5'),\n",
    "    ),\n",
    "    showlegend=False,\n",
    "    text=northcarolina20['County'],\n",
    "    name=''))\n",
    "fig.show()"
   ]
  },
  {
   "cell_type": "code",
   "execution_count": 36,
   "id": "999a5d57-ee5e-4704-8ff0-3ac74a527ef6",
   "metadata": {},
   "outputs": [],
   "source": [
    "# Replace '*' with zero in the entire DataFrame\n",
    "northcarolina20 = northcarolina20.replace('*', 0)\n",
    "# Replace NaN values with zero\n",
    "northcarolina20 = northcarolina20.fillna(0)"
   ]
  },
  {
   "cell_type": "code",
   "execution_count": 37,
   "id": "af47c296-e94f-406b-990c-6e0d13723077",
   "metadata": {},
   "outputs": [
    {
     "data": {
      "application/vnd.plotly.v1+json": {
       "config": {
        "plotlyServerURL": "https://plot.ly"
       },
       "data": [
        {
         "hovertemplate": "per_capita_income=%{x}<br>PERCENT_3_OR_ABOVE=%{marker.color}<extra></extra>",
         "legendgroup": "",
         "marker": {
          "color": [
           53.191489362,
           45.454545455,
           58.695652174,
           36.956521739,
           43.269230769,
           45,
           57.357357357,
           59.070191431,
           50.739957717,
           65.241295052,
           57.837837838,
           51.612903226,
           75,
           33.333333333,
           53.249475891,
           62.561576355,
           37.931034483,
           56.060606061,
           38.372093023,
           43.75,
           50.238095238,
           60.416666667,
           50.842696629,
           60.994764398,
           60.200668896,
           33.766233766,
           57.073954984,
           31.182795699,
           70.880587058,
           47.535211268,
           44.751381215,
           47.368421053,
           24.503311258,
           29.268292683,
           58.148274684,
           43.561643836,
           44.171779141,
           66.371681416,
           37.435897436,
           65.517241379,
           55.628415301,
           53.459119497,
           28.421052632,
           50.54200542,
           52.380952381,
           27.272727273,
           63.566535188,
           47.826086957,
           69.714285714,
           65.967365967,
           40.822467402,
           70.983213429,
           19.047619048,
           33.333333333,
           64.401294498,
           66.666666667,
           43.689320388,
           52.443384982,
           70,
           45.862884161,
           26.490066225,
           23.722627737,
           39.051094891,
           49.101796407,
           39.240506329,
           47.959183673,
           52.941176471,
           54.918032787,
           52.727272727,
           55,
           69.512195122,
           70.89678511,
           67.993273543,
           74.733096085,
           33.054393305,
           49.743589744,
           53.333333333,
           42.424242424,
           71.875
          ],
          "coloraxis": "coloraxis",
          "symbol": "circle"
         },
         "mode": "markers",
         "name": "",
         "orientation": "v",
         "showlegend": false,
         "type": "scatter",
         "x": [
          42020,
          42032,
          40730,
          40161,
          49644,
          43041,
          53840,
          52847,
          41095,
          49313,
          40096,
          52318,
          57425,
          38126,
          48940,
          70275,
          36538,
          40777,
          39746,
          49475,
          42554,
          52882,
          64544,
          43984,
          53010,
          44157,
          53973,
          40426,
          51667,
          41803,
          44808,
          39293,
          42701,
          35078,
          49900,
          39664,
          44882,
          48378,
          37583,
          40196,
          44945,
          44833,
          44714,
          51873,
          43926,
          39905,
          68546,
          40269,
          57370,
          54128,
          46781,
          72271,
          48844,
          42956,
          45161,
          46806,
          42300,
          48920,
          54915,
          41641,
          40265,
          37167,
          41380,
          38322,
          40816,
          37902,
          43161,
          41963,
          43044,
          44375,
          48333,
          58390,
          65717,
          43123,
          44189,
          41195,
          44619,
          41757,
          39418
         ],
         "xaxis": "x",
         "y": [
          53.191489362,
          45.454545455,
          58.695652174,
          36.956521739,
          43.269230769,
          45,
          57.357357357,
          59.070191431,
          50.739957717,
          65.241295052,
          57.837837838,
          51.612903226,
          75,
          33.333333333,
          53.249475891,
          62.561576355,
          37.931034483,
          56.060606061,
          38.372093023,
          43.75,
          50.238095238,
          60.416666667,
          50.842696629,
          60.994764398,
          60.200668896,
          33.766233766,
          57.073954984,
          31.182795699,
          70.880587058,
          47.535211268,
          44.751381215,
          47.368421053,
          24.503311258,
          29.268292683,
          58.148274684,
          43.561643836,
          44.171779141,
          66.371681416,
          37.435897436,
          65.517241379,
          55.628415301,
          53.459119497,
          28.421052632,
          50.54200542,
          52.380952381,
          27.272727273,
          63.566535188,
          47.826086957,
          69.714285714,
          65.967365967,
          40.822467402,
          70.983213429,
          19.047619048,
          33.333333333,
          64.401294498,
          66.666666667,
          43.689320388,
          52.443384982,
          70,
          45.862884161,
          26.490066225,
          23.722627737,
          39.051094891,
          49.101796407,
          39.240506329,
          47.959183673,
          52.941176471,
          54.918032787,
          52.727272727,
          55,
          69.512195122,
          70.89678511,
          67.993273543,
          74.733096085,
          33.054393305,
          49.743589744,
          53.333333333,
          42.424242424,
          71.875
         ],
         "yaxis": "y"
        },
        {
         "hovertemplate": "<b>LOWESS trendline</b><br><br>per_capita_income=%{x}<br>PERCENT_3_OR_ABOVE=%{y} <b>(trend)</b><extra></extra>",
         "legendgroup": "",
         "line": {
          "color": "darkblue"
         },
         "marker": {
          "symbol": "circle"
         },
         "mode": "lines",
         "name": "",
         "showlegend": false,
         "type": "scatter",
         "x": [
          35078,
          36538,
          37167,
          37583,
          37902,
          38126,
          38322,
          39293,
          39418,
          39664,
          39746,
          39905,
          40096,
          40161,
          40196,
          40265,
          40269,
          40426,
          40730,
          40777,
          40816,
          41095,
          41195,
          41380,
          41641,
          41757,
          41803,
          41963,
          42020,
          42032,
          42300,
          42554,
          42701,
          42956,
          43041,
          43044,
          43123,
          43161,
          43926,
          43984,
          44157,
          44189,
          44375,
          44619,
          44714,
          44808,
          44833,
          44882,
          44945,
          45161,
          46781,
          46806,
          48333,
          48378,
          48844,
          48920,
          48940,
          49313,
          49475,
          49644,
          49900,
          51667,
          51873,
          52318,
          52847,
          52882,
          53010,
          53840,
          53973,
          54128,
          54915,
          57370,
          57425,
          58390,
          64544,
          65717,
          68546,
          70275,
          72271
         ],
         "xaxis": "x",
         "y": [
          33.099206124324816,
          36.30341313077665,
          37.641899482685965,
          38.513627835555795,
          39.17652614860265,
          39.64008199977927,
          40.044731137443634,
          42.04172291258315,
          42.29771473256641,
          42.79966963837548,
          42.96612119428543,
          43.28694859477991,
          43.667612611824346,
          43.79560242430408,
          43.86412393607385,
          43.99830131314423,
          44.00604004112275,
          44.305842636033695,
          44.85949205655296,
          44.941560153823076,
          45.00897048542785,
          45.43238320673184,
          45.56892047772284,
          45.8214320079639,
          46.17796727311796,
          46.34414482595175,
          46.41322499163224,
          46.64876010783564,
          46.730687689395076,
          46.747791577120445,
          47.115597858043685,
          47.44068680805253,
          47.62186519677213,
          47.95391637660475,
          48.069320919876134,
          48.073080068802,
          48.1722655082478,
          48.2201153776435,
          49.38272441631056,
          49.465414177972406,
          49.71391220560605,
          49.760241426609014,
          50.034095258564115,
          50.554681049685634,
          50.73548029061349,
          50.90860077749257,
          50.95853906641072,
          51.04967071123485,
          51.1542673714461,
          51.43138982034358,
          53.110605612557194,
          53.133017545972315,
          54.585041611365966,
          54.63379484116988,
          55.172762903402614,
          55.26439682241314,
          55.28860964655328,
          55.755144087309944,
          55.956166301239655,
          56.17368739578819,
          56.51508781607962,
          59.23854743099747,
          59.56294250801631,
          60.25869684503294,
          61.07744183406169,
          61.12986413225266,
          61.31798432185664,
          62.481642837589334,
          62.62649017128244,
          62.77295808576718,
          63.19599076754076,
          63.273367840984896,
          63.264455928523816,
          63.187080075998125,
          65.05908598071412,
          65.46462571923362,
          66.36318214140911,
          66.86195431409482,
          67.4049281019485
         ],
         "yaxis": "y"
        }
       ],
       "layout": {
        "coloraxis": {
         "colorbar": {
          "title": {
           "text": "PERCENT_3_OR_ABOVE"
          }
         },
         "colorscale": [
          [
           0,
           "#0d0887"
          ],
          [
           0.1111111111111111,
           "#46039f"
          ],
          [
           0.2222222222222222,
           "#7201a8"
          ],
          [
           0.3333333333333333,
           "#9c179e"
          ],
          [
           0.4444444444444444,
           "#bd3786"
          ],
          [
           0.5555555555555556,
           "#d8576b"
          ],
          [
           0.6666666666666666,
           "#ed7953"
          ],
          [
           0.7777777777777778,
           "#fb9f3a"
          ],
          [
           0.8888888888888888,
           "#fdca26"
          ],
          [
           1,
           "#f0f921"
          ]
         ]
        },
        "height": 600,
        "legend": {
         "tracegroupgap": 0
        },
        "template": {
         "data": {
          "bar": [
           {
            "error_x": {
             "color": "#2a3f5f"
            },
            "error_y": {
             "color": "#2a3f5f"
            },
            "marker": {
             "line": {
              "color": "#E5ECF6",
              "width": 0.5
             },
             "pattern": {
              "fillmode": "overlay",
              "size": 10,
              "solidity": 0.2
             }
            },
            "type": "bar"
           }
          ],
          "barpolar": [
           {
            "marker": {
             "line": {
              "color": "#E5ECF6",
              "width": 0.5
             },
             "pattern": {
              "fillmode": "overlay",
              "size": 10,
              "solidity": 0.2
             }
            },
            "type": "barpolar"
           }
          ],
          "carpet": [
           {
            "aaxis": {
             "endlinecolor": "#2a3f5f",
             "gridcolor": "white",
             "linecolor": "white",
             "minorgridcolor": "white",
             "startlinecolor": "#2a3f5f"
            },
            "baxis": {
             "endlinecolor": "#2a3f5f",
             "gridcolor": "white",
             "linecolor": "white",
             "minorgridcolor": "white",
             "startlinecolor": "#2a3f5f"
            },
            "type": "carpet"
           }
          ],
          "choropleth": [
           {
            "colorbar": {
             "outlinewidth": 0,
             "ticks": ""
            },
            "type": "choropleth"
           }
          ],
          "contour": [
           {
            "colorbar": {
             "outlinewidth": 0,
             "ticks": ""
            },
            "colorscale": [
             [
              0,
              "#0d0887"
             ],
             [
              0.1111111111111111,
              "#46039f"
             ],
             [
              0.2222222222222222,
              "#7201a8"
             ],
             [
              0.3333333333333333,
              "#9c179e"
             ],
             [
              0.4444444444444444,
              "#bd3786"
             ],
             [
              0.5555555555555556,
              "#d8576b"
             ],
             [
              0.6666666666666666,
              "#ed7953"
             ],
             [
              0.7777777777777778,
              "#fb9f3a"
             ],
             [
              0.8888888888888888,
              "#fdca26"
             ],
             [
              1,
              "#f0f921"
             ]
            ],
            "type": "contour"
           }
          ],
          "contourcarpet": [
           {
            "colorbar": {
             "outlinewidth": 0,
             "ticks": ""
            },
            "type": "contourcarpet"
           }
          ],
          "heatmap": [
           {
            "colorbar": {
             "outlinewidth": 0,
             "ticks": ""
            },
            "colorscale": [
             [
              0,
              "#0d0887"
             ],
             [
              0.1111111111111111,
              "#46039f"
             ],
             [
              0.2222222222222222,
              "#7201a8"
             ],
             [
              0.3333333333333333,
              "#9c179e"
             ],
             [
              0.4444444444444444,
              "#bd3786"
             ],
             [
              0.5555555555555556,
              "#d8576b"
             ],
             [
              0.6666666666666666,
              "#ed7953"
             ],
             [
              0.7777777777777778,
              "#fb9f3a"
             ],
             [
              0.8888888888888888,
              "#fdca26"
             ],
             [
              1,
              "#f0f921"
             ]
            ],
            "type": "heatmap"
           }
          ],
          "heatmapgl": [
           {
            "colorbar": {
             "outlinewidth": 0,
             "ticks": ""
            },
            "colorscale": [
             [
              0,
              "#0d0887"
             ],
             [
              0.1111111111111111,
              "#46039f"
             ],
             [
              0.2222222222222222,
              "#7201a8"
             ],
             [
              0.3333333333333333,
              "#9c179e"
             ],
             [
              0.4444444444444444,
              "#bd3786"
             ],
             [
              0.5555555555555556,
              "#d8576b"
             ],
             [
              0.6666666666666666,
              "#ed7953"
             ],
             [
              0.7777777777777778,
              "#fb9f3a"
             ],
             [
              0.8888888888888888,
              "#fdca26"
             ],
             [
              1,
              "#f0f921"
             ]
            ],
            "type": "heatmapgl"
           }
          ],
          "histogram": [
           {
            "marker": {
             "pattern": {
              "fillmode": "overlay",
              "size": 10,
              "solidity": 0.2
             }
            },
            "type": "histogram"
           }
          ],
          "histogram2d": [
           {
            "colorbar": {
             "outlinewidth": 0,
             "ticks": ""
            },
            "colorscale": [
             [
              0,
              "#0d0887"
             ],
             [
              0.1111111111111111,
              "#46039f"
             ],
             [
              0.2222222222222222,
              "#7201a8"
             ],
             [
              0.3333333333333333,
              "#9c179e"
             ],
             [
              0.4444444444444444,
              "#bd3786"
             ],
             [
              0.5555555555555556,
              "#d8576b"
             ],
             [
              0.6666666666666666,
              "#ed7953"
             ],
             [
              0.7777777777777778,
              "#fb9f3a"
             ],
             [
              0.8888888888888888,
              "#fdca26"
             ],
             [
              1,
              "#f0f921"
             ]
            ],
            "type": "histogram2d"
           }
          ],
          "histogram2dcontour": [
           {
            "colorbar": {
             "outlinewidth": 0,
             "ticks": ""
            },
            "colorscale": [
             [
              0,
              "#0d0887"
             ],
             [
              0.1111111111111111,
              "#46039f"
             ],
             [
              0.2222222222222222,
              "#7201a8"
             ],
             [
              0.3333333333333333,
              "#9c179e"
             ],
             [
              0.4444444444444444,
              "#bd3786"
             ],
             [
              0.5555555555555556,
              "#d8576b"
             ],
             [
              0.6666666666666666,
              "#ed7953"
             ],
             [
              0.7777777777777778,
              "#fb9f3a"
             ],
             [
              0.8888888888888888,
              "#fdca26"
             ],
             [
              1,
              "#f0f921"
             ]
            ],
            "type": "histogram2dcontour"
           }
          ],
          "mesh3d": [
           {
            "colorbar": {
             "outlinewidth": 0,
             "ticks": ""
            },
            "type": "mesh3d"
           }
          ],
          "parcoords": [
           {
            "line": {
             "colorbar": {
              "outlinewidth": 0,
              "ticks": ""
             }
            },
            "type": "parcoords"
           }
          ],
          "pie": [
           {
            "automargin": true,
            "type": "pie"
           }
          ],
          "scatter": [
           {
            "fillpattern": {
             "fillmode": "overlay",
             "size": 10,
             "solidity": 0.2
            },
            "type": "scatter"
           }
          ],
          "scatter3d": [
           {
            "line": {
             "colorbar": {
              "outlinewidth": 0,
              "ticks": ""
             }
            },
            "marker": {
             "colorbar": {
              "outlinewidth": 0,
              "ticks": ""
             }
            },
            "type": "scatter3d"
           }
          ],
          "scattercarpet": [
           {
            "marker": {
             "colorbar": {
              "outlinewidth": 0,
              "ticks": ""
             }
            },
            "type": "scattercarpet"
           }
          ],
          "scattergeo": [
           {
            "marker": {
             "colorbar": {
              "outlinewidth": 0,
              "ticks": ""
             }
            },
            "type": "scattergeo"
           }
          ],
          "scattergl": [
           {
            "marker": {
             "colorbar": {
              "outlinewidth": 0,
              "ticks": ""
             }
            },
            "type": "scattergl"
           }
          ],
          "scattermapbox": [
           {
            "marker": {
             "colorbar": {
              "outlinewidth": 0,
              "ticks": ""
             }
            },
            "type": "scattermapbox"
           }
          ],
          "scatterpolar": [
           {
            "marker": {
             "colorbar": {
              "outlinewidth": 0,
              "ticks": ""
             }
            },
            "type": "scatterpolar"
           }
          ],
          "scatterpolargl": [
           {
            "marker": {
             "colorbar": {
              "outlinewidth": 0,
              "ticks": ""
             }
            },
            "type": "scatterpolargl"
           }
          ],
          "scatterternary": [
           {
            "marker": {
             "colorbar": {
              "outlinewidth": 0,
              "ticks": ""
             }
            },
            "type": "scatterternary"
           }
          ],
          "surface": [
           {
            "colorbar": {
             "outlinewidth": 0,
             "ticks": ""
            },
            "colorscale": [
             [
              0,
              "#0d0887"
             ],
             [
              0.1111111111111111,
              "#46039f"
             ],
             [
              0.2222222222222222,
              "#7201a8"
             ],
             [
              0.3333333333333333,
              "#9c179e"
             ],
             [
              0.4444444444444444,
              "#bd3786"
             ],
             [
              0.5555555555555556,
              "#d8576b"
             ],
             [
              0.6666666666666666,
              "#ed7953"
             ],
             [
              0.7777777777777778,
              "#fb9f3a"
             ],
             [
              0.8888888888888888,
              "#fdca26"
             ],
             [
              1,
              "#f0f921"
             ]
            ],
            "type": "surface"
           }
          ],
          "table": [
           {
            "cells": {
             "fill": {
              "color": "#EBF0F8"
             },
             "line": {
              "color": "white"
             }
            },
            "header": {
             "fill": {
              "color": "#C8D4E3"
             },
             "line": {
              "color": "white"
             }
            },
            "type": "table"
           }
          ]
         },
         "layout": {
          "annotationdefaults": {
           "arrowcolor": "#2a3f5f",
           "arrowhead": 0,
           "arrowwidth": 1
          },
          "autotypenumbers": "strict",
          "coloraxis": {
           "colorbar": {
            "outlinewidth": 0,
            "ticks": ""
           }
          },
          "colorscale": {
           "diverging": [
            [
             0,
             "#8e0152"
            ],
            [
             0.1,
             "#c51b7d"
            ],
            [
             0.2,
             "#de77ae"
            ],
            [
             0.3,
             "#f1b6da"
            ],
            [
             0.4,
             "#fde0ef"
            ],
            [
             0.5,
             "#f7f7f7"
            ],
            [
             0.6,
             "#e6f5d0"
            ],
            [
             0.7,
             "#b8e186"
            ],
            [
             0.8,
             "#7fbc41"
            ],
            [
             0.9,
             "#4d9221"
            ],
            [
             1,
             "#276419"
            ]
           ],
           "sequential": [
            [
             0,
             "#0d0887"
            ],
            [
             0.1111111111111111,
             "#46039f"
            ],
            [
             0.2222222222222222,
             "#7201a8"
            ],
            [
             0.3333333333333333,
             "#9c179e"
            ],
            [
             0.4444444444444444,
             "#bd3786"
            ],
            [
             0.5555555555555556,
             "#d8576b"
            ],
            [
             0.6666666666666666,
             "#ed7953"
            ],
            [
             0.7777777777777778,
             "#fb9f3a"
            ],
            [
             0.8888888888888888,
             "#fdca26"
            ],
            [
             1,
             "#f0f921"
            ]
           ],
           "sequentialminus": [
            [
             0,
             "#0d0887"
            ],
            [
             0.1111111111111111,
             "#46039f"
            ],
            [
             0.2222222222222222,
             "#7201a8"
            ],
            [
             0.3333333333333333,
             "#9c179e"
            ],
            [
             0.4444444444444444,
             "#bd3786"
            ],
            [
             0.5555555555555556,
             "#d8576b"
            ],
            [
             0.6666666666666666,
             "#ed7953"
            ],
            [
             0.7777777777777778,
             "#fb9f3a"
            ],
            [
             0.8888888888888888,
             "#fdca26"
            ],
            [
             1,
             "#f0f921"
            ]
           ]
          },
          "colorway": [
           "#636efa",
           "#EF553B",
           "#00cc96",
           "#ab63fa",
           "#FFA15A",
           "#19d3f3",
           "#FF6692",
           "#B6E880",
           "#FF97FF",
           "#FECB52"
          ],
          "font": {
           "color": "#2a3f5f"
          },
          "geo": {
           "bgcolor": "white",
           "lakecolor": "white",
           "landcolor": "#E5ECF6",
           "showlakes": true,
           "showland": true,
           "subunitcolor": "white"
          },
          "hoverlabel": {
           "align": "left"
          },
          "hovermode": "closest",
          "mapbox": {
           "style": "light"
          },
          "paper_bgcolor": "white",
          "plot_bgcolor": "#E5ECF6",
          "polar": {
           "angularaxis": {
            "gridcolor": "white",
            "linecolor": "white",
            "ticks": ""
           },
           "bgcolor": "#E5ECF6",
           "radialaxis": {
            "gridcolor": "white",
            "linecolor": "white",
            "ticks": ""
           }
          },
          "scene": {
           "xaxis": {
            "backgroundcolor": "#E5ECF6",
            "gridcolor": "white",
            "gridwidth": 2,
            "linecolor": "white",
            "showbackground": true,
            "ticks": "",
            "zerolinecolor": "white"
           },
           "yaxis": {
            "backgroundcolor": "#E5ECF6",
            "gridcolor": "white",
            "gridwidth": 2,
            "linecolor": "white",
            "showbackground": true,
            "ticks": "",
            "zerolinecolor": "white"
           },
           "zaxis": {
            "backgroundcolor": "#E5ECF6",
            "gridcolor": "white",
            "gridwidth": 2,
            "linecolor": "white",
            "showbackground": true,
            "ticks": "",
            "zerolinecolor": "white"
           }
          },
          "shapedefaults": {
           "line": {
            "color": "#2a3f5f"
           }
          },
          "ternary": {
           "aaxis": {
            "gridcolor": "white",
            "linecolor": "white",
            "ticks": ""
           },
           "baxis": {
            "gridcolor": "white",
            "linecolor": "white",
            "ticks": ""
           },
           "bgcolor": "#E5ECF6",
           "caxis": {
            "gridcolor": "white",
            "linecolor": "white",
            "ticks": ""
           }
          },
          "title": {
           "x": 0.05
          },
          "xaxis": {
           "automargin": true,
           "gridcolor": "white",
           "linecolor": "white",
           "ticks": "",
           "title": {
            "standoff": 15
           },
           "zerolinecolor": "white",
           "zerolinewidth": 2
          },
          "yaxis": {
           "automargin": true,
           "gridcolor": "white",
           "linecolor": "white",
           "ticks": "",
           "title": {
            "standoff": 15
           },
           "zerolinecolor": "white",
           "zerolinewidth": 2
          }
         }
        },
        "title": {
         "text": "Pass rate vs Per Capita Income 2022-23"
        },
        "width": 800,
        "xaxis": {
         "anchor": "y",
         "domain": [
          0,
          1
         ],
         "title": {
          "text": "per_capita_income"
         }
        },
        "yaxis": {
         "anchor": "x",
         "domain": [
          0,
          1
         ],
         "title": {
          "text": "PERCENT_3_OR_ABOVE"
         }
        }
       }
      },
      "text/html": [
       "<div>                            <div id=\"727784a2-9c24-439b-a9f3-fcae00ce7d01\" class=\"plotly-graph-div\" style=\"height:600px; width:800px;\"></div>            <script type=\"text/javascript\">                require([\"plotly\"], function(Plotly) {                    window.PLOTLYENV=window.PLOTLYENV || {};                                    if (document.getElementById(\"727784a2-9c24-439b-a9f3-fcae00ce7d01\")) {                    Plotly.newPlot(                        \"727784a2-9c24-439b-a9f3-fcae00ce7d01\",                        [{\"hovertemplate\":\"per_capita_income=%{x}\\u003cbr\\u003ePERCENT_3_OR_ABOVE=%{marker.color}\\u003cextra\\u003e\\u003c\\u002fextra\\u003e\",\"legendgroup\":\"\",\"marker\":{\"color\":[53.191489362,45.454545455,58.695652174,36.956521739,43.269230769,45.0,57.357357357,59.070191431,50.739957717,65.241295052,57.837837838,51.612903226,75.0,33.333333333,53.249475891,62.561576355,37.931034483,56.060606061,38.372093023,43.75,50.238095238,60.416666667,50.842696629,60.994764398,60.200668896,33.766233766,57.073954984,31.182795699,70.880587058,47.535211268,44.751381215,47.368421053,24.503311258,29.268292683,58.148274684,43.561643836,44.171779141,66.371681416,37.435897436,65.517241379,55.628415301,53.459119497,28.421052632,50.54200542,52.380952381,27.272727273,63.566535188,47.826086957,69.714285714,65.967365967,40.822467402,70.983213429,19.047619048,33.333333333,64.401294498,66.666666667,43.689320388,52.443384982,70.0,45.862884161,26.490066225,23.722627737,39.051094891,49.101796407,39.240506329,47.959183673,52.941176471,54.918032787,52.727272727,55.0,69.512195122,70.89678511,67.993273543,74.733096085,33.054393305,49.743589744,53.333333333,42.424242424,71.875],\"coloraxis\":\"coloraxis\",\"symbol\":\"circle\"},\"mode\":\"markers\",\"name\":\"\",\"orientation\":\"v\",\"showlegend\":false,\"x\":[42020.0,42032.0,40730.0,40161.0,49644.0,43041.0,53840.0,52847.0,41095.0,49313.0,40096.0,52318.0,57425.0,38126.0,48940.0,70275.0,36538.0,40777.0,39746.0,49475.0,42554.0,52882.0,64544.0,43984.0,53010.0,44157.0,53973.0,40426.0,51667.0,41803.0,44808.0,39293.0,42701.0,35078.0,49900.0,39664.0,44882.0,48378.0,37583.0,40196.0,44945.0,44833.0,44714.0,51873.0,43926.0,39905.0,68546.0,40269.0,57370.0,54128.0,46781.0,72271.0,48844.0,42956.0,45161.0,46806.0,42300.0,48920.0,54915.0,41641.0,40265.0,37167.0,41380.0,38322.0,40816.0,37902.0,43161.0,41963.0,43044.0,44375.0,48333.0,58390.0,65717.0,43123.0,44189.0,41195.0,44619.0,41757.0,39418.0],\"xaxis\":\"x\",\"y\":[53.191489362,45.454545455,58.695652174,36.956521739,43.269230769,45.0,57.357357357,59.070191431,50.739957717,65.241295052,57.837837838,51.612903226,75.0,33.333333333,53.249475891,62.561576355,37.931034483,56.060606061,38.372093023,43.75,50.238095238,60.416666667,50.842696629,60.994764398,60.200668896,33.766233766,57.073954984,31.182795699,70.880587058,47.535211268,44.751381215,47.368421053,24.503311258,29.268292683,58.148274684,43.561643836,44.171779141,66.371681416,37.435897436,65.517241379,55.628415301,53.459119497,28.421052632,50.54200542,52.380952381,27.272727273,63.566535188,47.826086957,69.714285714,65.967365967,40.822467402,70.983213429,19.047619048,33.333333333,64.401294498,66.666666667,43.689320388,52.443384982,70.0,45.862884161,26.490066225,23.722627737,39.051094891,49.101796407,39.240506329,47.959183673,52.941176471,54.918032787,52.727272727,55.0,69.512195122,70.89678511,67.993273543,74.733096085,33.054393305,49.743589744,53.333333333,42.424242424,71.875],\"yaxis\":\"y\",\"type\":\"scatter\"},{\"hovertemplate\":\"\\u003cb\\u003eLOWESS trendline\\u003c\\u002fb\\u003e\\u003cbr\\u003e\\u003cbr\\u003eper_capita_income=%{x}\\u003cbr\\u003ePERCENT_3_OR_ABOVE=%{y} \\u003cb\\u003e(trend)\\u003c\\u002fb\\u003e\\u003cextra\\u003e\\u003c\\u002fextra\\u003e\",\"legendgroup\":\"\",\"line\":{\"color\":\"darkblue\"},\"marker\":{\"symbol\":\"circle\"},\"mode\":\"lines\",\"name\":\"\",\"showlegend\":false,\"x\":[35078.0,36538.0,37167.0,37583.0,37902.0,38126.0,38322.0,39293.0,39418.0,39664.0,39746.0,39905.0,40096.0,40161.0,40196.0,40265.0,40269.0,40426.0,40730.0,40777.0,40816.0,41095.0,41195.0,41380.0,41641.0,41757.0,41803.0,41963.0,42020.0,42032.0,42300.0,42554.0,42701.0,42956.0,43041.0,43044.0,43123.0,43161.0,43926.0,43984.0,44157.0,44189.0,44375.0,44619.0,44714.0,44808.0,44833.0,44882.0,44945.0,45161.0,46781.0,46806.0,48333.0,48378.0,48844.0,48920.0,48940.0,49313.0,49475.0,49644.0,49900.0,51667.0,51873.0,52318.0,52847.0,52882.0,53010.0,53840.0,53973.0,54128.0,54915.0,57370.0,57425.0,58390.0,64544.0,65717.0,68546.0,70275.0,72271.0],\"xaxis\":\"x\",\"y\":[33.099206124324816,36.30341313077665,37.641899482685965,38.513627835555795,39.17652614860265,39.64008199977927,40.044731137443634,42.04172291258315,42.29771473256641,42.79966963837548,42.96612119428543,43.28694859477991,43.667612611824346,43.79560242430408,43.86412393607385,43.99830131314423,44.00604004112275,44.305842636033695,44.85949205655296,44.941560153823076,45.00897048542785,45.43238320673184,45.56892047772284,45.8214320079639,46.17796727311796,46.34414482595175,46.41322499163224,46.64876010783564,46.730687689395076,46.747791577120445,47.115597858043685,47.44068680805253,47.62186519677213,47.95391637660475,48.069320919876134,48.073080068802,48.1722655082478,48.2201153776435,49.38272441631056,49.465414177972406,49.71391220560605,49.760241426609014,50.034095258564115,50.554681049685634,50.73548029061349,50.90860077749257,50.95853906641072,51.04967071123485,51.1542673714461,51.43138982034358,53.110605612557194,53.133017545972315,54.585041611365966,54.63379484116988,55.172762903402614,55.26439682241314,55.28860964655328,55.755144087309944,55.956166301239655,56.17368739578819,56.51508781607962,59.23854743099747,59.56294250801631,60.25869684503294,61.07744183406169,61.12986413225266,61.31798432185664,62.481642837589334,62.62649017128244,62.77295808576718,63.19599076754076,63.273367840984896,63.264455928523816,63.187080075998125,65.05908598071412,65.46462571923362,66.36318214140911,66.86195431409482,67.4049281019485],\"yaxis\":\"y\",\"type\":\"scatter\"}],                        {\"template\":{\"data\":{\"histogram2dcontour\":[{\"type\":\"histogram2dcontour\",\"colorbar\":{\"outlinewidth\":0,\"ticks\":\"\"},\"colorscale\":[[0.0,\"#0d0887\"],[0.1111111111111111,\"#46039f\"],[0.2222222222222222,\"#7201a8\"],[0.3333333333333333,\"#9c179e\"],[0.4444444444444444,\"#bd3786\"],[0.5555555555555556,\"#d8576b\"],[0.6666666666666666,\"#ed7953\"],[0.7777777777777778,\"#fb9f3a\"],[0.8888888888888888,\"#fdca26\"],[1.0,\"#f0f921\"]]}],\"choropleth\":[{\"type\":\"choropleth\",\"colorbar\":{\"outlinewidth\":0,\"ticks\":\"\"}}],\"histogram2d\":[{\"type\":\"histogram2d\",\"colorbar\":{\"outlinewidth\":0,\"ticks\":\"\"},\"colorscale\":[[0.0,\"#0d0887\"],[0.1111111111111111,\"#46039f\"],[0.2222222222222222,\"#7201a8\"],[0.3333333333333333,\"#9c179e\"],[0.4444444444444444,\"#bd3786\"],[0.5555555555555556,\"#d8576b\"],[0.6666666666666666,\"#ed7953\"],[0.7777777777777778,\"#fb9f3a\"],[0.8888888888888888,\"#fdca26\"],[1.0,\"#f0f921\"]]}],\"heatmap\":[{\"type\":\"heatmap\",\"colorbar\":{\"outlinewidth\":0,\"ticks\":\"\"},\"colorscale\":[[0.0,\"#0d0887\"],[0.1111111111111111,\"#46039f\"],[0.2222222222222222,\"#7201a8\"],[0.3333333333333333,\"#9c179e\"],[0.4444444444444444,\"#bd3786\"],[0.5555555555555556,\"#d8576b\"],[0.6666666666666666,\"#ed7953\"],[0.7777777777777778,\"#fb9f3a\"],[0.8888888888888888,\"#fdca26\"],[1.0,\"#f0f921\"]]}],\"heatmapgl\":[{\"type\":\"heatmapgl\",\"colorbar\":{\"outlinewidth\":0,\"ticks\":\"\"},\"colorscale\":[[0.0,\"#0d0887\"],[0.1111111111111111,\"#46039f\"],[0.2222222222222222,\"#7201a8\"],[0.3333333333333333,\"#9c179e\"],[0.4444444444444444,\"#bd3786\"],[0.5555555555555556,\"#d8576b\"],[0.6666666666666666,\"#ed7953\"],[0.7777777777777778,\"#fb9f3a\"],[0.8888888888888888,\"#fdca26\"],[1.0,\"#f0f921\"]]}],\"contourcarpet\":[{\"type\":\"contourcarpet\",\"colorbar\":{\"outlinewidth\":0,\"ticks\":\"\"}}],\"contour\":[{\"type\":\"contour\",\"colorbar\":{\"outlinewidth\":0,\"ticks\":\"\"},\"colorscale\":[[0.0,\"#0d0887\"],[0.1111111111111111,\"#46039f\"],[0.2222222222222222,\"#7201a8\"],[0.3333333333333333,\"#9c179e\"],[0.4444444444444444,\"#bd3786\"],[0.5555555555555556,\"#d8576b\"],[0.6666666666666666,\"#ed7953\"],[0.7777777777777778,\"#fb9f3a\"],[0.8888888888888888,\"#fdca26\"],[1.0,\"#f0f921\"]]}],\"surface\":[{\"type\":\"surface\",\"colorbar\":{\"outlinewidth\":0,\"ticks\":\"\"},\"colorscale\":[[0.0,\"#0d0887\"],[0.1111111111111111,\"#46039f\"],[0.2222222222222222,\"#7201a8\"],[0.3333333333333333,\"#9c179e\"],[0.4444444444444444,\"#bd3786\"],[0.5555555555555556,\"#d8576b\"],[0.6666666666666666,\"#ed7953\"],[0.7777777777777778,\"#fb9f3a\"],[0.8888888888888888,\"#fdca26\"],[1.0,\"#f0f921\"]]}],\"mesh3d\":[{\"type\":\"mesh3d\",\"colorbar\":{\"outlinewidth\":0,\"ticks\":\"\"}}],\"scatter\":[{\"fillpattern\":{\"fillmode\":\"overlay\",\"size\":10,\"solidity\":0.2},\"type\":\"scatter\"}],\"parcoords\":[{\"type\":\"parcoords\",\"line\":{\"colorbar\":{\"outlinewidth\":0,\"ticks\":\"\"}}}],\"scatterpolargl\":[{\"type\":\"scatterpolargl\",\"marker\":{\"colorbar\":{\"outlinewidth\":0,\"ticks\":\"\"}}}],\"bar\":[{\"error_x\":{\"color\":\"#2a3f5f\"},\"error_y\":{\"color\":\"#2a3f5f\"},\"marker\":{\"line\":{\"color\":\"#E5ECF6\",\"width\":0.5},\"pattern\":{\"fillmode\":\"overlay\",\"size\":10,\"solidity\":0.2}},\"type\":\"bar\"}],\"scattergeo\":[{\"type\":\"scattergeo\",\"marker\":{\"colorbar\":{\"outlinewidth\":0,\"ticks\":\"\"}}}],\"scatterpolar\":[{\"type\":\"scatterpolar\",\"marker\":{\"colorbar\":{\"outlinewidth\":0,\"ticks\":\"\"}}}],\"histogram\":[{\"marker\":{\"pattern\":{\"fillmode\":\"overlay\",\"size\":10,\"solidity\":0.2}},\"type\":\"histogram\"}],\"scattergl\":[{\"type\":\"scattergl\",\"marker\":{\"colorbar\":{\"outlinewidth\":0,\"ticks\":\"\"}}}],\"scatter3d\":[{\"type\":\"scatter3d\",\"line\":{\"colorbar\":{\"outlinewidth\":0,\"ticks\":\"\"}},\"marker\":{\"colorbar\":{\"outlinewidth\":0,\"ticks\":\"\"}}}],\"scattermapbox\":[{\"type\":\"scattermapbox\",\"marker\":{\"colorbar\":{\"outlinewidth\":0,\"ticks\":\"\"}}}],\"scatterternary\":[{\"type\":\"scatterternary\",\"marker\":{\"colorbar\":{\"outlinewidth\":0,\"ticks\":\"\"}}}],\"scattercarpet\":[{\"type\":\"scattercarpet\",\"marker\":{\"colorbar\":{\"outlinewidth\":0,\"ticks\":\"\"}}}],\"carpet\":[{\"aaxis\":{\"endlinecolor\":\"#2a3f5f\",\"gridcolor\":\"white\",\"linecolor\":\"white\",\"minorgridcolor\":\"white\",\"startlinecolor\":\"#2a3f5f\"},\"baxis\":{\"endlinecolor\":\"#2a3f5f\",\"gridcolor\":\"white\",\"linecolor\":\"white\",\"minorgridcolor\":\"white\",\"startlinecolor\":\"#2a3f5f\"},\"type\":\"carpet\"}],\"table\":[{\"cells\":{\"fill\":{\"color\":\"#EBF0F8\"},\"line\":{\"color\":\"white\"}},\"header\":{\"fill\":{\"color\":\"#C8D4E3\"},\"line\":{\"color\":\"white\"}},\"type\":\"table\"}],\"barpolar\":[{\"marker\":{\"line\":{\"color\":\"#E5ECF6\",\"width\":0.5},\"pattern\":{\"fillmode\":\"overlay\",\"size\":10,\"solidity\":0.2}},\"type\":\"barpolar\"}],\"pie\":[{\"automargin\":true,\"type\":\"pie\"}]},\"layout\":{\"autotypenumbers\":\"strict\",\"colorway\":[\"#636efa\",\"#EF553B\",\"#00cc96\",\"#ab63fa\",\"#FFA15A\",\"#19d3f3\",\"#FF6692\",\"#B6E880\",\"#FF97FF\",\"#FECB52\"],\"font\":{\"color\":\"#2a3f5f\"},\"hovermode\":\"closest\",\"hoverlabel\":{\"align\":\"left\"},\"paper_bgcolor\":\"white\",\"plot_bgcolor\":\"#E5ECF6\",\"polar\":{\"bgcolor\":\"#E5ECF6\",\"angularaxis\":{\"gridcolor\":\"white\",\"linecolor\":\"white\",\"ticks\":\"\"},\"radialaxis\":{\"gridcolor\":\"white\",\"linecolor\":\"white\",\"ticks\":\"\"}},\"ternary\":{\"bgcolor\":\"#E5ECF6\",\"aaxis\":{\"gridcolor\":\"white\",\"linecolor\":\"white\",\"ticks\":\"\"},\"baxis\":{\"gridcolor\":\"white\",\"linecolor\":\"white\",\"ticks\":\"\"},\"caxis\":{\"gridcolor\":\"white\",\"linecolor\":\"white\",\"ticks\":\"\"}},\"coloraxis\":{\"colorbar\":{\"outlinewidth\":0,\"ticks\":\"\"}},\"colorscale\":{\"sequential\":[[0.0,\"#0d0887\"],[0.1111111111111111,\"#46039f\"],[0.2222222222222222,\"#7201a8\"],[0.3333333333333333,\"#9c179e\"],[0.4444444444444444,\"#bd3786\"],[0.5555555555555556,\"#d8576b\"],[0.6666666666666666,\"#ed7953\"],[0.7777777777777778,\"#fb9f3a\"],[0.8888888888888888,\"#fdca26\"],[1.0,\"#f0f921\"]],\"sequentialminus\":[[0.0,\"#0d0887\"],[0.1111111111111111,\"#46039f\"],[0.2222222222222222,\"#7201a8\"],[0.3333333333333333,\"#9c179e\"],[0.4444444444444444,\"#bd3786\"],[0.5555555555555556,\"#d8576b\"],[0.6666666666666666,\"#ed7953\"],[0.7777777777777778,\"#fb9f3a\"],[0.8888888888888888,\"#fdca26\"],[1.0,\"#f0f921\"]],\"diverging\":[[0,\"#8e0152\"],[0.1,\"#c51b7d\"],[0.2,\"#de77ae\"],[0.3,\"#f1b6da\"],[0.4,\"#fde0ef\"],[0.5,\"#f7f7f7\"],[0.6,\"#e6f5d0\"],[0.7,\"#b8e186\"],[0.8,\"#7fbc41\"],[0.9,\"#4d9221\"],[1,\"#276419\"]]},\"xaxis\":{\"gridcolor\":\"white\",\"linecolor\":\"white\",\"ticks\":\"\",\"title\":{\"standoff\":15},\"zerolinecolor\":\"white\",\"automargin\":true,\"zerolinewidth\":2},\"yaxis\":{\"gridcolor\":\"white\",\"linecolor\":\"white\",\"ticks\":\"\",\"title\":{\"standoff\":15},\"zerolinecolor\":\"white\",\"automargin\":true,\"zerolinewidth\":2},\"scene\":{\"xaxis\":{\"backgroundcolor\":\"#E5ECF6\",\"gridcolor\":\"white\",\"linecolor\":\"white\",\"showbackground\":true,\"ticks\":\"\",\"zerolinecolor\":\"white\",\"gridwidth\":2},\"yaxis\":{\"backgroundcolor\":\"#E5ECF6\",\"gridcolor\":\"white\",\"linecolor\":\"white\",\"showbackground\":true,\"ticks\":\"\",\"zerolinecolor\":\"white\",\"gridwidth\":2},\"zaxis\":{\"backgroundcolor\":\"#E5ECF6\",\"gridcolor\":\"white\",\"linecolor\":\"white\",\"showbackground\":true,\"ticks\":\"\",\"zerolinecolor\":\"white\",\"gridwidth\":2}},\"shapedefaults\":{\"line\":{\"color\":\"#2a3f5f\"}},\"annotationdefaults\":{\"arrowcolor\":\"#2a3f5f\",\"arrowhead\":0,\"arrowwidth\":1},\"geo\":{\"bgcolor\":\"white\",\"landcolor\":\"#E5ECF6\",\"subunitcolor\":\"white\",\"showland\":true,\"showlakes\":true,\"lakecolor\":\"white\"},\"title\":{\"x\":0.05},\"mapbox\":{\"style\":\"light\"}}},\"xaxis\":{\"anchor\":\"y\",\"domain\":[0.0,1.0],\"title\":{\"text\":\"per_capita_income\"}},\"yaxis\":{\"anchor\":\"x\",\"domain\":[0.0,1.0],\"title\":{\"text\":\"PERCENT_3_OR_ABOVE\"}},\"coloraxis\":{\"colorbar\":{\"title\":{\"text\":\"PERCENT_3_OR_ABOVE\"}},\"colorscale\":[[0.0,\"#0d0887\"],[0.1111111111111111,\"#46039f\"],[0.2222222222222222,\"#7201a8\"],[0.3333333333333333,\"#9c179e\"],[0.4444444444444444,\"#bd3786\"],[0.5555555555555556,\"#d8576b\"],[0.6666666666666666,\"#ed7953\"],[0.7777777777777778,\"#fb9f3a\"],[0.8888888888888888,\"#fdca26\"],[1.0,\"#f0f921\"]]},\"legend\":{\"tracegroupgap\":0},\"title\":{\"text\":\"Pass rate vs Per Capita Income 2022-23\"},\"height\":600,\"width\":800},                        {\"responsive\": true}                    ).then(function(){\n",
       "                            \n",
       "var gd = document.getElementById('727784a2-9c24-439b-a9f3-fcae00ce7d01');\n",
       "var x = new MutationObserver(function (mutations, observer) {{\n",
       "        var display = window.getComputedStyle(gd).display;\n",
       "        if (!display || display === 'none') {{\n",
       "            console.log([gd, 'removed!']);\n",
       "            Plotly.purge(gd);\n",
       "            observer.disconnect();\n",
       "        }}\n",
       "}});\n",
       "\n",
       "// Listen for the removal of the full notebook cells\n",
       "var notebookContainer = gd.closest('#notebook-container');\n",
       "if (notebookContainer) {{\n",
       "    x.observe(notebookContainer, {childList: true});\n",
       "}}\n",
       "\n",
       "// Listen for the clearing of the current output cell\n",
       "var outputEl = gd.closest('.output');\n",
       "if (outputEl) {{\n",
       "    x.observe(outputEl, {childList: true});\n",
       "}}\n",
       "\n",
       "                        })                };                });            </script>        </div>"
      ]
     },
     "metadata": {},
     "output_type": "display_data"
    }
   ],
   "source": [
    "\n",
    "fig = px.scatter(data_frame=northcarolina20,x='per_capita_income', y='PERCENT_3_OR_ABOVE',trendline='lowess',trendline_color_override='darkblue',width=800, height=600,color='PERCENT_3_OR_ABOVE',\n",
    "                 title='Pass rate vs Per Capita Income 2022-23')\n",
    "fig.show()\n",
    "with open('data/NC_pickled/NC_AP_pass_rate_by_counties_vs_income.pkl', 'wb') as f:\n",
    "    pickle.dump(fig, f)"
   ]
  },
  {
   "cell_type": "code",
   "execution_count": 67,
   "id": "0d5dd823-91dc-4743-9051-191ad1bac927",
   "metadata": {},
   "outputs": [
    {
     "name": "stderr",
     "output_type": "stream",
     "text": [
      "C:\\Users\\amahapatra\\.conda\\envs\\ww-env\\Lib\\site-packages\\statsmodels\\regression\\linear_model.py:1782: RuntimeWarning:\n",
      "\n",
      "invalid value encountered in scalar divide\n",
      "\n",
      "C:\\Users\\amahapatra\\.conda\\envs\\ww-env\\Lib\\site-packages\\statsmodels\\regression\\linear_model.py:1782: RuntimeWarning:\n",
      "\n",
      "divide by zero encountered in scalar divide\n",
      "\n"
     ]
    },
    {
     "data": {
      "application/vnd.plotly.v1+json": {
       "config": {
        "plotlyServerURL": "https://plot.ly"
       },
       "data": [
        {
         "hovertemplate": "PERCENT_3_OR_ABOVE=%{y}<br>population=%{x}<extra></extra>",
         "legendgroup": "60.409924488",
         "marker": {
          "color": "#636efa",
          "symbol": "circle"
         },
         "mode": "markers",
         "name": "60.409924488",
         "orientation": "h",
         "showlegend": true,
         "type": "scatter",
         "x": [
          0
         ],
         "xaxis": "x",
         "y": [
          "60.409924488"
         ],
         "yaxis": "y"
        },
        {
         "hovertemplate": "PERCENT_3_OR_ABOVE=60.409924488<extra></extra>",
         "legendgroup": "60.409924488",
         "line": {
          "color": "darkblue"
         },
         "marker": {
          "color": "#636efa",
          "symbol": "circle"
         },
         "mode": "lines",
         "name": "60.409924488",
         "showlegend": false,
         "type": "scatter",
         "xaxis": "x",
         "yaxis": "y"
        },
        {
         "hovertemplate": "PERCENT_3_OR_ABOVE=%{y}<br>population=%{x}<extra></extra>",
         "legendgroup": "53.191489362",
         "marker": {
          "color": "#EF553B",
          "symbol": "circle"
         },
         "mode": "markers",
         "name": "53.191489362",
         "orientation": "h",
         "showlegend": true,
         "type": "scatter",
         "x": [
          36482
         ],
         "xaxis": "x",
         "y": [
          "53.191489362"
         ],
         "yaxis": "y"
        },
        {
         "hovertemplate": "PERCENT_3_OR_ABOVE=53.191489362<extra></extra>",
         "legendgroup": "53.191489362",
         "line": {
          "color": "darkblue"
         },
         "marker": {
          "color": "#EF553B",
          "symbol": "circle"
         },
         "mode": "lines",
         "name": "53.191489362",
         "showlegend": false,
         "type": "scatter",
         "xaxis": "x",
         "yaxis": "y"
        },
        {
         "hovertemplate": "PERCENT_3_OR_ABOVE=%{y}<br>population=%{x}<extra></extra>",
         "legendgroup": "0",
         "marker": {
          "color": "#00cc96",
          "symbol": "circle"
         },
         "mode": "markers",
         "name": "0",
         "orientation": "h",
         "showlegend": true,
         "type": "scatter",
         "x": [
          10897,
          17862,
          11142,
          10448,
          48521,
          48521,
          21470,
          4551,
          9147,
          21953,
          25719,
          17435,
          42535,
          18598,
          10976
         ],
         "xaxis": "x",
         "y": [
          0,
          0,
          0,
          0,
          0,
          0,
          0,
          0,
          0,
          0,
          0,
          0,
          0,
          0,
          0
         ],
         "yaxis": "y"
        },
        {
         "hovertemplate": "<b>OLS trendline</b><br>PERCENT_3_OR_ABOVE = 0 * population + 0<br>R<sup>2</sup>=nan<br><br>PERCENT_3_OR_ABOVE=%{y} <b>(trend)</b><br>population=%{x}<extra></extra>",
         "legendgroup": "0",
         "line": {
          "color": "darkblue"
         },
         "marker": {
          "color": "#00cc96",
          "symbol": "circle"
         },
         "mode": "lines",
         "name": "0",
         "showlegend": false,
         "type": "scatter",
         "x": [
          4551,
          9147,
          10448,
          10897,
          10976,
          11142,
          17435,
          17862,
          18598,
          21470,
          21953,
          25719,
          42535,
          48521,
          48521
         ],
         "xaxis": "x",
         "y": [
          0,
          0,
          0,
          0,
          0,
          0,
          0,
          0,
          0,
          0,
          0,
          0,
          0,
          0,
          0
         ],
         "yaxis": "y"
        },
        {
         "hovertemplate": "PERCENT_3_OR_ABOVE=%{y}<br>population=%{x}<extra></extra>",
         "legendgroup": "45.454545455",
         "marker": {
          "color": "#ab63fa",
          "symbol": "circle"
         },
         "mode": "markers",
         "name": "45.454545455",
         "orientation": "h",
         "showlegend": true,
         "type": "scatter",
         "x": [
          22033
         ],
         "xaxis": "x",
         "y": [
          "45.454545455"
         ],
         "yaxis": "y"
        },
        {
         "hovertemplate": "PERCENT_3_OR_ABOVE=45.454545455<extra></extra>",
         "legendgroup": "45.454545455",
         "line": {
          "color": "darkblue"
         },
         "marker": {
          "color": "#ab63fa",
          "symbol": "circle"
         },
         "mode": "lines",
         "name": "45.454545455",
         "showlegend": false,
         "type": "scatter",
         "xaxis": "x",
         "yaxis": "y"
        },
        {
         "hovertemplate": "PERCENT_3_OR_ABOVE=%{y}<br>population=%{x}<extra></extra>",
         "legendgroup": "58.695652174",
         "marker": {
          "color": "#FFA15A",
          "symbol": "circle"
         },
         "mode": "markers",
         "name": "58.695652174",
         "orientation": "h",
         "showlegend": true,
         "type": "scatter",
         "x": [
          26580
         ],
         "xaxis": "x",
         "y": [
          "58.695652174"
         ],
         "yaxis": "y"
        },
        {
         "hovertemplate": "PERCENT_3_OR_ABOVE=58.695652174<extra></extra>",
         "legendgroup": "58.695652174",
         "line": {
          "color": "darkblue"
         },
         "marker": {
          "color": "#FFA15A",
          "symbol": "circle"
         },
         "mode": "lines",
         "name": "58.695652174",
         "showlegend": false,
         "type": "scatter",
         "xaxis": "x",
         "yaxis": "y"
        },
        {
         "hovertemplate": "PERCENT_3_OR_ABOVE=%{y}<br>population=%{x}<extra></extra>",
         "legendgroup": "36.956521739",
         "marker": {
          "color": "#19d3f3",
          "symbol": "circle"
         },
         "mode": "markers",
         "name": "36.956521739",
         "orientation": "h",
         "showlegend": true,
         "type": "scatter",
         "x": [
          17848
         ],
         "xaxis": "x",
         "y": [
          "36.956521739"
         ],
         "yaxis": "y"
        },
        {
         "hovertemplate": "PERCENT_3_OR_ABOVE=36.956521739<extra></extra>",
         "legendgroup": "36.956521739",
         "line": {
          "color": "darkblue"
         },
         "marker": {
          "color": "#19d3f3",
          "symbol": "circle"
         },
         "mode": "lines",
         "name": "36.956521739",
         "showlegend": false,
         "type": "scatter",
         "xaxis": "x",
         "yaxis": "y"
        },
        {
         "hovertemplate": "PERCENT_3_OR_ABOVE=%{y}<br>population=%{x}<extra></extra>",
         "legendgroup": "43.269230769",
         "marker": {
          "color": "#FF6692",
          "symbol": "circle"
         },
         "mode": "markers",
         "name": "43.269230769",
         "orientation": "h",
         "showlegend": true,
         "type": "scatter",
         "x": [
          44690
         ],
         "xaxis": "x",
         "y": [
          "43.269230769"
         ],
         "yaxis": "y"
        },
        {
         "hovertemplate": "PERCENT_3_OR_ABOVE=43.269230769<extra></extra>",
         "legendgroup": "43.269230769",
         "line": {
          "color": "darkblue"
         },
         "marker": {
          "color": "#FF6692",
          "symbol": "circle"
         },
         "mode": "lines",
         "name": "43.269230769",
         "showlegend": false,
         "type": "scatter",
         "xaxis": "x",
         "yaxis": "y"
        },
        {
         "hovertemplate": "PERCENT_3_OR_ABOVE=%{y}<br>population=%{x}<extra></extra>",
         "legendgroup": "45",
         "marker": {
          "color": "#B6E880",
          "symbol": "circle"
         },
         "mode": "markers",
         "name": "45",
         "orientation": "h",
         "showlegend": true,
         "type": "scatter",
         "x": [
          29629
         ],
         "xaxis": "x",
         "y": [
          "45"
         ],
         "yaxis": "y"
        },
        {
         "hovertemplate": "PERCENT_3_OR_ABOVE=45<extra></extra>",
         "legendgroup": "45",
         "line": {
          "color": "darkblue"
         },
         "marker": {
          "color": "#B6E880",
          "symbol": "circle"
         },
         "mode": "lines",
         "name": "45",
         "showlegend": false,
         "type": "scatter",
         "xaxis": "x",
         "yaxis": "y"
        },
        {
         "hovertemplate": "PERCENT_3_OR_ABOVE=%{y}<br>population=%{x}<extra></extra>",
         "legendgroup": "57.357357357",
         "marker": {
          "color": "#FF97FF",
          "symbol": "circle"
         },
         "mode": "markers",
         "name": "57.357357357",
         "orientation": "h",
         "showlegend": true,
         "type": "scatter",
         "x": [
          138157
         ],
         "xaxis": "x",
         "y": [
          "57.357357357"
         ],
         "yaxis": "y"
        },
        {
         "hovertemplate": "PERCENT_3_OR_ABOVE=57.357357357<extra></extra>",
         "legendgroup": "57.357357357",
         "line": {
          "color": "darkblue"
         },
         "marker": {
          "color": "#FF97FF",
          "symbol": "circle"
         },
         "mode": "lines",
         "name": "57.357357357",
         "showlegend": false,
         "type": "scatter",
         "xaxis": "x",
         "yaxis": "y"
        },
        {
         "hovertemplate": "PERCENT_3_OR_ABOVE=%{y}<br>population=%{x}<extra></extra>",
         "legendgroup": "59.070191431",
         "marker": {
          "color": "#FECB52",
          "symbol": "circle"
         },
         "mode": "markers",
         "name": "59.070191431",
         "orientation": "h",
         "showlegend": true,
         "type": "scatter",
         "x": [
          269694
         ],
         "xaxis": "x",
         "y": [
          "59.070191431"
         ],
         "yaxis": "y"
        },
        {
         "hovertemplate": "PERCENT_3_OR_ABOVE=59.070191431<extra></extra>",
         "legendgroup": "59.070191431",
         "line": {
          "color": "darkblue"
         },
         "marker": {
          "color": "#FECB52",
          "symbol": "circle"
         },
         "mode": "lines",
         "name": "59.070191431",
         "showlegend": false,
         "type": "scatter",
         "xaxis": "x",
         "yaxis": "y"
        },
        {
         "hovertemplate": "PERCENT_3_OR_ABOVE=%{y}<br>population=%{x}<extra></extra>",
         "legendgroup": "50.739957717",
         "marker": {
          "color": "#636efa",
          "symbol": "circle"
         },
         "mode": "markers",
         "name": "50.739957717",
         "orientation": "h",
         "showlegend": true,
         "type": "scatter",
         "x": [
          87577
         ],
         "xaxis": "x",
         "y": [
          "50.739957717"
         ],
         "yaxis": "y"
        },
        {
         "hovertemplate": "PERCENT_3_OR_ABOVE=50.739957717<extra></extra>",
         "legendgroup": "50.739957717",
         "line": {
          "color": "darkblue"
         },
         "marker": {
          "color": "#636efa",
          "symbol": "circle"
         },
         "mode": "lines",
         "name": "50.739957717",
         "showlegend": false,
         "type": "scatter",
         "xaxis": "x",
         "yaxis": "y"
        },
        {
         "hovertemplate": "PERCENT_3_OR_ABOVE=%{y}<br>population=%{x}<extra></extra>",
         "legendgroup": "65.241295052",
         "marker": {
          "color": "#EF553B",
          "symbol": "circle"
         },
         "mode": "markers",
         "name": "65.241295052",
         "orientation": "h",
         "showlegend": true,
         "type": "scatter",
         "x": [
          227214
         ],
         "xaxis": "x",
         "y": [
          "65.241295052"
         ],
         "yaxis": "y"
        },
        {
         "hovertemplate": "PERCENT_3_OR_ABOVE=65.241295052<extra></extra>",
         "legendgroup": "65.241295052",
         "line": {
          "color": "darkblue"
         },
         "marker": {
          "color": "#EF553B",
          "symbol": "circle"
         },
         "mode": "lines",
         "name": "65.241295052",
         "showlegend": false,
         "type": "scatter",
         "xaxis": "x",
         "yaxis": "y"
        },
        {
         "hovertemplate": "PERCENT_3_OR_ABOVE=%{y}<br>population=%{x}<extra></extra>",
         "legendgroup": "57.837837838",
         "marker": {
          "color": "#00cc96",
          "symbol": "circle"
         },
         "mode": "markers",
         "name": "57.837837838",
         "orientation": "h",
         "showlegend": true,
         "type": "scatter",
         "x": [
          80632
         ],
         "xaxis": "x",
         "y": [
          "57.837837838"
         ],
         "yaxis": "y"
        },
        {
         "hovertemplate": "PERCENT_3_OR_ABOVE=57.837837838<extra></extra>",
         "legendgroup": "57.837837838",
         "line": {
          "color": "darkblue"
         },
         "marker": {
          "color": "#00cc96",
          "symbol": "circle"
         },
         "mode": "lines",
         "name": "57.837837838",
         "showlegend": false,
         "type": "scatter",
         "xaxis": "x",
         "yaxis": "y"
        },
        {
         "hovertemplate": "PERCENT_3_OR_ABOVE=%{y}<br>population=%{x}<extra></extra>",
         "legendgroup": "51.612903226",
         "marker": {
          "color": "#ab63fa",
          "symbol": "circle"
         },
         "mode": "markers",
         "name": "51.612903226",
         "orientation": "h",
         "showlegend": true,
         "type": "scatter",
         "x": [
          10407
         ],
         "xaxis": "x",
         "y": [
          "51.612903226"
         ],
         "yaxis": "y"
        },
        {
         "hovertemplate": "PERCENT_3_OR_ABOVE=51.612903226<extra></extra>",
         "legendgroup": "51.612903226",
         "line": {
          "color": "darkblue"
         },
         "marker": {
          "color": "#ab63fa",
          "symbol": "circle"
         },
         "mode": "lines",
         "name": "51.612903226",
         "showlegend": false,
         "type": "scatter",
         "xaxis": "x",
         "yaxis": "y"
        },
        {
         "hovertemplate": "PERCENT_3_OR_ABOVE=%{y}<br>population=%{x}<extra></extra>",
         "legendgroup": "75",
         "marker": {
          "color": "#FFA15A",
          "symbol": "circle"
         },
         "mode": "markers",
         "name": "75",
         "orientation": "h",
         "showlegend": true,
         "type": "scatter",
         "x": [
          67724
         ],
         "xaxis": "x",
         "y": [
          "75"
         ],
         "yaxis": "y"
        },
        {
         "hovertemplate": "PERCENT_3_OR_ABOVE=75<extra></extra>",
         "legendgroup": "75",
         "line": {
          "color": "darkblue"
         },
         "marker": {
          "color": "#FFA15A",
          "symbol": "circle"
         },
         "mode": "lines",
         "name": "75",
         "showlegend": false,
         "type": "scatter",
         "xaxis": "x",
         "yaxis": "y"
        },
        {
         "hovertemplate": "PERCENT_3_OR_ABOVE=%{y}<br>population=%{x}<extra></extra>",
         "legendgroup": "33.333333333",
         "marker": {
          "color": "#19d3f3",
          "symbol": "circle"
         },
         "mode": "markers",
         "name": "33.333333333",
         "orientation": "h",
         "showlegend": true,
         "type": "scatter",
         "x": [
          22699,
          40577
         ],
         "xaxis": "x",
         "y": [
          "33.333333333",
          "33.333333333"
         ],
         "yaxis": "y"
        },
        {
         "hovertemplate": "<b>OLS trendline</b><br>PERCENT_3_OR_ABOVE = 2.39649e-19 * population + 33.3333<br>R<sup>2</sup>=-inf<br><br>PERCENT_3_OR_ABOVE=%{y} <b>(trend)</b><br>population=%{x}<extra></extra>",
         "legendgroup": "33.333333333",
         "line": {
          "color": "darkblue"
         },
         "marker": {
          "color": "#19d3f3",
          "symbol": "circle"
         },
         "mode": "lines",
         "name": "33.333333333",
         "showlegend": false,
         "type": "scatter",
         "x": [
          22699,
          40577
         ],
         "xaxis": "x",
         "y": [
          33.33333333299997,
          33.33333333299997
         ],
         "yaxis": "y"
        },
        {
         "hovertemplate": "PERCENT_3_OR_ABOVE=%{y}<br>population=%{x}<extra></extra>",
         "legendgroup": "53.249475891",
         "marker": {
          "color": "#FF6692",
          "symbol": "circle"
         },
         "mode": "markers",
         "name": "53.249475891",
         "orientation": "h",
         "showlegend": true,
         "type": "scatter",
         "x": [
          160892
         ],
         "xaxis": "x",
         "y": [
          "53.249475891"
         ],
         "yaxis": "y"
        },
        {
         "hovertemplate": "PERCENT_3_OR_ABOVE=53.249475891<extra></extra>",
         "legendgroup": "53.249475891",
         "line": {
          "color": "darkblue"
         },
         "marker": {
          "color": "#FF6692",
          "symbol": "circle"
         },
         "mode": "lines",
         "name": "53.249475891",
         "showlegend": false,
         "type": "scatter",
         "xaxis": "x",
         "yaxis": "y"
        },
        {
         "hovertemplate": "PERCENT_3_OR_ABOVE=%{y}<br>population=%{x}<extra></extra>",
         "legendgroup": "62.561576355",
         "marker": {
          "color": "#B6E880",
          "symbol": "circle"
         },
         "mode": "markers",
         "name": "62.561576355",
         "orientation": "h",
         "showlegend": true,
         "type": "scatter",
         "x": [
          76670
         ],
         "xaxis": "x",
         "y": [
          "62.561576355"
         ],
         "yaxis": "y"
        },
        {
         "hovertemplate": "PERCENT_3_OR_ABOVE=62.561576355<extra></extra>",
         "legendgroup": "62.561576355",
         "line": {
          "color": "darkblue"
         },
         "marker": {
          "color": "#B6E880",
          "symbol": "circle"
         },
         "mode": "lines",
         "name": "62.561576355",
         "showlegend": false,
         "type": "scatter",
         "xaxis": "x",
         "yaxis": "y"
        },
        {
         "hovertemplate": "PERCENT_3_OR_ABOVE=%{y}<br>population=%{x}<extra></extra>",
         "legendgroup": "37.931034483",
         "marker": {
          "color": "#FF97FF",
          "symbol": "circle"
         },
         "mode": "markers",
         "name": "37.931034483",
         "orientation": "h",
         "showlegend": true,
         "type": "scatter",
         "x": [
          28858
         ],
         "xaxis": "x",
         "y": [
          "37.931034483"
         ],
         "yaxis": "y"
        },
        {
         "hovertemplate": "PERCENT_3_OR_ABOVE=37.931034483<extra></extra>",
         "legendgroup": "37.931034483",
         "line": {
          "color": "darkblue"
         },
         "marker": {
          "color": "#FF97FF",
          "symbol": "circle"
         },
         "mode": "lines",
         "name": "37.931034483",
         "showlegend": false,
         "type": "scatter",
         "xaxis": "x",
         "yaxis": "y"
        },
        {
         "hovertemplate": "PERCENT_3_OR_ABOVE=%{y}<br>population=%{x}<extra></extra>",
         "legendgroup": "56.060606061",
         "marker": {
          "color": "#FECB52",
          "symbol": "circle"
         },
         "mode": "markers",
         "name": "56.060606061",
         "orientation": "h",
         "showlegend": true,
         "type": "scatter",
         "x": [
          99799
         ],
         "xaxis": "x",
         "y": [
          "56.060606061"
         ],
         "yaxis": "y"
        },
        {
         "hovertemplate": "PERCENT_3_OR_ABOVE=56.060606061<extra></extra>",
         "legendgroup": "56.060606061",
         "line": {
          "color": "darkblue"
         },
         "marker": {
          "color": "#FECB52",
          "symbol": "circle"
         },
         "mode": "lines",
         "name": "56.060606061",
         "showlegend": false,
         "type": "scatter",
         "xaxis": "x",
         "yaxis": "y"
        },
        {
         "hovertemplate": "PERCENT_3_OR_ABOVE=%{y}<br>population=%{x}<extra></extra>",
         "legendgroup": "38.372093023",
         "marker": {
          "color": "#636efa",
          "symbol": "circle"
         },
         "mode": "markers",
         "name": "38.372093023",
         "orientation": "h",
         "showlegend": true,
         "type": "scatter",
         "x": [
          50487
         ],
         "xaxis": "x",
         "y": [
          "38.372093023"
         ],
         "yaxis": "y"
        },
        {
         "hovertemplate": "PERCENT_3_OR_ABOVE=38.372093023<extra></extra>",
         "legendgroup": "38.372093023",
         "line": {
          "color": "darkblue"
         },
         "marker": {
          "color": "#636efa",
          "symbol": "circle"
         },
         "mode": "lines",
         "name": "38.372093023",
         "showlegend": false,
         "type": "scatter",
         "xaxis": "x",
         "yaxis": "y"
        },
        {
         "hovertemplate": "PERCENT_3_OR_ABOVE=%{y}<br>population=%{x}<extra></extra>",
         "legendgroup": "43.75",
         "marker": {
          "color": "#EF553B",
          "symbol": "circle"
         },
         "mode": "markers",
         "name": "43.75",
         "orientation": "h",
         "showlegend": true,
         "type": "scatter",
         "x": [
          100646
         ],
         "xaxis": "x",
         "y": [
          "43.75"
         ],
         "yaxis": "y"
        },
        {
         "hovertemplate": "PERCENT_3_OR_ABOVE=43.75<extra></extra>",
         "legendgroup": "43.75",
         "line": {
          "color": "darkblue"
         },
         "marker": {
          "color": "#EF553B",
          "symbol": "circle"
         },
         "mode": "lines",
         "name": "43.75",
         "showlegend": false,
         "type": "scatter",
         "xaxis": "x",
         "yaxis": "y"
        },
        {
         "hovertemplate": "PERCENT_3_OR_ABOVE=%{y}<br>population=%{x}<extra></extra>",
         "legendgroup": "50.238095238",
         "marker": {
          "color": "#00cc96",
          "symbol": "circle"
         },
         "mode": "markers",
         "name": "50.238095238",
         "orientation": "h",
         "showlegend": true,
         "type": "scatter",
         "x": [
          334391
         ],
         "xaxis": "x",
         "y": [
          "50.238095238"
         ],
         "yaxis": "y"
        },
        {
         "hovertemplate": "PERCENT_3_OR_ABOVE=50.238095238<extra></extra>",
         "legendgroup": "50.238095238",
         "line": {
          "color": "darkblue"
         },
         "marker": {
          "color": "#00cc96",
          "symbol": "circle"
         },
         "mode": "lines",
         "name": "50.238095238",
         "showlegend": false,
         "type": "scatter",
         "xaxis": "x",
         "yaxis": "y"
        },
        {
         "hovertemplate": "PERCENT_3_OR_ABOVE=%{y}<br>population=%{x}<extra></extra>",
         "legendgroup": "60.416666667",
         "marker": {
          "color": "#ab63fa",
          "symbol": "circle"
         },
         "mode": "markers",
         "name": "60.416666667",
         "orientation": "h",
         "showlegend": true,
         "type": "scatter",
         "x": [
          28401
         ],
         "xaxis": "x",
         "y": [
          "60.416666667"
         ],
         "yaxis": "y"
        },
        {
         "hovertemplate": "PERCENT_3_OR_ABOVE=60.416666667<extra></extra>",
         "legendgroup": "60.416666667",
         "line": {
          "color": "darkblue"
         },
         "marker": {
          "color": "#ab63fa",
          "symbol": "circle"
         },
         "mode": "lines",
         "name": "60.416666667",
         "showlegend": false,
         "type": "scatter",
         "xaxis": "x",
         "yaxis": "y"
        },
        {
         "hovertemplate": "PERCENT_3_OR_ABOVE=%{y}<br>population=%{x}<extra></extra>",
         "legendgroup": "50.842696629",
         "marker": {
          "color": "#FFA15A",
          "symbol": "circle"
         },
         "mode": "markers",
         "name": "50.842696629",
         "orientation": "h",
         "showlegend": true,
         "type": "scatter",
         "x": [
          37032
         ],
         "xaxis": "x",
         "y": [
          "50.842696629"
         ],
         "yaxis": "y"
        },
        {
         "hovertemplate": "PERCENT_3_OR_ABOVE=50.842696629<extra></extra>",
         "legendgroup": "50.842696629",
         "line": {
          "color": "darkblue"
         },
         "marker": {
          "color": "#FFA15A",
          "symbol": "circle"
         },
         "mode": "lines",
         "name": "50.842696629",
         "showlegend": false,
         "type": "scatter",
         "xaxis": "x",
         "yaxis": "y"
        },
        {
         "hovertemplate": "PERCENT_3_OR_ABOVE=%{y}<br>population=%{x}<extra></extra>",
         "legendgroup": "60.994764398",
         "marker": {
          "color": "#19d3f3",
          "symbol": "circle"
         },
         "mode": "markers",
         "name": "60.994764398",
         "orientation": "h",
         "showlegend": true,
         "type": "scatter",
         "x": [
          169196
         ],
         "xaxis": "x",
         "y": [
          "60.994764398"
         ],
         "yaxis": "y"
        },
        {
         "hovertemplate": "PERCENT_3_OR_ABOVE=60.994764398<extra></extra>",
         "legendgroup": "60.994764398",
         "line": {
          "color": "darkblue"
         },
         "marker": {
          "color": "#19d3f3",
          "symbol": "circle"
         },
         "mode": "lines",
         "name": "60.994764398",
         "showlegend": false,
         "type": "scatter",
         "xaxis": "x",
         "yaxis": "y"
        },
        {
         "hovertemplate": "PERCENT_3_OR_ABOVE=%{y}<br>population=%{x}<extra></extra>",
         "legendgroup": "60.200668896",
         "marker": {
          "color": "#FF6692",
          "symbol": "circle"
         },
         "mode": "markers",
         "name": "60.200668896",
         "orientation": "h",
         "showlegend": true,
         "type": "scatter",
         "x": [
          42895
         ],
         "xaxis": "x",
         "y": [
          "60.200668896"
         ],
         "yaxis": "y"
        },
        {
         "hovertemplate": "PERCENT_3_OR_ABOVE=60.200668896<extra></extra>",
         "legendgroup": "60.200668896",
         "line": {
          "color": "darkblue"
         },
         "marker": {
          "color": "#FF6692",
          "symbol": "circle"
         },
         "mode": "lines",
         "name": "60.200668896",
         "showlegend": false,
         "type": "scatter",
         "xaxis": "x",
         "yaxis": "y"
        },
        {
         "hovertemplate": "PERCENT_3_OR_ABOVE=%{y}<br>population=%{x}<extra></extra>",
         "legendgroup": "33.766233766",
         "marker": {
          "color": "#B6E880",
          "symbol": "circle"
         },
         "mode": "markers",
         "name": "33.766233766",
         "orientation": "h",
         "showlegend": true,
         "type": "scatter",
         "x": [
          48657
         ],
         "xaxis": "x",
         "y": [
          "33.766233766"
         ],
         "yaxis": "y"
        },
        {
         "hovertemplate": "PERCENT_3_OR_ABOVE=33.766233766<extra></extra>",
         "legendgroup": "33.766233766",
         "line": {
          "color": "darkblue"
         },
         "marker": {
          "color": "#B6E880",
          "symbol": "circle"
         },
         "mode": "lines",
         "name": "33.766233766",
         "showlegend": false,
         "type": "scatter",
         "xaxis": "x",
         "yaxis": "y"
        },
        {
         "hovertemplate": "PERCENT_3_OR_ABOVE=%{y}<br>population=%{x}<extra></extra>",
         "legendgroup": "57.073954984",
         "marker": {
          "color": "#FF97FF",
          "symbol": "circle"
         },
         "mode": "markers",
         "name": "57.073954984",
         "orientation": "h",
         "showlegend": true,
         "type": "scatter",
         "x": [
          325561
         ],
         "xaxis": "x",
         "y": [
          "57.073954984"
         ],
         "yaxis": "y"
        },
        {
         "hovertemplate": "PERCENT_3_OR_ABOVE=57.073954984<extra></extra>",
         "legendgroup": "57.073954984",
         "line": {
          "color": "darkblue"
         },
         "marker": {
          "color": "#FF97FF",
          "symbol": "circle"
         },
         "mode": "lines",
         "name": "57.073954984",
         "showlegend": false,
         "type": "scatter",
         "xaxis": "x",
         "yaxis": "y"
        },
        {
         "hovertemplate": "PERCENT_3_OR_ABOVE=%{y}<br>population=%{x}<extra></extra>",
         "legendgroup": "31.182795699",
         "marker": {
          "color": "#FECB52",
          "symbol": "circle"
         },
         "mode": "markers",
         "name": "31.182795699",
         "orientation": "h",
         "showlegend": true,
         "type": "scatter",
         "x": [
          48777
         ],
         "xaxis": "x",
         "y": [
          "31.182795699"
         ],
         "yaxis": "y"
        },
        {
         "hovertemplate": "PERCENT_3_OR_ABOVE=31.182795699<extra></extra>",
         "legendgroup": "31.182795699",
         "line": {
          "color": "darkblue"
         },
         "marker": {
          "color": "#FECB52",
          "symbol": "circle"
         },
         "mode": "lines",
         "name": "31.182795699",
         "showlegend": false,
         "type": "scatter",
         "xaxis": "x",
         "yaxis": "y"
        },
        {
         "hovertemplate": "PERCENT_3_OR_ABOVE=%{y}<br>population=%{x}<extra></extra>",
         "legendgroup": "70.880587058",
         "marker": {
          "color": "#636efa",
          "symbol": "circle"
         },
         "mode": "markers",
         "name": "70.880587058",
         "orientation": "h",
         "showlegend": true,
         "type": "scatter",
         "x": [
          383166
         ],
         "xaxis": "x",
         "y": [
          "70.880587058"
         ],
         "yaxis": "y"
        },
        {
         "hovertemplate": "PERCENT_3_OR_ABOVE=70.880587058<extra></extra>",
         "legendgroup": "70.880587058",
         "line": {
          "color": "darkblue"
         },
         "marker": {
          "color": "#636efa",
          "symbol": "circle"
         },
         "mode": "lines",
         "name": "70.880587058",
         "showlegend": false,
         "type": "scatter",
         "xaxis": "x",
         "yaxis": "y"
        },
        {
         "hovertemplate": "PERCENT_3_OR_ABOVE=%{y}<br>population=%{x}<extra></extra>",
         "legendgroup": "47.535211268",
         "marker": {
          "color": "#EF553B",
          "symbol": "circle"
         },
         "mode": "markers",
         "name": "47.535211268",
         "orientation": "h",
         "showlegend": true,
         "type": "scatter",
         "x": [
          69115
         ],
         "xaxis": "x",
         "y": [
          "47.535211268"
         ],
         "yaxis": "y"
        },
        {
         "hovertemplate": "PERCENT_3_OR_ABOVE=47.535211268<extra></extra>",
         "legendgroup": "47.535211268",
         "line": {
          "color": "darkblue"
         },
         "marker": {
          "color": "#EF553B",
          "symbol": "circle"
         },
         "mode": "lines",
         "name": "47.535211268",
         "showlegend": false,
         "type": "scatter",
         "xaxis": "x",
         "yaxis": "y"
        },
        {
         "hovertemplate": "PERCENT_3_OR_ABOVE=%{y}<br>population=%{x}<extra></extra>",
         "legendgroup": "44.751381215",
         "marker": {
          "color": "#00cc96",
          "symbol": "circle"
         },
         "mode": "markers",
         "name": "44.751381215",
         "orientation": "h",
         "showlegend": true,
         "type": "scatter",
         "x": [
          228514
         ],
         "xaxis": "x",
         "y": [
          "44.751381215"
         ],
         "yaxis": "y"
        },
        {
         "hovertemplate": "PERCENT_3_OR_ABOVE=44.751381215<extra></extra>",
         "legendgroup": "44.751381215",
         "line": {
          "color": "darkblue"
         },
         "marker": {
          "color": "#00cc96",
          "symbol": "circle"
         },
         "mode": "lines",
         "name": "44.751381215",
         "showlegend": false,
         "type": "scatter",
         "xaxis": "x",
         "yaxis": "y"
        },
        {
         "hovertemplate": "PERCENT_3_OR_ABOVE=%{y}<br>population=%{x}<extra></extra>",
         "legendgroup": "47.368421053",
         "marker": {
          "color": "#ab63fa",
          "symbol": "circle"
         },
         "mode": "markers",
         "name": "47.368421053",
         "orientation": "h",
         "showlegend": true,
         "type": "scatter",
         "x": [
          8035
         ],
         "xaxis": "x",
         "y": [
          "47.368421053"
         ],
         "yaxis": "y"
        },
        {
         "hovertemplate": "PERCENT_3_OR_ABOVE=47.368421053<extra></extra>",
         "legendgroup": "47.368421053",
         "line": {
          "color": "darkblue"
         },
         "marker": {
          "color": "#ab63fa",
          "symbol": "circle"
         },
         "mode": "lines",
         "name": "47.368421053",
         "showlegend": false,
         "type": "scatter",
         "xaxis": "x",
         "yaxis": "y"
        },
        {
         "hovertemplate": "PERCENT_3_OR_ABOVE=%{y}<br>population=%{x}<extra></extra>",
         "legendgroup": "24.503311258",
         "marker": {
          "color": "#FFA15A",
          "symbol": "circle"
         },
         "mode": "markers",
         "name": "24.503311258",
         "orientation": "h",
         "showlegend": true,
         "type": "scatter",
         "x": [
          61060
         ],
         "xaxis": "x",
         "y": [
          "24.503311258"
         ],
         "yaxis": "y"
        },
        {
         "hovertemplate": "PERCENT_3_OR_ABOVE=24.503311258<extra></extra>",
         "legendgroup": "24.503311258",
         "line": {
          "color": "darkblue"
         },
         "marker": {
          "color": "#FFA15A",
          "symbol": "circle"
         },
         "mode": "lines",
         "name": "24.503311258",
         "showlegend": false,
         "type": "scatter",
         "xaxis": "x",
         "yaxis": "y"
        },
        {
         "hovertemplate": "PERCENT_3_OR_ABOVE=%{y}<br>population=%{x}<extra></extra>",
         "legendgroup": "29.268292683",
         "marker": {
          "color": "#19d3f3",
          "symbol": "circle"
         },
         "mode": "markers",
         "name": "29.268292683",
         "orientation": "h",
         "showlegend": true,
         "type": "scatter",
         "x": [
          20440
         ],
         "xaxis": "x",
         "y": [
          "29.268292683"
         ],
         "yaxis": "y"
        },
        {
         "hovertemplate": "PERCENT_3_OR_ABOVE=29.268292683<extra></extra>",
         "legendgroup": "29.268292683",
         "line": {
          "color": "darkblue"
         },
         "marker": {
          "color": "#19d3f3",
          "symbol": "circle"
         },
         "mode": "lines",
         "name": "29.268292683",
         "showlegend": false,
         "type": "scatter",
         "xaxis": "x",
         "yaxis": "y"
        },
        {
         "hovertemplate": "PERCENT_3_OR_ABOVE=%{y}<br>population=%{x}<extra></extra>",
         "legendgroup": "58.148274684",
         "marker": {
          "color": "#FF6692",
          "symbol": "circle"
         },
         "mode": "markers",
         "name": "58.148274684",
         "orientation": "h",
         "showlegend": true,
         "type": "scatter",
         "x": [
          539498
         ],
         "xaxis": "x",
         "y": [
          "58.148274684"
         ],
         "yaxis": "y"
        },
        {
         "hovertemplate": "PERCENT_3_OR_ABOVE=58.148274684<extra></extra>",
         "legendgroup": "58.148274684",
         "line": {
          "color": "darkblue"
         },
         "marker": {
          "color": "#FF6692",
          "symbol": "circle"
         },
         "mode": "lines",
         "name": "58.148274684",
         "showlegend": false,
         "type": "scatter",
         "xaxis": "x",
         "yaxis": "y"
        },
        {
         "hovertemplate": "PERCENT_3_OR_ABOVE=%{y}<br>population=%{x}<extra></extra>",
         "legendgroup": "43.561643836",
         "marker": {
          "color": "#B6E880",
          "symbol": "circle"
         },
         "mode": "markers",
         "name": "43.561643836",
         "orientation": "h",
         "showlegend": true,
         "type": "scatter",
         "x": [
          133779
         ],
         "xaxis": "x",
         "y": [
          "43.561643836"
         ],
         "yaxis": "y"
        },
        {
         "hovertemplate": "PERCENT_3_OR_ABOVE=43.561643836<extra></extra>",
         "legendgroup": "43.561643836",
         "line": {
          "color": "darkblue"
         },
         "marker": {
          "color": "#B6E880",
          "symbol": "circle"
         },
         "mode": "lines",
         "name": "43.561643836",
         "showlegend": false,
         "type": "scatter",
         "xaxis": "x",
         "yaxis": "y"
        },
        {
         "hovertemplate": "PERCENT_3_OR_ABOVE=%{y}<br>population=%{x}<extra></extra>",
         "legendgroup": "44.171779141",
         "marker": {
          "color": "#FF97FF",
          "symbol": "circle"
         },
         "mode": "markers",
         "name": "44.171779141",
         "orientation": "h",
         "showlegend": true,
         "type": "scatter",
         "x": [
          62223
         ],
         "xaxis": "x",
         "y": [
          "44.171779141"
         ],
         "yaxis": "y"
        },
        {
         "hovertemplate": "PERCENT_3_OR_ABOVE=44.171779141<extra></extra>",
         "legendgroup": "44.171779141",
         "line": {
          "color": "darkblue"
         },
         "marker": {
          "color": "#FF97FF",
          "symbol": "circle"
         },
         "mode": "lines",
         "name": "44.171779141",
         "showlegend": false,
         "type": "scatter",
         "xaxis": "x",
         "yaxis": "y"
        },
        {
         "hovertemplate": "PERCENT_3_OR_ABOVE=%{y}<br>population=%{x}<extra></extra>",
         "legendgroup": "66.371681416",
         "marker": {
          "color": "#FECB52",
          "symbol": "circle"
         },
         "mode": "markers",
         "name": "66.371681416",
         "orientation": "h",
         "showlegend": true,
         "type": "scatter",
         "x": [
          116541
         ],
         "xaxis": "x",
         "y": [
          "66.371681416"
         ],
         "yaxis": "y"
        },
        {
         "hovertemplate": "PERCENT_3_OR_ABOVE=66.371681416<extra></extra>",
         "legendgroup": "66.371681416",
         "line": {
          "color": "darkblue"
         },
         "marker": {
          "color": "#FECB52",
          "symbol": "circle"
         },
         "mode": "lines",
         "name": "66.371681416",
         "showlegend": false,
         "type": "scatter",
         "xaxis": "x",
         "yaxis": "y"
        },
        {
         "hovertemplate": "PERCENT_3_OR_ABOVE=%{y}<br>population=%{x}<extra></extra>",
         "legendgroup": "37.435897436",
         "marker": {
          "color": "#636efa",
          "symbol": "circle"
         },
         "mode": "markers",
         "name": "37.435897436",
         "orientation": "h",
         "showlegend": true,
         "type": "scatter",
         "x": [
          52240
         ],
         "xaxis": "x",
         "y": [
          "37.435897436"
         ],
         "yaxis": "y"
        },
        {
         "hovertemplate": "PERCENT_3_OR_ABOVE=37.435897436<extra></extra>",
         "legendgroup": "37.435897436",
         "line": {
          "color": "darkblue"
         },
         "marker": {
          "color": "#636efa",
          "symbol": "circle"
         },
         "mode": "lines",
         "name": "37.435897436",
         "showlegend": false,
         "type": "scatter",
         "xaxis": "x",
         "yaxis": "y"
        },
        {
         "hovertemplate": "PERCENT_3_OR_ABOVE=%{y}<br>population=%{x}<extra></extra>",
         "legendgroup": "65.517241379",
         "marker": {
          "color": "#EF553B",
          "symbol": "circle"
         },
         "mode": "markers",
         "name": "65.517241379",
         "orientation": "h",
         "showlegend": true,
         "type": "scatter",
         "x": [
          42231
         ],
         "xaxis": "x",
         "y": [
          "65.517241379"
         ],
         "yaxis": "y"
        },
        {
         "hovertemplate": "PERCENT_3_OR_ABOVE=65.517241379<extra></extra>",
         "legendgroup": "65.517241379",
         "line": {
          "color": "darkblue"
         },
         "marker": {
          "color": "#EF553B",
          "symbol": "circle"
         },
         "mode": "lines",
         "name": "65.517241379",
         "showlegend": false,
         "type": "scatter",
         "xaxis": "x",
         "yaxis": "y"
        },
        {
         "hovertemplate": "PERCENT_3_OR_ABOVE=%{y}<br>population=%{x}<extra></extra>",
         "legendgroup": "55.628415301",
         "marker": {
          "color": "#00cc96",
          "symbol": "circle"
         },
         "mode": "markers",
         "name": "55.628415301",
         "orientation": "h",
         "showlegend": true,
         "type": "scatter",
         "x": [
          217787
         ],
         "xaxis": "x",
         "y": [
          "55.628415301"
         ],
         "yaxis": "y"
        },
        {
         "hovertemplate": "PERCENT_3_OR_ABOVE=55.628415301<extra></extra>",
         "legendgroup": "55.628415301",
         "line": {
          "color": "darkblue"
         },
         "marker": {
          "color": "#00cc96",
          "symbol": "circle"
         },
         "mode": "lines",
         "name": "55.628415301",
         "showlegend": false,
         "type": "scatter",
         "xaxis": "x",
         "yaxis": "y"
        },
        {
         "hovertemplate": "PERCENT_3_OR_ABOVE=%{y}<br>population=%{x}<extra></extra>",
         "legendgroup": "53.459119497",
         "marker": {
          "color": "#ab63fa",
          "symbol": "circle"
         },
         "mode": "markers",
         "name": "53.459119497",
         "orientation": "h",
         "showlegend": true,
         "type": "scatter",
         "x": [
          63428
         ],
         "xaxis": "x",
         "y": [
          "53.459119497"
         ],
         "yaxis": "y"
        },
        {
         "hovertemplate": "PERCENT_3_OR_ABOVE=53.459119497<extra></extra>",
         "legendgroup": "53.459119497",
         "line": {
          "color": "darkblue"
         },
         "marker": {
          "color": "#ab63fa",
          "symbol": "circle"
         },
         "mode": "lines",
         "name": "53.459119497",
         "showlegend": false,
         "type": "scatter",
         "xaxis": "x",
         "yaxis": "y"
        },
        {
         "hovertemplate": "PERCENT_3_OR_ABOVE=%{y}<br>population=%{x}<extra></extra>",
         "legendgroup": "28.421052632",
         "marker": {
          "color": "#FFA15A",
          "symbol": "circle"
         },
         "mode": "markers",
         "name": "28.421052632",
         "orientation": "h",
         "showlegend": true,
         "type": "scatter",
         "x": [
          55050
         ],
         "xaxis": "x",
         "y": [
          "28.421052632"
         ],
         "yaxis": "y"
        },
        {
         "hovertemplate": "PERCENT_3_OR_ABOVE=28.421052632<extra></extra>",
         "legendgroup": "28.421052632",
         "line": {
          "color": "darkblue"
         },
         "marker": {
          "color": "#FFA15A",
          "symbol": "circle"
         },
         "mode": "lines",
         "name": "28.421052632",
         "showlegend": false,
         "type": "scatter",
         "xaxis": "x",
         "yaxis": "y"
        },
        {
         "hovertemplate": "PERCENT_3_OR_ABOVE=%{y}<br>population=%{x}<extra></extra>",
         "legendgroup": "50.54200542",
         "marker": {
          "color": "#19d3f3",
          "symbol": "circle"
         },
         "mode": "markers",
         "name": "50.54200542",
         "orientation": "h",
         "showlegend": true,
         "type": "scatter",
         "x": [
          87206
         ],
         "xaxis": "x",
         "y": [
          "50.54200542"
         ],
         "yaxis": "y"
        },
        {
         "hovertemplate": "PERCENT_3_OR_ABOVE=50.54200542<extra></extra>",
         "legendgroup": "50.54200542",
         "line": {
          "color": "darkblue"
         },
         "marker": {
          "color": "#19d3f3",
          "symbol": "circle"
         },
         "mode": "lines",
         "name": "50.54200542",
         "showlegend": false,
         "type": "scatter",
         "xaxis": "x",
         "yaxis": "y"
        },
        {
         "hovertemplate": "PERCENT_3_OR_ABOVE=%{y}<br>population=%{x}<extra></extra>",
         "legendgroup": "52.380952381",
         "marker": {
          "color": "#FF6692",
          "symbol": "circle"
         },
         "mode": "markers",
         "name": "52.380952381",
         "orientation": "h",
         "showlegend": true,
         "type": "scatter",
         "x": [
          37092
         ],
         "xaxis": "x",
         "y": [
          "52.380952381"
         ],
         "yaxis": "y"
        },
        {
         "hovertemplate": "PERCENT_3_OR_ABOVE=52.380952381<extra></extra>",
         "legendgroup": "52.380952381",
         "line": {
          "color": "darkblue"
         },
         "marker": {
          "color": "#FF6692",
          "symbol": "circle"
         },
         "mode": "lines",
         "name": "52.380952381",
         "showlegend": false,
         "type": "scatter",
         "xaxis": "x",
         "yaxis": "y"
        },
        {
         "hovertemplate": "PERCENT_3_OR_ABOVE=%{y}<br>population=%{x}<extra></extra>",
         "legendgroup": "27.272727273",
         "marker": {
          "color": "#B6E880",
          "symbol": "circle"
         },
         "mode": "markers",
         "name": "27.272727273",
         "orientation": "h",
         "showlegend": true,
         "type": "scatter",
         "x": [
          21228
         ],
         "xaxis": "x",
         "y": [
          "27.272727273"
         ],
         "yaxis": "y"
        },
        {
         "hovertemplate": "PERCENT_3_OR_ABOVE=27.272727273<extra></extra>",
         "legendgroup": "27.272727273",
         "line": {
          "color": "darkblue"
         },
         "marker": {
          "color": "#B6E880",
          "symbol": "circle"
         },
         "mode": "lines",
         "name": "27.272727273",
         "showlegend": false,
         "type": "scatter",
         "xaxis": "x",
         "yaxis": "y"
        },
        {
         "hovertemplate": "PERCENT_3_OR_ABOVE=%{y}<br>population=%{x}<extra></extra>",
         "legendgroup": "43.835616438",
         "marker": {
          "color": "#FF97FF",
          "symbol": "circle"
         },
         "mode": "markers",
         "name": "43.835616438",
         "orientation": "h",
         "showlegend": true,
         "type": "scatter",
         "x": [
          0
         ],
         "xaxis": "x",
         "y": [
          "43.835616438"
         ],
         "yaxis": "y"
        },
        {
         "hovertemplate": "PERCENT_3_OR_ABOVE=43.835616438<extra></extra>",
         "legendgroup": "43.835616438",
         "line": {
          "color": "darkblue"
         },
         "marker": {
          "color": "#FF97FF",
          "symbol": "circle"
         },
         "mode": "lines",
         "name": "43.835616438",
         "showlegend": false,
         "type": "scatter",
         "xaxis": "x",
         "yaxis": "y"
        },
        {
         "hovertemplate": "PERCENT_3_OR_ABOVE=%{y}<br>population=%{x}<extra></extra>",
         "legendgroup": "63.566535188",
         "marker": {
          "color": "#FECB52",
          "symbol": "circle"
         },
         "mode": "markers",
         "name": "63.566535188",
         "orientation": "h",
         "showlegend": true,
         "type": "scatter",
         "x": [
          1116788
         ],
         "xaxis": "x",
         "y": [
          "63.566535188"
         ],
         "yaxis": "y"
        },
        {
         "hovertemplate": "PERCENT_3_OR_ABOVE=63.566535188<extra></extra>",
         "legendgroup": "63.566535188",
         "line": {
          "color": "darkblue"
         },
         "marker": {
          "color": "#FECB52",
          "symbol": "circle"
         },
         "mode": "lines",
         "name": "63.566535188",
         "showlegend": false,
         "type": "scatter",
         "xaxis": "x",
         "yaxis": "y"
        },
        {
         "hovertemplate": "PERCENT_3_OR_ABOVE=%{y}<br>population=%{x}<extra></extra>",
         "legendgroup": "47.826086957",
         "marker": {
          "color": "#636efa",
          "symbol": "circle"
         },
         "mode": "markers",
         "name": "47.826086957",
         "orientation": "h",
         "showlegend": true,
         "type": "scatter",
         "x": [
          14906
         ],
         "xaxis": "x",
         "y": [
          "47.826086957"
         ],
         "yaxis": "y"
        },
        {
         "hovertemplate": "PERCENT_3_OR_ABOVE=47.826086957<extra></extra>",
         "legendgroup": "47.826086957",
         "line": {
          "color": "darkblue"
         },
         "marker": {
          "color": "#636efa",
          "symbol": "circle"
         },
         "mode": "lines",
         "name": "47.826086957",
         "showlegend": false,
         "type": "scatter",
         "xaxis": "x",
         "yaxis": "y"
        },
        {
         "hovertemplate": "PERCENT_3_OR_ABOVE=%{y}<br>population=%{x}<extra></extra>",
         "legendgroup": "69.714285714",
         "marker": {
          "color": "#EF553B",
          "symbol": "circle"
         },
         "mode": "markers",
         "name": "69.714285714",
         "orientation": "h",
         "showlegend": true,
         "type": "scatter",
         "x": [
          100267
         ],
         "xaxis": "x",
         "y": [
          "69.714285714"
         ],
         "yaxis": "y"
        },
        {
         "hovertemplate": "PERCENT_3_OR_ABOVE=69.714285714<extra></extra>",
         "legendgroup": "69.714285714",
         "line": {
          "color": "darkblue"
         },
         "marker": {
          "color": "#EF553B",
          "symbol": "circle"
         },
         "mode": "lines",
         "name": "69.714285714",
         "showlegend": false,
         "type": "scatter",
         "xaxis": "x",
         "yaxis": "y"
        },
        {
         "hovertemplate": "PERCENT_3_OR_ABOVE=%{y}<br>population=%{x}<extra></extra>",
         "legendgroup": "65.967365967",
         "marker": {
          "color": "#00cc96",
          "symbol": "circle"
         },
         "mode": "markers",
         "name": "65.967365967",
         "orientation": "h",
         "showlegend": true,
         "type": "scatter",
         "x": [
          226307
         ],
         "xaxis": "x",
         "y": [
          "65.967365967"
         ],
         "yaxis": "y"
        },
        {
         "hovertemplate": "PERCENT_3_OR_ABOVE=65.967365967<extra></extra>",
         "legendgroup": "65.967365967",
         "line": {
          "color": "darkblue"
         },
         "marker": {
          "color": "#00cc96",
          "symbol": "circle"
         },
         "mode": "lines",
         "name": "65.967365967",
         "showlegend": false,
         "type": "scatter",
         "xaxis": "x",
         "yaxis": "y"
        },
        {
         "hovertemplate": "PERCENT_3_OR_ABOVE=%{y}<br>population=%{x}<extra></extra>",
         "legendgroup": "40.822467402",
         "marker": {
          "color": "#ab63fa",
          "symbol": "circle"
         },
         "mode": "markers",
         "name": "40.822467402",
         "orientation": "h",
         "showlegend": true,
         "type": "scatter",
         "x": [
          204937
         ],
         "xaxis": "x",
         "y": [
          "40.822467402"
         ],
         "yaxis": "y"
        },
        {
         "hovertemplate": "PERCENT_3_OR_ABOVE=40.822467402<extra></extra>",
         "legendgroup": "40.822467402",
         "line": {
          "color": "darkblue"
         },
         "marker": {
          "color": "#ab63fa",
          "symbol": "circle"
         },
         "mode": "lines",
         "name": "40.822467402",
         "showlegend": false,
         "type": "scatter",
         "xaxis": "x",
         "yaxis": "y"
        },
        {
         "hovertemplate": "PERCENT_3_OR_ABOVE=%{y}<br>population=%{x}<extra></extra>",
         "legendgroup": "70.983213429",
         "marker": {
          "color": "#FFA15A",
          "symbol": "circle"
         },
         "mode": "markers",
         "name": "70.983213429",
         "orientation": "h",
         "showlegend": true,
         "type": "scatter",
         "x": [
          143583
         ],
         "xaxis": "x",
         "y": [
          "70.983213429"
         ],
         "yaxis": "y"
        },
        {
         "hovertemplate": "PERCENT_3_OR_ABOVE=70.983213429<extra></extra>",
         "legendgroup": "70.983213429",
         "line": {
          "color": "darkblue"
         },
         "marker": {
          "color": "#FFA15A",
          "symbol": "circle"
         },
         "mode": "lines",
         "name": "70.983213429",
         "showlegend": false,
         "type": "scatter",
         "xaxis": "x",
         "yaxis": "y"
        },
        {
         "hovertemplate": "PERCENT_3_OR_ABOVE=%{y}<br>population=%{x}<extra></extra>",
         "legendgroup": "19.047619048",
         "marker": {
          "color": "#19d3f3",
          "symbol": "circle"
         },
         "mode": "markers",
         "name": "19.047619048",
         "orientation": "h",
         "showlegend": true,
         "type": "scatter",
         "x": [
          12303
         ],
         "xaxis": "x",
         "y": [
          "19.047619048"
         ],
         "yaxis": "y"
        },
        {
         "hovertemplate": "PERCENT_3_OR_ABOVE=19.047619048<extra></extra>",
         "legendgroup": "19.047619048",
         "line": {
          "color": "darkblue"
         },
         "marker": {
          "color": "#19d3f3",
          "symbol": "circle"
         },
         "mode": "lines",
         "name": "19.047619048",
         "showlegend": false,
         "type": "scatter",
         "xaxis": "x",
         "yaxis": "y"
        },
        {
         "hovertemplate": "PERCENT_3_OR_ABOVE=%{y}<br>population=%{x}<extra></extra>",
         "legendgroup": "64.401294498",
         "marker": {
          "color": "#FF6692",
          "symbol": "circle"
         },
         "mode": "markers",
         "name": "64.401294498",
         "orientation": "h",
         "showlegend": true,
         "type": "scatter",
         "x": [
          60642
         ],
         "xaxis": "x",
         "y": [
          "64.401294498"
         ],
         "yaxis": "y"
        },
        {
         "hovertemplate": "PERCENT_3_OR_ABOVE=64.401294498<extra></extra>",
         "legendgroup": "64.401294498",
         "line": {
          "color": "darkblue"
         },
         "marker": {
          "color": "#FF6692",
          "symbol": "circle"
         },
         "mode": "lines",
         "name": "64.401294498",
         "showlegend": false,
         "type": "scatter",
         "xaxis": "x",
         "yaxis": "y"
        },
        {
         "hovertemplate": "PERCENT_3_OR_ABOVE=%{y}<br>population=%{x}<extra></extra>",
         "legendgroup": "66.666666667",
         "marker": {
          "color": "#B6E880",
          "symbol": "circle"
         },
         "mode": "markers",
         "name": "66.666666667",
         "orientation": "h",
         "showlegend": true,
         "type": "scatter",
         "x": [
          13016
         ],
         "xaxis": "x",
         "y": [
          "66.666666667"
         ],
         "yaxis": "y"
        },
        {
         "hovertemplate": "PERCENT_3_OR_ABOVE=66.666666667<extra></extra>",
         "legendgroup": "66.666666667",
         "line": {
          "color": "darkblue"
         },
         "marker": {
          "color": "#B6E880",
          "symbol": "circle"
         },
         "mode": "lines",
         "name": "66.666666667",
         "showlegend": false,
         "type": "scatter",
         "xaxis": "x",
         "yaxis": "y"
        },
        {
         "hovertemplate": "PERCENT_3_OR_ABOVE=%{y}<br>population=%{x}<extra></extra>",
         "legendgroup": "43.689320388",
         "marker": {
          "color": "#FF97FF",
          "symbol": "circle"
         },
         "mode": "markers",
         "name": "43.689320388",
         "orientation": "h",
         "showlegend": true,
         "type": "scatter",
         "x": [
          39187
         ],
         "xaxis": "x",
         "y": [
          "43.689320388"
         ],
         "yaxis": "y"
        },
        {
         "hovertemplate": "PERCENT_3_OR_ABOVE=43.689320388<extra></extra>",
         "legendgroup": "43.689320388",
         "line": {
          "color": "darkblue"
         },
         "marker": {
          "color": "#FF97FF",
          "symbol": "circle"
         },
         "mode": "lines",
         "name": "43.689320388",
         "showlegend": false,
         "type": "scatter",
         "xaxis": "x",
         "yaxis": "y"
        },
        {
         "hovertemplate": "PERCENT_3_OR_ABOVE=%{y}<br>population=%{x}<extra></extra>",
         "legendgroup": "52.443384982",
         "marker": {
          "color": "#FECB52",
          "symbol": "circle"
         },
         "mode": "markers",
         "name": "52.443384982",
         "orientation": "h",
         "showlegend": true,
         "type": "scatter",
         "x": [
          170378
         ],
         "xaxis": "x",
         "y": [
          "52.443384982"
         ],
         "yaxis": "y"
        },
        {
         "hovertemplate": "PERCENT_3_OR_ABOVE=52.443384982<extra></extra>",
         "legendgroup": "52.443384982",
         "line": {
          "color": "darkblue"
         },
         "marker": {
          "color": "#FECB52",
          "symbol": "circle"
         },
         "mode": "lines",
         "name": "52.443384982",
         "showlegend": false,
         "type": "scatter",
         "xaxis": "x",
         "yaxis": "y"
        },
        {
         "hovertemplate": "PERCENT_3_OR_ABOVE=%{y}<br>population=%{x}<extra></extra>",
         "legendgroup": "70",
         "marker": {
          "color": "#636efa",
          "symbol": "circle"
         },
         "mode": "markers",
         "name": "70",
         "orientation": "h",
         "showlegend": true,
         "type": "scatter",
         "x": [
          19383
         ],
         "xaxis": "x",
         "y": [
          "70"
         ],
         "yaxis": "y"
        },
        {
         "hovertemplate": "PERCENT_3_OR_ABOVE=70<extra></extra>",
         "legendgroup": "70",
         "line": {
          "color": "darkblue"
         },
         "marker": {
          "color": "#636efa",
          "symbol": "circle"
         },
         "mode": "lines",
         "name": "70",
         "showlegend": false,
         "type": "scatter",
         "xaxis": "x",
         "yaxis": "y"
        },
        {
         "hovertemplate": "PERCENT_3_OR_ABOVE=%{y}<br>population=%{x}<extra></extra>",
         "legendgroup": "45.862884161",
         "marker": {
          "color": "#EF553B",
          "symbol": "circle"
         },
         "mode": "markers",
         "name": "45.862884161",
         "orientation": "h",
         "showlegend": true,
         "type": "scatter",
         "x": [
          144418
         ],
         "xaxis": "x",
         "y": [
          "45.862884161"
         ],
         "yaxis": "y"
        },
        {
         "hovertemplate": "PERCENT_3_OR_ABOVE=45.862884161<extra></extra>",
         "legendgroup": "45.862884161",
         "line": {
          "color": "darkblue"
         },
         "marker": {
          "color": "#EF553B",
          "symbol": "circle"
         },
         "mode": "lines",
         "name": "45.862884161",
         "showlegend": false,
         "type": "scatter",
         "xaxis": "x",
         "yaxis": "y"
        },
        {
         "hovertemplate": "PERCENT_3_OR_ABOVE=%{y}<br>population=%{x}<extra></extra>",
         "legendgroup": "26.490066225",
         "marker": {
          "color": "#00cc96",
          "symbol": "circle"
         },
         "mode": "markers",
         "name": "26.490066225",
         "orientation": "h",
         "showlegend": true,
         "type": "scatter",
         "x": [
          42916
         ],
         "xaxis": "x",
         "y": [
          "26.490066225"
         ],
         "yaxis": "y"
        },
        {
         "hovertemplate": "PERCENT_3_OR_ABOVE=26.490066225<extra></extra>",
         "legendgroup": "26.490066225",
         "line": {
          "color": "darkblue"
         },
         "marker": {
          "color": "#00cc96",
          "symbol": "circle"
         },
         "mode": "lines",
         "name": "26.490066225",
         "showlegend": false,
         "type": "scatter",
         "xaxis": "x",
         "yaxis": "y"
        },
        {
         "hovertemplate": "PERCENT_3_OR_ABOVE=%{y}<br>population=%{x}<extra></extra>",
         "legendgroup": "23.722627737",
         "marker": {
          "color": "#ab63fa",
          "symbol": "circle"
         },
         "mode": "markers",
         "name": "23.722627737",
         "orientation": "h",
         "showlegend": true,
         "type": "scatter",
         "x": [
          116305
         ],
         "xaxis": "x",
         "y": [
          "23.722627737"
         ],
         "yaxis": "y"
        },
        {
         "hovertemplate": "PERCENT_3_OR_ABOVE=23.722627737<extra></extra>",
         "legendgroup": "23.722627737",
         "line": {
          "color": "darkblue"
         },
         "marker": {
          "color": "#ab63fa",
          "symbol": "circle"
         },
         "mode": "lines",
         "name": "23.722627737",
         "showlegend": false,
         "type": "scatter",
         "xaxis": "x",
         "yaxis": "y"
        },
        {
         "hovertemplate": "PERCENT_3_OR_ABOVE=%{y}<br>population=%{x}<extra></extra>",
         "legendgroup": "39.051094891",
         "marker": {
          "color": "#FFA15A",
          "symbol": "circle"
         },
         "mode": "markers",
         "name": "39.051094891",
         "orientation": "h",
         "showlegend": true,
         "type": "scatter",
         "x": [
          91188
         ],
         "xaxis": "x",
         "y": [
          "39.051094891"
         ],
         "yaxis": "y"
        },
        {
         "hovertemplate": "PERCENT_3_OR_ABOVE=39.051094891<extra></extra>",
         "legendgroup": "39.051094891",
         "line": {
          "color": "darkblue"
         },
         "marker": {
          "color": "#FFA15A",
          "symbol": "circle"
         },
         "mode": "lines",
         "name": "39.051094891",
         "showlegend": false,
         "type": "scatter",
         "xaxis": "x",
         "yaxis": "y"
        },
        {
         "hovertemplate": "PERCENT_3_OR_ABOVE=%{y}<br>population=%{x}<extra></extra>",
         "legendgroup": "49.101796407",
         "marker": {
          "color": "#19d3f3",
          "symbol": "circle"
         },
         "mode": "markers",
         "name": "49.101796407",
         "orientation": "h",
         "showlegend": true,
         "type": "scatter",
         "x": [
          64479
         ],
         "xaxis": "x",
         "y": [
          "49.101796407"
         ],
         "yaxis": "y"
        },
        {
         "hovertemplate": "PERCENT_3_OR_ABOVE=49.101796407<extra></extra>",
         "legendgroup": "49.101796407",
         "line": {
          "color": "darkblue"
         },
         "marker": {
          "color": "#19d3f3",
          "symbol": "circle"
         },
         "mode": "lines",
         "name": "49.101796407",
         "showlegend": false,
         "type": "scatter",
         "xaxis": "x",
         "yaxis": "y"
        },
        {
         "hovertemplate": "PERCENT_3_OR_ABOVE=%{y}<br>population=%{x}<extra></extra>",
         "legendgroup": "39.240506329",
         "marker": {
          "color": "#FF6692",
          "symbol": "circle"
         },
         "mode": "markers",
         "name": "39.240506329",
         "orientation": "h",
         "showlegend": true,
         "type": "scatter",
         "x": [
          59078
         ],
         "xaxis": "x",
         "y": [
          "39.240506329"
         ],
         "yaxis": "y"
        },
        {
         "hovertemplate": "PERCENT_3_OR_ABOVE=39.240506329<extra></extra>",
         "legendgroup": "39.240506329",
         "line": {
          "color": "darkblue"
         },
         "marker": {
          "color": "#FF6692",
          "symbol": "circle"
         },
         "mode": "lines",
         "name": "39.240506329",
         "showlegend": false,
         "type": "scatter",
         "xaxis": "x",
         "yaxis": "y"
        },
        {
         "hovertemplate": "PERCENT_3_OR_ABOVE=%{y}<br>population=%{x}<extra></extra>",
         "legendgroup": "47.959183673",
         "marker": {
          "color": "#B6E880",
          "symbol": "circle"
         },
         "mode": "markers",
         "name": "47.959183673",
         "orientation": "h",
         "showlegend": true,
         "type": "scatter",
         "x": [
          34141
         ],
         "xaxis": "x",
         "y": [
          "47.959183673"
         ],
         "yaxis": "y"
        },
        {
         "hovertemplate": "PERCENT_3_OR_ABOVE=47.959183673<extra></extra>",
         "legendgroup": "47.959183673",
         "line": {
          "color": "darkblue"
         },
         "marker": {
          "color": "#B6E880",
          "symbol": "circle"
         },
         "mode": "lines",
         "name": "47.959183673",
         "showlegend": false,
         "type": "scatter",
         "xaxis": "x",
         "yaxis": "y"
        },
        {
         "hovertemplate": "PERCENT_3_OR_ABOVE=%{y}<br>population=%{x}<extra></extra>",
         "legendgroup": "52.941176471",
         "marker": {
          "color": "#FF97FF",
          "symbol": "circle"
         },
         "mode": "markers",
         "name": "52.941176471",
         "orientation": "h",
         "showlegend": true,
         "type": "scatter",
         "x": [
          62638
         ],
         "xaxis": "x",
         "y": [
          "52.941176471"
         ],
         "yaxis": "y"
        },
        {
         "hovertemplate": "PERCENT_3_OR_ABOVE=52.941176471<extra></extra>",
         "legendgroup": "52.941176471",
         "line": {
          "color": "darkblue"
         },
         "marker": {
          "color": "#FF97FF",
          "symbol": "circle"
         },
         "mode": "lines",
         "name": "52.941176471",
         "showlegend": false,
         "type": "scatter",
         "xaxis": "x",
         "yaxis": "y"
        },
        {
         "hovertemplate": "PERCENT_3_OR_ABOVE=%{y}<br>population=%{x}<extra></extra>",
         "legendgroup": "54.918032787",
         "marker": {
          "color": "#FECB52",
          "symbol": "circle"
         },
         "mode": "markers",
         "name": "54.918032787",
         "orientation": "h",
         "showlegend": true,
         "type": "scatter",
         "x": [
          44565
         ],
         "xaxis": "x",
         "y": [
          "54.918032787"
         ],
         "yaxis": "y"
        },
        {
         "hovertemplate": "PERCENT_3_OR_ABOVE=54.918032787<extra></extra>",
         "legendgroup": "54.918032787",
         "line": {
          "color": "darkblue"
         },
         "marker": {
          "color": "#FECB52",
          "symbol": "circle"
         },
         "mode": "lines",
         "name": "54.918032787",
         "showlegend": false,
         "type": "scatter",
         "xaxis": "x",
         "yaxis": "y"
        },
        {
         "hovertemplate": "PERCENT_3_OR_ABOVE=%{y}<br>population=%{x}<extra></extra>",
         "legendgroup": "52.727272727",
         "marker": {
          "color": "#636efa",
          "symbol": "circle"
         },
         "mode": "markers",
         "name": "52.727272727",
         "orientation": "h",
         "showlegend": true,
         "type": "scatter",
         "x": [
          71372
         ],
         "xaxis": "x",
         "y": [
          "52.727272727"
         ],
         "yaxis": "y"
        },
        {
         "hovertemplate": "PERCENT_3_OR_ABOVE=52.727272727<extra></extra>",
         "legendgroup": "52.727272727",
         "line": {
          "color": "darkblue"
         },
         "marker": {
          "color": "#636efa",
          "symbol": "circle"
         },
         "mode": "lines",
         "name": "52.727272727",
         "showlegend": false,
         "type": "scatter",
         "xaxis": "x",
         "yaxis": "y"
        },
        {
         "hovertemplate": "PERCENT_3_OR_ABOVE=%{y}<br>population=%{x}<extra></extra>",
         "legendgroup": "55",
         "marker": {
          "color": "#EF553B",
          "symbol": "circle"
         },
         "mode": "markers",
         "name": "55",
         "orientation": "h",
         "showlegend": true,
         "type": "scatter",
         "x": [
          14099
         ],
         "xaxis": "x",
         "y": [
          "55"
         ],
         "yaxis": "y"
        },
        {
         "hovertemplate": "PERCENT_3_OR_ABOVE=55<extra></extra>",
         "legendgroup": "55",
         "line": {
          "color": "darkblue"
         },
         "marker": {
          "color": "#EF553B",
          "symbol": "circle"
         },
         "mode": "lines",
         "name": "55",
         "showlegend": false,
         "type": "scatter",
         "xaxis": "x",
         "yaxis": "y"
        },
        {
         "hovertemplate": "PERCENT_3_OR_ABOVE=%{y}<br>population=%{x}<extra></extra>",
         "legendgroup": "69.512195122",
         "marker": {
          "color": "#00cc96",
          "symbol": "circle"
         },
         "mode": "markers",
         "name": "69.512195122",
         "orientation": "h",
         "showlegend": true,
         "type": "scatter",
         "x": [
          33046
         ],
         "xaxis": "x",
         "y": [
          "69.512195122"
         ],
         "yaxis": "y"
        },
        {
         "hovertemplate": "PERCENT_3_OR_ABOVE=69.512195122<extra></extra>",
         "legendgroup": "69.512195122",
         "line": {
          "color": "darkblue"
         },
         "marker": {
          "color": "#00cc96",
          "symbol": "circle"
         },
         "mode": "lines",
         "name": "69.512195122",
         "showlegend": false,
         "type": "scatter",
         "xaxis": "x",
         "yaxis": "y"
        },
        {
         "hovertemplate": "PERCENT_3_OR_ABOVE=%{y}<br>population=%{x}<extra></extra>",
         "legendgroup": "70.89678511",
         "marker": {
          "color": "#ab63fa",
          "symbol": "circle"
         },
         "mode": "markers",
         "name": "70.89678511",
         "orientation": "h",
         "showlegend": true,
         "type": "scatter",
         "x": [
          239443
         ],
         "xaxis": "x",
         "y": [
          "70.89678511"
         ],
         "yaxis": "y"
        },
        {
         "hovertemplate": "PERCENT_3_OR_ABOVE=70.89678511<extra></extra>",
         "legendgroup": "70.89678511",
         "line": {
          "color": "darkblue"
         },
         "marker": {
          "color": "#ab63fa",
          "symbol": "circle"
         },
         "mode": "lines",
         "name": "70.89678511",
         "showlegend": false,
         "type": "scatter",
         "xaxis": "x",
         "yaxis": "y"
        },
        {
         "hovertemplate": "PERCENT_3_OR_ABOVE=%{y}<br>population=%{x}<extra></extra>",
         "legendgroup": "67.993273543",
         "marker": {
          "color": "#FFA15A",
          "symbol": "circle"
         },
         "mode": "markers",
         "name": "67.993273543",
         "orientation": "h",
         "showlegend": true,
         "type": "scatter",
         "x": [
          1130685
         ],
         "xaxis": "x",
         "y": [
          "67.993273543"
         ],
         "yaxis": "y"
        },
        {
         "hovertemplate": "PERCENT_3_OR_ABOVE=67.993273543<extra></extra>",
         "legendgroup": "67.993273543",
         "line": {
          "color": "darkblue"
         },
         "marker": {
          "color": "#FFA15A",
          "symbol": "circle"
         },
         "mode": "lines",
         "name": "67.993273543",
         "showlegend": false,
         "type": "scatter",
         "xaxis": "x",
         "yaxis": "y"
        },
        {
         "hovertemplate": "PERCENT_3_OR_ABOVE=%{y}<br>population=%{x}<extra></extra>",
         "legendgroup": "74.733096085",
         "marker": {
          "color": "#19d3f3",
          "symbol": "circle"
         },
         "mode": "markers",
         "name": "74.733096085",
         "orientation": "h",
         "showlegend": true,
         "type": "scatter",
         "x": [
          54117
         ],
         "xaxis": "x",
         "y": [
          "74.733096085"
         ],
         "yaxis": "y"
        },
        {
         "hovertemplate": "PERCENT_3_OR_ABOVE=74.733096085<extra></extra>",
         "legendgroup": "74.733096085",
         "line": {
          "color": "darkblue"
         },
         "marker": {
          "color": "#19d3f3",
          "symbol": "circle"
         },
         "mode": "lines",
         "name": "74.733096085",
         "showlegend": false,
         "type": "scatter",
         "xaxis": "x",
         "yaxis": "y"
        },
        {
         "hovertemplate": "PERCENT_3_OR_ABOVE=%{y}<br>population=%{x}<extra></extra>",
         "legendgroup": "33.054393305",
         "marker": {
          "color": "#FF6692",
          "symbol": "circle"
         },
         "mode": "markers",
         "name": "33.054393305",
         "orientation": "h",
         "showlegend": true,
         "type": "scatter",
         "x": [
          117266
         ],
         "xaxis": "x",
         "y": [
          "33.054393305"
         ],
         "yaxis": "y"
        },
        {
         "hovertemplate": "PERCENT_3_OR_ABOVE=33.054393305<extra></extra>",
         "legendgroup": "33.054393305",
         "line": {
          "color": "darkblue"
         },
         "marker": {
          "color": "#FF6692",
          "symbol": "circle"
         },
         "mode": "lines",
         "name": "33.054393305",
         "showlegend": false,
         "type": "scatter",
         "xaxis": "x",
         "yaxis": "y"
        },
        {
         "hovertemplate": "PERCENT_3_OR_ABOVE=%{y}<br>population=%{x}<extra></extra>",
         "legendgroup": "49.743589744",
         "marker": {
          "color": "#B6E880",
          "symbol": "circle"
         },
         "mode": "markers",
         "name": "49.743589744",
         "orientation": "h",
         "showlegend": true,
         "type": "scatter",
         "x": [
          65904
         ],
         "xaxis": "x",
         "y": [
          "49.743589744"
         ],
         "yaxis": "y"
        },
        {
         "hovertemplate": "PERCENT_3_OR_ABOVE=49.743589744<extra></extra>",
         "legendgroup": "49.743589744",
         "line": {
          "color": "darkblue"
         },
         "marker": {
          "color": "#B6E880",
          "symbol": "circle"
         },
         "mode": "lines",
         "name": "49.743589744",
         "showlegend": false,
         "type": "scatter",
         "xaxis": "x",
         "yaxis": "y"
        },
        {
         "hovertemplate": "PERCENT_3_OR_ABOVE=%{y}<br>population=%{x}<extra></extra>",
         "legendgroup": "53.333333333",
         "marker": {
          "color": "#FF97FF",
          "symbol": "circle"
         },
         "mode": "markers",
         "name": "53.333333333",
         "orientation": "h",
         "showlegend": true,
         "type": "scatter",
         "x": [
          78807
         ],
         "xaxis": "x",
         "y": [
          "53.333333333"
         ],
         "yaxis": "y"
        },
        {
         "hovertemplate": "PERCENT_3_OR_ABOVE=53.333333333<extra></extra>",
         "legendgroup": "53.333333333",
         "line": {
          "color": "darkblue"
         },
         "marker": {
          "color": "#FF97FF",
          "symbol": "circle"
         },
         "mode": "lines",
         "name": "53.333333333",
         "showlegend": false,
         "type": "scatter",
         "xaxis": "x",
         "yaxis": "y"
        },
        {
         "hovertemplate": "PERCENT_3_OR_ABOVE=%{y}<br>population=%{x}<extra></extra>",
         "legendgroup": "42.424242424",
         "marker": {
          "color": "#FECB52",
          "symbol": "circle"
         },
         "mode": "markers",
         "name": "42.424242424",
         "orientation": "h",
         "showlegend": true,
         "type": "scatter",
         "x": [
          37246
         ],
         "xaxis": "x",
         "y": [
          "42.424242424"
         ],
         "yaxis": "y"
        },
        {
         "hovertemplate": "PERCENT_3_OR_ABOVE=42.424242424<extra></extra>",
         "legendgroup": "42.424242424",
         "line": {
          "color": "darkblue"
         },
         "marker": {
          "color": "#FECB52",
          "symbol": "circle"
         },
         "mode": "lines",
         "name": "42.424242424",
         "showlegend": false,
         "type": "scatter",
         "xaxis": "x",
         "yaxis": "y"
        },
        {
         "hovertemplate": "PERCENT_3_OR_ABOVE=%{y}<br>population=%{x}<extra></extra>",
         "legendgroup": "71.875",
         "marker": {
          "color": "#636efa",
          "symbol": "circle"
         },
         "mode": "markers",
         "name": "71.875",
         "orientation": "h",
         "showlegend": true,
         "type": "scatter",
         "x": [
          18490
         ],
         "xaxis": "x",
         "y": [
          "71.875"
         ],
         "yaxis": "y"
        },
        {
         "hovertemplate": "PERCENT_3_OR_ABOVE=71.875<extra></extra>",
         "legendgroup": "71.875",
         "line": {
          "color": "darkblue"
         },
         "marker": {
          "color": "#636efa",
          "symbol": "circle"
         },
         "mode": "lines",
         "name": "71.875",
         "showlegend": false,
         "type": "scatter",
         "xaxis": "x",
         "yaxis": "y"
        }
       ],
       "layout": {
        "height": 600,
        "legend": {
         "title": {
          "text": "PERCENT_3_OR_ABOVE"
         },
         "tracegroupgap": 0
        },
        "template": {
         "data": {
          "bar": [
           {
            "error_x": {
             "color": "#2a3f5f"
            },
            "error_y": {
             "color": "#2a3f5f"
            },
            "marker": {
             "line": {
              "color": "#E5ECF6",
              "width": 0.5
             },
             "pattern": {
              "fillmode": "overlay",
              "size": 10,
              "solidity": 0.2
             }
            },
            "type": "bar"
           }
          ],
          "barpolar": [
           {
            "marker": {
             "line": {
              "color": "#E5ECF6",
              "width": 0.5
             },
             "pattern": {
              "fillmode": "overlay",
              "size": 10,
              "solidity": 0.2
             }
            },
            "type": "barpolar"
           }
          ],
          "carpet": [
           {
            "aaxis": {
             "endlinecolor": "#2a3f5f",
             "gridcolor": "white",
             "linecolor": "white",
             "minorgridcolor": "white",
             "startlinecolor": "#2a3f5f"
            },
            "baxis": {
             "endlinecolor": "#2a3f5f",
             "gridcolor": "white",
             "linecolor": "white",
             "minorgridcolor": "white",
             "startlinecolor": "#2a3f5f"
            },
            "type": "carpet"
           }
          ],
          "choropleth": [
           {
            "colorbar": {
             "outlinewidth": 0,
             "ticks": ""
            },
            "type": "choropleth"
           }
          ],
          "contour": [
           {
            "colorbar": {
             "outlinewidth": 0,
             "ticks": ""
            },
            "colorscale": [
             [
              0,
              "#0d0887"
             ],
             [
              0.1111111111111111,
              "#46039f"
             ],
             [
              0.2222222222222222,
              "#7201a8"
             ],
             [
              0.3333333333333333,
              "#9c179e"
             ],
             [
              0.4444444444444444,
              "#bd3786"
             ],
             [
              0.5555555555555556,
              "#d8576b"
             ],
             [
              0.6666666666666666,
              "#ed7953"
             ],
             [
              0.7777777777777778,
              "#fb9f3a"
             ],
             [
              0.8888888888888888,
              "#fdca26"
             ],
             [
              1,
              "#f0f921"
             ]
            ],
            "type": "contour"
           }
          ],
          "contourcarpet": [
           {
            "colorbar": {
             "outlinewidth": 0,
             "ticks": ""
            },
            "type": "contourcarpet"
           }
          ],
          "heatmap": [
           {
            "colorbar": {
             "outlinewidth": 0,
             "ticks": ""
            },
            "colorscale": [
             [
              0,
              "#0d0887"
             ],
             [
              0.1111111111111111,
              "#46039f"
             ],
             [
              0.2222222222222222,
              "#7201a8"
             ],
             [
              0.3333333333333333,
              "#9c179e"
             ],
             [
              0.4444444444444444,
              "#bd3786"
             ],
             [
              0.5555555555555556,
              "#d8576b"
             ],
             [
              0.6666666666666666,
              "#ed7953"
             ],
             [
              0.7777777777777778,
              "#fb9f3a"
             ],
             [
              0.8888888888888888,
              "#fdca26"
             ],
             [
              1,
              "#f0f921"
             ]
            ],
            "type": "heatmap"
           }
          ],
          "heatmapgl": [
           {
            "colorbar": {
             "outlinewidth": 0,
             "ticks": ""
            },
            "colorscale": [
             [
              0,
              "#0d0887"
             ],
             [
              0.1111111111111111,
              "#46039f"
             ],
             [
              0.2222222222222222,
              "#7201a8"
             ],
             [
              0.3333333333333333,
              "#9c179e"
             ],
             [
              0.4444444444444444,
              "#bd3786"
             ],
             [
              0.5555555555555556,
              "#d8576b"
             ],
             [
              0.6666666666666666,
              "#ed7953"
             ],
             [
              0.7777777777777778,
              "#fb9f3a"
             ],
             [
              0.8888888888888888,
              "#fdca26"
             ],
             [
              1,
              "#f0f921"
             ]
            ],
            "type": "heatmapgl"
           }
          ],
          "histogram": [
           {
            "marker": {
             "pattern": {
              "fillmode": "overlay",
              "size": 10,
              "solidity": 0.2
             }
            },
            "type": "histogram"
           }
          ],
          "histogram2d": [
           {
            "colorbar": {
             "outlinewidth": 0,
             "ticks": ""
            },
            "colorscale": [
             [
              0,
              "#0d0887"
             ],
             [
              0.1111111111111111,
              "#46039f"
             ],
             [
              0.2222222222222222,
              "#7201a8"
             ],
             [
              0.3333333333333333,
              "#9c179e"
             ],
             [
              0.4444444444444444,
              "#bd3786"
             ],
             [
              0.5555555555555556,
              "#d8576b"
             ],
             [
              0.6666666666666666,
              "#ed7953"
             ],
             [
              0.7777777777777778,
              "#fb9f3a"
             ],
             [
              0.8888888888888888,
              "#fdca26"
             ],
             [
              1,
              "#f0f921"
             ]
            ],
            "type": "histogram2d"
           }
          ],
          "histogram2dcontour": [
           {
            "colorbar": {
             "outlinewidth": 0,
             "ticks": ""
            },
            "colorscale": [
             [
              0,
              "#0d0887"
             ],
             [
              0.1111111111111111,
              "#46039f"
             ],
             [
              0.2222222222222222,
              "#7201a8"
             ],
             [
              0.3333333333333333,
              "#9c179e"
             ],
             [
              0.4444444444444444,
              "#bd3786"
             ],
             [
              0.5555555555555556,
              "#d8576b"
             ],
             [
              0.6666666666666666,
              "#ed7953"
             ],
             [
              0.7777777777777778,
              "#fb9f3a"
             ],
             [
              0.8888888888888888,
              "#fdca26"
             ],
             [
              1,
              "#f0f921"
             ]
            ],
            "type": "histogram2dcontour"
           }
          ],
          "mesh3d": [
           {
            "colorbar": {
             "outlinewidth": 0,
             "ticks": ""
            },
            "type": "mesh3d"
           }
          ],
          "parcoords": [
           {
            "line": {
             "colorbar": {
              "outlinewidth": 0,
              "ticks": ""
             }
            },
            "type": "parcoords"
           }
          ],
          "pie": [
           {
            "automargin": true,
            "type": "pie"
           }
          ],
          "scatter": [
           {
            "fillpattern": {
             "fillmode": "overlay",
             "size": 10,
             "solidity": 0.2
            },
            "type": "scatter"
           }
          ],
          "scatter3d": [
           {
            "line": {
             "colorbar": {
              "outlinewidth": 0,
              "ticks": ""
             }
            },
            "marker": {
             "colorbar": {
              "outlinewidth": 0,
              "ticks": ""
             }
            },
            "type": "scatter3d"
           }
          ],
          "scattercarpet": [
           {
            "marker": {
             "colorbar": {
              "outlinewidth": 0,
              "ticks": ""
             }
            },
            "type": "scattercarpet"
           }
          ],
          "scattergeo": [
           {
            "marker": {
             "colorbar": {
              "outlinewidth": 0,
              "ticks": ""
             }
            },
            "type": "scattergeo"
           }
          ],
          "scattergl": [
           {
            "marker": {
             "colorbar": {
              "outlinewidth": 0,
              "ticks": ""
             }
            },
            "type": "scattergl"
           }
          ],
          "scattermapbox": [
           {
            "marker": {
             "colorbar": {
              "outlinewidth": 0,
              "ticks": ""
             }
            },
            "type": "scattermapbox"
           }
          ],
          "scatterpolar": [
           {
            "marker": {
             "colorbar": {
              "outlinewidth": 0,
              "ticks": ""
             }
            },
            "type": "scatterpolar"
           }
          ],
          "scatterpolargl": [
           {
            "marker": {
             "colorbar": {
              "outlinewidth": 0,
              "ticks": ""
             }
            },
            "type": "scatterpolargl"
           }
          ],
          "scatterternary": [
           {
            "marker": {
             "colorbar": {
              "outlinewidth": 0,
              "ticks": ""
             }
            },
            "type": "scatterternary"
           }
          ],
          "surface": [
           {
            "colorbar": {
             "outlinewidth": 0,
             "ticks": ""
            },
            "colorscale": [
             [
              0,
              "#0d0887"
             ],
             [
              0.1111111111111111,
              "#46039f"
             ],
             [
              0.2222222222222222,
              "#7201a8"
             ],
             [
              0.3333333333333333,
              "#9c179e"
             ],
             [
              0.4444444444444444,
              "#bd3786"
             ],
             [
              0.5555555555555556,
              "#d8576b"
             ],
             [
              0.6666666666666666,
              "#ed7953"
             ],
             [
              0.7777777777777778,
              "#fb9f3a"
             ],
             [
              0.8888888888888888,
              "#fdca26"
             ],
             [
              1,
              "#f0f921"
             ]
            ],
            "type": "surface"
           }
          ],
          "table": [
           {
            "cells": {
             "fill": {
              "color": "#EBF0F8"
             },
             "line": {
              "color": "white"
             }
            },
            "header": {
             "fill": {
              "color": "#C8D4E3"
             },
             "line": {
              "color": "white"
             }
            },
            "type": "table"
           }
          ]
         },
         "layout": {
          "annotationdefaults": {
           "arrowcolor": "#2a3f5f",
           "arrowhead": 0,
           "arrowwidth": 1
          },
          "autotypenumbers": "strict",
          "coloraxis": {
           "colorbar": {
            "outlinewidth": 0,
            "ticks": ""
           }
          },
          "colorscale": {
           "diverging": [
            [
             0,
             "#8e0152"
            ],
            [
             0.1,
             "#c51b7d"
            ],
            [
             0.2,
             "#de77ae"
            ],
            [
             0.3,
             "#f1b6da"
            ],
            [
             0.4,
             "#fde0ef"
            ],
            [
             0.5,
             "#f7f7f7"
            ],
            [
             0.6,
             "#e6f5d0"
            ],
            [
             0.7,
             "#b8e186"
            ],
            [
             0.8,
             "#7fbc41"
            ],
            [
             0.9,
             "#4d9221"
            ],
            [
             1,
             "#276419"
            ]
           ],
           "sequential": [
            [
             0,
             "#0d0887"
            ],
            [
             0.1111111111111111,
             "#46039f"
            ],
            [
             0.2222222222222222,
             "#7201a8"
            ],
            [
             0.3333333333333333,
             "#9c179e"
            ],
            [
             0.4444444444444444,
             "#bd3786"
            ],
            [
             0.5555555555555556,
             "#d8576b"
            ],
            [
             0.6666666666666666,
             "#ed7953"
            ],
            [
             0.7777777777777778,
             "#fb9f3a"
            ],
            [
             0.8888888888888888,
             "#fdca26"
            ],
            [
             1,
             "#f0f921"
            ]
           ],
           "sequentialminus": [
            [
             0,
             "#0d0887"
            ],
            [
             0.1111111111111111,
             "#46039f"
            ],
            [
             0.2222222222222222,
             "#7201a8"
            ],
            [
             0.3333333333333333,
             "#9c179e"
            ],
            [
             0.4444444444444444,
             "#bd3786"
            ],
            [
             0.5555555555555556,
             "#d8576b"
            ],
            [
             0.6666666666666666,
             "#ed7953"
            ],
            [
             0.7777777777777778,
             "#fb9f3a"
            ],
            [
             0.8888888888888888,
             "#fdca26"
            ],
            [
             1,
             "#f0f921"
            ]
           ]
          },
          "colorway": [
           "#636efa",
           "#EF553B",
           "#00cc96",
           "#ab63fa",
           "#FFA15A",
           "#19d3f3",
           "#FF6692",
           "#B6E880",
           "#FF97FF",
           "#FECB52"
          ],
          "font": {
           "color": "#2a3f5f"
          },
          "geo": {
           "bgcolor": "white",
           "lakecolor": "white",
           "landcolor": "#E5ECF6",
           "showlakes": true,
           "showland": true,
           "subunitcolor": "white"
          },
          "hoverlabel": {
           "align": "left"
          },
          "hovermode": "closest",
          "mapbox": {
           "style": "light"
          },
          "paper_bgcolor": "white",
          "plot_bgcolor": "#E5ECF6",
          "polar": {
           "angularaxis": {
            "gridcolor": "white",
            "linecolor": "white",
            "ticks": ""
           },
           "bgcolor": "#E5ECF6",
           "radialaxis": {
            "gridcolor": "white",
            "linecolor": "white",
            "ticks": ""
           }
          },
          "scene": {
           "xaxis": {
            "backgroundcolor": "#E5ECF6",
            "gridcolor": "white",
            "gridwidth": 2,
            "linecolor": "white",
            "showbackground": true,
            "ticks": "",
            "zerolinecolor": "white"
           },
           "yaxis": {
            "backgroundcolor": "#E5ECF6",
            "gridcolor": "white",
            "gridwidth": 2,
            "linecolor": "white",
            "showbackground": true,
            "ticks": "",
            "zerolinecolor": "white"
           },
           "zaxis": {
            "backgroundcolor": "#E5ECF6",
            "gridcolor": "white",
            "gridwidth": 2,
            "linecolor": "white",
            "showbackground": true,
            "ticks": "",
            "zerolinecolor": "white"
           }
          },
          "shapedefaults": {
           "line": {
            "color": "#2a3f5f"
           }
          },
          "ternary": {
           "aaxis": {
            "gridcolor": "white",
            "linecolor": "white",
            "ticks": ""
           },
           "baxis": {
            "gridcolor": "white",
            "linecolor": "white",
            "ticks": ""
           },
           "bgcolor": "#E5ECF6",
           "caxis": {
            "gridcolor": "white",
            "linecolor": "white",
            "ticks": ""
           }
          },
          "title": {
           "x": 0.05
          },
          "xaxis": {
           "automargin": true,
           "gridcolor": "white",
           "linecolor": "white",
           "ticks": "",
           "title": {
            "standoff": 15
           },
           "zerolinecolor": "white",
           "zerolinewidth": 2
          },
          "yaxis": {
           "automargin": true,
           "gridcolor": "white",
           "linecolor": "white",
           "ticks": "",
           "title": {
            "standoff": 15
           },
           "zerolinecolor": "white",
           "zerolinewidth": 2
          }
         }
        },
        "title": {
         "text": "Pass rate vs Population"
        },
        "width": 800,
        "xaxis": {
         "anchor": "y",
         "autorange": true,
         "domain": [
          0,
          1
         ],
         "range": [
          -73961.29701916252,
          1204646.2970191624
         ],
         "title": {
          "text": "population"
         },
         "type": "linear"
        },
        "yaxis": {
         "anchor": "x",
         "autorange": true,
         "categoryarray": [
          "71.875",
          "42.424242424",
          "53.333333333",
          "49.743589744",
          "33.054393305",
          "74.733096085",
          "67.993273543",
          "70.89678511",
          "69.512195122",
          "55",
          "52.727272727",
          "54.918032787",
          "52.941176471",
          "47.959183673",
          "39.240506329",
          "49.101796407",
          "39.051094891",
          "23.722627737",
          "26.490066225",
          "45.862884161",
          "70",
          "52.443384982",
          "43.689320388",
          "66.666666667",
          "64.401294498",
          "19.047619048",
          "70.983213429",
          "40.822467402",
          "65.967365967",
          "69.714285714",
          "47.826086957",
          "63.566535188",
          "43.835616438",
          "27.272727273",
          "52.380952381",
          "50.54200542",
          "28.421052632",
          "53.459119497",
          "55.628415301",
          "65.517241379",
          "37.435897436",
          "66.371681416",
          "44.171779141",
          "43.561643836",
          "58.148274684",
          "29.268292683",
          "24.503311258",
          "47.368421053",
          "44.751381215",
          "47.535211268",
          "70.880587058",
          "31.182795699",
          "57.073954984",
          "33.766233766",
          "60.200668896",
          "60.994764398",
          "50.842696629",
          "60.416666667",
          "50.238095238",
          "43.75",
          "38.372093023",
          "56.060606061",
          "37.931034483",
          "62.561576355",
          "53.249475891",
          "33.333333333",
          "75",
          "51.612903226",
          "57.837837838",
          "65.241295052",
          "50.739957717",
          "59.070191431",
          "57.357357357",
          "45",
          "43.269230769",
          "36.956521739",
          "58.695652174",
          "45.454545455",
          0,
          "53.191489362",
          "60.409924488"
         ],
         "categoryorder": "array",
         "domain": [
          0,
          1
         ],
         "range": [
          -5.356713426853707,
          85.54509018036072
         ],
         "title": {
          "text": "PERCENT_3_OR_ABOVE"
         },
         "type": "category"
        }
       }
      },
      "image/png": "[encoded data removed]",
      "text/html": [
       "<div>                            <div id=\"4d7c4027-66c8-4eb6-9232-51485a85b222\" class=\"plotly-graph-div\" style=\"height:600px; width:800px;\"></div>            <script type=\"text/javascript\">                require([\"plotly\"], function(Plotly) {                    window.PLOTLYENV=window.PLOTLYENV || {};                                    if (document.getElementById(\"4d7c4027-66c8-4eb6-9232-51485a85b222\")) {                    Plotly.newPlot(                        \"4d7c4027-66c8-4eb6-9232-51485a85b222\",                        [{\"hovertemplate\":\"PERCENT_3_OR_ABOVE=%{y}\\u003cbr\\u003epopulation=%{x}\\u003cextra\\u003e\\u003c\\u002fextra\\u003e\",\"legendgroup\":\"60.409924488\",\"marker\":{\"color\":\"#636efa\",\"symbol\":\"circle\"},\"mode\":\"markers\",\"name\":\"60.409924488\",\"orientation\":\"h\",\"showlegend\":true,\"x\":[0.0],\"xaxis\":\"x\",\"y\":[\"60.409924488\"],\"yaxis\":\"y\",\"type\":\"scatter\"},{\"hovertemplate\":\"PERCENT_3_OR_ABOVE=60.409924488\\u003cextra\\u003e\\u003c\\u002fextra\\u003e\",\"legendgroup\":\"60.409924488\",\"line\":{\"color\":\"darkblue\"},\"marker\":{\"color\":\"#636efa\",\"symbol\":\"circle\"},\"mode\":\"lines\",\"name\":\"60.409924488\",\"showlegend\":false,\"xaxis\":\"x\",\"yaxis\":\"y\",\"type\":\"scatter\"},{\"hovertemplate\":\"PERCENT_3_OR_ABOVE=%{y}\\u003cbr\\u003epopulation=%{x}\\u003cextra\\u003e\\u003c\\u002fextra\\u003e\",\"legendgroup\":\"53.191489362\",\"marker\":{\"color\":\"#EF553B\",\"symbol\":\"circle\"},\"mode\":\"markers\",\"name\":\"53.191489362\",\"orientation\":\"h\",\"showlegend\":true,\"x\":[36482.0],\"xaxis\":\"x\",\"y\":[\"53.191489362\"],\"yaxis\":\"y\",\"type\":\"scatter\"},{\"hovertemplate\":\"PERCENT_3_OR_ABOVE=53.191489362\\u003cextra\\u003e\\u003c\\u002fextra\\u003e\",\"legendgroup\":\"53.191489362\",\"line\":{\"color\":\"darkblue\"},\"marker\":{\"color\":\"#EF553B\",\"symbol\":\"circle\"},\"mode\":\"lines\",\"name\":\"53.191489362\",\"showlegend\":false,\"xaxis\":\"x\",\"yaxis\":\"y\",\"type\":\"scatter\"},{\"hovertemplate\":\"PERCENT_3_OR_ABOVE=%{y}\\u003cbr\\u003epopulation=%{x}\\u003cextra\\u003e\\u003c\\u002fextra\\u003e\",\"legendgroup\":\"0\",\"marker\":{\"color\":\"#00cc96\",\"symbol\":\"circle\"},\"mode\":\"markers\",\"name\":\"0\",\"orientation\":\"h\",\"showlegend\":true,\"x\":[10897.0,17862.0,11142.0,10448.0,48521.0,48521.0,21470.0,4551.0,9147.0,21953.0,25719.0,17435.0,42535.0,18598.0,10976.0],\"xaxis\":\"x\",\"y\":[0,0,0,0,0,0,0,0,0,0,0,0,0,0,0],\"yaxis\":\"y\",\"type\":\"scatter\"},{\"hovertemplate\":\"\\u003cb\\u003eOLS trendline\\u003c\\u002fb\\u003e\\u003cbr\\u003ePERCENT_3_OR_ABOVE = 0 * population + 0\\u003cbr\\u003eR\\u003csup\\u003e2\\u003c\\u002fsup\\u003e=nan\\u003cbr\\u003e\\u003cbr\\u003ePERCENT_3_OR_ABOVE=%{y} \\u003cb\\u003e(trend)\\u003c\\u002fb\\u003e\\u003cbr\\u003epopulation=%{x}\\u003cextra\\u003e\\u003c\\u002fextra\\u003e\",\"legendgroup\":\"0\",\"line\":{\"color\":\"darkblue\"},\"marker\":{\"color\":\"#00cc96\",\"symbol\":\"circle\"},\"mode\":\"lines\",\"name\":\"0\",\"showlegend\":false,\"x\":[4551.0,9147.0,10448.0,10897.0,10976.0,11142.0,17435.0,17862.0,18598.0,21470.0,21953.0,25719.0,42535.0,48521.0,48521.0],\"xaxis\":\"x\",\"y\":[0.0,0.0,0.0,0.0,0.0,0.0,0.0,0.0,0.0,0.0,0.0,0.0,0.0,0.0,0.0],\"yaxis\":\"y\",\"type\":\"scatter\"},{\"hovertemplate\":\"PERCENT_3_OR_ABOVE=%{y}\\u003cbr\\u003epopulation=%{x}\\u003cextra\\u003e\\u003c\\u002fextra\\u003e\",\"legendgroup\":\"45.454545455\",\"marker\":{\"color\":\"#ab63fa\",\"symbol\":\"circle\"},\"mode\":\"markers\",\"name\":\"45.454545455\",\"orientation\":\"h\",\"showlegend\":true,\"x\":[22033.0],\"xaxis\":\"x\",\"y\":[\"45.454545455\"],\"yaxis\":\"y\",\"type\":\"scatter\"},{\"hovertemplate\":\"PERCENT_3_OR_ABOVE=45.454545455\\u003cextra\\u003e\\u003c\\u002fextra\\u003e\",\"legendgroup\":\"45.454545455\",\"line\":{\"color\":\"darkblue\"},\"marker\":{\"color\":\"#ab63fa\",\"symbol\":\"circle\"},\"mode\":\"lines\",\"name\":\"45.454545455\",\"showlegend\":false,\"xaxis\":\"x\",\"yaxis\":\"y\",\"type\":\"scatter\"},{\"hovertemplate\":\"PERCENT_3_OR_ABOVE=%{y}\\u003cbr\\u003epopulation=%{x}\\u003cextra\\u003e\\u003c\\u002fextra\\u003e\",\"legendgroup\":\"58.695652174\",\"marker\":{\"color\":\"#FFA15A\",\"symbol\":\"circle\"},\"mode\":\"markers\",\"name\":\"58.695652174\",\"orientation\":\"h\",\"showlegend\":true,\"x\":[26580.0],\"xaxis\":\"x\",\"y\":[\"58.695652174\"],\"yaxis\":\"y\",\"type\":\"scatter\"},{\"hovertemplate\":\"PERCENT_3_OR_ABOVE=58.695652174\\u003cextra\\u003e\\u003c\\u002fextra\\u003e\",\"legendgroup\":\"58.695652174\",\"line\":{\"color\":\"darkblue\"},\"marker\":{\"color\":\"#FFA15A\",\"symbol\":\"circle\"},\"mode\":\"lines\",\"name\":\"58.695652174\",\"showlegend\":false,\"xaxis\":\"x\",\"yaxis\":\"y\",\"type\":\"scatter\"},{\"hovertemplate\":\"PERCENT_3_OR_ABOVE=%{y}\\u003cbr\\u003epopulation=%{x}\\u003cextra\\u003e\\u003c\\u002fextra\\u003e\",\"legendgroup\":\"36.956521739\",\"marker\":{\"color\":\"#19d3f3\",\"symbol\":\"circle\"},\"mode\":\"markers\",\"name\":\"36.956521739\",\"orientation\":\"h\",\"showlegend\":true,\"x\":[17848.0],\"xaxis\":\"x\",\"y\":[\"36.956521739\"],\"yaxis\":\"y\",\"type\":\"scatter\"},{\"hovertemplate\":\"PERCENT_3_OR_ABOVE=36.956521739\\u003cextra\\u003e\\u003c\\u002fextra\\u003e\",\"legendgroup\":\"36.956521739\",\"line\":{\"color\":\"darkblue\"},\"marker\":{\"color\":\"#19d3f3\",\"symbol\":\"circle\"},\"mode\":\"lines\",\"name\":\"36.956521739\",\"showlegend\":false,\"xaxis\":\"x\",\"yaxis\":\"y\",\"type\":\"scatter\"},{\"hovertemplate\":\"PERCENT_3_OR_ABOVE=%{y}\\u003cbr\\u003epopulation=%{x}\\u003cextra\\u003e\\u003c\\u002fextra\\u003e\",\"legendgroup\":\"43.269230769\",\"marker\":{\"color\":\"#FF6692\",\"symbol\":\"circle\"},\"mode\":\"markers\",\"name\":\"43.269230769\",\"orientation\":\"h\",\"showlegend\":true,\"x\":[44690.0],\"xaxis\":\"x\",\"y\":[\"43.269230769\"],\"yaxis\":\"y\",\"type\":\"scatter\"},{\"hovertemplate\":\"PERCENT_3_OR_ABOVE=43.269230769\\u003cextra\\u003e\\u003c\\u002fextra\\u003e\",\"legendgroup\":\"43.269230769\",\"line\":{\"color\":\"darkblue\"},\"marker\":{\"color\":\"#FF6692\",\"symbol\":\"circle\"},\"mode\":\"lines\",\"name\":\"43.269230769\",\"showlegend\":false,\"xaxis\":\"x\",\"yaxis\":\"y\",\"type\":\"scatter\"},{\"hovertemplate\":\"PERCENT_3_OR_ABOVE=%{y}\\u003cbr\\u003epopulation=%{x}\\u003cextra\\u003e\\u003c\\u002fextra\\u003e\",\"legendgroup\":\"45\",\"marker\":{\"color\":\"#B6E880\",\"symbol\":\"circle\"},\"mode\":\"markers\",\"name\":\"45\",\"orientation\":\"h\",\"showlegend\":true,\"x\":[29629.0],\"xaxis\":\"x\",\"y\":[\"45\"],\"yaxis\":\"y\",\"type\":\"scatter\"},{\"hovertemplate\":\"PERCENT_3_OR_ABOVE=45\\u003cextra\\u003e\\u003c\\u002fextra\\u003e\",\"legendgroup\":\"45\",\"line\":{\"color\":\"darkblue\"},\"marker\":{\"color\":\"#B6E880\",\"symbol\":\"circle\"},\"mode\":\"lines\",\"name\":\"45\",\"showlegend\":false,\"xaxis\":\"x\",\"yaxis\":\"y\",\"type\":\"scatter\"},{\"hovertemplate\":\"PERCENT_3_OR_ABOVE=%{y}\\u003cbr\\u003epopulation=%{x}\\u003cextra\\u003e\\u003c\\u002fextra\\u003e\",\"legendgroup\":\"57.357357357\",\"marker\":{\"color\":\"#FF97FF\",\"symbol\":\"circle\"},\"mode\":\"markers\",\"name\":\"57.357357357\",\"orientation\":\"h\",\"showlegend\":true,\"x\":[138157.0],\"xaxis\":\"x\",\"y\":[\"57.357357357\"],\"yaxis\":\"y\",\"type\":\"scatter\"},{\"hovertemplate\":\"PERCENT_3_OR_ABOVE=57.357357357\\u003cextra\\u003e\\u003c\\u002fextra\\u003e\",\"legendgroup\":\"57.357357357\",\"line\":{\"color\":\"darkblue\"},\"marker\":{\"color\":\"#FF97FF\",\"symbol\":\"circle\"},\"mode\":\"lines\",\"name\":\"57.357357357\",\"showlegend\":false,\"xaxis\":\"x\",\"yaxis\":\"y\",\"type\":\"scatter\"},{\"hovertemplate\":\"PERCENT_3_OR_ABOVE=%{y}\\u003cbr\\u003epopulation=%{x}\\u003cextra\\u003e\\u003c\\u002fextra\\u003e\",\"legendgroup\":\"59.070191431\",\"marker\":{\"color\":\"#FECB52\",\"symbol\":\"circle\"},\"mode\":\"markers\",\"name\":\"59.070191431\",\"orientation\":\"h\",\"showlegend\":true,\"x\":[269694.0],\"xaxis\":\"x\",\"y\":[\"59.070191431\"],\"yaxis\":\"y\",\"type\":\"scatter\"},{\"hovertemplate\":\"PERCENT_3_OR_ABOVE=59.070191431\\u003cextra\\u003e\\u003c\\u002fextra\\u003e\",\"legendgroup\":\"59.070191431\",\"line\":{\"color\":\"darkblue\"},\"marker\":{\"color\":\"#FECB52\",\"symbol\":\"circle\"},\"mode\":\"lines\",\"name\":\"59.070191431\",\"showlegend\":false,\"xaxis\":\"x\",\"yaxis\":\"y\",\"type\":\"scatter\"},{\"hovertemplate\":\"PERCENT_3_OR_ABOVE=%{y}\\u003cbr\\u003epopulation=%{x}\\u003cextra\\u003e\\u003c\\u002fextra\\u003e\",\"legendgroup\":\"50.739957717\",\"marker\":{\"color\":\"#636efa\",\"symbol\":\"circle\"},\"mode\":\"markers\",\"name\":\"50.739957717\",\"orientation\":\"h\",\"showlegend\":true,\"x\":[87577.0],\"xaxis\":\"x\",\"y\":[\"50.739957717\"],\"yaxis\":\"y\",\"type\":\"scatter\"},{\"hovertemplate\":\"PERCENT_3_OR_ABOVE=50.739957717\\u003cextra\\u003e\\u003c\\u002fextra\\u003e\",\"legendgroup\":\"50.739957717\",\"line\":{\"color\":\"darkblue\"},\"marker\":{\"color\":\"#636efa\",\"symbol\":\"circle\"},\"mode\":\"lines\",\"name\":\"50.739957717\",\"showlegend\":false,\"xaxis\":\"x\",\"yaxis\":\"y\",\"type\":\"scatter\"},{\"hovertemplate\":\"PERCENT_3_OR_ABOVE=%{y}\\u003cbr\\u003epopulation=%{x}\\u003cextra\\u003e\\u003c\\u002fextra\\u003e\",\"legendgroup\":\"65.241295052\",\"marker\":{\"color\":\"#EF553B\",\"symbol\":\"circle\"},\"mode\":\"markers\",\"name\":\"65.241295052\",\"orientation\":\"h\",\"showlegend\":true,\"x\":[227214.0],\"xaxis\":\"x\",\"y\":[\"65.241295052\"],\"yaxis\":\"y\",\"type\":\"scatter\"},{\"hovertemplate\":\"PERCENT_3_OR_ABOVE=65.241295052\\u003cextra\\u003e\\u003c\\u002fextra\\u003e\",\"legendgroup\":\"65.241295052\",\"line\":{\"color\":\"darkblue\"},\"marker\":{\"color\":\"#EF553B\",\"symbol\":\"circle\"},\"mode\":\"lines\",\"name\":\"65.241295052\",\"showlegend\":false,\"xaxis\":\"x\",\"yaxis\":\"y\",\"type\":\"scatter\"},{\"hovertemplate\":\"PERCENT_3_OR_ABOVE=%{y}\\u003cbr\\u003epopulation=%{x}\\u003cextra\\u003e\\u003c\\u002fextra\\u003e\",\"legendgroup\":\"57.837837838\",\"marker\":{\"color\":\"#00cc96\",\"symbol\":\"circle\"},\"mode\":\"markers\",\"name\":\"57.837837838\",\"orientation\":\"h\",\"showlegend\":true,\"x\":[80632.0],\"xaxis\":\"x\",\"y\":[\"57.837837838\"],\"yaxis\":\"y\",\"type\":\"scatter\"},{\"hovertemplate\":\"PERCENT_3_OR_ABOVE=57.837837838\\u003cextra\\u003e\\u003c\\u002fextra\\u003e\",\"legendgroup\":\"57.837837838\",\"line\":{\"color\":\"darkblue\"},\"marker\":{\"color\":\"#00cc96\",\"symbol\":\"circle\"},\"mode\":\"lines\",\"name\":\"57.837837838\",\"showlegend\":false,\"xaxis\":\"x\",\"yaxis\":\"y\",\"type\":\"scatter\"},{\"hovertemplate\":\"PERCENT_3_OR_ABOVE=%{y}\\u003cbr\\u003epopulation=%{x}\\u003cextra\\u003e\\u003c\\u002fextra\\u003e\",\"legendgroup\":\"51.612903226\",\"marker\":{\"color\":\"#ab63fa\",\"symbol\":\"circle\"},\"mode\":\"markers\",\"name\":\"51.612903226\",\"orientation\":\"h\",\"showlegend\":true,\"x\":[10407.0],\"xaxis\":\"x\",\"y\":[\"51.612903226\"],\"yaxis\":\"y\",\"type\":\"scatter\"},{\"hovertemplate\":\"PERCENT_3_OR_ABOVE=51.612903226\\u003cextra\\u003e\\u003c\\u002fextra\\u003e\",\"legendgroup\":\"51.612903226\",\"line\":{\"color\":\"darkblue\"},\"marker\":{\"color\":\"#ab63fa\",\"symbol\":\"circle\"},\"mode\":\"lines\",\"name\":\"51.612903226\",\"showlegend\":false,\"xaxis\":\"x\",\"yaxis\":\"y\",\"type\":\"scatter\"},{\"hovertemplate\":\"PERCENT_3_OR_ABOVE=%{y}\\u003cbr\\u003epopulation=%{x}\\u003cextra\\u003e\\u003c\\u002fextra\\u003e\",\"legendgroup\":\"75\",\"marker\":{\"color\":\"#FFA15A\",\"symbol\":\"circle\"},\"mode\":\"markers\",\"name\":\"75\",\"orientation\":\"h\",\"showlegend\":true,\"x\":[67724.0],\"xaxis\":\"x\",\"y\":[\"75\"],\"yaxis\":\"y\",\"type\":\"scatter\"},{\"hovertemplate\":\"PERCENT_3_OR_ABOVE=75\\u003cextra\\u003e\\u003c\\u002fextra\\u003e\",\"legendgroup\":\"75\",\"line\":{\"color\":\"darkblue\"},\"marker\":{\"color\":\"#FFA15A\",\"symbol\":\"circle\"},\"mode\":\"lines\",\"name\":\"75\",\"showlegend\":false,\"xaxis\":\"x\",\"yaxis\":\"y\",\"type\":\"scatter\"},{\"hovertemplate\":\"PERCENT_3_OR_ABOVE=%{y}\\u003cbr\\u003epopulation=%{x}\\u003cextra\\u003e\\u003c\\u002fextra\\u003e\",\"legendgroup\":\"33.333333333\",\"marker\":{\"color\":\"#19d3f3\",\"symbol\":\"circle\"},\"mode\":\"markers\",\"name\":\"33.333333333\",\"orientation\":\"h\",\"showlegend\":true,\"x\":[22699.0,40577.0],\"xaxis\":\"x\",\"y\":[\"33.333333333\",\"33.333333333\"],\"yaxis\":\"y\",\"type\":\"scatter\"},{\"hovertemplate\":\"\\u003cb\\u003eOLS trendline\\u003c\\u002fb\\u003e\\u003cbr\\u003ePERCENT_3_OR_ABOVE = 2.39649e-19 * population + 33.3333\\u003cbr\\u003eR\\u003csup\\u003e2\\u003c\\u002fsup\\u003e=-inf\\u003cbr\\u003e\\u003cbr\\u003ePERCENT_3_OR_ABOVE=%{y} \\u003cb\\u003e(trend)\\u003c\\u002fb\\u003e\\u003cbr\\u003epopulation=%{x}\\u003cextra\\u003e\\u003c\\u002fextra\\u003e\",\"legendgroup\":\"33.333333333\",\"line\":{\"color\":\"darkblue\"},\"marker\":{\"color\":\"#19d3f3\",\"symbol\":\"circle\"},\"mode\":\"lines\",\"name\":\"33.333333333\",\"showlegend\":false,\"x\":[22699.0,40577.0],\"xaxis\":\"x\",\"y\":[33.33333333299997,33.33333333299997],\"yaxis\":\"y\",\"type\":\"scatter\"},{\"hovertemplate\":\"PERCENT_3_OR_ABOVE=%{y}\\u003cbr\\u003epopulation=%{x}\\u003cextra\\u003e\\u003c\\u002fextra\\u003e\",\"legendgroup\":\"53.249475891\",\"marker\":{\"color\":\"#FF6692\",\"symbol\":\"circle\"},\"mode\":\"markers\",\"name\":\"53.249475891\",\"orientation\":\"h\",\"showlegend\":true,\"x\":[160892.0],\"xaxis\":\"x\",\"y\":[\"53.249475891\"],\"yaxis\":\"y\",\"type\":\"scatter\"},{\"hovertemplate\":\"PERCENT_3_OR_ABOVE=53.249475891\\u003cextra\\u003e\\u003c\\u002fextra\\u003e\",\"legendgroup\":\"53.249475891\",\"line\":{\"color\":\"darkblue\"},\"marker\":{\"color\":\"#FF6692\",\"symbol\":\"circle\"},\"mode\":\"lines\",\"name\":\"53.249475891\",\"showlegend\":false,\"xaxis\":\"x\",\"yaxis\":\"y\",\"type\":\"scatter\"},{\"hovertemplate\":\"PERCENT_3_OR_ABOVE=%{y}\\u003cbr\\u003epopulation=%{x}\\u003cextra\\u003e\\u003c\\u002fextra\\u003e\",\"legendgroup\":\"62.561576355\",\"marker\":{\"color\":\"#B6E880\",\"symbol\":\"circle\"},\"mode\":\"markers\",\"name\":\"62.561576355\",\"orientation\":\"h\",\"showlegend\":true,\"x\":[76670.0],\"xaxis\":\"x\",\"y\":[\"62.561576355\"],\"yaxis\":\"y\",\"type\":\"scatter\"},{\"hovertemplate\":\"PERCENT_3_OR_ABOVE=62.561576355\\u003cextra\\u003e\\u003c\\u002fextra\\u003e\",\"legendgroup\":\"62.561576355\",\"line\":{\"color\":\"darkblue\"},\"marker\":{\"color\":\"#B6E880\",\"symbol\":\"circle\"},\"mode\":\"lines\",\"name\":\"62.561576355\",\"showlegend\":false,\"xaxis\":\"x\",\"yaxis\":\"y\",\"type\":\"scatter\"},{\"hovertemplate\":\"PERCENT_3_OR_ABOVE=%{y}\\u003cbr\\u003epopulation=%{x}\\u003cextra\\u003e\\u003c\\u002fextra\\u003e\",\"legendgroup\":\"37.931034483\",\"marker\":{\"color\":\"#FF97FF\",\"symbol\":\"circle\"},\"mode\":\"markers\",\"name\":\"37.931034483\",\"orientation\":\"h\",\"showlegend\":true,\"x\":[28858.0],\"xaxis\":\"x\",\"y\":[\"37.931034483\"],\"yaxis\":\"y\",\"type\":\"scatter\"},{\"hovertemplate\":\"PERCENT_3_OR_ABOVE=37.931034483\\u003cextra\\u003e\\u003c\\u002fextra\\u003e\",\"legendgroup\":\"37.931034483\",\"line\":{\"color\":\"darkblue\"},\"marker\":{\"color\":\"#FF97FF\",\"symbol\":\"circle\"},\"mode\":\"lines\",\"name\":\"37.931034483\",\"showlegend\":false,\"xaxis\":\"x\",\"yaxis\":\"y\",\"type\":\"scatter\"},{\"hovertemplate\":\"PERCENT_3_OR_ABOVE=%{y}\\u003cbr\\u003epopulation=%{x}\\u003cextra\\u003e\\u003c\\u002fextra\\u003e\",\"legendgroup\":\"56.060606061\",\"marker\":{\"color\":\"#FECB52\",\"symbol\":\"circle\"},\"mode\":\"markers\",\"name\":\"56.060606061\",\"orientation\":\"h\",\"showlegend\":true,\"x\":[99799.0],\"xaxis\":\"x\",\"y\":[\"56.060606061\"],\"yaxis\":\"y\",\"type\":\"scatter\"},{\"hovertemplate\":\"PERCENT_3_OR_ABOVE=56.060606061\\u003cextra\\u003e\\u003c\\u002fextra\\u003e\",\"legendgroup\":\"56.060606061\",\"line\":{\"color\":\"darkblue\"},\"marker\":{\"color\":\"#FECB52\",\"symbol\":\"circle\"},\"mode\":\"lines\",\"name\":\"56.060606061\",\"showlegend\":false,\"xaxis\":\"x\",\"yaxis\":\"y\",\"type\":\"scatter\"},{\"hovertemplate\":\"PERCENT_3_OR_ABOVE=%{y}\\u003cbr\\u003epopulation=%{x}\\u003cextra\\u003e\\u003c\\u002fextra\\u003e\",\"legendgroup\":\"38.372093023\",\"marker\":{\"color\":\"#636efa\",\"symbol\":\"circle\"},\"mode\":\"markers\",\"name\":\"38.372093023\",\"orientation\":\"h\",\"showlegend\":true,\"x\":[50487.0],\"xaxis\":\"x\",\"y\":[\"38.372093023\"],\"yaxis\":\"y\",\"type\":\"scatter\"},{\"hovertemplate\":\"PERCENT_3_OR_ABOVE=38.372093023\\u003cextra\\u003e\\u003c\\u002fextra\\u003e\",\"legendgroup\":\"38.372093023\",\"line\":{\"color\":\"darkblue\"},\"marker\":{\"color\":\"#636efa\",\"symbol\":\"circle\"},\"mode\":\"lines\",\"name\":\"38.372093023\",\"showlegend\":false,\"xaxis\":\"x\",\"yaxis\":\"y\",\"type\":\"scatter\"},{\"hovertemplate\":\"PERCENT_3_OR_ABOVE=%{y}\\u003cbr\\u003epopulation=%{x}\\u003cextra\\u003e\\u003c\\u002fextra\\u003e\",\"legendgroup\":\"43.75\",\"marker\":{\"color\":\"#EF553B\",\"symbol\":\"circle\"},\"mode\":\"markers\",\"name\":\"43.75\",\"orientation\":\"h\",\"showlegend\":true,\"x\":[100646.0],\"xaxis\":\"x\",\"y\":[\"43.75\"],\"yaxis\":\"y\",\"type\":\"scatter\"},{\"hovertemplate\":\"PERCENT_3_OR_ABOVE=43.75\\u003cextra\\u003e\\u003c\\u002fextra\\u003e\",\"legendgroup\":\"43.75\",\"line\":{\"color\":\"darkblue\"},\"marker\":{\"color\":\"#EF553B\",\"symbol\":\"circle\"},\"mode\":\"lines\",\"name\":\"43.75\",\"showlegend\":false,\"xaxis\":\"x\",\"yaxis\":\"y\",\"type\":\"scatter\"},{\"hovertemplate\":\"PERCENT_3_OR_ABOVE=%{y}\\u003cbr\\u003epopulation=%{x}\\u003cextra\\u003e\\u003c\\u002fextra\\u003e\",\"legendgroup\":\"50.238095238\",\"marker\":{\"color\":\"#00cc96\",\"symbol\":\"circle\"},\"mode\":\"markers\",\"name\":\"50.238095238\",\"orientation\":\"h\",\"showlegend\":true,\"x\":[334391.0],\"xaxis\":\"x\",\"y\":[\"50.238095238\"],\"yaxis\":\"y\",\"type\":\"scatter\"},{\"hovertemplate\":\"PERCENT_3_OR_ABOVE=50.238095238\\u003cextra\\u003e\\u003c\\u002fextra\\u003e\",\"legendgroup\":\"50.238095238\",\"line\":{\"color\":\"darkblue\"},\"marker\":{\"color\":\"#00cc96\",\"symbol\":\"circle\"},\"mode\":\"lines\",\"name\":\"50.238095238\",\"showlegend\":false,\"xaxis\":\"x\",\"yaxis\":\"y\",\"type\":\"scatter\"},{\"hovertemplate\":\"PERCENT_3_OR_ABOVE=%{y}\\u003cbr\\u003epopulation=%{x}\\u003cextra\\u003e\\u003c\\u002fextra\\u003e\",\"legendgroup\":\"60.416666667\",\"marker\":{\"color\":\"#ab63fa\",\"symbol\":\"circle\"},\"mode\":\"markers\",\"name\":\"60.416666667\",\"orientation\":\"h\",\"showlegend\":true,\"x\":[28401.0],\"xaxis\":\"x\",\"y\":[\"60.416666667\"],\"yaxis\":\"y\",\"type\":\"scatter\"},{\"hovertemplate\":\"PERCENT_3_OR_ABOVE=60.416666667\\u003cextra\\u003e\\u003c\\u002fextra\\u003e\",\"legendgroup\":\"60.416666667\",\"line\":{\"color\":\"darkblue\"},\"marker\":{\"color\":\"#ab63fa\",\"symbol\":\"circle\"},\"mode\":\"lines\",\"name\":\"60.416666667\",\"showlegend\":false,\"xaxis\":\"x\",\"yaxis\":\"y\",\"type\":\"scatter\"},{\"hovertemplate\":\"PERCENT_3_OR_ABOVE=%{y}\\u003cbr\\u003epopulation=%{x}\\u003cextra\\u003e\\u003c\\u002fextra\\u003e\",\"legendgroup\":\"50.842696629\",\"marker\":{\"color\":\"#FFA15A\",\"symbol\":\"circle\"},\"mode\":\"markers\",\"name\":\"50.842696629\",\"orientation\":\"h\",\"showlegend\":true,\"x\":[37032.0],\"xaxis\":\"x\",\"y\":[\"50.842696629\"],\"yaxis\":\"y\",\"type\":\"scatter\"},{\"hovertemplate\":\"PERCENT_3_OR_ABOVE=50.842696629\\u003cextra\\u003e\\u003c\\u002fextra\\u003e\",\"legendgroup\":\"50.842696629\",\"line\":{\"color\":\"darkblue\"},\"marker\":{\"color\":\"#FFA15A\",\"symbol\":\"circle\"},\"mode\":\"lines\",\"name\":\"50.842696629\",\"showlegend\":false,\"xaxis\":\"x\",\"yaxis\":\"y\",\"type\":\"scatter\"},{\"hovertemplate\":\"PERCENT_3_OR_ABOVE=%{y}\\u003cbr\\u003epopulation=%{x}\\u003cextra\\u003e\\u003c\\u002fextra\\u003e\",\"legendgroup\":\"60.994764398\",\"marker\":{\"color\":\"#19d3f3\",\"symbol\":\"circle\"},\"mode\":\"markers\",\"name\":\"60.994764398\",\"orientation\":\"h\",\"showlegend\":true,\"x\":[169196.0],\"xaxis\":\"x\",\"y\":[\"60.994764398\"],\"yaxis\":\"y\",\"type\":\"scatter\"},{\"hovertemplate\":\"PERCENT_3_OR_ABOVE=60.994764398\\u003cextra\\u003e\\u003c\\u002fextra\\u003e\",\"legendgroup\":\"60.994764398\",\"line\":{\"color\":\"darkblue\"},\"marker\":{\"color\":\"#19d3f3\",\"symbol\":\"circle\"},\"mode\":\"lines\",\"name\":\"60.994764398\",\"showlegend\":false,\"xaxis\":\"x\",\"yaxis\":\"y\",\"type\":\"scatter\"},{\"hovertemplate\":\"PERCENT_3_OR_ABOVE=%{y}\\u003cbr\\u003epopulation=%{x}\\u003cextra\\u003e\\u003c\\u002fextra\\u003e\",\"legendgroup\":\"60.200668896\",\"marker\":{\"color\":\"#FF6692\",\"symbol\":\"circle\"},\"mode\":\"markers\",\"name\":\"60.200668896\",\"orientation\":\"h\",\"showlegend\":true,\"x\":[42895.0],\"xaxis\":\"x\",\"y\":[\"60.200668896\"],\"yaxis\":\"y\",\"type\":\"scatter\"},{\"hovertemplate\":\"PERCENT_3_OR_ABOVE=60.200668896\\u003cextra\\u003e\\u003c\\u002fextra\\u003e\",\"legendgroup\":\"60.200668896\",\"line\":{\"color\":\"darkblue\"},\"marker\":{\"color\":\"#FF6692\",\"symbol\":\"circle\"},\"mode\":\"lines\",\"name\":\"60.200668896\",\"showlegend\":false,\"xaxis\":\"x\",\"yaxis\":\"y\",\"type\":\"scatter\"},{\"hovertemplate\":\"PERCENT_3_OR_ABOVE=%{y}\\u003cbr\\u003epopulation=%{x}\\u003cextra\\u003e\\u003c\\u002fextra\\u003e\",\"legendgroup\":\"33.766233766\",\"marker\":{\"color\":\"#B6E880\",\"symbol\":\"circle\"},\"mode\":\"markers\",\"name\":\"33.766233766\",\"orientation\":\"h\",\"showlegend\":true,\"x\":[48657.0],\"xaxis\":\"x\",\"y\":[\"33.766233766\"],\"yaxis\":\"y\",\"type\":\"scatter\"},{\"hovertemplate\":\"PERCENT_3_OR_ABOVE=33.766233766\\u003cextra\\u003e\\u003c\\u002fextra\\u003e\",\"legendgroup\":\"33.766233766\",\"line\":{\"color\":\"darkblue\"},\"marker\":{\"color\":\"#B6E880\",\"symbol\":\"circle\"},\"mode\":\"lines\",\"name\":\"33.766233766\",\"showlegend\":false,\"xaxis\":\"x\",\"yaxis\":\"y\",\"type\":\"scatter\"},{\"hovertemplate\":\"PERCENT_3_OR_ABOVE=%{y}\\u003cbr\\u003epopulation=%{x}\\u003cextra\\u003e\\u003c\\u002fextra\\u003e\",\"legendgroup\":\"57.073954984\",\"marker\":{\"color\":\"#FF97FF\",\"symbol\":\"circle\"},\"mode\":\"markers\",\"name\":\"57.073954984\",\"orientation\":\"h\",\"showlegend\":true,\"x\":[325561.0],\"xaxis\":\"x\",\"y\":[\"57.073954984\"],\"yaxis\":\"y\",\"type\":\"scatter\"},{\"hovertemplate\":\"PERCENT_3_OR_ABOVE=57.073954984\\u003cextra\\u003e\\u003c\\u002fextra\\u003e\",\"legendgroup\":\"57.073954984\",\"line\":{\"color\":\"darkblue\"},\"marker\":{\"color\":\"#FF97FF\",\"symbol\":\"circle\"},\"mode\":\"lines\",\"name\":\"57.073954984\",\"showlegend\":false,\"xaxis\":\"x\",\"yaxis\":\"y\",\"type\":\"scatter\"},{\"hovertemplate\":\"PERCENT_3_OR_ABOVE=%{y}\\u003cbr\\u003epopulation=%{x}\\u003cextra\\u003e\\u003c\\u002fextra\\u003e\",\"legendgroup\":\"31.182795699\",\"marker\":{\"color\":\"#FECB52\",\"symbol\":\"circle\"},\"mode\":\"markers\",\"name\":\"31.182795699\",\"orientation\":\"h\",\"showlegend\":true,\"x\":[48777.0],\"xaxis\":\"x\",\"y\":[\"31.182795699\"],\"yaxis\":\"y\",\"type\":\"scatter\"},{\"hovertemplate\":\"PERCENT_3_OR_ABOVE=31.182795699\\u003cextra\\u003e\\u003c\\u002fextra\\u003e\",\"legendgroup\":\"31.182795699\",\"line\":{\"color\":\"darkblue\"},\"marker\":{\"color\":\"#FECB52\",\"symbol\":\"circle\"},\"mode\":\"lines\",\"name\":\"31.182795699\",\"showlegend\":false,\"xaxis\":\"x\",\"yaxis\":\"y\",\"type\":\"scatter\"},{\"hovertemplate\":\"PERCENT_3_OR_ABOVE=%{y}\\u003cbr\\u003epopulation=%{x}\\u003cextra\\u003e\\u003c\\u002fextra\\u003e\",\"legendgroup\":\"70.880587058\",\"marker\":{\"color\":\"#636efa\",\"symbol\":\"circle\"},\"mode\":\"markers\",\"name\":\"70.880587058\",\"orientation\":\"h\",\"showlegend\":true,\"x\":[383166.0],\"xaxis\":\"x\",\"y\":[\"70.880587058\"],\"yaxis\":\"y\",\"type\":\"scatter\"},{\"hovertemplate\":\"PERCENT_3_OR_ABOVE=70.880587058\\u003cextra\\u003e\\u003c\\u002fextra\\u003e\",\"legendgroup\":\"70.880587058\",\"line\":{\"color\":\"darkblue\"},\"marker\":{\"color\":\"#636efa\",\"symbol\":\"circle\"},\"mode\":\"lines\",\"name\":\"70.880587058\",\"showlegend\":false,\"xaxis\":\"x\",\"yaxis\":\"y\",\"type\":\"scatter\"},{\"hovertemplate\":\"PERCENT_3_OR_ABOVE=%{y}\\u003cbr\\u003epopulation=%{x}\\u003cextra\\u003e\\u003c\\u002fextra\\u003e\",\"legendgroup\":\"47.535211268\",\"marker\":{\"color\":\"#EF553B\",\"symbol\":\"circle\"},\"mode\":\"markers\",\"name\":\"47.535211268\",\"orientation\":\"h\",\"showlegend\":true,\"x\":[69115.0],\"xaxis\":\"x\",\"y\":[\"47.535211268\"],\"yaxis\":\"y\",\"type\":\"scatter\"},{\"hovertemplate\":\"PERCENT_3_OR_ABOVE=47.535211268\\u003cextra\\u003e\\u003c\\u002fextra\\u003e\",\"legendgroup\":\"47.535211268\",\"line\":{\"color\":\"darkblue\"},\"marker\":{\"color\":\"#EF553B\",\"symbol\":\"circle\"},\"mode\":\"lines\",\"name\":\"47.535211268\",\"showlegend\":false,\"xaxis\":\"x\",\"yaxis\":\"y\",\"type\":\"scatter\"},{\"hovertemplate\":\"PERCENT_3_OR_ABOVE=%{y}\\u003cbr\\u003epopulation=%{x}\\u003cextra\\u003e\\u003c\\u002fextra\\u003e\",\"legendgroup\":\"44.751381215\",\"marker\":{\"color\":\"#00cc96\",\"symbol\":\"circle\"},\"mode\":\"markers\",\"name\":\"44.751381215\",\"orientation\":\"h\",\"showlegend\":true,\"x\":[228514.0],\"xaxis\":\"x\",\"y\":[\"44.751381215\"],\"yaxis\":\"y\",\"type\":\"scatter\"},{\"hovertemplate\":\"PERCENT_3_OR_ABOVE=44.751381215\\u003cextra\\u003e\\u003c\\u002fextra\\u003e\",\"legendgroup\":\"44.751381215\",\"line\":{\"color\":\"darkblue\"},\"marker\":{\"color\":\"#00cc96\",\"symbol\":\"circle\"},\"mode\":\"lines\",\"name\":\"44.751381215\",\"showlegend\":false,\"xaxis\":\"x\",\"yaxis\":\"y\",\"type\":\"scatter\"},{\"hovertemplate\":\"PERCENT_3_OR_ABOVE=%{y}\\u003cbr\\u003epopulation=%{x}\\u003cextra\\u003e\\u003c\\u002fextra\\u003e\",\"legendgroup\":\"47.368421053\",\"marker\":{\"color\":\"#ab63fa\",\"symbol\":\"circle\"},\"mode\":\"markers\",\"name\":\"47.368421053\",\"orientation\":\"h\",\"showlegend\":true,\"x\":[8035.0],\"xaxis\":\"x\",\"y\":[\"47.368421053\"],\"yaxis\":\"y\",\"type\":\"scatter\"},{\"hovertemplate\":\"PERCENT_3_OR_ABOVE=47.368421053\\u003cextra\\u003e\\u003c\\u002fextra\\u003e\",\"legendgroup\":\"47.368421053\",\"line\":{\"color\":\"darkblue\"},\"marker\":{\"color\":\"#ab63fa\",\"symbol\":\"circle\"},\"mode\":\"lines\",\"name\":\"47.368421053\",\"showlegend\":false,\"xaxis\":\"x\",\"yaxis\":\"y\",\"type\":\"scatter\"},{\"hovertemplate\":\"PERCENT_3_OR_ABOVE=%{y}\\u003cbr\\u003epopulation=%{x}\\u003cextra\\u003e\\u003c\\u002fextra\\u003e\",\"legendgroup\":\"24.503311258\",\"marker\":{\"color\":\"#FFA15A\",\"symbol\":\"circle\"},\"mode\":\"markers\",\"name\":\"24.503311258\",\"orientation\":\"h\",\"showlegend\":true,\"x\":[61060.0],\"xaxis\":\"x\",\"y\":[\"24.503311258\"],\"yaxis\":\"y\",\"type\":\"scatter\"},{\"hovertemplate\":\"PERCENT_3_OR_ABOVE=24.503311258\\u003cextra\\u003e\\u003c\\u002fextra\\u003e\",\"legendgroup\":\"24.503311258\",\"line\":{\"color\":\"darkblue\"},\"marker\":{\"color\":\"#FFA15A\",\"symbol\":\"circle\"},\"mode\":\"lines\",\"name\":\"24.503311258\",\"showlegend\":false,\"xaxis\":\"x\",\"yaxis\":\"y\",\"type\":\"scatter\"},{\"hovertemplate\":\"PERCENT_3_OR_ABOVE=%{y}\\u003cbr\\u003epopulation=%{x}\\u003cextra\\u003e\\u003c\\u002fextra\\u003e\",\"legendgroup\":\"29.268292683\",\"marker\":{\"color\":\"#19d3f3\",\"symbol\":\"circle\"},\"mode\":\"markers\",\"name\":\"29.268292683\",\"orientation\":\"h\",\"showlegend\":true,\"x\":[20440.0],\"xaxis\":\"x\",\"y\":[\"29.268292683\"],\"yaxis\":\"y\",\"type\":\"scatter\"},{\"hovertemplate\":\"PERCENT_3_OR_ABOVE=29.268292683\\u003cextra\\u003e\\u003c\\u002fextra\\u003e\",\"legendgroup\":\"29.268292683\",\"line\":{\"color\":\"darkblue\"},\"marker\":{\"color\":\"#19d3f3\",\"symbol\":\"circle\"},\"mode\":\"lines\",\"name\":\"29.268292683\",\"showlegend\":false,\"xaxis\":\"x\",\"yaxis\":\"y\",\"type\":\"scatter\"},{\"hovertemplate\":\"PERCENT_3_OR_ABOVE=%{y}\\u003cbr\\u003epopulation=%{x}\\u003cextra\\u003e\\u003c\\u002fextra\\u003e\",\"legendgroup\":\"58.148274684\",\"marker\":{\"color\":\"#FF6692\",\"symbol\":\"circle\"},\"mode\":\"markers\",\"name\":\"58.148274684\",\"orientation\":\"h\",\"showlegend\":true,\"x\":[539498.0],\"xaxis\":\"x\",\"y\":[\"58.148274684\"],\"yaxis\":\"y\",\"type\":\"scatter\"},{\"hovertemplate\":\"PERCENT_3_OR_ABOVE=58.148274684\\u003cextra\\u003e\\u003c\\u002fextra\\u003e\",\"legendgroup\":\"58.148274684\",\"line\":{\"color\":\"darkblue\"},\"marker\":{\"color\":\"#FF6692\",\"symbol\":\"circle\"},\"mode\":\"lines\",\"name\":\"58.148274684\",\"showlegend\":false,\"xaxis\":\"x\",\"yaxis\":\"y\",\"type\":\"scatter\"},{\"hovertemplate\":\"PERCENT_3_OR_ABOVE=%{y}\\u003cbr\\u003epopulation=%{x}\\u003cextra\\u003e\\u003c\\u002fextra\\u003e\",\"legendgroup\":\"43.561643836\",\"marker\":{\"color\":\"#B6E880\",\"symbol\":\"circle\"},\"mode\":\"markers\",\"name\":\"43.561643836\",\"orientation\":\"h\",\"showlegend\":true,\"x\":[133779.0],\"xaxis\":\"x\",\"y\":[\"43.561643836\"],\"yaxis\":\"y\",\"type\":\"scatter\"},{\"hovertemplate\":\"PERCENT_3_OR_ABOVE=43.561643836\\u003cextra\\u003e\\u003c\\u002fextra\\u003e\",\"legendgroup\":\"43.561643836\",\"line\":{\"color\":\"darkblue\"},\"marker\":{\"color\":\"#B6E880\",\"symbol\":\"circle\"},\"mode\":\"lines\",\"name\":\"43.561643836\",\"showlegend\":false,\"xaxis\":\"x\",\"yaxis\":\"y\",\"type\":\"scatter\"},{\"hovertemplate\":\"PERCENT_3_OR_ABOVE=%{y}\\u003cbr\\u003epopulation=%{x}\\u003cextra\\u003e\\u003c\\u002fextra\\u003e\",\"legendgroup\":\"44.171779141\",\"marker\":{\"color\":\"#FF97FF\",\"symbol\":\"circle\"},\"mode\":\"markers\",\"name\":\"44.171779141\",\"orientation\":\"h\",\"showlegend\":true,\"x\":[62223.0],\"xaxis\":\"x\",\"y\":[\"44.171779141\"],\"yaxis\":\"y\",\"type\":\"scatter\"},{\"hovertemplate\":\"PERCENT_3_OR_ABOVE=44.171779141\\u003cextra\\u003e\\u003c\\u002fextra\\u003e\",\"legendgroup\":\"44.171779141\",\"line\":{\"color\":\"darkblue\"},\"marker\":{\"color\":\"#FF97FF\",\"symbol\":\"circle\"},\"mode\":\"lines\",\"name\":\"44.171779141\",\"showlegend\":false,\"xaxis\":\"x\",\"yaxis\":\"y\",\"type\":\"scatter\"},{\"hovertemplate\":\"PERCENT_3_OR_ABOVE=%{y}\\u003cbr\\u003epopulation=%{x}\\u003cextra\\u003e\\u003c\\u002fextra\\u003e\",\"legendgroup\":\"66.371681416\",\"marker\":{\"color\":\"#FECB52\",\"symbol\":\"circle\"},\"mode\":\"markers\",\"name\":\"66.371681416\",\"orientation\":\"h\",\"showlegend\":true,\"x\":[116541.0],\"xaxis\":\"x\",\"y\":[\"66.371681416\"],\"yaxis\":\"y\",\"type\":\"scatter\"},{\"hovertemplate\":\"PERCENT_3_OR_ABOVE=66.371681416\\u003cextra\\u003e\\u003c\\u002fextra\\u003e\",\"legendgroup\":\"66.371681416\",\"line\":{\"color\":\"darkblue\"},\"marker\":{\"color\":\"#FECB52\",\"symbol\":\"circle\"},\"mode\":\"lines\",\"name\":\"66.371681416\",\"showlegend\":false,\"xaxis\":\"x\",\"yaxis\":\"y\",\"type\":\"scatter\"},{\"hovertemplate\":\"PERCENT_3_OR_ABOVE=%{y}\\u003cbr\\u003epopulation=%{x}\\u003cextra\\u003e\\u003c\\u002fextra\\u003e\",\"legendgroup\":\"37.435897436\",\"marker\":{\"color\":\"#636efa\",\"symbol\":\"circle\"},\"mode\":\"markers\",\"name\":\"37.435897436\",\"orientation\":\"h\",\"showlegend\":true,\"x\":[52240.0],\"xaxis\":\"x\",\"y\":[\"37.435897436\"],\"yaxis\":\"y\",\"type\":\"scatter\"},{\"hovertemplate\":\"PERCENT_3_OR_ABOVE=37.435897436\\u003cextra\\u003e\\u003c\\u002fextra\\u003e\",\"legendgroup\":\"37.435897436\",\"line\":{\"color\":\"darkblue\"},\"marker\":{\"color\":\"#636efa\",\"symbol\":\"circle\"},\"mode\":\"lines\",\"name\":\"37.435897436\",\"showlegend\":false,\"xaxis\":\"x\",\"yaxis\":\"y\",\"type\":\"scatter\"},{\"hovertemplate\":\"PERCENT_3_OR_ABOVE=%{y}\\u003cbr\\u003epopulation=%{x}\\u003cextra\\u003e\\u003c\\u002fextra\\u003e\",\"legendgroup\":\"65.517241379\",\"marker\":{\"color\":\"#EF553B\",\"symbol\":\"circle\"},\"mode\":\"markers\",\"name\":\"65.517241379\",\"orientation\":\"h\",\"showlegend\":true,\"x\":[42231.0],\"xaxis\":\"x\",\"y\":[\"65.517241379\"],\"yaxis\":\"y\",\"type\":\"scatter\"},{\"hovertemplate\":\"PERCENT_3_OR_ABOVE=65.517241379\\u003cextra\\u003e\\u003c\\u002fextra\\u003e\",\"legendgroup\":\"65.517241379\",\"line\":{\"color\":\"darkblue\"},\"marker\":{\"color\":\"#EF553B\",\"symbol\":\"circle\"},\"mode\":\"lines\",\"name\":\"65.517241379\",\"showlegend\":false,\"xaxis\":\"x\",\"yaxis\":\"y\",\"type\":\"scatter\"},{\"hovertemplate\":\"PERCENT_3_OR_ABOVE=%{y}\\u003cbr\\u003epopulation=%{x}\\u003cextra\\u003e\\u003c\\u002fextra\\u003e\",\"legendgroup\":\"55.628415301\",\"marker\":{\"color\":\"#00cc96\",\"symbol\":\"circle\"},\"mode\":\"markers\",\"name\":\"55.628415301\",\"orientation\":\"h\",\"showlegend\":true,\"x\":[217787.0],\"xaxis\":\"x\",\"y\":[\"55.628415301\"],\"yaxis\":\"y\",\"type\":\"scatter\"},{\"hovertemplate\":\"PERCENT_3_OR_ABOVE=55.628415301\\u003cextra\\u003e\\u003c\\u002fextra\\u003e\",\"legendgroup\":\"55.628415301\",\"line\":{\"color\":\"darkblue\"},\"marker\":{\"color\":\"#00cc96\",\"symbol\":\"circle\"},\"mode\":\"lines\",\"name\":\"55.628415301\",\"showlegend\":false,\"xaxis\":\"x\",\"yaxis\":\"y\",\"type\":\"scatter\"},{\"hovertemplate\":\"PERCENT_3_OR_ABOVE=%{y}\\u003cbr\\u003epopulation=%{x}\\u003cextra\\u003e\\u003c\\u002fextra\\u003e\",\"legendgroup\":\"53.459119497\",\"marker\":{\"color\":\"#ab63fa\",\"symbol\":\"circle\"},\"mode\":\"markers\",\"name\":\"53.459119497\",\"orientation\":\"h\",\"showlegend\":true,\"x\":[63428.0],\"xaxis\":\"x\",\"y\":[\"53.459119497\"],\"yaxis\":\"y\",\"type\":\"scatter\"},{\"hovertemplate\":\"PERCENT_3_OR_ABOVE=53.459119497\\u003cextra\\u003e\\u003c\\u002fextra\\u003e\",\"legendgroup\":\"53.459119497\",\"line\":{\"color\":\"darkblue\"},\"marker\":{\"color\":\"#ab63fa\",\"symbol\":\"circle\"},\"mode\":\"lines\",\"name\":\"53.459119497\",\"showlegend\":false,\"xaxis\":\"x\",\"yaxis\":\"y\",\"type\":\"scatter\"},{\"hovertemplate\":\"PERCENT_3_OR_ABOVE=%{y}\\u003cbr\\u003epopulation=%{x}\\u003cextra\\u003e\\u003c\\u002fextra\\u003e\",\"legendgroup\":\"28.421052632\",\"marker\":{\"color\":\"#FFA15A\",\"symbol\":\"circle\"},\"mode\":\"markers\",\"name\":\"28.421052632\",\"orientation\":\"h\",\"showlegend\":true,\"x\":[55050.0],\"xaxis\":\"x\",\"y\":[\"28.421052632\"],\"yaxis\":\"y\",\"type\":\"scatter\"},{\"hovertemplate\":\"PERCENT_3_OR_ABOVE=28.421052632\\u003cextra\\u003e\\u003c\\u002fextra\\u003e\",\"legendgroup\":\"28.421052632\",\"line\":{\"color\":\"darkblue\"},\"marker\":{\"color\":\"#FFA15A\",\"symbol\":\"circle\"},\"mode\":\"lines\",\"name\":\"28.421052632\",\"showlegend\":false,\"xaxis\":\"x\",\"yaxis\":\"y\",\"type\":\"scatter\"},{\"hovertemplate\":\"PERCENT_3_OR_ABOVE=%{y}\\u003cbr\\u003epopulation=%{x}\\u003cextra\\u003e\\u003c\\u002fextra\\u003e\",\"legendgroup\":\"50.54200542\",\"marker\":{\"color\":\"#19d3f3\",\"symbol\":\"circle\"},\"mode\":\"markers\",\"name\":\"50.54200542\",\"orientation\":\"h\",\"showlegend\":true,\"x\":[87206.0],\"xaxis\":\"x\",\"y\":[\"50.54200542\"],\"yaxis\":\"y\",\"type\":\"scatter\"},{\"hovertemplate\":\"PERCENT_3_OR_ABOVE=50.54200542\\u003cextra\\u003e\\u003c\\u002fextra\\u003e\",\"legendgroup\":\"50.54200542\",\"line\":{\"color\":\"darkblue\"},\"marker\":{\"color\":\"#19d3f3\",\"symbol\":\"circle\"},\"mode\":\"lines\",\"name\":\"50.54200542\",\"showlegend\":false,\"xaxis\":\"x\",\"yaxis\":\"y\",\"type\":\"scatter\"},{\"hovertemplate\":\"PERCENT_3_OR_ABOVE=%{y}\\u003cbr\\u003epopulation=%{x}\\u003cextra\\u003e\\u003c\\u002fextra\\u003e\",\"legendgroup\":\"52.380952381\",\"marker\":{\"color\":\"#FF6692\",\"symbol\":\"circle\"},\"mode\":\"markers\",\"name\":\"52.380952381\",\"orientation\":\"h\",\"showlegend\":true,\"x\":[37092.0],\"xaxis\":\"x\",\"y\":[\"52.380952381\"],\"yaxis\":\"y\",\"type\":\"scatter\"},{\"hovertemplate\":\"PERCENT_3_OR_ABOVE=52.380952381\\u003cextra\\u003e\\u003c\\u002fextra\\u003e\",\"legendgroup\":\"52.380952381\",\"line\":{\"color\":\"darkblue\"},\"marker\":{\"color\":\"#FF6692\",\"symbol\":\"circle\"},\"mode\":\"lines\",\"name\":\"52.380952381\",\"showlegend\":false,\"xaxis\":\"x\",\"yaxis\":\"y\",\"type\":\"scatter\"},{\"hovertemplate\":\"PERCENT_3_OR_ABOVE=%{y}\\u003cbr\\u003epopulation=%{x}\\u003cextra\\u003e\\u003c\\u002fextra\\u003e\",\"legendgroup\":\"27.272727273\",\"marker\":{\"color\":\"#B6E880\",\"symbol\":\"circle\"},\"mode\":\"markers\",\"name\":\"27.272727273\",\"orientation\":\"h\",\"showlegend\":true,\"x\":[21228.0],\"xaxis\":\"x\",\"y\":[\"27.272727273\"],\"yaxis\":\"y\",\"type\":\"scatter\"},{\"hovertemplate\":\"PERCENT_3_OR_ABOVE=27.272727273\\u003cextra\\u003e\\u003c\\u002fextra\\u003e\",\"legendgroup\":\"27.272727273\",\"line\":{\"color\":\"darkblue\"},\"marker\":{\"color\":\"#B6E880\",\"symbol\":\"circle\"},\"mode\":\"lines\",\"name\":\"27.272727273\",\"showlegend\":false,\"xaxis\":\"x\",\"yaxis\":\"y\",\"type\":\"scatter\"},{\"hovertemplate\":\"PERCENT_3_OR_ABOVE=%{y}\\u003cbr\\u003epopulation=%{x}\\u003cextra\\u003e\\u003c\\u002fextra\\u003e\",\"legendgroup\":\"43.835616438\",\"marker\":{\"color\":\"#FF97FF\",\"symbol\":\"circle\"},\"mode\":\"markers\",\"name\":\"43.835616438\",\"orientation\":\"h\",\"showlegend\":true,\"x\":[0.0],\"xaxis\":\"x\",\"y\":[\"43.835616438\"],\"yaxis\":\"y\",\"type\":\"scatter\"},{\"hovertemplate\":\"PERCENT_3_OR_ABOVE=43.835616438\\u003cextra\\u003e\\u003c\\u002fextra\\u003e\",\"legendgroup\":\"43.835616438\",\"line\":{\"color\":\"darkblue\"},\"marker\":{\"color\":\"#FF97FF\",\"symbol\":\"circle\"},\"mode\":\"lines\",\"name\":\"43.835616438\",\"showlegend\":false,\"xaxis\":\"x\",\"yaxis\":\"y\",\"type\":\"scatter\"},{\"hovertemplate\":\"PERCENT_3_OR_ABOVE=%{y}\\u003cbr\\u003epopulation=%{x}\\u003cextra\\u003e\\u003c\\u002fextra\\u003e\",\"legendgroup\":\"63.566535188\",\"marker\":{\"color\":\"#FECB52\",\"symbol\":\"circle\"},\"mode\":\"markers\",\"name\":\"63.566535188\",\"orientation\":\"h\",\"showlegend\":true,\"x\":[1116788.0],\"xaxis\":\"x\",\"y\":[\"63.566535188\"],\"yaxis\":\"y\",\"type\":\"scatter\"},{\"hovertemplate\":\"PERCENT_3_OR_ABOVE=63.566535188\\u003cextra\\u003e\\u003c\\u002fextra\\u003e\",\"legendgroup\":\"63.566535188\",\"line\":{\"color\":\"darkblue\"},\"marker\":{\"color\":\"#FECB52\",\"symbol\":\"circle\"},\"mode\":\"lines\",\"name\":\"63.566535188\",\"showlegend\":false,\"xaxis\":\"x\",\"yaxis\":\"y\",\"type\":\"scatter\"},{\"hovertemplate\":\"PERCENT_3_OR_ABOVE=%{y}\\u003cbr\\u003epopulation=%{x}\\u003cextra\\u003e\\u003c\\u002fextra\\u003e\",\"legendgroup\":\"47.826086957\",\"marker\":{\"color\":\"#636efa\",\"symbol\":\"circle\"},\"mode\":\"markers\",\"name\":\"47.826086957\",\"orientation\":\"h\",\"showlegend\":true,\"x\":[14906.0],\"xaxis\":\"x\",\"y\":[\"47.826086957\"],\"yaxis\":\"y\",\"type\":\"scatter\"},{\"hovertemplate\":\"PERCENT_3_OR_ABOVE=47.826086957\\u003cextra\\u003e\\u003c\\u002fextra\\u003e\",\"legendgroup\":\"47.826086957\",\"line\":{\"color\":\"darkblue\"},\"marker\":{\"color\":\"#636efa\",\"symbol\":\"circle\"},\"mode\":\"lines\",\"name\":\"47.826086957\",\"showlegend\":false,\"xaxis\":\"x\",\"yaxis\":\"y\",\"type\":\"scatter\"},{\"hovertemplate\":\"PERCENT_3_OR_ABOVE=%{y}\\u003cbr\\u003epopulation=%{x}\\u003cextra\\u003e\\u003c\\u002fextra\\u003e\",\"legendgroup\":\"69.714285714\",\"marker\":{\"color\":\"#EF553B\",\"symbol\":\"circle\"},\"mode\":\"markers\",\"name\":\"69.714285714\",\"orientation\":\"h\",\"showlegend\":true,\"x\":[100267.0],\"xaxis\":\"x\",\"y\":[\"69.714285714\"],\"yaxis\":\"y\",\"type\":\"scatter\"},{\"hovertemplate\":\"PERCENT_3_OR_ABOVE=69.714285714\\u003cextra\\u003e\\u003c\\u002fextra\\u003e\",\"legendgroup\":\"69.714285714\",\"line\":{\"color\":\"darkblue\"},\"marker\":{\"color\":\"#EF553B\",\"symbol\":\"circle\"},\"mode\":\"lines\",\"name\":\"69.714285714\",\"showlegend\":false,\"xaxis\":\"x\",\"yaxis\":\"y\",\"type\":\"scatter\"},{\"hovertemplate\":\"PERCENT_3_OR_ABOVE=%{y}\\u003cbr\\u003epopulation=%{x}\\u003cextra\\u003e\\u003c\\u002fextra\\u003e\",\"legendgroup\":\"65.967365967\",\"marker\":{\"color\":\"#00cc96\",\"symbol\":\"circle\"},\"mode\":\"markers\",\"name\":\"65.967365967\",\"orientation\":\"h\",\"showlegend\":true,\"x\":[226307.0],\"xaxis\":\"x\",\"y\":[\"65.967365967\"],\"yaxis\":\"y\",\"type\":\"scatter\"},{\"hovertemplate\":\"PERCENT_3_OR_ABOVE=65.967365967\\u003cextra\\u003e\\u003c\\u002fextra\\u003e\",\"legendgroup\":\"65.967365967\",\"line\":{\"color\":\"darkblue\"},\"marker\":{\"color\":\"#00cc96\",\"symbol\":\"circle\"},\"mode\":\"lines\",\"name\":\"65.967365967\",\"showlegend\":false,\"xaxis\":\"x\",\"yaxis\":\"y\",\"type\":\"scatter\"},{\"hovertemplate\":\"PERCENT_3_OR_ABOVE=%{y}\\u003cbr\\u003epopulation=%{x}\\u003cextra\\u003e\\u003c\\u002fextra\\u003e\",\"legendgroup\":\"40.822467402\",\"marker\":{\"color\":\"#ab63fa\",\"symbol\":\"circle\"},\"mode\":\"markers\",\"name\":\"40.822467402\",\"orientation\":\"h\",\"showlegend\":true,\"x\":[204937.0],\"xaxis\":\"x\",\"y\":[\"40.822467402\"],\"yaxis\":\"y\",\"type\":\"scatter\"},{\"hovertemplate\":\"PERCENT_3_OR_ABOVE=40.822467402\\u003cextra\\u003e\\u003c\\u002fextra\\u003e\",\"legendgroup\":\"40.822467402\",\"line\":{\"color\":\"darkblue\"},\"marker\":{\"color\":\"#ab63fa\",\"symbol\":\"circle\"},\"mode\":\"lines\",\"name\":\"40.822467402\",\"showlegend\":false,\"xaxis\":\"x\",\"yaxis\":\"y\",\"type\":\"scatter\"},{\"hovertemplate\":\"PERCENT_3_OR_ABOVE=%{y}\\u003cbr\\u003epopulation=%{x}\\u003cextra\\u003e\\u003c\\u002fextra\\u003e\",\"legendgroup\":\"70.983213429\",\"marker\":{\"color\":\"#FFA15A\",\"symbol\":\"circle\"},\"mode\":\"markers\",\"name\":\"70.983213429\",\"orientation\":\"h\",\"showlegend\":true,\"x\":[143583.0],\"xaxis\":\"x\",\"y\":[\"70.983213429\"],\"yaxis\":\"y\",\"type\":\"scatter\"},{\"hovertemplate\":\"PERCENT_3_OR_ABOVE=70.983213429\\u003cextra\\u003e\\u003c\\u002fextra\\u003e\",\"legendgroup\":\"70.983213429\",\"line\":{\"color\":\"darkblue\"},\"marker\":{\"color\":\"#FFA15A\",\"symbol\":\"circle\"},\"mode\":\"lines\",\"name\":\"70.983213429\",\"showlegend\":false,\"xaxis\":\"x\",\"yaxis\":\"y\",\"type\":\"scatter\"},{\"hovertemplate\":\"PERCENT_3_OR_ABOVE=%{y}\\u003cbr\\u003epopulation=%{x}\\u003cextra\\u003e\\u003c\\u002fextra\\u003e\",\"legendgroup\":\"19.047619048\",\"marker\":{\"color\":\"#19d3f3\",\"symbol\":\"circle\"},\"mode\":\"markers\",\"name\":\"19.047619048\",\"orientation\":\"h\",\"showlegend\":true,\"x\":[12303.0],\"xaxis\":\"x\",\"y\":[\"19.047619048\"],\"yaxis\":\"y\",\"type\":\"scatter\"},{\"hovertemplate\":\"PERCENT_3_OR_ABOVE=19.047619048\\u003cextra\\u003e\\u003c\\u002fextra\\u003e\",\"legendgroup\":\"19.047619048\",\"line\":{\"color\":\"darkblue\"},\"marker\":{\"color\":\"#19d3f3\",\"symbol\":\"circle\"},\"mode\":\"lines\",\"name\":\"19.047619048\",\"showlegend\":false,\"xaxis\":\"x\",\"yaxis\":\"y\",\"type\":\"scatter\"},{\"hovertemplate\":\"PERCENT_3_OR_ABOVE=%{y}\\u003cbr\\u003epopulation=%{x}\\u003cextra\\u003e\\u003c\\u002fextra\\u003e\",\"legendgroup\":\"64.401294498\",\"marker\":{\"color\":\"#FF6692\",\"symbol\":\"circle\"},\"mode\":\"markers\",\"name\":\"64.401294498\",\"orientation\":\"h\",\"showlegend\":true,\"x\":[60642.0],\"xaxis\":\"x\",\"y\":[\"64.401294498\"],\"yaxis\":\"y\",\"type\":\"scatter\"},{\"hovertemplate\":\"PERCENT_3_OR_ABOVE=64.401294498\\u003cextra\\u003e\\u003c\\u002fextra\\u003e\",\"legendgroup\":\"64.401294498\",\"line\":{\"color\":\"darkblue\"},\"marker\":{\"color\":\"#FF6692\",\"symbol\":\"circle\"},\"mode\":\"lines\",\"name\":\"64.401294498\",\"showlegend\":false,\"xaxis\":\"x\",\"yaxis\":\"y\",\"type\":\"scatter\"},{\"hovertemplate\":\"PERCENT_3_OR_ABOVE=%{y}\\u003cbr\\u003epopulation=%{x}\\u003cextra\\u003e\\u003c\\u002fextra\\u003e\",\"legendgroup\":\"66.666666667\",\"marker\":{\"color\":\"#B6E880\",\"symbol\":\"circle\"},\"mode\":\"markers\",\"name\":\"66.666666667\",\"orientation\":\"h\",\"showlegend\":true,\"x\":[13016.0],\"xaxis\":\"x\",\"y\":[\"66.666666667\"],\"yaxis\":\"y\",\"type\":\"scatter\"},{\"hovertemplate\":\"PERCENT_3_OR_ABOVE=66.666666667\\u003cextra\\u003e\\u003c\\u002fextra\\u003e\",\"legendgroup\":\"66.666666667\",\"line\":{\"color\":\"darkblue\"},\"marker\":{\"color\":\"#B6E880\",\"symbol\":\"circle\"},\"mode\":\"lines\",\"name\":\"66.666666667\",\"showlegend\":false,\"xaxis\":\"x\",\"yaxis\":\"y\",\"type\":\"scatter\"},{\"hovertemplate\":\"PERCENT_3_OR_ABOVE=%{y}\\u003cbr\\u003epopulation=%{x}\\u003cextra\\u003e\\u003c\\u002fextra\\u003e\",\"legendgroup\":\"43.689320388\",\"marker\":{\"color\":\"#FF97FF\",\"symbol\":\"circle\"},\"mode\":\"markers\",\"name\":\"43.689320388\",\"orientation\":\"h\",\"showlegend\":true,\"x\":[39187.0],\"xaxis\":\"x\",\"y\":[\"43.689320388\"],\"yaxis\":\"y\",\"type\":\"scatter\"},{\"hovertemplate\":\"PERCENT_3_OR_ABOVE=43.689320388\\u003cextra\\u003e\\u003c\\u002fextra\\u003e\",\"legendgroup\":\"43.689320388\",\"line\":{\"color\":\"darkblue\"},\"marker\":{\"color\":\"#FF97FF\",\"symbol\":\"circle\"},\"mode\":\"lines\",\"name\":\"43.689320388\",\"showlegend\":false,\"xaxis\":\"x\",\"yaxis\":\"y\",\"type\":\"scatter\"},{\"hovertemplate\":\"PERCENT_3_OR_ABOVE=%{y}\\u003cbr\\u003epopulation=%{x}\\u003cextra\\u003e\\u003c\\u002fextra\\u003e\",\"legendgroup\":\"52.443384982\",\"marker\":{\"color\":\"#FECB52\",\"symbol\":\"circle\"},\"mode\":\"markers\",\"name\":\"52.443384982\",\"orientation\":\"h\",\"showlegend\":true,\"x\":[170378.0],\"xaxis\":\"x\",\"y\":[\"52.443384982\"],\"yaxis\":\"y\",\"type\":\"scatter\"},{\"hovertemplate\":\"PERCENT_3_OR_ABOVE=52.443384982\\u003cextra\\u003e\\u003c\\u002fextra\\u003e\",\"legendgroup\":\"52.443384982\",\"line\":{\"color\":\"darkblue\"},\"marker\":{\"color\":\"#FECB52\",\"symbol\":\"circle\"},\"mode\":\"lines\",\"name\":\"52.443384982\",\"showlegend\":false,\"xaxis\":\"x\",\"yaxis\":\"y\",\"type\":\"scatter\"},{\"hovertemplate\":\"PERCENT_3_OR_ABOVE=%{y}\\u003cbr\\u003epopulation=%{x}\\u003cextra\\u003e\\u003c\\u002fextra\\u003e\",\"legendgroup\":\"70\",\"marker\":{\"color\":\"#636efa\",\"symbol\":\"circle\"},\"mode\":\"markers\",\"name\":\"70\",\"orientation\":\"h\",\"showlegend\":true,\"x\":[19383.0],\"xaxis\":\"x\",\"y\":[\"70\"],\"yaxis\":\"y\",\"type\":\"scatter\"},{\"hovertemplate\":\"PERCENT_3_OR_ABOVE=70\\u003cextra\\u003e\\u003c\\u002fextra\\u003e\",\"legendgroup\":\"70\",\"line\":{\"color\":\"darkblue\"},\"marker\":{\"color\":\"#636efa\",\"symbol\":\"circle\"},\"mode\":\"lines\",\"name\":\"70\",\"showlegend\":false,\"xaxis\":\"x\",\"yaxis\":\"y\",\"type\":\"scatter\"},{\"hovertemplate\":\"PERCENT_3_OR_ABOVE=%{y}\\u003cbr\\u003epopulation=%{x}\\u003cextra\\u003e\\u003c\\u002fextra\\u003e\",\"legendgroup\":\"45.862884161\",\"marker\":{\"color\":\"#EF553B\",\"symbol\":\"circle\"},\"mode\":\"markers\",\"name\":\"45.862884161\",\"orientation\":\"h\",\"showlegend\":true,\"x\":[144418.0],\"xaxis\":\"x\",\"y\":[\"45.862884161\"],\"yaxis\":\"y\",\"type\":\"scatter\"},{\"hovertemplate\":\"PERCENT_3_OR_ABOVE=45.862884161\\u003cextra\\u003e\\u003c\\u002fextra\\u003e\",\"legendgroup\":\"45.862884161\",\"line\":{\"color\":\"darkblue\"},\"marker\":{\"color\":\"#EF553B\",\"symbol\":\"circle\"},\"mode\":\"lines\",\"name\":\"45.862884161\",\"showlegend\":false,\"xaxis\":\"x\",\"yaxis\":\"y\",\"type\":\"scatter\"},{\"hovertemplate\":\"PERCENT_3_OR_ABOVE=%{y}\\u003cbr\\u003epopulation=%{x}\\u003cextra\\u003e\\u003c\\u002fextra\\u003e\",\"legendgroup\":\"26.490066225\",\"marker\":{\"color\":\"#00cc96\",\"symbol\":\"circle\"},\"mode\":\"markers\",\"name\":\"26.490066225\",\"orientation\":\"h\",\"showlegend\":true,\"x\":[42916.0],\"xaxis\":\"x\",\"y\":[\"26.490066225\"],\"yaxis\":\"y\",\"type\":\"scatter\"},{\"hovertemplate\":\"PERCENT_3_OR_ABOVE=26.490066225\\u003cextra\\u003e\\u003c\\u002fextra\\u003e\",\"legendgroup\":\"26.490066225\",\"line\":{\"color\":\"darkblue\"},\"marker\":{\"color\":\"#00cc96\",\"symbol\":\"circle\"},\"mode\":\"lines\",\"name\":\"26.490066225\",\"showlegend\":false,\"xaxis\":\"x\",\"yaxis\":\"y\",\"type\":\"scatter\"},{\"hovertemplate\":\"PERCENT_3_OR_ABOVE=%{y}\\u003cbr\\u003epopulation=%{x}\\u003cextra\\u003e\\u003c\\u002fextra\\u003e\",\"legendgroup\":\"23.722627737\",\"marker\":{\"color\":\"#ab63fa\",\"symbol\":\"circle\"},\"mode\":\"markers\",\"name\":\"23.722627737\",\"orientation\":\"h\",\"showlegend\":true,\"x\":[116305.0],\"xaxis\":\"x\",\"y\":[\"23.722627737\"],\"yaxis\":\"y\",\"type\":\"scatter\"},{\"hovertemplate\":\"PERCENT_3_OR_ABOVE=23.722627737\\u003cextra\\u003e\\u003c\\u002fextra\\u003e\",\"legendgroup\":\"23.722627737\",\"line\":{\"color\":\"darkblue\"},\"marker\":{\"color\":\"#ab63fa\",\"symbol\":\"circle\"},\"mode\":\"lines\",\"name\":\"23.722627737\",\"showlegend\":false,\"xaxis\":\"x\",\"yaxis\":\"y\",\"type\":\"scatter\"},{\"hovertemplate\":\"PERCENT_3_OR_ABOVE=%{y}\\u003cbr\\u003epopulation=%{x}\\u003cextra\\u003e\\u003c\\u002fextra\\u003e\",\"legendgroup\":\"39.051094891\",\"marker\":{\"color\":\"#FFA15A\",\"symbol\":\"circle\"},\"mode\":\"markers\",\"name\":\"39.051094891\",\"orientation\":\"h\",\"showlegend\":true,\"x\":[91188.0],\"xaxis\":\"x\",\"y\":[\"39.051094891\"],\"yaxis\":\"y\",\"type\":\"scatter\"},{\"hovertemplate\":\"PERCENT_3_OR_ABOVE=39.051094891\\u003cextra\\u003e\\u003c\\u002fextra\\u003e\",\"legendgroup\":\"39.051094891\",\"line\":{\"color\":\"darkblue\"},\"marker\":{\"color\":\"#FFA15A\",\"symbol\":\"circle\"},\"mode\":\"lines\",\"name\":\"39.051094891\",\"showlegend\":false,\"xaxis\":\"x\",\"yaxis\":\"y\",\"type\":\"scatter\"},{\"hovertemplate\":\"PERCENT_3_OR_ABOVE=%{y}\\u003cbr\\u003epopulation=%{x}\\u003cextra\\u003e\\u003c\\u002fextra\\u003e\",\"legendgroup\":\"49.101796407\",\"marker\":{\"color\":\"#19d3f3\",\"symbol\":\"circle\"},\"mode\":\"markers\",\"name\":\"49.101796407\",\"orientation\":\"h\",\"showlegend\":true,\"x\":[64479.0],\"xaxis\":\"x\",\"y\":[\"49.101796407\"],\"yaxis\":\"y\",\"type\":\"scatter\"},{\"hovertemplate\":\"PERCENT_3_OR_ABOVE=49.101796407\\u003cextra\\u003e\\u003c\\u002fextra\\u003e\",\"legendgroup\":\"49.101796407\",\"line\":{\"color\":\"darkblue\"},\"marker\":{\"color\":\"#19d3f3\",\"symbol\":\"circle\"},\"mode\":\"lines\",\"name\":\"49.101796407\",\"showlegend\":false,\"xaxis\":\"x\",\"yaxis\":\"y\",\"type\":\"scatter\"},{\"hovertemplate\":\"PERCENT_3_OR_ABOVE=%{y}\\u003cbr\\u003epopulation=%{x}\\u003cextra\\u003e\\u003c\\u002fextra\\u003e\",\"legendgroup\":\"39.240506329\",\"marker\":{\"color\":\"#FF6692\",\"symbol\":\"circle\"},\"mode\":\"markers\",\"name\":\"39.240506329\",\"orientation\":\"h\",\"showlegend\":true,\"x\":[59078.0],\"xaxis\":\"x\",\"y\":[\"39.240506329\"],\"yaxis\":\"y\",\"type\":\"scatter\"},{\"hovertemplate\":\"PERCENT_3_OR_ABOVE=39.240506329\\u003cextra\\u003e\\u003c\\u002fextra\\u003e\",\"legendgroup\":\"39.240506329\",\"line\":{\"color\":\"darkblue\"},\"marker\":{\"color\":\"#FF6692\",\"symbol\":\"circle\"},\"mode\":\"lines\",\"name\":\"39.240506329\",\"showlegend\":false,\"xaxis\":\"x\",\"yaxis\":\"y\",\"type\":\"scatter\"},{\"hovertemplate\":\"PERCENT_3_OR_ABOVE=%{y}\\u003cbr\\u003epopulation=%{x}\\u003cextra\\u003e\\u003c\\u002fextra\\u003e\",\"legendgroup\":\"47.959183673\",\"marker\":{\"color\":\"#B6E880\",\"symbol\":\"circle\"},\"mode\":\"markers\",\"name\":\"47.959183673\",\"orientation\":\"h\",\"showlegend\":true,\"x\":[34141.0],\"xaxis\":\"x\",\"y\":[\"47.959183673\"],\"yaxis\":\"y\",\"type\":\"scatter\"},{\"hovertemplate\":\"PERCENT_3_OR_ABOVE=47.959183673\\u003cextra\\u003e\\u003c\\u002fextra\\u003e\",\"legendgroup\":\"47.959183673\",\"line\":{\"color\":\"darkblue\"},\"marker\":{\"color\":\"#B6E880\",\"symbol\":\"circle\"},\"mode\":\"lines\",\"name\":\"47.959183673\",\"showlegend\":false,\"xaxis\":\"x\",\"yaxis\":\"y\",\"type\":\"scatter\"},{\"hovertemplate\":\"PERCENT_3_OR_ABOVE=%{y}\\u003cbr\\u003epopulation=%{x}\\u003cextra\\u003e\\u003c\\u002fextra\\u003e\",\"legendgroup\":\"52.941176471\",\"marker\":{\"color\":\"#FF97FF\",\"symbol\":\"circle\"},\"mode\":\"markers\",\"name\":\"52.941176471\",\"orientation\":\"h\",\"showlegend\":true,\"x\":[62638.0],\"xaxis\":\"x\",\"y\":[\"52.941176471\"],\"yaxis\":\"y\",\"type\":\"scatter\"},{\"hovertemplate\":\"PERCENT_3_OR_ABOVE=52.941176471\\u003cextra\\u003e\\u003c\\u002fextra\\u003e\",\"legendgroup\":\"52.941176471\",\"line\":{\"color\":\"darkblue\"},\"marker\":{\"color\":\"#FF97FF\",\"symbol\":\"circle\"},\"mode\":\"lines\",\"name\":\"52.941176471\",\"showlegend\":false,\"xaxis\":\"x\",\"yaxis\":\"y\",\"type\":\"scatter\"},{\"hovertemplate\":\"PERCENT_3_OR_ABOVE=%{y}\\u003cbr\\u003epopulation=%{x}\\u003cextra\\u003e\\u003c\\u002fextra\\u003e\",\"legendgroup\":\"54.918032787\",\"marker\":{\"color\":\"#FECB52\",\"symbol\":\"circle\"},\"mode\":\"markers\",\"name\":\"54.918032787\",\"orientation\":\"h\",\"showlegend\":true,\"x\":[44565.0],\"xaxis\":\"x\",\"y\":[\"54.918032787\"],\"yaxis\":\"y\",\"type\":\"scatter\"},{\"hovertemplate\":\"PERCENT_3_OR_ABOVE=54.918032787\\u003cextra\\u003e\\u003c\\u002fextra\\u003e\",\"legendgroup\":\"54.918032787\",\"line\":{\"color\":\"darkblue\"},\"marker\":{\"color\":\"#FECB52\",\"symbol\":\"circle\"},\"mode\":\"lines\",\"name\":\"54.918032787\",\"showlegend\":false,\"xaxis\":\"x\",\"yaxis\":\"y\",\"type\":\"scatter\"},{\"hovertemplate\":\"PERCENT_3_OR_ABOVE=%{y}\\u003cbr\\u003epopulation=%{x}\\u003cextra\\u003e\\u003c\\u002fextra\\u003e\",\"legendgroup\":\"52.727272727\",\"marker\":{\"color\":\"#636efa\",\"symbol\":\"circle\"},\"mode\":\"markers\",\"name\":\"52.727272727\",\"orientation\":\"h\",\"showlegend\":true,\"x\":[71372.0],\"xaxis\":\"x\",\"y\":[\"52.727272727\"],\"yaxis\":\"y\",\"type\":\"scatter\"},{\"hovertemplate\":\"PERCENT_3_OR_ABOVE=52.727272727\\u003cextra\\u003e\\u003c\\u002fextra\\u003e\",\"legendgroup\":\"52.727272727\",\"line\":{\"color\":\"darkblue\"},\"marker\":{\"color\":\"#636efa\",\"symbol\":\"circle\"},\"mode\":\"lines\",\"name\":\"52.727272727\",\"showlegend\":false,\"xaxis\":\"x\",\"yaxis\":\"y\",\"type\":\"scatter\"},{\"hovertemplate\":\"PERCENT_3_OR_ABOVE=%{y}\\u003cbr\\u003epopulation=%{x}\\u003cextra\\u003e\\u003c\\u002fextra\\u003e\",\"legendgroup\":\"55\",\"marker\":{\"color\":\"#EF553B\",\"symbol\":\"circle\"},\"mode\":\"markers\",\"name\":\"55\",\"orientation\":\"h\",\"showlegend\":true,\"x\":[14099.0],\"xaxis\":\"x\",\"y\":[\"55\"],\"yaxis\":\"y\",\"type\":\"scatter\"},{\"hovertemplate\":\"PERCENT_3_OR_ABOVE=55\\u003cextra\\u003e\\u003c\\u002fextra\\u003e\",\"legendgroup\":\"55\",\"line\":{\"color\":\"darkblue\"},\"marker\":{\"color\":\"#EF553B\",\"symbol\":\"circle\"},\"mode\":\"lines\",\"name\":\"55\",\"showlegend\":false,\"xaxis\":\"x\",\"yaxis\":\"y\",\"type\":\"scatter\"},{\"hovertemplate\":\"PERCENT_3_OR_ABOVE=%{y}\\u003cbr\\u003epopulation=%{x}\\u003cextra\\u003e\\u003c\\u002fextra\\u003e\",\"legendgroup\":\"69.512195122\",\"marker\":{\"color\":\"#00cc96\",\"symbol\":\"circle\"},\"mode\":\"markers\",\"name\":\"69.512195122\",\"orientation\":\"h\",\"showlegend\":true,\"x\":[33046.0],\"xaxis\":\"x\",\"y\":[\"69.512195122\"],\"yaxis\":\"y\",\"type\":\"scatter\"},{\"hovertemplate\":\"PERCENT_3_OR_ABOVE=69.512195122\\u003cextra\\u003e\\u003c\\u002fextra\\u003e\",\"legendgroup\":\"69.512195122\",\"line\":{\"color\":\"darkblue\"},\"marker\":{\"color\":\"#00cc96\",\"symbol\":\"circle\"},\"mode\":\"lines\",\"name\":\"69.512195122\",\"showlegend\":false,\"xaxis\":\"x\",\"yaxis\":\"y\",\"type\":\"scatter\"},{\"hovertemplate\":\"PERCENT_3_OR_ABOVE=%{y}\\u003cbr\\u003epopulation=%{x}\\u003cextra\\u003e\\u003c\\u002fextra\\u003e\",\"legendgroup\":\"70.89678511\",\"marker\":{\"color\":\"#ab63fa\",\"symbol\":\"circle\"},\"mode\":\"markers\",\"name\":\"70.89678511\",\"orientation\":\"h\",\"showlegend\":true,\"x\":[239443.0],\"xaxis\":\"x\",\"y\":[\"70.89678511\"],\"yaxis\":\"y\",\"type\":\"scatter\"},{\"hovertemplate\":\"PERCENT_3_OR_ABOVE=70.89678511\\u003cextra\\u003e\\u003c\\u002fextra\\u003e\",\"legendgroup\":\"70.89678511\",\"line\":{\"color\":\"darkblue\"},\"marker\":{\"color\":\"#ab63fa\",\"symbol\":\"circle\"},\"mode\":\"lines\",\"name\":\"70.89678511\",\"showlegend\":false,\"xaxis\":\"x\",\"yaxis\":\"y\",\"type\":\"scatter\"},{\"hovertemplate\":\"PERCENT_3_OR_ABOVE=%{y}\\u003cbr\\u003epopulation=%{x}\\u003cextra\\u003e\\u003c\\u002fextra\\u003e\",\"legendgroup\":\"67.993273543\",\"marker\":{\"color\":\"#FFA15A\",\"symbol\":\"circle\"},\"mode\":\"markers\",\"name\":\"67.993273543\",\"orientation\":\"h\",\"showlegend\":true,\"x\":[1130685.0],\"xaxis\":\"x\",\"y\":[\"67.993273543\"],\"yaxis\":\"y\",\"type\":\"scatter\"},{\"hovertemplate\":\"PERCENT_3_OR_ABOVE=67.993273543\\u003cextra\\u003e\\u003c\\u002fextra\\u003e\",\"legendgroup\":\"67.993273543\",\"line\":{\"color\":\"darkblue\"},\"marker\":{\"color\":\"#FFA15A\",\"symbol\":\"circle\"},\"mode\":\"lines\",\"name\":\"67.993273543\",\"showlegend\":false,\"xaxis\":\"x\",\"yaxis\":\"y\",\"type\":\"scatter\"},{\"hovertemplate\":\"PERCENT_3_OR_ABOVE=%{y}\\u003cbr\\u003epopulation=%{x}\\u003cextra\\u003e\\u003c\\u002fextra\\u003e\",\"legendgroup\":\"74.733096085\",\"marker\":{\"color\":\"#19d3f3\",\"symbol\":\"circle\"},\"mode\":\"markers\",\"name\":\"74.733096085\",\"orientation\":\"h\",\"showlegend\":true,\"x\":[54117.0],\"xaxis\":\"x\",\"y\":[\"74.733096085\"],\"yaxis\":\"y\",\"type\":\"scatter\"},{\"hovertemplate\":\"PERCENT_3_OR_ABOVE=74.733096085\\u003cextra\\u003e\\u003c\\u002fextra\\u003e\",\"legendgroup\":\"74.733096085\",\"line\":{\"color\":\"darkblue\"},\"marker\":{\"color\":\"#19d3f3\",\"symbol\":\"circle\"},\"mode\":\"lines\",\"name\":\"74.733096085\",\"showlegend\":false,\"xaxis\":\"x\",\"yaxis\":\"y\",\"type\":\"scatter\"},{\"hovertemplate\":\"PERCENT_3_OR_ABOVE=%{y}\\u003cbr\\u003epopulation=%{x}\\u003cextra\\u003e\\u003c\\u002fextra\\u003e\",\"legendgroup\":\"33.054393305\",\"marker\":{\"color\":\"#FF6692\",\"symbol\":\"circle\"},\"mode\":\"markers\",\"name\":\"33.054393305\",\"orientation\":\"h\",\"showlegend\":true,\"x\":[117266.0],\"xaxis\":\"x\",\"y\":[\"33.054393305\"],\"yaxis\":\"y\",\"type\":\"scatter\"},{\"hovertemplate\":\"PERCENT_3_OR_ABOVE=33.054393305\\u003cextra\\u003e\\u003c\\u002fextra\\u003e\",\"legendgroup\":\"33.054393305\",\"line\":{\"color\":\"darkblue\"},\"marker\":{\"color\":\"#FF6692\",\"symbol\":\"circle\"},\"mode\":\"lines\",\"name\":\"33.054393305\",\"showlegend\":false,\"xaxis\":\"x\",\"yaxis\":\"y\",\"type\":\"scatter\"},{\"hovertemplate\":\"PERCENT_3_OR_ABOVE=%{y}\\u003cbr\\u003epopulation=%{x}\\u003cextra\\u003e\\u003c\\u002fextra\\u003e\",\"legendgroup\":\"49.743589744\",\"marker\":{\"color\":\"#B6E880\",\"symbol\":\"circle\"},\"mode\":\"markers\",\"name\":\"49.743589744\",\"orientation\":\"h\",\"showlegend\":true,\"x\":[65904.0],\"xaxis\":\"x\",\"y\":[\"49.743589744\"],\"yaxis\":\"y\",\"type\":\"scatter\"},{\"hovertemplate\":\"PERCENT_3_OR_ABOVE=49.743589744\\u003cextra\\u003e\\u003c\\u002fextra\\u003e\",\"legendgroup\":\"49.743589744\",\"line\":{\"color\":\"darkblue\"},\"marker\":{\"color\":\"#B6E880\",\"symbol\":\"circle\"},\"mode\":\"lines\",\"name\":\"49.743589744\",\"showlegend\":false,\"xaxis\":\"x\",\"yaxis\":\"y\",\"type\":\"scatter\"},{\"hovertemplate\":\"PERCENT_3_OR_ABOVE=%{y}\\u003cbr\\u003epopulation=%{x}\\u003cextra\\u003e\\u003c\\u002fextra\\u003e\",\"legendgroup\":\"53.333333333\",\"marker\":{\"color\":\"#FF97FF\",\"symbol\":\"circle\"},\"mode\":\"markers\",\"name\":\"53.333333333\",\"orientation\":\"h\",\"showlegend\":true,\"x\":[78807.0],\"xaxis\":\"x\",\"y\":[\"53.333333333\"],\"yaxis\":\"y\",\"type\":\"scatter\"},{\"hovertemplate\":\"PERCENT_3_OR_ABOVE=53.333333333\\u003cextra\\u003e\\u003c\\u002fextra\\u003e\",\"legendgroup\":\"53.333333333\",\"line\":{\"color\":\"darkblue\"},\"marker\":{\"color\":\"#FF97FF\",\"symbol\":\"circle\"},\"mode\":\"lines\",\"name\":\"53.333333333\",\"showlegend\":false,\"xaxis\":\"x\",\"yaxis\":\"y\",\"type\":\"scatter\"},{\"hovertemplate\":\"PERCENT_3_OR_ABOVE=%{y}\\u003cbr\\u003epopulation=%{x}\\u003cextra\\u003e\\u003c\\u002fextra\\u003e\",\"legendgroup\":\"42.424242424\",\"marker\":{\"color\":\"#FECB52\",\"symbol\":\"circle\"},\"mode\":\"markers\",\"name\":\"42.424242424\",\"orientation\":\"h\",\"showlegend\":true,\"x\":[37246.0],\"xaxis\":\"x\",\"y\":[\"42.424242424\"],\"yaxis\":\"y\",\"type\":\"scatter\"},{\"hovertemplate\":\"PERCENT_3_OR_ABOVE=42.424242424\\u003cextra\\u003e\\u003c\\u002fextra\\u003e\",\"legendgroup\":\"42.424242424\",\"line\":{\"color\":\"darkblue\"},\"marker\":{\"color\":\"#FECB52\",\"symbol\":\"circle\"},\"mode\":\"lines\",\"name\":\"42.424242424\",\"showlegend\":false,\"xaxis\":\"x\",\"yaxis\":\"y\",\"type\":\"scatter\"},{\"hovertemplate\":\"PERCENT_3_OR_ABOVE=%{y}\\u003cbr\\u003epopulation=%{x}\\u003cextra\\u003e\\u003c\\u002fextra\\u003e\",\"legendgroup\":\"71.875\",\"marker\":{\"color\":\"#636efa\",\"symbol\":\"circle\"},\"mode\":\"markers\",\"name\":\"71.875\",\"orientation\":\"h\",\"showlegend\":true,\"x\":[18490.0],\"xaxis\":\"x\",\"y\":[\"71.875\"],\"yaxis\":\"y\",\"type\":\"scatter\"},{\"hovertemplate\":\"PERCENT_3_OR_ABOVE=71.875\\u003cextra\\u003e\\u003c\\u002fextra\\u003e\",\"legendgroup\":\"71.875\",\"line\":{\"color\":\"darkblue\"},\"marker\":{\"color\":\"#636efa\",\"symbol\":\"circle\"},\"mode\":\"lines\",\"name\":\"71.875\",\"showlegend\":false,\"xaxis\":\"x\",\"yaxis\":\"y\",\"type\":\"scatter\"}],                        {\"template\":{\"data\":{\"histogram2dcontour\":[{\"type\":\"histogram2dcontour\",\"colorbar\":{\"outlinewidth\":0,\"ticks\":\"\"},\"colorscale\":[[0.0,\"#0d0887\"],[0.1111111111111111,\"#46039f\"],[0.2222222222222222,\"#7201a8\"],[0.3333333333333333,\"#9c179e\"],[0.4444444444444444,\"#bd3786\"],[0.5555555555555556,\"#d8576b\"],[0.6666666666666666,\"#ed7953\"],[0.7777777777777778,\"#fb9f3a\"],[0.8888888888888888,\"#fdca26\"],[1.0,\"#f0f921\"]]}],\"choropleth\":[{\"type\":\"choropleth\",\"colorbar\":{\"outlinewidth\":0,\"ticks\":\"\"}}],\"histogram2d\":[{\"type\":\"histogram2d\",\"colorbar\":{\"outlinewidth\":0,\"ticks\":\"\"},\"colorscale\":[[0.0,\"#0d0887\"],[0.1111111111111111,\"#46039f\"],[0.2222222222222222,\"#7201a8\"],[0.3333333333333333,\"#9c179e\"],[0.4444444444444444,\"#bd3786\"],[0.5555555555555556,\"#d8576b\"],[0.6666666666666666,\"#ed7953\"],[0.7777777777777778,\"#fb9f3a\"],[0.8888888888888888,\"#fdca26\"],[1.0,\"#f0f921\"]]}],\"heatmap\":[{\"type\":\"heatmap\",\"colorbar\":{\"outlinewidth\":0,\"ticks\":\"\"},\"colorscale\":[[0.0,\"#0d0887\"],[0.1111111111111111,\"#46039f\"],[0.2222222222222222,\"#7201a8\"],[0.3333333333333333,\"#9c179e\"],[0.4444444444444444,\"#bd3786\"],[0.5555555555555556,\"#d8576b\"],[0.6666666666666666,\"#ed7953\"],[0.7777777777777778,\"#fb9f3a\"],[0.8888888888888888,\"#fdca26\"],[1.0,\"#f0f921\"]]}],\"heatmapgl\":[{\"type\":\"heatmapgl\",\"colorbar\":{\"outlinewidth\":0,\"ticks\":\"\"},\"colorscale\":[[0.0,\"#0d0887\"],[0.1111111111111111,\"#46039f\"],[0.2222222222222222,\"#7201a8\"],[0.3333333333333333,\"#9c179e\"],[0.4444444444444444,\"#bd3786\"],[0.5555555555555556,\"#d8576b\"],[0.6666666666666666,\"#ed7953\"],[0.7777777777777778,\"#fb9f3a\"],[0.8888888888888888,\"#fdca26\"],[1.0,\"#f0f921\"]]}],\"contourcarpet\":[{\"type\":\"contourcarpet\",\"colorbar\":{\"outlinewidth\":0,\"ticks\":\"\"}}],\"contour\":[{\"type\":\"contour\",\"colorbar\":{\"outlinewidth\":0,\"ticks\":\"\"},\"colorscale\":[[0.0,\"#0d0887\"],[0.1111111111111111,\"#46039f\"],[0.2222222222222222,\"#7201a8\"],[0.3333333333333333,\"#9c179e\"],[0.4444444444444444,\"#bd3786\"],[0.5555555555555556,\"#d8576b\"],[0.6666666666666666,\"#ed7953\"],[0.7777777777777778,\"#fb9f3a\"],[0.8888888888888888,\"#fdca26\"],[1.0,\"#f0f921\"]]}],\"surface\":[{\"type\":\"surface\",\"colorbar\":{\"outlinewidth\":0,\"ticks\":\"\"},\"colorscale\":[[0.0,\"#0d0887\"],[0.1111111111111111,\"#46039f\"],[0.2222222222222222,\"#7201a8\"],[0.3333333333333333,\"#9c179e\"],[0.4444444444444444,\"#bd3786\"],[0.5555555555555556,\"#d8576b\"],[0.6666666666666666,\"#ed7953\"],[0.7777777777777778,\"#fb9f3a\"],[0.8888888888888888,\"#fdca26\"],[1.0,\"#f0f921\"]]}],\"mesh3d\":[{\"type\":\"mesh3d\",\"colorbar\":{\"outlinewidth\":0,\"ticks\":\"\"}}],\"scatter\":[{\"fillpattern\":{\"fillmode\":\"overlay\",\"size\":10,\"solidity\":0.2},\"type\":\"scatter\"}],\"parcoords\":[{\"type\":\"parcoords\",\"line\":{\"colorbar\":{\"outlinewidth\":0,\"ticks\":\"\"}}}],\"scatterpolargl\":[{\"type\":\"scatterpolargl\",\"marker\":{\"colorbar\":{\"outlinewidth\":0,\"ticks\":\"\"}}}],\"bar\":[{\"error_x\":{\"color\":\"#2a3f5f\"},\"error_y\":{\"color\":\"#2a3f5f\"},\"marker\":{\"line\":{\"color\":\"#E5ECF6\",\"width\":0.5},\"pattern\":{\"fillmode\":\"overlay\",\"size\":10,\"solidity\":0.2}},\"type\":\"bar\"}],\"scattergeo\":[{\"type\":\"scattergeo\",\"marker\":{\"colorbar\":{\"outlinewidth\":0,\"ticks\":\"\"}}}],\"scatterpolar\":[{\"type\":\"scatterpolar\",\"marker\":{\"colorbar\":{\"outlinewidth\":0,\"ticks\":\"\"}}}],\"histogram\":[{\"marker\":{\"pattern\":{\"fillmode\":\"overlay\",\"size\":10,\"solidity\":0.2}},\"type\":\"histogram\"}],\"scattergl\":[{\"type\":\"scattergl\",\"marker\":{\"colorbar\":{\"outlinewidth\":0,\"ticks\":\"\"}}}],\"scatter3d\":[{\"type\":\"scatter3d\",\"line\":{\"colorbar\":{\"outlinewidth\":0,\"ticks\":\"\"}},\"marker\":{\"colorbar\":{\"outlinewidth\":0,\"ticks\":\"\"}}}],\"scattermapbox\":[{\"type\":\"scattermapbox\",\"marker\":{\"colorbar\":{\"outlinewidth\":0,\"ticks\":\"\"}}}],\"scatterternary\":[{\"type\":\"scatterternary\",\"marker\":{\"colorbar\":{\"outlinewidth\":0,\"ticks\":\"\"}}}],\"scattercarpet\":[{\"type\":\"scattercarpet\",\"marker\":{\"colorbar\":{\"outlinewidth\":0,\"ticks\":\"\"}}}],\"carpet\":[{\"aaxis\":{\"endlinecolor\":\"#2a3f5f\",\"gridcolor\":\"white\",\"linecolor\":\"white\",\"minorgridcolor\":\"white\",\"startlinecolor\":\"#2a3f5f\"},\"baxis\":{\"endlinecolor\":\"#2a3f5f\",\"gridcolor\":\"white\",\"linecolor\":\"white\",\"minorgridcolor\":\"white\",\"startlinecolor\":\"#2a3f5f\"},\"type\":\"carpet\"}],\"table\":[{\"cells\":{\"fill\":{\"color\":\"#EBF0F8\"},\"line\":{\"color\":\"white\"}},\"header\":{\"fill\":{\"color\":\"#C8D4E3\"},\"line\":{\"color\":\"white\"}},\"type\":\"table\"}],\"barpolar\":[{\"marker\":{\"line\":{\"color\":\"#E5ECF6\",\"width\":0.5},\"pattern\":{\"fillmode\":\"overlay\",\"size\":10,\"solidity\":0.2}},\"type\":\"barpolar\"}],\"pie\":[{\"automargin\":true,\"type\":\"pie\"}]},\"layout\":{\"autotypenumbers\":\"strict\",\"colorway\":[\"#636efa\",\"#EF553B\",\"#00cc96\",\"#ab63fa\",\"#FFA15A\",\"#19d3f3\",\"#FF6692\",\"#B6E880\",\"#FF97FF\",\"#FECB52\"],\"font\":{\"color\":\"#2a3f5f\"},\"hovermode\":\"closest\",\"hoverlabel\":{\"align\":\"left\"},\"paper_bgcolor\":\"white\",\"plot_bgcolor\":\"#E5ECF6\",\"polar\":{\"bgcolor\":\"#E5ECF6\",\"angularaxis\":{\"gridcolor\":\"white\",\"linecolor\":\"white\",\"ticks\":\"\"},\"radialaxis\":{\"gridcolor\":\"white\",\"linecolor\":\"white\",\"ticks\":\"\"}},\"ternary\":{\"bgcolor\":\"#E5ECF6\",\"aaxis\":{\"gridcolor\":\"white\",\"linecolor\":\"white\",\"ticks\":\"\"},\"baxis\":{\"gridcolor\":\"white\",\"linecolor\":\"white\",\"ticks\":\"\"},\"caxis\":{\"gridcolor\":\"white\",\"linecolor\":\"white\",\"ticks\":\"\"}},\"coloraxis\":{\"colorbar\":{\"outlinewidth\":0,\"ticks\":\"\"}},\"colorscale\":{\"sequential\":[[0.0,\"#0d0887\"],[0.1111111111111111,\"#46039f\"],[0.2222222222222222,\"#7201a8\"],[0.3333333333333333,\"#9c179e\"],[0.4444444444444444,\"#bd3786\"],[0.5555555555555556,\"#d8576b\"],[0.6666666666666666,\"#ed7953\"],[0.7777777777777778,\"#fb9f3a\"],[0.8888888888888888,\"#fdca26\"],[1.0,\"#f0f921\"]],\"sequentialminus\":[[0.0,\"#0d0887\"],[0.1111111111111111,\"#46039f\"],[0.2222222222222222,\"#7201a8\"],[0.3333333333333333,\"#9c179e\"],[0.4444444444444444,\"#bd3786\"],[0.5555555555555556,\"#d8576b\"],[0.6666666666666666,\"#ed7953\"],[0.7777777777777778,\"#fb9f3a\"],[0.8888888888888888,\"#fdca26\"],[1.0,\"#f0f921\"]],\"diverging\":[[0,\"#8e0152\"],[0.1,\"#c51b7d\"],[0.2,\"#de77ae\"],[0.3,\"#f1b6da\"],[0.4,\"#fde0ef\"],[0.5,\"#f7f7f7\"],[0.6,\"#e6f5d0\"],[0.7,\"#b8e186\"],[0.8,\"#7fbc41\"],[0.9,\"#4d9221\"],[1,\"#276419\"]]},\"xaxis\":{\"gridcolor\":\"white\",\"linecolor\":\"white\",\"ticks\":\"\",\"title\":{\"standoff\":15},\"zerolinecolor\":\"white\",\"automargin\":true,\"zerolinewidth\":2},\"yaxis\":{\"gridcolor\":\"white\",\"linecolor\":\"white\",\"ticks\":\"\",\"title\":{\"standoff\":15},\"zerolinecolor\":\"white\",\"automargin\":true,\"zerolinewidth\":2},\"scene\":{\"xaxis\":{\"backgroundcolor\":\"#E5ECF6\",\"gridcolor\":\"white\",\"linecolor\":\"white\",\"showbackground\":true,\"ticks\":\"\",\"zerolinecolor\":\"white\",\"gridwidth\":2},\"yaxis\":{\"backgroundcolor\":\"#E5ECF6\",\"gridcolor\":\"white\",\"linecolor\":\"white\",\"showbackground\":true,\"ticks\":\"\",\"zerolinecolor\":\"white\",\"gridwidth\":2},\"zaxis\":{\"backgroundcolor\":\"#E5ECF6\",\"gridcolor\":\"white\",\"linecolor\":\"white\",\"showbackground\":true,\"ticks\":\"\",\"zerolinecolor\":\"white\",\"gridwidth\":2}},\"shapedefaults\":{\"line\":{\"color\":\"#2a3f5f\"}},\"annotationdefaults\":{\"arrowcolor\":\"#2a3f5f\",\"arrowhead\":0,\"arrowwidth\":1},\"geo\":{\"bgcolor\":\"white\",\"landcolor\":\"#E5ECF6\",\"subunitcolor\":\"white\",\"showland\":true,\"showlakes\":true,\"lakecolor\":\"white\"},\"title\":{\"x\":0.05},\"mapbox\":{\"style\":\"light\"}}},\"xaxis\":{\"anchor\":\"y\",\"domain\":[0.0,1.0],\"title\":{\"text\":\"population\"}},\"yaxis\":{\"anchor\":\"x\",\"domain\":[0.0,1.0],\"title\":{\"text\":\"PERCENT_3_OR_ABOVE\"},\"categoryorder\":\"array\",\"categoryarray\":[\"71.875\",\"42.424242424\",\"53.333333333\",\"49.743589744\",\"33.054393305\",\"74.733096085\",\"67.993273543\",\"70.89678511\",\"69.512195122\",\"55\",\"52.727272727\",\"54.918032787\",\"52.941176471\",\"47.959183673\",\"39.240506329\",\"49.101796407\",\"39.051094891\",\"23.722627737\",\"26.490066225\",\"45.862884161\",\"70\",\"52.443384982\",\"43.689320388\",\"66.666666667\",\"64.401294498\",\"19.047619048\",\"70.983213429\",\"40.822467402\",\"65.967365967\",\"69.714285714\",\"47.826086957\",\"63.566535188\",\"43.835616438\",\"27.272727273\",\"52.380952381\",\"50.54200542\",\"28.421052632\",\"53.459119497\",\"55.628415301\",\"65.517241379\",\"37.435897436\",\"66.371681416\",\"44.171779141\",\"43.561643836\",\"58.148274684\",\"29.268292683\",\"24.503311258\",\"47.368421053\",\"44.751381215\",\"47.535211268\",\"70.880587058\",\"31.182795699\",\"57.073954984\",\"33.766233766\",\"60.200668896\",\"60.994764398\",\"50.842696629\",\"60.416666667\",\"50.238095238\",\"43.75\",\"38.372093023\",\"56.060606061\",\"37.931034483\",\"62.561576355\",\"53.249475891\",\"33.333333333\",\"75\",\"51.612903226\",\"57.837837838\",\"65.241295052\",\"50.739957717\",\"59.070191431\",\"57.357357357\",\"45\",\"43.269230769\",\"36.956521739\",\"58.695652174\",\"45.454545455\",0,\"53.191489362\",\"60.409924488\"]},\"legend\":{\"title\":{\"text\":\"PERCENT_3_OR_ABOVE\"},\"tracegroupgap\":0},\"title\":{\"text\":\"Pass rate vs Population\"},\"height\":600,\"width\":800},                        {\"responsive\": true}                    ).then(function(){\n",
       "                            \n",
       "var gd = document.getElementById('4d7c4027-66c8-4eb6-9232-51485a85b222');\n",
       "var x = new MutationObserver(function (mutations, observer) {{\n",
       "        var display = window.getComputedStyle(gd).display;\n",
       "        if (!display || display === 'none') {{\n",
       "            console.log([gd, 'removed!']);\n",
       "            Plotly.purge(gd);\n",
       "            observer.disconnect();\n",
       "        }}\n",
       "}});\n",
       "\n",
       "// Listen for the removal of the full notebook cells\n",
       "var notebookContainer = gd.closest('#notebook-container');\n",
       "if (notebookContainer) {{\n",
       "    x.observe(notebookContainer, {childList: true});\n",
       "}}\n",
       "\n",
       "// Listen for the clearing of the current output cell\n",
       "var outputEl = gd.closest('.output');\n",
       "if (outputEl) {{\n",
       "    x.observe(outputEl, {childList: true});\n",
       "}}\n",
       "\n",
       "                        })                };                });            </script>        </div>"
      ]
     },
     "metadata": {},
     "output_type": "display_data"
    }
   ],
   "source": [
    "fig = px.scatter(data_frame=northcarolina20,x='population', y='PERCENT_3_OR_ABOVE',trendline='ols',trendline_color_override='darkblue',width=800, height=600,color='PERCENT_3_OR_ABOVE',title='Pass rate vs Population')\n",
    "fig.show()\n",
    "with open('data/NC_pickled/NC_AP_pass_rate_by_counties_vs_population.pkl', 'wb') as f:\n",
    "    pickle.dump(fig, f)"
   ]
  },
  {
   "cell_type": "code",
   "execution_count": 69,
   "id": "0f02bd63-36a7-4659-bd7e-2fe89d068cd0",
   "metadata": {},
   "outputs": [
    {
     "name": "stderr",
     "output_type": "stream",
     "text": [
      "C:\\Users\\amahapatra\\.conda\\envs\\ww-env\\Lib\\site-packages\\statsmodels\\regression\\linear_model.py:1782: RuntimeWarning:\n",
      "\n",
      "invalid value encountered in scalar divide\n",
      "\n",
      "C:\\Users\\amahapatra\\.conda\\envs\\ww-env\\Lib\\site-packages\\statsmodels\\regression\\linear_model.py:1782: RuntimeWarning:\n",
      "\n",
      "divide by zero encountered in scalar divide\n",
      "\n"
     ]
    },
    {
     "data": {
      "application/vnd.plotly.v1+json": {
       "config": {
        "plotlyServerURL": "https://plot.ly"
       },
       "data": [
        {
         "hovertemplate": "PERCENT_3_OR_ABOVE=%{y}<br>closest_five_public_avg=%{x}<extra></extra>",
         "legendgroup": "60.409924488",
         "marker": {
          "color": "#636efa",
          "symbol": "circle"
         },
         "mode": "markers",
         "name": "60.409924488",
         "orientation": "h",
         "showlegend": true,
         "type": "scatter",
         "x": [
          0
         ],
         "xaxis": "x",
         "y": [
          "60.409924488"
         ],
         "yaxis": "y"
        },
        {
         "hovertemplate": "PERCENT_3_OR_ABOVE=60.409924488<extra></extra>",
         "legendgroup": "60.409924488",
         "line": {
          "color": "darkblue"
         },
         "marker": {
          "color": "#636efa",
          "symbol": "circle"
         },
         "mode": "lines",
         "name": "60.409924488",
         "showlegend": false,
         "type": "scatter",
         "xaxis": "x",
         "yaxis": "y"
        },
        {
         "hovertemplate": "PERCENT_3_OR_ABOVE=%{y}<br>closest_five_public_avg=%{x}<extra></extra>",
         "legendgroup": "53.191489362",
         "marker": {
          "color": "#EF553B",
          "symbol": "circle"
         },
         "mode": "markers",
         "name": "53.191489362",
         "orientation": "h",
         "showlegend": true,
         "type": "scatter",
         "x": [
          32.003357172931224
         ],
         "xaxis": "x",
         "y": [
          "53.191489362"
         ],
         "yaxis": "y"
        },
        {
         "hovertemplate": "PERCENT_3_OR_ABOVE=53.191489362<extra></extra>",
         "legendgroup": "53.191489362",
         "line": {
          "color": "darkblue"
         },
         "marker": {
          "color": "#EF553B",
          "symbol": "circle"
         },
         "mode": "lines",
         "name": "53.191489362",
         "showlegend": false,
         "type": "scatter",
         "xaxis": "x",
         "yaxis": "y"
        },
        {
         "hovertemplate": "PERCENT_3_OR_ABOVE=%{y}<br>closest_five_public_avg=%{x}<extra></extra>",
         "legendgroup": "0",
         "marker": {
          "color": "#00cc96",
          "symbol": "circle"
         },
         "mode": "markers",
         "name": "0",
         "orientation": "h",
         "showlegend": true,
         "type": "scatter",
         "x": [
          53.37077309574239,
          47.01581816330685,
          44.49261073489306,
          43.07748813017307,
          43.88830582641141,
          43.88830582641141,
          45.04761557910636,
          78.67976880810966,
          37.748943001709335,
          31.53341063450667,
          33.31215014590538,
          46.51550303541442,
          49.16351034697654,
          51.23122170302746,
          57.57277371816806
         ],
         "xaxis": "x",
         "y": [
          0,
          0,
          0,
          0,
          0,
          0,
          0,
          0,
          0,
          0,
          0,
          0,
          0,
          0,
          0
         ],
         "yaxis": "y"
        },
        {
         "hovertemplate": "<b>OLS trendline</b><br>PERCENT_3_OR_ABOVE = 0 * closest_five_public_avg + 0<br>R<sup>2</sup>=nan<br><br>PERCENT_3_OR_ABOVE=%{y} <b>(trend)</b><br>closest_five_public_avg=%{x}<extra></extra>",
         "legendgroup": "0",
         "line": {
          "color": "darkblue"
         },
         "marker": {
          "color": "#00cc96",
          "symbol": "circle"
         },
         "mode": "lines",
         "name": "0",
         "showlegend": false,
         "type": "scatter",
         "x": [
          31.53341063450667,
          33.31215014590538,
          37.748943001709335,
          43.07748813017307,
          43.88830582641141,
          43.88830582641141,
          44.49261073489306,
          45.04761557910636,
          46.51550303541442,
          47.01581816330685,
          49.16351034697654,
          51.23122170302746,
          53.37077309574239,
          57.57277371816806,
          78.67976880810966
         ],
         "xaxis": "x",
         "y": [
          0,
          0,
          0,
          0,
          0,
          0,
          0,
          0,
          0,
          0,
          0,
          0,
          0,
          0,
          0
         ],
         "yaxis": "y"
        },
        {
         "hovertemplate": "PERCENT_3_OR_ABOVE=%{y}<br>closest_five_public_avg=%{x}<extra></extra>",
         "legendgroup": "45.454545455",
         "marker": {
          "color": "#ab63fa",
          "symbol": "circle"
         },
         "mode": "markers",
         "name": "45.454545455",
         "orientation": "h",
         "showlegend": true,
         "type": "scatter",
         "x": [
          34.37010877301969
         ],
         "xaxis": "x",
         "y": [
          "45.454545455"
         ],
         "yaxis": "y"
        },
        {
         "hovertemplate": "PERCENT_3_OR_ABOVE=45.454545455<extra></extra>",
         "legendgroup": "45.454545455",
         "line": {
          "color": "darkblue"
         },
         "marker": {
          "color": "#ab63fa",
          "symbol": "circle"
         },
         "mode": "lines",
         "name": "45.454545455",
         "showlegend": false,
         "type": "scatter",
         "xaxis": "x",
         "yaxis": "y"
        },
        {
         "hovertemplate": "PERCENT_3_OR_ABOVE=%{y}<br>closest_five_public_avg=%{x}<extra></extra>",
         "legendgroup": "58.695652174",
         "marker": {
          "color": "#FFA15A",
          "symbol": "circle"
         },
         "mode": "markers",
         "name": "58.695652174",
         "orientation": "h",
         "showlegend": true,
         "type": "scatter",
         "x": [
          51.96774984153012
         ],
         "xaxis": "x",
         "y": [
          "58.695652174"
         ],
         "yaxis": "y"
        },
        {
         "hovertemplate": "PERCENT_3_OR_ABOVE=58.695652174<extra></extra>",
         "legendgroup": "58.695652174",
         "line": {
          "color": "darkblue"
         },
         "marker": {
          "color": "#FFA15A",
          "symbol": "circle"
         },
         "mode": "lines",
         "name": "58.695652174",
         "showlegend": false,
         "type": "scatter",
         "xaxis": "x",
         "yaxis": "y"
        },
        {
         "hovertemplate": "PERCENT_3_OR_ABOVE=%{y}<br>closest_five_public_avg=%{x}<extra></extra>",
         "legendgroup": "36.956521739",
         "marker": {
          "color": "#19d3f3",
          "symbol": "circle"
         },
         "mode": "markers",
         "name": "36.956521739",
         "orientation": "h",
         "showlegend": true,
         "type": "scatter",
         "x": [
          36.46299910980154
         ],
         "xaxis": "x",
         "y": [
          "36.956521739"
         ],
         "yaxis": "y"
        },
        {
         "hovertemplate": "PERCENT_3_OR_ABOVE=36.956521739<extra></extra>",
         "legendgroup": "36.956521739",
         "line": {
          "color": "darkblue"
         },
         "marker": {
          "color": "#19d3f3",
          "symbol": "circle"
         },
         "mode": "lines",
         "name": "36.956521739",
         "showlegend": false,
         "type": "scatter",
         "xaxis": "x",
         "yaxis": "y"
        },
        {
         "hovertemplate": "PERCENT_3_OR_ABOVE=%{y}<br>closest_five_public_avg=%{x}<extra></extra>",
         "legendgroup": "43.269230769",
         "marker": {
          "color": "#FF6692",
          "symbol": "circle"
         },
         "mode": "markers",
         "name": "43.269230769",
         "orientation": "h",
         "showlegend": true,
         "type": "scatter",
         "x": [
          39.36830664993078
         ],
         "xaxis": "x",
         "y": [
          "43.269230769"
         ],
         "yaxis": "y"
        },
        {
         "hovertemplate": "PERCENT_3_OR_ABOVE=43.269230769<extra></extra>",
         "legendgroup": "43.269230769",
         "line": {
          "color": "darkblue"
         },
         "marker": {
          "color": "#FF6692",
          "symbol": "circle"
         },
         "mode": "lines",
         "name": "43.269230769",
         "showlegend": false,
         "type": "scatter",
         "xaxis": "x",
         "yaxis": "y"
        },
        {
         "hovertemplate": "PERCENT_3_OR_ABOVE=%{y}<br>closest_five_public_avg=%{x}<extra></extra>",
         "legendgroup": "45",
         "marker": {
          "color": "#B6E880",
          "symbol": "circle"
         },
         "mode": "markers",
         "name": "45",
         "orientation": "h",
         "showlegend": true,
         "type": "scatter",
         "x": [
          39.7656318798151
         ],
         "xaxis": "x",
         "y": [
          "45"
         ],
         "yaxis": "y"
        },
        {
         "hovertemplate": "PERCENT_3_OR_ABOVE=45<extra></extra>",
         "legendgroup": "45",
         "line": {
          "color": "darkblue"
         },
         "marker": {
          "color": "#B6E880",
          "symbol": "circle"
         },
         "mode": "lines",
         "name": "45",
         "showlegend": false,
         "type": "scatter",
         "xaxis": "x",
         "yaxis": "y"
        },
        {
         "hovertemplate": "PERCENT_3_OR_ABOVE=%{y}<br>closest_five_public_avg=%{x}<extra></extra>",
         "legendgroup": "57.357357357",
         "marker": {
          "color": "#FF97FF",
          "symbol": "circle"
         },
         "mode": "markers",
         "name": "57.357357357",
         "orientation": "h",
         "showlegend": true,
         "type": "scatter",
         "x": [
          42.00305478609475
         ],
         "xaxis": "x",
         "y": [
          "57.357357357"
         ],
         "yaxis": "y"
        },
        {
         "hovertemplate": "PERCENT_3_OR_ABOVE=57.357357357<extra></extra>",
         "legendgroup": "57.357357357",
         "line": {
          "color": "darkblue"
         },
         "marker": {
          "color": "#FF97FF",
          "symbol": "circle"
         },
         "mode": "lines",
         "name": "57.357357357",
         "showlegend": false,
         "type": "scatter",
         "xaxis": "x",
         "yaxis": "y"
        },
        {
         "hovertemplate": "PERCENT_3_OR_ABOVE=%{y}<br>closest_five_public_avg=%{x}<extra></extra>",
         "legendgroup": "59.070191431",
         "marker": {
          "color": "#FECB52",
          "symbol": "circle"
         },
         "mode": "markers",
         "name": "59.070191431",
         "orientation": "h",
         "showlegend": true,
         "type": "scatter",
         "x": [
          23.00351890417645
         ],
         "xaxis": "x",
         "y": [
          "59.070191431"
         ],
         "yaxis": "y"
        },
        {
         "hovertemplate": "PERCENT_3_OR_ABOVE=59.070191431<extra></extra>",
         "legendgroup": "59.070191431",
         "line": {
          "color": "darkblue"
         },
         "marker": {
          "color": "#FECB52",
          "symbol": "circle"
         },
         "mode": "lines",
         "name": "59.070191431",
         "showlegend": false,
         "type": "scatter",
         "xaxis": "x",
         "yaxis": "y"
        },
        {
         "hovertemplate": "PERCENT_3_OR_ABOVE=%{y}<br>closest_five_public_avg=%{x}<extra></extra>",
         "legendgroup": "50.739957717",
         "marker": {
          "color": "#636efa",
          "symbol": "circle"
         },
         "mode": "markers",
         "name": "50.739957717",
         "orientation": "h",
         "showlegend": true,
         "type": "scatter",
         "x": [
          25.004773780096865
         ],
         "xaxis": "x",
         "y": [
          "50.739957717"
         ],
         "yaxis": "y"
        },
        {
         "hovertemplate": "PERCENT_3_OR_ABOVE=50.739957717<extra></extra>",
         "legendgroup": "50.739957717",
         "line": {
          "color": "darkblue"
         },
         "marker": {
          "color": "#636efa",
          "symbol": "circle"
         },
         "mode": "lines",
         "name": "50.739957717",
         "showlegend": false,
         "type": "scatter",
         "xaxis": "x",
         "yaxis": "y"
        },
        {
         "hovertemplate": "PERCENT_3_OR_ABOVE=%{y}<br>closest_five_public_avg=%{x}<extra></extra>",
         "legendgroup": "65.241295052",
         "marker": {
          "color": "#EF553B",
          "symbol": "circle"
         },
         "mode": "markers",
         "name": "65.241295052",
         "orientation": "h",
         "showlegend": true,
         "type": "scatter",
         "x": [
          29.88325604709754
         ],
         "xaxis": "x",
         "y": [
          "65.241295052"
         ],
         "yaxis": "y"
        },
        {
         "hovertemplate": "PERCENT_3_OR_ABOVE=65.241295052<extra></extra>",
         "legendgroup": "65.241295052",
         "line": {
          "color": "darkblue"
         },
         "marker": {
          "color": "#EF553B",
          "symbol": "circle"
         },
         "mode": "lines",
         "name": "65.241295052",
         "showlegend": false,
         "type": "scatter",
         "xaxis": "x",
         "yaxis": "y"
        },
        {
         "hovertemplate": "PERCENT_3_OR_ABOVE=%{y}<br>closest_five_public_avg=%{x}<extra></extra>",
         "legendgroup": "57.837837838",
         "marker": {
          "color": "#00cc96",
          "symbol": "circle"
         },
         "mode": "markers",
         "name": "57.837837838",
         "orientation": "h",
         "showlegend": true,
         "type": "scatter",
         "x": [
          29.49899226415743
         ],
         "xaxis": "x",
         "y": [
          "57.837837838"
         ],
         "yaxis": "y"
        },
        {
         "hovertemplate": "PERCENT_3_OR_ABOVE=57.837837838<extra></extra>",
         "legendgroup": "57.837837838",
         "line": {
          "color": "darkblue"
         },
         "marker": {
          "color": "#00cc96",
          "symbol": "circle"
         },
         "mode": "lines",
         "name": "57.837837838",
         "showlegend": false,
         "type": "scatter",
         "xaxis": "x",
         "yaxis": "y"
        },
        {
         "hovertemplate": "PERCENT_3_OR_ABOVE=%{y}<br>closest_five_public_avg=%{x}<extra></extra>",
         "legendgroup": "51.612903226",
         "marker": {
          "color": "#ab63fa",
          "symbol": "circle"
         },
         "mode": "markers",
         "name": "51.612903226",
         "orientation": "h",
         "showlegend": true,
         "type": "scatter",
         "x": [
          35.02582091858828
         ],
         "xaxis": "x",
         "y": [
          "51.612903226"
         ],
         "yaxis": "y"
        },
        {
         "hovertemplate": "PERCENT_3_OR_ABOVE=51.612903226<extra></extra>",
         "legendgroup": "51.612903226",
         "line": {
          "color": "darkblue"
         },
         "marker": {
          "color": "#ab63fa",
          "symbol": "circle"
         },
         "mode": "lines",
         "name": "51.612903226",
         "showlegend": false,
         "type": "scatter",
         "xaxis": "x",
         "yaxis": "y"
        },
        {
         "hovertemplate": "PERCENT_3_OR_ABOVE=%{y}<br>closest_five_public_avg=%{x}<extra></extra>",
         "legendgroup": "75",
         "marker": {
          "color": "#FFA15A",
          "symbol": "circle"
         },
         "mode": "markers",
         "name": "75",
         "orientation": "h",
         "showlegend": true,
         "type": "scatter",
         "x": [
          49.09312093333831
         ],
         "xaxis": "x",
         "y": [
          "75"
         ],
         "yaxis": "y"
        },
        {
         "hovertemplate": "PERCENT_3_OR_ABOVE=75<extra></extra>",
         "legendgroup": "75",
         "line": {
          "color": "darkblue"
         },
         "marker": {
          "color": "#FFA15A",
          "symbol": "circle"
         },
         "mode": "lines",
         "name": "75",
         "showlegend": false,
         "type": "scatter",
         "xaxis": "x",
         "yaxis": "y"
        },
        {
         "hovertemplate": "PERCENT_3_OR_ABOVE=%{y}<br>closest_five_public_avg=%{x}<extra></extra>",
         "legendgroup": "33.333333333",
         "marker": {
          "color": "#19d3f3",
          "symbol": "circle"
         },
         "mode": "markers",
         "name": "33.333333333",
         "orientation": "h",
         "showlegend": true,
         "type": "scatter",
         "x": [
          35.830309264385015,
          39.75253815977072
         ],
         "xaxis": "x",
         "y": [
          "33.333333333",
          "33.333333333"
         ],
         "yaxis": "y"
        },
        {
         "hovertemplate": "<b>OLS trendline</b><br>PERCENT_3_OR_ABOVE = -1.81596e-17 * closest_five_public_avg + 33.3333<br>R<sup>2</sup>=-inf<br><br>PERCENT_3_OR_ABOVE=%{y} <b>(trend)</b><br>closest_five_public_avg=%{x}<extra></extra>",
         "legendgroup": "33.333333333",
         "line": {
          "color": "darkblue"
         },
         "marker": {
          "color": "#19d3f3",
          "symbol": "circle"
         },
         "mode": "lines",
         "name": "33.333333333",
         "showlegend": false,
         "type": "scatter",
         "x": [
          35.830309264385015,
          39.75253815977072
         ],
         "xaxis": "x",
         "y": [
          33.33333333299998,
          33.33333333299998
         ],
         "yaxis": "y"
        },
        {
         "hovertemplate": "PERCENT_3_OR_ABOVE=%{y}<br>closest_five_public_avg=%{x}<extra></extra>",
         "legendgroup": "53.249475891",
         "marker": {
          "color": "#FF6692",
          "symbol": "circle"
         },
         "mode": "markers",
         "name": "53.249475891",
         "orientation": "h",
         "showlegend": true,
         "type": "scatter",
         "x": [
          30.92577353096385
         ],
         "xaxis": "x",
         "y": [
          "53.249475891"
         ],
         "yaxis": "y"
        },
        {
         "hovertemplate": "PERCENT_3_OR_ABOVE=53.249475891<extra></extra>",
         "legendgroup": "53.249475891",
         "line": {
          "color": "darkblue"
         },
         "marker": {
          "color": "#FF6692",
          "symbol": "circle"
         },
         "mode": "lines",
         "name": "53.249475891",
         "showlegend": false,
         "type": "scatter",
         "xaxis": "x",
         "yaxis": "y"
        },
        {
         "hovertemplate": "PERCENT_3_OR_ABOVE=%{y}<br>closest_five_public_avg=%{x}<extra></extra>",
         "legendgroup": "62.561576355",
         "marker": {
          "color": "#B6E880",
          "symbol": "circle"
         },
         "mode": "markers",
         "name": "62.561576355",
         "orientation": "h",
         "showlegend": true,
         "type": "scatter",
         "x": [
          37.52426714344399
         ],
         "xaxis": "x",
         "y": [
          "62.561576355"
         ],
         "yaxis": "y"
        },
        {
         "hovertemplate": "PERCENT_3_OR_ABOVE=62.561576355<extra></extra>",
         "legendgroup": "62.561576355",
         "line": {
          "color": "darkblue"
         },
         "marker": {
          "color": "#B6E880",
          "symbol": "circle"
         },
         "mode": "lines",
         "name": "62.561576355",
         "showlegend": false,
         "type": "scatter",
         "xaxis": "x",
         "yaxis": "y"
        },
        {
         "hovertemplate": "PERCENT_3_OR_ABOVE=%{y}<br>closest_five_public_avg=%{x}<extra></extra>",
         "legendgroup": "37.931034483",
         "marker": {
          "color": "#FF97FF",
          "symbol": "circle"
         },
         "mode": "markers",
         "name": "37.931034483",
         "orientation": "h",
         "showlegend": true,
         "type": "scatter",
         "x": [
          56.978653590831335
         ],
         "xaxis": "x",
         "y": [
          "37.931034483"
         ],
         "yaxis": "y"
        },
        {
         "hovertemplate": "PERCENT_3_OR_ABOVE=37.931034483<extra></extra>",
         "legendgroup": "37.931034483",
         "line": {
          "color": "darkblue"
         },
         "marker": {
          "color": "#FF97FF",
          "symbol": "circle"
         },
         "mode": "lines",
         "name": "37.931034483",
         "showlegend": false,
         "type": "scatter",
         "xaxis": "x",
         "yaxis": "y"
        },
        {
         "hovertemplate": "PERCENT_3_OR_ABOVE=%{y}<br>closest_five_public_avg=%{x}<extra></extra>",
         "legendgroup": "56.060606061",
         "marker": {
          "color": "#FECB52",
          "symbol": "circle"
         },
         "mode": "markers",
         "name": "56.060606061",
         "orientation": "h",
         "showlegend": true,
         "type": "scatter",
         "x": [
          33.206873363215635
         ],
         "xaxis": "x",
         "y": [
          "56.060606061"
         ],
         "yaxis": "y"
        },
        {
         "hovertemplate": "PERCENT_3_OR_ABOVE=56.060606061<extra></extra>",
         "legendgroup": "56.060606061",
         "line": {
          "color": "darkblue"
         },
         "marker": {
          "color": "#FECB52",
          "symbol": "circle"
         },
         "mode": "lines",
         "name": "56.060606061",
         "showlegend": false,
         "type": "scatter",
         "xaxis": "x",
         "yaxis": "y"
        },
        {
         "hovertemplate": "PERCENT_3_OR_ABOVE=%{y}<br>closest_five_public_avg=%{x}<extra></extra>",
         "legendgroup": "38.372093023",
         "marker": {
          "color": "#636efa",
          "symbol": "circle"
         },
         "mode": "markers",
         "name": "38.372093023",
         "orientation": "h",
         "showlegend": true,
         "type": "scatter",
         "x": [
          44.12780786356369
         ],
         "xaxis": "x",
         "y": [
          "38.372093023"
         ],
         "yaxis": "y"
        },
        {
         "hovertemplate": "PERCENT_3_OR_ABOVE=38.372093023<extra></extra>",
         "legendgroup": "38.372093023",
         "line": {
          "color": "darkblue"
         },
         "marker": {
          "color": "#636efa",
          "symbol": "circle"
         },
         "mode": "lines",
         "name": "38.372093023",
         "showlegend": false,
         "type": "scatter",
         "xaxis": "x",
         "yaxis": "y"
        },
        {
         "hovertemplate": "PERCENT_3_OR_ABOVE=%{y}<br>closest_five_public_avg=%{x}<extra></extra>",
         "legendgroup": "43.75",
         "marker": {
          "color": "#EF553B",
          "symbol": "circle"
         },
         "mode": "markers",
         "name": "43.75",
         "orientation": "h",
         "showlegend": true,
         "type": "scatter",
         "x": [
          33.08763880983473
         ],
         "xaxis": "x",
         "y": [
          "43.75"
         ],
         "yaxis": "y"
        },
        {
         "hovertemplate": "PERCENT_3_OR_ABOVE=43.75<extra></extra>",
         "legendgroup": "43.75",
         "line": {
          "color": "darkblue"
         },
         "marker": {
          "color": "#EF553B",
          "symbol": "circle"
         },
         "mode": "lines",
         "name": "43.75",
         "showlegend": false,
         "type": "scatter",
         "xaxis": "x",
         "yaxis": "y"
        },
        {
         "hovertemplate": "PERCENT_3_OR_ABOVE=%{y}<br>closest_five_public_avg=%{x}<extra></extra>",
         "legendgroup": "50.238095238",
         "marker": {
          "color": "#00cc96",
          "symbol": "circle"
         },
         "mode": "markers",
         "name": "50.238095238",
         "orientation": "h",
         "showlegend": true,
         "type": "scatter",
         "x": [
          29.785288570921136
         ],
         "xaxis": "x",
         "y": [
          "50.238095238"
         ],
         "yaxis": "y"
        },
        {
         "hovertemplate": "PERCENT_3_OR_ABOVE=50.238095238<extra></extra>",
         "legendgroup": "50.238095238",
         "line": {
          "color": "darkblue"
         },
         "marker": {
          "color": "#00cc96",
          "symbol": "circle"
         },
         "mode": "lines",
         "name": "50.238095238",
         "showlegend": false,
         "type": "scatter",
         "xaxis": "x",
         "yaxis": "y"
        },
        {
         "hovertemplate": "PERCENT_3_OR_ABOVE=%{y}<br>closest_five_public_avg=%{x}<extra></extra>",
         "legendgroup": "60.416666667",
         "marker": {
          "color": "#ab63fa",
          "symbol": "circle"
         },
         "mode": "markers",
         "name": "60.416666667",
         "orientation": "h",
         "showlegend": true,
         "type": "scatter",
         "x": [
          42.16766746799773
         ],
         "xaxis": "x",
         "y": [
          "60.416666667"
         ],
         "yaxis": "y"
        },
        {
         "hovertemplate": "PERCENT_3_OR_ABOVE=60.416666667<extra></extra>",
         "legendgroup": "60.416666667",
         "line": {
          "color": "darkblue"
         },
         "marker": {
          "color": "#ab63fa",
          "symbol": "circle"
         },
         "mode": "lines",
         "name": "60.416666667",
         "showlegend": false,
         "type": "scatter",
         "xaxis": "x",
         "yaxis": "y"
        },
        {
         "hovertemplate": "PERCENT_3_OR_ABOVE=%{y}<br>closest_five_public_avg=%{x}<extra></extra>",
         "legendgroup": "50.842696629",
         "marker": {
          "color": "#FFA15A",
          "symbol": "circle"
         },
         "mode": "markers",
         "name": "50.842696629",
         "orientation": "h",
         "showlegend": true,
         "type": "scatter",
         "x": [
          97.45815158710823
         ],
         "xaxis": "x",
         "y": [
          "50.842696629"
         ],
         "yaxis": "y"
        },
        {
         "hovertemplate": "PERCENT_3_OR_ABOVE=50.842696629<extra></extra>",
         "legendgroup": "50.842696629",
         "line": {
          "color": "darkblue"
         },
         "marker": {
          "color": "#FFA15A",
          "symbol": "circle"
         },
         "mode": "lines",
         "name": "50.842696629",
         "showlegend": false,
         "type": "scatter",
         "xaxis": "x",
         "yaxis": "y"
        },
        {
         "hovertemplate": "PERCENT_3_OR_ABOVE=%{y}<br>closest_five_public_avg=%{x}<extra></extra>",
         "legendgroup": "60.994764398",
         "marker": {
          "color": "#19d3f3",
          "symbol": "circle"
         },
         "mode": "markers",
         "name": "60.994764398",
         "orientation": "h",
         "showlegend": true,
         "type": "scatter",
         "x": [
          26.71013154459096
         ],
         "xaxis": "x",
         "y": [
          "60.994764398"
         ],
         "yaxis": "y"
        },
        {
         "hovertemplate": "PERCENT_3_OR_ABOVE=60.994764398<extra></extra>",
         "legendgroup": "60.994764398",
         "line": {
          "color": "darkblue"
         },
         "marker": {
          "color": "#19d3f3",
          "symbol": "circle"
         },
         "mode": "lines",
         "name": "60.994764398",
         "showlegend": false,
         "type": "scatter",
         "xaxis": "x",
         "yaxis": "y"
        },
        {
         "hovertemplate": "PERCENT_3_OR_ABOVE=%{y}<br>closest_five_public_avg=%{x}<extra></extra>",
         "legendgroup": "60.200668896",
         "marker": {
          "color": "#FF6692",
          "symbol": "circle"
         },
         "mode": "markers",
         "name": "60.200668896",
         "orientation": "h",
         "showlegend": true,
         "type": "scatter",
         "x": [
          32.232406637066575
         ],
         "xaxis": "x",
         "y": [
          "60.200668896"
         ],
         "yaxis": "y"
        },
        {
         "hovertemplate": "PERCENT_3_OR_ABOVE=60.200668896<extra></extra>",
         "legendgroup": "60.200668896",
         "line": {
          "color": "darkblue"
         },
         "marker": {
          "color": "#FF6692",
          "symbol": "circle"
         },
         "mode": "lines",
         "name": "60.200668896",
         "showlegend": false,
         "type": "scatter",
         "xaxis": "x",
         "yaxis": "y"
        },
        {
         "hovertemplate": "PERCENT_3_OR_ABOVE=%{y}<br>closest_five_public_avg=%{x}<extra></extra>",
         "legendgroup": "33.766233766",
         "marker": {
          "color": "#B6E880",
          "symbol": "circle"
         },
         "mode": "markers",
         "name": "33.766233766",
         "orientation": "h",
         "showlegend": true,
         "type": "scatter",
         "x": [
          39.10342315593739
         ],
         "xaxis": "x",
         "y": [
          "33.766233766"
         ],
         "yaxis": "y"
        },
        {
         "hovertemplate": "PERCENT_3_OR_ABOVE=33.766233766<extra></extra>",
         "legendgroup": "33.766233766",
         "line": {
          "color": "darkblue"
         },
         "marker": {
          "color": "#B6E880",
          "symbol": "circle"
         },
         "mode": "lines",
         "name": "33.766233766",
         "showlegend": false,
         "type": "scatter",
         "xaxis": "x",
         "yaxis": "y"
        },
        {
         "hovertemplate": "PERCENT_3_OR_ABOVE=%{y}<br>closest_five_public_avg=%{x}<extra></extra>",
         "legendgroup": "57.073954984",
         "marker": {
          "color": "#FF97FF",
          "symbol": "circle"
         },
         "mode": "markers",
         "name": "57.073954984",
         "orientation": "h",
         "showlegend": true,
         "type": "scatter",
         "x": [
          22.31285361312909
         ],
         "xaxis": "x",
         "y": [
          "57.073954984"
         ],
         "yaxis": "y"
        },
        {
         "hovertemplate": "PERCENT_3_OR_ABOVE=57.073954984<extra></extra>",
         "legendgroup": "57.073954984",
         "line": {
          "color": "darkblue"
         },
         "marker": {
          "color": "#FF97FF",
          "symbol": "circle"
         },
         "mode": "lines",
         "name": "57.073954984",
         "showlegend": false,
         "type": "scatter",
         "xaxis": "x",
         "yaxis": "y"
        },
        {
         "hovertemplate": "PERCENT_3_OR_ABOVE=%{y}<br>closest_five_public_avg=%{x}<extra></extra>",
         "legendgroup": "31.182795699",
         "marker": {
          "color": "#FECB52",
          "symbol": "circle"
         },
         "mode": "markers",
         "name": "31.182795699",
         "orientation": "h",
         "showlegend": true,
         "type": "scatter",
         "x": [
          30.003139685579573
         ],
         "xaxis": "x",
         "y": [
          "31.182795699"
         ],
         "yaxis": "y"
        },
        {
         "hovertemplate": "PERCENT_3_OR_ABOVE=31.182795699<extra></extra>",
         "legendgroup": "31.182795699",
         "line": {
          "color": "darkblue"
         },
         "marker": {
          "color": "#FECB52",
          "symbol": "circle"
         },
         "mode": "lines",
         "name": "31.182795699",
         "showlegend": false,
         "type": "scatter",
         "xaxis": "x",
         "yaxis": "y"
        },
        {
         "hovertemplate": "PERCENT_3_OR_ABOVE=%{y}<br>closest_five_public_avg=%{x}<extra></extra>",
         "legendgroup": "70.880587058",
         "marker": {
          "color": "#636efa",
          "symbol": "circle"
         },
         "mode": "markers",
         "name": "70.880587058",
         "orientation": "h",
         "showlegend": true,
         "type": "scatter",
         "x": [
          16.492896903823503
         ],
         "xaxis": "x",
         "y": [
          "70.880587058"
         ],
         "yaxis": "y"
        },
        {
         "hovertemplate": "PERCENT_3_OR_ABOVE=70.880587058<extra></extra>",
         "legendgroup": "70.880587058",
         "line": {
          "color": "darkblue"
         },
         "marker": {
          "color": "#636efa",
          "symbol": "circle"
         },
         "mode": "lines",
         "name": "70.880587058",
         "showlegend": false,
         "type": "scatter",
         "xaxis": "x",
         "yaxis": "y"
        },
        {
         "hovertemplate": "PERCENT_3_OR_ABOVE=%{y}<br>closest_five_public_avg=%{x}<extra></extra>",
         "legendgroup": "47.535211268",
         "marker": {
          "color": "#EF553B",
          "symbol": "circle"
         },
         "mode": "markers",
         "name": "47.535211268",
         "orientation": "h",
         "showlegend": true,
         "type": "scatter",
         "x": [
          45.08431848781823
         ],
         "xaxis": "x",
         "y": [
          "47.535211268"
         ],
         "yaxis": "y"
        },
        {
         "hovertemplate": "PERCENT_3_OR_ABOVE=47.535211268<extra></extra>",
         "legendgroup": "47.535211268",
         "line": {
          "color": "darkblue"
         },
         "marker": {
          "color": "#EF553B",
          "symbol": "circle"
         },
         "mode": "lines",
         "name": "47.535211268",
         "showlegend": false,
         "type": "scatter",
         "xaxis": "x",
         "yaxis": "y"
        },
        {
         "hovertemplate": "PERCENT_3_OR_ABOVE=%{y}<br>closest_five_public_avg=%{x}<extra></extra>",
         "legendgroup": "44.751381215",
         "marker": {
          "color": "#00cc96",
          "symbol": "circle"
         },
         "mode": "markers",
         "name": "44.751381215",
         "orientation": "h",
         "showlegend": true,
         "type": "scatter",
         "x": [
          26.08446848111638
         ],
         "xaxis": "x",
         "y": [
          "44.751381215"
         ],
         "yaxis": "y"
        },
        {
         "hovertemplate": "PERCENT_3_OR_ABOVE=44.751381215<extra></extra>",
         "legendgroup": "44.751381215",
         "line": {
          "color": "darkblue"
         },
         "marker": {
          "color": "#00cc96",
          "symbol": "circle"
         },
         "mode": "lines",
         "name": "44.751381215",
         "showlegend": false,
         "type": "scatter",
         "xaxis": "x",
         "yaxis": "y"
        },
        {
         "hovertemplate": "PERCENT_3_OR_ABOVE=%{y}<br>closest_five_public_avg=%{x}<extra></extra>",
         "legendgroup": "47.368421053",
         "marker": {
          "color": "#ab63fa",
          "symbol": "circle"
         },
         "mode": "markers",
         "name": "47.368421053",
         "orientation": "h",
         "showlegend": true,
         "type": "scatter",
         "x": [
          54.90530060945978
         ],
         "xaxis": "x",
         "y": [
          "47.368421053"
         ],
         "yaxis": "y"
        },
        {
         "hovertemplate": "PERCENT_3_OR_ABOVE=47.368421053<extra></extra>",
         "legendgroup": "47.368421053",
         "line": {
          "color": "darkblue"
         },
         "marker": {
          "color": "#ab63fa",
          "symbol": "circle"
         },
         "mode": "lines",
         "name": "47.368421053",
         "showlegend": false,
         "type": "scatter",
         "xaxis": "x",
         "yaxis": "y"
        },
        {
         "hovertemplate": "PERCENT_3_OR_ABOVE=%{y}<br>closest_five_public_avg=%{x}<extra></extra>",
         "legendgroup": "24.503311258",
         "marker": {
          "color": "#FFA15A",
          "symbol": "circle"
         },
         "mode": "markers",
         "name": "24.503311258",
         "orientation": "h",
         "showlegend": true,
         "type": "scatter",
         "x": [
          37.82112528029633
         ],
         "xaxis": "x",
         "y": [
          "24.503311258"
         ],
         "yaxis": "y"
        },
        {
         "hovertemplate": "PERCENT_3_OR_ABOVE=24.503311258<extra></extra>",
         "legendgroup": "24.503311258",
         "line": {
          "color": "darkblue"
         },
         "marker": {
          "color": "#FFA15A",
          "symbol": "circle"
         },
         "mode": "lines",
         "name": "24.503311258",
         "showlegend": false,
         "type": "scatter",
         "xaxis": "x",
         "yaxis": "y"
        },
        {
         "hovertemplate": "PERCENT_3_OR_ABOVE=%{y}<br>closest_five_public_avg=%{x}<extra></extra>",
         "legendgroup": "29.268292683",
         "marker": {
          "color": "#19d3f3",
          "symbol": "circle"
         },
         "mode": "markers",
         "name": "29.268292683",
         "orientation": "h",
         "showlegend": true,
         "type": "scatter",
         "x": [
          29.16692482141461
         ],
         "xaxis": "x",
         "y": [
          "29.268292683"
         ],
         "yaxis": "y"
        },
        {
         "hovertemplate": "PERCENT_3_OR_ABOVE=29.268292683<extra></extra>",
         "legendgroup": "29.268292683",
         "line": {
          "color": "darkblue"
         },
         "marker": {
          "color": "#19d3f3",
          "symbol": "circle"
         },
         "mode": "lines",
         "name": "29.268292683",
         "showlegend": false,
         "type": "scatter",
         "xaxis": "x",
         "yaxis": "y"
        },
        {
         "hovertemplate": "PERCENT_3_OR_ABOVE=%{y}<br>closest_five_public_avg=%{x}<extra></extra>",
         "legendgroup": "58.148274684",
         "marker": {
          "color": "#FF6692",
          "symbol": "circle"
         },
         "mode": "markers",
         "name": "58.148274684",
         "orientation": "h",
         "showlegend": true,
         "type": "scatter",
         "x": [
          18.36517380869709
         ],
         "xaxis": "x",
         "y": [
          "58.148274684"
         ],
         "yaxis": "y"
        },
        {
         "hovertemplate": "PERCENT_3_OR_ABOVE=58.148274684<extra></extra>",
         "legendgroup": "58.148274684",
         "line": {
          "color": "darkblue"
         },
         "marker": {
          "color": "#FF6692",
          "symbol": "circle"
         },
         "mode": "lines",
         "name": "58.148274684",
         "showlegend": false,
         "type": "scatter",
         "xaxis": "x",
         "yaxis": "y"
        },
        {
         "hovertemplate": "PERCENT_3_OR_ABOVE=%{y}<br>closest_five_public_avg=%{x}<extra></extra>",
         "legendgroup": "43.561643836",
         "marker": {
          "color": "#B6E880",
          "symbol": "circle"
         },
         "mode": "markers",
         "name": "43.561643836",
         "orientation": "h",
         "showlegend": true,
         "type": "scatter",
         "x": [
          35.63186195560734
         ],
         "xaxis": "x",
         "y": [
          "43.561643836"
         ],
         "yaxis": "y"
        },
        {
         "hovertemplate": "PERCENT_3_OR_ABOVE=43.561643836<extra></extra>",
         "legendgroup": "43.561643836",
         "line": {
          "color": "darkblue"
         },
         "marker": {
          "color": "#B6E880",
          "symbol": "circle"
         },
         "mode": "lines",
         "name": "43.561643836",
         "showlegend": false,
         "type": "scatter",
         "xaxis": "x",
         "yaxis": "y"
        },
        {
         "hovertemplate": "PERCENT_3_OR_ABOVE=%{y}<br>closest_five_public_avg=%{x}<extra></extra>",
         "legendgroup": "44.171779141",
         "marker": {
          "color": "#FF97FF",
          "symbol": "circle"
         },
         "mode": "markers",
         "name": "44.171779141",
         "orientation": "h",
         "showlegend": true,
         "type": "scatter",
         "x": [
          35.12452384318273
         ],
         "xaxis": "x",
         "y": [
          "44.171779141"
         ],
         "yaxis": "y"
        },
        {
         "hovertemplate": "PERCENT_3_OR_ABOVE=44.171779141<extra></extra>",
         "legendgroup": "44.171779141",
         "line": {
          "color": "darkblue"
         },
         "marker": {
          "color": "#FF97FF",
          "symbol": "circle"
         },
         "mode": "lines",
         "name": "44.171779141",
         "showlegend": false,
         "type": "scatter",
         "xaxis": "x",
         "yaxis": "y"
        },
        {
         "hovertemplate": "PERCENT_3_OR_ABOVE=%{y}<br>closest_five_public_avg=%{x}<extra></extra>",
         "legendgroup": "66.371681416",
         "marker": {
          "color": "#FECB52",
          "symbol": "circle"
         },
         "mode": "markers",
         "name": "66.371681416",
         "orientation": "h",
         "showlegend": true,
         "type": "scatter",
         "x": [
          23.01038041983612
         ],
         "xaxis": "x",
         "y": [
          "66.371681416"
         ],
         "yaxis": "y"
        },
        {
         "hovertemplate": "PERCENT_3_OR_ABOVE=66.371681416<extra></extra>",
         "legendgroup": "66.371681416",
         "line": {
          "color": "darkblue"
         },
         "marker": {
          "color": "#FECB52",
          "symbol": "circle"
         },
         "mode": "lines",
         "name": "66.371681416",
         "showlegend": false,
         "type": "scatter",
         "xaxis": "x",
         "yaxis": "y"
        },
        {
         "hovertemplate": "PERCENT_3_OR_ABOVE=%{y}<br>closest_five_public_avg=%{x}<extra></extra>",
         "legendgroup": "37.435897436",
         "marker": {
          "color": "#636efa",
          "symbol": "circle"
         },
         "mode": "markers",
         "name": "37.435897436",
         "orientation": "h",
         "showlegend": true,
         "type": "scatter",
         "x": [
          33.63598770975209
         ],
         "xaxis": "x",
         "y": [
          "37.435897436"
         ],
         "yaxis": "y"
        },
        {
         "hovertemplate": "PERCENT_3_OR_ABOVE=37.435897436<extra></extra>",
         "legendgroup": "37.435897436",
         "line": {
          "color": "darkblue"
         },
         "marker": {
          "color": "#636efa",
          "symbol": "circle"
         },
         "mode": "lines",
         "name": "37.435897436",
         "showlegend": false,
         "type": "scatter",
         "xaxis": "x",
         "yaxis": "y"
        },
        {
         "hovertemplate": "PERCENT_3_OR_ABOVE=%{y}<br>closest_five_public_avg=%{x}<extra></extra>",
         "legendgroup": "65.517241379",
         "marker": {
          "color": "#EF553B",
          "symbol": "circle"
         },
         "mode": "markers",
         "name": "65.517241379",
         "orientation": "h",
         "showlegend": true,
         "type": "scatter",
         "x": [
          38.65793850303094
         ],
         "xaxis": "x",
         "y": [
          "65.517241379"
         ],
         "yaxis": "y"
        },
        {
         "hovertemplate": "PERCENT_3_OR_ABOVE=65.517241379<extra></extra>",
         "legendgroup": "65.517241379",
         "line": {
          "color": "darkblue"
         },
         "marker": {
          "color": "#EF553B",
          "symbol": "circle"
         },
         "mode": "lines",
         "name": "65.517241379",
         "showlegend": false,
         "type": "scatter",
         "xaxis": "x",
         "yaxis": "y"
        },
        {
         "hovertemplate": "PERCENT_3_OR_ABOVE=%{y}<br>closest_five_public_avg=%{x}<extra></extra>",
         "legendgroup": "55.628415301",
         "marker": {
          "color": "#00cc96",
          "symbol": "circle"
         },
         "mode": "markers",
         "name": "55.628415301",
         "orientation": "h",
         "showlegend": true,
         "type": "scatter",
         "x": [
          33.55450405609228
         ],
         "xaxis": "x",
         "y": [
          "55.628415301"
         ],
         "yaxis": "y"
        },
        {
         "hovertemplate": "PERCENT_3_OR_ABOVE=55.628415301<extra></extra>",
         "legendgroup": "55.628415301",
         "line": {
          "color": "darkblue"
         },
         "marker": {
          "color": "#00cc96",
          "symbol": "circle"
         },
         "mode": "lines",
         "name": "55.628415301",
         "showlegend": false,
         "type": "scatter",
         "xaxis": "x",
         "yaxis": "y"
        },
        {
         "hovertemplate": "PERCENT_3_OR_ABOVE=%{y}<br>closest_five_public_avg=%{x}<extra></extra>",
         "legendgroup": "53.459119497",
         "marker": {
          "color": "#ab63fa",
          "symbol": "circle"
         },
         "mode": "markers",
         "name": "53.459119497",
         "orientation": "h",
         "showlegend": true,
         "type": "scatter",
         "x": [
          36.81886657939627
         ],
         "xaxis": "x",
         "y": [
          "53.459119497"
         ],
         "yaxis": "y"
        },
        {
         "hovertemplate": "PERCENT_3_OR_ABOVE=53.459119497<extra></extra>",
         "legendgroup": "53.459119497",
         "line": {
          "color": "darkblue"
         },
         "marker": {
          "color": "#ab63fa",
          "symbol": "circle"
         },
         "mode": "lines",
         "name": "53.459119497",
         "showlegend": false,
         "type": "scatter",
         "xaxis": "x",
         "yaxis": "y"
        },
        {
         "hovertemplate": "PERCENT_3_OR_ABOVE=%{y}<br>closest_five_public_avg=%{x}<extra></extra>",
         "legendgroup": "28.421052632",
         "marker": {
          "color": "#FFA15A",
          "symbol": "circle"
         },
         "mode": "markers",
         "name": "28.421052632",
         "orientation": "h",
         "showlegend": true,
         "type": "scatter",
         "x": [
          34.49638072834065
         ],
         "xaxis": "x",
         "y": [
          "28.421052632"
         ],
         "yaxis": "y"
        },
        {
         "hovertemplate": "PERCENT_3_OR_ABOVE=28.421052632<extra></extra>",
         "legendgroup": "28.421052632",
         "line": {
          "color": "darkblue"
         },
         "marker": {
          "color": "#FFA15A",
          "symbol": "circle"
         },
         "mode": "lines",
         "name": "28.421052632",
         "showlegend": false,
         "type": "scatter",
         "xaxis": "x",
         "yaxis": "y"
        },
        {
         "hovertemplate": "PERCENT_3_OR_ABOVE=%{y}<br>closest_five_public_avg=%{x}<extra></extra>",
         "legendgroup": "50.54200542",
         "marker": {
          "color": "#19d3f3",
          "symbol": "circle"
         },
         "mode": "markers",
         "name": "50.54200542",
         "orientation": "h",
         "showlegend": true,
         "type": "scatter",
         "x": [
          33.0368606239668
         ],
         "xaxis": "x",
         "y": [
          "50.54200542"
         ],
         "yaxis": "y"
        },
        {
         "hovertemplate": "PERCENT_3_OR_ABOVE=50.54200542<extra></extra>",
         "legendgroup": "50.54200542",
         "line": {
          "color": "darkblue"
         },
         "marker": {
          "color": "#19d3f3",
          "symbol": "circle"
         },
         "mode": "lines",
         "name": "50.54200542",
         "showlegend": false,
         "type": "scatter",
         "xaxis": "x",
         "yaxis": "y"
        },
        {
         "hovertemplate": "PERCENT_3_OR_ABOVE=%{y}<br>closest_five_public_avg=%{x}<extra></extra>",
         "legendgroup": "52.380952381",
         "marker": {
          "color": "#FF6692",
          "symbol": "circle"
         },
         "mode": "markers",
         "name": "52.380952381",
         "orientation": "h",
         "showlegend": true,
         "type": "scatter",
         "x": [
          39.74179462622002
         ],
         "xaxis": "x",
         "y": [
          "52.380952381"
         ],
         "yaxis": "y"
        },
        {
         "hovertemplate": "PERCENT_3_OR_ABOVE=52.380952381<extra></extra>",
         "legendgroup": "52.380952381",
         "line": {
          "color": "darkblue"
         },
         "marker": {
          "color": "#FF6692",
          "symbol": "circle"
         },
         "mode": "lines",
         "name": "52.380952381",
         "showlegend": false,
         "type": "scatter",
         "xaxis": "x",
         "yaxis": "y"
        },
        {
         "hovertemplate": "PERCENT_3_OR_ABOVE=%{y}<br>closest_five_public_avg=%{x}<extra></extra>",
         "legendgroup": "27.272727273",
         "marker": {
          "color": "#B6E880",
          "symbol": "circle"
         },
         "mode": "markers",
         "name": "27.272727273",
         "orientation": "h",
         "showlegend": true,
         "type": "scatter",
         "x": [
          45.91500786703597
         ],
         "xaxis": "x",
         "y": [
          "27.272727273"
         ],
         "yaxis": "y"
        },
        {
         "hovertemplate": "PERCENT_3_OR_ABOVE=27.272727273<extra></extra>",
         "legendgroup": "27.272727273",
         "line": {
          "color": "darkblue"
         },
         "marker": {
          "color": "#B6E880",
          "symbol": "circle"
         },
         "mode": "lines",
         "name": "27.272727273",
         "showlegend": false,
         "type": "scatter",
         "xaxis": "x",
         "yaxis": "y"
        },
        {
         "hovertemplate": "PERCENT_3_OR_ABOVE=%{y}<br>closest_five_public_avg=%{x}<extra></extra>",
         "legendgroup": "43.835616438",
         "marker": {
          "color": "#FF97FF",
          "symbol": "circle"
         },
         "mode": "markers",
         "name": "43.835616438",
         "orientation": "h",
         "showlegend": true,
         "type": "scatter",
         "x": [
          0
         ],
         "xaxis": "x",
         "y": [
          "43.835616438"
         ],
         "yaxis": "y"
        },
        {
         "hovertemplate": "PERCENT_3_OR_ABOVE=43.835616438<extra></extra>",
         "legendgroup": "43.835616438",
         "line": {
          "color": "darkblue"
         },
         "marker": {
          "color": "#FF97FF",
          "symbol": "circle"
         },
         "mode": "lines",
         "name": "43.835616438",
         "showlegend": false,
         "type": "scatter",
         "xaxis": "x",
         "yaxis": "y"
        },
        {
         "hovertemplate": "PERCENT_3_OR_ABOVE=%{y}<br>closest_five_public_avg=%{x}<extra></extra>",
         "legendgroup": "63.566535188",
         "marker": {
          "color": "#FECB52",
          "symbol": "circle"
         },
         "mode": "markers",
         "name": "63.566535188",
         "orientation": "h",
         "showlegend": true,
         "type": "scatter",
         "x": [
          19.39988030137827
         ],
         "xaxis": "x",
         "y": [
          "63.566535188"
         ],
         "yaxis": "y"
        },
        {
         "hovertemplate": "PERCENT_3_OR_ABOVE=63.566535188<extra></extra>",
         "legendgroup": "63.566535188",
         "line": {
          "color": "darkblue"
         },
         "marker": {
          "color": "#FECB52",
          "symbol": "circle"
         },
         "mode": "lines",
         "name": "63.566535188",
         "showlegend": false,
         "type": "scatter",
         "xaxis": "x",
         "yaxis": "y"
        },
        {
         "hovertemplate": "PERCENT_3_OR_ABOVE=%{y}<br>closest_five_public_avg=%{x}<extra></extra>",
         "legendgroup": "47.826086957",
         "marker": {
          "color": "#636efa",
          "symbol": "circle"
         },
         "mode": "markers",
         "name": "47.826086957",
         "orientation": "h",
         "showlegend": true,
         "type": "scatter",
         "x": [
          39.77903102320771
         ],
         "xaxis": "x",
         "y": [
          "47.826086957"
         ],
         "yaxis": "y"
        },
        {
         "hovertemplate": "PERCENT_3_OR_ABOVE=47.826086957<extra></extra>",
         "legendgroup": "47.826086957",
         "line": {
          "color": "darkblue"
         },
         "marker": {
          "color": "#636efa",
          "symbol": "circle"
         },
         "mode": "lines",
         "name": "47.826086957",
         "showlegend": false,
         "type": "scatter",
         "xaxis": "x",
         "yaxis": "y"
        },
        {
         "hovertemplate": "PERCENT_3_OR_ABOVE=%{y}<br>closest_five_public_avg=%{x}<extra></extra>",
         "legendgroup": "69.714285714",
         "marker": {
          "color": "#EF553B",
          "symbol": "circle"
         },
         "mode": "markers",
         "name": "69.714285714",
         "orientation": "h",
         "showlegend": true,
         "type": "scatter",
         "x": [
          36.80345630757072
         ],
         "xaxis": "x",
         "y": [
          "69.714285714"
         ],
         "yaxis": "y"
        },
        {
         "hovertemplate": "PERCENT_3_OR_ABOVE=69.714285714<extra></extra>",
         "legendgroup": "69.714285714",
         "line": {
          "color": "darkblue"
         },
         "marker": {
          "color": "#EF553B",
          "symbol": "circle"
         },
         "mode": "lines",
         "name": "69.714285714",
         "showlegend": false,
         "type": "scatter",
         "xaxis": "x",
         "yaxis": "y"
        },
        {
         "hovertemplate": "PERCENT_3_OR_ABOVE=%{y}<br>closest_five_public_avg=%{x}<extra></extra>",
         "legendgroup": "65.967365967",
         "marker": {
          "color": "#00cc96",
          "symbol": "circle"
         },
         "mode": "markers",
         "name": "65.967365967",
         "orientation": "h",
         "showlegend": true,
         "type": "scatter",
         "x": [
          40.24518950296372
         ],
         "xaxis": "x",
         "y": [
          "65.967365967"
         ],
         "yaxis": "y"
        },
        {
         "hovertemplate": "PERCENT_3_OR_ABOVE=65.967365967<extra></extra>",
         "legendgroup": "65.967365967",
         "line": {
          "color": "darkblue"
         },
         "marker": {
          "color": "#00cc96",
          "symbol": "circle"
         },
         "mode": "lines",
         "name": "65.967365967",
         "showlegend": false,
         "type": "scatter",
         "xaxis": "x",
         "yaxis": "y"
        },
        {
         "hovertemplate": "PERCENT_3_OR_ABOVE=%{y}<br>closest_five_public_avg=%{x}<extra></extra>",
         "legendgroup": "40.822467402",
         "marker": {
          "color": "#ab63fa",
          "symbol": "circle"
         },
         "mode": "markers",
         "name": "40.822467402",
         "orientation": "h",
         "showlegend": true,
         "type": "scatter",
         "x": [
          46.46017788412614
         ],
         "xaxis": "x",
         "y": [
          "40.822467402"
         ],
         "yaxis": "y"
        },
        {
         "hovertemplate": "PERCENT_3_OR_ABOVE=40.822467402<extra></extra>",
         "legendgroup": "40.822467402",
         "line": {
          "color": "darkblue"
         },
         "marker": {
          "color": "#ab63fa",
          "symbol": "circle"
         },
         "mode": "lines",
         "name": "40.822467402",
         "showlegend": false,
         "type": "scatter",
         "xaxis": "x",
         "yaxis": "y"
        },
        {
         "hovertemplate": "PERCENT_3_OR_ABOVE=%{y}<br>closest_five_public_avg=%{x}<extra></extra>",
         "legendgroup": "70.983213429",
         "marker": {
          "color": "#FFA15A",
          "symbol": "circle"
         },
         "mode": "markers",
         "name": "70.983213429",
         "orientation": "h",
         "showlegend": true,
         "type": "scatter",
         "x": [
          25.7453511024097
         ],
         "xaxis": "x",
         "y": [
          "70.983213429"
         ],
         "yaxis": "y"
        },
        {
         "hovertemplate": "PERCENT_3_OR_ABOVE=70.983213429<extra></extra>",
         "legendgroup": "70.983213429",
         "line": {
          "color": "darkblue"
         },
         "marker": {
          "color": "#FFA15A",
          "symbol": "circle"
         },
         "mode": "lines",
         "name": "70.983213429",
         "showlegend": false,
         "type": "scatter",
         "xaxis": "x",
         "yaxis": "y"
        },
        {
         "hovertemplate": "PERCENT_3_OR_ABOVE=%{y}<br>closest_five_public_avg=%{x}<extra></extra>",
         "legendgroup": "19.047619048",
         "marker": {
          "color": "#19d3f3",
          "symbol": "circle"
         },
         "mode": "markers",
         "name": "19.047619048",
         "orientation": "h",
         "showlegend": true,
         "type": "scatter",
         "x": [
          42.26669566810224
         ],
         "xaxis": "x",
         "y": [
          "19.047619048"
         ],
         "yaxis": "y"
        },
        {
         "hovertemplate": "PERCENT_3_OR_ABOVE=19.047619048<extra></extra>",
         "legendgroup": "19.047619048",
         "line": {
          "color": "darkblue"
         },
         "marker": {
          "color": "#19d3f3",
          "symbol": "circle"
         },
         "mode": "lines",
         "name": "19.047619048",
         "showlegend": false,
         "type": "scatter",
         "xaxis": "x",
         "yaxis": "y"
        },
        {
         "hovertemplate": "PERCENT_3_OR_ABOVE=%{y}<br>closest_five_public_avg=%{x}<extra></extra>",
         "legendgroup": "64.401294498",
         "marker": {
          "color": "#FF6692",
          "symbol": "circle"
         },
         "mode": "markers",
         "name": "64.401294498",
         "orientation": "h",
         "showlegend": true,
         "type": "scatter",
         "x": [
          45.883640886125015
         ],
         "xaxis": "x",
         "y": [
          "64.401294498"
         ],
         "yaxis": "y"
        },
        {
         "hovertemplate": "PERCENT_3_OR_ABOVE=64.401294498<extra></extra>",
         "legendgroup": "64.401294498",
         "line": {
          "color": "darkblue"
         },
         "marker": {
          "color": "#FF6692",
          "symbol": "circle"
         },
         "mode": "lines",
         "name": "64.401294498",
         "showlegend": false,
         "type": "scatter",
         "xaxis": "x",
         "yaxis": "y"
        },
        {
         "hovertemplate": "PERCENT_3_OR_ABOVE=%{y}<br>closest_five_public_avg=%{x}<extra></extra>",
         "legendgroup": "66.666666667",
         "marker": {
          "color": "#B6E880",
          "symbol": "circle"
         },
         "mode": "markers",
         "name": "66.666666667",
         "orientation": "h",
         "showlegend": true,
         "type": "scatter",
         "x": [
          48.01213358556199
         ],
         "xaxis": "x",
         "y": [
          "66.666666667"
         ],
         "yaxis": "y"
        },
        {
         "hovertemplate": "PERCENT_3_OR_ABOVE=66.666666667<extra></extra>",
         "legendgroup": "66.666666667",
         "line": {
          "color": "darkblue"
         },
         "marker": {
          "color": "#B6E880",
          "symbol": "circle"
         },
         "mode": "lines",
         "name": "66.666666667",
         "showlegend": false,
         "type": "scatter",
         "xaxis": "x",
         "yaxis": "y"
        },
        {
         "hovertemplate": "PERCENT_3_OR_ABOVE=%{y}<br>closest_five_public_avg=%{x}<extra></extra>",
         "legendgroup": "43.689320388",
         "marker": {
          "color": "#FF97FF",
          "symbol": "circle"
         },
         "mode": "markers",
         "name": "43.689320388",
         "orientation": "h",
         "showlegend": true,
         "type": "scatter",
         "x": [
          37.118503754736
         ],
         "xaxis": "x",
         "y": [
          "43.689320388"
         ],
         "yaxis": "y"
        },
        {
         "hovertemplate": "PERCENT_3_OR_ABOVE=43.689320388<extra></extra>",
         "legendgroup": "43.689320388",
         "line": {
          "color": "darkblue"
         },
         "marker": {
          "color": "#FF97FF",
          "symbol": "circle"
         },
         "mode": "lines",
         "name": "43.689320388",
         "showlegend": false,
         "type": "scatter",
         "xaxis": "x",
         "yaxis": "y"
        },
        {
         "hovertemplate": "PERCENT_3_OR_ABOVE=%{y}<br>closest_five_public_avg=%{x}<extra></extra>",
         "legendgroup": "52.443384982",
         "marker": {
          "color": "#FECB52",
          "symbol": "circle"
         },
         "mode": "markers",
         "name": "52.443384982",
         "orientation": "h",
         "showlegend": true,
         "type": "scatter",
         "x": [
          23.687410891834038
         ],
         "xaxis": "x",
         "y": [
          "52.443384982"
         ],
         "yaxis": "y"
        },
        {
         "hovertemplate": "PERCENT_3_OR_ABOVE=52.443384982<extra></extra>",
         "legendgroup": "52.443384982",
         "line": {
          "color": "darkblue"
         },
         "marker": {
          "color": "#FECB52",
          "symbol": "circle"
         },
         "mode": "lines",
         "name": "52.443384982",
         "showlegend": false,
         "type": "scatter",
         "xaxis": "x",
         "yaxis": "y"
        },
        {
         "hovertemplate": "PERCENT_3_OR_ABOVE=%{y}<br>closest_five_public_avg=%{x}<extra></extra>",
         "legendgroup": "70",
         "marker": {
          "color": "#636efa",
          "symbol": "circle"
         },
         "mode": "markers",
         "name": "70",
         "orientation": "h",
         "showlegend": true,
         "type": "scatter",
         "x": [
          28.720862057174863
         ],
         "xaxis": "x",
         "y": [
          "70"
         ],
         "yaxis": "y"
        },
        {
         "hovertemplate": "PERCENT_3_OR_ABOVE=70<extra></extra>",
         "legendgroup": "70",
         "line": {
          "color": "darkblue"
         },
         "marker": {
          "color": "#636efa",
          "symbol": "circle"
         },
         "mode": "lines",
         "name": "70",
         "showlegend": false,
         "type": "scatter",
         "xaxis": "x",
         "yaxis": "y"
        },
        {
         "hovertemplate": "PERCENT_3_OR_ABOVE=%{y}<br>closest_five_public_avg=%{x}<extra></extra>",
         "legendgroup": "45.862884161",
         "marker": {
          "color": "#EF553B",
          "symbol": "circle"
         },
         "mode": "markers",
         "name": "45.862884161",
         "orientation": "h",
         "showlegend": true,
         "type": "scatter",
         "x": [
          30.92840018394416
         ],
         "xaxis": "x",
         "y": [
          "45.862884161"
         ],
         "yaxis": "y"
        },
        {
         "hovertemplate": "PERCENT_3_OR_ABOVE=45.862884161<extra></extra>",
         "legendgroup": "45.862884161",
         "line": {
          "color": "darkblue"
         },
         "marker": {
          "color": "#EF553B",
          "symbol": "circle"
         },
         "mode": "lines",
         "name": "45.862884161",
         "showlegend": false,
         "type": "scatter",
         "xaxis": "x",
         "yaxis": "y"
        },
        {
         "hovertemplate": "PERCENT_3_OR_ABOVE=%{y}<br>closest_five_public_avg=%{x}<extra></extra>",
         "legendgroup": "26.490066225",
         "marker": {
          "color": "#00cc96",
          "symbol": "circle"
         },
         "mode": "markers",
         "name": "26.490066225",
         "orientation": "h",
         "showlegend": true,
         "type": "scatter",
         "x": [
          34.61778887360801
         ],
         "xaxis": "x",
         "y": [
          "26.490066225"
         ],
         "yaxis": "y"
        },
        {
         "hovertemplate": "PERCENT_3_OR_ABOVE=26.490066225<extra></extra>",
         "legendgroup": "26.490066225",
         "line": {
          "color": "darkblue"
         },
         "marker": {
          "color": "#00cc96",
          "symbol": "circle"
         },
         "mode": "lines",
         "name": "26.490066225",
         "showlegend": false,
         "type": "scatter",
         "xaxis": "x",
         "yaxis": "y"
        },
        {
         "hovertemplate": "PERCENT_3_OR_ABOVE=%{y}<br>closest_five_public_avg=%{x}<extra></extra>",
         "legendgroup": "23.722627737",
         "marker": {
          "color": "#ab63fa",
          "symbol": "circle"
         },
         "mode": "markers",
         "name": "23.722627737",
         "orientation": "h",
         "showlegend": true,
         "type": "scatter",
         "x": [
          29.93289856845642
         ],
         "xaxis": "x",
         "y": [
          "23.722627737"
         ],
         "yaxis": "y"
        },
        {
         "hovertemplate": "PERCENT_3_OR_ABOVE=23.722627737<extra></extra>",
         "legendgroup": "23.722627737",
         "line": {
          "color": "darkblue"
         },
         "marker": {
          "color": "#ab63fa",
          "symbol": "circle"
         },
         "mode": "lines",
         "name": "23.722627737",
         "showlegend": false,
         "type": "scatter",
         "xaxis": "x",
         "yaxis": "y"
        },
        {
         "hovertemplate": "PERCENT_3_OR_ABOVE=%{y}<br>closest_five_public_avg=%{x}<extra></extra>",
         "legendgroup": "39.051094891",
         "marker": {
          "color": "#FFA15A",
          "symbol": "circle"
         },
         "mode": "markers",
         "name": "39.051094891",
         "orientation": "h",
         "showlegend": true,
         "type": "scatter",
         "x": [
          30.178612873139663
         ],
         "xaxis": "x",
         "y": [
          "39.051094891"
         ],
         "yaxis": "y"
        },
        {
         "hovertemplate": "PERCENT_3_OR_ABOVE=39.051094891<extra></extra>",
         "legendgroup": "39.051094891",
         "line": {
          "color": "darkblue"
         },
         "marker": {
          "color": "#FFA15A",
          "symbol": "circle"
         },
         "mode": "lines",
         "name": "39.051094891",
         "showlegend": false,
         "type": "scatter",
         "xaxis": "x",
         "yaxis": "y"
        },
        {
         "hovertemplate": "PERCENT_3_OR_ABOVE=%{y}<br>closest_five_public_avg=%{x}<extra></extra>",
         "legendgroup": "49.101796407",
         "marker": {
          "color": "#19d3f3",
          "symbol": "circle"
         },
         "mode": "markers",
         "name": "49.101796407",
         "orientation": "h",
         "showlegend": true,
         "type": "scatter",
         "x": [
          32.57364310642525
         ],
         "xaxis": "x",
         "y": [
          "49.101796407"
         ],
         "yaxis": "y"
        },
        {
         "hovertemplate": "PERCENT_3_OR_ABOVE=49.101796407<extra></extra>",
         "legendgroup": "49.101796407",
         "line": {
          "color": "darkblue"
         },
         "marker": {
          "color": "#19d3f3",
          "symbol": "circle"
         },
         "mode": "lines",
         "name": "49.101796407",
         "showlegend": false,
         "type": "scatter",
         "xaxis": "x",
         "yaxis": "y"
        },
        {
         "hovertemplate": "PERCENT_3_OR_ABOVE=%{y}<br>closest_five_public_avg=%{x}<extra></extra>",
         "legendgroup": "39.240506329",
         "marker": {
          "color": "#FF6692",
          "symbol": "circle"
         },
         "mode": "markers",
         "name": "39.240506329",
         "orientation": "h",
         "showlegend": true,
         "type": "scatter",
         "x": [
          37.55259722742404
         ],
         "xaxis": "x",
         "y": [
          "39.240506329"
         ],
         "yaxis": "y"
        },
        {
         "hovertemplate": "PERCENT_3_OR_ABOVE=39.240506329<extra></extra>",
         "legendgroup": "39.240506329",
         "line": {
          "color": "darkblue"
         },
         "marker": {
          "color": "#FF6692",
          "symbol": "circle"
         },
         "mode": "lines",
         "name": "39.240506329",
         "showlegend": false,
         "type": "scatter",
         "xaxis": "x",
         "yaxis": "y"
        },
        {
         "hovertemplate": "PERCENT_3_OR_ABOVE=%{y}<br>closest_five_public_avg=%{x}<extra></extra>",
         "legendgroup": "47.959183673",
         "marker": {
          "color": "#B6E880",
          "symbol": "circle"
         },
         "mode": "markers",
         "name": "47.959183673",
         "orientation": "h",
         "showlegend": true,
         "type": "scatter",
         "x": [
          37.44165201525289
         ],
         "xaxis": "x",
         "y": [
          "47.959183673"
         ],
         "yaxis": "y"
        },
        {
         "hovertemplate": "PERCENT_3_OR_ABOVE=47.959183673<extra></extra>",
         "legendgroup": "47.959183673",
         "line": {
          "color": "darkblue"
         },
         "marker": {
          "color": "#B6E880",
          "symbol": "circle"
         },
         "mode": "lines",
         "name": "47.959183673",
         "showlegend": false,
         "type": "scatter",
         "xaxis": "x",
         "yaxis": "y"
        },
        {
         "hovertemplate": "PERCENT_3_OR_ABOVE=%{y}<br>closest_five_public_avg=%{x}<extra></extra>",
         "legendgroup": "52.941176471",
         "marker": {
          "color": "#FF97FF",
          "symbol": "circle"
         },
         "mode": "markers",
         "name": "52.941176471",
         "orientation": "h",
         "showlegend": true,
         "type": "scatter",
         "x": [
          31.843295796584734
         ],
         "xaxis": "x",
         "y": [
          "52.941176471"
         ],
         "yaxis": "y"
        },
        {
         "hovertemplate": "PERCENT_3_OR_ABOVE=52.941176471<extra></extra>",
         "legendgroup": "52.941176471",
         "line": {
          "color": "darkblue"
         },
         "marker": {
          "color": "#FF97FF",
          "symbol": "circle"
         },
         "mode": "lines",
         "name": "52.941176471",
         "showlegend": false,
         "type": "scatter",
         "xaxis": "x",
         "yaxis": "y"
        },
        {
         "hovertemplate": "PERCENT_3_OR_ABOVE=%{y}<br>closest_five_public_avg=%{x}<extra></extra>",
         "legendgroup": "54.918032787",
         "marker": {
          "color": "#FECB52",
          "symbol": "circle"
         },
         "mode": "markers",
         "name": "54.918032787",
         "orientation": "h",
         "showlegend": true,
         "type": "scatter",
         "x": [
          38.82091137692439
         ],
         "xaxis": "x",
         "y": [
          "54.918032787"
         ],
         "yaxis": "y"
        },
        {
         "hovertemplate": "PERCENT_3_OR_ABOVE=54.918032787<extra></extra>",
         "legendgroup": "54.918032787",
         "line": {
          "color": "darkblue"
         },
         "marker": {
          "color": "#FECB52",
          "symbol": "circle"
         },
         "mode": "lines",
         "name": "54.918032787",
         "showlegend": false,
         "type": "scatter",
         "xaxis": "x",
         "yaxis": "y"
        },
        {
         "hovertemplate": "PERCENT_3_OR_ABOVE=%{y}<br>closest_five_public_avg=%{x}<extra></extra>",
         "legendgroup": "52.727272727",
         "marker": {
          "color": "#636efa",
          "symbol": "circle"
         },
         "mode": "markers",
         "name": "52.727272727",
         "orientation": "h",
         "showlegend": true,
         "type": "scatter",
         "x": [
          44.42472926345066
         ],
         "xaxis": "x",
         "y": [
          "52.727272727"
         ],
         "yaxis": "y"
        },
        {
         "hovertemplate": "PERCENT_3_OR_ABOVE=52.727272727<extra></extra>",
         "legendgroup": "52.727272727",
         "line": {
          "color": "darkblue"
         },
         "marker": {
          "color": "#636efa",
          "symbol": "circle"
         },
         "mode": "lines",
         "name": "52.727272727",
         "showlegend": false,
         "type": "scatter",
         "xaxis": "x",
         "yaxis": "y"
        },
        {
         "hovertemplate": "PERCENT_3_OR_ABOVE=%{y}<br>closest_five_public_avg=%{x}<extra></extra>",
         "legendgroup": "55",
         "marker": {
          "color": "#EF553B",
          "symbol": "circle"
         },
         "mode": "markers",
         "name": "55",
         "orientation": "h",
         "showlegend": true,
         "type": "scatter",
         "x": [
          50.0821290071181
         ],
         "xaxis": "x",
         "y": [
          "55"
         ],
         "yaxis": "y"
        },
        {
         "hovertemplate": "PERCENT_3_OR_ABOVE=55<extra></extra>",
         "legendgroup": "55",
         "line": {
          "color": "darkblue"
         },
         "marker": {
          "color": "#EF553B",
          "symbol": "circle"
         },
         "mode": "lines",
         "name": "55",
         "showlegend": false,
         "type": "scatter",
         "xaxis": "x",
         "yaxis": "y"
        },
        {
         "hovertemplate": "PERCENT_3_OR_ABOVE=%{y}<br>closest_five_public_avg=%{x}<extra></extra>",
         "legendgroup": "69.512195122",
         "marker": {
          "color": "#00cc96",
          "symbol": "circle"
         },
         "mode": "markers",
         "name": "69.512195122",
         "orientation": "h",
         "showlegend": true,
         "type": "scatter",
         "x": [
          38.81830622859515
         ],
         "xaxis": "x",
         "y": [
          "69.512195122"
         ],
         "yaxis": "y"
        },
        {
         "hovertemplate": "PERCENT_3_OR_ABOVE=69.512195122<extra></extra>",
         "legendgroup": "69.512195122",
         "line": {
          "color": "darkblue"
         },
         "marker": {
          "color": "#00cc96",
          "symbol": "circle"
         },
         "mode": "lines",
         "name": "69.512195122",
         "showlegend": false,
         "type": "scatter",
         "xaxis": "x",
         "yaxis": "y"
        },
        {
         "hovertemplate": "PERCENT_3_OR_ABOVE=%{y}<br>closest_five_public_avg=%{x}<extra></extra>",
         "legendgroup": "70.89678511",
         "marker": {
          "color": "#ab63fa",
          "symbol": "circle"
         },
         "mode": "markers",
         "name": "70.89678511",
         "orientation": "h",
         "showlegend": true,
         "type": "scatter",
         "x": [
          36.93691098408656
         ],
         "xaxis": "x",
         "y": [
          "70.89678511"
         ],
         "yaxis": "y"
        },
        {
         "hovertemplate": "PERCENT_3_OR_ABOVE=70.89678511<extra></extra>",
         "legendgroup": "70.89678511",
         "line": {
          "color": "darkblue"
         },
         "marker": {
          "color": "#ab63fa",
          "symbol": "circle"
         },
         "mode": "lines",
         "name": "70.89678511",
         "showlegend": false,
         "type": "scatter",
         "xaxis": "x",
         "yaxis": "y"
        },
        {
         "hovertemplate": "PERCENT_3_OR_ABOVE=%{y}<br>closest_five_public_avg=%{x}<extra></extra>",
         "legendgroup": "67.993273543",
         "marker": {
          "color": "#FFA15A",
          "symbol": "circle"
         },
         "mode": "markers",
         "name": "67.993273543",
         "orientation": "h",
         "showlegend": true,
         "type": "scatter",
         "x": [
          23.320155532790587
         ],
         "xaxis": "x",
         "y": [
          "67.993273543"
         ],
         "yaxis": "y"
        },
        {
         "hovertemplate": "PERCENT_3_OR_ABOVE=67.993273543<extra></extra>",
         "legendgroup": "67.993273543",
         "line": {
          "color": "darkblue"
         },
         "marker": {
          "color": "#FFA15A",
          "symbol": "circle"
         },
         "mode": "lines",
         "name": "67.993273543",
         "showlegend": false,
         "type": "scatter",
         "xaxis": "x",
         "yaxis": "y"
        },
        {
         "hovertemplate": "PERCENT_3_OR_ABOVE=%{y}<br>closest_five_public_avg=%{x}<extra></extra>",
         "legendgroup": "74.733096085",
         "marker": {
          "color": "#19d3f3",
          "symbol": "circle"
         },
         "mode": "markers",
         "name": "74.733096085",
         "orientation": "h",
         "showlegend": true,
         "type": "scatter",
         "x": [
          39.16953806056982
         ],
         "xaxis": "x",
         "y": [
          "74.733096085"
         ],
         "yaxis": "y"
        },
        {
         "hovertemplate": "PERCENT_3_OR_ABOVE=74.733096085<extra></extra>",
         "legendgroup": "74.733096085",
         "line": {
          "color": "darkblue"
         },
         "marker": {
          "color": "#19d3f3",
          "symbol": "circle"
         },
         "mode": "lines",
         "name": "74.733096085",
         "showlegend": false,
         "type": "scatter",
         "xaxis": "x",
         "yaxis": "y"
        },
        {
         "hovertemplate": "PERCENT_3_OR_ABOVE=%{y}<br>closest_five_public_avg=%{x}<extra></extra>",
         "legendgroup": "33.054393305",
         "marker": {
          "color": "#FF6692",
          "symbol": "circle"
         },
         "mode": "markers",
         "name": "33.054393305",
         "orientation": "h",
         "showlegend": true,
         "type": "scatter",
         "x": [
          34.06862946446592
         ],
         "xaxis": "x",
         "y": [
          "33.054393305"
         ],
         "yaxis": "y"
        },
        {
         "hovertemplate": "PERCENT_3_OR_ABOVE=33.054393305<extra></extra>",
         "legendgroup": "33.054393305",
         "line": {
          "color": "darkblue"
         },
         "marker": {
          "color": "#FF6692",
          "symbol": "circle"
         },
         "mode": "lines",
         "name": "33.054393305",
         "showlegend": false,
         "type": "scatter",
         "xaxis": "x",
         "yaxis": "y"
        },
        {
         "hovertemplate": "PERCENT_3_OR_ABOVE=%{y}<br>closest_five_public_avg=%{x}<extra></extra>",
         "legendgroup": "49.743589744",
         "marker": {
          "color": "#B6E880",
          "symbol": "circle"
         },
         "mode": "markers",
         "name": "49.743589744",
         "orientation": "h",
         "showlegend": true,
         "type": "scatter",
         "x": [
          40.21171098347889
         ],
         "xaxis": "x",
         "y": [
          "49.743589744"
         ],
         "yaxis": "y"
        },
        {
         "hovertemplate": "PERCENT_3_OR_ABOVE=49.743589744<extra></extra>",
         "legendgroup": "49.743589744",
         "line": {
          "color": "darkblue"
         },
         "marker": {
          "color": "#B6E880",
          "symbol": "circle"
         },
         "mode": "lines",
         "name": "49.743589744",
         "showlegend": false,
         "type": "scatter",
         "xaxis": "x",
         "yaxis": "y"
        },
        {
         "hovertemplate": "PERCENT_3_OR_ABOVE=%{y}<br>closest_five_public_avg=%{x}<extra></extra>",
         "legendgroup": "53.333333333",
         "marker": {
          "color": "#FF97FF",
          "symbol": "circle"
         },
         "mode": "markers",
         "name": "53.333333333",
         "orientation": "h",
         "showlegend": true,
         "type": "scatter",
         "x": [
          29.5321860404835
         ],
         "xaxis": "x",
         "y": [
          "53.333333333"
         ],
         "yaxis": "y"
        },
        {
         "hovertemplate": "PERCENT_3_OR_ABOVE=53.333333333<extra></extra>",
         "legendgroup": "53.333333333",
         "line": {
          "color": "darkblue"
         },
         "marker": {
          "color": "#FF97FF",
          "symbol": "circle"
         },
         "mode": "lines",
         "name": "53.333333333",
         "showlegend": false,
         "type": "scatter",
         "xaxis": "x",
         "yaxis": "y"
        },
        {
         "hovertemplate": "PERCENT_3_OR_ABOVE=%{y}<br>closest_five_public_avg=%{x}<extra></extra>",
         "legendgroup": "42.424242424",
         "marker": {
          "color": "#FECB52",
          "symbol": "circle"
         },
         "mode": "markers",
         "name": "42.424242424",
         "orientation": "h",
         "showlegend": true,
         "type": "scatter",
         "x": [
          37.78277040774233
         ],
         "xaxis": "x",
         "y": [
          "42.424242424"
         ],
         "yaxis": "y"
        },
        {
         "hovertemplate": "PERCENT_3_OR_ABOVE=42.424242424<extra></extra>",
         "legendgroup": "42.424242424",
         "line": {
          "color": "darkblue"
         },
         "marker": {
          "color": "#FECB52",
          "symbol": "circle"
         },
         "mode": "lines",
         "name": "42.424242424",
         "showlegend": false,
         "type": "scatter",
         "xaxis": "x",
         "yaxis": "y"
        },
        {
         "hovertemplate": "PERCENT_3_OR_ABOVE=%{y}<br>closest_five_public_avg=%{x}<extra></extra>",
         "legendgroup": "71.875",
         "marker": {
          "color": "#636efa",
          "symbol": "circle"
         },
         "mode": "markers",
         "name": "71.875",
         "orientation": "h",
         "showlegend": true,
         "type": "scatter",
         "x": [
          39.103300036799695
         ],
         "xaxis": "x",
         "y": [
          "71.875"
         ],
         "yaxis": "y"
        },
        {
         "hovertemplate": "PERCENT_3_OR_ABOVE=71.875<extra></extra>",
         "legendgroup": "71.875",
         "line": {
          "color": "darkblue"
         },
         "marker": {
          "color": "#636efa",
          "symbol": "circle"
         },
         "mode": "lines",
         "name": "71.875",
         "showlegend": false,
         "type": "scatter",
         "xaxis": "x",
         "yaxis": "y"
        }
       ],
       "layout": {
        "height": 600,
        "legend": {
         "title": {
          "text": "PERCENT_3_OR_ABOVE"
         },
         "tracegroupgap": 0
        },
        "template": {
         "data": {
          "bar": [
           {
            "error_x": {
             "color": "#2a3f5f"
            },
            "error_y": {
             "color": "#2a3f5f"
            },
            "marker": {
             "line": {
              "color": "#E5ECF6",
              "width": 0.5
             },
             "pattern": {
              "fillmode": "overlay",
              "size": 10,
              "solidity": 0.2
             }
            },
            "type": "bar"
           }
          ],
          "barpolar": [
           {
            "marker": {
             "line": {
              "color": "#E5ECF6",
              "width": 0.5
             },
             "pattern": {
              "fillmode": "overlay",
              "size": 10,
              "solidity": 0.2
             }
            },
            "type": "barpolar"
           }
          ],
          "carpet": [
           {
            "aaxis": {
             "endlinecolor": "#2a3f5f",
             "gridcolor": "white",
             "linecolor": "white",
             "minorgridcolor": "white",
             "startlinecolor": "#2a3f5f"
            },
            "baxis": {
             "endlinecolor": "#2a3f5f",
             "gridcolor": "white",
             "linecolor": "white",
             "minorgridcolor": "white",
             "startlinecolor": "#2a3f5f"
            },
            "type": "carpet"
           }
          ],
          "choropleth": [
           {
            "colorbar": {
             "outlinewidth": 0,
             "ticks": ""
            },
            "type": "choropleth"
           }
          ],
          "contour": [
           {
            "colorbar": {
             "outlinewidth": 0,
             "ticks": ""
            },
            "colorscale": [
             [
              0,
              "#0d0887"
             ],
             [
              0.1111111111111111,
              "#46039f"
             ],
             [
              0.2222222222222222,
              "#7201a8"
             ],
             [
              0.3333333333333333,
              "#9c179e"
             ],
             [
              0.4444444444444444,
              "#bd3786"
             ],
             [
              0.5555555555555556,
              "#d8576b"
             ],
             [
              0.6666666666666666,
              "#ed7953"
             ],
             [
              0.7777777777777778,
              "#fb9f3a"
             ],
             [
              0.8888888888888888,
              "#fdca26"
             ],
             [
              1,
              "#f0f921"
             ]
            ],
            "type": "contour"
           }
          ],
          "contourcarpet": [
           {
            "colorbar": {
             "outlinewidth": 0,
             "ticks": ""
            },
            "type": "contourcarpet"
           }
          ],
          "heatmap": [
           {
            "colorbar": {
             "outlinewidth": 0,
             "ticks": ""
            },
            "colorscale": [
             [
              0,
              "#0d0887"
             ],
             [
              0.1111111111111111,
              "#46039f"
             ],
             [
              0.2222222222222222,
              "#7201a8"
             ],
             [
              0.3333333333333333,
              "#9c179e"
             ],
             [
              0.4444444444444444,
              "#bd3786"
             ],
             [
              0.5555555555555556,
              "#d8576b"
             ],
             [
              0.6666666666666666,
              "#ed7953"
             ],
             [
              0.7777777777777778,
              "#fb9f3a"
             ],
             [
              0.8888888888888888,
              "#fdca26"
             ],
             [
              1,
              "#f0f921"
             ]
            ],
            "type": "heatmap"
           }
          ],
          "heatmapgl": [
           {
            "colorbar": {
             "outlinewidth": 0,
             "ticks": ""
            },
            "colorscale": [
             [
              0,
              "#0d0887"
             ],
             [
              0.1111111111111111,
              "#46039f"
             ],
             [
              0.2222222222222222,
              "#7201a8"
             ],
             [
              0.3333333333333333,
              "#9c179e"
             ],
             [
              0.4444444444444444,
              "#bd3786"
             ],
             [
              0.5555555555555556,
              "#d8576b"
             ],
             [
              0.6666666666666666,
              "#ed7953"
             ],
             [
              0.7777777777777778,
              "#fb9f3a"
             ],
             [
              0.8888888888888888,
              "#fdca26"
             ],
             [
              1,
              "#f0f921"
             ]
            ],
            "type": "heatmapgl"
           }
          ],
          "histogram": [
           {
            "marker": {
             "pattern": {
              "fillmode": "overlay",
              "size": 10,
              "solidity": 0.2
             }
            },
            "type": "histogram"
           }
          ],
          "histogram2d": [
           {
            "colorbar": {
             "outlinewidth": 0,
             "ticks": ""
            },
            "colorscale": [
             [
              0,
              "#0d0887"
             ],
             [
              0.1111111111111111,
              "#46039f"
             ],
             [
              0.2222222222222222,
              "#7201a8"
             ],
             [
              0.3333333333333333,
              "#9c179e"
             ],
             [
              0.4444444444444444,
              "#bd3786"
             ],
             [
              0.5555555555555556,
              "#d8576b"
             ],
             [
              0.6666666666666666,
              "#ed7953"
             ],
             [
              0.7777777777777778,
              "#fb9f3a"
             ],
             [
              0.8888888888888888,
              "#fdca26"
             ],
             [
              1,
              "#f0f921"
             ]
            ],
            "type": "histogram2d"
           }
          ],
          "histogram2dcontour": [
           {
            "colorbar": {
             "outlinewidth": 0,
             "ticks": ""
            },
            "colorscale": [
             [
              0,
              "#0d0887"
             ],
             [
              0.1111111111111111,
              "#46039f"
             ],
             [
              0.2222222222222222,
              "#7201a8"
             ],
             [
              0.3333333333333333,
              "#9c179e"
             ],
             [
              0.4444444444444444,
              "#bd3786"
             ],
             [
              0.5555555555555556,
              "#d8576b"
             ],
             [
              0.6666666666666666,
              "#ed7953"
             ],
             [
              0.7777777777777778,
              "#fb9f3a"
             ],
             [
              0.8888888888888888,
              "#fdca26"
             ],
             [
              1,
              "#f0f921"
             ]
            ],
            "type": "histogram2dcontour"
           }
          ],
          "mesh3d": [
           {
            "colorbar": {
             "outlinewidth": 0,
             "ticks": ""
            },
            "type": "mesh3d"
           }
          ],
          "parcoords": [
           {
            "line": {
             "colorbar": {
              "outlinewidth": 0,
              "ticks": ""
             }
            },
            "type": "parcoords"
           }
          ],
          "pie": [
           {
            "automargin": true,
            "type": "pie"
           }
          ],
          "scatter": [
           {
            "fillpattern": {
             "fillmode": "overlay",
             "size": 10,
             "solidity": 0.2
            },
            "type": "scatter"
           }
          ],
          "scatter3d": [
           {
            "line": {
             "colorbar": {
              "outlinewidth": 0,
              "ticks": ""
             }
            },
            "marker": {
             "colorbar": {
              "outlinewidth": 0,
              "ticks": ""
             }
            },
            "type": "scatter3d"
           }
          ],
          "scattercarpet": [
           {
            "marker": {
             "colorbar": {
              "outlinewidth": 0,
              "ticks": ""
             }
            },
            "type": "scattercarpet"
           }
          ],
          "scattergeo": [
           {
            "marker": {
             "colorbar": {
              "outlinewidth": 0,
              "ticks": ""
             }
            },
            "type": "scattergeo"
           }
          ],
          "scattergl": [
           {
            "marker": {
             "colorbar": {
              "outlinewidth": 0,
              "ticks": ""
             }
            },
            "type": "scattergl"
           }
          ],
          "scattermapbox": [
           {
            "marker": {
             "colorbar": {
              "outlinewidth": 0,
              "ticks": ""
             }
            },
            "type": "scattermapbox"
           }
          ],
          "scatterpolar": [
           {
            "marker": {
             "colorbar": {
              "outlinewidth": 0,
              "ticks": ""
             }
            },
            "type": "scatterpolar"
           }
          ],
          "scatterpolargl": [
           {
            "marker": {
             "colorbar": {
              "outlinewidth": 0,
              "ticks": ""
             }
            },
            "type": "scatterpolargl"
           }
          ],
          "scatterternary": [
           {
            "marker": {
             "colorbar": {
              "outlinewidth": 0,
              "ticks": ""
             }
            },
            "type": "scatterternary"
           }
          ],
          "surface": [
           {
            "colorbar": {
             "outlinewidth": 0,
             "ticks": ""
            },
            "colorscale": [
             [
              0,
              "#0d0887"
             ],
             [
              0.1111111111111111,
              "#46039f"
             ],
             [
              0.2222222222222222,
              "#7201a8"
             ],
             [
              0.3333333333333333,
              "#9c179e"
             ],
             [
              0.4444444444444444,
              "#bd3786"
             ],
             [
              0.5555555555555556,
              "#d8576b"
             ],
             [
              0.6666666666666666,
              "#ed7953"
             ],
             [
              0.7777777777777778,
              "#fb9f3a"
             ],
             [
              0.8888888888888888,
              "#fdca26"
             ],
             [
              1,
              "#f0f921"
             ]
            ],
            "type": "surface"
           }
          ],
          "table": [
           {
            "cells": {
             "fill": {
              "color": "#EBF0F8"
             },
             "line": {
              "color": "white"
             }
            },
            "header": {
             "fill": {
              "color": "#C8D4E3"
             },
             "line": {
              "color": "white"
             }
            },
            "type": "table"
           }
          ]
         },
         "layout": {
          "annotationdefaults": {
           "arrowcolor": "#2a3f5f",
           "arrowhead": 0,
           "arrowwidth": 1
          },
          "autotypenumbers": "strict",
          "coloraxis": {
           "colorbar": {
            "outlinewidth": 0,
            "ticks": ""
           }
          },
          "colorscale": {
           "diverging": [
            [
             0,
             "#8e0152"
            ],
            [
             0.1,
             "#c51b7d"
            ],
            [
             0.2,
             "#de77ae"
            ],
            [
             0.3,
             "#f1b6da"
            ],
            [
             0.4,
             "#fde0ef"
            ],
            [
             0.5,
             "#f7f7f7"
            ],
            [
             0.6,
             "#e6f5d0"
            ],
            [
             0.7,
             "#b8e186"
            ],
            [
             0.8,
             "#7fbc41"
            ],
            [
             0.9,
             "#4d9221"
            ],
            [
             1,
             "#276419"
            ]
           ],
           "sequential": [
            [
             0,
             "#0d0887"
            ],
            [
             0.1111111111111111,
             "#46039f"
            ],
            [
             0.2222222222222222,
             "#7201a8"
            ],
            [
             0.3333333333333333,
             "#9c179e"
            ],
            [
             0.4444444444444444,
             "#bd3786"
            ],
            [
             0.5555555555555556,
             "#d8576b"
            ],
            [
             0.6666666666666666,
             "#ed7953"
            ],
            [
             0.7777777777777778,
             "#fb9f3a"
            ],
            [
             0.8888888888888888,
             "#fdca26"
            ],
            [
             1,
             "#f0f921"
            ]
           ],
           "sequentialminus": [
            [
             0,
             "#0d0887"
            ],
            [
             0.1111111111111111,
             "#46039f"
            ],
            [
             0.2222222222222222,
             "#7201a8"
            ],
            [
             0.3333333333333333,
             "#9c179e"
            ],
            [
             0.4444444444444444,
             "#bd3786"
            ],
            [
             0.5555555555555556,
             "#d8576b"
            ],
            [
             0.6666666666666666,
             "#ed7953"
            ],
            [
             0.7777777777777778,
             "#fb9f3a"
            ],
            [
             0.8888888888888888,
             "#fdca26"
            ],
            [
             1,
             "#f0f921"
            ]
           ]
          },
          "colorway": [
           "#636efa",
           "#EF553B",
           "#00cc96",
           "#ab63fa",
           "#FFA15A",
           "#19d3f3",
           "#FF6692",
           "#B6E880",
           "#FF97FF",
           "#FECB52"
          ],
          "font": {
           "color": "#2a3f5f"
          },
          "geo": {
           "bgcolor": "white",
           "lakecolor": "white",
           "landcolor": "#E5ECF6",
           "showlakes": true,
           "showland": true,
           "subunitcolor": "white"
          },
          "hoverlabel": {
           "align": "left"
          },
          "hovermode": "closest",
          "mapbox": {
           "style": "light"
          },
          "paper_bgcolor": "white",
          "plot_bgcolor": "#E5ECF6",
          "polar": {
           "angularaxis": {
            "gridcolor": "white",
            "linecolor": "white",
            "ticks": ""
           },
           "bgcolor": "#E5ECF6",
           "radialaxis": {
            "gridcolor": "white",
            "linecolor": "white",
            "ticks": ""
           }
          },
          "scene": {
           "xaxis": {
            "backgroundcolor": "#E5ECF6",
            "gridcolor": "white",
            "gridwidth": 2,
            "linecolor": "white",
            "showbackground": true,
            "ticks": "",
            "zerolinecolor": "white"
           },
           "yaxis": {
            "backgroundcolor": "#E5ECF6",
            "gridcolor": "white",
            "gridwidth": 2,
            "linecolor": "white",
            "showbackground": true,
            "ticks": "",
            "zerolinecolor": "white"
           },
           "zaxis": {
            "backgroundcolor": "#E5ECF6",
            "gridcolor": "white",
            "gridwidth": 2,
            "linecolor": "white",
            "showbackground": true,
            "ticks": "",
            "zerolinecolor": "white"
           }
          },
          "shapedefaults": {
           "line": {
            "color": "#2a3f5f"
           }
          },
          "ternary": {
           "aaxis": {
            "gridcolor": "white",
            "linecolor": "white",
            "ticks": ""
           },
           "baxis": {
            "gridcolor": "white",
            "linecolor": "white",
            "ticks": ""
           },
           "bgcolor": "#E5ECF6",
           "caxis": {
            "gridcolor": "white",
            "linecolor": "white",
            "ticks": ""
           }
          },
          "title": {
           "x": 0.05
          },
          "xaxis": {
           "automargin": true,
           "gridcolor": "white",
           "linecolor": "white",
           "ticks": "",
           "title": {
            "standoff": 15
           },
           "zerolinecolor": "white",
           "zerolinewidth": 2
          },
          "yaxis": {
           "automargin": true,
           "gridcolor": "white",
           "linecolor": "white",
           "ticks": "",
           "title": {
            "standoff": 15
           },
           "zerolinecolor": "white",
           "zerolinewidth": 2
          }
         }
        },
        "title": {
         "text": "Pass rate vs Avg. distance to closest 5 public universities"
        },
        "width": 800,
        "xaxis": {
         "anchor": "y",
         "autorange": true,
         "domain": [
          0,
          1
         ],
         "range": [
          -6.37501275463341,
          103.83316434174165
         ],
         "title": {
          "text": "closest_five_public_avg"
         },
         "type": "linear"
        },
        "yaxis": {
         "anchor": "x",
         "autorange": true,
         "categoryarray": [
          "71.875",
          "42.424242424",
          "53.333333333",
          "49.743589744",
          "33.054393305",
          "74.733096085",
          "67.993273543",
          "70.89678511",
          "69.512195122",
          "55",
          "52.727272727",
          "54.918032787",
          "52.941176471",
          "47.959183673",
          "39.240506329",
          "49.101796407",
          "39.051094891",
          "23.722627737",
          "26.490066225",
          "45.862884161",
          "70",
          "52.443384982",
          "43.689320388",
          "66.666666667",
          "64.401294498",
          "19.047619048",
          "70.983213429",
          "40.822467402",
          "65.967365967",
          "69.714285714",
          "47.826086957",
          "63.566535188",
          "43.835616438",
          "27.272727273",
          "52.380952381",
          "50.54200542",
          "28.421052632",
          "53.459119497",
          "55.628415301",
          "65.517241379",
          "37.435897436",
          "66.371681416",
          "44.171779141",
          "43.561643836",
          "58.148274684",
          "29.268292683",
          "24.503311258",
          "47.368421053",
          "44.751381215",
          "47.535211268",
          "70.880587058",
          "31.182795699",
          "57.073954984",
          "33.766233766",
          "60.200668896",
          "60.994764398",
          "50.842696629",
          "60.416666667",
          "50.238095238",
          "43.75",
          "38.372093023",
          "56.060606061",
          "37.931034483",
          "62.561576355",
          "53.249475891",
          "33.333333333",
          "75",
          "51.612903226",
          "57.837837838",
          "65.241295052",
          "50.739957717",
          "59.070191431",
          "57.357357357",
          "45",
          "43.269230769",
          "36.956521739",
          "58.695652174",
          "45.454545455",
          0,
          "53.191489362",
          "60.409924488"
         ],
         "categoryorder": "array",
         "domain": [
          0,
          1
         ],
         "range": [
          -5.356713426853707,
          85.54509018036072
         ],
         "title": {
          "text": "PERCENT_3_OR_ABOVE"
         },
         "type": "category"
        }
       }
      },
      "image/png": "[encoded data removed]",
      "text/html": [
       "<div>                            <div id=\"9d1c4c86-6f7c-48b6-9ae8-370183936e93\" class=\"plotly-graph-div\" style=\"height:600px; width:800px;\"></div>            <script type=\"text/javascript\">                require([\"plotly\"], function(Plotly) {                    window.PLOTLYENV=window.PLOTLYENV || {};                                    if (document.getElementById(\"9d1c4c86-6f7c-48b6-9ae8-370183936e93\")) {                    Plotly.newPlot(                        \"9d1c4c86-6f7c-48b6-9ae8-370183936e93\",                        [{\"hovertemplate\":\"PERCENT_3_OR_ABOVE=%{y}\\u003cbr\\u003eclosest_five_public_avg=%{x}\\u003cextra\\u003e\\u003c\\u002fextra\\u003e\",\"legendgroup\":\"60.409924488\",\"marker\":{\"color\":\"#636efa\",\"symbol\":\"circle\"},\"mode\":\"markers\",\"name\":\"60.409924488\",\"orientation\":\"h\",\"showlegend\":true,\"x\":[0.0],\"xaxis\":\"x\",\"y\":[\"60.409924488\"],\"yaxis\":\"y\",\"type\":\"scatter\"},{\"hovertemplate\":\"PERCENT_3_OR_ABOVE=60.409924488\\u003cextra\\u003e\\u003c\\u002fextra\\u003e\",\"legendgroup\":\"60.409924488\",\"line\":{\"color\":\"darkblue\"},\"marker\":{\"color\":\"#636efa\",\"symbol\":\"circle\"},\"mode\":\"lines\",\"name\":\"60.409924488\",\"showlegend\":false,\"xaxis\":\"x\",\"yaxis\":\"y\",\"type\":\"scatter\"},{\"hovertemplate\":\"PERCENT_3_OR_ABOVE=%{y}\\u003cbr\\u003eclosest_five_public_avg=%{x}\\u003cextra\\u003e\\u003c\\u002fextra\\u003e\",\"legendgroup\":\"53.191489362\",\"marker\":{\"color\":\"#EF553B\",\"symbol\":\"circle\"},\"mode\":\"markers\",\"name\":\"53.191489362\",\"orientation\":\"h\",\"showlegend\":true,\"x\":[32.003357172931224],\"xaxis\":\"x\",\"y\":[\"53.191489362\"],\"yaxis\":\"y\",\"type\":\"scatter\"},{\"hovertemplate\":\"PERCENT_3_OR_ABOVE=53.191489362\\u003cextra\\u003e\\u003c\\u002fextra\\u003e\",\"legendgroup\":\"53.191489362\",\"line\":{\"color\":\"darkblue\"},\"marker\":{\"color\":\"#EF553B\",\"symbol\":\"circle\"},\"mode\":\"lines\",\"name\":\"53.191489362\",\"showlegend\":false,\"xaxis\":\"x\",\"yaxis\":\"y\",\"type\":\"scatter\"},{\"hovertemplate\":\"PERCENT_3_OR_ABOVE=%{y}\\u003cbr\\u003eclosest_five_public_avg=%{x}\\u003cextra\\u003e\\u003c\\u002fextra\\u003e\",\"legendgroup\":\"0\",\"marker\":{\"color\":\"#00cc96\",\"symbol\":\"circle\"},\"mode\":\"markers\",\"name\":\"0\",\"orientation\":\"h\",\"showlegend\":true,\"x\":[53.37077309574239,47.01581816330685,44.49261073489306,43.07748813017307,43.88830582641141,43.88830582641141,45.04761557910636,78.67976880810966,37.748943001709335,31.53341063450667,33.31215014590538,46.51550303541442,49.16351034697654,51.23122170302746,57.57277371816806],\"xaxis\":\"x\",\"y\":[0,0,0,0,0,0,0,0,0,0,0,0,0,0,0],\"yaxis\":\"y\",\"type\":\"scatter\"},{\"hovertemplate\":\"\\u003cb\\u003eOLS trendline\\u003c\\u002fb\\u003e\\u003cbr\\u003ePERCENT_3_OR_ABOVE = 0 * closest_five_public_avg + 0\\u003cbr\\u003eR\\u003csup\\u003e2\\u003c\\u002fsup\\u003e=nan\\u003cbr\\u003e\\u003cbr\\u003ePERCENT_3_OR_ABOVE=%{y} \\u003cb\\u003e(trend)\\u003c\\u002fb\\u003e\\u003cbr\\u003eclosest_five_public_avg=%{x}\\u003cextra\\u003e\\u003c\\u002fextra\\u003e\",\"legendgroup\":\"0\",\"line\":{\"color\":\"darkblue\"},\"marker\":{\"color\":\"#00cc96\",\"symbol\":\"circle\"},\"mode\":\"lines\",\"name\":\"0\",\"showlegend\":false,\"x\":[31.53341063450667,33.31215014590538,37.748943001709335,43.07748813017307,43.88830582641141,43.88830582641141,44.49261073489306,45.04761557910636,46.51550303541442,47.01581816330685,49.16351034697654,51.23122170302746,53.37077309574239,57.57277371816806,78.67976880810966],\"xaxis\":\"x\",\"y\":[0.0,0.0,0.0,0.0,0.0,0.0,0.0,0.0,0.0,0.0,0.0,0.0,0.0,0.0,0.0],\"yaxis\":\"y\",\"type\":\"scatter\"},{\"hovertemplate\":\"PERCENT_3_OR_ABOVE=%{y}\\u003cbr\\u003eclosest_five_public_avg=%{x}\\u003cextra\\u003e\\u003c\\u002fextra\\u003e\",\"legendgroup\":\"45.454545455\",\"marker\":{\"color\":\"#ab63fa\",\"symbol\":\"circle\"},\"mode\":\"markers\",\"name\":\"45.454545455\",\"orientation\":\"h\",\"showlegend\":true,\"x\":[34.37010877301969],\"xaxis\":\"x\",\"y\":[\"45.454545455\"],\"yaxis\":\"y\",\"type\":\"scatter\"},{\"hovertemplate\":\"PERCENT_3_OR_ABOVE=45.454545455\\u003cextra\\u003e\\u003c\\u002fextra\\u003e\",\"legendgroup\":\"45.454545455\",\"line\":{\"color\":\"darkblue\"},\"marker\":{\"color\":\"#ab63fa\",\"symbol\":\"circle\"},\"mode\":\"lines\",\"name\":\"45.454545455\",\"showlegend\":false,\"xaxis\":\"x\",\"yaxis\":\"y\",\"type\":\"scatter\"},{\"hovertemplate\":\"PERCENT_3_OR_ABOVE=%{y}\\u003cbr\\u003eclosest_five_public_avg=%{x}\\u003cextra\\u003e\\u003c\\u002fextra\\u003e\",\"legendgroup\":\"58.695652174\",\"marker\":{\"color\":\"#FFA15A\",\"symbol\":\"circle\"},\"mode\":\"markers\",\"name\":\"58.695652174\",\"orientation\":\"h\",\"showlegend\":true,\"x\":[51.96774984153012],\"xaxis\":\"x\",\"y\":[\"58.695652174\"],\"yaxis\":\"y\",\"type\":\"scatter\"},{\"hovertemplate\":\"PERCENT_3_OR_ABOVE=58.695652174\\u003cextra\\u003e\\u003c\\u002fextra\\u003e\",\"legendgroup\":\"58.695652174\",\"line\":{\"color\":\"darkblue\"},\"marker\":{\"color\":\"#FFA15A\",\"symbol\":\"circle\"},\"mode\":\"lines\",\"name\":\"58.695652174\",\"showlegend\":false,\"xaxis\":\"x\",\"yaxis\":\"y\",\"type\":\"scatter\"},{\"hovertemplate\":\"PERCENT_3_OR_ABOVE=%{y}\\u003cbr\\u003eclosest_five_public_avg=%{x}\\u003cextra\\u003e\\u003c\\u002fextra\\u003e\",\"legendgroup\":\"36.956521739\",\"marker\":{\"color\":\"#19d3f3\",\"symbol\":\"circle\"},\"mode\":\"markers\",\"name\":\"36.956521739\",\"orientation\":\"h\",\"showlegend\":true,\"x\":[36.46299910980154],\"xaxis\":\"x\",\"y\":[\"36.956521739\"],\"yaxis\":\"y\",\"type\":\"scatter\"},{\"hovertemplate\":\"PERCENT_3_OR_ABOVE=36.956521739\\u003cextra\\u003e\\u003c\\u002fextra\\u003e\",\"legendgroup\":\"36.956521739\",\"line\":{\"color\":\"darkblue\"},\"marker\":{\"color\":\"#19d3f3\",\"symbol\":\"circle\"},\"mode\":\"lines\",\"name\":\"36.956521739\",\"showlegend\":false,\"xaxis\":\"x\",\"yaxis\":\"y\",\"type\":\"scatter\"},{\"hovertemplate\":\"PERCENT_3_OR_ABOVE=%{y}\\u003cbr\\u003eclosest_five_public_avg=%{x}\\u003cextra\\u003e\\u003c\\u002fextra\\u003e\",\"legendgroup\":\"43.269230769\",\"marker\":{\"color\":\"#FF6692\",\"symbol\":\"circle\"},\"mode\":\"markers\",\"name\":\"43.269230769\",\"orientation\":\"h\",\"showlegend\":true,\"x\":[39.36830664993078],\"xaxis\":\"x\",\"y\":[\"43.269230769\"],\"yaxis\":\"y\",\"type\":\"scatter\"},{\"hovertemplate\":\"PERCENT_3_OR_ABOVE=43.269230769\\u003cextra\\u003e\\u003c\\u002fextra\\u003e\",\"legendgroup\":\"43.269230769\",\"line\":{\"color\":\"darkblue\"},\"marker\":{\"color\":\"#FF6692\",\"symbol\":\"circle\"},\"mode\":\"lines\",\"name\":\"43.269230769\",\"showlegend\":false,\"xaxis\":\"x\",\"yaxis\":\"y\",\"type\":\"scatter\"},{\"hovertemplate\":\"PERCENT_3_OR_ABOVE=%{y}\\u003cbr\\u003eclosest_five_public_avg=%{x}\\u003cextra\\u003e\\u003c\\u002fextra\\u003e\",\"legendgroup\":\"45\",\"marker\":{\"color\":\"#B6E880\",\"symbol\":\"circle\"},\"mode\":\"markers\",\"name\":\"45\",\"orientation\":\"h\",\"showlegend\":true,\"x\":[39.7656318798151],\"xaxis\":\"x\",\"y\":[\"45\"],\"yaxis\":\"y\",\"type\":\"scatter\"},{\"hovertemplate\":\"PERCENT_3_OR_ABOVE=45\\u003cextra\\u003e\\u003c\\u002fextra\\u003e\",\"legendgroup\":\"45\",\"line\":{\"color\":\"darkblue\"},\"marker\":{\"color\":\"#B6E880\",\"symbol\":\"circle\"},\"mode\":\"lines\",\"name\":\"45\",\"showlegend\":false,\"xaxis\":\"x\",\"yaxis\":\"y\",\"type\":\"scatter\"},{\"hovertemplate\":\"PERCENT_3_OR_ABOVE=%{y}\\u003cbr\\u003eclosest_five_public_avg=%{x}\\u003cextra\\u003e\\u003c\\u002fextra\\u003e\",\"legendgroup\":\"57.357357357\",\"marker\":{\"color\":\"#FF97FF\",\"symbol\":\"circle\"},\"mode\":\"markers\",\"name\":\"57.357357357\",\"orientation\":\"h\",\"showlegend\":true,\"x\":[42.00305478609475],\"xaxis\":\"x\",\"y\":[\"57.357357357\"],\"yaxis\":\"y\",\"type\":\"scatter\"},{\"hovertemplate\":\"PERCENT_3_OR_ABOVE=57.357357357\\u003cextra\\u003e\\u003c\\u002fextra\\u003e\",\"legendgroup\":\"57.357357357\",\"line\":{\"color\":\"darkblue\"},\"marker\":{\"color\":\"#FF97FF\",\"symbol\":\"circle\"},\"mode\":\"lines\",\"name\":\"57.357357357\",\"showlegend\":false,\"xaxis\":\"x\",\"yaxis\":\"y\",\"type\":\"scatter\"},{\"hovertemplate\":\"PERCENT_3_OR_ABOVE=%{y}\\u003cbr\\u003eclosest_five_public_avg=%{x}\\u003cextra\\u003e\\u003c\\u002fextra\\u003e\",\"legendgroup\":\"59.070191431\",\"marker\":{\"color\":\"#FECB52\",\"symbol\":\"circle\"},\"mode\":\"markers\",\"name\":\"59.070191431\",\"orientation\":\"h\",\"showlegend\":true,\"x\":[23.00351890417645],\"xaxis\":\"x\",\"y\":[\"59.070191431\"],\"yaxis\":\"y\",\"type\":\"scatter\"},{\"hovertemplate\":\"PERCENT_3_OR_ABOVE=59.070191431\\u003cextra\\u003e\\u003c\\u002fextra\\u003e\",\"legendgroup\":\"59.070191431\",\"line\":{\"color\":\"darkblue\"},\"marker\":{\"color\":\"#FECB52\",\"symbol\":\"circle\"},\"mode\":\"lines\",\"name\":\"59.070191431\",\"showlegend\":false,\"xaxis\":\"x\",\"yaxis\":\"y\",\"type\":\"scatter\"},{\"hovertemplate\":\"PERCENT_3_OR_ABOVE=%{y}\\u003cbr\\u003eclosest_five_public_avg=%{x}\\u003cextra\\u003e\\u003c\\u002fextra\\u003e\",\"legendgroup\":\"50.739957717\",\"marker\":{\"color\":\"#636efa\",\"symbol\":\"circle\"},\"mode\":\"markers\",\"name\":\"50.739957717\",\"orientation\":\"h\",\"showlegend\":true,\"x\":[25.004773780096865],\"xaxis\":\"x\",\"y\":[\"50.739957717\"],\"yaxis\":\"y\",\"type\":\"scatter\"},{\"hovertemplate\":\"PERCENT_3_OR_ABOVE=50.739957717\\u003cextra\\u003e\\u003c\\u002fextra\\u003e\",\"legendgroup\":\"50.739957717\",\"line\":{\"color\":\"darkblue\"},\"marker\":{\"color\":\"#636efa\",\"symbol\":\"circle\"},\"mode\":\"lines\",\"name\":\"50.739957717\",\"showlegend\":false,\"xaxis\":\"x\",\"yaxis\":\"y\",\"type\":\"scatter\"},{\"hovertemplate\":\"PERCENT_3_OR_ABOVE=%{y}\\u003cbr\\u003eclosest_five_public_avg=%{x}\\u003cextra\\u003e\\u003c\\u002fextra\\u003e\",\"legendgroup\":\"65.241295052\",\"marker\":{\"color\":\"#EF553B\",\"symbol\":\"circle\"},\"mode\":\"markers\",\"name\":\"65.241295052\",\"orientation\":\"h\",\"showlegend\":true,\"x\":[29.88325604709754],\"xaxis\":\"x\",\"y\":[\"65.241295052\"],\"yaxis\":\"y\",\"type\":\"scatter\"},{\"hovertemplate\":\"PERCENT_3_OR_ABOVE=65.241295052\\u003cextra\\u003e\\u003c\\u002fextra\\u003e\",\"legendgroup\":\"65.241295052\",\"line\":{\"color\":\"darkblue\"},\"marker\":{\"color\":\"#EF553B\",\"symbol\":\"circle\"},\"mode\":\"lines\",\"name\":\"65.241295052\",\"showlegend\":false,\"xaxis\":\"x\",\"yaxis\":\"y\",\"type\":\"scatter\"},{\"hovertemplate\":\"PERCENT_3_OR_ABOVE=%{y}\\u003cbr\\u003eclosest_five_public_avg=%{x}\\u003cextra\\u003e\\u003c\\u002fextra\\u003e\",\"legendgroup\":\"57.837837838\",\"marker\":{\"color\":\"#00cc96\",\"symbol\":\"circle\"},\"mode\":\"markers\",\"name\":\"57.837837838\",\"orientation\":\"h\",\"showlegend\":true,\"x\":[29.49899226415743],\"xaxis\":\"x\",\"y\":[\"57.837837838\"],\"yaxis\":\"y\",\"type\":\"scatter\"},{\"hovertemplate\":\"PERCENT_3_OR_ABOVE=57.837837838\\u003cextra\\u003e\\u003c\\u002fextra\\u003e\",\"legendgroup\":\"57.837837838\",\"line\":{\"color\":\"darkblue\"},\"marker\":{\"color\":\"#00cc96\",\"symbol\":\"circle\"},\"mode\":\"lines\",\"name\":\"57.837837838\",\"showlegend\":false,\"xaxis\":\"x\",\"yaxis\":\"y\",\"type\":\"scatter\"},{\"hovertemplate\":\"PERCENT_3_OR_ABOVE=%{y}\\u003cbr\\u003eclosest_five_public_avg=%{x}\\u003cextra\\u003e\\u003c\\u002fextra\\u003e\",\"legendgroup\":\"51.612903226\",\"marker\":{\"color\":\"#ab63fa\",\"symbol\":\"circle\"},\"mode\":\"markers\",\"name\":\"51.612903226\",\"orientation\":\"h\",\"showlegend\":true,\"x\":[35.02582091858828],\"xaxis\":\"x\",\"y\":[\"51.612903226\"],\"yaxis\":\"y\",\"type\":\"scatter\"},{\"hovertemplate\":\"PERCENT_3_OR_ABOVE=51.612903226\\u003cextra\\u003e\\u003c\\u002fextra\\u003e\",\"legendgroup\":\"51.612903226\",\"line\":{\"color\":\"darkblue\"},\"marker\":{\"color\":\"#ab63fa\",\"symbol\":\"circle\"},\"mode\":\"lines\",\"name\":\"51.612903226\",\"showlegend\":false,\"xaxis\":\"x\",\"yaxis\":\"y\",\"type\":\"scatter\"},{\"hovertemplate\":\"PERCENT_3_OR_ABOVE=%{y}\\u003cbr\\u003eclosest_five_public_avg=%{x}\\u003cextra\\u003e\\u003c\\u002fextra\\u003e\",\"legendgroup\":\"75\",\"marker\":{\"color\":\"#FFA15A\",\"symbol\":\"circle\"},\"mode\":\"markers\",\"name\":\"75\",\"orientation\":\"h\",\"showlegend\":true,\"x\":[49.09312093333831],\"xaxis\":\"x\",\"y\":[\"75\"],\"yaxis\":\"y\",\"type\":\"scatter\"},{\"hovertemplate\":\"PERCENT_3_OR_ABOVE=75\\u003cextra\\u003e\\u003c\\u002fextra\\u003e\",\"legendgroup\":\"75\",\"line\":{\"color\":\"darkblue\"},\"marker\":{\"color\":\"#FFA15A\",\"symbol\":\"circle\"},\"mode\":\"lines\",\"name\":\"75\",\"showlegend\":false,\"xaxis\":\"x\",\"yaxis\":\"y\",\"type\":\"scatter\"},{\"hovertemplate\":\"PERCENT_3_OR_ABOVE=%{y}\\u003cbr\\u003eclosest_five_public_avg=%{x}\\u003cextra\\u003e\\u003c\\u002fextra\\u003e\",\"legendgroup\":\"33.333333333\",\"marker\":{\"color\":\"#19d3f3\",\"symbol\":\"circle\"},\"mode\":\"markers\",\"name\":\"33.333333333\",\"orientation\":\"h\",\"showlegend\":true,\"x\":[35.830309264385015,39.75253815977072],\"xaxis\":\"x\",\"y\":[\"33.333333333\",\"33.333333333\"],\"yaxis\":\"y\",\"type\":\"scatter\"},{\"hovertemplate\":\"\\u003cb\\u003eOLS trendline\\u003c\\u002fb\\u003e\\u003cbr\\u003ePERCENT_3_OR_ABOVE = -1.81596e-17 * closest_five_public_avg + 33.3333\\u003cbr\\u003eR\\u003csup\\u003e2\\u003c\\u002fsup\\u003e=-inf\\u003cbr\\u003e\\u003cbr\\u003ePERCENT_3_OR_ABOVE=%{y} \\u003cb\\u003e(trend)\\u003c\\u002fb\\u003e\\u003cbr\\u003eclosest_five_public_avg=%{x}\\u003cextra\\u003e\\u003c\\u002fextra\\u003e\",\"legendgroup\":\"33.333333333\",\"line\":{\"color\":\"darkblue\"},\"marker\":{\"color\":\"#19d3f3\",\"symbol\":\"circle\"},\"mode\":\"lines\",\"name\":\"33.333333333\",\"showlegend\":false,\"x\":[35.830309264385015,39.75253815977072],\"xaxis\":\"x\",\"y\":[33.33333333299998,33.33333333299998],\"yaxis\":\"y\",\"type\":\"scatter\"},{\"hovertemplate\":\"PERCENT_3_OR_ABOVE=%{y}\\u003cbr\\u003eclosest_five_public_avg=%{x}\\u003cextra\\u003e\\u003c\\u002fextra\\u003e\",\"legendgroup\":\"53.249475891\",\"marker\":{\"color\":\"#FF6692\",\"symbol\":\"circle\"},\"mode\":\"markers\",\"name\":\"53.249475891\",\"orientation\":\"h\",\"showlegend\":true,\"x\":[30.92577353096385],\"xaxis\":\"x\",\"y\":[\"53.249475891\"],\"yaxis\":\"y\",\"type\":\"scatter\"},{\"hovertemplate\":\"PERCENT_3_OR_ABOVE=53.249475891\\u003cextra\\u003e\\u003c\\u002fextra\\u003e\",\"legendgroup\":\"53.249475891\",\"line\":{\"color\":\"darkblue\"},\"marker\":{\"color\":\"#FF6692\",\"symbol\":\"circle\"},\"mode\":\"lines\",\"name\":\"53.249475891\",\"showlegend\":false,\"xaxis\":\"x\",\"yaxis\":\"y\",\"type\":\"scatter\"},{\"hovertemplate\":\"PERCENT_3_OR_ABOVE=%{y}\\u003cbr\\u003eclosest_five_public_avg=%{x}\\u003cextra\\u003e\\u003c\\u002fextra\\u003e\",\"legendgroup\":\"62.561576355\",\"marker\":{\"color\":\"#B6E880\",\"symbol\":\"circle\"},\"mode\":\"markers\",\"name\":\"62.561576355\",\"orientation\":\"h\",\"showlegend\":true,\"x\":[37.52426714344399],\"xaxis\":\"x\",\"y\":[\"62.561576355\"],\"yaxis\":\"y\",\"type\":\"scatter\"},{\"hovertemplate\":\"PERCENT_3_OR_ABOVE=62.561576355\\u003cextra\\u003e\\u003c\\u002fextra\\u003e\",\"legendgroup\":\"62.561576355\",\"line\":{\"color\":\"darkblue\"},\"marker\":{\"color\":\"#B6E880\",\"symbol\":\"circle\"},\"mode\":\"lines\",\"name\":\"62.561576355\",\"showlegend\":false,\"xaxis\":\"x\",\"yaxis\":\"y\",\"type\":\"scatter\"},{\"hovertemplate\":\"PERCENT_3_OR_ABOVE=%{y}\\u003cbr\\u003eclosest_five_public_avg=%{x}\\u003cextra\\u003e\\u003c\\u002fextra\\u003e\",\"legendgroup\":\"37.931034483\",\"marker\":{\"color\":\"#FF97FF\",\"symbol\":\"circle\"},\"mode\":\"markers\",\"name\":\"37.931034483\",\"orientation\":\"h\",\"showlegend\":true,\"x\":[56.978653590831335],\"xaxis\":\"x\",\"y\":[\"37.931034483\"],\"yaxis\":\"y\",\"type\":\"scatter\"},{\"hovertemplate\":\"PERCENT_3_OR_ABOVE=37.931034483\\u003cextra\\u003e\\u003c\\u002fextra\\u003e\",\"legendgroup\":\"37.931034483\",\"line\":{\"color\":\"darkblue\"},\"marker\":{\"color\":\"#FF97FF\",\"symbol\":\"circle\"},\"mode\":\"lines\",\"name\":\"37.931034483\",\"showlegend\":false,\"xaxis\":\"x\",\"yaxis\":\"y\",\"type\":\"scatter\"},{\"hovertemplate\":\"PERCENT_3_OR_ABOVE=%{y}\\u003cbr\\u003eclosest_five_public_avg=%{x}\\u003cextra\\u003e\\u003c\\u002fextra\\u003e\",\"legendgroup\":\"56.060606061\",\"marker\":{\"color\":\"#FECB52\",\"symbol\":\"circle\"},\"mode\":\"markers\",\"name\":\"56.060606061\",\"orientation\":\"h\",\"showlegend\":true,\"x\":[33.206873363215635],\"xaxis\":\"x\",\"y\":[\"56.060606061\"],\"yaxis\":\"y\",\"type\":\"scatter\"},{\"hovertemplate\":\"PERCENT_3_OR_ABOVE=56.060606061\\u003cextra\\u003e\\u003c\\u002fextra\\u003e\",\"legendgroup\":\"56.060606061\",\"line\":{\"color\":\"darkblue\"},\"marker\":{\"color\":\"#FECB52\",\"symbol\":\"circle\"},\"mode\":\"lines\",\"name\":\"56.060606061\",\"showlegend\":false,\"xaxis\":\"x\",\"yaxis\":\"y\",\"type\":\"scatter\"},{\"hovertemplate\":\"PERCENT_3_OR_ABOVE=%{y}\\u003cbr\\u003eclosest_five_public_avg=%{x}\\u003cextra\\u003e\\u003c\\u002fextra\\u003e\",\"legendgroup\":\"38.372093023\",\"marker\":{\"color\":\"#636efa\",\"symbol\":\"circle\"},\"mode\":\"markers\",\"name\":\"38.372093023\",\"orientation\":\"h\",\"showlegend\":true,\"x\":[44.12780786356369],\"xaxis\":\"x\",\"y\":[\"38.372093023\"],\"yaxis\":\"y\",\"type\":\"scatter\"},{\"hovertemplate\":\"PERCENT_3_OR_ABOVE=38.372093023\\u003cextra\\u003e\\u003c\\u002fextra\\u003e\",\"legendgroup\":\"38.372093023\",\"line\":{\"color\":\"darkblue\"},\"marker\":{\"color\":\"#636efa\",\"symbol\":\"circle\"},\"mode\":\"lines\",\"name\":\"38.372093023\",\"showlegend\":false,\"xaxis\":\"x\",\"yaxis\":\"y\",\"type\":\"scatter\"},{\"hovertemplate\":\"PERCENT_3_OR_ABOVE=%{y}\\u003cbr\\u003eclosest_five_public_avg=%{x}\\u003cextra\\u003e\\u003c\\u002fextra\\u003e\",\"legendgroup\":\"43.75\",\"marker\":{\"color\":\"#EF553B\",\"symbol\":\"circle\"},\"mode\":\"markers\",\"name\":\"43.75\",\"orientation\":\"h\",\"showlegend\":true,\"x\":[33.08763880983473],\"xaxis\":\"x\",\"y\":[\"43.75\"],\"yaxis\":\"y\",\"type\":\"scatter\"},{\"hovertemplate\":\"PERCENT_3_OR_ABOVE=43.75\\u003cextra\\u003e\\u003c\\u002fextra\\u003e\",\"legendgroup\":\"43.75\",\"line\":{\"color\":\"darkblue\"},\"marker\":{\"color\":\"#EF553B\",\"symbol\":\"circle\"},\"mode\":\"lines\",\"name\":\"43.75\",\"showlegend\":false,\"xaxis\":\"x\",\"yaxis\":\"y\",\"type\":\"scatter\"},{\"hovertemplate\":\"PERCENT_3_OR_ABOVE=%{y}\\u003cbr\\u003eclosest_five_public_avg=%{x}\\u003cextra\\u003e\\u003c\\u002fextra\\u003e\",\"legendgroup\":\"50.238095238\",\"marker\":{\"color\":\"#00cc96\",\"symbol\":\"circle\"},\"mode\":\"markers\",\"name\":\"50.238095238\",\"orientation\":\"h\",\"showlegend\":true,\"x\":[29.785288570921136],\"xaxis\":\"x\",\"y\":[\"50.238095238\"],\"yaxis\":\"y\",\"type\":\"scatter\"},{\"hovertemplate\":\"PERCENT_3_OR_ABOVE=50.238095238\\u003cextra\\u003e\\u003c\\u002fextra\\u003e\",\"legendgroup\":\"50.238095238\",\"line\":{\"color\":\"darkblue\"},\"marker\":{\"color\":\"#00cc96\",\"symbol\":\"circle\"},\"mode\":\"lines\",\"name\":\"50.238095238\",\"showlegend\":false,\"xaxis\":\"x\",\"yaxis\":\"y\",\"type\":\"scatter\"},{\"hovertemplate\":\"PERCENT_3_OR_ABOVE=%{y}\\u003cbr\\u003eclosest_five_public_avg=%{x}\\u003cextra\\u003e\\u003c\\u002fextra\\u003e\",\"legendgroup\":\"60.416666667\",\"marker\":{\"color\":\"#ab63fa\",\"symbol\":\"circle\"},\"mode\":\"markers\",\"name\":\"60.416666667\",\"orientation\":\"h\",\"showlegend\":true,\"x\":[42.16766746799773],\"xaxis\":\"x\",\"y\":[\"60.416666667\"],\"yaxis\":\"y\",\"type\":\"scatter\"},{\"hovertemplate\":\"PERCENT_3_OR_ABOVE=60.416666667\\u003cextra\\u003e\\u003c\\u002fextra\\u003e\",\"legendgroup\":\"60.416666667\",\"line\":{\"color\":\"darkblue\"},\"marker\":{\"color\":\"#ab63fa\",\"symbol\":\"circle\"},\"mode\":\"lines\",\"name\":\"60.416666667\",\"showlegend\":false,\"xaxis\":\"x\",\"yaxis\":\"y\",\"type\":\"scatter\"},{\"hovertemplate\":\"PERCENT_3_OR_ABOVE=%{y}\\u003cbr\\u003eclosest_five_public_avg=%{x}\\u003cextra\\u003e\\u003c\\u002fextra\\u003e\",\"legendgroup\":\"50.842696629\",\"marker\":{\"color\":\"#FFA15A\",\"symbol\":\"circle\"},\"mode\":\"markers\",\"name\":\"50.842696629\",\"orientation\":\"h\",\"showlegend\":true,\"x\":[97.45815158710823],\"xaxis\":\"x\",\"y\":[\"50.842696629\"],\"yaxis\":\"y\",\"type\":\"scatter\"},{\"hovertemplate\":\"PERCENT_3_OR_ABOVE=50.842696629\\u003cextra\\u003e\\u003c\\u002fextra\\u003e\",\"legendgroup\":\"50.842696629\",\"line\":{\"color\":\"darkblue\"},\"marker\":{\"color\":\"#FFA15A\",\"symbol\":\"circle\"},\"mode\":\"lines\",\"name\":\"50.842696629\",\"showlegend\":false,\"xaxis\":\"x\",\"yaxis\":\"y\",\"type\":\"scatter\"},{\"hovertemplate\":\"PERCENT_3_OR_ABOVE=%{y}\\u003cbr\\u003eclosest_five_public_avg=%{x}\\u003cextra\\u003e\\u003c\\u002fextra\\u003e\",\"legendgroup\":\"60.994764398\",\"marker\":{\"color\":\"#19d3f3\",\"symbol\":\"circle\"},\"mode\":\"markers\",\"name\":\"60.994764398\",\"orientation\":\"h\",\"showlegend\":true,\"x\":[26.71013154459096],\"xaxis\":\"x\",\"y\":[\"60.994764398\"],\"yaxis\":\"y\",\"type\":\"scatter\"},{\"hovertemplate\":\"PERCENT_3_OR_ABOVE=60.994764398\\u003cextra\\u003e\\u003c\\u002fextra\\u003e\",\"legendgroup\":\"60.994764398\",\"line\":{\"color\":\"darkblue\"},\"marker\":{\"color\":\"#19d3f3\",\"symbol\":\"circle\"},\"mode\":\"lines\",\"name\":\"60.994764398\",\"showlegend\":false,\"xaxis\":\"x\",\"yaxis\":\"y\",\"type\":\"scatter\"},{\"hovertemplate\":\"PERCENT_3_OR_ABOVE=%{y}\\u003cbr\\u003eclosest_five_public_avg=%{x}\\u003cextra\\u003e\\u003c\\u002fextra\\u003e\",\"legendgroup\":\"60.200668896\",\"marker\":{\"color\":\"#FF6692\",\"symbol\":\"circle\"},\"mode\":\"markers\",\"name\":\"60.200668896\",\"orientation\":\"h\",\"showlegend\":true,\"x\":[32.232406637066575],\"xaxis\":\"x\",\"y\":[\"60.200668896\"],\"yaxis\":\"y\",\"type\":\"scatter\"},{\"hovertemplate\":\"PERCENT_3_OR_ABOVE=60.200668896\\u003cextra\\u003e\\u003c\\u002fextra\\u003e\",\"legendgroup\":\"60.200668896\",\"line\":{\"color\":\"darkblue\"},\"marker\":{\"color\":\"#FF6692\",\"symbol\":\"circle\"},\"mode\":\"lines\",\"name\":\"60.200668896\",\"showlegend\":false,\"xaxis\":\"x\",\"yaxis\":\"y\",\"type\":\"scatter\"},{\"hovertemplate\":\"PERCENT_3_OR_ABOVE=%{y}\\u003cbr\\u003eclosest_five_public_avg=%{x}\\u003cextra\\u003e\\u003c\\u002fextra\\u003e\",\"legendgroup\":\"33.766233766\",\"marker\":{\"color\":\"#B6E880\",\"symbol\":\"circle\"},\"mode\":\"markers\",\"name\":\"33.766233766\",\"orientation\":\"h\",\"showlegend\":true,\"x\":[39.10342315593739],\"xaxis\":\"x\",\"y\":[\"33.766233766\"],\"yaxis\":\"y\",\"type\":\"scatter\"},{\"hovertemplate\":\"PERCENT_3_OR_ABOVE=33.766233766\\u003cextra\\u003e\\u003c\\u002fextra\\u003e\",\"legendgroup\":\"33.766233766\",\"line\":{\"color\":\"darkblue\"},\"marker\":{\"color\":\"#B6E880\",\"symbol\":\"circle\"},\"mode\":\"lines\",\"name\":\"33.766233766\",\"showlegend\":false,\"xaxis\":\"x\",\"yaxis\":\"y\",\"type\":\"scatter\"},{\"hovertemplate\":\"PERCENT_3_OR_ABOVE=%{y}\\u003cbr\\u003eclosest_five_public_avg=%{x}\\u003cextra\\u003e\\u003c\\u002fextra\\u003e\",\"legendgroup\":\"57.073954984\",\"marker\":{\"color\":\"#FF97FF\",\"symbol\":\"circle\"},\"mode\":\"markers\",\"name\":\"57.073954984\",\"orientation\":\"h\",\"showlegend\":true,\"x\":[22.31285361312909],\"xaxis\":\"x\",\"y\":[\"57.073954984\"],\"yaxis\":\"y\",\"type\":\"scatter\"},{\"hovertemplate\":\"PERCENT_3_OR_ABOVE=57.073954984\\u003cextra\\u003e\\u003c\\u002fextra\\u003e\",\"legendgroup\":\"57.073954984\",\"line\":{\"color\":\"darkblue\"},\"marker\":{\"color\":\"#FF97FF\",\"symbol\":\"circle\"},\"mode\":\"lines\",\"name\":\"57.073954984\",\"showlegend\":false,\"xaxis\":\"x\",\"yaxis\":\"y\",\"type\":\"scatter\"},{\"hovertemplate\":\"PERCENT_3_OR_ABOVE=%{y}\\u003cbr\\u003eclosest_five_public_avg=%{x}\\u003cextra\\u003e\\u003c\\u002fextra\\u003e\",\"legendgroup\":\"31.182795699\",\"marker\":{\"color\":\"#FECB52\",\"symbol\":\"circle\"},\"mode\":\"markers\",\"name\":\"31.182795699\",\"orientation\":\"h\",\"showlegend\":true,\"x\":[30.003139685579573],\"xaxis\":\"x\",\"y\":[\"31.182795699\"],\"yaxis\":\"y\",\"type\":\"scatter\"},{\"hovertemplate\":\"PERCENT_3_OR_ABOVE=31.182795699\\u003cextra\\u003e\\u003c\\u002fextra\\u003e\",\"legendgroup\":\"31.182795699\",\"line\":{\"color\":\"darkblue\"},\"marker\":{\"color\":\"#FECB52\",\"symbol\":\"circle\"},\"mode\":\"lines\",\"name\":\"31.182795699\",\"showlegend\":false,\"xaxis\":\"x\",\"yaxis\":\"y\",\"type\":\"scatter\"},{\"hovertemplate\":\"PERCENT_3_OR_ABOVE=%{y}\\u003cbr\\u003eclosest_five_public_avg=%{x}\\u003cextra\\u003e\\u003c\\u002fextra\\u003e\",\"legendgroup\":\"70.880587058\",\"marker\":{\"color\":\"#636efa\",\"symbol\":\"circle\"},\"mode\":\"markers\",\"name\":\"70.880587058\",\"orientation\":\"h\",\"showlegend\":true,\"x\":[16.492896903823503],\"xaxis\":\"x\",\"y\":[\"70.880587058\"],\"yaxis\":\"y\",\"type\":\"scatter\"},{\"hovertemplate\":\"PERCENT_3_OR_ABOVE=70.880587058\\u003cextra\\u003e\\u003c\\u002fextra\\u003e\",\"legendgroup\":\"70.880587058\",\"line\":{\"color\":\"darkblue\"},\"marker\":{\"color\":\"#636efa\",\"symbol\":\"circle\"},\"mode\":\"lines\",\"name\":\"70.880587058\",\"showlegend\":false,\"xaxis\":\"x\",\"yaxis\":\"y\",\"type\":\"scatter\"},{\"hovertemplate\":\"PERCENT_3_OR_ABOVE=%{y}\\u003cbr\\u003eclosest_five_public_avg=%{x}\\u003cextra\\u003e\\u003c\\u002fextra\\u003e\",\"legendgroup\":\"47.535211268\",\"marker\":{\"color\":\"#EF553B\",\"symbol\":\"circle\"},\"mode\":\"markers\",\"name\":\"47.535211268\",\"orientation\":\"h\",\"showlegend\":true,\"x\":[45.08431848781823],\"xaxis\":\"x\",\"y\":[\"47.535211268\"],\"yaxis\":\"y\",\"type\":\"scatter\"},{\"hovertemplate\":\"PERCENT_3_OR_ABOVE=47.535211268\\u003cextra\\u003e\\u003c\\u002fextra\\u003e\",\"legendgroup\":\"47.535211268\",\"line\":{\"color\":\"darkblue\"},\"marker\":{\"color\":\"#EF553B\",\"symbol\":\"circle\"},\"mode\":\"lines\",\"name\":\"47.535211268\",\"showlegend\":false,\"xaxis\":\"x\",\"yaxis\":\"y\",\"type\":\"scatter\"},{\"hovertemplate\":\"PERCENT_3_OR_ABOVE=%{y}\\u003cbr\\u003eclosest_five_public_avg=%{x}\\u003cextra\\u003e\\u003c\\u002fextra\\u003e\",\"legendgroup\":\"44.751381215\",\"marker\":{\"color\":\"#00cc96\",\"symbol\":\"circle\"},\"mode\":\"markers\",\"name\":\"44.751381215\",\"orientation\":\"h\",\"showlegend\":true,\"x\":[26.08446848111638],\"xaxis\":\"x\",\"y\":[\"44.751381215\"],\"yaxis\":\"y\",\"type\":\"scatter\"},{\"hovertemplate\":\"PERCENT_3_OR_ABOVE=44.751381215\\u003cextra\\u003e\\u003c\\u002fextra\\u003e\",\"legendgroup\":\"44.751381215\",\"line\":{\"color\":\"darkblue\"},\"marker\":{\"color\":\"#00cc96\",\"symbol\":\"circle\"},\"mode\":\"lines\",\"name\":\"44.751381215\",\"showlegend\":false,\"xaxis\":\"x\",\"yaxis\":\"y\",\"type\":\"scatter\"},{\"hovertemplate\":\"PERCENT_3_OR_ABOVE=%{y}\\u003cbr\\u003eclosest_five_public_avg=%{x}\\u003cextra\\u003e\\u003c\\u002fextra\\u003e\",\"legendgroup\":\"47.368421053\",\"marker\":{\"color\":\"#ab63fa\",\"symbol\":\"circle\"},\"mode\":\"markers\",\"name\":\"47.368421053\",\"orientation\":\"h\",\"showlegend\":true,\"x\":[54.90530060945978],\"xaxis\":\"x\",\"y\":[\"47.368421053\"],\"yaxis\":\"y\",\"type\":\"scatter\"},{\"hovertemplate\":\"PERCENT_3_OR_ABOVE=47.368421053\\u003cextra\\u003e\\u003c\\u002fextra\\u003e\",\"legendgroup\":\"47.368421053\",\"line\":{\"color\":\"darkblue\"},\"marker\":{\"color\":\"#ab63fa\",\"symbol\":\"circle\"},\"mode\":\"lines\",\"name\":\"47.368421053\",\"showlegend\":false,\"xaxis\":\"x\",\"yaxis\":\"y\",\"type\":\"scatter\"},{\"hovertemplate\":\"PERCENT_3_OR_ABOVE=%{y}\\u003cbr\\u003eclosest_five_public_avg=%{x}\\u003cextra\\u003e\\u003c\\u002fextra\\u003e\",\"legendgroup\":\"24.503311258\",\"marker\":{\"color\":\"#FFA15A\",\"symbol\":\"circle\"},\"mode\":\"markers\",\"name\":\"24.503311258\",\"orientation\":\"h\",\"showlegend\":true,\"x\":[37.82112528029633],\"xaxis\":\"x\",\"y\":[\"24.503311258\"],\"yaxis\":\"y\",\"type\":\"scatter\"},{\"hovertemplate\":\"PERCENT_3_OR_ABOVE=24.503311258\\u003cextra\\u003e\\u003c\\u002fextra\\u003e\",\"legendgroup\":\"24.503311258\",\"line\":{\"color\":\"darkblue\"},\"marker\":{\"color\":\"#FFA15A\",\"symbol\":\"circle\"},\"mode\":\"lines\",\"name\":\"24.503311258\",\"showlegend\":false,\"xaxis\":\"x\",\"yaxis\":\"y\",\"type\":\"scatter\"},{\"hovertemplate\":\"PERCENT_3_OR_ABOVE=%{y}\\u003cbr\\u003eclosest_five_public_avg=%{x}\\u003cextra\\u003e\\u003c\\u002fextra\\u003e\",\"legendgroup\":\"29.268292683\",\"marker\":{\"color\":\"#19d3f3\",\"symbol\":\"circle\"},\"mode\":\"markers\",\"name\":\"29.268292683\",\"orientation\":\"h\",\"showlegend\":true,\"x\":[29.16692482141461],\"xaxis\":\"x\",\"y\":[\"29.268292683\"],\"yaxis\":\"y\",\"type\":\"scatter\"},{\"hovertemplate\":\"PERCENT_3_OR_ABOVE=29.268292683\\u003cextra\\u003e\\u003c\\u002fextra\\u003e\",\"legendgroup\":\"29.268292683\",\"line\":{\"color\":\"darkblue\"},\"marker\":{\"color\":\"#19d3f3\",\"symbol\":\"circle\"},\"mode\":\"lines\",\"name\":\"29.268292683\",\"showlegend\":false,\"xaxis\":\"x\",\"yaxis\":\"y\",\"type\":\"scatter\"},{\"hovertemplate\":\"PERCENT_3_OR_ABOVE=%{y}\\u003cbr\\u003eclosest_five_public_avg=%{x}\\u003cextra\\u003e\\u003c\\u002fextra\\u003e\",\"legendgroup\":\"58.148274684\",\"marker\":{\"color\":\"#FF6692\",\"symbol\":\"circle\"},\"mode\":\"markers\",\"name\":\"58.148274684\",\"orientation\":\"h\",\"showlegend\":true,\"x\":[18.36517380869709],\"xaxis\":\"x\",\"y\":[\"58.148274684\"],\"yaxis\":\"y\",\"type\":\"scatter\"},{\"hovertemplate\":\"PERCENT_3_OR_ABOVE=58.148274684\\u003cextra\\u003e\\u003c\\u002fextra\\u003e\",\"legendgroup\":\"58.148274684\",\"line\":{\"color\":\"darkblue\"},\"marker\":{\"color\":\"#FF6692\",\"symbol\":\"circle\"},\"mode\":\"lines\",\"name\":\"58.148274684\",\"showlegend\":false,\"xaxis\":\"x\",\"yaxis\":\"y\",\"type\":\"scatter\"},{\"hovertemplate\":\"PERCENT_3_OR_ABOVE=%{y}\\u003cbr\\u003eclosest_five_public_avg=%{x}\\u003cextra\\u003e\\u003c\\u002fextra\\u003e\",\"legendgroup\":\"43.561643836\",\"marker\":{\"color\":\"#B6E880\",\"symbol\":\"circle\"},\"mode\":\"markers\",\"name\":\"43.561643836\",\"orientation\":\"h\",\"showlegend\":true,\"x\":[35.63186195560734],\"xaxis\":\"x\",\"y\":[\"43.561643836\"],\"yaxis\":\"y\",\"type\":\"scatter\"},{\"hovertemplate\":\"PERCENT_3_OR_ABOVE=43.561643836\\u003cextra\\u003e\\u003c\\u002fextra\\u003e\",\"legendgroup\":\"43.561643836\",\"line\":{\"color\":\"darkblue\"},\"marker\":{\"color\":\"#B6E880\",\"symbol\":\"circle\"},\"mode\":\"lines\",\"name\":\"43.561643836\",\"showlegend\":false,\"xaxis\":\"x\",\"yaxis\":\"y\",\"type\":\"scatter\"},{\"hovertemplate\":\"PERCENT_3_OR_ABOVE=%{y}\\u003cbr\\u003eclosest_five_public_avg=%{x}\\u003cextra\\u003e\\u003c\\u002fextra\\u003e\",\"legendgroup\":\"44.171779141\",\"marker\":{\"color\":\"#FF97FF\",\"symbol\":\"circle\"},\"mode\":\"markers\",\"name\":\"44.171779141\",\"orientation\":\"h\",\"showlegend\":true,\"x\":[35.12452384318273],\"xaxis\":\"x\",\"y\":[\"44.171779141\"],\"yaxis\":\"y\",\"type\":\"scatter\"},{\"hovertemplate\":\"PERCENT_3_OR_ABOVE=44.171779141\\u003cextra\\u003e\\u003c\\u002fextra\\u003e\",\"legendgroup\":\"44.171779141\",\"line\":{\"color\":\"darkblue\"},\"marker\":{\"color\":\"#FF97FF\",\"symbol\":\"circle\"},\"mode\":\"lines\",\"name\":\"44.171779141\",\"showlegend\":false,\"xaxis\":\"x\",\"yaxis\":\"y\",\"type\":\"scatter\"},{\"hovertemplate\":\"PERCENT_3_OR_ABOVE=%{y}\\u003cbr\\u003eclosest_five_public_avg=%{x}\\u003cextra\\u003e\\u003c\\u002fextra\\u003e\",\"legendgroup\":\"66.371681416\",\"marker\":{\"color\":\"#FECB52\",\"symbol\":\"circle\"},\"mode\":\"markers\",\"name\":\"66.371681416\",\"orientation\":\"h\",\"showlegend\":true,\"x\":[23.01038041983612],\"xaxis\":\"x\",\"y\":[\"66.371681416\"],\"yaxis\":\"y\",\"type\":\"scatter\"},{\"hovertemplate\":\"PERCENT_3_OR_ABOVE=66.371681416\\u003cextra\\u003e\\u003c\\u002fextra\\u003e\",\"legendgroup\":\"66.371681416\",\"line\":{\"color\":\"darkblue\"},\"marker\":{\"color\":\"#FECB52\",\"symbol\":\"circle\"},\"mode\":\"lines\",\"name\":\"66.371681416\",\"showlegend\":false,\"xaxis\":\"x\",\"yaxis\":\"y\",\"type\":\"scatter\"},{\"hovertemplate\":\"PERCENT_3_OR_ABOVE=%{y}\\u003cbr\\u003eclosest_five_public_avg=%{x}\\u003cextra\\u003e\\u003c\\u002fextra\\u003e\",\"legendgroup\":\"37.435897436\",\"marker\":{\"color\":\"#636efa\",\"symbol\":\"circle\"},\"mode\":\"markers\",\"name\":\"37.435897436\",\"orientation\":\"h\",\"showlegend\":true,\"x\":[33.63598770975209],\"xaxis\":\"x\",\"y\":[\"37.435897436\"],\"yaxis\":\"y\",\"type\":\"scatter\"},{\"hovertemplate\":\"PERCENT_3_OR_ABOVE=37.435897436\\u003cextra\\u003e\\u003c\\u002fextra\\u003e\",\"legendgroup\":\"37.435897436\",\"line\":{\"color\":\"darkblue\"},\"marker\":{\"color\":\"#636efa\",\"symbol\":\"circle\"},\"mode\":\"lines\",\"name\":\"37.435897436\",\"showlegend\":false,\"xaxis\":\"x\",\"yaxis\":\"y\",\"type\":\"scatter\"},{\"hovertemplate\":\"PERCENT_3_OR_ABOVE=%{y}\\u003cbr\\u003eclosest_five_public_avg=%{x}\\u003cextra\\u003e\\u003c\\u002fextra\\u003e\",\"legendgroup\":\"65.517241379\",\"marker\":{\"color\":\"#EF553B\",\"symbol\":\"circle\"},\"mode\":\"markers\",\"name\":\"65.517241379\",\"orientation\":\"h\",\"showlegend\":true,\"x\":[38.65793850303094],\"xaxis\":\"x\",\"y\":[\"65.517241379\"],\"yaxis\":\"y\",\"type\":\"scatter\"},{\"hovertemplate\":\"PERCENT_3_OR_ABOVE=65.517241379\\u003cextra\\u003e\\u003c\\u002fextra\\u003e\",\"legendgroup\":\"65.517241379\",\"line\":{\"color\":\"darkblue\"},\"marker\":{\"color\":\"#EF553B\",\"symbol\":\"circle\"},\"mode\":\"lines\",\"name\":\"65.517241379\",\"showlegend\":false,\"xaxis\":\"x\",\"yaxis\":\"y\",\"type\":\"scatter\"},{\"hovertemplate\":\"PERCENT_3_OR_ABOVE=%{y}\\u003cbr\\u003eclosest_five_public_avg=%{x}\\u003cextra\\u003e\\u003c\\u002fextra\\u003e\",\"legendgroup\":\"55.628415301\",\"marker\":{\"color\":\"#00cc96\",\"symbol\":\"circle\"},\"mode\":\"markers\",\"name\":\"55.628415301\",\"orientation\":\"h\",\"showlegend\":true,\"x\":[33.55450405609228],\"xaxis\":\"x\",\"y\":[\"55.628415301\"],\"yaxis\":\"y\",\"type\":\"scatter\"},{\"hovertemplate\":\"PERCENT_3_OR_ABOVE=55.628415301\\u003cextra\\u003e\\u003c\\u002fextra\\u003e\",\"legendgroup\":\"55.628415301\",\"line\":{\"color\":\"darkblue\"},\"marker\":{\"color\":\"#00cc96\",\"symbol\":\"circle\"},\"mode\":\"lines\",\"name\":\"55.628415301\",\"showlegend\":false,\"xaxis\":\"x\",\"yaxis\":\"y\",\"type\":\"scatter\"},{\"hovertemplate\":\"PERCENT_3_OR_ABOVE=%{y}\\u003cbr\\u003eclosest_five_public_avg=%{x}\\u003cextra\\u003e\\u003c\\u002fextra\\u003e\",\"legendgroup\":\"53.459119497\",\"marker\":{\"color\":\"#ab63fa\",\"symbol\":\"circle\"},\"mode\":\"markers\",\"name\":\"53.459119497\",\"orientation\":\"h\",\"showlegend\":true,\"x\":[36.81886657939627],\"xaxis\":\"x\",\"y\":[\"53.459119497\"],\"yaxis\":\"y\",\"type\":\"scatter\"},{\"hovertemplate\":\"PERCENT_3_OR_ABOVE=53.459119497\\u003cextra\\u003e\\u003c\\u002fextra\\u003e\",\"legendgroup\":\"53.459119497\",\"line\":{\"color\":\"darkblue\"},\"marker\":{\"color\":\"#ab63fa\",\"symbol\":\"circle\"},\"mode\":\"lines\",\"name\":\"53.459119497\",\"showlegend\":false,\"xaxis\":\"x\",\"yaxis\":\"y\",\"type\":\"scatter\"},{\"hovertemplate\":\"PERCENT_3_OR_ABOVE=%{y}\\u003cbr\\u003eclosest_five_public_avg=%{x}\\u003cextra\\u003e\\u003c\\u002fextra\\u003e\",\"legendgroup\":\"28.421052632\",\"marker\":{\"color\":\"#FFA15A\",\"symbol\":\"circle\"},\"mode\":\"markers\",\"name\":\"28.421052632\",\"orientation\":\"h\",\"showlegend\":true,\"x\":[34.49638072834065],\"xaxis\":\"x\",\"y\":[\"28.421052632\"],\"yaxis\":\"y\",\"type\":\"scatter\"},{\"hovertemplate\":\"PERCENT_3_OR_ABOVE=28.421052632\\u003cextra\\u003e\\u003c\\u002fextra\\u003e\",\"legendgroup\":\"28.421052632\",\"line\":{\"color\":\"darkblue\"},\"marker\":{\"color\":\"#FFA15A\",\"symbol\":\"circle\"},\"mode\":\"lines\",\"name\":\"28.421052632\",\"showlegend\":false,\"xaxis\":\"x\",\"yaxis\":\"y\",\"type\":\"scatter\"},{\"hovertemplate\":\"PERCENT_3_OR_ABOVE=%{y}\\u003cbr\\u003eclosest_five_public_avg=%{x}\\u003cextra\\u003e\\u003c\\u002fextra\\u003e\",\"legendgroup\":\"50.54200542\",\"marker\":{\"color\":\"#19d3f3\",\"symbol\":\"circle\"},\"mode\":\"markers\",\"name\":\"50.54200542\",\"orientation\":\"h\",\"showlegend\":true,\"x\":[33.0368606239668],\"xaxis\":\"x\",\"y\":[\"50.54200542\"],\"yaxis\":\"y\",\"type\":\"scatter\"},{\"hovertemplate\":\"PERCENT_3_OR_ABOVE=50.54200542\\u003cextra\\u003e\\u003c\\u002fextra\\u003e\",\"legendgroup\":\"50.54200542\",\"line\":{\"color\":\"darkblue\"},\"marker\":{\"color\":\"#19d3f3\",\"symbol\":\"circle\"},\"mode\":\"lines\",\"name\":\"50.54200542\",\"showlegend\":false,\"xaxis\":\"x\",\"yaxis\":\"y\",\"type\":\"scatter\"},{\"hovertemplate\":\"PERCENT_3_OR_ABOVE=%{y}\\u003cbr\\u003eclosest_five_public_avg=%{x}\\u003cextra\\u003e\\u003c\\u002fextra\\u003e\",\"legendgroup\":\"52.380952381\",\"marker\":{\"color\":\"#FF6692\",\"symbol\":\"circle\"},\"mode\":\"markers\",\"name\":\"52.380952381\",\"orientation\":\"h\",\"showlegend\":true,\"x\":[39.74179462622002],\"xaxis\":\"x\",\"y\":[\"52.380952381\"],\"yaxis\":\"y\",\"type\":\"scatter\"},{\"hovertemplate\":\"PERCENT_3_OR_ABOVE=52.380952381\\u003cextra\\u003e\\u003c\\u002fextra\\u003e\",\"legendgroup\":\"52.380952381\",\"line\":{\"color\":\"darkblue\"},\"marker\":{\"color\":\"#FF6692\",\"symbol\":\"circle\"},\"mode\":\"lines\",\"name\":\"52.380952381\",\"showlegend\":false,\"xaxis\":\"x\",\"yaxis\":\"y\",\"type\":\"scatter\"},{\"hovertemplate\":\"PERCENT_3_OR_ABOVE=%{y}\\u003cbr\\u003eclosest_five_public_avg=%{x}\\u003cextra\\u003e\\u003c\\u002fextra\\u003e\",\"legendgroup\":\"27.272727273\",\"marker\":{\"color\":\"#B6E880\",\"symbol\":\"circle\"},\"mode\":\"markers\",\"name\":\"27.272727273\",\"orientation\":\"h\",\"showlegend\":true,\"x\":[45.91500786703597],\"xaxis\":\"x\",\"y\":[\"27.272727273\"],\"yaxis\":\"y\",\"type\":\"scatter\"},{\"hovertemplate\":\"PERCENT_3_OR_ABOVE=27.272727273\\u003cextra\\u003e\\u003c\\u002fextra\\u003e\",\"legendgroup\":\"27.272727273\",\"line\":{\"color\":\"darkblue\"},\"marker\":{\"color\":\"#B6E880\",\"symbol\":\"circle\"},\"mode\":\"lines\",\"name\":\"27.272727273\",\"showlegend\":false,\"xaxis\":\"x\",\"yaxis\":\"y\",\"type\":\"scatter\"},{\"hovertemplate\":\"PERCENT_3_OR_ABOVE=%{y}\\u003cbr\\u003eclosest_five_public_avg=%{x}\\u003cextra\\u003e\\u003c\\u002fextra\\u003e\",\"legendgroup\":\"43.835616438\",\"marker\":{\"color\":\"#FF97FF\",\"symbol\":\"circle\"},\"mode\":\"markers\",\"name\":\"43.835616438\",\"orientation\":\"h\",\"showlegend\":true,\"x\":[0.0],\"xaxis\":\"x\",\"y\":[\"43.835616438\"],\"yaxis\":\"y\",\"type\":\"scatter\"},{\"hovertemplate\":\"PERCENT_3_OR_ABOVE=43.835616438\\u003cextra\\u003e\\u003c\\u002fextra\\u003e\",\"legendgroup\":\"43.835616438\",\"line\":{\"color\":\"darkblue\"},\"marker\":{\"color\":\"#FF97FF\",\"symbol\":\"circle\"},\"mode\":\"lines\",\"name\":\"43.835616438\",\"showlegend\":false,\"xaxis\":\"x\",\"yaxis\":\"y\",\"type\":\"scatter\"},{\"hovertemplate\":\"PERCENT_3_OR_ABOVE=%{y}\\u003cbr\\u003eclosest_five_public_avg=%{x}\\u003cextra\\u003e\\u003c\\u002fextra\\u003e\",\"legendgroup\":\"63.566535188\",\"marker\":{\"color\":\"#FECB52\",\"symbol\":\"circle\"},\"mode\":\"markers\",\"name\":\"63.566535188\",\"orientation\":\"h\",\"showlegend\":true,\"x\":[19.39988030137827],\"xaxis\":\"x\",\"y\":[\"63.566535188\"],\"yaxis\":\"y\",\"type\":\"scatter\"},{\"hovertemplate\":\"PERCENT_3_OR_ABOVE=63.566535188\\u003cextra\\u003e\\u003c\\u002fextra\\u003e\",\"legendgroup\":\"63.566535188\",\"line\":{\"color\":\"darkblue\"},\"marker\":{\"color\":\"#FECB52\",\"symbol\":\"circle\"},\"mode\":\"lines\",\"name\":\"63.566535188\",\"showlegend\":false,\"xaxis\":\"x\",\"yaxis\":\"y\",\"type\":\"scatter\"},{\"hovertemplate\":\"PERCENT_3_OR_ABOVE=%{y}\\u003cbr\\u003eclosest_five_public_avg=%{x}\\u003cextra\\u003e\\u003c\\u002fextra\\u003e\",\"legendgroup\":\"47.826086957\",\"marker\":{\"color\":\"#636efa\",\"symbol\":\"circle\"},\"mode\":\"markers\",\"name\":\"47.826086957\",\"orientation\":\"h\",\"showlegend\":true,\"x\":[39.77903102320771],\"xaxis\":\"x\",\"y\":[\"47.826086957\"],\"yaxis\":\"y\",\"type\":\"scatter\"},{\"hovertemplate\":\"PERCENT_3_OR_ABOVE=47.826086957\\u003cextra\\u003e\\u003c\\u002fextra\\u003e\",\"legendgroup\":\"47.826086957\",\"line\":{\"color\":\"darkblue\"},\"marker\":{\"color\":\"#636efa\",\"symbol\":\"circle\"},\"mode\":\"lines\",\"name\":\"47.826086957\",\"showlegend\":false,\"xaxis\":\"x\",\"yaxis\":\"y\",\"type\":\"scatter\"},{\"hovertemplate\":\"PERCENT_3_OR_ABOVE=%{y}\\u003cbr\\u003eclosest_five_public_avg=%{x}\\u003cextra\\u003e\\u003c\\u002fextra\\u003e\",\"legendgroup\":\"69.714285714\",\"marker\":{\"color\":\"#EF553B\",\"symbol\":\"circle\"},\"mode\":\"markers\",\"name\":\"69.714285714\",\"orientation\":\"h\",\"showlegend\":true,\"x\":[36.80345630757072],\"xaxis\":\"x\",\"y\":[\"69.714285714\"],\"yaxis\":\"y\",\"type\":\"scatter\"},{\"hovertemplate\":\"PERCENT_3_OR_ABOVE=69.714285714\\u003cextra\\u003e\\u003c\\u002fextra\\u003e\",\"legendgroup\":\"69.714285714\",\"line\":{\"color\":\"darkblue\"},\"marker\":{\"color\":\"#EF553B\",\"symbol\":\"circle\"},\"mode\":\"lines\",\"name\":\"69.714285714\",\"showlegend\":false,\"xaxis\":\"x\",\"yaxis\":\"y\",\"type\":\"scatter\"},{\"hovertemplate\":\"PERCENT_3_OR_ABOVE=%{y}\\u003cbr\\u003eclosest_five_public_avg=%{x}\\u003cextra\\u003e\\u003c\\u002fextra\\u003e\",\"legendgroup\":\"65.967365967\",\"marker\":{\"color\":\"#00cc96\",\"symbol\":\"circle\"},\"mode\":\"markers\",\"name\":\"65.967365967\",\"orientation\":\"h\",\"showlegend\":true,\"x\":[40.24518950296372],\"xaxis\":\"x\",\"y\":[\"65.967365967\"],\"yaxis\":\"y\",\"type\":\"scatter\"},{\"hovertemplate\":\"PERCENT_3_OR_ABOVE=65.967365967\\u003cextra\\u003e\\u003c\\u002fextra\\u003e\",\"legendgroup\":\"65.967365967\",\"line\":{\"color\":\"darkblue\"},\"marker\":{\"color\":\"#00cc96\",\"symbol\":\"circle\"},\"mode\":\"lines\",\"name\":\"65.967365967\",\"showlegend\":false,\"xaxis\":\"x\",\"yaxis\":\"y\",\"type\":\"scatter\"},{\"hovertemplate\":\"PERCENT_3_OR_ABOVE=%{y}\\u003cbr\\u003eclosest_five_public_avg=%{x}\\u003cextra\\u003e\\u003c\\u002fextra\\u003e\",\"legendgroup\":\"40.822467402\",\"marker\":{\"color\":\"#ab63fa\",\"symbol\":\"circle\"},\"mode\":\"markers\",\"name\":\"40.822467402\",\"orientation\":\"h\",\"showlegend\":true,\"x\":[46.46017788412614],\"xaxis\":\"x\",\"y\":[\"40.822467402\"],\"yaxis\":\"y\",\"type\":\"scatter\"},{\"hovertemplate\":\"PERCENT_3_OR_ABOVE=40.822467402\\u003cextra\\u003e\\u003c\\u002fextra\\u003e\",\"legendgroup\":\"40.822467402\",\"line\":{\"color\":\"darkblue\"},\"marker\":{\"color\":\"#ab63fa\",\"symbol\":\"circle\"},\"mode\":\"lines\",\"name\":\"40.822467402\",\"showlegend\":false,\"xaxis\":\"x\",\"yaxis\":\"y\",\"type\":\"scatter\"},{\"hovertemplate\":\"PERCENT_3_OR_ABOVE=%{y}\\u003cbr\\u003eclosest_five_public_avg=%{x}\\u003cextra\\u003e\\u003c\\u002fextra\\u003e\",\"legendgroup\":\"70.983213429\",\"marker\":{\"color\":\"#FFA15A\",\"symbol\":\"circle\"},\"mode\":\"markers\",\"name\":\"70.983213429\",\"orientation\":\"h\",\"showlegend\":true,\"x\":[25.7453511024097],\"xaxis\":\"x\",\"y\":[\"70.983213429\"],\"yaxis\":\"y\",\"type\":\"scatter\"},{\"hovertemplate\":\"PERCENT_3_OR_ABOVE=70.983213429\\u003cextra\\u003e\\u003c\\u002fextra\\u003e\",\"legendgroup\":\"70.983213429\",\"line\":{\"color\":\"darkblue\"},\"marker\":{\"color\":\"#FFA15A\",\"symbol\":\"circle\"},\"mode\":\"lines\",\"name\":\"70.983213429\",\"showlegend\":false,\"xaxis\":\"x\",\"yaxis\":\"y\",\"type\":\"scatter\"},{\"hovertemplate\":\"PERCENT_3_OR_ABOVE=%{y}\\u003cbr\\u003eclosest_five_public_avg=%{x}\\u003cextra\\u003e\\u003c\\u002fextra\\u003e\",\"legendgroup\":\"19.047619048\",\"marker\":{\"color\":\"#19d3f3\",\"symbol\":\"circle\"},\"mode\":\"markers\",\"name\":\"19.047619048\",\"orientation\":\"h\",\"showlegend\":true,\"x\":[42.26669566810224],\"xaxis\":\"x\",\"y\":[\"19.047619048\"],\"yaxis\":\"y\",\"type\":\"scatter\"},{\"hovertemplate\":\"PERCENT_3_OR_ABOVE=19.047619048\\u003cextra\\u003e\\u003c\\u002fextra\\u003e\",\"legendgroup\":\"19.047619048\",\"line\":{\"color\":\"darkblue\"},\"marker\":{\"color\":\"#19d3f3\",\"symbol\":\"circle\"},\"mode\":\"lines\",\"name\":\"19.047619048\",\"showlegend\":false,\"xaxis\":\"x\",\"yaxis\":\"y\",\"type\":\"scatter\"},{\"hovertemplate\":\"PERCENT_3_OR_ABOVE=%{y}\\u003cbr\\u003eclosest_five_public_avg=%{x}\\u003cextra\\u003e\\u003c\\u002fextra\\u003e\",\"legendgroup\":\"64.401294498\",\"marker\":{\"color\":\"#FF6692\",\"symbol\":\"circle\"},\"mode\":\"markers\",\"name\":\"64.401294498\",\"orientation\":\"h\",\"showlegend\":true,\"x\":[45.883640886125015],\"xaxis\":\"x\",\"y\":[\"64.401294498\"],\"yaxis\":\"y\",\"type\":\"scatter\"},{\"hovertemplate\":\"PERCENT_3_OR_ABOVE=64.401294498\\u003cextra\\u003e\\u003c\\u002fextra\\u003e\",\"legendgroup\":\"64.401294498\",\"line\":{\"color\":\"darkblue\"},\"marker\":{\"color\":\"#FF6692\",\"symbol\":\"circle\"},\"mode\":\"lines\",\"name\":\"64.401294498\",\"showlegend\":false,\"xaxis\":\"x\",\"yaxis\":\"y\",\"type\":\"scatter\"},{\"hovertemplate\":\"PERCENT_3_OR_ABOVE=%{y}\\u003cbr\\u003eclosest_five_public_avg=%{x}\\u003cextra\\u003e\\u003c\\u002fextra\\u003e\",\"legendgroup\":\"66.666666667\",\"marker\":{\"color\":\"#B6E880\",\"symbol\":\"circle\"},\"mode\":\"markers\",\"name\":\"66.666666667\",\"orientation\":\"h\",\"showlegend\":true,\"x\":[48.01213358556199],\"xaxis\":\"x\",\"y\":[\"66.666666667\"],\"yaxis\":\"y\",\"type\":\"scatter\"},{\"hovertemplate\":\"PERCENT_3_OR_ABOVE=66.666666667\\u003cextra\\u003e\\u003c\\u002fextra\\u003e\",\"legendgroup\":\"66.666666667\",\"line\":{\"color\":\"darkblue\"},\"marker\":{\"color\":\"#B6E880\",\"symbol\":\"circle\"},\"mode\":\"lines\",\"name\":\"66.666666667\",\"showlegend\":false,\"xaxis\":\"x\",\"yaxis\":\"y\",\"type\":\"scatter\"},{\"hovertemplate\":\"PERCENT_3_OR_ABOVE=%{y}\\u003cbr\\u003eclosest_five_public_avg=%{x}\\u003cextra\\u003e\\u003c\\u002fextra\\u003e\",\"legendgroup\":\"43.689320388\",\"marker\":{\"color\":\"#FF97FF\",\"symbol\":\"circle\"},\"mode\":\"markers\",\"name\":\"43.689320388\",\"orientation\":\"h\",\"showlegend\":true,\"x\":[37.118503754736],\"xaxis\":\"x\",\"y\":[\"43.689320388\"],\"yaxis\":\"y\",\"type\":\"scatter\"},{\"hovertemplate\":\"PERCENT_3_OR_ABOVE=43.689320388\\u003cextra\\u003e\\u003c\\u002fextra\\u003e\",\"legendgroup\":\"43.689320388\",\"line\":{\"color\":\"darkblue\"},\"marker\":{\"color\":\"#FF97FF\",\"symbol\":\"circle\"},\"mode\":\"lines\",\"name\":\"43.689320388\",\"showlegend\":false,\"xaxis\":\"x\",\"yaxis\":\"y\",\"type\":\"scatter\"},{\"hovertemplate\":\"PERCENT_3_OR_ABOVE=%{y}\\u003cbr\\u003eclosest_five_public_avg=%{x}\\u003cextra\\u003e\\u003c\\u002fextra\\u003e\",\"legendgroup\":\"52.443384982\",\"marker\":{\"color\":\"#FECB52\",\"symbol\":\"circle\"},\"mode\":\"markers\",\"name\":\"52.443384982\",\"orientation\":\"h\",\"showlegend\":true,\"x\":[23.687410891834038],\"xaxis\":\"x\",\"y\":[\"52.443384982\"],\"yaxis\":\"y\",\"type\":\"scatter\"},{\"hovertemplate\":\"PERCENT_3_OR_ABOVE=52.443384982\\u003cextra\\u003e\\u003c\\u002fextra\\u003e\",\"legendgroup\":\"52.443384982\",\"line\":{\"color\":\"darkblue\"},\"marker\":{\"color\":\"#FECB52\",\"symbol\":\"circle\"},\"mode\":\"lines\",\"name\":\"52.443384982\",\"showlegend\":false,\"xaxis\":\"x\",\"yaxis\":\"y\",\"type\":\"scatter\"},{\"hovertemplate\":\"PERCENT_3_OR_ABOVE=%{y}\\u003cbr\\u003eclosest_five_public_avg=%{x}\\u003cextra\\u003e\\u003c\\u002fextra\\u003e\",\"legendgroup\":\"70\",\"marker\":{\"color\":\"#636efa\",\"symbol\":\"circle\"},\"mode\":\"markers\",\"name\":\"70\",\"orientation\":\"h\",\"showlegend\":true,\"x\":[28.720862057174863],\"xaxis\":\"x\",\"y\":[\"70\"],\"yaxis\":\"y\",\"type\":\"scatter\"},{\"hovertemplate\":\"PERCENT_3_OR_ABOVE=70\\u003cextra\\u003e\\u003c\\u002fextra\\u003e\",\"legendgroup\":\"70\",\"line\":{\"color\":\"darkblue\"},\"marker\":{\"color\":\"#636efa\",\"symbol\":\"circle\"},\"mode\":\"lines\",\"name\":\"70\",\"showlegend\":false,\"xaxis\":\"x\",\"yaxis\":\"y\",\"type\":\"scatter\"},{\"hovertemplate\":\"PERCENT_3_OR_ABOVE=%{y}\\u003cbr\\u003eclosest_five_public_avg=%{x}\\u003cextra\\u003e\\u003c\\u002fextra\\u003e\",\"legendgroup\":\"45.862884161\",\"marker\":{\"color\":\"#EF553B\",\"symbol\":\"circle\"},\"mode\":\"markers\",\"name\":\"45.862884161\",\"orientation\":\"h\",\"showlegend\":true,\"x\":[30.92840018394416],\"xaxis\":\"x\",\"y\":[\"45.862884161\"],\"yaxis\":\"y\",\"type\":\"scatter\"},{\"hovertemplate\":\"PERCENT_3_OR_ABOVE=45.862884161\\u003cextra\\u003e\\u003c\\u002fextra\\u003e\",\"legendgroup\":\"45.862884161\",\"line\":{\"color\":\"darkblue\"},\"marker\":{\"color\":\"#EF553B\",\"symbol\":\"circle\"},\"mode\":\"lines\",\"name\":\"45.862884161\",\"showlegend\":false,\"xaxis\":\"x\",\"yaxis\":\"y\",\"type\":\"scatter\"},{\"hovertemplate\":\"PERCENT_3_OR_ABOVE=%{y}\\u003cbr\\u003eclosest_five_public_avg=%{x}\\u003cextra\\u003e\\u003c\\u002fextra\\u003e\",\"legendgroup\":\"26.490066225\",\"marker\":{\"color\":\"#00cc96\",\"symbol\":\"circle\"},\"mode\":\"markers\",\"name\":\"26.490066225\",\"orientation\":\"h\",\"showlegend\":true,\"x\":[34.61778887360801],\"xaxis\":\"x\",\"y\":[\"26.490066225\"],\"yaxis\":\"y\",\"type\":\"scatter\"},{\"hovertemplate\":\"PERCENT_3_OR_ABOVE=26.490066225\\u003cextra\\u003e\\u003c\\u002fextra\\u003e\",\"legendgroup\":\"26.490066225\",\"line\":{\"color\":\"darkblue\"},\"marker\":{\"color\":\"#00cc96\",\"symbol\":\"circle\"},\"mode\":\"lines\",\"name\":\"26.490066225\",\"showlegend\":false,\"xaxis\":\"x\",\"yaxis\":\"y\",\"type\":\"scatter\"},{\"hovertemplate\":\"PERCENT_3_OR_ABOVE=%{y}\\u003cbr\\u003eclosest_five_public_avg=%{x}\\u003cextra\\u003e\\u003c\\u002fextra\\u003e\",\"legendgroup\":\"23.722627737\",\"marker\":{\"color\":\"#ab63fa\",\"symbol\":\"circle\"},\"mode\":\"markers\",\"name\":\"23.722627737\",\"orientation\":\"h\",\"showlegend\":true,\"x\":[29.93289856845642],\"xaxis\":\"x\",\"y\":[\"23.722627737\"],\"yaxis\":\"y\",\"type\":\"scatter\"},{\"hovertemplate\":\"PERCENT_3_OR_ABOVE=23.722627737\\u003cextra\\u003e\\u003c\\u002fextra\\u003e\",\"legendgroup\":\"23.722627737\",\"line\":{\"color\":\"darkblue\"},\"marker\":{\"color\":\"#ab63fa\",\"symbol\":\"circle\"},\"mode\":\"lines\",\"name\":\"23.722627737\",\"showlegend\":false,\"xaxis\":\"x\",\"yaxis\":\"y\",\"type\":\"scatter\"},{\"hovertemplate\":\"PERCENT_3_OR_ABOVE=%{y}\\u003cbr\\u003eclosest_five_public_avg=%{x}\\u003cextra\\u003e\\u003c\\u002fextra\\u003e\",\"legendgroup\":\"39.051094891\",\"marker\":{\"color\":\"#FFA15A\",\"symbol\":\"circle\"},\"mode\":\"markers\",\"name\":\"39.051094891\",\"orientation\":\"h\",\"showlegend\":true,\"x\":[30.178612873139663],\"xaxis\":\"x\",\"y\":[\"39.051094891\"],\"yaxis\":\"y\",\"type\":\"scatter\"},{\"hovertemplate\":\"PERCENT_3_OR_ABOVE=39.051094891\\u003cextra\\u003e\\u003c\\u002fextra\\u003e\",\"legendgroup\":\"39.051094891\",\"line\":{\"color\":\"darkblue\"},\"marker\":{\"color\":\"#FFA15A\",\"symbol\":\"circle\"},\"mode\":\"lines\",\"name\":\"39.051094891\",\"showlegend\":false,\"xaxis\":\"x\",\"yaxis\":\"y\",\"type\":\"scatter\"},{\"hovertemplate\":\"PERCENT_3_OR_ABOVE=%{y}\\u003cbr\\u003eclosest_five_public_avg=%{x}\\u003cextra\\u003e\\u003c\\u002fextra\\u003e\",\"legendgroup\":\"49.101796407\",\"marker\":{\"color\":\"#19d3f3\",\"symbol\":\"circle\"},\"mode\":\"markers\",\"name\":\"49.101796407\",\"orientation\":\"h\",\"showlegend\":true,\"x\":[32.57364310642525],\"xaxis\":\"x\",\"y\":[\"49.101796407\"],\"yaxis\":\"y\",\"type\":\"scatter\"},{\"hovertemplate\":\"PERCENT_3_OR_ABOVE=49.101796407\\u003cextra\\u003e\\u003c\\u002fextra\\u003e\",\"legendgroup\":\"49.101796407\",\"line\":{\"color\":\"darkblue\"},\"marker\":{\"color\":\"#19d3f3\",\"symbol\":\"circle\"},\"mode\":\"lines\",\"name\":\"49.101796407\",\"showlegend\":false,\"xaxis\":\"x\",\"yaxis\":\"y\",\"type\":\"scatter\"},{\"hovertemplate\":\"PERCENT_3_OR_ABOVE=%{y}\\u003cbr\\u003eclosest_five_public_avg=%{x}\\u003cextra\\u003e\\u003c\\u002fextra\\u003e\",\"legendgroup\":\"39.240506329\",\"marker\":{\"color\":\"#FF6692\",\"symbol\":\"circle\"},\"mode\":\"markers\",\"name\":\"39.240506329\",\"orientation\":\"h\",\"showlegend\":true,\"x\":[37.55259722742404],\"xaxis\":\"x\",\"y\":[\"39.240506329\"],\"yaxis\":\"y\",\"type\":\"scatter\"},{\"hovertemplate\":\"PERCENT_3_OR_ABOVE=39.240506329\\u003cextra\\u003e\\u003c\\u002fextra\\u003e\",\"legendgroup\":\"39.240506329\",\"line\":{\"color\":\"darkblue\"},\"marker\":{\"color\":\"#FF6692\",\"symbol\":\"circle\"},\"mode\":\"lines\",\"name\":\"39.240506329\",\"showlegend\":false,\"xaxis\":\"x\",\"yaxis\":\"y\",\"type\":\"scatter\"},{\"hovertemplate\":\"PERCENT_3_OR_ABOVE=%{y}\\u003cbr\\u003eclosest_five_public_avg=%{x}\\u003cextra\\u003e\\u003c\\u002fextra\\u003e\",\"legendgroup\":\"47.959183673\",\"marker\":{\"color\":\"#B6E880\",\"symbol\":\"circle\"},\"mode\":\"markers\",\"name\":\"47.959183673\",\"orientation\":\"h\",\"showlegend\":true,\"x\":[37.44165201525289],\"xaxis\":\"x\",\"y\":[\"47.959183673\"],\"yaxis\":\"y\",\"type\":\"scatter\"},{\"hovertemplate\":\"PERCENT_3_OR_ABOVE=47.959183673\\u003cextra\\u003e\\u003c\\u002fextra\\u003e\",\"legendgroup\":\"47.959183673\",\"line\":{\"color\":\"darkblue\"},\"marker\":{\"color\":\"#B6E880\",\"symbol\":\"circle\"},\"mode\":\"lines\",\"name\":\"47.959183673\",\"showlegend\":false,\"xaxis\":\"x\",\"yaxis\":\"y\",\"type\":\"scatter\"},{\"hovertemplate\":\"PERCENT_3_OR_ABOVE=%{y}\\u003cbr\\u003eclosest_five_public_avg=%{x}\\u003cextra\\u003e\\u003c\\u002fextra\\u003e\",\"legendgroup\":\"52.941176471\",\"marker\":{\"color\":\"#FF97FF\",\"symbol\":\"circle\"},\"mode\":\"markers\",\"name\":\"52.941176471\",\"orientation\":\"h\",\"showlegend\":true,\"x\":[31.843295796584734],\"xaxis\":\"x\",\"y\":[\"52.941176471\"],\"yaxis\":\"y\",\"type\":\"scatter\"},{\"hovertemplate\":\"PERCENT_3_OR_ABOVE=52.941176471\\u003cextra\\u003e\\u003c\\u002fextra\\u003e\",\"legendgroup\":\"52.941176471\",\"line\":{\"color\":\"darkblue\"},\"marker\":{\"color\":\"#FF97FF\",\"symbol\":\"circle\"},\"mode\":\"lines\",\"name\":\"52.941176471\",\"showlegend\":false,\"xaxis\":\"x\",\"yaxis\":\"y\",\"type\":\"scatter\"},{\"hovertemplate\":\"PERCENT_3_OR_ABOVE=%{y}\\u003cbr\\u003eclosest_five_public_avg=%{x}\\u003cextra\\u003e\\u003c\\u002fextra\\u003e\",\"legendgroup\":\"54.918032787\",\"marker\":{\"color\":\"#FECB52\",\"symbol\":\"circle\"},\"mode\":\"markers\",\"name\":\"54.918032787\",\"orientation\":\"h\",\"showlegend\":true,\"x\":[38.82091137692439],\"xaxis\":\"x\",\"y\":[\"54.918032787\"],\"yaxis\":\"y\",\"type\":\"scatter\"},{\"hovertemplate\":\"PERCENT_3_OR_ABOVE=54.918032787\\u003cextra\\u003e\\u003c\\u002fextra\\u003e\",\"legendgroup\":\"54.918032787\",\"line\":{\"color\":\"darkblue\"},\"marker\":{\"color\":\"#FECB52\",\"symbol\":\"circle\"},\"mode\":\"lines\",\"name\":\"54.918032787\",\"showlegend\":false,\"xaxis\":\"x\",\"yaxis\":\"y\",\"type\":\"scatter\"},{\"hovertemplate\":\"PERCENT_3_OR_ABOVE=%{y}\\u003cbr\\u003eclosest_five_public_avg=%{x}\\u003cextra\\u003e\\u003c\\u002fextra\\u003e\",\"legendgroup\":\"52.727272727\",\"marker\":{\"color\":\"#636efa\",\"symbol\":\"circle\"},\"mode\":\"markers\",\"name\":\"52.727272727\",\"orientation\":\"h\",\"showlegend\":true,\"x\":[44.42472926345066],\"xaxis\":\"x\",\"y\":[\"52.727272727\"],\"yaxis\":\"y\",\"type\":\"scatter\"},{\"hovertemplate\":\"PERCENT_3_OR_ABOVE=52.727272727\\u003cextra\\u003e\\u003c\\u002fextra\\u003e\",\"legendgroup\":\"52.727272727\",\"line\":{\"color\":\"darkblue\"},\"marker\":{\"color\":\"#636efa\",\"symbol\":\"circle\"},\"mode\":\"lines\",\"name\":\"52.727272727\",\"showlegend\":false,\"xaxis\":\"x\",\"yaxis\":\"y\",\"type\":\"scatter\"},{\"hovertemplate\":\"PERCENT_3_OR_ABOVE=%{y}\\u003cbr\\u003eclosest_five_public_avg=%{x}\\u003cextra\\u003e\\u003c\\u002fextra\\u003e\",\"legendgroup\":\"55\",\"marker\":{\"color\":\"#EF553B\",\"symbol\":\"circle\"},\"mode\":\"markers\",\"name\":\"55\",\"orientation\":\"h\",\"showlegend\":true,\"x\":[50.0821290071181],\"xaxis\":\"x\",\"y\":[\"55\"],\"yaxis\":\"y\",\"type\":\"scatter\"},{\"hovertemplate\":\"PERCENT_3_OR_ABOVE=55\\u003cextra\\u003e\\u003c\\u002fextra\\u003e\",\"legendgroup\":\"55\",\"line\":{\"color\":\"darkblue\"},\"marker\":{\"color\":\"#EF553B\",\"symbol\":\"circle\"},\"mode\":\"lines\",\"name\":\"55\",\"showlegend\":false,\"xaxis\":\"x\",\"yaxis\":\"y\",\"type\":\"scatter\"},{\"hovertemplate\":\"PERCENT_3_OR_ABOVE=%{y}\\u003cbr\\u003eclosest_five_public_avg=%{x}\\u003cextra\\u003e\\u003c\\u002fextra\\u003e\",\"legendgroup\":\"69.512195122\",\"marker\":{\"color\":\"#00cc96\",\"symbol\":\"circle\"},\"mode\":\"markers\",\"name\":\"69.512195122\",\"orientation\":\"h\",\"showlegend\":true,\"x\":[38.81830622859515],\"xaxis\":\"x\",\"y\":[\"69.512195122\"],\"yaxis\":\"y\",\"type\":\"scatter\"},{\"hovertemplate\":\"PERCENT_3_OR_ABOVE=69.512195122\\u003cextra\\u003e\\u003c\\u002fextra\\u003e\",\"legendgroup\":\"69.512195122\",\"line\":{\"color\":\"darkblue\"},\"marker\":{\"color\":\"#00cc96\",\"symbol\":\"circle\"},\"mode\":\"lines\",\"name\":\"69.512195122\",\"showlegend\":false,\"xaxis\":\"x\",\"yaxis\":\"y\",\"type\":\"scatter\"},{\"hovertemplate\":\"PERCENT_3_OR_ABOVE=%{y}\\u003cbr\\u003eclosest_five_public_avg=%{x}\\u003cextra\\u003e\\u003c\\u002fextra\\u003e\",\"legendgroup\":\"70.89678511\",\"marker\":{\"color\":\"#ab63fa\",\"symbol\":\"circle\"},\"mode\":\"markers\",\"name\":\"70.89678511\",\"orientation\":\"h\",\"showlegend\":true,\"x\":[36.93691098408656],\"xaxis\":\"x\",\"y\":[\"70.89678511\"],\"yaxis\":\"y\",\"type\":\"scatter\"},{\"hovertemplate\":\"PERCENT_3_OR_ABOVE=70.89678511\\u003cextra\\u003e\\u003c\\u002fextra\\u003e\",\"legendgroup\":\"70.89678511\",\"line\":{\"color\":\"darkblue\"},\"marker\":{\"color\":\"#ab63fa\",\"symbol\":\"circle\"},\"mode\":\"lines\",\"name\":\"70.89678511\",\"showlegend\":false,\"xaxis\":\"x\",\"yaxis\":\"y\",\"type\":\"scatter\"},{\"hovertemplate\":\"PERCENT_3_OR_ABOVE=%{y}\\u003cbr\\u003eclosest_five_public_avg=%{x}\\u003cextra\\u003e\\u003c\\u002fextra\\u003e\",\"legendgroup\":\"67.993273543\",\"marker\":{\"color\":\"#FFA15A\",\"symbol\":\"circle\"},\"mode\":\"markers\",\"name\":\"67.993273543\",\"orientation\":\"h\",\"showlegend\":true,\"x\":[23.320155532790587],\"xaxis\":\"x\",\"y\":[\"67.993273543\"],\"yaxis\":\"y\",\"type\":\"scatter\"},{\"hovertemplate\":\"PERCENT_3_OR_ABOVE=67.993273543\\u003cextra\\u003e\\u003c\\u002fextra\\u003e\",\"legendgroup\":\"67.993273543\",\"line\":{\"color\":\"darkblue\"},\"marker\":{\"color\":\"#FFA15A\",\"symbol\":\"circle\"},\"mode\":\"lines\",\"name\":\"67.993273543\",\"showlegend\":false,\"xaxis\":\"x\",\"yaxis\":\"y\",\"type\":\"scatter\"},{\"hovertemplate\":\"PERCENT_3_OR_ABOVE=%{y}\\u003cbr\\u003eclosest_five_public_avg=%{x}\\u003cextra\\u003e\\u003c\\u002fextra\\u003e\",\"legendgroup\":\"74.733096085\",\"marker\":{\"color\":\"#19d3f3\",\"symbol\":\"circle\"},\"mode\":\"markers\",\"name\":\"74.733096085\",\"orientation\":\"h\",\"showlegend\":true,\"x\":[39.16953806056982],\"xaxis\":\"x\",\"y\":[\"74.733096085\"],\"yaxis\":\"y\",\"type\":\"scatter\"},{\"hovertemplate\":\"PERCENT_3_OR_ABOVE=74.733096085\\u003cextra\\u003e\\u003c\\u002fextra\\u003e\",\"legendgroup\":\"74.733096085\",\"line\":{\"color\":\"darkblue\"},\"marker\":{\"color\":\"#19d3f3\",\"symbol\":\"circle\"},\"mode\":\"lines\",\"name\":\"74.733096085\",\"showlegend\":false,\"xaxis\":\"x\",\"yaxis\":\"y\",\"type\":\"scatter\"},{\"hovertemplate\":\"PERCENT_3_OR_ABOVE=%{y}\\u003cbr\\u003eclosest_five_public_avg=%{x}\\u003cextra\\u003e\\u003c\\u002fextra\\u003e\",\"legendgroup\":\"33.054393305\",\"marker\":{\"color\":\"#FF6692\",\"symbol\":\"circle\"},\"mode\":\"markers\",\"name\":\"33.054393305\",\"orientation\":\"h\",\"showlegend\":true,\"x\":[34.06862946446592],\"xaxis\":\"x\",\"y\":[\"33.054393305\"],\"yaxis\":\"y\",\"type\":\"scatter\"},{\"hovertemplate\":\"PERCENT_3_OR_ABOVE=33.054393305\\u003cextra\\u003e\\u003c\\u002fextra\\u003e\",\"legendgroup\":\"33.054393305\",\"line\":{\"color\":\"darkblue\"},\"marker\":{\"color\":\"#FF6692\",\"symbol\":\"circle\"},\"mode\":\"lines\",\"name\":\"33.054393305\",\"showlegend\":false,\"xaxis\":\"x\",\"yaxis\":\"y\",\"type\":\"scatter\"},{\"hovertemplate\":\"PERCENT_3_OR_ABOVE=%{y}\\u003cbr\\u003eclosest_five_public_avg=%{x}\\u003cextra\\u003e\\u003c\\u002fextra\\u003e\",\"legendgroup\":\"49.743589744\",\"marker\":{\"color\":\"#B6E880\",\"symbol\":\"circle\"},\"mode\":\"markers\",\"name\":\"49.743589744\",\"orientation\":\"h\",\"showlegend\":true,\"x\":[40.21171098347889],\"xaxis\":\"x\",\"y\":[\"49.743589744\"],\"yaxis\":\"y\",\"type\":\"scatter\"},{\"hovertemplate\":\"PERCENT_3_OR_ABOVE=49.743589744\\u003cextra\\u003e\\u003c\\u002fextra\\u003e\",\"legendgroup\":\"49.743589744\",\"line\":{\"color\":\"darkblue\"},\"marker\":{\"color\":\"#B6E880\",\"symbol\":\"circle\"},\"mode\":\"lines\",\"name\":\"49.743589744\",\"showlegend\":false,\"xaxis\":\"x\",\"yaxis\":\"y\",\"type\":\"scatter\"},{\"hovertemplate\":\"PERCENT_3_OR_ABOVE=%{y}\\u003cbr\\u003eclosest_five_public_avg=%{x}\\u003cextra\\u003e\\u003c\\u002fextra\\u003e\",\"legendgroup\":\"53.333333333\",\"marker\":{\"color\":\"#FF97FF\",\"symbol\":\"circle\"},\"mode\":\"markers\",\"name\":\"53.333333333\",\"orientation\":\"h\",\"showlegend\":true,\"x\":[29.5321860404835],\"xaxis\":\"x\",\"y\":[\"53.333333333\"],\"yaxis\":\"y\",\"type\":\"scatter\"},{\"hovertemplate\":\"PERCENT_3_OR_ABOVE=53.333333333\\u003cextra\\u003e\\u003c\\u002fextra\\u003e\",\"legendgroup\":\"53.333333333\",\"line\":{\"color\":\"darkblue\"},\"marker\":{\"color\":\"#FF97FF\",\"symbol\":\"circle\"},\"mode\":\"lines\",\"name\":\"53.333333333\",\"showlegend\":false,\"xaxis\":\"x\",\"yaxis\":\"y\",\"type\":\"scatter\"},{\"hovertemplate\":\"PERCENT_3_OR_ABOVE=%{y}\\u003cbr\\u003eclosest_five_public_avg=%{x}\\u003cextra\\u003e\\u003c\\u002fextra\\u003e\",\"legendgroup\":\"42.424242424\",\"marker\":{\"color\":\"#FECB52\",\"symbol\":\"circle\"},\"mode\":\"markers\",\"name\":\"42.424242424\",\"orientation\":\"h\",\"showlegend\":true,\"x\":[37.78277040774233],\"xaxis\":\"x\",\"y\":[\"42.424242424\"],\"yaxis\":\"y\",\"type\":\"scatter\"},{\"hovertemplate\":\"PERCENT_3_OR_ABOVE=42.424242424\\u003cextra\\u003e\\u003c\\u002fextra\\u003e\",\"legendgroup\":\"42.424242424\",\"line\":{\"color\":\"darkblue\"},\"marker\":{\"color\":\"#FECB52\",\"symbol\":\"circle\"},\"mode\":\"lines\",\"name\":\"42.424242424\",\"showlegend\":false,\"xaxis\":\"x\",\"yaxis\":\"y\",\"type\":\"scatter\"},{\"hovertemplate\":\"PERCENT_3_OR_ABOVE=%{y}\\u003cbr\\u003eclosest_five_public_avg=%{x}\\u003cextra\\u003e\\u003c\\u002fextra\\u003e\",\"legendgroup\":\"71.875\",\"marker\":{\"color\":\"#636efa\",\"symbol\":\"circle\"},\"mode\":\"markers\",\"name\":\"71.875\",\"orientation\":\"h\",\"showlegend\":true,\"x\":[39.103300036799695],\"xaxis\":\"x\",\"y\":[\"71.875\"],\"yaxis\":\"y\",\"type\":\"scatter\"},{\"hovertemplate\":\"PERCENT_3_OR_ABOVE=71.875\\u003cextra\\u003e\\u003c\\u002fextra\\u003e\",\"legendgroup\":\"71.875\",\"line\":{\"color\":\"darkblue\"},\"marker\":{\"color\":\"#636efa\",\"symbol\":\"circle\"},\"mode\":\"lines\",\"name\":\"71.875\",\"showlegend\":false,\"xaxis\":\"x\",\"yaxis\":\"y\",\"type\":\"scatter\"}],                        {\"template\":{\"data\":{\"histogram2dcontour\":[{\"type\":\"histogram2dcontour\",\"colorbar\":{\"outlinewidth\":0,\"ticks\":\"\"},\"colorscale\":[[0.0,\"#0d0887\"],[0.1111111111111111,\"#46039f\"],[0.2222222222222222,\"#7201a8\"],[0.3333333333333333,\"#9c179e\"],[0.4444444444444444,\"#bd3786\"],[0.5555555555555556,\"#d8576b\"],[0.6666666666666666,\"#ed7953\"],[0.7777777777777778,\"#fb9f3a\"],[0.8888888888888888,\"#fdca26\"],[1.0,\"#f0f921\"]]}],\"choropleth\":[{\"type\":\"choropleth\",\"colorbar\":{\"outlinewidth\":0,\"ticks\":\"\"}}],\"histogram2d\":[{\"type\":\"histogram2d\",\"colorbar\":{\"outlinewidth\":0,\"ticks\":\"\"},\"colorscale\":[[0.0,\"#0d0887\"],[0.1111111111111111,\"#46039f\"],[0.2222222222222222,\"#7201a8\"],[0.3333333333333333,\"#9c179e\"],[0.4444444444444444,\"#bd3786\"],[0.5555555555555556,\"#d8576b\"],[0.6666666666666666,\"#ed7953\"],[0.7777777777777778,\"#fb9f3a\"],[0.8888888888888888,\"#fdca26\"],[1.0,\"#f0f921\"]]}],\"heatmap\":[{\"type\":\"heatmap\",\"colorbar\":{\"outlinewidth\":0,\"ticks\":\"\"},\"colorscale\":[[0.0,\"#0d0887\"],[0.1111111111111111,\"#46039f\"],[0.2222222222222222,\"#7201a8\"],[0.3333333333333333,\"#9c179e\"],[0.4444444444444444,\"#bd3786\"],[0.5555555555555556,\"#d8576b\"],[0.6666666666666666,\"#ed7953\"],[0.7777777777777778,\"#fb9f3a\"],[0.8888888888888888,\"#fdca26\"],[1.0,\"#f0f921\"]]}],\"heatmapgl\":[{\"type\":\"heatmapgl\",\"colorbar\":{\"outlinewidth\":0,\"ticks\":\"\"},\"colorscale\":[[0.0,\"#0d0887\"],[0.1111111111111111,\"#46039f\"],[0.2222222222222222,\"#7201a8\"],[0.3333333333333333,\"#9c179e\"],[0.4444444444444444,\"#bd3786\"],[0.5555555555555556,\"#d8576b\"],[0.6666666666666666,\"#ed7953\"],[0.7777777777777778,\"#fb9f3a\"],[0.8888888888888888,\"#fdca26\"],[1.0,\"#f0f921\"]]}],\"contourcarpet\":[{\"type\":\"contourcarpet\",\"colorbar\":{\"outlinewidth\":0,\"ticks\":\"\"}}],\"contour\":[{\"type\":\"contour\",\"colorbar\":{\"outlinewidth\":0,\"ticks\":\"\"},\"colorscale\":[[0.0,\"#0d0887\"],[0.1111111111111111,\"#46039f\"],[0.2222222222222222,\"#7201a8\"],[0.3333333333333333,\"#9c179e\"],[0.4444444444444444,\"#bd3786\"],[0.5555555555555556,\"#d8576b\"],[0.6666666666666666,\"#ed7953\"],[0.7777777777777778,\"#fb9f3a\"],[0.8888888888888888,\"#fdca26\"],[1.0,\"#f0f921\"]]}],\"surface\":[{\"type\":\"surface\",\"colorbar\":{\"outlinewidth\":0,\"ticks\":\"\"},\"colorscale\":[[0.0,\"#0d0887\"],[0.1111111111111111,\"#46039f\"],[0.2222222222222222,\"#7201a8\"],[0.3333333333333333,\"#9c179e\"],[0.4444444444444444,\"#bd3786\"],[0.5555555555555556,\"#d8576b\"],[0.6666666666666666,\"#ed7953\"],[0.7777777777777778,\"#fb9f3a\"],[0.8888888888888888,\"#fdca26\"],[1.0,\"#f0f921\"]]}],\"mesh3d\":[{\"type\":\"mesh3d\",\"colorbar\":{\"outlinewidth\":0,\"ticks\":\"\"}}],\"scatter\":[{\"fillpattern\":{\"fillmode\":\"overlay\",\"size\":10,\"solidity\":0.2},\"type\":\"scatter\"}],\"parcoords\":[{\"type\":\"parcoords\",\"line\":{\"colorbar\":{\"outlinewidth\":0,\"ticks\":\"\"}}}],\"scatterpolargl\":[{\"type\":\"scatterpolargl\",\"marker\":{\"colorbar\":{\"outlinewidth\":0,\"ticks\":\"\"}}}],\"bar\":[{\"error_x\":{\"color\":\"#2a3f5f\"},\"error_y\":{\"color\":\"#2a3f5f\"},\"marker\":{\"line\":{\"color\":\"#E5ECF6\",\"width\":0.5},\"pattern\":{\"fillmode\":\"overlay\",\"size\":10,\"solidity\":0.2}},\"type\":\"bar\"}],\"scattergeo\":[{\"type\":\"scattergeo\",\"marker\":{\"colorbar\":{\"outlinewidth\":0,\"ticks\":\"\"}}}],\"scatterpolar\":[{\"type\":\"scatterpolar\",\"marker\":{\"colorbar\":{\"outlinewidth\":0,\"ticks\":\"\"}}}],\"histogram\":[{\"marker\":{\"pattern\":{\"fillmode\":\"overlay\",\"size\":10,\"solidity\":0.2}},\"type\":\"histogram\"}],\"scattergl\":[{\"type\":\"scattergl\",\"marker\":{\"colorbar\":{\"outlinewidth\":0,\"ticks\":\"\"}}}],\"scatter3d\":[{\"type\":\"scatter3d\",\"line\":{\"colorbar\":{\"outlinewidth\":0,\"ticks\":\"\"}},\"marker\":{\"colorbar\":{\"outlinewidth\":0,\"ticks\":\"\"}}}],\"scattermapbox\":[{\"type\":\"scattermapbox\",\"marker\":{\"colorbar\":{\"outlinewidth\":0,\"ticks\":\"\"}}}],\"scatterternary\":[{\"type\":\"scatterternary\",\"marker\":{\"colorbar\":{\"outlinewidth\":0,\"ticks\":\"\"}}}],\"scattercarpet\":[{\"type\":\"scattercarpet\",\"marker\":{\"colorbar\":{\"outlinewidth\":0,\"ticks\":\"\"}}}],\"carpet\":[{\"aaxis\":{\"endlinecolor\":\"#2a3f5f\",\"gridcolor\":\"white\",\"linecolor\":\"white\",\"minorgridcolor\":\"white\",\"startlinecolor\":\"#2a3f5f\"},\"baxis\":{\"endlinecolor\":\"#2a3f5f\",\"gridcolor\":\"white\",\"linecolor\":\"white\",\"minorgridcolor\":\"white\",\"startlinecolor\":\"#2a3f5f\"},\"type\":\"carpet\"}],\"table\":[{\"cells\":{\"fill\":{\"color\":\"#EBF0F8\"},\"line\":{\"color\":\"white\"}},\"header\":{\"fill\":{\"color\":\"#C8D4E3\"},\"line\":{\"color\":\"white\"}},\"type\":\"table\"}],\"barpolar\":[{\"marker\":{\"line\":{\"color\":\"#E5ECF6\",\"width\":0.5},\"pattern\":{\"fillmode\":\"overlay\",\"size\":10,\"solidity\":0.2}},\"type\":\"barpolar\"}],\"pie\":[{\"automargin\":true,\"type\":\"pie\"}]},\"layout\":{\"autotypenumbers\":\"strict\",\"colorway\":[\"#636efa\",\"#EF553B\",\"#00cc96\",\"#ab63fa\",\"#FFA15A\",\"#19d3f3\",\"#FF6692\",\"#B6E880\",\"#FF97FF\",\"#FECB52\"],\"font\":{\"color\":\"#2a3f5f\"},\"hovermode\":\"closest\",\"hoverlabel\":{\"align\":\"left\"},\"paper_bgcolor\":\"white\",\"plot_bgcolor\":\"#E5ECF6\",\"polar\":{\"bgcolor\":\"#E5ECF6\",\"angularaxis\":{\"gridcolor\":\"white\",\"linecolor\":\"white\",\"ticks\":\"\"},\"radialaxis\":{\"gridcolor\":\"white\",\"linecolor\":\"white\",\"ticks\":\"\"}},\"ternary\":{\"bgcolor\":\"#E5ECF6\",\"aaxis\":{\"gridcolor\":\"white\",\"linecolor\":\"white\",\"ticks\":\"\"},\"baxis\":{\"gridcolor\":\"white\",\"linecolor\":\"white\",\"ticks\":\"\"},\"caxis\":{\"gridcolor\":\"white\",\"linecolor\":\"white\",\"ticks\":\"\"}},\"coloraxis\":{\"colorbar\":{\"outlinewidth\":0,\"ticks\":\"\"}},\"colorscale\":{\"sequential\":[[0.0,\"#0d0887\"],[0.1111111111111111,\"#46039f\"],[0.2222222222222222,\"#7201a8\"],[0.3333333333333333,\"#9c179e\"],[0.4444444444444444,\"#bd3786\"],[0.5555555555555556,\"#d8576b\"],[0.6666666666666666,\"#ed7953\"],[0.7777777777777778,\"#fb9f3a\"],[0.8888888888888888,\"#fdca26\"],[1.0,\"#f0f921\"]],\"sequentialminus\":[[0.0,\"#0d0887\"],[0.1111111111111111,\"#46039f\"],[0.2222222222222222,\"#7201a8\"],[0.3333333333333333,\"#9c179e\"],[0.4444444444444444,\"#bd3786\"],[0.5555555555555556,\"#d8576b\"],[0.6666666666666666,\"#ed7953\"],[0.7777777777777778,\"#fb9f3a\"],[0.8888888888888888,\"#fdca26\"],[1.0,\"#f0f921\"]],\"diverging\":[[0,\"#8e0152\"],[0.1,\"#c51b7d\"],[0.2,\"#de77ae\"],[0.3,\"#f1b6da\"],[0.4,\"#fde0ef\"],[0.5,\"#f7f7f7\"],[0.6,\"#e6f5d0\"],[0.7,\"#b8e186\"],[0.8,\"#7fbc41\"],[0.9,\"#4d9221\"],[1,\"#276419\"]]},\"xaxis\":{\"gridcolor\":\"white\",\"linecolor\":\"white\",\"ticks\":\"\",\"title\":{\"standoff\":15},\"zerolinecolor\":\"white\",\"automargin\":true,\"zerolinewidth\":2},\"yaxis\":{\"gridcolor\":\"white\",\"linecolor\":\"white\",\"ticks\":\"\",\"title\":{\"standoff\":15},\"zerolinecolor\":\"white\",\"automargin\":true,\"zerolinewidth\":2},\"scene\":{\"xaxis\":{\"backgroundcolor\":\"#E5ECF6\",\"gridcolor\":\"white\",\"linecolor\":\"white\",\"showbackground\":true,\"ticks\":\"\",\"zerolinecolor\":\"white\",\"gridwidth\":2},\"yaxis\":{\"backgroundcolor\":\"#E5ECF6\",\"gridcolor\":\"white\",\"linecolor\":\"white\",\"showbackground\":true,\"ticks\":\"\",\"zerolinecolor\":\"white\",\"gridwidth\":2},\"zaxis\":{\"backgroundcolor\":\"#E5ECF6\",\"gridcolor\":\"white\",\"linecolor\":\"white\",\"showbackground\":true,\"ticks\":\"\",\"zerolinecolor\":\"white\",\"gridwidth\":2}},\"shapedefaults\":{\"line\":{\"color\":\"#2a3f5f\"}},\"annotationdefaults\":{\"arrowcolor\":\"#2a3f5f\",\"arrowhead\":0,\"arrowwidth\":1},\"geo\":{\"bgcolor\":\"white\",\"landcolor\":\"#E5ECF6\",\"subunitcolor\":\"white\",\"showland\":true,\"showlakes\":true,\"lakecolor\":\"white\"},\"title\":{\"x\":0.05},\"mapbox\":{\"style\":\"light\"}}},\"xaxis\":{\"anchor\":\"y\",\"domain\":[0.0,1.0],\"title\":{\"text\":\"closest_five_public_avg\"}},\"yaxis\":{\"anchor\":\"x\",\"domain\":[0.0,1.0],\"title\":{\"text\":\"PERCENT_3_OR_ABOVE\"},\"categoryorder\":\"array\",\"categoryarray\":[\"71.875\",\"42.424242424\",\"53.333333333\",\"49.743589744\",\"33.054393305\",\"74.733096085\",\"67.993273543\",\"70.89678511\",\"69.512195122\",\"55\",\"52.727272727\",\"54.918032787\",\"52.941176471\",\"47.959183673\",\"39.240506329\",\"49.101796407\",\"39.051094891\",\"23.722627737\",\"26.490066225\",\"45.862884161\",\"70\",\"52.443384982\",\"43.689320388\",\"66.666666667\",\"64.401294498\",\"19.047619048\",\"70.983213429\",\"40.822467402\",\"65.967365967\",\"69.714285714\",\"47.826086957\",\"63.566535188\",\"43.835616438\",\"27.272727273\",\"52.380952381\",\"50.54200542\",\"28.421052632\",\"53.459119497\",\"55.628415301\",\"65.517241379\",\"37.435897436\",\"66.371681416\",\"44.171779141\",\"43.561643836\",\"58.148274684\",\"29.268292683\",\"24.503311258\",\"47.368421053\",\"44.751381215\",\"47.535211268\",\"70.880587058\",\"31.182795699\",\"57.073954984\",\"33.766233766\",\"60.200668896\",\"60.994764398\",\"50.842696629\",\"60.416666667\",\"50.238095238\",\"43.75\",\"38.372093023\",\"56.060606061\",\"37.931034483\",\"62.561576355\",\"53.249475891\",\"33.333333333\",\"75\",\"51.612903226\",\"57.837837838\",\"65.241295052\",\"50.739957717\",\"59.070191431\",\"57.357357357\",\"45\",\"43.269230769\",\"36.956521739\",\"58.695652174\",\"45.454545455\",0,\"53.191489362\",\"60.409924488\"]},\"legend\":{\"title\":{\"text\":\"PERCENT_3_OR_ABOVE\"},\"tracegroupgap\":0},\"title\":{\"text\":\"Pass rate vs Avg. distance to closest 5 public universities\"},\"height\":600,\"width\":800},                        {\"responsive\": true}                    ).then(function(){\n",
       "                            \n",
       "var gd = document.getElementById('9d1c4c86-6f7c-48b6-9ae8-370183936e93');\n",
       "var x = new MutationObserver(function (mutations, observer) {{\n",
       "        var display = window.getComputedStyle(gd).display;\n",
       "        if (!display || display === 'none') {{\n",
       "            console.log([gd, 'removed!']);\n",
       "            Plotly.purge(gd);\n",
       "            observer.disconnect();\n",
       "        }}\n",
       "}});\n",
       "\n",
       "// Listen for the removal of the full notebook cells\n",
       "var notebookContainer = gd.closest('#notebook-container');\n",
       "if (notebookContainer) {{\n",
       "    x.observe(notebookContainer, {childList: true});\n",
       "}}\n",
       "\n",
       "// Listen for the clearing of the current output cell\n",
       "var outputEl = gd.closest('.output');\n",
       "if (outputEl) {{\n",
       "    x.observe(outputEl, {childList: true});\n",
       "}}\n",
       "\n",
       "                        })                };                });            </script>        </div>"
      ]
     },
     "metadata": {},
     "output_type": "display_data"
    }
   ],
   "source": [
    "fig = px.scatter(data_frame=northcarolina20,x='closest_five_public_avg', y='PERCENT_3_OR_ABOVE',trendline='ols',trendline_color_override='darkblue',width=800, height=600,\n",
    "                 color='PERCENT_3_OR_ABOVE',title='Pass rate vs Avg. distance to closest 5 public universities')\n",
    "fig.show()\n",
    "with open('data/NC_pickled/NC_AP_pass_rate_by_counties_vs_avg._dist_public.pkl', 'wb') as f:\n",
    "    pickle.dump(fig, f)"
   ]
  },
  {
   "cell_type": "code",
   "execution_count": 70,
   "id": "8ee6a987-cf28-4e32-87d4-e06ebd631cb6",
   "metadata": {},
   "outputs": [
    {
     "ename": "ValueError",
     "evalue": "Value of 'x' is not the name of a column in 'data_frame'. Expected one of ['Unnamed: 0', 'County', 'EXAM_COUNT', 'EXAMS_3_OR_ABOVE', 'PERCENT_3_OR_ABOVE', 'Year', 'lat', 'lng', 'population', 'per_capita_income', 'closest_five_r1r2_avg', 'closest_five_public_avg', 'closest_five_private_notprofit_avg', 'closest_five_landgrnt_avg', 'closest_five_stem_avg', 'closest_five_avg_enrollment_r1r2', 'closest_five_avg_enrollment_public', 'closest_five_avg_enrollment_private_nfp', 'closest_five_avg_enrollment_landgrnt', 'closest_five_avg_enrollment_stem', 'closest_five_avg_dormrooms_r1r2', 'closest_five_avg_dormrooms_public', 'closest_five_avg_dormrooms_private_nfp', 'closest_five_avg_dormrooms_landgrant', 'closest_five_avg_dormrooms_stem'] but received: closest_five_private_nfp_avg",
     "output_type": "error",
     "traceback": [
      "\u001b[1;31m---------------------------------------------------------------------------\u001b[0m",
      "\u001b[1;31mValueError\u001b[0m                                Traceback (most recent call last)",
      "Cell \u001b[1;32mIn[70], line 1\u001b[0m\n\u001b[1;32m----> 1\u001b[0m fig \u001b[38;5;241m=\u001b[39m \u001b[43mpx\u001b[49m\u001b[38;5;241;43m.\u001b[39;49m\u001b[43mscatter\u001b[49m\u001b[43m(\u001b[49m\u001b[43mdata_frame\u001b[49m\u001b[38;5;241;43m=\u001b[39;49m\u001b[43mnorthcarolina20\u001b[49m\u001b[43m,\u001b[49m\u001b[43mx\u001b[49m\u001b[38;5;241;43m=\u001b[39;49m\u001b[38;5;124;43m'\u001b[39;49m\u001b[38;5;124;43mclosest_five_private_nfp_avg\u001b[39;49m\u001b[38;5;124;43m'\u001b[39;49m\u001b[43m,\u001b[49m\u001b[43m \u001b[49m\u001b[43my\u001b[49m\u001b[38;5;241;43m=\u001b[39;49m\u001b[38;5;124;43m'\u001b[39;49m\u001b[38;5;124;43mPERCENT_3_OR_ABOVE\u001b[39;49m\u001b[38;5;124;43m'\u001b[39;49m\u001b[43m,\u001b[49m\u001b[43mtrendline\u001b[49m\u001b[38;5;241;43m=\u001b[39;49m\u001b[38;5;124;43m'\u001b[39;49m\u001b[38;5;124;43mols\u001b[39;49m\u001b[38;5;124;43m'\u001b[39;49m\u001b[43m,\u001b[49m\u001b[43mtrendline_color_override\u001b[49m\u001b[38;5;241;43m=\u001b[39;49m\u001b[38;5;124;43m'\u001b[39;49m\u001b[38;5;124;43mdarkblue\u001b[39;49m\u001b[38;5;124;43m'\u001b[39;49m\u001b[43m,\u001b[49m\u001b[43mwidth\u001b[49m\u001b[38;5;241;43m=\u001b[39;49m\u001b[38;5;241;43m800\u001b[39;49m\u001b[43m,\u001b[49m\u001b[43m \u001b[49m\u001b[43mheight\u001b[49m\u001b[38;5;241;43m=\u001b[39;49m\u001b[38;5;241;43m600\u001b[39;49m\u001b[43m,\u001b[49m\n\u001b[0;32m      2\u001b[0m \u001b[43m                 \u001b[49m\u001b[43mcolor\u001b[49m\u001b[38;5;241;43m=\u001b[39;49m\u001b[38;5;124;43m'\u001b[39;49m\u001b[38;5;124;43mPERCENT_3_OR_ABOVE\u001b[39;49m\u001b[38;5;124;43m'\u001b[39;49m\u001b[43m,\u001b[49m\u001b[43mtitle\u001b[49m\u001b[38;5;241;43m=\u001b[39;49m\u001b[38;5;124;43m'\u001b[39;49m\u001b[38;5;124;43mPass rate vs Avg. distance to closest five private universities\u001b[39;49m\u001b[38;5;124;43m'\u001b[39;49m\u001b[43m)\u001b[49m\n\u001b[0;32m      3\u001b[0m fig\u001b[38;5;241m.\u001b[39mshow()\n\u001b[0;32m      4\u001b[0m \u001b[38;5;28;01mwith\u001b[39;00m \u001b[38;5;28mopen\u001b[39m(\u001b[38;5;124m'\u001b[39m\u001b[38;5;124mdata/NC_pickled/NC_AP_pass_rate_by_counties_vs_avg_five_private.pkl\u001b[39m\u001b[38;5;124m'\u001b[39m, \u001b[38;5;124m'\u001b[39m\u001b[38;5;124mwb\u001b[39m\u001b[38;5;124m'\u001b[39m) \u001b[38;5;28;01mas\u001b[39;00m f:\n",
      "File \u001b[1;32m~\\.conda\\envs\\ww-env\\Lib\\site-packages\\plotly\\express\\_chart_types.py:66\u001b[0m, in \u001b[0;36mscatter\u001b[1;34m(data_frame, x, y, color, symbol, size, hover_name, hover_data, custom_data, text, facet_row, facet_col, facet_col_wrap, facet_row_spacing, facet_col_spacing, error_x, error_x_minus, error_y, error_y_minus, animation_frame, animation_group, category_orders, labels, orientation, color_discrete_sequence, color_discrete_map, color_continuous_scale, range_color, color_continuous_midpoint, symbol_sequence, symbol_map, opacity, size_max, marginal_x, marginal_y, trendline, trendline_options, trendline_color_override, trendline_scope, log_x, log_y, range_x, range_y, render_mode, title, template, width, height)\u001b[0m\n\u001b[0;32m     12\u001b[0m \u001b[38;5;28;01mdef\u001b[39;00m \u001b[38;5;21mscatter\u001b[39m(\n\u001b[0;32m     13\u001b[0m     data_frame\u001b[38;5;241m=\u001b[39m\u001b[38;5;28;01mNone\u001b[39;00m,\n\u001b[0;32m     14\u001b[0m     x\u001b[38;5;241m=\u001b[39m\u001b[38;5;28;01mNone\u001b[39;00m,\n\u001b[1;32m   (...)\u001b[0m\n\u001b[0;32m     60\u001b[0m     height\u001b[38;5;241m=\u001b[39m\u001b[38;5;28;01mNone\u001b[39;00m,\n\u001b[0;32m     61\u001b[0m ) \u001b[38;5;241m-\u001b[39m\u001b[38;5;241m>\u001b[39m go\u001b[38;5;241m.\u001b[39mFigure:\n\u001b[0;32m     62\u001b[0m \u001b[38;5;250m    \u001b[39m\u001b[38;5;124;03m\"\"\"\u001b[39;00m\n\u001b[0;32m     63\u001b[0m \u001b[38;5;124;03m    In a scatter plot, each row of `data_frame` is represented by a symbol\u001b[39;00m\n\u001b[0;32m     64\u001b[0m \u001b[38;5;124;03m    mark in 2D space.\u001b[39;00m\n\u001b[0;32m     65\u001b[0m \u001b[38;5;124;03m    \"\"\"\u001b[39;00m\n\u001b[1;32m---> 66\u001b[0m     \u001b[38;5;28;01mreturn\u001b[39;00m \u001b[43mmake_figure\u001b[49m\u001b[43m(\u001b[49m\u001b[43margs\u001b[49m\u001b[38;5;241;43m=\u001b[39;49m\u001b[38;5;28;43mlocals\u001b[39;49m\u001b[43m(\u001b[49m\u001b[43m)\u001b[49m\u001b[43m,\u001b[49m\u001b[43m \u001b[49m\u001b[43mconstructor\u001b[49m\u001b[38;5;241;43m=\u001b[39;49m\u001b[43mgo\u001b[49m\u001b[38;5;241;43m.\u001b[39;49m\u001b[43mScatter\u001b[49m\u001b[43m)\u001b[49m\n",
      "File \u001b[1;32m~\\.conda\\envs\\ww-env\\Lib\\site-packages\\plotly\\express\\_core.py:2117\u001b[0m, in \u001b[0;36mmake_figure\u001b[1;34m(args, constructor, trace_patch, layout_patch)\u001b[0m\n\u001b[0;32m   2114\u001b[0m layout_patch \u001b[38;5;241m=\u001b[39m layout_patch \u001b[38;5;129;01mor\u001b[39;00m {}\n\u001b[0;32m   2115\u001b[0m apply_default_cascade(args)\n\u001b[1;32m-> 2117\u001b[0m args \u001b[38;5;241m=\u001b[39m \u001b[43mbuild_dataframe\u001b[49m\u001b[43m(\u001b[49m\u001b[43margs\u001b[49m\u001b[43m,\u001b[49m\u001b[43m \u001b[49m\u001b[43mconstructor\u001b[49m\u001b[43m)\u001b[49m\n\u001b[0;32m   2118\u001b[0m \u001b[38;5;28;01mif\u001b[39;00m constructor \u001b[38;5;129;01min\u001b[39;00m [go\u001b[38;5;241m.\u001b[39mTreemap, go\u001b[38;5;241m.\u001b[39mSunburst, go\u001b[38;5;241m.\u001b[39mIcicle] \u001b[38;5;129;01mand\u001b[39;00m args[\u001b[38;5;124m\"\u001b[39m\u001b[38;5;124mpath\u001b[39m\u001b[38;5;124m\"\u001b[39m] \u001b[38;5;129;01mis\u001b[39;00m \u001b[38;5;129;01mnot\u001b[39;00m \u001b[38;5;28;01mNone\u001b[39;00m:\n\u001b[0;32m   2119\u001b[0m     args \u001b[38;5;241m=\u001b[39m process_dataframe_hierarchy(args)\n",
      "File \u001b[1;32m~\\.conda\\envs\\ww-env\\Lib\\site-packages\\plotly\\express\\_core.py:1513\u001b[0m, in \u001b[0;36mbuild_dataframe\u001b[1;34m(args, constructor)\u001b[0m\n\u001b[0;32m   1510\u001b[0m     args[\u001b[38;5;124m\"\u001b[39m\u001b[38;5;124mcolor\u001b[39m\u001b[38;5;124m\"\u001b[39m] \u001b[38;5;241m=\u001b[39m \u001b[38;5;28;01mNone\u001b[39;00m\n\u001b[0;32m   1511\u001b[0m \u001b[38;5;66;03m# now that things have been prepped, we do the systematic rewriting of `args`\u001b[39;00m\n\u001b[1;32m-> 1513\u001b[0m df_output, wide_id_vars \u001b[38;5;241m=\u001b[39m \u001b[43mprocess_args_into_dataframe\u001b[49m\u001b[43m(\u001b[49m\n\u001b[0;32m   1514\u001b[0m \u001b[43m    \u001b[49m\u001b[43margs\u001b[49m\u001b[43m,\u001b[49m\u001b[43m \u001b[49m\u001b[43mwide_mode\u001b[49m\u001b[43m,\u001b[49m\u001b[43m \u001b[49m\u001b[43mvar_name\u001b[49m\u001b[43m,\u001b[49m\u001b[43m \u001b[49m\u001b[43mvalue_name\u001b[49m\n\u001b[0;32m   1515\u001b[0m \u001b[43m\u001b[49m\u001b[43m)\u001b[49m\n\u001b[0;32m   1517\u001b[0m \u001b[38;5;66;03m# now that `df_output` exists and `args` contains only references, we complete\u001b[39;00m\n\u001b[0;32m   1518\u001b[0m \u001b[38;5;66;03m# the special-case and wide-mode handling by further rewriting args and/or mutating\u001b[39;00m\n\u001b[0;32m   1519\u001b[0m \u001b[38;5;66;03m# df_output\u001b[39;00m\n\u001b[0;32m   1521\u001b[0m count_name \u001b[38;5;241m=\u001b[39m _escape_col_name(df_output, \u001b[38;5;124m\"\u001b[39m\u001b[38;5;124mcount\u001b[39m\u001b[38;5;124m\"\u001b[39m, [var_name, value_name])\n",
      "File \u001b[1;32m~\\.conda\\envs\\ww-env\\Lib\\site-packages\\plotly\\express\\_core.py:1234\u001b[0m, in \u001b[0;36mprocess_args_into_dataframe\u001b[1;34m(args, wide_mode, var_name, value_name)\u001b[0m\n\u001b[0;32m   1232\u001b[0m         \u001b[38;5;28;01mif\u001b[39;00m argument \u001b[38;5;241m==\u001b[39m \u001b[38;5;124m\"\u001b[39m\u001b[38;5;124mindex\u001b[39m\u001b[38;5;124m\"\u001b[39m:\n\u001b[0;32m   1233\u001b[0m             err_msg \u001b[38;5;241m+\u001b[39m\u001b[38;5;241m=\u001b[39m \u001b[38;5;124m\"\u001b[39m\u001b[38;5;130;01m\\n\u001b[39;00m\u001b[38;5;124m To use the index, pass it in directly as `df.index`.\u001b[39m\u001b[38;5;124m\"\u001b[39m\n\u001b[1;32m-> 1234\u001b[0m         \u001b[38;5;28;01mraise\u001b[39;00m \u001b[38;5;167;01mValueError\u001b[39;00m(err_msg)\n\u001b[0;32m   1235\u001b[0m \u001b[38;5;28;01melif\u001b[39;00m length \u001b[38;5;129;01mand\u001b[39;00m \u001b[38;5;28mlen\u001b[39m(df_input[argument]) \u001b[38;5;241m!=\u001b[39m length:\n\u001b[0;32m   1236\u001b[0m     \u001b[38;5;28;01mraise\u001b[39;00m \u001b[38;5;167;01mValueError\u001b[39;00m(\n\u001b[0;32m   1237\u001b[0m         \u001b[38;5;124m\"\u001b[39m\u001b[38;5;124mAll arguments should have the same length. \u001b[39m\u001b[38;5;124m\"\u001b[39m\n\u001b[0;32m   1238\u001b[0m         \u001b[38;5;124m\"\u001b[39m\u001b[38;5;124mThe length of column argument `df[\u001b[39m\u001b[38;5;132;01m%s\u001b[39;00m\u001b[38;5;124m]` is \u001b[39m\u001b[38;5;132;01m%d\u001b[39;00m\u001b[38;5;124m, whereas the \u001b[39m\u001b[38;5;124m\"\u001b[39m\n\u001b[1;32m   (...)\u001b[0m\n\u001b[0;32m   1245\u001b[0m         )\n\u001b[0;32m   1246\u001b[0m     )\n",
      "\u001b[1;31mValueError\u001b[0m: Value of 'x' is not the name of a column in 'data_frame'. Expected one of ['Unnamed: 0', 'County', 'EXAM_COUNT', 'EXAMS_3_OR_ABOVE', 'PERCENT_3_OR_ABOVE', 'Year', 'lat', 'lng', 'population', 'per_capita_income', 'closest_five_r1r2_avg', 'closest_five_public_avg', 'closest_five_private_notprofit_avg', 'closest_five_landgrnt_avg', 'closest_five_stem_avg', 'closest_five_avg_enrollment_r1r2', 'closest_five_avg_enrollment_public', 'closest_five_avg_enrollment_private_nfp', 'closest_five_avg_enrollment_landgrnt', 'closest_five_avg_enrollment_stem', 'closest_five_avg_dormrooms_r1r2', 'closest_five_avg_dormrooms_public', 'closest_five_avg_dormrooms_private_nfp', 'closest_five_avg_dormrooms_landgrant', 'closest_five_avg_dormrooms_stem'] but received: closest_five_private_nfp_avg"
     ]
    }
   ],
   "source": [
    "\n",
    "fig = px.scatter(data_frame=northcarolina20,x='closest_five_private_nfp_avg', y='PERCENT_3_OR_ABOVE',trendline='ols',trendline_color_override='darkblue',width=800, height=600,\n",
    "                 color='PERCENT_3_OR_ABOVE',title='Pass rate vs Avg. distance to closest five private universities')\n",
    "fig.show()\n",
    "with open('data/NC_pickled/NC_AP_pass_rate_by_counties_vs_avg_five_private.pkl', 'wb') as f:\n",
    "    pickle.dump(fig, f)"
   ]
  },
  {
   "cell_type": "code",
   "execution_count": null,
   "id": "d631edbb-831c-4933-81ca-3d0966078e83",
   "metadata": {},
   "outputs": [],
   "source": []
  }
 ],
 "metadata": {
  "kernelspec": {
   "display_name": "Python 3 (ipykernel)",
   "language": "python",
   "name": "python3"
  },
  "language_info": {
   "codemirror_mode": {
    "name": "ipython",
    "version": 3
   },
   "file_extension": ".py",
   "mimetype": "text/x-python",
   "name": "python",
   "nbconvert_exporter": "python",
   "pygments_lexer": "ipython3",
   "version": "3.12.7"
  }
 },
 "nbformat": 4,
 "nbformat_minor": 5
}
